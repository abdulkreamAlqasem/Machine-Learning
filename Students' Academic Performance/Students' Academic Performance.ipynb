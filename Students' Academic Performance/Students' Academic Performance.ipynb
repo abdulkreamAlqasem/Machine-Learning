{
 "cells": [
  {
   "cell_type": "code",
   "execution_count": 27,
   "id": "e377fe08",
   "metadata": {},
   "outputs": [],
   "source": [
    "#from IPython.core.interactiveshell import InteractiveShell  \n",
    "#InteractiveShell.ast_node_interactivity = \"all\""
   ]
  },
  {
   "cell_type": "code",
   "execution_count": 57,
   "id": "7a81c3c5",
   "metadata": {},
   "outputs": [],
   "source": [
    "#To revert to the original setting :\n",
    "\n",
    "#InteractiveShell.ast_node_interactivity = \"last_expr\"\n"
   ]
  },
  {
   "cell_type": "markdown",
   "id": "ac8ea789",
   "metadata": {},
   "source": [
    "# i will come back after less than ten days to complete this project and do some process like:\n",
    "## 1- normlize \n",
    "## 2- solve overfiting \n",
    "## 3- do ensamble tec\n",
    "## 4- try do nural newtork \n",
    "## 5- delete some feature that makes model hard to know the reationship between each feature \n",
    "## 6- solve the problem of target class\n",
    "## 7- do feature selection "
   ]
  },
  {
   "cell_type": "markdown",
   "id": "71ad8bc7",
   "metadata": {},
   "source": [
    "# 1. Import libraries"
   ]
  },
  {
   "cell_type": "code",
   "execution_count": 14,
   "id": "c233622e",
   "metadata": {},
   "outputs": [],
   "source": [
    "import pandas as pd \n",
    "import matplotlib.pyplot as plt \n",
    "import numpy as np \n",
    "import seaborn as sns\n",
    "import scipy.stats\n",
    "#import dabl\n",
    "#import pandas_profiling \n",
    "from sklearn.preprocessing import LabelEncoder\n",
    "from xgboost import XGBClassifier, plot_importance\n",
    "\n",
    "\n",
    "# Remove warnings\n",
    "import warnings\n",
    "warnings.filterwarnings('ignore')"
   ]
  },
  {
   "cell_type": "code",
   "execution_count": 15,
   "id": "d7375bf4",
   "metadata": {
    "scrolled": true
   },
   "outputs": [],
   "source": [
    "#ec = dabl.SimpleClassifier(random_state=0).fit(data, target_col=\"Class\") "
   ]
  },
  {
   "cell_type": "code",
   "execution_count": 16,
   "id": "382eb5ce",
   "metadata": {},
   "outputs": [],
   "source": [
    "#data = pd.read_csv(\"xAPI-Edu-Data.csv\")"
   ]
  },
  {
   "cell_type": "code",
   "execution_count": 17,
   "id": "ccb69765",
   "metadata": {
    "scrolled": true
   },
   "outputs": [
    {
     "data": {
      "text/html": [
       "<div>\n",
       "<style scoped>\n",
       "    .dataframe tbody tr th:only-of-type {\n",
       "        vertical-align: middle;\n",
       "    }\n",
       "\n",
       "    .dataframe tbody tr th {\n",
       "        vertical-align: top;\n",
       "    }\n",
       "\n",
       "    .dataframe thead th {\n",
       "        text-align: right;\n",
       "    }\n",
       "</style>\n",
       "<table border=\"1\" class=\"dataframe\">\n",
       "  <thead>\n",
       "    <tr style=\"text-align: right;\">\n",
       "      <th></th>\n",
       "      <th>gender</th>\n",
       "      <th>NationalITy</th>\n",
       "      <th>PlaceofBirth</th>\n",
       "      <th>StageID</th>\n",
       "      <th>GradeID</th>\n",
       "      <th>SectionID</th>\n",
       "      <th>Topic</th>\n",
       "      <th>Semester</th>\n",
       "      <th>Relation</th>\n",
       "      <th>raisedhands</th>\n",
       "      <th>VisITedResources</th>\n",
       "      <th>AnnouncementsView</th>\n",
       "      <th>Discussion</th>\n",
       "      <th>ParentAnsweringSurvey</th>\n",
       "      <th>ParentschoolSatisfaction</th>\n",
       "      <th>StudentAbsenceDays</th>\n",
       "      <th>Class</th>\n",
       "    </tr>\n",
       "  </thead>\n",
       "  <tbody>\n",
       "    <tr>\n",
       "      <th>0</th>\n",
       "      <td>M</td>\n",
       "      <td>KW</td>\n",
       "      <td>KuwaIT</td>\n",
       "      <td>lowerlevel</td>\n",
       "      <td>G-04</td>\n",
       "      <td>A</td>\n",
       "      <td>IT</td>\n",
       "      <td>F</td>\n",
       "      <td>Father</td>\n",
       "      <td>15</td>\n",
       "      <td>16</td>\n",
       "      <td>2</td>\n",
       "      <td>20</td>\n",
       "      <td>Yes</td>\n",
       "      <td>Good</td>\n",
       "      <td>Under-7</td>\n",
       "      <td>M</td>\n",
       "    </tr>\n",
       "    <tr>\n",
       "      <th>1</th>\n",
       "      <td>M</td>\n",
       "      <td>KW</td>\n",
       "      <td>KuwaIT</td>\n",
       "      <td>lowerlevel</td>\n",
       "      <td>G-04</td>\n",
       "      <td>A</td>\n",
       "      <td>IT</td>\n",
       "      <td>F</td>\n",
       "      <td>Father</td>\n",
       "      <td>20</td>\n",
       "      <td>20</td>\n",
       "      <td>3</td>\n",
       "      <td>25</td>\n",
       "      <td>Yes</td>\n",
       "      <td>Good</td>\n",
       "      <td>Under-7</td>\n",
       "      <td>M</td>\n",
       "    </tr>\n",
       "    <tr>\n",
       "      <th>2</th>\n",
       "      <td>M</td>\n",
       "      <td>KW</td>\n",
       "      <td>KuwaIT</td>\n",
       "      <td>lowerlevel</td>\n",
       "      <td>G-04</td>\n",
       "      <td>A</td>\n",
       "      <td>IT</td>\n",
       "      <td>F</td>\n",
       "      <td>Father</td>\n",
       "      <td>10</td>\n",
       "      <td>7</td>\n",
       "      <td>0</td>\n",
       "      <td>30</td>\n",
       "      <td>No</td>\n",
       "      <td>Bad</td>\n",
       "      <td>Above-7</td>\n",
       "      <td>L</td>\n",
       "    </tr>\n",
       "    <tr>\n",
       "      <th>3</th>\n",
       "      <td>M</td>\n",
       "      <td>KW</td>\n",
       "      <td>KuwaIT</td>\n",
       "      <td>lowerlevel</td>\n",
       "      <td>G-04</td>\n",
       "      <td>A</td>\n",
       "      <td>IT</td>\n",
       "      <td>F</td>\n",
       "      <td>Father</td>\n",
       "      <td>30</td>\n",
       "      <td>25</td>\n",
       "      <td>5</td>\n",
       "      <td>35</td>\n",
       "      <td>No</td>\n",
       "      <td>Bad</td>\n",
       "      <td>Above-7</td>\n",
       "      <td>L</td>\n",
       "    </tr>\n",
       "    <tr>\n",
       "      <th>4</th>\n",
       "      <td>M</td>\n",
       "      <td>KW</td>\n",
       "      <td>KuwaIT</td>\n",
       "      <td>lowerlevel</td>\n",
       "      <td>G-04</td>\n",
       "      <td>A</td>\n",
       "      <td>IT</td>\n",
       "      <td>F</td>\n",
       "      <td>Father</td>\n",
       "      <td>40</td>\n",
       "      <td>50</td>\n",
       "      <td>12</td>\n",
       "      <td>50</td>\n",
       "      <td>No</td>\n",
       "      <td>Bad</td>\n",
       "      <td>Above-7</td>\n",
       "      <td>M</td>\n",
       "    </tr>\n",
       "  </tbody>\n",
       "</table>\n",
       "</div>"
      ],
      "text/plain": [
       "  gender NationalITy PlaceofBirth     StageID GradeID SectionID Topic  \\\n",
       "0      M          KW       KuwaIT  lowerlevel    G-04         A    IT   \n",
       "1      M          KW       KuwaIT  lowerlevel    G-04         A    IT   \n",
       "2      M          KW       KuwaIT  lowerlevel    G-04         A    IT   \n",
       "3      M          KW       KuwaIT  lowerlevel    G-04         A    IT   \n",
       "4      M          KW       KuwaIT  lowerlevel    G-04         A    IT   \n",
       "\n",
       "  Semester Relation  raisedhands  VisITedResources  AnnouncementsView  \\\n",
       "0        F   Father           15                16                  2   \n",
       "1        F   Father           20                20                  3   \n",
       "2        F   Father           10                 7                  0   \n",
       "3        F   Father           30                25                  5   \n",
       "4        F   Father           40                50                 12   \n",
       "\n",
       "   Discussion ParentAnsweringSurvey ParentschoolSatisfaction  \\\n",
       "0          20                   Yes                     Good   \n",
       "1          25                   Yes                     Good   \n",
       "2          30                    No                      Bad   \n",
       "3          35                    No                      Bad   \n",
       "4          50                    No                      Bad   \n",
       "\n",
       "  StudentAbsenceDays Class  \n",
       "0            Under-7     M  \n",
       "1            Under-7     M  \n",
       "2            Above-7     L  \n",
       "3            Above-7     L  \n",
       "4            Above-7     M  "
      ]
     },
     "execution_count": 17,
     "metadata": {},
     "output_type": "execute_result"
    }
   ],
   "source": [
    "#data.head()"
   ]
  },
  {
   "cell_type": "code",
   "execution_count": 18,
   "id": "f45c043b",
   "metadata": {
    "scrolled": true
   },
   "outputs": [],
   "source": [
    "#data.profile_report()"
   ]
  },
  {
   "cell_type": "code",
   "execution_count": 793,
   "id": "0b3b7558",
   "metadata": {},
   "outputs": [],
   "source": [
    "# profile = data.profile_report(title='Pandas Profiling Report')\n",
    "# profile.to_file(output_file=\"student academic preformence data profiling.html\")"
   ]
  },
  {
   "cell_type": "markdown",
   "id": "4bafa7af",
   "metadata": {},
   "source": [
    "Profiling is a process that helps us in understanding our data and PandasProfiling is python package which does exactly that. It is a simple and fast way to perform exploratory data analysis of a Pandas Dataframe. The pandasdf.describe()and df.info()functions are normally used as a first step in the EDA process. However, it only gives a very basic overview of the data and doesn’t help much in the case of large data sets. The Pandas Profiling function, on the other hand, extends the pandas DataFrame withdf.profile_report() for quick data analysis. It displays a lot of information with a single line of code and that too in an interactive HTML report."
   ]
  },
  {
   "cell_type": "markdown",
   "id": "78897eae",
   "metadata": {},
   "source": [
    "# 2. read data\n"
   ]
  },
  {
   "cell_type": "code",
   "execution_count": 19,
   "id": "4695ab47",
   "metadata": {},
   "outputs": [],
   "source": [
    "data = pd.read_csv(\"xAPI-Edu-Data.csv\")"
   ]
  },
  {
   "cell_type": "code",
   "execution_count": 20,
   "id": "a70646ba",
   "metadata": {},
   "outputs": [
    {
     "data": {
      "text/html": [
       "<div>\n",
       "<style scoped>\n",
       "    .dataframe tbody tr th:only-of-type {\n",
       "        vertical-align: middle;\n",
       "    }\n",
       "\n",
       "    .dataframe tbody tr th {\n",
       "        vertical-align: top;\n",
       "    }\n",
       "\n",
       "    .dataframe thead th {\n",
       "        text-align: right;\n",
       "    }\n",
       "</style>\n",
       "<table border=\"1\" class=\"dataframe\">\n",
       "  <thead>\n",
       "    <tr style=\"text-align: right;\">\n",
       "      <th></th>\n",
       "      <th>gender</th>\n",
       "      <th>NationalITy</th>\n",
       "      <th>PlaceofBirth</th>\n",
       "      <th>StageID</th>\n",
       "      <th>GradeID</th>\n",
       "      <th>SectionID</th>\n",
       "      <th>Topic</th>\n",
       "      <th>Semester</th>\n",
       "      <th>Relation</th>\n",
       "      <th>raisedhands</th>\n",
       "      <th>VisITedResources</th>\n",
       "      <th>AnnouncementsView</th>\n",
       "      <th>Discussion</th>\n",
       "      <th>ParentAnsweringSurvey</th>\n",
       "      <th>ParentschoolSatisfaction</th>\n",
       "      <th>StudentAbsenceDays</th>\n",
       "      <th>Class</th>\n",
       "    </tr>\n",
       "  </thead>\n",
       "  <tbody>\n",
       "    <tr>\n",
       "      <th>0</th>\n",
       "      <td>M</td>\n",
       "      <td>KW</td>\n",
       "      <td>KuwaIT</td>\n",
       "      <td>lowerlevel</td>\n",
       "      <td>G-04</td>\n",
       "      <td>A</td>\n",
       "      <td>IT</td>\n",
       "      <td>F</td>\n",
       "      <td>Father</td>\n",
       "      <td>15</td>\n",
       "      <td>16</td>\n",
       "      <td>2</td>\n",
       "      <td>20</td>\n",
       "      <td>Yes</td>\n",
       "      <td>Good</td>\n",
       "      <td>Under-7</td>\n",
       "      <td>M</td>\n",
       "    </tr>\n",
       "    <tr>\n",
       "      <th>1</th>\n",
       "      <td>M</td>\n",
       "      <td>KW</td>\n",
       "      <td>KuwaIT</td>\n",
       "      <td>lowerlevel</td>\n",
       "      <td>G-04</td>\n",
       "      <td>A</td>\n",
       "      <td>IT</td>\n",
       "      <td>F</td>\n",
       "      <td>Father</td>\n",
       "      <td>20</td>\n",
       "      <td>20</td>\n",
       "      <td>3</td>\n",
       "      <td>25</td>\n",
       "      <td>Yes</td>\n",
       "      <td>Good</td>\n",
       "      <td>Under-7</td>\n",
       "      <td>M</td>\n",
       "    </tr>\n",
       "    <tr>\n",
       "      <th>2</th>\n",
       "      <td>M</td>\n",
       "      <td>KW</td>\n",
       "      <td>KuwaIT</td>\n",
       "      <td>lowerlevel</td>\n",
       "      <td>G-04</td>\n",
       "      <td>A</td>\n",
       "      <td>IT</td>\n",
       "      <td>F</td>\n",
       "      <td>Father</td>\n",
       "      <td>10</td>\n",
       "      <td>7</td>\n",
       "      <td>0</td>\n",
       "      <td>30</td>\n",
       "      <td>No</td>\n",
       "      <td>Bad</td>\n",
       "      <td>Above-7</td>\n",
       "      <td>L</td>\n",
       "    </tr>\n",
       "    <tr>\n",
       "      <th>3</th>\n",
       "      <td>M</td>\n",
       "      <td>KW</td>\n",
       "      <td>KuwaIT</td>\n",
       "      <td>lowerlevel</td>\n",
       "      <td>G-04</td>\n",
       "      <td>A</td>\n",
       "      <td>IT</td>\n",
       "      <td>F</td>\n",
       "      <td>Father</td>\n",
       "      <td>30</td>\n",
       "      <td>25</td>\n",
       "      <td>5</td>\n",
       "      <td>35</td>\n",
       "      <td>No</td>\n",
       "      <td>Bad</td>\n",
       "      <td>Above-7</td>\n",
       "      <td>L</td>\n",
       "    </tr>\n",
       "    <tr>\n",
       "      <th>4</th>\n",
       "      <td>M</td>\n",
       "      <td>KW</td>\n",
       "      <td>KuwaIT</td>\n",
       "      <td>lowerlevel</td>\n",
       "      <td>G-04</td>\n",
       "      <td>A</td>\n",
       "      <td>IT</td>\n",
       "      <td>F</td>\n",
       "      <td>Father</td>\n",
       "      <td>40</td>\n",
       "      <td>50</td>\n",
       "      <td>12</td>\n",
       "      <td>50</td>\n",
       "      <td>No</td>\n",
       "      <td>Bad</td>\n",
       "      <td>Above-7</td>\n",
       "      <td>M</td>\n",
       "    </tr>\n",
       "  </tbody>\n",
       "</table>\n",
       "</div>"
      ],
      "text/plain": [
       "  gender NationalITy PlaceofBirth     StageID GradeID SectionID Topic  \\\n",
       "0      M          KW       KuwaIT  lowerlevel    G-04         A    IT   \n",
       "1      M          KW       KuwaIT  lowerlevel    G-04         A    IT   \n",
       "2      M          KW       KuwaIT  lowerlevel    G-04         A    IT   \n",
       "3      M          KW       KuwaIT  lowerlevel    G-04         A    IT   \n",
       "4      M          KW       KuwaIT  lowerlevel    G-04         A    IT   \n",
       "\n",
       "  Semester Relation  raisedhands  VisITedResources  AnnouncementsView  \\\n",
       "0        F   Father           15                16                  2   \n",
       "1        F   Father           20                20                  3   \n",
       "2        F   Father           10                 7                  0   \n",
       "3        F   Father           30                25                  5   \n",
       "4        F   Father           40                50                 12   \n",
       "\n",
       "   Discussion ParentAnsweringSurvey ParentschoolSatisfaction  \\\n",
       "0          20                   Yes                     Good   \n",
       "1          25                   Yes                     Good   \n",
       "2          30                    No                      Bad   \n",
       "3          35                    No                      Bad   \n",
       "4          50                    No                      Bad   \n",
       "\n",
       "  StudentAbsenceDays Class  \n",
       "0            Under-7     M  \n",
       "1            Under-7     M  \n",
       "2            Above-7     L  \n",
       "3            Above-7     L  \n",
       "4            Above-7     M  "
      ]
     },
     "execution_count": 20,
     "metadata": {},
     "output_type": "execute_result"
    }
   ],
   "source": [
    "data.head()"
   ]
  },
  {
   "cell_type": "markdown",
   "id": "0ee93d66",
   "metadata": {},
   "source": [
    "# 3. Exploratory Data Analysis (EDA)"
   ]
  },
  {
   "cell_type": "code",
   "execution_count": 21,
   "id": "33e26172",
   "metadata": {},
   "outputs": [],
   "source": [
    "#dabl.clean(data, verbose=1)"
   ]
  },
  {
   "cell_type": "code",
   "execution_count": 23,
   "id": "7a241b06",
   "metadata": {},
   "outputs": [
    {
     "name": "stdout",
     "output_type": "stream",
     "text": [
      "<class 'pandas.core.frame.DataFrame'>\n",
      "RangeIndex: 480 entries, 0 to 479\n",
      "Data columns (total 17 columns):\n",
      " #   Column                    Non-Null Count  Dtype \n",
      "---  ------                    --------------  ----- \n",
      " 0   gender                    480 non-null    object\n",
      " 1   NationalITy               480 non-null    object\n",
      " 2   PlaceofBirth              480 non-null    object\n",
      " 3   StageID                   480 non-null    object\n",
      " 4   GradeID                   480 non-null    object\n",
      " 5   SectionID                 480 non-null    object\n",
      " 6   Topic                     480 non-null    object\n",
      " 7   Semester                  480 non-null    object\n",
      " 8   Relation                  480 non-null    object\n",
      " 9   raisedhands               480 non-null    int64 \n",
      " 10  VisITedResources          480 non-null    int64 \n",
      " 11  AnnouncementsView         480 non-null    int64 \n",
      " 12  Discussion                480 non-null    int64 \n",
      " 13  ParentAnsweringSurvey     480 non-null    object\n",
      " 14  ParentschoolSatisfaction  480 non-null    object\n",
      " 15  StudentAbsenceDays        480 non-null    object\n",
      " 16  Class                     480 non-null    object\n",
      "dtypes: int64(4), object(13)\n",
      "memory usage: 63.9+ KB\n"
     ]
    }
   ],
   "source": [
    "data.info()"
   ]
  },
  {
   "cell_type": "markdown",
   "id": "bc04e45e",
   "metadata": {},
   "source": [
    "### 3.1 Categorical Features"
   ]
  },
  {
   "cell_type": "code",
   "execution_count": 24,
   "id": "68aa84a1",
   "metadata": {},
   "outputs": [
    {
     "data": {
      "text/plain": [
       "gender                       2\n",
       "NationalITy                 14\n",
       "PlaceofBirth                14\n",
       "StageID                      3\n",
       "GradeID                     10\n",
       "SectionID                    3\n",
       "Topic                       12\n",
       "Semester                     2\n",
       "Relation                     2\n",
       "ParentAnsweringSurvey        2\n",
       "ParentschoolSatisfaction     2\n",
       "StudentAbsenceDays           2\n",
       "Class                        3\n",
       "dtype: int64"
      ]
     },
     "execution_count": 24,
     "metadata": {},
     "output_type": "execute_result"
    }
   ],
   "source": [
    "data.select_dtypes('object').apply(pd.Series.nunique, axis = 0)"
   ]
  },
  {
   "cell_type": "code",
   "execution_count": 25,
   "id": "d57871c4",
   "metadata": {},
   "outputs": [],
   "source": [
    "categorical_F = data.select_dtypes(object)"
   ]
  },
  {
   "cell_type": "code",
   "execution_count": 26,
   "id": "5a2b6ce9",
   "metadata": {},
   "outputs": [
    {
     "data": {
      "text/plain": [
       "Index(['gender', 'NationalITy', 'PlaceofBirth', 'StageID', 'GradeID',\n",
       "       'SectionID', 'Topic', 'Semester', 'Relation', 'ParentAnsweringSurvey',\n",
       "       'ParentschoolSatisfaction', 'StudentAbsenceDays', 'Class'],\n",
       "      dtype='object')"
      ]
     },
     "execution_count": 26,
     "metadata": {},
     "output_type": "execute_result"
    }
   ],
   "source": [
    "categorical_F.columns"
   ]
  },
  {
   "cell_type": "code",
   "execution_count": 27,
   "id": "e9523ed3",
   "metadata": {
    "scrolled": false
   },
   "outputs": [
    {
     "data": {
      "text/html": [
       "<div>\n",
       "<style scoped>\n",
       "    .dataframe tbody tr th:only-of-type {\n",
       "        vertical-align: middle;\n",
       "    }\n",
       "\n",
       "    .dataframe tbody tr th {\n",
       "        vertical-align: top;\n",
       "    }\n",
       "\n",
       "    .dataframe thead th {\n",
       "        text-align: right;\n",
       "    }\n",
       "</style>\n",
       "<table border=\"1\" class=\"dataframe\">\n",
       "  <thead>\n",
       "    <tr style=\"text-align: right;\">\n",
       "      <th></th>\n",
       "      <th>gender</th>\n",
       "      <th>NationalITy</th>\n",
       "      <th>PlaceofBirth</th>\n",
       "      <th>StageID</th>\n",
       "      <th>GradeID</th>\n",
       "      <th>SectionID</th>\n",
       "      <th>Topic</th>\n",
       "      <th>Semester</th>\n",
       "      <th>Relation</th>\n",
       "      <th>ParentAnsweringSurvey</th>\n",
       "      <th>ParentschoolSatisfaction</th>\n",
       "      <th>StudentAbsenceDays</th>\n",
       "      <th>Class</th>\n",
       "    </tr>\n",
       "  </thead>\n",
       "  <tbody>\n",
       "    <tr>\n",
       "      <th>count</th>\n",
       "      <td>480</td>\n",
       "      <td>480</td>\n",
       "      <td>480</td>\n",
       "      <td>480</td>\n",
       "      <td>480</td>\n",
       "      <td>480</td>\n",
       "      <td>480</td>\n",
       "      <td>480</td>\n",
       "      <td>480</td>\n",
       "      <td>480</td>\n",
       "      <td>480</td>\n",
       "      <td>480</td>\n",
       "      <td>480</td>\n",
       "    </tr>\n",
       "    <tr>\n",
       "      <th>unique</th>\n",
       "      <td>2</td>\n",
       "      <td>14</td>\n",
       "      <td>14</td>\n",
       "      <td>3</td>\n",
       "      <td>10</td>\n",
       "      <td>3</td>\n",
       "      <td>12</td>\n",
       "      <td>2</td>\n",
       "      <td>2</td>\n",
       "      <td>2</td>\n",
       "      <td>2</td>\n",
       "      <td>2</td>\n",
       "      <td>3</td>\n",
       "    </tr>\n",
       "    <tr>\n",
       "      <th>top</th>\n",
       "      <td>M</td>\n",
       "      <td>KW</td>\n",
       "      <td>KuwaIT</td>\n",
       "      <td>MiddleSchool</td>\n",
       "      <td>G-02</td>\n",
       "      <td>A</td>\n",
       "      <td>IT</td>\n",
       "      <td>F</td>\n",
       "      <td>Father</td>\n",
       "      <td>Yes</td>\n",
       "      <td>Good</td>\n",
       "      <td>Under-7</td>\n",
       "      <td>M</td>\n",
       "    </tr>\n",
       "    <tr>\n",
       "      <th>freq</th>\n",
       "      <td>305</td>\n",
       "      <td>179</td>\n",
       "      <td>180</td>\n",
       "      <td>248</td>\n",
       "      <td>147</td>\n",
       "      <td>283</td>\n",
       "      <td>95</td>\n",
       "      <td>245</td>\n",
       "      <td>283</td>\n",
       "      <td>270</td>\n",
       "      <td>292</td>\n",
       "      <td>289</td>\n",
       "      <td>211</td>\n",
       "    </tr>\n",
       "  </tbody>\n",
       "</table>\n",
       "</div>"
      ],
      "text/plain": [
       "       gender NationalITy PlaceofBirth       StageID GradeID SectionID Topic  \\\n",
       "count     480         480          480           480     480       480   480   \n",
       "unique      2          14           14             3      10         3    12   \n",
       "top         M          KW       KuwaIT  MiddleSchool    G-02         A    IT   \n",
       "freq      305         179          180           248     147       283    95   \n",
       "\n",
       "       Semester Relation ParentAnsweringSurvey ParentschoolSatisfaction  \\\n",
       "count       480      480                   480                      480   \n",
       "unique        2        2                     2                        2   \n",
       "top           F   Father                   Yes                     Good   \n",
       "freq        245      283                   270                      292   \n",
       "\n",
       "       StudentAbsenceDays Class  \n",
       "count                 480   480  \n",
       "unique                  2     3  \n",
       "top               Under-7     M  \n",
       "freq                  289   211  "
      ]
     },
     "execution_count": 27,
     "metadata": {},
     "output_type": "execute_result"
    }
   ],
   "source": [
    "categorical_F.describe()"
   ]
  },
  {
   "cell_type": "markdown",
   "id": "c991624d",
   "metadata": {},
   "source": [
    "#### 3.1.1 gender Features"
   ]
  },
  {
   "cell_type": "code",
   "execution_count": 28,
   "id": "85070b22",
   "metadata": {
    "scrolled": true
   },
   "outputs": [
    {
     "data": {
      "image/png": "[encoded data removed]",
      "text/plain": [
       "<Figure size 432x288 with 1 Axes>"
      ]
     },
     "metadata": {
      "needs_background": "light"
     },
     "output_type": "display_data"
    }
   ],
   "source": [
    "#plt.figure(figsize=(10,10))\n",
    "s = sns.countplot(x=data[\"gender\"], hue=\"Class\", data=data)\n",
    "sizes=[]\n",
    "for p in s.patches:\n",
    "    height = p.get_height()\n",
    "    sizes.append(height)\n",
    "    s.text(p.get_x()+p.get_width()/2.,\n",
    "            height + 3,\n",
    "            '{:1.2f}%'.format(height/len(data)*100),\n",
    "            ha=\"center\", fontsize=13)"
   ]
  },
  {
   "cell_type": "code",
   "execution_count": 29,
   "id": "914aeeee",
   "metadata": {
    "scrolled": false
   },
   "outputs": [
    {
     "data": {
      "text/plain": [
       "<AxesSubplot:xlabel='count', ylabel='gender'>"
      ]
     },
     "execution_count": 29,
     "metadata": {},
     "output_type": "execute_result"
    },
    {
     "data": {
      "image/png": "[encoded data removed]",
      "text/plain": [
       "<Figure size 432x288 with 1 Axes>"
      ]
     },
     "metadata": {
      "needs_background": "light"
     },
     "output_type": "display_data"
    }
   ],
   "source": [
    "sns.countplot(y=categorical_F[\"gender\"], hue=\"Class\", data=data)"
   ]
  },
  {
   "cell_type": "code",
   "execution_count": 30,
   "id": "756a36f7",
   "metadata": {},
   "outputs": [
    {
     "data": {
      "text/plain": [
       "gender  Class\n",
       "F       M         76\n",
       "        H         75\n",
       "        L         24\n",
       "M       M        135\n",
       "        L        103\n",
       "        H         67\n",
       "Name: Class, dtype: int64"
      ]
     },
     "execution_count": 30,
     "metadata": {},
     "output_type": "execute_result"
    }
   ],
   "source": [
    "data.groupby(categorical_F[\"gender\"])[\"Class\"].value_counts()"
   ]
  },
  {
   "cell_type": "code",
   "execution_count": 31,
   "id": "eb0b7325",
   "metadata": {},
   "outputs": [
    {
     "data": {
      "text/plain": [
       "M    305\n",
       "F    175\n",
       "Name: gender, dtype: int64"
      ]
     },
     "execution_count": 31,
     "metadata": {},
     "output_type": "execute_result"
    }
   ],
   "source": [
    "categorical_F[\"gender\"].value_counts()"
   ]
  },
  {
   "cell_type": "markdown",
   "id": "1a23d88a",
   "metadata": {},
   "source": [
    "#### 3.1.2 NationalITy Features"
   ]
  },
  {
   "cell_type": "code",
   "execution_count": 32,
   "id": "baf25e45",
   "metadata": {},
   "outputs": [
    {
     "data": {
      "text/plain": [
       "<AxesSubplot:xlabel='count', ylabel='NationalITy'>"
      ]
     },
     "execution_count": 32,
     "metadata": {},
     "output_type": "execute_result"
    },
    {
     "data": {
      "image/png": "[encoded data removed]",
      "text/plain": [
       "<Figure size 1080x360 with 1 Axes>"
      ]
     },
     "metadata": {
      "needs_background": "light"
     },
     "output_type": "display_data"
    }
   ],
   "source": [
    "plt.figure(figsize=(15,5))\n",
    "sns.countplot(y=categorical_F[\"NationalITy\"], hue=\"Class\", data=data)"
   ]
  },
  {
   "cell_type": "code",
   "execution_count": 33,
   "id": "f3cfd1f7",
   "metadata": {},
   "outputs": [
    {
     "data": {
      "text/plain": [
       "NationalITy  Class\n",
       "Egypt        M         4\n",
       "             L         3\n",
       "             H         2\n",
       "Iran         M         4\n",
       "             L         2\n",
       "Iraq         H        14\n",
       "             M         8\n",
       "Jordan       M        82\n",
       "             H        53\n",
       "             L        37\n",
       "KW           M        75\n",
       "             L        68\n",
       "             H        36\n",
       "Lybia        L         6\n",
       "Morocco      M         2\n",
       "             H         1\n",
       "             L         1\n",
       "Palestine    M        16\n",
       "             H        12\n",
       "SaudiArabia  H         6\n",
       "             M         4\n",
       "             L         1\n",
       "Syria        M         3\n",
       "             H         2\n",
       "             L         2\n",
       "Tunis        M         5\n",
       "             L         4\n",
       "             H         3\n",
       "USA          H         3\n",
       "             M         2\n",
       "             L         1\n",
       "lebanon      H         9\n",
       "             M         6\n",
       "             L         2\n",
       "venzuela     H         1\n",
       "Name: Class, dtype: int64"
      ]
     },
     "execution_count": 33,
     "metadata": {},
     "output_type": "execute_result"
    }
   ],
   "source": [
    "data.groupby(categorical_F[\"NationalITy\"])[\"Class\"].value_counts()"
   ]
  },
  {
   "cell_type": "code",
   "execution_count": 34,
   "id": "c7064ba0",
   "metadata": {},
   "outputs": [
    {
     "data": {
      "text/plain": [
       "KW             179\n",
       "Jordan         172\n",
       "Palestine       28\n",
       "Iraq            22\n",
       "lebanon         17\n",
       "Tunis           12\n",
       "SaudiArabia     11\n",
       "Egypt            9\n",
       "Syria            7\n",
       "USA              6\n",
       "Iran             6\n",
       "Lybia            6\n",
       "Morocco          4\n",
       "venzuela         1\n",
       "Name: NationalITy, dtype: int64"
      ]
     },
     "execution_count": 34,
     "metadata": {},
     "output_type": "execute_result"
    }
   ],
   "source": [
    "categorical_F[\"NationalITy\"].value_counts()"
   ]
  },
  {
   "cell_type": "markdown",
   "id": "5dde3478",
   "metadata": {},
   "source": [
    "#### 3.1.3 PlaceofBirth Features"
   ]
  },
  {
   "cell_type": "code",
   "execution_count": 35,
   "id": "0c22a469",
   "metadata": {},
   "outputs": [
    {
     "data": {
      "text/plain": [
       "<AxesSubplot:xlabel='count', ylabel='PlaceofBirth'>"
      ]
     },
     "execution_count": 35,
     "metadata": {},
     "output_type": "execute_result"
    },
    {
     "data": {
      "image/png": "[encoded data removed]",
      "text/plain": [
       "<Figure size 1080x648 with 1 Axes>"
      ]
     },
     "metadata": {
      "needs_background": "light"
     },
     "output_type": "display_data"
    }
   ],
   "source": [
    "plt.figure(figsize=(15,9))\n",
    "sns.countplot(y=categorical_F[\"PlaceofBirth\"], hue=\"Class\", data=data)"
   ]
  },
  {
   "cell_type": "code",
   "execution_count": 36,
   "id": "6c3d450e",
   "metadata": {},
   "outputs": [
    {
     "data": {
      "text/plain": [
       "PlaceofBirth  Class\n",
       "Egypt         H         3\n",
       "              L         3\n",
       "              M         3\n",
       "Iran          M         4\n",
       "              L         2\n",
       "Iraq          H        14\n",
       "              M         8\n",
       "Jordan        M        89\n",
       "              H        53\n",
       "              L        34\n",
       "KuwaIT        M        76\n",
       "              L        69\n",
       "              H        35\n",
       "Lybia         L         6\n",
       "Morocco       M         2\n",
       "              H         1\n",
       "              L         1\n",
       "Palestine     H         6\n",
       "              M         4\n",
       "SaudiArabia   H         7\n",
       "              M         5\n",
       "              L         4\n",
       "Syria         M         3\n",
       "              H         2\n",
       "              L         1\n",
       "Tunis         H         3\n",
       "              L         3\n",
       "              M         3\n",
       "USA           M         8\n",
       "              H         6\n",
       "              L         2\n",
       "lebanon       H        11\n",
       "              M         6\n",
       "              L         2\n",
       "venzuela      H         1\n",
       "Name: Class, dtype: int64"
      ]
     },
     "execution_count": 36,
     "metadata": {},
     "output_type": "execute_result"
    }
   ],
   "source": [
    "data.groupby(categorical_F[\"PlaceofBirth\"])[\"Class\"].value_counts()"
   ]
  },
  {
   "cell_type": "code",
   "execution_count": 37,
   "id": "df245a52",
   "metadata": {},
   "outputs": [
    {
     "data": {
      "text/plain": [
       "KuwaIT         180\n",
       "Jordan         176\n",
       "Iraq            22\n",
       "lebanon         19\n",
       "SaudiArabia     16\n",
       "USA             16\n",
       "Palestine       10\n",
       "Egypt            9\n",
       "Tunis            9\n",
       "Iran             6\n",
       "Syria            6\n",
       "Lybia            6\n",
       "Morocco          4\n",
       "venzuela         1\n",
       "Name: PlaceofBirth, dtype: int64"
      ]
     },
     "execution_count": 37,
     "metadata": {},
     "output_type": "execute_result"
    }
   ],
   "source": [
    "categorical_F[\"PlaceofBirth\"].value_counts()"
   ]
  },
  {
   "cell_type": "markdown",
   "id": "2981f807",
   "metadata": {},
   "source": [
    "#### 3.1.4 StageID Features"
   ]
  },
  {
   "cell_type": "code",
   "execution_count": 38,
   "id": "69a26ba4",
   "metadata": {},
   "outputs": [
    {
     "data": {
      "text/plain": [
       "<AxesSubplot:xlabel='count', ylabel='StageID'>"
      ]
     },
     "execution_count": 38,
     "metadata": {},
     "output_type": "execute_result"
    },
    {
     "data": {
      "image/png": "[encoded data removed]",
      "text/plain": [
       "<Figure size 432x288 with 1 Axes>"
      ]
     },
     "metadata": {
      "needs_background": "light"
     },
     "output_type": "display_data"
    }
   ],
   "source": [
    "sns.countplot(y=categorical_F[\"StageID\"], hue=\"Class\", data=data)"
   ]
  },
  {
   "cell_type": "code",
   "execution_count": 39,
   "id": "ef5daefc",
   "metadata": {},
   "outputs": [
    {
     "data": {
      "text/plain": [
       "StageID       Class\n",
       "HighSchool    M         14\n",
       "              H         11\n",
       "              L          8\n",
       "MiddleSchool  M        118\n",
       "              H         76\n",
       "              L         54\n",
       "lowerlevel    M         79\n",
       "              L         65\n",
       "              H         55\n",
       "Name: Class, dtype: int64"
      ]
     },
     "execution_count": 39,
     "metadata": {},
     "output_type": "execute_result"
    }
   ],
   "source": [
    "data.groupby(categorical_F[\"StageID\"])[\"Class\"].value_counts()"
   ]
  },
  {
   "cell_type": "code",
   "execution_count": 40,
   "id": "ffa64be0",
   "metadata": {},
   "outputs": [
    {
     "data": {
      "text/plain": [
       "MiddleSchool    248\n",
       "lowerlevel      199\n",
       "HighSchool       33\n",
       "Name: StageID, dtype: int64"
      ]
     },
     "execution_count": 40,
     "metadata": {},
     "output_type": "execute_result"
    }
   ],
   "source": [
    "categorical_F[\"StageID\"].value_counts()"
   ]
  },
  {
   "cell_type": "markdown",
   "id": "50fad9d6",
   "metadata": {},
   "source": [
    "#### 3.1.5 GradeID Features"
   ]
  },
  {
   "cell_type": "code",
   "execution_count": 41,
   "id": "530e0146",
   "metadata": {},
   "outputs": [
    {
     "data": {
      "text/plain": [
       "<AxesSubplot:xlabel='count', ylabel='GradeID'>"
      ]
     },
     "execution_count": 41,
     "metadata": {},
     "output_type": "execute_result"
    },
    {
     "data": {
      "image/png": "[encoded data removed]",
      "text/plain": [
       "<Figure size 1080x360 with 1 Axes>"
      ]
     },
     "metadata": {
      "needs_background": "light"
     },
     "output_type": "display_data"
    }
   ],
   "source": [
    "plt.figure(figsize=(15,5))\n",
    "sns.countplot(y=categorical_F[\"GradeID\"], hue=\"Class\", data=data)"
   ]
  },
  {
   "cell_type": "code",
   "execution_count": 42,
   "id": "92cc1d8f",
   "metadata": {},
   "outputs": [
    {
     "data": {
      "text/plain": [
       "GradeID  Class\n",
       "G-02     M        56\n",
       "         L        50\n",
       "         H        41\n",
       "G-04     M        23\n",
       "         H        14\n",
       "         L        11\n",
       "G-05     L         3\n",
       "G-06     M        16\n",
       "         H        14\n",
       "         L         2\n",
       "G-07     M        44\n",
       "         H        29\n",
       "         L        28\n",
       "G-08     M        58\n",
       "         H        33\n",
       "         L        25\n",
       "G-09     M         4\n",
       "         L         1\n",
       "G-10     M         2\n",
       "         H         1\n",
       "         L         1\n",
       "G-11     H         6\n",
       "         M         5\n",
       "         L         2\n",
       "G-12     H         4\n",
       "         L         4\n",
       "         M         3\n",
       "Name: Class, dtype: int64"
      ]
     },
     "execution_count": 42,
     "metadata": {},
     "output_type": "execute_result"
    }
   ],
   "source": [
    "data.groupby(categorical_F[\"GradeID\"])[\"Class\"].value_counts()"
   ]
  },
  {
   "cell_type": "code",
   "execution_count": 43,
   "id": "31ef5853",
   "metadata": {},
   "outputs": [
    {
     "data": {
      "text/plain": [
       "G-02    147\n",
       "G-08    116\n",
       "G-07    101\n",
       "G-04     48\n",
       "G-06     32\n",
       "G-11     13\n",
       "G-12     11\n",
       "G-09      5\n",
       "G-10      4\n",
       "G-05      3\n",
       "Name: GradeID, dtype: int64"
      ]
     },
     "execution_count": 43,
     "metadata": {},
     "output_type": "execute_result"
    }
   ],
   "source": [
    "categorical_F[\"GradeID\"].value_counts()"
   ]
  },
  {
   "cell_type": "markdown",
   "id": "a31b7589",
   "metadata": {},
   "source": [
    "#### 3.1.6 SectionID Features"
   ]
  },
  {
   "cell_type": "code",
   "execution_count": 44,
   "id": "09259af5",
   "metadata": {},
   "outputs": [
    {
     "data": {
      "text/plain": [
       "<AxesSubplot:xlabel='count', ylabel='SectionID'>"
      ]
     },
     "execution_count": 44,
     "metadata": {},
     "output_type": "execute_result"
    },
    {
     "data": {
      "image/png": "[encoded data removed]",
      "text/plain": [
       "<Figure size 432x288 with 1 Axes>"
      ]
     },
     "metadata": {
      "needs_background": "light"
     },
     "output_type": "display_data"
    }
   ],
   "source": [
    "sns.countplot(y=categorical_F[\"SectionID\"], hue=\"Class\", data=data)"
   ]
  },
  {
   "cell_type": "code",
   "execution_count": 45,
   "id": "1bf28801",
   "metadata": {},
   "outputs": [
    {
     "data": {
      "text/plain": [
       "SectionID  Class\n",
       "A          M        128\n",
       "           H         84\n",
       "           L         71\n",
       "B          M         66\n",
       "           H         53\n",
       "           L         48\n",
       "C          M         17\n",
       "           L          8\n",
       "           H          5\n",
       "Name: Class, dtype: int64"
      ]
     },
     "execution_count": 45,
     "metadata": {},
     "output_type": "execute_result"
    }
   ],
   "source": [
    "data.groupby(categorical_F[\"SectionID\"])[\"Class\"].value_counts()"
   ]
  },
  {
   "cell_type": "code",
   "execution_count": 46,
   "id": "07056371",
   "metadata": {},
   "outputs": [
    {
     "data": {
      "text/plain": [
       "A    283\n",
       "B    167\n",
       "C     30\n",
       "Name: SectionID, dtype: int64"
      ]
     },
     "execution_count": 46,
     "metadata": {},
     "output_type": "execute_result"
    }
   ],
   "source": [
    "categorical_F[\"SectionID\"].value_counts()"
   ]
  },
  {
   "cell_type": "markdown",
   "id": "49eb7c71",
   "metadata": {},
   "source": [
    "#### 3.1.7 Topic Features"
   ]
  },
  {
   "cell_type": "code",
   "execution_count": 47,
   "id": "07a7ed9b",
   "metadata": {},
   "outputs": [
    {
     "data": {
      "text/plain": [
       "<AxesSubplot:xlabel='count', ylabel='Topic'>"
      ]
     },
     "execution_count": 47,
     "metadata": {},
     "output_type": "execute_result"
    },
    {
     "data": {
      "image/png": "[encoded data removed]",
      "text/plain": [
       "<Figure size 792x576 with 1 Axes>"
      ]
     },
     "metadata": {
      "needs_background": "light"
     },
     "output_type": "display_data"
    }
   ],
   "source": [
    "plt.figure(figsize=(11,8))\n",
    "sns.countplot(y=categorical_F[\"Topic\"], hue=\"Class\", data=data)"
   ]
  },
  {
   "cell_type": "code",
   "execution_count": 48,
   "id": "c037c02d",
   "metadata": {},
   "outputs": [
    {
     "data": {
      "text/plain": [
       "Topic      Class\n",
       "Arabic     M        23\n",
       "           H        19\n",
       "           L        17\n",
       "Biology    H        16\n",
       "           M        10\n",
       "           L         4\n",
       "Chemistry  H        10\n",
       "           L         8\n",
       "           M         6\n",
       "English    M        18\n",
       "           H        17\n",
       "           L        10\n",
       "French     M        29\n",
       "           H        20\n",
       "           L        16\n",
       "Geology    M        18\n",
       "           H         6\n",
       "History    M        12\n",
       "           H         4\n",
       "           L         3\n",
       "IT         M        42\n",
       "           L        38\n",
       "           H        15\n",
       "Math       M         8\n",
       "           L         7\n",
       "           H         6\n",
       "Quran      H         8\n",
       "           M         8\n",
       "           L         6\n",
       "Science    M        25\n",
       "           H        16\n",
       "           L        10\n",
       "Spanish    M        12\n",
       "           L         8\n",
       "           H         5\n",
       "Name: Class, dtype: int64"
      ]
     },
     "execution_count": 48,
     "metadata": {},
     "output_type": "execute_result"
    }
   ],
   "source": [
    "data.groupby(categorical_F[\"Topic\"])[\"Class\"].value_counts()"
   ]
  },
  {
   "cell_type": "code",
   "execution_count": 49,
   "id": "de30268c",
   "metadata": {},
   "outputs": [
    {
     "data": {
      "text/plain": [
       "IT           95\n",
       "French       65\n",
       "Arabic       59\n",
       "Science      51\n",
       "English      45\n",
       "Biology      30\n",
       "Spanish      25\n",
       "Chemistry    24\n",
       "Geology      24\n",
       "Quran        22\n",
       "Math         21\n",
       "History      19\n",
       "Name: Topic, dtype: int64"
      ]
     },
     "execution_count": 49,
     "metadata": {},
     "output_type": "execute_result"
    }
   ],
   "source": [
    "categorical_F[\"Topic\"].value_counts()"
   ]
  },
  {
   "cell_type": "markdown",
   "id": "f4602ee9",
   "metadata": {},
   "source": [
    "#### 3.1.8 Semester Features"
   ]
  },
  {
   "cell_type": "code",
   "execution_count": 50,
   "id": "669cb0e4",
   "metadata": {},
   "outputs": [
    {
     "data": {
      "text/plain": [
       "<AxesSubplot:xlabel='count', ylabel='Semester'>"
      ]
     },
     "execution_count": 50,
     "metadata": {},
     "output_type": "execute_result"
    },
    {
     "data": {
      "image/png": "[encoded data removed]",
      "text/plain": [
       "<Figure size 864x432 with 1 Axes>"
      ]
     },
     "metadata": {
      "needs_background": "light"
     },
     "output_type": "display_data"
    }
   ],
   "source": [
    "plt.figure(figsize=(12,6))\n",
    "sns.countplot(y=categorical_F[\"Semester\"], hue=\"Class\", data=data)"
   ]
  },
  {
   "cell_type": "code",
   "execution_count": 51,
   "id": "9897028a",
   "metadata": {},
   "outputs": [
    {
     "data": {
      "text/plain": [
       "Semester  Class\n",
       "F         M        106\n",
       "          L         77\n",
       "          H         62\n",
       "S         M        105\n",
       "          H         80\n",
       "          L         50\n",
       "Name: Class, dtype: int64"
      ]
     },
     "execution_count": 51,
     "metadata": {},
     "output_type": "execute_result"
    }
   ],
   "source": [
    "data.groupby(categorical_F[\"Semester\"])[\"Class\"].value_counts()\n"
   ]
  },
  {
   "cell_type": "code",
   "execution_count": 52,
   "id": "a2e0c416",
   "metadata": {},
   "outputs": [
    {
     "data": {
      "text/plain": [
       "F    245\n",
       "S    235\n",
       "Name: Semester, dtype: int64"
      ]
     },
     "execution_count": 52,
     "metadata": {},
     "output_type": "execute_result"
    }
   ],
   "source": [
    "categorical_F[\"Semester\"].value_counts()"
   ]
  },
  {
   "cell_type": "markdown",
   "id": "6a41f9f8",
   "metadata": {},
   "source": [
    "#### 3.1.9 Relation Features"
   ]
  },
  {
   "cell_type": "code",
   "execution_count": 53,
   "id": "36c32316",
   "metadata": {},
   "outputs": [
    {
     "data": {
      "text/plain": [
       "<AxesSubplot:xlabel='count', ylabel='Relation'>"
      ]
     },
     "execution_count": 53,
     "metadata": {},
     "output_type": "execute_result"
    },
    {
     "data": {
      "image/png": "[encoded data removed]",
      "text/plain": [
       "<Figure size 864x432 with 1 Axes>"
      ]
     },
     "metadata": {
      "needs_background": "light"
     },
     "output_type": "display_data"
    }
   ],
   "source": [
    "plt.figure(figsize=(12,6))\n",
    "sns.countplot(y=categorical_F[\"Relation\"], hue=\"Class\", data=data)"
   ]
  },
  {
   "cell_type": "code",
   "execution_count": 54,
   "id": "99daae04",
   "metadata": {},
   "outputs": [
    {
     "data": {
      "text/plain": [
       "Relation  Class\n",
       "Father    M        137\n",
       "          L        104\n",
       "          H         42\n",
       "Mum       H        100\n",
       "          M         74\n",
       "          L         23\n",
       "Name: Class, dtype: int64"
      ]
     },
     "execution_count": 54,
     "metadata": {},
     "output_type": "execute_result"
    }
   ],
   "source": [
    "data.groupby(categorical_F[\"Relation\"])[\"Class\"].value_counts()"
   ]
  },
  {
   "cell_type": "code",
   "execution_count": 55,
   "id": "4cd34e5a",
   "metadata": {},
   "outputs": [
    {
     "data": {
      "text/plain": [
       "Father    283\n",
       "Mum       197\n",
       "Name: Relation, dtype: int64"
      ]
     },
     "execution_count": 55,
     "metadata": {},
     "output_type": "execute_result"
    }
   ],
   "source": [
    "categorical_F[\"Relation\"].value_counts()"
   ]
  },
  {
   "cell_type": "markdown",
   "id": "e6a739ba",
   "metadata": {},
   "source": [
    "#### 3.1.10 ParentAnsweringSurvey Features"
   ]
  },
  {
   "cell_type": "code",
   "execution_count": 56,
   "id": "de731ba7",
   "metadata": {},
   "outputs": [
    {
     "data": {
      "text/plain": [
       "<AxesSubplot:xlabel='count', ylabel='ParentAnsweringSurvey'>"
      ]
     },
     "execution_count": 56,
     "metadata": {},
     "output_type": "execute_result"
    },
    {
     "data": {
      "image/png": "[encoded data removed]",
      "text/plain": [
       "<Figure size 1008x432 with 1 Axes>"
      ]
     },
     "metadata": {
      "needs_background": "light"
     },
     "output_type": "display_data"
    }
   ],
   "source": [
    "plt.figure(figsize=(14,6))\n",
    "sns.countplot(y=categorical_F[\"ParentAnsweringSurvey\"], hue=\"Class\", data=data)"
   ]
  },
  {
   "cell_type": "code",
   "execution_count": 57,
   "id": "38b0c34c",
   "metadata": {},
   "outputs": [
    {
     "data": {
      "text/plain": [
       "ParentAnsweringSurvey  Class\n",
       "No                     L         99\n",
       "                       M         83\n",
       "                       H         28\n",
       "Yes                    M        128\n",
       "                       H        114\n",
       "                       L         28\n",
       "Name: Class, dtype: int64"
      ]
     },
     "execution_count": 57,
     "metadata": {},
     "output_type": "execute_result"
    }
   ],
   "source": [
    "data.groupby(categorical_F[\"ParentAnsweringSurvey\"])[\"Class\"].value_counts()\n"
   ]
  },
  {
   "cell_type": "code",
   "execution_count": 58,
   "id": "73e45f30",
   "metadata": {},
   "outputs": [
    {
     "data": {
      "text/plain": [
       "Yes    270\n",
       "No     210\n",
       "Name: ParentAnsweringSurvey, dtype: int64"
      ]
     },
     "execution_count": 58,
     "metadata": {},
     "output_type": "execute_result"
    }
   ],
   "source": [
    "categorical_F[\"ParentAnsweringSurvey\"].value_counts()"
   ]
  },
  {
   "cell_type": "markdown",
   "id": "e9fb5dde",
   "metadata": {},
   "source": [
    "#### 3.1.11 ParentschoolSatisfaction Features"
   ]
  },
  {
   "cell_type": "code",
   "execution_count": 59,
   "id": "195ab099",
   "metadata": {},
   "outputs": [
    {
     "data": {
      "text/plain": [
       "<AxesSubplot:xlabel='count', ylabel='ParentschoolSatisfaction'>"
      ]
     },
     "execution_count": 59,
     "metadata": {},
     "output_type": "execute_result"
    },
    {
     "data": {
      "image/png": "[encoded data removed]",
      "text/plain": [
       "<Figure size 864x432 with 1 Axes>"
      ]
     },
     "metadata": {
      "needs_background": "light"
     },
     "output_type": "display_data"
    }
   ],
   "source": [
    "plt.figure(figsize=(12,6))\n",
    "sns.countplot(y=categorical_F[\"ParentschoolSatisfaction\"], hue=\"Class\", data=data)"
   ]
  },
  {
   "cell_type": "code",
   "execution_count": 60,
   "id": "20a9d976",
   "metadata": {},
   "outputs": [
    {
     "data": {
      "text/plain": [
       "ParentschoolSatisfaction  Class\n",
       "Bad                       L         84\n",
       "                          M         80\n",
       "                          H         24\n",
       "Good                      M        131\n",
       "                          H        118\n",
       "                          L         43\n",
       "Name: Class, dtype: int64"
      ]
     },
     "execution_count": 60,
     "metadata": {},
     "output_type": "execute_result"
    }
   ],
   "source": [
    "data.groupby(categorical_F[\"ParentschoolSatisfaction\"])[\"Class\"].value_counts()"
   ]
  },
  {
   "cell_type": "code",
   "execution_count": 61,
   "id": "a30fbd66",
   "metadata": {},
   "outputs": [
    {
     "data": {
      "text/plain": [
       "Good    292\n",
       "Bad     188\n",
       "Name: ParentschoolSatisfaction, dtype: int64"
      ]
     },
     "execution_count": 61,
     "metadata": {},
     "output_type": "execute_result"
    }
   ],
   "source": [
    "categorical_F[\"ParentschoolSatisfaction\"].value_counts()"
   ]
  },
  {
   "cell_type": "markdown",
   "id": "dda9c2e4",
   "metadata": {},
   "source": [
    "#### 3.1.12 StudentAbsenceDays Features"
   ]
  },
  {
   "cell_type": "code",
   "execution_count": 62,
   "id": "e55be800",
   "metadata": {},
   "outputs": [
    {
     "data": {
      "text/plain": [
       "<AxesSubplot:xlabel='count', ylabel='StudentAbsenceDays'>"
      ]
     },
     "execution_count": 62,
     "metadata": {},
     "output_type": "execute_result"
    },
    {
     "data": {
      "image/png": "[encoded data removed]",
      "text/plain": [
       "<Figure size 864x576 with 1 Axes>"
      ]
     },
     "metadata": {
      "needs_background": "light"
     },
     "output_type": "display_data"
    }
   ],
   "source": [
    "plt.figure(figsize=(12,8))\n",
    "sns.countplot(y=categorical_F[\"StudentAbsenceDays\"], hue=\"Class\", data=data)"
   ]
  },
  {
   "cell_type": "code",
   "execution_count": 63,
   "id": "fe7fbb0b",
   "metadata": {},
   "outputs": [
    {
     "data": {
      "text/plain": [
       "StudentAbsenceDays  Class\n",
       "Above-7             L        116\n",
       "                    M         71\n",
       "                    H          4\n",
       "Under-7             M        140\n",
       "                    H        138\n",
       "                    L         11\n",
       "Name: Class, dtype: int64"
      ]
     },
     "execution_count": 63,
     "metadata": {},
     "output_type": "execute_result"
    }
   ],
   "source": [
    "data.groupby(categorical_F[\"StudentAbsenceDays\"])[\"Class\"].value_counts()"
   ]
  },
  {
   "cell_type": "code",
   "execution_count": 64,
   "id": "c72f817d",
   "metadata": {},
   "outputs": [
    {
     "data": {
      "text/plain": [
       "Under-7    289\n",
       "Above-7    191\n",
       "Name: StudentAbsenceDays, dtype: int64"
      ]
     },
     "execution_count": 64,
     "metadata": {},
     "output_type": "execute_result"
    }
   ],
   "source": [
    "categorical_F[\"StudentAbsenceDays\"].value_counts()"
   ]
  },
  {
   "cell_type": "markdown",
   "id": "b5979815",
   "metadata": {},
   "source": [
    "### 3.2 Numeric Features"
   ]
  },
  {
   "cell_type": "code",
   "execution_count": 65,
   "id": "ec936026",
   "metadata": {},
   "outputs": [
    {
     "data": {
      "text/plain": [
       "raisedhands          82\n",
       "VisITedResources     89\n",
       "AnnouncementsView    88\n",
       "Discussion           90\n",
       "dtype: int64"
      ]
     },
     "execution_count": 65,
     "metadata": {},
     "output_type": "execute_result"
    }
   ],
   "source": [
    "#not good to know the number of unique value in numeric column\n",
    "data.select_dtypes(np.number).apply(pd.Series.nunique, axis = 0)"
   ]
  },
  {
   "cell_type": "code",
   "execution_count": 66,
   "id": "4b2f3b9d",
   "metadata": {},
   "outputs": [],
   "source": [
    "Numeric_F = data.select_dtypes(np.number)"
   ]
  },
  {
   "cell_type": "code",
   "execution_count": 67,
   "id": "b0cafdf2",
   "metadata": {},
   "outputs": [
    {
     "data": {
      "text/html": [
       "<div>\n",
       "<style scoped>\n",
       "    .dataframe tbody tr th:only-of-type {\n",
       "        vertical-align: middle;\n",
       "    }\n",
       "\n",
       "    .dataframe tbody tr th {\n",
       "        vertical-align: top;\n",
       "    }\n",
       "\n",
       "    .dataframe thead th {\n",
       "        text-align: right;\n",
       "    }\n",
       "</style>\n",
       "<table border=\"1\" class=\"dataframe\">\n",
       "  <thead>\n",
       "    <tr style=\"text-align: right;\">\n",
       "      <th></th>\n",
       "      <th>raisedhands</th>\n",
       "      <th>VisITedResources</th>\n",
       "      <th>AnnouncementsView</th>\n",
       "      <th>Discussion</th>\n",
       "    </tr>\n",
       "  </thead>\n",
       "  <tbody>\n",
       "    <tr>\n",
       "      <th>count</th>\n",
       "      <td>480.000000</td>\n",
       "      <td>480.000000</td>\n",
       "      <td>480.000000</td>\n",
       "      <td>480.000000</td>\n",
       "    </tr>\n",
       "    <tr>\n",
       "      <th>mean</th>\n",
       "      <td>46.775000</td>\n",
       "      <td>54.797917</td>\n",
       "      <td>37.918750</td>\n",
       "      <td>43.283333</td>\n",
       "    </tr>\n",
       "    <tr>\n",
       "      <th>std</th>\n",
       "      <td>30.779223</td>\n",
       "      <td>33.080007</td>\n",
       "      <td>26.611244</td>\n",
       "      <td>27.637735</td>\n",
       "    </tr>\n",
       "    <tr>\n",
       "      <th>min</th>\n",
       "      <td>0.000000</td>\n",
       "      <td>0.000000</td>\n",
       "      <td>0.000000</td>\n",
       "      <td>1.000000</td>\n",
       "    </tr>\n",
       "    <tr>\n",
       "      <th>25%</th>\n",
       "      <td>15.750000</td>\n",
       "      <td>20.000000</td>\n",
       "      <td>14.000000</td>\n",
       "      <td>20.000000</td>\n",
       "    </tr>\n",
       "    <tr>\n",
       "      <th>50%</th>\n",
       "      <td>50.000000</td>\n",
       "      <td>65.000000</td>\n",
       "      <td>33.000000</td>\n",
       "      <td>39.000000</td>\n",
       "    </tr>\n",
       "    <tr>\n",
       "      <th>75%</th>\n",
       "      <td>75.000000</td>\n",
       "      <td>84.000000</td>\n",
       "      <td>58.000000</td>\n",
       "      <td>70.000000</td>\n",
       "    </tr>\n",
       "    <tr>\n",
       "      <th>max</th>\n",
       "      <td>100.000000</td>\n",
       "      <td>99.000000</td>\n",
       "      <td>98.000000</td>\n",
       "      <td>99.000000</td>\n",
       "    </tr>\n",
       "  </tbody>\n",
       "</table>\n",
       "</div>"
      ],
      "text/plain": [
       "       raisedhands  VisITedResources  AnnouncementsView  Discussion\n",
       "count   480.000000        480.000000         480.000000  480.000000\n",
       "mean     46.775000         54.797917          37.918750   43.283333\n",
       "std      30.779223         33.080007          26.611244   27.637735\n",
       "min       0.000000          0.000000           0.000000    1.000000\n",
       "25%      15.750000         20.000000          14.000000   20.000000\n",
       "50%      50.000000         65.000000          33.000000   39.000000\n",
       "75%      75.000000         84.000000          58.000000   70.000000\n",
       "max     100.000000         99.000000          98.000000   99.000000"
      ]
     },
     "execution_count": 67,
     "metadata": {},
     "output_type": "execute_result"
    }
   ],
   "source": [
    "Numeric_F.describe()"
   ]
  },
  {
   "cell_type": "code",
   "execution_count": 68,
   "id": "7f7e43c8",
   "metadata": {},
   "outputs": [
    {
     "data": {
      "text/html": [
       "<div>\n",
       "<style scoped>\n",
       "    .dataframe tbody tr th:only-of-type {\n",
       "        vertical-align: middle;\n",
       "    }\n",
       "\n",
       "    .dataframe tbody tr th {\n",
       "        vertical-align: top;\n",
       "    }\n",
       "\n",
       "    .dataframe thead th {\n",
       "        text-align: right;\n",
       "    }\n",
       "</style>\n",
       "<table border=\"1\" class=\"dataframe\">\n",
       "  <thead>\n",
       "    <tr style=\"text-align: right;\">\n",
       "      <th></th>\n",
       "      <th>raisedhands</th>\n",
       "      <th>VisITedResources</th>\n",
       "      <th>AnnouncementsView</th>\n",
       "      <th>Discussion</th>\n",
       "    </tr>\n",
       "  </thead>\n",
       "  <tbody>\n",
       "    <tr>\n",
       "      <th>0</th>\n",
       "      <td>15</td>\n",
       "      <td>16</td>\n",
       "      <td>2</td>\n",
       "      <td>20</td>\n",
       "    </tr>\n",
       "    <tr>\n",
       "      <th>1</th>\n",
       "      <td>20</td>\n",
       "      <td>20</td>\n",
       "      <td>3</td>\n",
       "      <td>25</td>\n",
       "    </tr>\n",
       "    <tr>\n",
       "      <th>2</th>\n",
       "      <td>10</td>\n",
       "      <td>7</td>\n",
       "      <td>0</td>\n",
       "      <td>30</td>\n",
       "    </tr>\n",
       "    <tr>\n",
       "      <th>3</th>\n",
       "      <td>30</td>\n",
       "      <td>25</td>\n",
       "      <td>5</td>\n",
       "      <td>35</td>\n",
       "    </tr>\n",
       "    <tr>\n",
       "      <th>4</th>\n",
       "      <td>40</td>\n",
       "      <td>50</td>\n",
       "      <td>12</td>\n",
       "      <td>50</td>\n",
       "    </tr>\n",
       "  </tbody>\n",
       "</table>\n",
       "</div>"
      ],
      "text/plain": [
       "   raisedhands  VisITedResources  AnnouncementsView  Discussion\n",
       "0           15                16                  2          20\n",
       "1           20                20                  3          25\n",
       "2           10                 7                  0          30\n",
       "3           30                25                  5          35\n",
       "4           40                50                 12          50"
      ]
     },
     "execution_count": 68,
     "metadata": {},
     "output_type": "execute_result"
    }
   ],
   "source": [
    "Numeric_F.head()"
   ]
  },
  {
   "cell_type": "markdown",
   "id": "837ee827",
   "metadata": {},
   "source": [
    "#### 3.2.1 raisedhands Features"
   ]
  },
  {
   "cell_type": "code",
   "execution_count": 69,
   "id": "375eef5a",
   "metadata": {},
   "outputs": [
    {
     "data": {
      "text/plain": [
       "<AxesSubplot:xlabel='raisedhands'>"
      ]
     },
     "execution_count": 69,
     "metadata": {},
     "output_type": "execute_result"
    },
    {
     "data": {
      "image/png": "[encoded data removed]",
      "text/plain": [
       "<Figure size 432x288 with 1 Axes>"
      ]
     },
     "metadata": {
      "needs_background": "light"
     },
     "output_type": "display_data"
    }
   ],
   "source": [
    "sns.distplot(data[\"raisedhands\"],color=\"g\",bins=40,fit=scipy.stats.norm)"
   ]
  },
  {
   "cell_type": "markdown",
   "id": "60d5ae3b",
   "metadata": {},
   "source": [
    "#### 3.2.2 VisITedResources Features"
   ]
  },
  {
   "cell_type": "code",
   "execution_count": 70,
   "id": "23b64196",
   "metadata": {
    "scrolled": true
   },
   "outputs": [
    {
     "data": {
      "text/plain": [
       "<AxesSubplot:xlabel='VisITedResources'>"
      ]
     },
     "execution_count": 70,
     "metadata": {},
     "output_type": "execute_result"
    },
    {
     "data": {
      "image/png": "[encoded data removed]",
      "text/plain": [
       "<Figure size 432x288 with 1 Axes>"
      ]
     },
     "metadata": {
      "needs_background": "light"
     },
     "output_type": "display_data"
    }
   ],
   "source": [
    "sns.distplot(data[\"VisITedResources\"],color=\"g\",bins=40,fit=scipy.stats.norm)"
   ]
  },
  {
   "cell_type": "markdown",
   "id": "3d5049ef",
   "metadata": {},
   "source": [
    "#### 3.2.3 AnnouncementsView Features"
   ]
  },
  {
   "cell_type": "code",
   "execution_count": 71,
   "id": "64a135ba",
   "metadata": {},
   "outputs": [
    {
     "data": {
      "text/plain": [
       "<AxesSubplot:xlabel='AnnouncementsView'>"
      ]
     },
     "execution_count": 71,
     "metadata": {},
     "output_type": "execute_result"
    },
    {
     "data": {
      "image/png": "[encoded data removed]",
      "text/plain": [
       "<Figure size 432x288 with 1 Axes>"
      ]
     },
     "metadata": {
      "needs_background": "light"
     },
     "output_type": "display_data"
    }
   ],
   "source": [
    "sns.distplot(data[\"AnnouncementsView\"],color=\"g\",bins=40,fit=scipy.stats.norm)"
   ]
  },
  {
   "cell_type": "markdown",
   "id": "b933a578",
   "metadata": {},
   "source": [
    "#### 3.2.3 Discussion Features"
   ]
  },
  {
   "cell_type": "code",
   "execution_count": 72,
   "id": "b7652e4d",
   "metadata": {},
   "outputs": [
    {
     "data": {
      "text/plain": [
       "count    480.000000\n",
       "mean      43.283333\n",
       "std       27.637735\n",
       "min        1.000000\n",
       "25%       20.000000\n",
       "50%       39.000000\n",
       "75%       70.000000\n",
       "max       99.000000\n",
       "Name: Discussion, dtype: float64"
      ]
     },
     "execution_count": 72,
     "metadata": {},
     "output_type": "execute_result"
    }
   ],
   "source": [
    "data[\"Discussion\"].describe()"
   ]
  },
  {
   "cell_type": "code",
   "execution_count": 73,
   "id": "f62612b0",
   "metadata": {
    "scrolled": true
   },
   "outputs": [
    {
     "data": {
      "text/plain": [
       "<AxesSubplot:xlabel='Discussion'>"
      ]
     },
     "execution_count": 73,
     "metadata": {},
     "output_type": "execute_result"
    },
    {
     "data": {
      "image/png": "[encoded data removed]",
      "text/plain": [
       "<Figure size 432x288 with 1 Axes>"
      ]
     },
     "metadata": {
      "needs_background": "light"
     },
     "output_type": "display_data"
    }
   ],
   "source": [
    "sns.distplot(data[\"Discussion\"],color=\"g\",bins=40,fit=scipy.stats.norm)"
   ]
  },
  {
   "cell_type": "code",
   "execution_count": 74,
   "id": "b3e27a67",
   "metadata": {},
   "outputs": [
    {
     "data": {
      "image/png": "[encoded data removed]",
      "text/plain": [
       "<Figure size 720x576 with 1 Axes>"
      ]
     },
     "metadata": {
      "needs_background": "light"
     },
     "output_type": "display_data"
    }
   ],
   "source": [
    "plt.figure(figsize = (10, 8))\n",
    "\n",
    "# KDE plot of loans that were repaid on time\n",
    "sns.kdeplot(data.loc[data['Class'] == \"L\", 'Discussion'] ,label = 'Class == L')\n",
    "sns.kdeplot(data.loc[data['Class'] == \"M\", 'Discussion'],label = 'Class == M')\n",
    "sns.kdeplot(data.loc[data['Class'] == \"H\", 'Discussion'],label = 'Class == H')\n",
    "\n",
    "\n",
    "\n",
    "\n",
    "# Labeling of plot\n",
    "plt.xlabel('Discussion student'); plt.ylabel('Density'); plt.title('Distribution of Discussion');"
   ]
  },
  {
   "cell_type": "markdown",
   "id": "d16b85ab",
   "metadata": {},
   "source": [
    "## 4. Creation Feature "
   ]
  },
  {
   "cell_type": "code",
   "execution_count": 75,
   "id": "33b4bc5f",
   "metadata": {},
   "outputs": [
    {
     "data": {
      "text/plain": [
       "IT           95\n",
       "French       65\n",
       "Arabic       59\n",
       "Science      51\n",
       "English      45\n",
       "Biology      30\n",
       "Spanish      25\n",
       "Chemistry    24\n",
       "Geology      24\n",
       "Quran        22\n",
       "Math         21\n",
       "History      19\n",
       "Name: Topic, dtype: int64"
      ]
     },
     "execution_count": 75,
     "metadata": {},
     "output_type": "execute_result"
    }
   ],
   "source": [
    "categorical_F[\"Topic\"].value_counts()"
   ]
  },
  {
   "cell_type": "markdown",
   "id": "765b4bf8",
   "metadata": {},
   "source": [
    " we can create new feature here called Tracks "
   ]
  },
  {
   "cell_type": "code",
   "execution_count": 76,
   "id": "1c26f6c4",
   "metadata": {},
   "outputs": [],
   "source": [
    "# def paths(cols):\n",
    "#     Topics=cols[0]\n",
    "    \n",
    "    \n",
    "#     if Topics == \"IT\" :\n",
    "#             return \"information technology\"\n",
    "#     elif (Topics == \"French\") or (Topics == \"Arabic\") or (Topics == \"English\") or (Topics == \"Spanish\") :\n",
    "#             return \"languages\"\n",
    "#     elif (Topics == \"Science\") or (Topics == \"Biology\") or (Topics == \"Chemistry\") or (Topics == \"Geology\") or  (Topics == \"Math\"):\n",
    "#         return \"Sciences\"\n",
    "#     elif Topics == \"Quran\" :\n",
    "#         return \"religion\"   \n",
    "#     else:\n",
    "#         return \"History\""
   ]
  },
  {
   "cell_type": "code",
   "execution_count": 77,
   "id": "9923c81d",
   "metadata": {},
   "outputs": [
    {
     "data": {
      "text/html": [
       "<div>\n",
       "<style scoped>\n",
       "    .dataframe tbody tr th:only-of-type {\n",
       "        vertical-align: middle;\n",
       "    }\n",
       "\n",
       "    .dataframe tbody tr th {\n",
       "        vertical-align: top;\n",
       "    }\n",
       "\n",
       "    .dataframe thead th {\n",
       "        text-align: right;\n",
       "    }\n",
       "</style>\n",
       "<table border=\"1\" class=\"dataframe\">\n",
       "  <thead>\n",
       "    <tr style=\"text-align: right;\">\n",
       "      <th></th>\n",
       "      <th>gender</th>\n",
       "      <th>NationalITy</th>\n",
       "      <th>PlaceofBirth</th>\n",
       "      <th>StageID</th>\n",
       "      <th>GradeID</th>\n",
       "      <th>SectionID</th>\n",
       "      <th>Topic</th>\n",
       "      <th>Semester</th>\n",
       "      <th>Relation</th>\n",
       "      <th>raisedhands</th>\n",
       "      <th>VisITedResources</th>\n",
       "      <th>AnnouncementsView</th>\n",
       "      <th>Discussion</th>\n",
       "      <th>ParentAnsweringSurvey</th>\n",
       "      <th>ParentschoolSatisfaction</th>\n",
       "      <th>StudentAbsenceDays</th>\n",
       "      <th>Class</th>\n",
       "      <th>Tracks</th>\n",
       "    </tr>\n",
       "  </thead>\n",
       "  <tbody>\n",
       "    <tr>\n",
       "      <th>0</th>\n",
       "      <td>M</td>\n",
       "      <td>KW</td>\n",
       "      <td>KuwaIT</td>\n",
       "      <td>lowerlevel</td>\n",
       "      <td>G-04</td>\n",
       "      <td>A</td>\n",
       "      <td>IT</td>\n",
       "      <td>F</td>\n",
       "      <td>Father</td>\n",
       "      <td>15</td>\n",
       "      <td>16</td>\n",
       "      <td>2</td>\n",
       "      <td>20</td>\n",
       "      <td>Yes</td>\n",
       "      <td>Good</td>\n",
       "      <td>Under-7</td>\n",
       "      <td>M</td>\n",
       "      <td>information technology</td>\n",
       "    </tr>\n",
       "    <tr>\n",
       "      <th>1</th>\n",
       "      <td>M</td>\n",
       "      <td>KW</td>\n",
       "      <td>KuwaIT</td>\n",
       "      <td>lowerlevel</td>\n",
       "      <td>G-04</td>\n",
       "      <td>A</td>\n",
       "      <td>IT</td>\n",
       "      <td>F</td>\n",
       "      <td>Father</td>\n",
       "      <td>20</td>\n",
       "      <td>20</td>\n",
       "      <td>3</td>\n",
       "      <td>25</td>\n",
       "      <td>Yes</td>\n",
       "      <td>Good</td>\n",
       "      <td>Under-7</td>\n",
       "      <td>M</td>\n",
       "      <td>information technology</td>\n",
       "    </tr>\n",
       "    <tr>\n",
       "      <th>2</th>\n",
       "      <td>M</td>\n",
       "      <td>KW</td>\n",
       "      <td>KuwaIT</td>\n",
       "      <td>lowerlevel</td>\n",
       "      <td>G-04</td>\n",
       "      <td>A</td>\n",
       "      <td>IT</td>\n",
       "      <td>F</td>\n",
       "      <td>Father</td>\n",
       "      <td>10</td>\n",
       "      <td>7</td>\n",
       "      <td>0</td>\n",
       "      <td>30</td>\n",
       "      <td>No</td>\n",
       "      <td>Bad</td>\n",
       "      <td>Above-7</td>\n",
       "      <td>L</td>\n",
       "      <td>information technology</td>\n",
       "    </tr>\n",
       "    <tr>\n",
       "      <th>3</th>\n",
       "      <td>M</td>\n",
       "      <td>KW</td>\n",
       "      <td>KuwaIT</td>\n",
       "      <td>lowerlevel</td>\n",
       "      <td>G-04</td>\n",
       "      <td>A</td>\n",
       "      <td>IT</td>\n",
       "      <td>F</td>\n",
       "      <td>Father</td>\n",
       "      <td>30</td>\n",
       "      <td>25</td>\n",
       "      <td>5</td>\n",
       "      <td>35</td>\n",
       "      <td>No</td>\n",
       "      <td>Bad</td>\n",
       "      <td>Above-7</td>\n",
       "      <td>L</td>\n",
       "      <td>information technology</td>\n",
       "    </tr>\n",
       "    <tr>\n",
       "      <th>4</th>\n",
       "      <td>M</td>\n",
       "      <td>KW</td>\n",
       "      <td>KuwaIT</td>\n",
       "      <td>lowerlevel</td>\n",
       "      <td>G-04</td>\n",
       "      <td>A</td>\n",
       "      <td>IT</td>\n",
       "      <td>F</td>\n",
       "      <td>Father</td>\n",
       "      <td>40</td>\n",
       "      <td>50</td>\n",
       "      <td>12</td>\n",
       "      <td>50</td>\n",
       "      <td>No</td>\n",
       "      <td>Bad</td>\n",
       "      <td>Above-7</td>\n",
       "      <td>M</td>\n",
       "      <td>information technology</td>\n",
       "    </tr>\n",
       "  </tbody>\n",
       "</table>\n",
       "</div>"
      ],
      "text/plain": [
       "  gender NationalITy PlaceofBirth     StageID GradeID SectionID Topic  \\\n",
       "0      M          KW       KuwaIT  lowerlevel    G-04         A    IT   \n",
       "1      M          KW       KuwaIT  lowerlevel    G-04         A    IT   \n",
       "2      M          KW       KuwaIT  lowerlevel    G-04         A    IT   \n",
       "3      M          KW       KuwaIT  lowerlevel    G-04         A    IT   \n",
       "4      M          KW       KuwaIT  lowerlevel    G-04         A    IT   \n",
       "\n",
       "  Semester Relation  raisedhands  VisITedResources  AnnouncementsView  \\\n",
       "0        F   Father           15                16                  2   \n",
       "1        F   Father           20                20                  3   \n",
       "2        F   Father           10                 7                  0   \n",
       "3        F   Father           30                25                  5   \n",
       "4        F   Father           40                50                 12   \n",
       "\n",
       "   Discussion ParentAnsweringSurvey ParentschoolSatisfaction  \\\n",
       "0          20                   Yes                     Good   \n",
       "1          25                   Yes                     Good   \n",
       "2          30                    No                      Bad   \n",
       "3          35                    No                      Bad   \n",
       "4          50                    No                      Bad   \n",
       "\n",
       "  StudentAbsenceDays Class                  Tracks  \n",
       "0            Under-7     M  information technology  \n",
       "1            Under-7     M  information technology  \n",
       "2            Above-7     L  information technology  \n",
       "3            Above-7     L  information technology  \n",
       "4            Above-7     M  information technology  "
      ]
     },
     "execution_count": 77,
     "metadata": {},
     "output_type": "execute_result"
    }
   ],
   "source": [
    "# create a list of our conditions\n",
    "conditions = [\n",
    "    (data[\"Topic\"] == \"IT\"),\n",
    "    ((data[\"Topic\"] == \"French\") | (data[\"Topic\"] == \"Arabic\") | (data[\"Topic\"] == \"English\") | (data[\"Topic\"] == \"Spanish\")),\n",
    "    ((data[\"Topic\"] == \"Science\") | (data[\"Topic\"] == \"Biology\") | (data[\"Topic\"] == \"Chemistry\") | (data[\"Topic\"] == \"Geology\") |  (data[\"Topic\"] == \"Math\")),\n",
    "    (data[\"Topic\"] == \"Quran\"),\n",
    "    (data[\"Topic\"] == \"History\")\n",
    "    ]\n",
    "\n",
    "# create a list of the values we want to assign for each condition\n",
    "values = [\"information technology\", \"languages\", \"Sciences\", \"religion\" , \"History\"]\n",
    "\n",
    "# create a new column and use np.select to assign values to it using our lists as arguments\n",
    "data['Tracks'] = np.select(conditions, values)\n",
    "\n",
    "# display updated DataFrame\n",
    "data.head()"
   ]
  },
  {
   "cell_type": "code",
   "execution_count": 78,
   "id": "932509be",
   "metadata": {},
   "outputs": [
    {
     "data": {
      "text/plain": [
       "languages                 194\n",
       "Sciences                  150\n",
       "information technology     95\n",
       "religion                   22\n",
       "History                    19\n",
       "Name: Tracks, dtype: int64"
      ]
     },
     "execution_count": 78,
     "metadata": {},
     "output_type": "execute_result"
    }
   ],
   "source": [
    "data[\"Tracks\"].value_counts()"
   ]
  },
  {
   "cell_type": "code",
   "execution_count": 79,
   "id": "6c5b3b71",
   "metadata": {},
   "outputs": [
    {
     "data": {
      "text/plain": [
       "IT           95\n",
       "French       65\n",
       "Arabic       59\n",
       "Science      51\n",
       "English      45\n",
       "Biology      30\n",
       "Spanish      25\n",
       "Chemistry    24\n",
       "Geology      24\n",
       "Quran        22\n",
       "Math         21\n",
       "History      19\n",
       "Name: Topic, dtype: int64"
      ]
     },
     "execution_count": 79,
     "metadata": {},
     "output_type": "execute_result"
    }
   ],
   "source": [
    "categorical_F[\"Topic\"].value_counts()"
   ]
  },
  {
   "cell_type": "code",
   "execution_count": 80,
   "id": "446806ce",
   "metadata": {
    "scrolled": true
   },
   "outputs": [
    {
     "data": {
      "text/html": [
       "<div>\n",
       "<style scoped>\n",
       "    .dataframe tbody tr th:only-of-type {\n",
       "        vertical-align: middle;\n",
       "    }\n",
       "\n",
       "    .dataframe tbody tr th {\n",
       "        vertical-align: top;\n",
       "    }\n",
       "\n",
       "    .dataframe thead th {\n",
       "        text-align: right;\n",
       "    }\n",
       "</style>\n",
       "<table border=\"1\" class=\"dataframe\">\n",
       "  <thead>\n",
       "    <tr style=\"text-align: right;\">\n",
       "      <th></th>\n",
       "      <th>gender</th>\n",
       "      <th>NationalITy</th>\n",
       "      <th>PlaceofBirth</th>\n",
       "      <th>StageID</th>\n",
       "      <th>GradeID</th>\n",
       "      <th>SectionID</th>\n",
       "      <th>Topic</th>\n",
       "      <th>Semester</th>\n",
       "      <th>Relation</th>\n",
       "      <th>raisedhands</th>\n",
       "      <th>VisITedResources</th>\n",
       "      <th>AnnouncementsView</th>\n",
       "      <th>Discussion</th>\n",
       "      <th>ParentAnsweringSurvey</th>\n",
       "      <th>ParentschoolSatisfaction</th>\n",
       "      <th>StudentAbsenceDays</th>\n",
       "      <th>Class</th>\n",
       "      <th>Tracks</th>\n",
       "    </tr>\n",
       "  </thead>\n",
       "  <tbody>\n",
       "    <tr>\n",
       "      <th>0</th>\n",
       "      <td>M</td>\n",
       "      <td>KW</td>\n",
       "      <td>KuwaIT</td>\n",
       "      <td>lowerlevel</td>\n",
       "      <td>G-04</td>\n",
       "      <td>A</td>\n",
       "      <td>IT</td>\n",
       "      <td>F</td>\n",
       "      <td>Father</td>\n",
       "      <td>15</td>\n",
       "      <td>16</td>\n",
       "      <td>2</td>\n",
       "      <td>20</td>\n",
       "      <td>Yes</td>\n",
       "      <td>Good</td>\n",
       "      <td>Under-7</td>\n",
       "      <td>M</td>\n",
       "      <td>information technology</td>\n",
       "    </tr>\n",
       "    <tr>\n",
       "      <th>1</th>\n",
       "      <td>M</td>\n",
       "      <td>KW</td>\n",
       "      <td>KuwaIT</td>\n",
       "      <td>lowerlevel</td>\n",
       "      <td>G-04</td>\n",
       "      <td>A</td>\n",
       "      <td>IT</td>\n",
       "      <td>F</td>\n",
       "      <td>Father</td>\n",
       "      <td>20</td>\n",
       "      <td>20</td>\n",
       "      <td>3</td>\n",
       "      <td>25</td>\n",
       "      <td>Yes</td>\n",
       "      <td>Good</td>\n",
       "      <td>Under-7</td>\n",
       "      <td>M</td>\n",
       "      <td>information technology</td>\n",
       "    </tr>\n",
       "    <tr>\n",
       "      <th>2</th>\n",
       "      <td>M</td>\n",
       "      <td>KW</td>\n",
       "      <td>KuwaIT</td>\n",
       "      <td>lowerlevel</td>\n",
       "      <td>G-04</td>\n",
       "      <td>A</td>\n",
       "      <td>IT</td>\n",
       "      <td>F</td>\n",
       "      <td>Father</td>\n",
       "      <td>10</td>\n",
       "      <td>7</td>\n",
       "      <td>0</td>\n",
       "      <td>30</td>\n",
       "      <td>No</td>\n",
       "      <td>Bad</td>\n",
       "      <td>Above-7</td>\n",
       "      <td>L</td>\n",
       "      <td>information technology</td>\n",
       "    </tr>\n",
       "    <tr>\n",
       "      <th>3</th>\n",
       "      <td>M</td>\n",
       "      <td>KW</td>\n",
       "      <td>KuwaIT</td>\n",
       "      <td>lowerlevel</td>\n",
       "      <td>G-04</td>\n",
       "      <td>A</td>\n",
       "      <td>IT</td>\n",
       "      <td>F</td>\n",
       "      <td>Father</td>\n",
       "      <td>30</td>\n",
       "      <td>25</td>\n",
       "      <td>5</td>\n",
       "      <td>35</td>\n",
       "      <td>No</td>\n",
       "      <td>Bad</td>\n",
       "      <td>Above-7</td>\n",
       "      <td>L</td>\n",
       "      <td>information technology</td>\n",
       "    </tr>\n",
       "    <tr>\n",
       "      <th>4</th>\n",
       "      <td>M</td>\n",
       "      <td>KW</td>\n",
       "      <td>KuwaIT</td>\n",
       "      <td>lowerlevel</td>\n",
       "      <td>G-04</td>\n",
       "      <td>A</td>\n",
       "      <td>IT</td>\n",
       "      <td>F</td>\n",
       "      <td>Father</td>\n",
       "      <td>40</td>\n",
       "      <td>50</td>\n",
       "      <td>12</td>\n",
       "      <td>50</td>\n",
       "      <td>No</td>\n",
       "      <td>Bad</td>\n",
       "      <td>Above-7</td>\n",
       "      <td>M</td>\n",
       "      <td>information technology</td>\n",
       "    </tr>\n",
       "    <tr>\n",
       "      <th>5</th>\n",
       "      <td>F</td>\n",
       "      <td>KW</td>\n",
       "      <td>KuwaIT</td>\n",
       "      <td>lowerlevel</td>\n",
       "      <td>G-04</td>\n",
       "      <td>A</td>\n",
       "      <td>IT</td>\n",
       "      <td>F</td>\n",
       "      <td>Father</td>\n",
       "      <td>42</td>\n",
       "      <td>30</td>\n",
       "      <td>13</td>\n",
       "      <td>70</td>\n",
       "      <td>Yes</td>\n",
       "      <td>Bad</td>\n",
       "      <td>Above-7</td>\n",
       "      <td>M</td>\n",
       "      <td>information technology</td>\n",
       "    </tr>\n",
       "    <tr>\n",
       "      <th>6</th>\n",
       "      <td>M</td>\n",
       "      <td>KW</td>\n",
       "      <td>KuwaIT</td>\n",
       "      <td>MiddleSchool</td>\n",
       "      <td>G-07</td>\n",
       "      <td>A</td>\n",
       "      <td>Math</td>\n",
       "      <td>F</td>\n",
       "      <td>Father</td>\n",
       "      <td>35</td>\n",
       "      <td>12</td>\n",
       "      <td>0</td>\n",
       "      <td>17</td>\n",
       "      <td>No</td>\n",
       "      <td>Bad</td>\n",
       "      <td>Above-7</td>\n",
       "      <td>L</td>\n",
       "      <td>Sciences</td>\n",
       "    </tr>\n",
       "    <tr>\n",
       "      <th>7</th>\n",
       "      <td>M</td>\n",
       "      <td>KW</td>\n",
       "      <td>KuwaIT</td>\n",
       "      <td>MiddleSchool</td>\n",
       "      <td>G-07</td>\n",
       "      <td>A</td>\n",
       "      <td>Math</td>\n",
       "      <td>F</td>\n",
       "      <td>Father</td>\n",
       "      <td>50</td>\n",
       "      <td>10</td>\n",
       "      <td>15</td>\n",
       "      <td>22</td>\n",
       "      <td>Yes</td>\n",
       "      <td>Good</td>\n",
       "      <td>Under-7</td>\n",
       "      <td>M</td>\n",
       "      <td>Sciences</td>\n",
       "    </tr>\n",
       "    <tr>\n",
       "      <th>8</th>\n",
       "      <td>F</td>\n",
       "      <td>KW</td>\n",
       "      <td>KuwaIT</td>\n",
       "      <td>MiddleSchool</td>\n",
       "      <td>G-07</td>\n",
       "      <td>A</td>\n",
       "      <td>Math</td>\n",
       "      <td>F</td>\n",
       "      <td>Father</td>\n",
       "      <td>12</td>\n",
       "      <td>21</td>\n",
       "      <td>16</td>\n",
       "      <td>50</td>\n",
       "      <td>Yes</td>\n",
       "      <td>Good</td>\n",
       "      <td>Under-7</td>\n",
       "      <td>M</td>\n",
       "      <td>Sciences</td>\n",
       "    </tr>\n",
       "    <tr>\n",
       "      <th>9</th>\n",
       "      <td>F</td>\n",
       "      <td>KW</td>\n",
       "      <td>KuwaIT</td>\n",
       "      <td>MiddleSchool</td>\n",
       "      <td>G-07</td>\n",
       "      <td>B</td>\n",
       "      <td>IT</td>\n",
       "      <td>F</td>\n",
       "      <td>Father</td>\n",
       "      <td>70</td>\n",
       "      <td>80</td>\n",
       "      <td>25</td>\n",
       "      <td>70</td>\n",
       "      <td>Yes</td>\n",
       "      <td>Good</td>\n",
       "      <td>Under-7</td>\n",
       "      <td>M</td>\n",
       "      <td>information technology</td>\n",
       "    </tr>\n",
       "    <tr>\n",
       "      <th>10</th>\n",
       "      <td>M</td>\n",
       "      <td>KW</td>\n",
       "      <td>KuwaIT</td>\n",
       "      <td>MiddleSchool</td>\n",
       "      <td>G-07</td>\n",
       "      <td>A</td>\n",
       "      <td>Math</td>\n",
       "      <td>F</td>\n",
       "      <td>Father</td>\n",
       "      <td>50</td>\n",
       "      <td>88</td>\n",
       "      <td>30</td>\n",
       "      <td>80</td>\n",
       "      <td>Yes</td>\n",
       "      <td>Good</td>\n",
       "      <td>Under-7</td>\n",
       "      <td>H</td>\n",
       "      <td>Sciences</td>\n",
       "    </tr>\n",
       "    <tr>\n",
       "      <th>11</th>\n",
       "      <td>M</td>\n",
       "      <td>KW</td>\n",
       "      <td>KuwaIT</td>\n",
       "      <td>MiddleSchool</td>\n",
       "      <td>G-07</td>\n",
       "      <td>B</td>\n",
       "      <td>Math</td>\n",
       "      <td>F</td>\n",
       "      <td>Father</td>\n",
       "      <td>19</td>\n",
       "      <td>6</td>\n",
       "      <td>19</td>\n",
       "      <td>12</td>\n",
       "      <td>Yes</td>\n",
       "      <td>Good</td>\n",
       "      <td>Under-7</td>\n",
       "      <td>M</td>\n",
       "      <td>Sciences</td>\n",
       "    </tr>\n",
       "    <tr>\n",
       "      <th>12</th>\n",
       "      <td>M</td>\n",
       "      <td>KW</td>\n",
       "      <td>KuwaIT</td>\n",
       "      <td>lowerlevel</td>\n",
       "      <td>G-04</td>\n",
       "      <td>A</td>\n",
       "      <td>IT</td>\n",
       "      <td>F</td>\n",
       "      <td>Father</td>\n",
       "      <td>5</td>\n",
       "      <td>1</td>\n",
       "      <td>0</td>\n",
       "      <td>11</td>\n",
       "      <td>No</td>\n",
       "      <td>Bad</td>\n",
       "      <td>Above-7</td>\n",
       "      <td>L</td>\n",
       "      <td>information technology</td>\n",
       "    </tr>\n",
       "    <tr>\n",
       "      <th>13</th>\n",
       "      <td>M</td>\n",
       "      <td>lebanon</td>\n",
       "      <td>lebanon</td>\n",
       "      <td>MiddleSchool</td>\n",
       "      <td>G-08</td>\n",
       "      <td>A</td>\n",
       "      <td>Math</td>\n",
       "      <td>F</td>\n",
       "      <td>Father</td>\n",
       "      <td>20</td>\n",
       "      <td>14</td>\n",
       "      <td>12</td>\n",
       "      <td>19</td>\n",
       "      <td>No</td>\n",
       "      <td>Bad</td>\n",
       "      <td>Above-7</td>\n",
       "      <td>L</td>\n",
       "      <td>Sciences</td>\n",
       "    </tr>\n",
       "    <tr>\n",
       "      <th>14</th>\n",
       "      <td>F</td>\n",
       "      <td>KW</td>\n",
       "      <td>KuwaIT</td>\n",
       "      <td>MiddleSchool</td>\n",
       "      <td>G-08</td>\n",
       "      <td>A</td>\n",
       "      <td>Math</td>\n",
       "      <td>F</td>\n",
       "      <td>Mum</td>\n",
       "      <td>62</td>\n",
       "      <td>70</td>\n",
       "      <td>44</td>\n",
       "      <td>60</td>\n",
       "      <td>No</td>\n",
       "      <td>Bad</td>\n",
       "      <td>Above-7</td>\n",
       "      <td>H</td>\n",
       "      <td>Sciences</td>\n",
       "    </tr>\n",
       "    <tr>\n",
       "      <th>15</th>\n",
       "      <td>F</td>\n",
       "      <td>KW</td>\n",
       "      <td>KuwaIT</td>\n",
       "      <td>MiddleSchool</td>\n",
       "      <td>G-06</td>\n",
       "      <td>A</td>\n",
       "      <td>IT</td>\n",
       "      <td>F</td>\n",
       "      <td>Father</td>\n",
       "      <td>30</td>\n",
       "      <td>40</td>\n",
       "      <td>22</td>\n",
       "      <td>66</td>\n",
       "      <td>Yes</td>\n",
       "      <td>Good</td>\n",
       "      <td>Under-7</td>\n",
       "      <td>M</td>\n",
       "      <td>information technology</td>\n",
       "    </tr>\n",
       "    <tr>\n",
       "      <th>16</th>\n",
       "      <td>M</td>\n",
       "      <td>KW</td>\n",
       "      <td>KuwaIT</td>\n",
       "      <td>MiddleSchool</td>\n",
       "      <td>G-07</td>\n",
       "      <td>B</td>\n",
       "      <td>IT</td>\n",
       "      <td>F</td>\n",
       "      <td>Father</td>\n",
       "      <td>36</td>\n",
       "      <td>30</td>\n",
       "      <td>20</td>\n",
       "      <td>80</td>\n",
       "      <td>No</td>\n",
       "      <td>Bad</td>\n",
       "      <td>Above-7</td>\n",
       "      <td>M</td>\n",
       "      <td>information technology</td>\n",
       "    </tr>\n",
       "    <tr>\n",
       "      <th>17</th>\n",
       "      <td>M</td>\n",
       "      <td>KW</td>\n",
       "      <td>KuwaIT</td>\n",
       "      <td>MiddleSchool</td>\n",
       "      <td>G-07</td>\n",
       "      <td>A</td>\n",
       "      <td>Math</td>\n",
       "      <td>F</td>\n",
       "      <td>Father</td>\n",
       "      <td>55</td>\n",
       "      <td>13</td>\n",
       "      <td>35</td>\n",
       "      <td>90</td>\n",
       "      <td>No</td>\n",
       "      <td>Bad</td>\n",
       "      <td>Above-7</td>\n",
       "      <td>M</td>\n",
       "      <td>Sciences</td>\n",
       "    </tr>\n",
       "    <tr>\n",
       "      <th>18</th>\n",
       "      <td>F</td>\n",
       "      <td>KW</td>\n",
       "      <td>KuwaIT</td>\n",
       "      <td>MiddleSchool</td>\n",
       "      <td>G-07</td>\n",
       "      <td>A</td>\n",
       "      <td>IT</td>\n",
       "      <td>F</td>\n",
       "      <td>Mum</td>\n",
       "      <td>69</td>\n",
       "      <td>15</td>\n",
       "      <td>36</td>\n",
       "      <td>96</td>\n",
       "      <td>Yes</td>\n",
       "      <td>Good</td>\n",
       "      <td>Under-7</td>\n",
       "      <td>M</td>\n",
       "      <td>information technology</td>\n",
       "    </tr>\n",
       "    <tr>\n",
       "      <th>19</th>\n",
       "      <td>M</td>\n",
       "      <td>KW</td>\n",
       "      <td>KuwaIT</td>\n",
       "      <td>MiddleSchool</td>\n",
       "      <td>G-07</td>\n",
       "      <td>B</td>\n",
       "      <td>IT</td>\n",
       "      <td>F</td>\n",
       "      <td>Mum</td>\n",
       "      <td>70</td>\n",
       "      <td>50</td>\n",
       "      <td>40</td>\n",
       "      <td>99</td>\n",
       "      <td>Yes</td>\n",
       "      <td>Good</td>\n",
       "      <td>Under-7</td>\n",
       "      <td>H</td>\n",
       "      <td>information technology</td>\n",
       "    </tr>\n",
       "  </tbody>\n",
       "</table>\n",
       "</div>"
      ],
      "text/plain": [
       "   gender NationalITy PlaceofBirth       StageID GradeID SectionID Topic  \\\n",
       "0       M          KW       KuwaIT    lowerlevel    G-04         A    IT   \n",
       "1       M          KW       KuwaIT    lowerlevel    G-04         A    IT   \n",
       "2       M          KW       KuwaIT    lowerlevel    G-04         A    IT   \n",
       "3       M          KW       KuwaIT    lowerlevel    G-04         A    IT   \n",
       "4       M          KW       KuwaIT    lowerlevel    G-04         A    IT   \n",
       "5       F          KW       KuwaIT    lowerlevel    G-04         A    IT   \n",
       "6       M          KW       KuwaIT  MiddleSchool    G-07         A  Math   \n",
       "7       M          KW       KuwaIT  MiddleSchool    G-07         A  Math   \n",
       "8       F          KW       KuwaIT  MiddleSchool    G-07         A  Math   \n",
       "9       F          KW       KuwaIT  MiddleSchool    G-07         B    IT   \n",
       "10      M          KW       KuwaIT  MiddleSchool    G-07         A  Math   \n",
       "11      M          KW       KuwaIT  MiddleSchool    G-07         B  Math   \n",
       "12      M          KW       KuwaIT    lowerlevel    G-04         A    IT   \n",
       "13      M     lebanon      lebanon  MiddleSchool    G-08         A  Math   \n",
       "14      F          KW       KuwaIT  MiddleSchool    G-08         A  Math   \n",
       "15      F          KW       KuwaIT  MiddleSchool    G-06         A    IT   \n",
       "16      M          KW       KuwaIT  MiddleSchool    G-07         B    IT   \n",
       "17      M          KW       KuwaIT  MiddleSchool    G-07         A  Math   \n",
       "18      F          KW       KuwaIT  MiddleSchool    G-07         A    IT   \n",
       "19      M          KW       KuwaIT  MiddleSchool    G-07         B    IT   \n",
       "\n",
       "   Semester Relation  raisedhands  VisITedResources  AnnouncementsView  \\\n",
       "0         F   Father           15                16                  2   \n",
       "1         F   Father           20                20                  3   \n",
       "2         F   Father           10                 7                  0   \n",
       "3         F   Father           30                25                  5   \n",
       "4         F   Father           40                50                 12   \n",
       "5         F   Father           42                30                 13   \n",
       "6         F   Father           35                12                  0   \n",
       "7         F   Father           50                10                 15   \n",
       "8         F   Father           12                21                 16   \n",
       "9         F   Father           70                80                 25   \n",
       "10        F   Father           50                88                 30   \n",
       "11        F   Father           19                 6                 19   \n",
       "12        F   Father            5                 1                  0   \n",
       "13        F   Father           20                14                 12   \n",
       "14        F      Mum           62                70                 44   \n",
       "15        F   Father           30                40                 22   \n",
       "16        F   Father           36                30                 20   \n",
       "17        F   Father           55                13                 35   \n",
       "18        F      Mum           69                15                 36   \n",
       "19        F      Mum           70                50                 40   \n",
       "\n",
       "    Discussion ParentAnsweringSurvey ParentschoolSatisfaction  \\\n",
       "0           20                   Yes                     Good   \n",
       "1           25                   Yes                     Good   \n",
       "2           30                    No                      Bad   \n",
       "3           35                    No                      Bad   \n",
       "4           50                    No                      Bad   \n",
       "5           70                   Yes                      Bad   \n",
       "6           17                    No                      Bad   \n",
       "7           22                   Yes                     Good   \n",
       "8           50                   Yes                     Good   \n",
       "9           70                   Yes                     Good   \n",
       "10          80                   Yes                     Good   \n",
       "11          12                   Yes                     Good   \n",
       "12          11                    No                      Bad   \n",
       "13          19                    No                      Bad   \n",
       "14          60                    No                      Bad   \n",
       "15          66                   Yes                     Good   \n",
       "16          80                    No                      Bad   \n",
       "17          90                    No                      Bad   \n",
       "18          96                   Yes                     Good   \n",
       "19          99                   Yes                     Good   \n",
       "\n",
       "   StudentAbsenceDays Class                  Tracks  \n",
       "0             Under-7     M  information technology  \n",
       "1             Under-7     M  information technology  \n",
       "2             Above-7     L  information technology  \n",
       "3             Above-7     L  information technology  \n",
       "4             Above-7     M  information technology  \n",
       "5             Above-7     M  information technology  \n",
       "6             Above-7     L                Sciences  \n",
       "7             Under-7     M                Sciences  \n",
       "8             Under-7     M                Sciences  \n",
       "9             Under-7     M  information technology  \n",
       "10            Under-7     H                Sciences  \n",
       "11            Under-7     M                Sciences  \n",
       "12            Above-7     L  information technology  \n",
       "13            Above-7     L                Sciences  \n",
       "14            Above-7     H                Sciences  \n",
       "15            Under-7     M  information technology  \n",
       "16            Above-7     M  information technology  \n",
       "17            Above-7     M                Sciences  \n",
       "18            Under-7     M  information technology  \n",
       "19            Under-7     H  information technology  "
      ]
     },
     "execution_count": 80,
     "metadata": {},
     "output_type": "execute_result"
    }
   ],
   "source": [
    "data.head(20)"
   ]
  },
  {
   "cell_type": "code",
   "execution_count": 81,
   "id": "68a753ce",
   "metadata": {},
   "outputs": [
    {
     "data": {
      "text/plain": [
       "G-02    147\n",
       "G-08    116\n",
       "G-07    101\n",
       "G-04     48\n",
       "G-06     32\n",
       "G-11     13\n",
       "G-12     11\n",
       "G-09      5\n",
       "G-10      4\n",
       "G-05      3\n",
       "Name: GradeID, dtype: int64"
      ]
     },
     "execution_count": 81,
     "metadata": {},
     "output_type": "execute_result"
    }
   ],
   "source": [
    "data[\"GradeID\"].value_counts()"
   ]
  },
  {
   "cell_type": "code",
   "execution_count": 82,
   "id": "968d01ca",
   "metadata": {},
   "outputs": [
    {
     "data": {
      "text/plain": [
       "<AxesSubplot:xlabel='GradeID', ylabel='count'>"
      ]
     },
     "execution_count": 82,
     "metadata": {},
     "output_type": "execute_result"
    },
    {
     "data": {
      "image/png": "[encoded data removed]",
      "text/plain": [
       "<Figure size 432x288 with 1 Axes>"
      ]
     },
     "metadata": {
      "needs_background": "light"
     },
     "output_type": "display_data"
    }
   ],
   "source": [
    "sns.countplot(x=\"GradeID\",data=data,hue=\"Class\")"
   ]
  },
  {
   "cell_type": "code",
   "execution_count": 83,
   "id": "55daf9ba",
   "metadata": {},
   "outputs": [
    {
     "data": {
      "text/plain": [
       "MiddleSchool    248\n",
       "lowerlevel      199\n",
       "HighSchool       33\n",
       "Name: StageID, dtype: int64"
      ]
     },
     "execution_count": 83,
     "metadata": {},
     "output_type": "execute_result"
    }
   ],
   "source": [
    "data[\"StageID\"].value_counts()"
   ]
  },
  {
   "cell_type": "code",
   "execution_count": 84,
   "id": "f850495f",
   "metadata": {
    "scrolled": true
   },
   "outputs": [
    {
     "data": {
      "text/plain": [
       "StageID       GradeID\n",
       "HighSchool    G-11        13\n",
       "              G-12        11\n",
       "              G-09         5\n",
       "              G-10         4\n",
       "MiddleSchool  G-08       116\n",
       "              G-07       100\n",
       "              G-06        32\n",
       "lowerlevel    G-02       147\n",
       "              G-04        48\n",
       "              G-05         3\n",
       "              G-07         1\n",
       "Name: GradeID, dtype: int64"
      ]
     },
     "execution_count": 84,
     "metadata": {},
     "output_type": "execute_result"
    }
   ],
   "source": [
    "data.groupby(data[\"StageID\"])[\"GradeID\"].value_counts()"
   ]
  },
  {
   "cell_type": "code",
   "execution_count": 85,
   "id": "0b3fc734",
   "metadata": {
    "scrolled": false
   },
   "outputs": [
    {
     "data": {
      "text/plain": [
       "NationalITy  PlaceofBirth\n",
       "Egypt        Egypt             8\n",
       "             KuwaIT            1\n",
       "Iran         Iran              6\n",
       "Iraq         Iraq             22\n",
       "Jordan       Jordan          152\n",
       "             SaudiArabia       9\n",
       "             Palestine         4\n",
       "             lebanon           3\n",
       "             USA               2\n",
       "             Egypt             1\n",
       "             KuwaIT            1\n",
       "KW           KuwaIT          177\n",
       "             USA               2\n",
       "Lybia        Lybia             6\n",
       "Morocco      Morocco           4\n",
       "Palestine    Jordan           22\n",
       "             Palestine         6\n",
       "SaudiArabia  SaudiArabia       6\n",
       "             USA               5\n",
       "Syria        Syria             6\n",
       "             Jordan            1\n",
       "Tunis        Tunis             9\n",
       "             KuwaIT            1\n",
       "             SaudiArabia       1\n",
       "             USA               1\n",
       "USA          USA               6\n",
       "lebanon      lebanon          16\n",
       "             Jordan            1\n",
       "venzuela     venzuela          1\n",
       "Name: PlaceofBirth, dtype: int64"
      ]
     },
     "execution_count": 85,
     "metadata": {},
     "output_type": "execute_result"
    }
   ],
   "source": [
    "data.groupby(data[\"NationalITy\"])[\"PlaceofBirth\"].value_counts()"
   ]
  },
  {
   "cell_type": "code",
   "execution_count": 86,
   "id": "a6b05b97",
   "metadata": {},
   "outputs": [],
   "source": [
    "def PlaceofBirth(row):\n",
    "    \n",
    "    \n",
    "    \n",
    "    if ((row[\"NationalITy\"] == \"Egypt\")  & (row[\"PlaceofBirth\"] == \"Egypt\")) | ((row[\"NationalITy\"] == \"venzuela\") & (row[\"PlaceofBirth\"] == \"venzuela\")) |((row[\"NationalITy\"] == \"lebanon\" )& (row[\"PlaceofBirth\"] == \"lebanon\")) |((row[\"NationalITy\"] == \"USA\") & (row[\"PlaceofBirth\"] == \"USA\"))|((row[\"NationalITy\"] == \"Tunis\")  & (row[\"PlaceofBirth\"] == \"Tunis\"))|((row[\"NationalITy\"] == \"Syria\") & (row[\"PlaceofBirth\"] == \"Syria\"))|((row[\"NationalITy\"]== \"SaudiArabia\")  & (row[\"PlaceofBirth\"] == \"SaudiArabia\"))|((row[\"NationalITy\"]== \"Palestine\")  & (row[\"PlaceofBirth\"] == \"Palestine\"))|((row[\"NationalITy\"] == \"Morocco\") & (row[\"PlaceofBirth\"] == \"Morocco\"))|((row[\"NationalITy\"] == \"Lybia\") & (row[\"PlaceofBirth\"] == \"Lybia\"))|((row[\"NationalITy\"] == \"Jordan\") & (row[\"PlaceofBirth\"] == \"Jordan\"))|((row[\"NationalITy\"]== \"Iraq\") & (row[\"PlaceofBirth\"] == \"Iraq\"))|((row[\"NationalITy\"] == \"KW\") & (row[\"PlaceofBirth\"] ==\"KuwaIT\"))|((row[\"NationalITy\"]== \"Iran\") & (row[\"PlaceofBirth\"] == \"Iran\")):\n",
    "            return 1\n",
    "    else:\n",
    "        return 0 \n",
    "    "
   ]
  },
  {
   "cell_type": "code",
   "execution_count": 87,
   "id": "37da974b",
   "metadata": {
    "scrolled": true
   },
   "outputs": [],
   "source": [
    "data[\"BrithInHisCountery\"] = data.apply(PlaceofBirth, axis=1)"
   ]
  },
  {
   "cell_type": "code",
   "execution_count": 88,
   "id": "ffa822fd",
   "metadata": {},
   "outputs": [
    {
     "data": {
      "text/html": [
       "<div>\n",
       "<style scoped>\n",
       "    .dataframe tbody tr th:only-of-type {\n",
       "        vertical-align: middle;\n",
       "    }\n",
       "\n",
       "    .dataframe tbody tr th {\n",
       "        vertical-align: top;\n",
       "    }\n",
       "\n",
       "    .dataframe thead th {\n",
       "        text-align: right;\n",
       "    }\n",
       "</style>\n",
       "<table border=\"1\" class=\"dataframe\">\n",
       "  <thead>\n",
       "    <tr style=\"text-align: right;\">\n",
       "      <th></th>\n",
       "      <th>gender</th>\n",
       "      <th>NationalITy</th>\n",
       "      <th>PlaceofBirth</th>\n",
       "      <th>StageID</th>\n",
       "      <th>GradeID</th>\n",
       "      <th>SectionID</th>\n",
       "      <th>Topic</th>\n",
       "      <th>Semester</th>\n",
       "      <th>Relation</th>\n",
       "      <th>raisedhands</th>\n",
       "      <th>VisITedResources</th>\n",
       "      <th>AnnouncementsView</th>\n",
       "      <th>Discussion</th>\n",
       "      <th>ParentAnsweringSurvey</th>\n",
       "      <th>ParentschoolSatisfaction</th>\n",
       "      <th>StudentAbsenceDays</th>\n",
       "      <th>Class</th>\n",
       "      <th>Tracks</th>\n",
       "      <th>BrithInHisCountery</th>\n",
       "    </tr>\n",
       "  </thead>\n",
       "  <tbody>\n",
       "    <tr>\n",
       "      <th>0</th>\n",
       "      <td>M</td>\n",
       "      <td>KW</td>\n",
       "      <td>KuwaIT</td>\n",
       "      <td>lowerlevel</td>\n",
       "      <td>G-04</td>\n",
       "      <td>A</td>\n",
       "      <td>IT</td>\n",
       "      <td>F</td>\n",
       "      <td>Father</td>\n",
       "      <td>15</td>\n",
       "      <td>16</td>\n",
       "      <td>2</td>\n",
       "      <td>20</td>\n",
       "      <td>Yes</td>\n",
       "      <td>Good</td>\n",
       "      <td>Under-7</td>\n",
       "      <td>M</td>\n",
       "      <td>information technology</td>\n",
       "      <td>1</td>\n",
       "    </tr>\n",
       "    <tr>\n",
       "      <th>1</th>\n",
       "      <td>M</td>\n",
       "      <td>KW</td>\n",
       "      <td>KuwaIT</td>\n",
       "      <td>lowerlevel</td>\n",
       "      <td>G-04</td>\n",
       "      <td>A</td>\n",
       "      <td>IT</td>\n",
       "      <td>F</td>\n",
       "      <td>Father</td>\n",
       "      <td>20</td>\n",
       "      <td>20</td>\n",
       "      <td>3</td>\n",
       "      <td>25</td>\n",
       "      <td>Yes</td>\n",
       "      <td>Good</td>\n",
       "      <td>Under-7</td>\n",
       "      <td>M</td>\n",
       "      <td>information technology</td>\n",
       "      <td>1</td>\n",
       "    </tr>\n",
       "    <tr>\n",
       "      <th>2</th>\n",
       "      <td>M</td>\n",
       "      <td>KW</td>\n",
       "      <td>KuwaIT</td>\n",
       "      <td>lowerlevel</td>\n",
       "      <td>G-04</td>\n",
       "      <td>A</td>\n",
       "      <td>IT</td>\n",
       "      <td>F</td>\n",
       "      <td>Father</td>\n",
       "      <td>10</td>\n",
       "      <td>7</td>\n",
       "      <td>0</td>\n",
       "      <td>30</td>\n",
       "      <td>No</td>\n",
       "      <td>Bad</td>\n",
       "      <td>Above-7</td>\n",
       "      <td>L</td>\n",
       "      <td>information technology</td>\n",
       "      <td>1</td>\n",
       "    </tr>\n",
       "    <tr>\n",
       "      <th>3</th>\n",
       "      <td>M</td>\n",
       "      <td>KW</td>\n",
       "      <td>KuwaIT</td>\n",
       "      <td>lowerlevel</td>\n",
       "      <td>G-04</td>\n",
       "      <td>A</td>\n",
       "      <td>IT</td>\n",
       "      <td>F</td>\n",
       "      <td>Father</td>\n",
       "      <td>30</td>\n",
       "      <td>25</td>\n",
       "      <td>5</td>\n",
       "      <td>35</td>\n",
       "      <td>No</td>\n",
       "      <td>Bad</td>\n",
       "      <td>Above-7</td>\n",
       "      <td>L</td>\n",
       "      <td>information technology</td>\n",
       "      <td>1</td>\n",
       "    </tr>\n",
       "    <tr>\n",
       "      <th>4</th>\n",
       "      <td>M</td>\n",
       "      <td>KW</td>\n",
       "      <td>KuwaIT</td>\n",
       "      <td>lowerlevel</td>\n",
       "      <td>G-04</td>\n",
       "      <td>A</td>\n",
       "      <td>IT</td>\n",
       "      <td>F</td>\n",
       "      <td>Father</td>\n",
       "      <td>40</td>\n",
       "      <td>50</td>\n",
       "      <td>12</td>\n",
       "      <td>50</td>\n",
       "      <td>No</td>\n",
       "      <td>Bad</td>\n",
       "      <td>Above-7</td>\n",
       "      <td>M</td>\n",
       "      <td>information technology</td>\n",
       "      <td>1</td>\n",
       "    </tr>\n",
       "  </tbody>\n",
       "</table>\n",
       "</div>"
      ],
      "text/plain": [
       "  gender NationalITy PlaceofBirth     StageID GradeID SectionID Topic  \\\n",
       "0      M          KW       KuwaIT  lowerlevel    G-04         A    IT   \n",
       "1      M          KW       KuwaIT  lowerlevel    G-04         A    IT   \n",
       "2      M          KW       KuwaIT  lowerlevel    G-04         A    IT   \n",
       "3      M          KW       KuwaIT  lowerlevel    G-04         A    IT   \n",
       "4      M          KW       KuwaIT  lowerlevel    G-04         A    IT   \n",
       "\n",
       "  Semester Relation  raisedhands  VisITedResources  AnnouncementsView  \\\n",
       "0        F   Father           15                16                  2   \n",
       "1        F   Father           20                20                  3   \n",
       "2        F   Father           10                 7                  0   \n",
       "3        F   Father           30                25                  5   \n",
       "4        F   Father           40                50                 12   \n",
       "\n",
       "   Discussion ParentAnsweringSurvey ParentschoolSatisfaction  \\\n",
       "0          20                   Yes                     Good   \n",
       "1          25                   Yes                     Good   \n",
       "2          30                    No                      Bad   \n",
       "3          35                    No                      Bad   \n",
       "4          50                    No                      Bad   \n",
       "\n",
       "  StudentAbsenceDays Class                  Tracks  BrithInHisCountery  \n",
       "0            Under-7     M  information technology                   1  \n",
       "1            Under-7     M  information technology                   1  \n",
       "2            Above-7     L  information technology                   1  \n",
       "3            Above-7     L  information technology                   1  \n",
       "4            Above-7     M  information technology                   1  "
      ]
     },
     "execution_count": 88,
     "metadata": {},
     "output_type": "execute_result"
    }
   ],
   "source": [
    "data.head()"
   ]
  },
  {
   "cell_type": "code",
   "execution_count": 89,
   "id": "2cf9a793",
   "metadata": {},
   "outputs": [
    {
     "data": {
      "text/plain": [
       "PlaceofBirth  NationalITy\n",
       "Egypt         Egypt            8\n",
       "              Jordan           1\n",
       "Iran          Iran             6\n",
       "Iraq          Iraq            22\n",
       "Jordan        Jordan         152\n",
       "              Palestine       22\n",
       "              Syria            1\n",
       "              lebanon          1\n",
       "KuwaIT        KW             177\n",
       "              Egypt            1\n",
       "              Jordan           1\n",
       "              Tunis            1\n",
       "Lybia         Lybia            6\n",
       "Morocco       Morocco          4\n",
       "Palestine     Palestine        6\n",
       "              Jordan           4\n",
       "SaudiArabia   Jordan           9\n",
       "              SaudiArabia      6\n",
       "              Tunis            1\n",
       "Syria         Syria            6\n",
       "Tunis         Tunis            9\n",
       "USA           USA              6\n",
       "              SaudiArabia      5\n",
       "              Jordan           2\n",
       "              KW               2\n",
       "              Tunis            1\n",
       "lebanon       lebanon         16\n",
       "              Jordan           3\n",
       "venzuela      venzuela         1\n",
       "Name: NationalITy, dtype: int64"
      ]
     },
     "execution_count": 89,
     "metadata": {},
     "output_type": "execute_result"
    }
   ],
   "source": [
    "data.groupby(data[\"PlaceofBirth\"])[\"NationalITy\"].value_counts()"
   ]
  },
  {
   "cell_type": "code",
   "execution_count": 90,
   "id": "b4796a1d",
   "metadata": {},
   "outputs": [],
   "source": [
    "## we will create new feature called BirthInHisCountery if the student porn in his countery or not (0,1)"
   ]
  },
  {
   "cell_type": "code",
   "execution_count": 91,
   "id": "759a3d60",
   "metadata": {},
   "outputs": [
    {
     "data": {
      "text/html": [
       "<div>\n",
       "<style scoped>\n",
       "    .dataframe tbody tr th:only-of-type {\n",
       "        vertical-align: middle;\n",
       "    }\n",
       "\n",
       "    .dataframe tbody tr th {\n",
       "        vertical-align: top;\n",
       "    }\n",
       "\n",
       "    .dataframe thead th {\n",
       "        text-align: right;\n",
       "    }\n",
       "</style>\n",
       "<table border=\"1\" class=\"dataframe\">\n",
       "  <thead>\n",
       "    <tr style=\"text-align: right;\">\n",
       "      <th></th>\n",
       "      <th>gender</th>\n",
       "      <th>NationalITy</th>\n",
       "      <th>PlaceofBirth</th>\n",
       "      <th>StageID</th>\n",
       "      <th>GradeID</th>\n",
       "      <th>SectionID</th>\n",
       "      <th>Topic</th>\n",
       "      <th>Semester</th>\n",
       "      <th>Relation</th>\n",
       "      <th>raisedhands</th>\n",
       "      <th>VisITedResources</th>\n",
       "      <th>AnnouncementsView</th>\n",
       "      <th>Discussion</th>\n",
       "      <th>ParentAnsweringSurvey</th>\n",
       "      <th>ParentschoolSatisfaction</th>\n",
       "      <th>StudentAbsenceDays</th>\n",
       "      <th>Class</th>\n",
       "      <th>Tracks</th>\n",
       "      <th>BrithInHisCountery</th>\n",
       "    </tr>\n",
       "  </thead>\n",
       "  <tbody>\n",
       "    <tr>\n",
       "      <th>0</th>\n",
       "      <td>M</td>\n",
       "      <td>KW</td>\n",
       "      <td>KuwaIT</td>\n",
       "      <td>lowerlevel</td>\n",
       "      <td>G-04</td>\n",
       "      <td>A</td>\n",
       "      <td>IT</td>\n",
       "      <td>F</td>\n",
       "      <td>Father</td>\n",
       "      <td>15</td>\n",
       "      <td>16</td>\n",
       "      <td>2</td>\n",
       "      <td>20</td>\n",
       "      <td>Yes</td>\n",
       "      <td>Good</td>\n",
       "      <td>Under-7</td>\n",
       "      <td>M</td>\n",
       "      <td>information technology</td>\n",
       "      <td>1</td>\n",
       "    </tr>\n",
       "    <tr>\n",
       "      <th>1</th>\n",
       "      <td>M</td>\n",
       "      <td>KW</td>\n",
       "      <td>KuwaIT</td>\n",
       "      <td>lowerlevel</td>\n",
       "      <td>G-04</td>\n",
       "      <td>A</td>\n",
       "      <td>IT</td>\n",
       "      <td>F</td>\n",
       "      <td>Father</td>\n",
       "      <td>20</td>\n",
       "      <td>20</td>\n",
       "      <td>3</td>\n",
       "      <td>25</td>\n",
       "      <td>Yes</td>\n",
       "      <td>Good</td>\n",
       "      <td>Under-7</td>\n",
       "      <td>M</td>\n",
       "      <td>information technology</td>\n",
       "      <td>1</td>\n",
       "    </tr>\n",
       "    <tr>\n",
       "      <th>2</th>\n",
       "      <td>M</td>\n",
       "      <td>KW</td>\n",
       "      <td>KuwaIT</td>\n",
       "      <td>lowerlevel</td>\n",
       "      <td>G-04</td>\n",
       "      <td>A</td>\n",
       "      <td>IT</td>\n",
       "      <td>F</td>\n",
       "      <td>Father</td>\n",
       "      <td>10</td>\n",
       "      <td>7</td>\n",
       "      <td>0</td>\n",
       "      <td>30</td>\n",
       "      <td>No</td>\n",
       "      <td>Bad</td>\n",
       "      <td>Above-7</td>\n",
       "      <td>L</td>\n",
       "      <td>information technology</td>\n",
       "      <td>1</td>\n",
       "    </tr>\n",
       "    <tr>\n",
       "      <th>3</th>\n",
       "      <td>M</td>\n",
       "      <td>KW</td>\n",
       "      <td>KuwaIT</td>\n",
       "      <td>lowerlevel</td>\n",
       "      <td>G-04</td>\n",
       "      <td>A</td>\n",
       "      <td>IT</td>\n",
       "      <td>F</td>\n",
       "      <td>Father</td>\n",
       "      <td>30</td>\n",
       "      <td>25</td>\n",
       "      <td>5</td>\n",
       "      <td>35</td>\n",
       "      <td>No</td>\n",
       "      <td>Bad</td>\n",
       "      <td>Above-7</td>\n",
       "      <td>L</td>\n",
       "      <td>information technology</td>\n",
       "      <td>1</td>\n",
       "    </tr>\n",
       "    <tr>\n",
       "      <th>4</th>\n",
       "      <td>M</td>\n",
       "      <td>KW</td>\n",
       "      <td>KuwaIT</td>\n",
       "      <td>lowerlevel</td>\n",
       "      <td>G-04</td>\n",
       "      <td>A</td>\n",
       "      <td>IT</td>\n",
       "      <td>F</td>\n",
       "      <td>Father</td>\n",
       "      <td>40</td>\n",
       "      <td>50</td>\n",
       "      <td>12</td>\n",
       "      <td>50</td>\n",
       "      <td>No</td>\n",
       "      <td>Bad</td>\n",
       "      <td>Above-7</td>\n",
       "      <td>M</td>\n",
       "      <td>information technology</td>\n",
       "      <td>1</td>\n",
       "    </tr>\n",
       "  </tbody>\n",
       "</table>\n",
       "</div>"
      ],
      "text/plain": [
       "  gender NationalITy PlaceofBirth     StageID GradeID SectionID Topic  \\\n",
       "0      M          KW       KuwaIT  lowerlevel    G-04         A    IT   \n",
       "1      M          KW       KuwaIT  lowerlevel    G-04         A    IT   \n",
       "2      M          KW       KuwaIT  lowerlevel    G-04         A    IT   \n",
       "3      M          KW       KuwaIT  lowerlevel    G-04         A    IT   \n",
       "4      M          KW       KuwaIT  lowerlevel    G-04         A    IT   \n",
       "\n",
       "  Semester Relation  raisedhands  VisITedResources  AnnouncementsView  \\\n",
       "0        F   Father           15                16                  2   \n",
       "1        F   Father           20                20                  3   \n",
       "2        F   Father           10                 7                  0   \n",
       "3        F   Father           30                25                  5   \n",
       "4        F   Father           40                50                 12   \n",
       "\n",
       "   Discussion ParentAnsweringSurvey ParentschoolSatisfaction  \\\n",
       "0          20                   Yes                     Good   \n",
       "1          25                   Yes                     Good   \n",
       "2          30                    No                      Bad   \n",
       "3          35                    No                      Bad   \n",
       "4          50                    No                      Bad   \n",
       "\n",
       "  StudentAbsenceDays Class                  Tracks  BrithInHisCountery  \n",
       "0            Under-7     M  information technology                   1  \n",
       "1            Under-7     M  information technology                   1  \n",
       "2            Above-7     L  information technology                   1  \n",
       "3            Above-7     L  information technology                   1  \n",
       "4            Above-7     M  information technology                   1  "
      ]
     },
     "execution_count": 91,
     "metadata": {},
     "output_type": "execute_result"
    }
   ],
   "source": [
    "data.head()"
   ]
  },
  {
   "cell_type": "code",
   "execution_count": 92,
   "id": "e2960e6b",
   "metadata": {},
   "outputs": [],
   "source": [
    "# <!-- we will make new column called confeneitInScoohle (مرتاح في المدرسة ) if the VisITedResources and Discussion and ParentschoolSatisfaction and StudentAbsenceDays under-7    -->"
   ]
  },
  {
   "cell_type": "code",
   "execution_count": 93,
   "id": "40399ae9",
   "metadata": {},
   "outputs": [],
   "source": [
    "# new column called (تفاعل المسؤل مع المدرسة ) father-yes , father-no , mum-yes mum-no ,, \n",
    "# Relation + ParentschoolSatisfaction "
   ]
  },
  {
   "cell_type": "code",
   "execution_count": 94,
   "id": "9386e772",
   "metadata": {},
   "outputs": [],
   "source": [
    "data[\"ParentInteractionWithSchool\"] = data[\"Relation\"] +\"-\"+ data[\"ParentschoolSatisfaction\"]"
   ]
  },
  {
   "cell_type": "code",
   "execution_count": 95,
   "id": "70cd7a1d",
   "metadata": {
    "scrolled": true
   },
   "outputs": [
    {
     "data": {
      "text/html": [
       "<div>\n",
       "<style scoped>\n",
       "    .dataframe tbody tr th:only-of-type {\n",
       "        vertical-align: middle;\n",
       "    }\n",
       "\n",
       "    .dataframe tbody tr th {\n",
       "        vertical-align: top;\n",
       "    }\n",
       "\n",
       "    .dataframe thead th {\n",
       "        text-align: right;\n",
       "    }\n",
       "</style>\n",
       "<table border=\"1\" class=\"dataframe\">\n",
       "  <thead>\n",
       "    <tr style=\"text-align: right;\">\n",
       "      <th></th>\n",
       "      <th>gender</th>\n",
       "      <th>NationalITy</th>\n",
       "      <th>PlaceofBirth</th>\n",
       "      <th>StageID</th>\n",
       "      <th>GradeID</th>\n",
       "      <th>SectionID</th>\n",
       "      <th>Topic</th>\n",
       "      <th>Semester</th>\n",
       "      <th>Relation</th>\n",
       "      <th>raisedhands</th>\n",
       "      <th>VisITedResources</th>\n",
       "      <th>AnnouncementsView</th>\n",
       "      <th>Discussion</th>\n",
       "      <th>ParentAnsweringSurvey</th>\n",
       "      <th>ParentschoolSatisfaction</th>\n",
       "      <th>StudentAbsenceDays</th>\n",
       "      <th>Class</th>\n",
       "      <th>Tracks</th>\n",
       "      <th>BrithInHisCountery</th>\n",
       "      <th>ParentInteractionWithSchool</th>\n",
       "    </tr>\n",
       "  </thead>\n",
       "  <tbody>\n",
       "    <tr>\n",
       "      <th>0</th>\n",
       "      <td>M</td>\n",
       "      <td>KW</td>\n",
       "      <td>KuwaIT</td>\n",
       "      <td>lowerlevel</td>\n",
       "      <td>G-04</td>\n",
       "      <td>A</td>\n",
       "      <td>IT</td>\n",
       "      <td>F</td>\n",
       "      <td>Father</td>\n",
       "      <td>15</td>\n",
       "      <td>16</td>\n",
       "      <td>2</td>\n",
       "      <td>20</td>\n",
       "      <td>Yes</td>\n",
       "      <td>Good</td>\n",
       "      <td>Under-7</td>\n",
       "      <td>M</td>\n",
       "      <td>information technology</td>\n",
       "      <td>1</td>\n",
       "      <td>Father-Good</td>\n",
       "    </tr>\n",
       "    <tr>\n",
       "      <th>1</th>\n",
       "      <td>M</td>\n",
       "      <td>KW</td>\n",
       "      <td>KuwaIT</td>\n",
       "      <td>lowerlevel</td>\n",
       "      <td>G-04</td>\n",
       "      <td>A</td>\n",
       "      <td>IT</td>\n",
       "      <td>F</td>\n",
       "      <td>Father</td>\n",
       "      <td>20</td>\n",
       "      <td>20</td>\n",
       "      <td>3</td>\n",
       "      <td>25</td>\n",
       "      <td>Yes</td>\n",
       "      <td>Good</td>\n",
       "      <td>Under-7</td>\n",
       "      <td>M</td>\n",
       "      <td>information technology</td>\n",
       "      <td>1</td>\n",
       "      <td>Father-Good</td>\n",
       "    </tr>\n",
       "    <tr>\n",
       "      <th>2</th>\n",
       "      <td>M</td>\n",
       "      <td>KW</td>\n",
       "      <td>KuwaIT</td>\n",
       "      <td>lowerlevel</td>\n",
       "      <td>G-04</td>\n",
       "      <td>A</td>\n",
       "      <td>IT</td>\n",
       "      <td>F</td>\n",
       "      <td>Father</td>\n",
       "      <td>10</td>\n",
       "      <td>7</td>\n",
       "      <td>0</td>\n",
       "      <td>30</td>\n",
       "      <td>No</td>\n",
       "      <td>Bad</td>\n",
       "      <td>Above-7</td>\n",
       "      <td>L</td>\n",
       "      <td>information technology</td>\n",
       "      <td>1</td>\n",
       "      <td>Father-Bad</td>\n",
       "    </tr>\n",
       "    <tr>\n",
       "      <th>3</th>\n",
       "      <td>M</td>\n",
       "      <td>KW</td>\n",
       "      <td>KuwaIT</td>\n",
       "      <td>lowerlevel</td>\n",
       "      <td>G-04</td>\n",
       "      <td>A</td>\n",
       "      <td>IT</td>\n",
       "      <td>F</td>\n",
       "      <td>Father</td>\n",
       "      <td>30</td>\n",
       "      <td>25</td>\n",
       "      <td>5</td>\n",
       "      <td>35</td>\n",
       "      <td>No</td>\n",
       "      <td>Bad</td>\n",
       "      <td>Above-7</td>\n",
       "      <td>L</td>\n",
       "      <td>information technology</td>\n",
       "      <td>1</td>\n",
       "      <td>Father-Bad</td>\n",
       "    </tr>\n",
       "    <tr>\n",
       "      <th>4</th>\n",
       "      <td>M</td>\n",
       "      <td>KW</td>\n",
       "      <td>KuwaIT</td>\n",
       "      <td>lowerlevel</td>\n",
       "      <td>G-04</td>\n",
       "      <td>A</td>\n",
       "      <td>IT</td>\n",
       "      <td>F</td>\n",
       "      <td>Father</td>\n",
       "      <td>40</td>\n",
       "      <td>50</td>\n",
       "      <td>12</td>\n",
       "      <td>50</td>\n",
       "      <td>No</td>\n",
       "      <td>Bad</td>\n",
       "      <td>Above-7</td>\n",
       "      <td>M</td>\n",
       "      <td>information technology</td>\n",
       "      <td>1</td>\n",
       "      <td>Father-Bad</td>\n",
       "    </tr>\n",
       "  </tbody>\n",
       "</table>\n",
       "</div>"
      ],
      "text/plain": [
       "  gender NationalITy PlaceofBirth     StageID GradeID SectionID Topic  \\\n",
       "0      M          KW       KuwaIT  lowerlevel    G-04         A    IT   \n",
       "1      M          KW       KuwaIT  lowerlevel    G-04         A    IT   \n",
       "2      M          KW       KuwaIT  lowerlevel    G-04         A    IT   \n",
       "3      M          KW       KuwaIT  lowerlevel    G-04         A    IT   \n",
       "4      M          KW       KuwaIT  lowerlevel    G-04         A    IT   \n",
       "\n",
       "  Semester Relation  raisedhands  VisITedResources  AnnouncementsView  \\\n",
       "0        F   Father           15                16                  2   \n",
       "1        F   Father           20                20                  3   \n",
       "2        F   Father           10                 7                  0   \n",
       "3        F   Father           30                25                  5   \n",
       "4        F   Father           40                50                 12   \n",
       "\n",
       "   Discussion ParentAnsweringSurvey ParentschoolSatisfaction  \\\n",
       "0          20                   Yes                     Good   \n",
       "1          25                   Yes                     Good   \n",
       "2          30                    No                      Bad   \n",
       "3          35                    No                      Bad   \n",
       "4          50                    No                      Bad   \n",
       "\n",
       "  StudentAbsenceDays Class                  Tracks  BrithInHisCountery  \\\n",
       "0            Under-7     M  information technology                   1   \n",
       "1            Under-7     M  information technology                   1   \n",
       "2            Above-7     L  information technology                   1   \n",
       "3            Above-7     L  information technology                   1   \n",
       "4            Above-7     M  information technology                   1   \n",
       "\n",
       "  ParentInteractionWithSchool  \n",
       "0                 Father-Good  \n",
       "1                 Father-Good  \n",
       "2                  Father-Bad  \n",
       "3                  Father-Bad  \n",
       "4                  Father-Bad  "
      ]
     },
     "execution_count": 95,
     "metadata": {},
     "output_type": "execute_result"
    }
   ],
   "source": [
    "data.head()"
   ]
  },
  {
   "cell_type": "code",
   "execution_count": 96,
   "id": "b9d90b48",
   "metadata": {
    "scrolled": true
   },
   "outputs": [
    {
     "data": {
      "text/plain": [
       "MiddleSchool    248\n",
       "lowerlevel      199\n",
       "HighSchool       33\n",
       "Name: StageID, dtype: int64"
      ]
     },
     "execution_count": 96,
     "metadata": {},
     "output_type": "execute_result"
    }
   ],
   "source": [
    "data[\"StageID\"].value_counts()"
   ]
  },
  {
   "cell_type": "markdown",
   "id": "ba7fbe6b",
   "metadata": {},
   "source": [
    "we make new column called (loveTopic) if the student love the topic he will do good in it ----->\n",
    "raisedhands + VisITedResources + AnnouncementsView + Discussion  more than mean of (raisedhands + VisITedResources + AnnouncementsView + Discussion) and StudentAbsenceDays under-7 then we put 1 ,,, otherwise 0 "
   ]
  },
  {
   "cell_type": "code",
   "execution_count": 97,
   "id": "2c17296c",
   "metadata": {},
   "outputs": [
    {
     "data": {
      "text/plain": [
       "raisedhands           38.447236\n",
       "VisITedResources      50.798995\n",
       "AnnouncementsView     31.417085\n",
       "Discussion            38.427136\n",
       "BrithInHisCountery     0.914573\n",
       "dtype: float64"
      ]
     },
     "execution_count": 97,
     "metadata": {},
     "output_type": "execute_result"
    }
   ],
   "source": [
    "data[data[\"StageID\"] == \"lowerlevel\"].mean()"
   ]
  },
  {
   "cell_type": "code",
   "execution_count": 98,
   "id": "180883ae",
   "metadata": {},
   "outputs": [],
   "source": [
    "meanOfLower = 38.447236 + 50.798995 + 31.417085 + 38.427136"
   ]
  },
  {
   "cell_type": "code",
   "execution_count": 99,
   "id": "7de134e0",
   "metadata": {},
   "outputs": [
    {
     "data": {
      "text/plain": [
       "159.090452"
      ]
     },
     "execution_count": 99,
     "metadata": {},
     "output_type": "execute_result"
    }
   ],
   "source": [
    "meanOfLower"
   ]
  },
  {
   "cell_type": "code",
   "execution_count": 100,
   "id": "8a85c910",
   "metadata": {},
   "outputs": [
    {
     "data": {
      "text/plain": [
       "raisedhands           53.939516\n",
       "VisITedResources      58.568548\n",
       "AnnouncementsView     43.274194\n",
       "Discussion            45.875000\n",
       "BrithInHisCountery     0.879032\n",
       "dtype: float64"
      ]
     },
     "execution_count": 100,
     "metadata": {},
     "output_type": "execute_result"
    }
   ],
   "source": [
    "data[data[\"StageID\"] == \"MiddleSchool\"].mean()"
   ]
  },
  {
   "cell_type": "code",
   "execution_count": 101,
   "id": "92dbc378",
   "metadata": {},
   "outputs": [],
   "source": [
    "meanOfMiddle = 53.939516 + 58.568548 + 43.274194 + 45.875000"
   ]
  },
  {
   "cell_type": "code",
   "execution_count": 102,
   "id": "50c57dc1",
   "metadata": {},
   "outputs": [
    {
     "data": {
      "text/plain": [
       "201.65725799999998"
      ]
     },
     "execution_count": 102,
     "metadata": {},
     "output_type": "execute_result"
    }
   ],
   "source": [
    "meanOfMiddle"
   ]
  },
  {
   "cell_type": "code",
   "execution_count": 103,
   "id": "204193a3",
   "metadata": {},
   "outputs": [
    {
     "data": {
      "text/plain": [
       "raisedhands           43.151515\n",
       "VisITedResources      50.575758\n",
       "AnnouncementsView     36.878788\n",
       "Discussion            53.090909\n",
       "BrithInHisCountery     0.757576\n",
       "dtype: float64"
      ]
     },
     "execution_count": 103,
     "metadata": {},
     "output_type": "execute_result"
    }
   ],
   "source": [
    "data[data[\"StageID\"] == \"HighSchool\"].mean()"
   ]
  },
  {
   "cell_type": "code",
   "execution_count": 104,
   "id": "40484a50",
   "metadata": {},
   "outputs": [],
   "source": [
    "meanOfHigh = 43.151515 + 50.575758 + 36.878788 + 53.090909"
   ]
  },
  {
   "cell_type": "code",
   "execution_count": 105,
   "id": "2507fd01",
   "metadata": {},
   "outputs": [
    {
     "data": {
      "text/plain": [
       "183.69697000000002"
      ]
     },
     "execution_count": 105,
     "metadata": {},
     "output_type": "execute_result"
    }
   ],
   "source": [
    "meanOfHigh"
   ]
  },
  {
   "cell_type": "code",
   "execution_count": 106,
   "id": "45ebadc0",
   "metadata": {},
   "outputs": [],
   "source": [
    "def loveTopic(row):\n",
    "    if row[\"StageID\"] == \"lowerlevel\":\n",
    "        if (row[\"raisedhands\"] + row[\"VisITedResources\"] + row[\"AnnouncementsView\"] + row[\"Discussion\"]) > 159.090452 :\n",
    "            return 1\n",
    "        else:\n",
    "            return 0\n",
    "    if row[\"StageID\"] == \"MiddleSchool\":\n",
    "        if (row[\"raisedhands\"] + row[\"VisITedResources\"] + row[\"AnnouncementsView\"] + row[\"Discussion\"]) > 201.65725799999998 :\n",
    "            return 1\n",
    "        else:\n",
    "            return 0\n",
    "    if row[\"StageID\"] == \"HighSchool\":\n",
    "        if (row[\"raisedhands\"] + row[\"VisITedResources\"] + row[\"AnnouncementsView\"] + row[\"Discussion\"]) > 183.69697000000002 :\n",
    "            return 1\n",
    "        else:\n",
    "            return 0\n",
    "    \n"
   ]
  },
  {
   "cell_type": "code",
   "execution_count": 107,
   "id": "38eee820",
   "metadata": {},
   "outputs": [],
   "source": [
    "data[\"loveTopic\"] = data.apply(loveTopic,axis=1)"
   ]
  },
  {
   "cell_type": "code",
   "execution_count": 108,
   "id": "58e42ff3",
   "metadata": {
    "scrolled": true
   },
   "outputs": [
    {
     "data": {
      "text/plain": [
       "1    250\n",
       "0    230\n",
       "Name: loveTopic, dtype: int64"
      ]
     },
     "execution_count": 108,
     "metadata": {},
     "output_type": "execute_result"
    }
   ],
   "source": [
    "data[\"loveTopic\"].value_counts()"
   ]
  },
  {
   "cell_type": "code",
   "execution_count": 109,
   "id": "2e94dc14",
   "metadata": {},
   "outputs": [
    {
     "data": {
      "text/html": [
       "<div>\n",
       "<style scoped>\n",
       "    .dataframe tbody tr th:only-of-type {\n",
       "        vertical-align: middle;\n",
       "    }\n",
       "\n",
       "    .dataframe tbody tr th {\n",
       "        vertical-align: top;\n",
       "    }\n",
       "\n",
       "    .dataframe thead th {\n",
       "        text-align: right;\n",
       "    }\n",
       "</style>\n",
       "<table border=\"1\" class=\"dataframe\">\n",
       "  <thead>\n",
       "    <tr style=\"text-align: right;\">\n",
       "      <th></th>\n",
       "      <th>gender</th>\n",
       "      <th>NationalITy</th>\n",
       "      <th>PlaceofBirth</th>\n",
       "      <th>StageID</th>\n",
       "      <th>GradeID</th>\n",
       "      <th>SectionID</th>\n",
       "      <th>Topic</th>\n",
       "      <th>Semester</th>\n",
       "      <th>Relation</th>\n",
       "      <th>raisedhands</th>\n",
       "      <th>...</th>\n",
       "      <th>AnnouncementsView</th>\n",
       "      <th>Discussion</th>\n",
       "      <th>ParentAnsweringSurvey</th>\n",
       "      <th>ParentschoolSatisfaction</th>\n",
       "      <th>StudentAbsenceDays</th>\n",
       "      <th>Class</th>\n",
       "      <th>Tracks</th>\n",
       "      <th>BrithInHisCountery</th>\n",
       "      <th>ParentInteractionWithSchool</th>\n",
       "      <th>loveTopic</th>\n",
       "    </tr>\n",
       "  </thead>\n",
       "  <tbody>\n",
       "    <tr>\n",
       "      <th>0</th>\n",
       "      <td>M</td>\n",
       "      <td>KW</td>\n",
       "      <td>KuwaIT</td>\n",
       "      <td>lowerlevel</td>\n",
       "      <td>G-04</td>\n",
       "      <td>A</td>\n",
       "      <td>IT</td>\n",
       "      <td>F</td>\n",
       "      <td>Father</td>\n",
       "      <td>15</td>\n",
       "      <td>...</td>\n",
       "      <td>2</td>\n",
       "      <td>20</td>\n",
       "      <td>Yes</td>\n",
       "      <td>Good</td>\n",
       "      <td>Under-7</td>\n",
       "      <td>M</td>\n",
       "      <td>information technology</td>\n",
       "      <td>1</td>\n",
       "      <td>Father-Good</td>\n",
       "      <td>0</td>\n",
       "    </tr>\n",
       "    <tr>\n",
       "      <th>1</th>\n",
       "      <td>M</td>\n",
       "      <td>KW</td>\n",
       "      <td>KuwaIT</td>\n",
       "      <td>lowerlevel</td>\n",
       "      <td>G-04</td>\n",
       "      <td>A</td>\n",
       "      <td>IT</td>\n",
       "      <td>F</td>\n",
       "      <td>Father</td>\n",
       "      <td>20</td>\n",
       "      <td>...</td>\n",
       "      <td>3</td>\n",
       "      <td>25</td>\n",
       "      <td>Yes</td>\n",
       "      <td>Good</td>\n",
       "      <td>Under-7</td>\n",
       "      <td>M</td>\n",
       "      <td>information technology</td>\n",
       "      <td>1</td>\n",
       "      <td>Father-Good</td>\n",
       "      <td>0</td>\n",
       "    </tr>\n",
       "    <tr>\n",
       "      <th>2</th>\n",
       "      <td>M</td>\n",
       "      <td>KW</td>\n",
       "      <td>KuwaIT</td>\n",
       "      <td>lowerlevel</td>\n",
       "      <td>G-04</td>\n",
       "      <td>A</td>\n",
       "      <td>IT</td>\n",
       "      <td>F</td>\n",
       "      <td>Father</td>\n",
       "      <td>10</td>\n",
       "      <td>...</td>\n",
       "      <td>0</td>\n",
       "      <td>30</td>\n",
       "      <td>No</td>\n",
       "      <td>Bad</td>\n",
       "      <td>Above-7</td>\n",
       "      <td>L</td>\n",
       "      <td>information technology</td>\n",
       "      <td>1</td>\n",
       "      <td>Father-Bad</td>\n",
       "      <td>0</td>\n",
       "    </tr>\n",
       "    <tr>\n",
       "      <th>3</th>\n",
       "      <td>M</td>\n",
       "      <td>KW</td>\n",
       "      <td>KuwaIT</td>\n",
       "      <td>lowerlevel</td>\n",
       "      <td>G-04</td>\n",
       "      <td>A</td>\n",
       "      <td>IT</td>\n",
       "      <td>F</td>\n",
       "      <td>Father</td>\n",
       "      <td>30</td>\n",
       "      <td>...</td>\n",
       "      <td>5</td>\n",
       "      <td>35</td>\n",
       "      <td>No</td>\n",
       "      <td>Bad</td>\n",
       "      <td>Above-7</td>\n",
       "      <td>L</td>\n",
       "      <td>information technology</td>\n",
       "      <td>1</td>\n",
       "      <td>Father-Bad</td>\n",
       "      <td>0</td>\n",
       "    </tr>\n",
       "    <tr>\n",
       "      <th>4</th>\n",
       "      <td>M</td>\n",
       "      <td>KW</td>\n",
       "      <td>KuwaIT</td>\n",
       "      <td>lowerlevel</td>\n",
       "      <td>G-04</td>\n",
       "      <td>A</td>\n",
       "      <td>IT</td>\n",
       "      <td>F</td>\n",
       "      <td>Father</td>\n",
       "      <td>40</td>\n",
       "      <td>...</td>\n",
       "      <td>12</td>\n",
       "      <td>50</td>\n",
       "      <td>No</td>\n",
       "      <td>Bad</td>\n",
       "      <td>Above-7</td>\n",
       "      <td>M</td>\n",
       "      <td>information technology</td>\n",
       "      <td>1</td>\n",
       "      <td>Father-Bad</td>\n",
       "      <td>0</td>\n",
       "    </tr>\n",
       "  </tbody>\n",
       "</table>\n",
       "<p>5 rows × 21 columns</p>\n",
       "</div>"
      ],
      "text/plain": [
       "  gender NationalITy PlaceofBirth     StageID GradeID SectionID Topic  \\\n",
       "0      M          KW       KuwaIT  lowerlevel    G-04         A    IT   \n",
       "1      M          KW       KuwaIT  lowerlevel    G-04         A    IT   \n",
       "2      M          KW       KuwaIT  lowerlevel    G-04         A    IT   \n",
       "3      M          KW       KuwaIT  lowerlevel    G-04         A    IT   \n",
       "4      M          KW       KuwaIT  lowerlevel    G-04         A    IT   \n",
       "\n",
       "  Semester Relation  raisedhands  ...  AnnouncementsView  Discussion  \\\n",
       "0        F   Father           15  ...                  2          20   \n",
       "1        F   Father           20  ...                  3          25   \n",
       "2        F   Father           10  ...                  0          30   \n",
       "3        F   Father           30  ...                  5          35   \n",
       "4        F   Father           40  ...                 12          50   \n",
       "\n",
       "   ParentAnsweringSurvey ParentschoolSatisfaction StudentAbsenceDays Class  \\\n",
       "0                    Yes                     Good            Under-7     M   \n",
       "1                    Yes                     Good            Under-7     M   \n",
       "2                     No                      Bad            Above-7     L   \n",
       "3                     No                      Bad            Above-7     L   \n",
       "4                     No                      Bad            Above-7     M   \n",
       "\n",
       "                   Tracks BrithInHisCountery  ParentInteractionWithSchool  \\\n",
       "0  information technology                  1                  Father-Good   \n",
       "1  information technology                  1                  Father-Good   \n",
       "2  information technology                  1                   Father-Bad   \n",
       "3  information technology                  1                   Father-Bad   \n",
       "4  information technology                  1                   Father-Bad   \n",
       "\n",
       "  loveTopic  \n",
       "0         0  \n",
       "1         0  \n",
       "2         0  \n",
       "3         0  \n",
       "4         0  \n",
       "\n",
       "[5 rows x 21 columns]"
      ]
     },
     "execution_count": 109,
     "metadata": {},
     "output_type": "execute_result"
    }
   ],
   "source": [
    "data.head()"
   ]
  },
  {
   "cell_type": "code",
   "execution_count": 110,
   "id": "ef08102b",
   "metadata": {
    "scrolled": true
   },
   "outputs": [],
   "source": [
    "# from atom import ATOMClassifier\n",
    "# atom = ATOMClassifier(data.drop(\"Class\"), y=data[\"Class\"], test_size=0.3, verbose=2)"
   ]
  },
  {
   "cell_type": "code",
   "execution_count": 882,
   "id": "b6e4f864",
   "metadata": {},
   "outputs": [],
   "source": [
    "# if the rasehand of student more than avrage of student in it and if the VisITedResources of student more than avrage of student in it\n",
    "\n",
    "# then he will intarct in the class"
   ]
  },
  {
   "cell_type": "code",
   "execution_count": 111,
   "id": "02ea6794",
   "metadata": {
    "scrolled": true
   },
   "outputs": [
    {
     "data": {
      "text/html": [
       "<div>\n",
       "<style scoped>\n",
       "    .dataframe tbody tr th:only-of-type {\n",
       "        vertical-align: middle;\n",
       "    }\n",
       "\n",
       "    .dataframe tbody tr th {\n",
       "        vertical-align: top;\n",
       "    }\n",
       "\n",
       "    .dataframe thead th {\n",
       "        text-align: right;\n",
       "    }\n",
       "</style>\n",
       "<table border=\"1\" class=\"dataframe\">\n",
       "  <thead>\n",
       "    <tr style=\"text-align: right;\">\n",
       "      <th></th>\n",
       "      <th>raisedhands</th>\n",
       "      <th>VisITedResources</th>\n",
       "      <th>AnnouncementsView</th>\n",
       "      <th>Discussion</th>\n",
       "      <th>BrithInHisCountery</th>\n",
       "      <th>loveTopic</th>\n",
       "    </tr>\n",
       "  </thead>\n",
       "  <tbody>\n",
       "    <tr>\n",
       "      <th>count</th>\n",
       "      <td>480.000000</td>\n",
       "      <td>480.000000</td>\n",
       "      <td>480.000000</td>\n",
       "      <td>480.000000</td>\n",
       "      <td>480.000000</td>\n",
       "      <td>480.000000</td>\n",
       "    </tr>\n",
       "    <tr>\n",
       "      <th>mean</th>\n",
       "      <td>46.775000</td>\n",
       "      <td>54.797917</td>\n",
       "      <td>37.918750</td>\n",
       "      <td>43.283333</td>\n",
       "      <td>0.885417</td>\n",
       "      <td>0.520833</td>\n",
       "    </tr>\n",
       "    <tr>\n",
       "      <th>std</th>\n",
       "      <td>30.779223</td>\n",
       "      <td>33.080007</td>\n",
       "      <td>26.611244</td>\n",
       "      <td>27.637735</td>\n",
       "      <td>0.318851</td>\n",
       "      <td>0.500087</td>\n",
       "    </tr>\n",
       "    <tr>\n",
       "      <th>min</th>\n",
       "      <td>0.000000</td>\n",
       "      <td>0.000000</td>\n",
       "      <td>0.000000</td>\n",
       "      <td>1.000000</td>\n",
       "      <td>0.000000</td>\n",
       "      <td>0.000000</td>\n",
       "    </tr>\n",
       "    <tr>\n",
       "      <th>25%</th>\n",
       "      <td>15.750000</td>\n",
       "      <td>20.000000</td>\n",
       "      <td>14.000000</td>\n",
       "      <td>20.000000</td>\n",
       "      <td>1.000000</td>\n",
       "      <td>0.000000</td>\n",
       "    </tr>\n",
       "    <tr>\n",
       "      <th>50%</th>\n",
       "      <td>50.000000</td>\n",
       "      <td>65.000000</td>\n",
       "      <td>33.000000</td>\n",
       "      <td>39.000000</td>\n",
       "      <td>1.000000</td>\n",
       "      <td>1.000000</td>\n",
       "    </tr>\n",
       "    <tr>\n",
       "      <th>75%</th>\n",
       "      <td>75.000000</td>\n",
       "      <td>84.000000</td>\n",
       "      <td>58.000000</td>\n",
       "      <td>70.000000</td>\n",
       "      <td>1.000000</td>\n",
       "      <td>1.000000</td>\n",
       "    </tr>\n",
       "    <tr>\n",
       "      <th>max</th>\n",
       "      <td>100.000000</td>\n",
       "      <td>99.000000</td>\n",
       "      <td>98.000000</td>\n",
       "      <td>99.000000</td>\n",
       "      <td>1.000000</td>\n",
       "      <td>1.000000</td>\n",
       "    </tr>\n",
       "  </tbody>\n",
       "</table>\n",
       "</div>"
      ],
      "text/plain": [
       "       raisedhands  VisITedResources  AnnouncementsView  Discussion  \\\n",
       "count   480.000000        480.000000         480.000000  480.000000   \n",
       "mean     46.775000         54.797917          37.918750   43.283333   \n",
       "std      30.779223         33.080007          26.611244   27.637735   \n",
       "min       0.000000          0.000000           0.000000    1.000000   \n",
       "25%      15.750000         20.000000          14.000000   20.000000   \n",
       "50%      50.000000         65.000000          33.000000   39.000000   \n",
       "75%      75.000000         84.000000          58.000000   70.000000   \n",
       "max     100.000000         99.000000          98.000000   99.000000   \n",
       "\n",
       "       BrithInHisCountery   loveTopic  \n",
       "count          480.000000  480.000000  \n",
       "mean             0.885417    0.520833  \n",
       "std              0.318851    0.500087  \n",
       "min              0.000000    0.000000  \n",
       "25%              1.000000    0.000000  \n",
       "50%              1.000000    1.000000  \n",
       "75%              1.000000    1.000000  \n",
       "max              1.000000    1.000000  "
      ]
     },
     "execution_count": 111,
     "metadata": {},
     "output_type": "execute_result"
    }
   ],
   "source": [
    "data.describe()"
   ]
  },
  {
   "cell_type": "code",
   "execution_count": 112,
   "id": "77fc3fcb",
   "metadata": {},
   "outputs": [],
   "source": [
    "bin_raisedhands = pd.cut(data[\"raisedhands\"],bins=[-1,16,51,100],labels=[\"LowRaishand\",\"middileRaishand\", \"HighRaishand\"])\n",
    "data[\"raisedhands_bins\"] = bin_raisedhands\n",
    "data[\"raisedhands_bins\"] = data[\"raisedhands_bins\"].astype(str)\n",
    "\n",
    "bin_VisITedResources = pd.cut(data[\"VisITedResources\"],bins=[-1,20,65,100],labels=[\"LowVisITedResources\",\"middileVisITedResources\", \"HighVisITedResources\"])\n",
    "data[\"VisITedResources_bins\"] = bin_VisITedResources\n",
    "data[\"VisITedResources_bins\"] = data[\"VisITedResources_bins\"].astype(str)\n",
    "\n",
    "bin_AnnouncementsView = pd.cut(data[\"AnnouncementsView\"],bins=[-1,14,33,99],labels=[\"LowAnnouncementsView\",\"middileAnnouncementsView\", \"HighAnnouncementsView\"])\n",
    "data[\"AnnouncementsView_bins\"] = bin_AnnouncementsView\n",
    "data[\"AnnouncementsView_bins\"] = data[\"AnnouncementsView_bins\"].astype(str)\n",
    "\n",
    "bin_Discussion = pd.cut(data[\"Discussion\"],bins=[0,20,39,100],labels=[\"LowDiscussion\",\"middileDiscussion\", \"HighDiscussion\"])\n",
    "data[\"Discussion_bins\"] = bin_Discussion\n",
    "data[\"Discussion_bins\"] = data[\"Discussion_bins\"].astype(str)\n"
   ]
  },
  {
   "cell_type": "code",
   "execution_count": 113,
   "id": "603e86e4",
   "metadata": {},
   "outputs": [
    {
     "data": {
      "text/html": [
       "<div>\n",
       "<style scoped>\n",
       "    .dataframe tbody tr th:only-of-type {\n",
       "        vertical-align: middle;\n",
       "    }\n",
       "\n",
       "    .dataframe tbody tr th {\n",
       "        vertical-align: top;\n",
       "    }\n",
       "\n",
       "    .dataframe thead th {\n",
       "        text-align: right;\n",
       "    }\n",
       "</style>\n",
       "<table border=\"1\" class=\"dataframe\">\n",
       "  <thead>\n",
       "    <tr style=\"text-align: right;\">\n",
       "      <th></th>\n",
       "      <th>gender</th>\n",
       "      <th>NationalITy</th>\n",
       "      <th>PlaceofBirth</th>\n",
       "      <th>StageID</th>\n",
       "      <th>GradeID</th>\n",
       "      <th>SectionID</th>\n",
       "      <th>Topic</th>\n",
       "      <th>Semester</th>\n",
       "      <th>Relation</th>\n",
       "      <th>raisedhands</th>\n",
       "      <th>...</th>\n",
       "      <th>StudentAbsenceDays</th>\n",
       "      <th>Class</th>\n",
       "      <th>Tracks</th>\n",
       "      <th>BrithInHisCountery</th>\n",
       "      <th>ParentInteractionWithSchool</th>\n",
       "      <th>loveTopic</th>\n",
       "      <th>raisedhands_bins</th>\n",
       "      <th>VisITedResources_bins</th>\n",
       "      <th>AnnouncementsView_bins</th>\n",
       "      <th>Discussion_bins</th>\n",
       "    </tr>\n",
       "  </thead>\n",
       "  <tbody>\n",
       "    <tr>\n",
       "      <th>0</th>\n",
       "      <td>M</td>\n",
       "      <td>KW</td>\n",
       "      <td>KuwaIT</td>\n",
       "      <td>lowerlevel</td>\n",
       "      <td>G-04</td>\n",
       "      <td>A</td>\n",
       "      <td>IT</td>\n",
       "      <td>F</td>\n",
       "      <td>Father</td>\n",
       "      <td>15</td>\n",
       "      <td>...</td>\n",
       "      <td>Under-7</td>\n",
       "      <td>M</td>\n",
       "      <td>information technology</td>\n",
       "      <td>1</td>\n",
       "      <td>Father-Good</td>\n",
       "      <td>0</td>\n",
       "      <td>LowRaishand</td>\n",
       "      <td>LowVisITedResources</td>\n",
       "      <td>LowAnnouncementsView</td>\n",
       "      <td>LowDiscussion</td>\n",
       "    </tr>\n",
       "    <tr>\n",
       "      <th>1</th>\n",
       "      <td>M</td>\n",
       "      <td>KW</td>\n",
       "      <td>KuwaIT</td>\n",
       "      <td>lowerlevel</td>\n",
       "      <td>G-04</td>\n",
       "      <td>A</td>\n",
       "      <td>IT</td>\n",
       "      <td>F</td>\n",
       "      <td>Father</td>\n",
       "      <td>20</td>\n",
       "      <td>...</td>\n",
       "      <td>Under-7</td>\n",
       "      <td>M</td>\n",
       "      <td>information technology</td>\n",
       "      <td>1</td>\n",
       "      <td>Father-Good</td>\n",
       "      <td>0</td>\n",
       "      <td>middileRaishand</td>\n",
       "      <td>LowVisITedResources</td>\n",
       "      <td>LowAnnouncementsView</td>\n",
       "      <td>middileDiscussion</td>\n",
       "    </tr>\n",
       "    <tr>\n",
       "      <th>2</th>\n",
       "      <td>M</td>\n",
       "      <td>KW</td>\n",
       "      <td>KuwaIT</td>\n",
       "      <td>lowerlevel</td>\n",
       "      <td>G-04</td>\n",
       "      <td>A</td>\n",
       "      <td>IT</td>\n",
       "      <td>F</td>\n",
       "      <td>Father</td>\n",
       "      <td>10</td>\n",
       "      <td>...</td>\n",
       "      <td>Above-7</td>\n",
       "      <td>L</td>\n",
       "      <td>information technology</td>\n",
       "      <td>1</td>\n",
       "      <td>Father-Bad</td>\n",
       "      <td>0</td>\n",
       "      <td>LowRaishand</td>\n",
       "      <td>LowVisITedResources</td>\n",
       "      <td>LowAnnouncementsView</td>\n",
       "      <td>middileDiscussion</td>\n",
       "    </tr>\n",
       "    <tr>\n",
       "      <th>3</th>\n",
       "      <td>M</td>\n",
       "      <td>KW</td>\n",
       "      <td>KuwaIT</td>\n",
       "      <td>lowerlevel</td>\n",
       "      <td>G-04</td>\n",
       "      <td>A</td>\n",
       "      <td>IT</td>\n",
       "      <td>F</td>\n",
       "      <td>Father</td>\n",
       "      <td>30</td>\n",
       "      <td>...</td>\n",
       "      <td>Above-7</td>\n",
       "      <td>L</td>\n",
       "      <td>information technology</td>\n",
       "      <td>1</td>\n",
       "      <td>Father-Bad</td>\n",
       "      <td>0</td>\n",
       "      <td>middileRaishand</td>\n",
       "      <td>middileVisITedResources</td>\n",
       "      <td>LowAnnouncementsView</td>\n",
       "      <td>middileDiscussion</td>\n",
       "    </tr>\n",
       "    <tr>\n",
       "      <th>4</th>\n",
       "      <td>M</td>\n",
       "      <td>KW</td>\n",
       "      <td>KuwaIT</td>\n",
       "      <td>lowerlevel</td>\n",
       "      <td>G-04</td>\n",
       "      <td>A</td>\n",
       "      <td>IT</td>\n",
       "      <td>F</td>\n",
       "      <td>Father</td>\n",
       "      <td>40</td>\n",
       "      <td>...</td>\n",
       "      <td>Above-7</td>\n",
       "      <td>M</td>\n",
       "      <td>information technology</td>\n",
       "      <td>1</td>\n",
       "      <td>Father-Bad</td>\n",
       "      <td>0</td>\n",
       "      <td>middileRaishand</td>\n",
       "      <td>middileVisITedResources</td>\n",
       "      <td>LowAnnouncementsView</td>\n",
       "      <td>HighDiscussion</td>\n",
       "    </tr>\n",
       "  </tbody>\n",
       "</table>\n",
       "<p>5 rows × 25 columns</p>\n",
       "</div>"
      ],
      "text/plain": [
       "  gender NationalITy PlaceofBirth     StageID GradeID SectionID Topic  \\\n",
       "0      M          KW       KuwaIT  lowerlevel    G-04         A    IT   \n",
       "1      M          KW       KuwaIT  lowerlevel    G-04         A    IT   \n",
       "2      M          KW       KuwaIT  lowerlevel    G-04         A    IT   \n",
       "3      M          KW       KuwaIT  lowerlevel    G-04         A    IT   \n",
       "4      M          KW       KuwaIT  lowerlevel    G-04         A    IT   \n",
       "\n",
       "  Semester Relation  raisedhands  ...  StudentAbsenceDays  Class  \\\n",
       "0        F   Father           15  ...             Under-7      M   \n",
       "1        F   Father           20  ...             Under-7      M   \n",
       "2        F   Father           10  ...             Above-7      L   \n",
       "3        F   Father           30  ...             Above-7      L   \n",
       "4        F   Father           40  ...             Above-7      M   \n",
       "\n",
       "                   Tracks BrithInHisCountery ParentInteractionWithSchool  \\\n",
       "0  information technology                  1                 Father-Good   \n",
       "1  information technology                  1                 Father-Good   \n",
       "2  information technology                  1                  Father-Bad   \n",
       "3  information technology                  1                  Father-Bad   \n",
       "4  information technology                  1                  Father-Bad   \n",
       "\n",
       "  loveTopic raisedhands_bins    VisITedResources_bins  AnnouncementsView_bins  \\\n",
       "0         0      LowRaishand      LowVisITedResources    LowAnnouncementsView   \n",
       "1         0  middileRaishand      LowVisITedResources    LowAnnouncementsView   \n",
       "2         0      LowRaishand      LowVisITedResources    LowAnnouncementsView   \n",
       "3         0  middileRaishand  middileVisITedResources    LowAnnouncementsView   \n",
       "4         0  middileRaishand  middileVisITedResources    LowAnnouncementsView   \n",
       "\n",
       "     Discussion_bins  \n",
       "0      LowDiscussion  \n",
       "1  middileDiscussion  \n",
       "2  middileDiscussion  \n",
       "3  middileDiscussion  \n",
       "4     HighDiscussion  \n",
       "\n",
       "[5 rows x 25 columns]"
      ]
     },
     "execution_count": 113,
     "metadata": {},
     "output_type": "execute_result"
    }
   ],
   "source": [
    "data.head()"
   ]
  },
  {
   "cell_type": "code",
   "execution_count": 114,
   "id": "7b508e3b",
   "metadata": {
    "scrolled": true
   },
   "outputs": [
    {
     "data": {
      "text/html": [
       "<div>\n",
       "<style scoped>\n",
       "    .dataframe tbody tr th:only-of-type {\n",
       "        vertical-align: middle;\n",
       "    }\n",
       "\n",
       "    .dataframe tbody tr th {\n",
       "        vertical-align: top;\n",
       "    }\n",
       "\n",
       "    .dataframe thead th {\n",
       "        text-align: right;\n",
       "    }\n",
       "</style>\n",
       "<table border=\"1\" class=\"dataframe\">\n",
       "  <thead>\n",
       "    <tr style=\"text-align: right;\">\n",
       "      <th></th>\n",
       "      <th>gender</th>\n",
       "      <th>NationalITy</th>\n",
       "      <th>PlaceofBirth</th>\n",
       "      <th>StageID</th>\n",
       "      <th>GradeID</th>\n",
       "      <th>SectionID</th>\n",
       "      <th>Topic</th>\n",
       "      <th>Semester</th>\n",
       "      <th>Relation</th>\n",
       "      <th>raisedhands</th>\n",
       "      <th>...</th>\n",
       "      <th>StudentAbsenceDays</th>\n",
       "      <th>Class</th>\n",
       "      <th>Tracks</th>\n",
       "      <th>BrithInHisCountery</th>\n",
       "      <th>ParentInteractionWithSchool</th>\n",
       "      <th>loveTopic</th>\n",
       "      <th>raisedhands_bins</th>\n",
       "      <th>VisITedResources_bins</th>\n",
       "      <th>AnnouncementsView_bins</th>\n",
       "      <th>Discussion_bins</th>\n",
       "    </tr>\n",
       "  </thead>\n",
       "  <tbody>\n",
       "    <tr>\n",
       "      <th>0</th>\n",
       "      <td>M</td>\n",
       "      <td>KW</td>\n",
       "      <td>KuwaIT</td>\n",
       "      <td>lowerlevel</td>\n",
       "      <td>G-04</td>\n",
       "      <td>A</td>\n",
       "      <td>IT</td>\n",
       "      <td>F</td>\n",
       "      <td>Father</td>\n",
       "      <td>15</td>\n",
       "      <td>...</td>\n",
       "      <td>Under-7</td>\n",
       "      <td>M</td>\n",
       "      <td>information technology</td>\n",
       "      <td>1</td>\n",
       "      <td>Father-Good</td>\n",
       "      <td>0</td>\n",
       "      <td>LowRaishand</td>\n",
       "      <td>LowVisITedResources</td>\n",
       "      <td>LowAnnouncementsView</td>\n",
       "      <td>LowDiscussion</td>\n",
       "    </tr>\n",
       "    <tr>\n",
       "      <th>1</th>\n",
       "      <td>M</td>\n",
       "      <td>KW</td>\n",
       "      <td>KuwaIT</td>\n",
       "      <td>lowerlevel</td>\n",
       "      <td>G-04</td>\n",
       "      <td>A</td>\n",
       "      <td>IT</td>\n",
       "      <td>F</td>\n",
       "      <td>Father</td>\n",
       "      <td>20</td>\n",
       "      <td>...</td>\n",
       "      <td>Under-7</td>\n",
       "      <td>M</td>\n",
       "      <td>information technology</td>\n",
       "      <td>1</td>\n",
       "      <td>Father-Good</td>\n",
       "      <td>0</td>\n",
       "      <td>middileRaishand</td>\n",
       "      <td>LowVisITedResources</td>\n",
       "      <td>LowAnnouncementsView</td>\n",
       "      <td>middileDiscussion</td>\n",
       "    </tr>\n",
       "    <tr>\n",
       "      <th>2</th>\n",
       "      <td>M</td>\n",
       "      <td>KW</td>\n",
       "      <td>KuwaIT</td>\n",
       "      <td>lowerlevel</td>\n",
       "      <td>G-04</td>\n",
       "      <td>A</td>\n",
       "      <td>IT</td>\n",
       "      <td>F</td>\n",
       "      <td>Father</td>\n",
       "      <td>10</td>\n",
       "      <td>...</td>\n",
       "      <td>Above-7</td>\n",
       "      <td>L</td>\n",
       "      <td>information technology</td>\n",
       "      <td>1</td>\n",
       "      <td>Father-Bad</td>\n",
       "      <td>0</td>\n",
       "      <td>LowRaishand</td>\n",
       "      <td>LowVisITedResources</td>\n",
       "      <td>LowAnnouncementsView</td>\n",
       "      <td>middileDiscussion</td>\n",
       "    </tr>\n",
       "    <tr>\n",
       "      <th>3</th>\n",
       "      <td>M</td>\n",
       "      <td>KW</td>\n",
       "      <td>KuwaIT</td>\n",
       "      <td>lowerlevel</td>\n",
       "      <td>G-04</td>\n",
       "      <td>A</td>\n",
       "      <td>IT</td>\n",
       "      <td>F</td>\n",
       "      <td>Father</td>\n",
       "      <td>30</td>\n",
       "      <td>...</td>\n",
       "      <td>Above-7</td>\n",
       "      <td>L</td>\n",
       "      <td>information technology</td>\n",
       "      <td>1</td>\n",
       "      <td>Father-Bad</td>\n",
       "      <td>0</td>\n",
       "      <td>middileRaishand</td>\n",
       "      <td>middileVisITedResources</td>\n",
       "      <td>LowAnnouncementsView</td>\n",
       "      <td>middileDiscussion</td>\n",
       "    </tr>\n",
       "    <tr>\n",
       "      <th>4</th>\n",
       "      <td>M</td>\n",
       "      <td>KW</td>\n",
       "      <td>KuwaIT</td>\n",
       "      <td>lowerlevel</td>\n",
       "      <td>G-04</td>\n",
       "      <td>A</td>\n",
       "      <td>IT</td>\n",
       "      <td>F</td>\n",
       "      <td>Father</td>\n",
       "      <td>40</td>\n",
       "      <td>...</td>\n",
       "      <td>Above-7</td>\n",
       "      <td>M</td>\n",
       "      <td>information technology</td>\n",
       "      <td>1</td>\n",
       "      <td>Father-Bad</td>\n",
       "      <td>0</td>\n",
       "      <td>middileRaishand</td>\n",
       "      <td>middileVisITedResources</td>\n",
       "      <td>LowAnnouncementsView</td>\n",
       "      <td>HighDiscussion</td>\n",
       "    </tr>\n",
       "  </tbody>\n",
       "</table>\n",
       "<p>5 rows × 25 columns</p>\n",
       "</div>"
      ],
      "text/plain": [
       "  gender NationalITy PlaceofBirth     StageID GradeID SectionID Topic  \\\n",
       "0      M          KW       KuwaIT  lowerlevel    G-04         A    IT   \n",
       "1      M          KW       KuwaIT  lowerlevel    G-04         A    IT   \n",
       "2      M          KW       KuwaIT  lowerlevel    G-04         A    IT   \n",
       "3      M          KW       KuwaIT  lowerlevel    G-04         A    IT   \n",
       "4      M          KW       KuwaIT  lowerlevel    G-04         A    IT   \n",
       "\n",
       "  Semester Relation  raisedhands  ...  StudentAbsenceDays  Class  \\\n",
       "0        F   Father           15  ...             Under-7      M   \n",
       "1        F   Father           20  ...             Under-7      M   \n",
       "2        F   Father           10  ...             Above-7      L   \n",
       "3        F   Father           30  ...             Above-7      L   \n",
       "4        F   Father           40  ...             Above-7      M   \n",
       "\n",
       "                   Tracks BrithInHisCountery ParentInteractionWithSchool  \\\n",
       "0  information technology                  1                 Father-Good   \n",
       "1  information technology                  1                 Father-Good   \n",
       "2  information technology                  1                  Father-Bad   \n",
       "3  information technology                  1                  Father-Bad   \n",
       "4  information technology                  1                  Father-Bad   \n",
       "\n",
       "  loveTopic raisedhands_bins    VisITedResources_bins  AnnouncementsView_bins  \\\n",
       "0         0      LowRaishand      LowVisITedResources    LowAnnouncementsView   \n",
       "1         0  middileRaishand      LowVisITedResources    LowAnnouncementsView   \n",
       "2         0      LowRaishand      LowVisITedResources    LowAnnouncementsView   \n",
       "3         0  middileRaishand  middileVisITedResources    LowAnnouncementsView   \n",
       "4         0  middileRaishand  middileVisITedResources    LowAnnouncementsView   \n",
       "\n",
       "     Discussion_bins  \n",
       "0      LowDiscussion  \n",
       "1  middileDiscussion  \n",
       "2  middileDiscussion  \n",
       "3  middileDiscussion  \n",
       "4     HighDiscussion  \n",
       "\n",
       "[5 rows x 25 columns]"
      ]
     },
     "execution_count": 114,
     "metadata": {},
     "output_type": "execute_result"
    }
   ],
   "source": [
    "data.head()"
   ]
  },
  {
   "cell_type": "code",
   "execution_count": 115,
   "id": "1020c479",
   "metadata": {
    "scrolled": true
   },
   "outputs": [
    {
     "data": {
      "text/plain": [
       "gender                         0\n",
       "NationalITy                    0\n",
       "PlaceofBirth                   0\n",
       "StageID                        0\n",
       "GradeID                        0\n",
       "SectionID                      0\n",
       "Topic                          0\n",
       "Semester                       0\n",
       "Relation                       0\n",
       "raisedhands                    0\n",
       "VisITedResources               0\n",
       "AnnouncementsView              0\n",
       "Discussion                     0\n",
       "ParentAnsweringSurvey          0\n",
       "ParentschoolSatisfaction       0\n",
       "StudentAbsenceDays             0\n",
       "Class                          0\n",
       "Tracks                         0\n",
       "BrithInHisCountery             0\n",
       "ParentInteractionWithSchool    0\n",
       "loveTopic                      0\n",
       "raisedhands_bins               0\n",
       "VisITedResources_bins          0\n",
       "AnnouncementsView_bins         0\n",
       "Discussion_bins                0\n",
       "dtype: int64"
      ]
     },
     "execution_count": 115,
     "metadata": {},
     "output_type": "execute_result"
    }
   ],
   "source": [
    "data.isnull().sum()"
   ]
  },
  {
   "cell_type": "code",
   "execution_count": 116,
   "id": "22b05554",
   "metadata": {},
   "outputs": [
    {
     "name": "stdout",
     "output_type": "stream",
     "text": [
      "<class 'pandas.core.frame.DataFrame'>\n",
      "RangeIndex: 480 entries, 0 to 479\n",
      "Data columns (total 25 columns):\n",
      " #   Column                       Non-Null Count  Dtype \n",
      "---  ------                       --------------  ----- \n",
      " 0   gender                       480 non-null    object\n",
      " 1   NationalITy                  480 non-null    object\n",
      " 2   PlaceofBirth                 480 non-null    object\n",
      " 3   StageID                      480 non-null    object\n",
      " 4   GradeID                      480 non-null    object\n",
      " 5   SectionID                    480 non-null    object\n",
      " 6   Topic                        480 non-null    object\n",
      " 7   Semester                     480 non-null    object\n",
      " 8   Relation                     480 non-null    object\n",
      " 9   raisedhands                  480 non-null    int64 \n",
      " 10  VisITedResources             480 non-null    int64 \n",
      " 11  AnnouncementsView            480 non-null    int64 \n",
      " 12  Discussion                   480 non-null    int64 \n",
      " 13  ParentAnsweringSurvey        480 non-null    object\n",
      " 14  ParentschoolSatisfaction     480 non-null    object\n",
      " 15  StudentAbsenceDays           480 non-null    object\n",
      " 16  Class                        480 non-null    object\n",
      " 17  Tracks                       480 non-null    object\n",
      " 18  BrithInHisCountery           480 non-null    int64 \n",
      " 19  ParentInteractionWithSchool  480 non-null    object\n",
      " 20  loveTopic                    480 non-null    int64 \n",
      " 21  raisedhands_bins             480 non-null    object\n",
      " 22  VisITedResources_bins        480 non-null    object\n",
      " 23  AnnouncementsView_bins       480 non-null    object\n",
      " 24  Discussion_bins              480 non-null    object\n",
      "dtypes: int64(6), object(19)\n",
      "memory usage: 93.9+ KB\n"
     ]
    }
   ],
   "source": [
    "data.info()"
   ]
  },
  {
   "cell_type": "code",
   "execution_count": 117,
   "id": "76203825",
   "metadata": {},
   "outputs": [],
   "source": [
    "#data.profile_report()"
   ]
  },
  {
   "cell_type": "code",
   "execution_count": 118,
   "id": "0095a6be",
   "metadata": {},
   "outputs": [],
   "source": [
    "#ec = dabl.SimpleClassifier(random_state=0).fit(data, target_col=\"Class\") "
   ]
  },
  {
   "cell_type": "markdown",
   "id": "a0bca54c",
   "metadata": {},
   "source": [
    "## 5. Feature Encoding"
   ]
  },
  {
   "cell_type": "markdown",
   "id": "c2b94154",
   "metadata": {},
   "source": [
    "we will use Label Encoding for any categorical variables with only 2 categories and One-Hot Encoding for any categorical variables with more than 2 categories\n"
   ]
  },
  {
   "cell_type": "code",
   "execution_count": 891,
   "id": "7cc32c1b",
   "metadata": {},
   "outputs": [],
   "source": [
    "#data[\"Class\"] = data[\"Class\"].astype('category')\n",
    "#data[\"Class\"] = data[\"Class\"].cat.codes"
   ]
  },
  {
   "cell_type": "code",
   "execution_count": 119,
   "id": "5cc759a6",
   "metadata": {
    "scrolled": false
   },
   "outputs": [
    {
     "data": {
      "text/html": [
       "<div>\n",
       "<style scoped>\n",
       "    .dataframe tbody tr th:only-of-type {\n",
       "        vertical-align: middle;\n",
       "    }\n",
       "\n",
       "    .dataframe tbody tr th {\n",
       "        vertical-align: top;\n",
       "    }\n",
       "\n",
       "    .dataframe thead th {\n",
       "        text-align: right;\n",
       "    }\n",
       "</style>\n",
       "<table border=\"1\" class=\"dataframe\">\n",
       "  <thead>\n",
       "    <tr style=\"text-align: right;\">\n",
       "      <th></th>\n",
       "      <th>gender</th>\n",
       "      <th>NationalITy</th>\n",
       "      <th>PlaceofBirth</th>\n",
       "      <th>StageID</th>\n",
       "      <th>GradeID</th>\n",
       "      <th>SectionID</th>\n",
       "      <th>Topic</th>\n",
       "      <th>Semester</th>\n",
       "      <th>Relation</th>\n",
       "      <th>raisedhands</th>\n",
       "      <th>...</th>\n",
       "      <th>StudentAbsenceDays</th>\n",
       "      <th>Class</th>\n",
       "      <th>Tracks</th>\n",
       "      <th>BrithInHisCountery</th>\n",
       "      <th>ParentInteractionWithSchool</th>\n",
       "      <th>loveTopic</th>\n",
       "      <th>raisedhands_bins</th>\n",
       "      <th>VisITedResources_bins</th>\n",
       "      <th>AnnouncementsView_bins</th>\n",
       "      <th>Discussion_bins</th>\n",
       "    </tr>\n",
       "  </thead>\n",
       "  <tbody>\n",
       "    <tr>\n",
       "      <th>0</th>\n",
       "      <td>M</td>\n",
       "      <td>KW</td>\n",
       "      <td>KuwaIT</td>\n",
       "      <td>lowerlevel</td>\n",
       "      <td>G-04</td>\n",
       "      <td>A</td>\n",
       "      <td>IT</td>\n",
       "      <td>F</td>\n",
       "      <td>Father</td>\n",
       "      <td>15</td>\n",
       "      <td>...</td>\n",
       "      <td>Under-7</td>\n",
       "      <td>M</td>\n",
       "      <td>information technology</td>\n",
       "      <td>1</td>\n",
       "      <td>Father-Good</td>\n",
       "      <td>0</td>\n",
       "      <td>LowRaishand</td>\n",
       "      <td>LowVisITedResources</td>\n",
       "      <td>LowAnnouncementsView</td>\n",
       "      <td>LowDiscussion</td>\n",
       "    </tr>\n",
       "    <tr>\n",
       "      <th>1</th>\n",
       "      <td>M</td>\n",
       "      <td>KW</td>\n",
       "      <td>KuwaIT</td>\n",
       "      <td>lowerlevel</td>\n",
       "      <td>G-04</td>\n",
       "      <td>A</td>\n",
       "      <td>IT</td>\n",
       "      <td>F</td>\n",
       "      <td>Father</td>\n",
       "      <td>20</td>\n",
       "      <td>...</td>\n",
       "      <td>Under-7</td>\n",
       "      <td>M</td>\n",
       "      <td>information technology</td>\n",
       "      <td>1</td>\n",
       "      <td>Father-Good</td>\n",
       "      <td>0</td>\n",
       "      <td>middileRaishand</td>\n",
       "      <td>LowVisITedResources</td>\n",
       "      <td>LowAnnouncementsView</td>\n",
       "      <td>middileDiscussion</td>\n",
       "    </tr>\n",
       "    <tr>\n",
       "      <th>2</th>\n",
       "      <td>M</td>\n",
       "      <td>KW</td>\n",
       "      <td>KuwaIT</td>\n",
       "      <td>lowerlevel</td>\n",
       "      <td>G-04</td>\n",
       "      <td>A</td>\n",
       "      <td>IT</td>\n",
       "      <td>F</td>\n",
       "      <td>Father</td>\n",
       "      <td>10</td>\n",
       "      <td>...</td>\n",
       "      <td>Above-7</td>\n",
       "      <td>L</td>\n",
       "      <td>information technology</td>\n",
       "      <td>1</td>\n",
       "      <td>Father-Bad</td>\n",
       "      <td>0</td>\n",
       "      <td>LowRaishand</td>\n",
       "      <td>LowVisITedResources</td>\n",
       "      <td>LowAnnouncementsView</td>\n",
       "      <td>middileDiscussion</td>\n",
       "    </tr>\n",
       "    <tr>\n",
       "      <th>3</th>\n",
       "      <td>M</td>\n",
       "      <td>KW</td>\n",
       "      <td>KuwaIT</td>\n",
       "      <td>lowerlevel</td>\n",
       "      <td>G-04</td>\n",
       "      <td>A</td>\n",
       "      <td>IT</td>\n",
       "      <td>F</td>\n",
       "      <td>Father</td>\n",
       "      <td>30</td>\n",
       "      <td>...</td>\n",
       "      <td>Above-7</td>\n",
       "      <td>L</td>\n",
       "      <td>information technology</td>\n",
       "      <td>1</td>\n",
       "      <td>Father-Bad</td>\n",
       "      <td>0</td>\n",
       "      <td>middileRaishand</td>\n",
       "      <td>middileVisITedResources</td>\n",
       "      <td>LowAnnouncementsView</td>\n",
       "      <td>middileDiscussion</td>\n",
       "    </tr>\n",
       "    <tr>\n",
       "      <th>4</th>\n",
       "      <td>M</td>\n",
       "      <td>KW</td>\n",
       "      <td>KuwaIT</td>\n",
       "      <td>lowerlevel</td>\n",
       "      <td>G-04</td>\n",
       "      <td>A</td>\n",
       "      <td>IT</td>\n",
       "      <td>F</td>\n",
       "      <td>Father</td>\n",
       "      <td>40</td>\n",
       "      <td>...</td>\n",
       "      <td>Above-7</td>\n",
       "      <td>M</td>\n",
       "      <td>information technology</td>\n",
       "      <td>1</td>\n",
       "      <td>Father-Bad</td>\n",
       "      <td>0</td>\n",
       "      <td>middileRaishand</td>\n",
       "      <td>middileVisITedResources</td>\n",
       "      <td>LowAnnouncementsView</td>\n",
       "      <td>HighDiscussion</td>\n",
       "    </tr>\n",
       "  </tbody>\n",
       "</table>\n",
       "<p>5 rows × 25 columns</p>\n",
       "</div>"
      ],
      "text/plain": [
       "  gender NationalITy PlaceofBirth     StageID GradeID SectionID Topic  \\\n",
       "0      M          KW       KuwaIT  lowerlevel    G-04         A    IT   \n",
       "1      M          KW       KuwaIT  lowerlevel    G-04         A    IT   \n",
       "2      M          KW       KuwaIT  lowerlevel    G-04         A    IT   \n",
       "3      M          KW       KuwaIT  lowerlevel    G-04         A    IT   \n",
       "4      M          KW       KuwaIT  lowerlevel    G-04         A    IT   \n",
       "\n",
       "  Semester Relation  raisedhands  ...  StudentAbsenceDays  Class  \\\n",
       "0        F   Father           15  ...             Under-7      M   \n",
       "1        F   Father           20  ...             Under-7      M   \n",
       "2        F   Father           10  ...             Above-7      L   \n",
       "3        F   Father           30  ...             Above-7      L   \n",
       "4        F   Father           40  ...             Above-7      M   \n",
       "\n",
       "                   Tracks BrithInHisCountery ParentInteractionWithSchool  \\\n",
       "0  information technology                  1                 Father-Good   \n",
       "1  information technology                  1                 Father-Good   \n",
       "2  information technology                  1                  Father-Bad   \n",
       "3  information technology                  1                  Father-Bad   \n",
       "4  information technology                  1                  Father-Bad   \n",
       "\n",
       "  loveTopic raisedhands_bins    VisITedResources_bins  AnnouncementsView_bins  \\\n",
       "0         0      LowRaishand      LowVisITedResources    LowAnnouncementsView   \n",
       "1         0  middileRaishand      LowVisITedResources    LowAnnouncementsView   \n",
       "2         0      LowRaishand      LowVisITedResources    LowAnnouncementsView   \n",
       "3         0  middileRaishand  middileVisITedResources    LowAnnouncementsView   \n",
       "4         0  middileRaishand  middileVisITedResources    LowAnnouncementsView   \n",
       "\n",
       "     Discussion_bins  \n",
       "0      LowDiscussion  \n",
       "1  middileDiscussion  \n",
       "2  middileDiscussion  \n",
       "3  middileDiscussion  \n",
       "4     HighDiscussion  \n",
       "\n",
       "[5 rows x 25 columns]"
      ]
     },
     "execution_count": 119,
     "metadata": {},
     "output_type": "execute_result"
    }
   ],
   "source": [
    "data.head()"
   ]
  },
  {
   "cell_type": "markdown",
   "id": "32564ca6",
   "metadata": {},
   "source": [
    "### 5.1 Lable Encoding "
   ]
  },
  {
   "cell_type": "code",
   "execution_count": 120,
   "id": "a8424882",
   "metadata": {},
   "outputs": [
    {
     "name": "stdout",
     "output_type": "stream",
     "text": [
      "6 columns were label encoded.\n"
     ]
    }
   ],
   "source": [
    "# Create a label encoder object\n",
    "le = LabelEncoder()\n",
    "le_count = 0\n",
    "\n",
    "# Iterate through the columns\n",
    "for col in data:\n",
    "    if data[col].dtype == 'object':\n",
    "        # If 2 or fewer unique categories\n",
    "        if len(list(data[col].unique())) <= 2:\n",
    "            # Train on the training data\n",
    "            le.fit(data[col])\n",
    "            # Transform both training and testing data\n",
    "            data[col] = le.transform(data[col])\n",
    "            \n",
    "            \n",
    "            # Keep track of how many columns were label encoded\n",
    "            le_count += 1\n",
    "            \n",
    "print('%d columns were label encoded.' % le_count)\n"
   ]
  },
  {
   "cell_type": "code",
   "execution_count": 121,
   "id": "4e165b6f",
   "metadata": {},
   "outputs": [
    {
     "data": {
      "text/plain": [
       "0      M\n",
       "1      M\n",
       "2      L\n",
       "3      L\n",
       "4      M\n",
       "      ..\n",
       "475    L\n",
       "476    M\n",
       "477    M\n",
       "478    L\n",
       "479    L\n",
       "Name: Class, Length: 480, dtype: object"
      ]
     },
     "execution_count": 121,
     "metadata": {},
     "output_type": "execute_result"
    }
   ],
   "source": [
    "data[\"Class\"]"
   ]
  },
  {
   "cell_type": "markdown",
   "id": "a3072d25",
   "metadata": {},
   "source": [
    "### 5.2 One-Hot Encoding"
   ]
  },
  {
   "cell_type": "code",
   "execution_count": 122,
   "id": "de18e4ea",
   "metadata": {},
   "outputs": [],
   "source": [
    "Y = data[\"Class\"]"
   ]
  },
  {
   "cell_type": "code",
   "execution_count": 123,
   "id": "50860b5e",
   "metadata": {},
   "outputs": [
    {
     "name": "stdout",
     "output_type": "stream",
     "text": [
      "Training Features shape:  (480, 79)\n"
     ]
    }
   ],
   "source": [
    "# one-hot encoding of categorical variables\n",
    "data = pd.get_dummies(data,drop_first=True)\n",
    "print('Training Features shape: ', data.shape)\n"
   ]
  },
  {
   "cell_type": "code",
   "execution_count": 124,
   "id": "99173166",
   "metadata": {},
   "outputs": [
    {
     "data": {
      "text/html": [
       "<div>\n",
       "<style scoped>\n",
       "    .dataframe tbody tr th:only-of-type {\n",
       "        vertical-align: middle;\n",
       "    }\n",
       "\n",
       "    .dataframe tbody tr th {\n",
       "        vertical-align: top;\n",
       "    }\n",
       "\n",
       "    .dataframe thead th {\n",
       "        text-align: right;\n",
       "    }\n",
       "</style>\n",
       "<table border=\"1\" class=\"dataframe\">\n",
       "  <thead>\n",
       "    <tr style=\"text-align: right;\">\n",
       "      <th></th>\n",
       "      <th>gender</th>\n",
       "      <th>Semester</th>\n",
       "      <th>Relation</th>\n",
       "      <th>raisedhands</th>\n",
       "      <th>VisITedResources</th>\n",
       "      <th>AnnouncementsView</th>\n",
       "      <th>Discussion</th>\n",
       "      <th>ParentAnsweringSurvey</th>\n",
       "      <th>ParentschoolSatisfaction</th>\n",
       "      <th>StudentAbsenceDays</th>\n",
       "      <th>...</th>\n",
       "      <th>ParentInteractionWithSchool_Mum-Bad</th>\n",
       "      <th>ParentInteractionWithSchool_Mum-Good</th>\n",
       "      <th>raisedhands_bins_LowRaishand</th>\n",
       "      <th>raisedhands_bins_middileRaishand</th>\n",
       "      <th>VisITedResources_bins_LowVisITedResources</th>\n",
       "      <th>VisITedResources_bins_middileVisITedResources</th>\n",
       "      <th>AnnouncementsView_bins_LowAnnouncementsView</th>\n",
       "      <th>AnnouncementsView_bins_middileAnnouncementsView</th>\n",
       "      <th>Discussion_bins_LowDiscussion</th>\n",
       "      <th>Discussion_bins_middileDiscussion</th>\n",
       "    </tr>\n",
       "  </thead>\n",
       "  <tbody>\n",
       "    <tr>\n",
       "      <th>0</th>\n",
       "      <td>1</td>\n",
       "      <td>0</td>\n",
       "      <td>0</td>\n",
       "      <td>15</td>\n",
       "      <td>16</td>\n",
       "      <td>2</td>\n",
       "      <td>20</td>\n",
       "      <td>1</td>\n",
       "      <td>1</td>\n",
       "      <td>1</td>\n",
       "      <td>...</td>\n",
       "      <td>0</td>\n",
       "      <td>0</td>\n",
       "      <td>1</td>\n",
       "      <td>0</td>\n",
       "      <td>1</td>\n",
       "      <td>0</td>\n",
       "      <td>1</td>\n",
       "      <td>0</td>\n",
       "      <td>1</td>\n",
       "      <td>0</td>\n",
       "    </tr>\n",
       "    <tr>\n",
       "      <th>1</th>\n",
       "      <td>1</td>\n",
       "      <td>0</td>\n",
       "      <td>0</td>\n",
       "      <td>20</td>\n",
       "      <td>20</td>\n",
       "      <td>3</td>\n",
       "      <td>25</td>\n",
       "      <td>1</td>\n",
       "      <td>1</td>\n",
       "      <td>1</td>\n",
       "      <td>...</td>\n",
       "      <td>0</td>\n",
       "      <td>0</td>\n",
       "      <td>0</td>\n",
       "      <td>1</td>\n",
       "      <td>1</td>\n",
       "      <td>0</td>\n",
       "      <td>1</td>\n",
       "      <td>0</td>\n",
       "      <td>0</td>\n",
       "      <td>1</td>\n",
       "    </tr>\n",
       "    <tr>\n",
       "      <th>2</th>\n",
       "      <td>1</td>\n",
       "      <td>0</td>\n",
       "      <td>0</td>\n",
       "      <td>10</td>\n",
       "      <td>7</td>\n",
       "      <td>0</td>\n",
       "      <td>30</td>\n",
       "      <td>0</td>\n",
       "      <td>0</td>\n",
       "      <td>0</td>\n",
       "      <td>...</td>\n",
       "      <td>0</td>\n",
       "      <td>0</td>\n",
       "      <td>1</td>\n",
       "      <td>0</td>\n",
       "      <td>1</td>\n",
       "      <td>0</td>\n",
       "      <td>1</td>\n",
       "      <td>0</td>\n",
       "      <td>0</td>\n",
       "      <td>1</td>\n",
       "    </tr>\n",
       "    <tr>\n",
       "      <th>3</th>\n",
       "      <td>1</td>\n",
       "      <td>0</td>\n",
       "      <td>0</td>\n",
       "      <td>30</td>\n",
       "      <td>25</td>\n",
       "      <td>5</td>\n",
       "      <td>35</td>\n",
       "      <td>0</td>\n",
       "      <td>0</td>\n",
       "      <td>0</td>\n",
       "      <td>...</td>\n",
       "      <td>0</td>\n",
       "      <td>0</td>\n",
       "      <td>0</td>\n",
       "      <td>1</td>\n",
       "      <td>0</td>\n",
       "      <td>1</td>\n",
       "      <td>1</td>\n",
       "      <td>0</td>\n",
       "      <td>0</td>\n",
       "      <td>1</td>\n",
       "    </tr>\n",
       "    <tr>\n",
       "      <th>4</th>\n",
       "      <td>1</td>\n",
       "      <td>0</td>\n",
       "      <td>0</td>\n",
       "      <td>40</td>\n",
       "      <td>50</td>\n",
       "      <td>12</td>\n",
       "      <td>50</td>\n",
       "      <td>0</td>\n",
       "      <td>0</td>\n",
       "      <td>0</td>\n",
       "      <td>...</td>\n",
       "      <td>0</td>\n",
       "      <td>0</td>\n",
       "      <td>0</td>\n",
       "      <td>1</td>\n",
       "      <td>0</td>\n",
       "      <td>1</td>\n",
       "      <td>1</td>\n",
       "      <td>0</td>\n",
       "      <td>0</td>\n",
       "      <td>0</td>\n",
       "    </tr>\n",
       "  </tbody>\n",
       "</table>\n",
       "<p>5 rows × 79 columns</p>\n",
       "</div>"
      ],
      "text/plain": [
       "   gender  Semester  Relation  raisedhands  VisITedResources  \\\n",
       "0       1         0         0           15                16   \n",
       "1       1         0         0           20                20   \n",
       "2       1         0         0           10                 7   \n",
       "3       1         0         0           30                25   \n",
       "4       1         0         0           40                50   \n",
       "\n",
       "   AnnouncementsView  Discussion  ParentAnsweringSurvey  \\\n",
       "0                  2          20                      1   \n",
       "1                  3          25                      1   \n",
       "2                  0          30                      0   \n",
       "3                  5          35                      0   \n",
       "4                 12          50                      0   \n",
       "\n",
       "   ParentschoolSatisfaction  StudentAbsenceDays  ...  \\\n",
       "0                         1                   1  ...   \n",
       "1                         1                   1  ...   \n",
       "2                         0                   0  ...   \n",
       "3                         0                   0  ...   \n",
       "4                         0                   0  ...   \n",
       "\n",
       "   ParentInteractionWithSchool_Mum-Bad  ParentInteractionWithSchool_Mum-Good  \\\n",
       "0                                    0                                     0   \n",
       "1                                    0                                     0   \n",
       "2                                    0                                     0   \n",
       "3                                    0                                     0   \n",
       "4                                    0                                     0   \n",
       "\n",
       "   raisedhands_bins_LowRaishand  raisedhands_bins_middileRaishand  \\\n",
       "0                             1                                 0   \n",
       "1                             0                                 1   \n",
       "2                             1                                 0   \n",
       "3                             0                                 1   \n",
       "4                             0                                 1   \n",
       "\n",
       "   VisITedResources_bins_LowVisITedResources  \\\n",
       "0                                          1   \n",
       "1                                          1   \n",
       "2                                          1   \n",
       "3                                          0   \n",
       "4                                          0   \n",
       "\n",
       "   VisITedResources_bins_middileVisITedResources  \\\n",
       "0                                              0   \n",
       "1                                              0   \n",
       "2                                              0   \n",
       "3                                              1   \n",
       "4                                              1   \n",
       "\n",
       "   AnnouncementsView_bins_LowAnnouncementsView  \\\n",
       "0                                            1   \n",
       "1                                            1   \n",
       "2                                            1   \n",
       "3                                            1   \n",
       "4                                            1   \n",
       "\n",
       "   AnnouncementsView_bins_middileAnnouncementsView  \\\n",
       "0                                                0   \n",
       "1                                                0   \n",
       "2                                                0   \n",
       "3                                                0   \n",
       "4                                                0   \n",
       "\n",
       "   Discussion_bins_LowDiscussion  Discussion_bins_middileDiscussion  \n",
       "0                              1                                  0  \n",
       "1                              0                                  1  \n",
       "2                              0                                  1  \n",
       "3                              0                                  1  \n",
       "4                              0                                  0  \n",
       "\n",
       "[5 rows x 79 columns]"
      ]
     },
     "execution_count": 124,
     "metadata": {},
     "output_type": "execute_result"
    }
   ],
   "source": [
    "data.head()"
   ]
  },
  {
   "cell_type": "code",
   "execution_count": 125,
   "id": "d7ee8040",
   "metadata": {
    "scrolled": false
   },
   "outputs": [
    {
     "data": {
      "text/html": [
       "<div>\n",
       "<style scoped>\n",
       "    .dataframe tbody tr th:only-of-type {\n",
       "        vertical-align: middle;\n",
       "    }\n",
       "\n",
       "    .dataframe tbody tr th {\n",
       "        vertical-align: top;\n",
       "    }\n",
       "\n",
       "    .dataframe thead th {\n",
       "        text-align: right;\n",
       "    }\n",
       "</style>\n",
       "<table border=\"1\" class=\"dataframe\">\n",
       "  <thead>\n",
       "    <tr style=\"text-align: right;\">\n",
       "      <th></th>\n",
       "      <th>gender</th>\n",
       "      <th>Semester</th>\n",
       "      <th>Relation</th>\n",
       "      <th>raisedhands</th>\n",
       "      <th>VisITedResources</th>\n",
       "      <th>AnnouncementsView</th>\n",
       "      <th>Discussion</th>\n",
       "      <th>ParentAnsweringSurvey</th>\n",
       "      <th>ParentschoolSatisfaction</th>\n",
       "      <th>StudentAbsenceDays</th>\n",
       "      <th>...</th>\n",
       "      <th>ParentInteractionWithSchool_Mum-Bad</th>\n",
       "      <th>ParentInteractionWithSchool_Mum-Good</th>\n",
       "      <th>raisedhands_bins_LowRaishand</th>\n",
       "      <th>raisedhands_bins_middileRaishand</th>\n",
       "      <th>VisITedResources_bins_LowVisITedResources</th>\n",
       "      <th>VisITedResources_bins_middileVisITedResources</th>\n",
       "      <th>AnnouncementsView_bins_LowAnnouncementsView</th>\n",
       "      <th>AnnouncementsView_bins_middileAnnouncementsView</th>\n",
       "      <th>Discussion_bins_LowDiscussion</th>\n",
       "      <th>Discussion_bins_middileDiscussion</th>\n",
       "    </tr>\n",
       "  </thead>\n",
       "  <tbody>\n",
       "    <tr>\n",
       "      <th>count</th>\n",
       "      <td>480.000000</td>\n",
       "      <td>480.000000</td>\n",
       "      <td>480.000000</td>\n",
       "      <td>480.000000</td>\n",
       "      <td>480.000000</td>\n",
       "      <td>480.000000</td>\n",
       "      <td>480.000000</td>\n",
       "      <td>480.000000</td>\n",
       "      <td>480.000000</td>\n",
       "      <td>480.000000</td>\n",
       "      <td>...</td>\n",
       "      <td>480.000000</td>\n",
       "      <td>480.000000</td>\n",
       "      <td>480.000000</td>\n",
       "      <td>480.000000</td>\n",
       "      <td>480.000000</td>\n",
       "      <td>480.000000</td>\n",
       "      <td>480.000000</td>\n",
       "      <td>480.000000</td>\n",
       "      <td>480.000000</td>\n",
       "      <td>480.000000</td>\n",
       "    </tr>\n",
       "    <tr>\n",
       "      <th>mean</th>\n",
       "      <td>0.635417</td>\n",
       "      <td>0.489583</td>\n",
       "      <td>0.410417</td>\n",
       "      <td>46.775000</td>\n",
       "      <td>54.797917</td>\n",
       "      <td>37.918750</td>\n",
       "      <td>43.283333</td>\n",
       "      <td>0.562500</td>\n",
       "      <td>0.608333</td>\n",
       "      <td>0.602083</td>\n",
       "      <td>...</td>\n",
       "      <td>0.091667</td>\n",
       "      <td>0.318750</td>\n",
       "      <td>0.254167</td>\n",
       "      <td>0.281250</td>\n",
       "      <td>0.266667</td>\n",
       "      <td>0.237500</td>\n",
       "      <td>0.252083</td>\n",
       "      <td>0.256250</td>\n",
       "      <td>0.268750</td>\n",
       "      <td>0.233333</td>\n",
       "    </tr>\n",
       "    <tr>\n",
       "      <th>std</th>\n",
       "      <td>0.481815</td>\n",
       "      <td>0.500413</td>\n",
       "      <td>0.492423</td>\n",
       "      <td>30.779223</td>\n",
       "      <td>33.080007</td>\n",
       "      <td>26.611244</td>\n",
       "      <td>27.637735</td>\n",
       "      <td>0.496596</td>\n",
       "      <td>0.488632</td>\n",
       "      <td>0.489979</td>\n",
       "      <td>...</td>\n",
       "      <td>0.288856</td>\n",
       "      <td>0.466478</td>\n",
       "      <td>0.435846</td>\n",
       "      <td>0.450078</td>\n",
       "      <td>0.442678</td>\n",
       "      <td>0.425995</td>\n",
       "      <td>0.434662</td>\n",
       "      <td>0.437017</td>\n",
       "      <td>0.443772</td>\n",
       "      <td>0.423394</td>\n",
       "    </tr>\n",
       "    <tr>\n",
       "      <th>min</th>\n",
       "      <td>0.000000</td>\n",
       "      <td>0.000000</td>\n",
       "      <td>0.000000</td>\n",
       "      <td>0.000000</td>\n",
       "      <td>0.000000</td>\n",
       "      <td>0.000000</td>\n",
       "      <td>1.000000</td>\n",
       "      <td>0.000000</td>\n",
       "      <td>0.000000</td>\n",
       "      <td>0.000000</td>\n",
       "      <td>...</td>\n",
       "      <td>0.000000</td>\n",
       "      <td>0.000000</td>\n",
       "      <td>0.000000</td>\n",
       "      <td>0.000000</td>\n",
       "      <td>0.000000</td>\n",
       "      <td>0.000000</td>\n",
       "      <td>0.000000</td>\n",
       "      <td>0.000000</td>\n",
       "      <td>0.000000</td>\n",
       "      <td>0.000000</td>\n",
       "    </tr>\n",
       "    <tr>\n",
       "      <th>25%</th>\n",
       "      <td>0.000000</td>\n",
       "      <td>0.000000</td>\n",
       "      <td>0.000000</td>\n",
       "      <td>15.750000</td>\n",
       "      <td>20.000000</td>\n",
       "      <td>14.000000</td>\n",
       "      <td>20.000000</td>\n",
       "      <td>0.000000</td>\n",
       "      <td>0.000000</td>\n",
       "      <td>0.000000</td>\n",
       "      <td>...</td>\n",
       "      <td>0.000000</td>\n",
       "      <td>0.000000</td>\n",
       "      <td>0.000000</td>\n",
       "      <td>0.000000</td>\n",
       "      <td>0.000000</td>\n",
       "      <td>0.000000</td>\n",
       "      <td>0.000000</td>\n",
       "      <td>0.000000</td>\n",
       "      <td>0.000000</td>\n",
       "      <td>0.000000</td>\n",
       "    </tr>\n",
       "    <tr>\n",
       "      <th>50%</th>\n",
       "      <td>1.000000</td>\n",
       "      <td>0.000000</td>\n",
       "      <td>0.000000</td>\n",
       "      <td>50.000000</td>\n",
       "      <td>65.000000</td>\n",
       "      <td>33.000000</td>\n",
       "      <td>39.000000</td>\n",
       "      <td>1.000000</td>\n",
       "      <td>1.000000</td>\n",
       "      <td>1.000000</td>\n",
       "      <td>...</td>\n",
       "      <td>0.000000</td>\n",
       "      <td>0.000000</td>\n",
       "      <td>0.000000</td>\n",
       "      <td>0.000000</td>\n",
       "      <td>0.000000</td>\n",
       "      <td>0.000000</td>\n",
       "      <td>0.000000</td>\n",
       "      <td>0.000000</td>\n",
       "      <td>0.000000</td>\n",
       "      <td>0.000000</td>\n",
       "    </tr>\n",
       "    <tr>\n",
       "      <th>75%</th>\n",
       "      <td>1.000000</td>\n",
       "      <td>1.000000</td>\n",
       "      <td>1.000000</td>\n",
       "      <td>75.000000</td>\n",
       "      <td>84.000000</td>\n",
       "      <td>58.000000</td>\n",
       "      <td>70.000000</td>\n",
       "      <td>1.000000</td>\n",
       "      <td>1.000000</td>\n",
       "      <td>1.000000</td>\n",
       "      <td>...</td>\n",
       "      <td>0.000000</td>\n",
       "      <td>1.000000</td>\n",
       "      <td>1.000000</td>\n",
       "      <td>1.000000</td>\n",
       "      <td>1.000000</td>\n",
       "      <td>0.000000</td>\n",
       "      <td>1.000000</td>\n",
       "      <td>1.000000</td>\n",
       "      <td>1.000000</td>\n",
       "      <td>0.000000</td>\n",
       "    </tr>\n",
       "    <tr>\n",
       "      <th>max</th>\n",
       "      <td>1.000000</td>\n",
       "      <td>1.000000</td>\n",
       "      <td>1.000000</td>\n",
       "      <td>100.000000</td>\n",
       "      <td>99.000000</td>\n",
       "      <td>98.000000</td>\n",
       "      <td>99.000000</td>\n",
       "      <td>1.000000</td>\n",
       "      <td>1.000000</td>\n",
       "      <td>1.000000</td>\n",
       "      <td>...</td>\n",
       "      <td>1.000000</td>\n",
       "      <td>1.000000</td>\n",
       "      <td>1.000000</td>\n",
       "      <td>1.000000</td>\n",
       "      <td>1.000000</td>\n",
       "      <td>1.000000</td>\n",
       "      <td>1.000000</td>\n",
       "      <td>1.000000</td>\n",
       "      <td>1.000000</td>\n",
       "      <td>1.000000</td>\n",
       "    </tr>\n",
       "  </tbody>\n",
       "</table>\n",
       "<p>8 rows × 79 columns</p>\n",
       "</div>"
      ],
      "text/plain": [
       "           gender    Semester    Relation  raisedhands  VisITedResources  \\\n",
       "count  480.000000  480.000000  480.000000   480.000000        480.000000   \n",
       "mean     0.635417    0.489583    0.410417    46.775000         54.797917   \n",
       "std      0.481815    0.500413    0.492423    30.779223         33.080007   \n",
       "min      0.000000    0.000000    0.000000     0.000000          0.000000   \n",
       "25%      0.000000    0.000000    0.000000    15.750000         20.000000   \n",
       "50%      1.000000    0.000000    0.000000    50.000000         65.000000   \n",
       "75%      1.000000    1.000000    1.000000    75.000000         84.000000   \n",
       "max      1.000000    1.000000    1.000000   100.000000         99.000000   \n",
       "\n",
       "       AnnouncementsView  Discussion  ParentAnsweringSurvey  \\\n",
       "count         480.000000  480.000000             480.000000   \n",
       "mean           37.918750   43.283333               0.562500   \n",
       "std            26.611244   27.637735               0.496596   \n",
       "min             0.000000    1.000000               0.000000   \n",
       "25%            14.000000   20.000000               0.000000   \n",
       "50%            33.000000   39.000000               1.000000   \n",
       "75%            58.000000   70.000000               1.000000   \n",
       "max            98.000000   99.000000               1.000000   \n",
       "\n",
       "       ParentschoolSatisfaction  StudentAbsenceDays  ...  \\\n",
       "count                480.000000          480.000000  ...   \n",
       "mean                   0.608333            0.602083  ...   \n",
       "std                    0.488632            0.489979  ...   \n",
       "min                    0.000000            0.000000  ...   \n",
       "25%                    0.000000            0.000000  ...   \n",
       "50%                    1.000000            1.000000  ...   \n",
       "75%                    1.000000            1.000000  ...   \n",
       "max                    1.000000            1.000000  ...   \n",
       "\n",
       "       ParentInteractionWithSchool_Mum-Bad  \\\n",
       "count                           480.000000   \n",
       "mean                              0.091667   \n",
       "std                               0.288856   \n",
       "min                               0.000000   \n",
       "25%                               0.000000   \n",
       "50%                               0.000000   \n",
       "75%                               0.000000   \n",
       "max                               1.000000   \n",
       "\n",
       "       ParentInteractionWithSchool_Mum-Good  raisedhands_bins_LowRaishand  \\\n",
       "count                            480.000000                    480.000000   \n",
       "mean                               0.318750                      0.254167   \n",
       "std                                0.466478                      0.435846   \n",
       "min                                0.000000                      0.000000   \n",
       "25%                                0.000000                      0.000000   \n",
       "50%                                0.000000                      0.000000   \n",
       "75%                                1.000000                      1.000000   \n",
       "max                                1.000000                      1.000000   \n",
       "\n",
       "       raisedhands_bins_middileRaishand  \\\n",
       "count                        480.000000   \n",
       "mean                           0.281250   \n",
       "std                            0.450078   \n",
       "min                            0.000000   \n",
       "25%                            0.000000   \n",
       "50%                            0.000000   \n",
       "75%                            1.000000   \n",
       "max                            1.000000   \n",
       "\n",
       "       VisITedResources_bins_LowVisITedResources  \\\n",
       "count                                 480.000000   \n",
       "mean                                    0.266667   \n",
       "std                                     0.442678   \n",
       "min                                     0.000000   \n",
       "25%                                     0.000000   \n",
       "50%                                     0.000000   \n",
       "75%                                     1.000000   \n",
       "max                                     1.000000   \n",
       "\n",
       "       VisITedResources_bins_middileVisITedResources  \\\n",
       "count                                     480.000000   \n",
       "mean                                        0.237500   \n",
       "std                                         0.425995   \n",
       "min                                         0.000000   \n",
       "25%                                         0.000000   \n",
       "50%                                         0.000000   \n",
       "75%                                         0.000000   \n",
       "max                                         1.000000   \n",
       "\n",
       "       AnnouncementsView_bins_LowAnnouncementsView  \\\n",
       "count                                   480.000000   \n",
       "mean                                      0.252083   \n",
       "std                                       0.434662   \n",
       "min                                       0.000000   \n",
       "25%                                       0.000000   \n",
       "50%                                       0.000000   \n",
       "75%                                       1.000000   \n",
       "max                                       1.000000   \n",
       "\n",
       "       AnnouncementsView_bins_middileAnnouncementsView  \\\n",
       "count                                       480.000000   \n",
       "mean                                          0.256250   \n",
       "std                                           0.437017   \n",
       "min                                           0.000000   \n",
       "25%                                           0.000000   \n",
       "50%                                           0.000000   \n",
       "75%                                           1.000000   \n",
       "max                                           1.000000   \n",
       "\n",
       "       Discussion_bins_LowDiscussion  Discussion_bins_middileDiscussion  \n",
       "count                     480.000000                         480.000000  \n",
       "mean                        0.268750                           0.233333  \n",
       "std                         0.443772                           0.423394  \n",
       "min                         0.000000                           0.000000  \n",
       "25%                         0.000000                           0.000000  \n",
       "50%                         0.000000                           0.000000  \n",
       "75%                         1.000000                           0.000000  \n",
       "max                         1.000000                           1.000000  \n",
       "\n",
       "[8 rows x 79 columns]"
      ]
     },
     "execution_count": 125,
     "metadata": {},
     "output_type": "execute_result"
    }
   ],
   "source": [
    "data.describe()"
   ]
  },
  {
   "cell_type": "code",
   "execution_count": 127,
   "id": "def9ead1",
   "metadata": {},
   "outputs": [],
   "source": [
    "# from sklearn import preprocessing\n",
    "\n",
    "# data_raisedhands = np.array(data[\"raisedhands\"])\n",
    "# data[\"raisedhands\"] = preprocessing.normalize(data_raisedhands)\n",
    "\n",
    "\n",
    "# data_VisITedResources = np.array(data[\"VisITedResources\"])\n",
    "# data[\"VisITedResources\"] = preprocessing.normalize(data_VisITedResources)\n",
    "\n",
    "# data_AnnouncementsView = np.array(data[\"AnnouncementsView\"])\n",
    "# data[\"AnnouncementsView\"] = preprocessing.normalize(data_AnnouncementsView)\n",
    "\n",
    "# data_Discussion = np.array(data[\"Discussion\"])\n",
    "# data[\"Discussion\"] = preprocessing.normalize(data_Discussion)"
   ]
  },
  {
   "cell_type": "code",
   "execution_count": 128,
   "id": "a3ffe82b",
   "metadata": {
    "scrolled": true
   },
   "outputs": [
    {
     "data": {
      "text/plain": [
       "0      M\n",
       "1      M\n",
       "2      L\n",
       "3      L\n",
       "4      M\n",
       "      ..\n",
       "475    L\n",
       "476    M\n",
       "477    M\n",
       "478    L\n",
       "479    L\n",
       "Name: Class, Length: 480, dtype: object"
      ]
     },
     "execution_count": 128,
     "metadata": {},
     "output_type": "execute_result"
    }
   ],
   "source": [
    "Y"
   ]
  },
  {
   "cell_type": "code",
   "execution_count": 129,
   "id": "69426fd7",
   "metadata": {
    "scrolled": true
   },
   "outputs": [
    {
     "data": {
      "text/plain": [
       "Index(['gender', 'Semester', 'Relation', 'raisedhands', 'VisITedResources',\n",
       "       'AnnouncementsView', 'Discussion', 'ParentAnsweringSurvey',\n",
       "       'ParentschoolSatisfaction', 'StudentAbsenceDays', 'BrithInHisCountery',\n",
       "       'loveTopic', 'NationalITy_Iran', 'NationalITy_Iraq',\n",
       "       'NationalITy_Jordan', 'NationalITy_KW', 'NationalITy_Lybia',\n",
       "       'NationalITy_Morocco', 'NationalITy_Palestine',\n",
       "       'NationalITy_SaudiArabia', 'NationalITy_Syria', 'NationalITy_Tunis',\n",
       "       'NationalITy_USA', 'NationalITy_lebanon', 'NationalITy_venzuela',\n",
       "       'PlaceofBirth_Iran', 'PlaceofBirth_Iraq', 'PlaceofBirth_Jordan',\n",
       "       'PlaceofBirth_KuwaIT', 'PlaceofBirth_Lybia', 'PlaceofBirth_Morocco',\n",
       "       'PlaceofBirth_Palestine', 'PlaceofBirth_SaudiArabia',\n",
       "       'PlaceofBirth_Syria', 'PlaceofBirth_Tunis', 'PlaceofBirth_USA',\n",
       "       'PlaceofBirth_lebanon', 'PlaceofBirth_venzuela', 'StageID_MiddleSchool',\n",
       "       'StageID_lowerlevel', 'GradeID_G-04', 'GradeID_G-05', 'GradeID_G-06',\n",
       "       'GradeID_G-07', 'GradeID_G-08', 'GradeID_G-09', 'GradeID_G-10',\n",
       "       'GradeID_G-11', 'GradeID_G-12', 'SectionID_B', 'SectionID_C',\n",
       "       'Topic_Biology', 'Topic_Chemistry', 'Topic_English', 'Topic_French',\n",
       "       'Topic_Geology', 'Topic_History', 'Topic_IT', 'Topic_Math',\n",
       "       'Topic_Quran', 'Topic_Science', 'Topic_Spanish', 'Class_L', 'Class_M',\n",
       "       'Tracks_Sciences', 'Tracks_information technology', 'Tracks_languages',\n",
       "       'Tracks_religion', 'ParentInteractionWithSchool_Father-Good',\n",
       "       'ParentInteractionWithSchool_Mum-Bad',\n",
       "       'ParentInteractionWithSchool_Mum-Good', 'raisedhands_bins_LowRaishand',\n",
       "       'raisedhands_bins_middileRaishand',\n",
       "       'VisITedResources_bins_LowVisITedResources',\n",
       "       'VisITedResources_bins_middileVisITedResources',\n",
       "       'AnnouncementsView_bins_LowAnnouncementsView',\n",
       "       'AnnouncementsView_bins_middileAnnouncementsView',\n",
       "       'Discussion_bins_LowDiscussion', 'Discussion_bins_middileDiscussion'],\n",
       "      dtype='object')"
      ]
     },
     "execution_count": 129,
     "metadata": {},
     "output_type": "execute_result"
    }
   ],
   "source": [
    "data.columns"
   ]
  },
  {
   "cell_type": "code",
   "execution_count": 130,
   "id": "5bea3bae",
   "metadata": {},
   "outputs": [],
   "source": [
    "#set x and y for start trining \n",
    "#y=data[\"Class\"]\n",
    "x= data.drop([\"Class_L\",\"Class_M\"],axis=1).values\n"
   ]
  },
  {
   "cell_type": "code",
   "execution_count": 132,
   "id": "62a8ddb5",
   "metadata": {},
   "outputs": [],
   "source": [
    "#x.columns"
   ]
  },
  {
   "cell_type": "markdown",
   "id": "b7ee53fa",
   "metadata": {},
   "source": [
    "## 6. split the data"
   ]
  },
  {
   "cell_type": "code",
   "execution_count": 133,
   "id": "c040c2c4",
   "metadata": {},
   "outputs": [],
   "source": [
    "from sklearn.model_selection import train_test_split\n",
    "X_train, X_test, y_train, y_test = train_test_split(x,Y,test_size=0.20,random_state=42)"
   ]
  },
  {
   "cell_type": "markdown",
   "id": "1bcba188",
   "metadata": {},
   "source": [
    "## 7. Model Selection and predict score "
   ]
  },
  {
   "cell_type": "code",
   "execution_count": 137,
   "id": "9b7bd129",
   "metadata": {},
   "outputs": [],
   "source": [
    "# Machine learning models\n",
    "from sklearn.linear_model import LogisticRegression, Perceptron, SGDClassifier\n",
    "from sklearn.svm import SVC, LinearSVC\n",
    "from sklearn.ensemble import RandomForestClassifier , AdaBoostClassifier, GradientBoostingClassifier , ExtraTreesClassifier\n",
    "from sklearn.neighbors import KNeighborsClassifier\n",
    "from sklearn.naive_bayes import GaussianNB\n",
    "from sklearn.tree import DecisionTreeClassifier\n",
    "from catboost import CatBoostClassifier\n",
    "from sklearn.discriminant_analysis import LinearDiscriminantAnalysis, QuadraticDiscriminantAnalysis\n",
    "from sklearn.metrics import classification_report\n",
    "from sklearn.metrics import f1_score\n",
    "\n",
    "\n",
    "\n",
    "\n",
    "\n"
   ]
  },
  {
   "cell_type": "code",
   "execution_count": 138,
   "id": "873b6a2e",
   "metadata": {},
   "outputs": [
    {
     "data": {
      "text/plain": [
       "100.0"
      ]
     },
     "execution_count": 138,
     "metadata": {},
     "output_type": "execute_result"
    }
   ],
   "source": [
    "from sklearn.tree import DecisionTreeClassifier\n",
    "\n",
    "DecTreCla = DecisionTreeClassifier()\n",
    "DecTreCla.fit(X_train,y_train)\n",
    "Y_pred = DecTreCla.predict(X_test)\n",
    "acc_DecTreCla = round(DecTreCla.score(X_test,Y_pred)*100,2)#80.28\n",
    "acc_DecTreCla "
   ]
  },
  {
   "cell_type": "code",
   "execution_count": 139,
   "id": "788a7f54",
   "metadata": {},
   "outputs": [
    {
     "name": "stdout",
     "output_type": "stream",
     "text": [
      "              precision    recall  f1-score   support\n",
      "\n",
      "           H       0.73      0.86      0.79        22\n",
      "           L       0.79      1.00      0.88        26\n",
      "           M       0.92      0.71      0.80        48\n",
      "\n",
      "    accuracy                           0.82        96\n",
      "   macro avg       0.81      0.86      0.82        96\n",
      "weighted avg       0.84      0.82      0.82        96\n",
      "\n",
      "0.8201241760828625\n"
     ]
    }
   ],
   "source": [
    "print(classification_report(y_test,Y_pred))\n",
    "print(f1_score(y_test,Y_pred,average=\"weighted\"))"
   ]
  },
  {
   "cell_type": "code",
   "execution_count": 140,
   "id": "f8891fdb",
   "metadata": {},
   "outputs": [
    {
     "data": {
      "text/plain": [
       "100.0"
      ]
     },
     "execution_count": 140,
     "metadata": {},
     "output_type": "execute_result"
    }
   ],
   "source": [
    "from sklearn.tree import ExtraTreeClassifier\n",
    "ExTrCl = ExtraTreeClassifier()\n",
    "ExTrCl.fit(X_train,y_train)\n",
    "Y_pred = ExTrCl.predict(X_test)\n",
    "acc_ExTrCl = round(ExTrCl.score(X_test,Y_pred)*100,2)#80.28\n",
    "acc_ExTrCl "
   ]
  },
  {
   "cell_type": "code",
   "execution_count": 142,
   "id": "efee82d6",
   "metadata": {},
   "outputs": [
    {
     "data": {
      "text/plain": [
       "100.0"
      ]
     },
     "execution_count": 142,
     "metadata": {},
     "output_type": "execute_result"
    }
   ],
   "source": [
    "from sklearn.ensemble import ExtraTreesClassifier\n",
    "ExTrClEn = ExtraTreeClassifier()\n",
    "ExTrClEn.fit(X_train,y_train)\n",
    "Y_pred = ExTrClEn.predict(X_test)\n",
    "acc_ExTrClEn = round(ExTrClEn.score(X_test,Y_pred)*100,2)#80.28\n",
    "acc_ExTrClEn"
   ]
  },
  {
   "cell_type": "code",
   "execution_count": 143,
   "id": "d3cd32d9",
   "metadata": {},
   "outputs": [
    {
     "name": "stdout",
     "output_type": "stream",
     "text": [
      "              precision    recall  f1-score   support\n",
      "\n",
      "           H       0.67      0.73      0.70        22\n",
      "           L       0.84      0.81      0.82        26\n",
      "           M       0.79      0.77      0.78        48\n",
      "\n",
      "    accuracy                           0.77        96\n",
      "   macro avg       0.76      0.77      0.77        96\n",
      "weighted avg       0.77      0.77      0.77        96\n",
      "\n",
      "0.7719331897518732\n"
     ]
    }
   ],
   "source": [
    "print(classification_report(y_test,Y_pred))\n",
    "print(f1_score(y_test,Y_pred,average=\"weighted\"))"
   ]
  },
  {
   "cell_type": "code",
   "execution_count": 146,
   "id": "c98a5969",
   "metadata": {
    "scrolled": true
   },
   "outputs": [
    {
     "data": {
      "text/plain": [
       "100.0"
      ]
     },
     "execution_count": 146,
     "metadata": {},
     "output_type": "execute_result"
    }
   ],
   "source": [
    "from sklearn.neural_network import MLPClassifier\n",
    "MLPC = MLPClassifier()\n",
    "MLPC.fit(X_train,y_train)\n",
    "Y_pred = MLPC.predict(X_test)\n",
    "acc_MLPC = round(MLPC.score(X_test,Y_pred)*100,2)#80.28\n",
    "acc_MLPC"
   ]
  },
  {
   "cell_type": "code",
   "execution_count": 148,
   "id": "dc33c76f",
   "metadata": {},
   "outputs": [
    {
     "name": "stdout",
     "output_type": "stream",
     "text": [
      "[21:01:36] WARNING: ../src/learner.cc:1115: Starting in XGBoost 1.3.0, the default evaluation metric used with the objective 'multi:softprob' was changed from 'merror' to 'mlogloss'. Explicitly set eval_metric if you'd like to restore the old behavior.\n"
     ]
    }
   ],
   "source": [
    "xgb = XGBClassifier(max_depth=10, learning_rate=0.1, n_estimators=100,seed=10)\n",
    "xgb_pred = xgb.fit(X_train, y_train).predict(X_test)\n"
   ]
  },
  {
   "cell_type": "code",
   "execution_count": 149,
   "id": "41d80898",
   "metadata": {},
   "outputs": [
    {
     "name": "stdout",
     "output_type": "stream",
     "text": [
      "              precision    recall  f1-score   support\n",
      "\n",
      "           H       0.79      0.68      0.73        22\n",
      "           L       0.83      0.96      0.89        26\n",
      "           M       0.83      0.81      0.82        48\n",
      "\n",
      "    accuracy                           0.82        96\n",
      "   macro avg       0.82      0.82      0.82        96\n",
      "weighted avg       0.82      0.82      0.82        96\n",
      "\n",
      "0.8200247188092181\n"
     ]
    }
   ],
   "source": [
    "print (classification_report(y_test,xgb_pred))\n",
    "print(f1_score(y_test,xgb_pred,average=\"weighted\"))"
   ]
  },
  {
   "cell_type": "code",
   "execution_count": 152,
   "id": "cc4617e5",
   "metadata": {},
   "outputs": [
    {
     "data": {
      "text/plain": [
       "100.0"
      ]
     },
     "execution_count": 152,
     "metadata": {},
     "output_type": "execute_result"
    }
   ],
   "source": [
    "from sklearn.ensemble import RandomForestClassifier\n",
    "RaFoCl = RandomForestClassifier()\n",
    "RaFoCl.fit(X_train,y_train)\n",
    "Y_pred = RaFoCl.predict(X_test)\n",
    "acc_RaFoCl = round(RaFoCl.score(X_test,Y_pred)*100,2)#80.28\n",
    "acc_RaFoCl"
   ]
  },
  {
   "cell_type": "code",
   "execution_count": 153,
   "id": "d259b153",
   "metadata": {},
   "outputs": [
    {
     "name": "stdout",
     "output_type": "stream",
     "text": [
      "              precision    recall  f1-score   support\n",
      "\n",
      "           H       0.82      0.82      0.82        22\n",
      "           L       0.88      0.88      0.88        26\n",
      "           M       0.85      0.85      0.85        48\n",
      "\n",
      "    accuracy                           0.85        96\n",
      "   macro avg       0.85      0.85      0.85        96\n",
      "weighted avg       0.85      0.85      0.85        96\n",
      "\n"
     ]
    },
    {
     "data": {
      "text/plain": [
       "0.8541666666666666"
      ]
     },
     "execution_count": 153,
     "metadata": {},
     "output_type": "execute_result"
    }
   ],
   "source": [
    "print(classification_report(y_test,Y_pred))\n",
    "f1_score(y_test,Y_pred,average=\"weighted\")"
   ]
  },
  {
   "cell_type": "code",
   "execution_count": 158,
   "id": "47b66edb",
   "metadata": {},
   "outputs": [
    {
     "data": {
      "text/plain": [
       "80.21"
      ]
     },
     "execution_count": 158,
     "metadata": {},
     "output_type": "execute_result"
    }
   ],
   "source": [
    "# LogisticRegression\n",
    "from sklearn.linear_model import LogisticRegression\n",
    "\n",
    "LogReg = LogisticRegression()\n",
    "LogReg.fit(X_train,y_train)\n",
    "Y_pred = LogReg.predict(X_test)\n",
    "acc_LogReg = round(LogReg.score(X_train,y_train)*100,2)#80.28\n",
    "acc_LogReg "
   ]
  },
  {
   "cell_type": "code",
   "execution_count": 159,
   "id": "98aa36f6",
   "metadata": {},
   "outputs": [
    {
     "data": {
      "text/html": [
       "<div>\n",
       "<style scoped>\n",
       "    .dataframe tbody tr th:only-of-type {\n",
       "        vertical-align: middle;\n",
       "    }\n",
       "\n",
       "    .dataframe tbody tr th {\n",
       "        vertical-align: top;\n",
       "    }\n",
       "\n",
       "    .dataframe thead th {\n",
       "        text-align: right;\n",
       "    }\n",
       "</style>\n",
       "<table border=\"1\" class=\"dataframe\">\n",
       "  <thead>\n",
       "    <tr style=\"text-align: right;\">\n",
       "      <th></th>\n",
       "      <th>Feature</th>\n",
       "      <th>Correlation</th>\n",
       "    </tr>\n",
       "  </thead>\n",
       "  <tbody>\n",
       "    <tr>\n",
       "      <th>9</th>\n",
       "      <td>BrithInHisCountery</td>\n",
       "      <td>1.714032</td>\n",
       "    </tr>\n",
       "    <tr>\n",
       "      <th>7</th>\n",
       "      <td>ParentschoolSatisfaction</td>\n",
       "      <td>0.871755</td>\n",
       "    </tr>\n",
       "    <tr>\n",
       "      <th>2</th>\n",
       "      <td>raisedhands</td>\n",
       "      <td>0.439775</td>\n",
       "    </tr>\n",
       "    <tr>\n",
       "      <th>8</th>\n",
       "      <td>StudentAbsenceDays</td>\n",
       "      <td>0.416601</td>\n",
       "    </tr>\n",
       "    <tr>\n",
       "      <th>51</th>\n",
       "      <td>Topic_Chemistry</td>\n",
       "      <td>0.401378</td>\n",
       "    </tr>\n",
       "    <tr>\n",
       "      <th>...</th>\n",
       "      <td>...</td>\n",
       "      <td>...</td>\n",
       "    </tr>\n",
       "    <tr>\n",
       "      <th>27</th>\n",
       "      <td>PlaceofBirth_KuwaIT</td>\n",
       "      <td>-0.544323</td>\n",
       "    </tr>\n",
       "    <tr>\n",
       "      <th>73</th>\n",
       "      <td>VisITedResources_bins_middileVisITedResources</td>\n",
       "      <td>-0.642500</td>\n",
       "    </tr>\n",
       "    <tr>\n",
       "      <th>0</th>\n",
       "      <td>Semester</td>\n",
       "      <td>-0.754991</td>\n",
       "    </tr>\n",
       "    <tr>\n",
       "      <th>75</th>\n",
       "      <td>AnnouncementsView_bins_middileAnnouncementsView</td>\n",
       "      <td>-0.863577</td>\n",
       "    </tr>\n",
       "    <tr>\n",
       "      <th>77</th>\n",
       "      <td>Discussion_bins_middileDiscussion</td>\n",
       "      <td>NaN</td>\n",
       "    </tr>\n",
       "  </tbody>\n",
       "</table>\n",
       "<p>78 rows × 2 columns</p>\n",
       "</div>"
      ],
      "text/plain": [
       "                                            Feature  Correlation\n",
       "9                                BrithInHisCountery     1.714032\n",
       "7                          ParentschoolSatisfaction     0.871755\n",
       "2                                       raisedhands     0.439775\n",
       "8                                StudentAbsenceDays     0.416601\n",
       "51                                  Topic_Chemistry     0.401378\n",
       "..                                              ...          ...\n",
       "27                              PlaceofBirth_KuwaIT    -0.544323\n",
       "73    VisITedResources_bins_middileVisITedResources    -0.642500\n",
       "0                                          Semester    -0.754991\n",
       "75  AnnouncementsView_bins_middileAnnouncementsView    -0.863577\n",
       "77                Discussion_bins_middileDiscussion          NaN\n",
       "\n",
       "[78 rows x 2 columns]"
      ]
     },
     "execution_count": 159,
     "metadata": {},
     "output_type": "execute_result"
    }
   ],
   "source": [
    "coeff_df = pd.DataFrame(data.columns.delete(0))\n",
    "coeff_df.columns = ['Feature']\n",
    "coeff_df[\"Correlation\"] = pd.Series(LogReg.coef_[0])\n",
    "\n",
    "coeff_df.sort_values(by='Correlation', ascending=False)"
   ]
  },
  {
   "cell_type": "code",
   "execution_count": null,
   "id": "51ef8843",
   "metadata": {},
   "outputs": [],
   "source": [
    "# ------------------"
   ]
  },
  {
   "cell_type": "code",
   "execution_count": 168,
   "id": "8a2395fd",
   "metadata": {},
   "outputs": [
    {
     "name": "stdout",
     "output_type": "stream",
     "text": [
      "              precision    recall  f1-score   support\n",
      "\n",
      "           H       0.69      0.82      0.75        22\n",
      "           L       0.87      1.00      0.93        26\n",
      "           M       0.90      0.75      0.82        48\n",
      "\n",
      "    accuracy                           0.83        96\n",
      "   macro avg       0.82      0.86      0.83        96\n",
      "weighted avg       0.84      0.83      0.83        96\n",
      "\n",
      "0.8324540043290044\n"
     ]
    }
   ],
   "source": [
    "decision_tree = DecisionTreeClassifier()\n",
    "decision_tree.fit(X_train, y_train)\n",
    "Y_pred = decision_tree.predict(X_test)\n",
    "acc_decision_tree = round(decision_tree.score(X_train, y_train) * 100, 2)\n",
    "print(classification_report(y_test,Y_pred))\n",
    "print(f1_score(y_test,Y_pred,average=\"weighted\"))\n",
    "#acc_decision_tree"
   ]
  },
  {
   "cell_type": "code",
   "execution_count": 169,
   "id": "e54cf60c",
   "metadata": {},
   "outputs": [
    {
     "name": "stdout",
     "output_type": "stream",
     "text": [
      "              precision    recall  f1-score   support\n",
      "\n",
      "           H       0.71      0.77      0.74        22\n",
      "           L       0.88      0.88      0.88        26\n",
      "           M       0.83      0.79      0.81        48\n",
      "\n",
      "    accuracy                           0.81        96\n",
      "   macro avg       0.81      0.82      0.81        96\n",
      "weighted avg       0.81      0.81      0.81        96\n",
      "\n",
      "0.813222710453284\n"
     ]
    }
   ],
   "source": [
    "random_forest = RandomForestClassifier(n_estimators = 100)\n",
    "random_forest.fit(X_train, y_train)\n",
    "Y_pred = random_forest.predict(X_test)\n",
    "acc_random_forest = round(random_forest.score(X_train, y_train) * 100, 2)\n",
    "print(classification_report(y_test,Y_pred))\n",
    "print(f1_score(y_test,Y_pred,average=\"weighted\"))\n",
    "#acc_random_forest"
   ]
  },
  {
   "cell_type": "code",
   "execution_count": 170,
   "id": "2a0ad7ee",
   "metadata": {},
   "outputs": [
    {
     "name": "stdout",
     "output_type": "stream",
     "text": [
      "Learning rate set to 0.075357\n",
      "0:\tlearn: 1.0676603\ttotal: 64.8ms\tremaining: 1m 4s\n",
      "1:\tlearn: 1.0277100\ttotal: 68.7ms\tremaining: 34.3s\n",
      "2:\tlearn: 0.9900337\ttotal: 71.3ms\tremaining: 23.7s\n",
      "3:\tlearn: 0.9588983\ttotal: 73.7ms\tremaining: 18.4s\n",
      "4:\tlearn: 0.9306592\ttotal: 76.4ms\tremaining: 15.2s\n",
      "5:\tlearn: 0.9044656\ttotal: 79.7ms\tremaining: 13.2s\n",
      "6:\tlearn: 0.8796837\ttotal: 82.6ms\tremaining: 11.7s\n",
      "7:\tlearn: 0.8601550\ttotal: 85.8ms\tremaining: 10.6s\n",
      "8:\tlearn: 0.8351040\ttotal: 87.3ms\tremaining: 9.62s\n",
      "9:\tlearn: 0.8159276\ttotal: 89.7ms\tremaining: 8.88s\n",
      "10:\tlearn: 0.7950045\ttotal: 92.3ms\tremaining: 8.3s\n",
      "11:\tlearn: 0.7781929\ttotal: 94.7ms\tremaining: 7.79s\n",
      "12:\tlearn: 0.7633217\ttotal: 97.4ms\tremaining: 7.4s\n",
      "13:\tlearn: 0.7489649\ttotal: 100ms\tremaining: 7.04s\n",
      "14:\tlearn: 0.7342558\ttotal: 103ms\tremaining: 6.75s\n",
      "15:\tlearn: 0.7225608\ttotal: 105ms\tremaining: 6.49s\n",
      "16:\tlearn: 0.7076541\ttotal: 108ms\tremaining: 6.25s\n",
      "17:\tlearn: 0.6941778\ttotal: 110ms\tremaining: 6.03s\n",
      "18:\tlearn: 0.6842081\ttotal: 113ms\tremaining: 5.83s\n",
      "19:\tlearn: 0.6710365\ttotal: 115ms\tremaining: 5.66s\n",
      "20:\tlearn: 0.6603088\ttotal: 118ms\tremaining: 5.51s\n",
      "21:\tlearn: 0.6498951\ttotal: 120ms\tremaining: 5.36s\n",
      "22:\tlearn: 0.6432966\ttotal: 123ms\tremaining: 5.22s\n",
      "23:\tlearn: 0.6345584\ttotal: 125ms\tremaining: 5.1s\n",
      "24:\tlearn: 0.6272761\ttotal: 128ms\tremaining: 4.98s\n",
      "25:\tlearn: 0.6199295\ttotal: 130ms\tremaining: 4.88s\n",
      "26:\tlearn: 0.6118908\ttotal: 133ms\tremaining: 4.79s\n",
      "27:\tlearn: 0.6028504\ttotal: 136ms\tremaining: 4.7s\n",
      "28:\tlearn: 0.5942359\ttotal: 138ms\tremaining: 4.62s\n",
      "29:\tlearn: 0.5878982\ttotal: 140ms\tremaining: 4.54s\n",
      "30:\tlearn: 0.5827147\ttotal: 143ms\tremaining: 4.46s\n",
      "31:\tlearn: 0.5778855\ttotal: 145ms\tremaining: 4.39s\n",
      "32:\tlearn: 0.5684695\ttotal: 148ms\tremaining: 4.33s\n",
      "33:\tlearn: 0.5615959\ttotal: 150ms\tremaining: 4.28s\n",
      "34:\tlearn: 0.5537570\ttotal: 153ms\tremaining: 4.22s\n",
      "35:\tlearn: 0.5485223\ttotal: 155ms\tremaining: 4.16s\n",
      "36:\tlearn: 0.5418737\ttotal: 158ms\tremaining: 4.11s\n",
      "37:\tlearn: 0.5371979\ttotal: 160ms\tremaining: 4.05s\n",
      "38:\tlearn: 0.5316463\ttotal: 163ms\tremaining: 4s\n",
      "39:\tlearn: 0.5263921\ttotal: 165ms\tremaining: 3.96s\n",
      "40:\tlearn: 0.5232364\ttotal: 167ms\tremaining: 3.92s\n",
      "41:\tlearn: 0.5203008\ttotal: 169ms\tremaining: 3.84s\n",
      "42:\tlearn: 0.5130101\ttotal: 171ms\tremaining: 3.8s\n",
      "43:\tlearn: 0.5076672\ttotal: 173ms\tremaining: 3.77s\n",
      "44:\tlearn: 0.5044603\ttotal: 176ms\tremaining: 3.73s\n",
      "45:\tlearn: 0.5000307\ttotal: 178ms\tremaining: 3.7s\n",
      "46:\tlearn: 0.4946999\ttotal: 181ms\tremaining: 3.67s\n",
      "47:\tlearn: 0.4907954\ttotal: 185ms\tremaining: 3.66s\n",
      "48:\tlearn: 0.4870611\ttotal: 189ms\tremaining: 3.67s\n",
      "49:\tlearn: 0.4834212\ttotal: 193ms\tremaining: 3.66s\n",
      "50:\tlearn: 0.4792839\ttotal: 197ms\tremaining: 3.66s\n",
      "51:\tlearn: 0.4753712\ttotal: 205ms\tremaining: 3.74s\n",
      "52:\tlearn: 0.4730909\ttotal: 209ms\tremaining: 3.73s\n",
      "53:\tlearn: 0.4690606\ttotal: 213ms\tremaining: 3.73s\n",
      "54:\tlearn: 0.4654080\ttotal: 215ms\tremaining: 3.7s\n",
      "55:\tlearn: 0.4614329\ttotal: 218ms\tremaining: 3.67s\n",
      "56:\tlearn: 0.4582987\ttotal: 222ms\tremaining: 3.67s\n",
      "57:\tlearn: 0.4560695\ttotal: 225ms\tremaining: 3.66s\n",
      "58:\tlearn: 0.4524835\ttotal: 228ms\tremaining: 3.64s\n",
      "59:\tlearn: 0.4497258\ttotal: 231ms\tremaining: 3.63s\n",
      "60:\tlearn: 0.4462623\ttotal: 234ms\tremaining: 3.6s\n",
      "61:\tlearn: 0.4427174\ttotal: 237ms\tremaining: 3.58s\n",
      "62:\tlearn: 0.4389226\ttotal: 239ms\tremaining: 3.56s\n",
      "63:\tlearn: 0.4357228\ttotal: 242ms\tremaining: 3.53s\n",
      "64:\tlearn: 0.4326874\ttotal: 244ms\tremaining: 3.51s\n",
      "65:\tlearn: 0.4295409\ttotal: 246ms\tremaining: 3.49s\n",
      "66:\tlearn: 0.4248120\ttotal: 249ms\tremaining: 3.46s\n",
      "67:\tlearn: 0.4223347\ttotal: 251ms\tremaining: 3.44s\n",
      "68:\tlearn: 0.4204417\ttotal: 254ms\tremaining: 3.42s\n",
      "69:\tlearn: 0.4173820\ttotal: 256ms\tremaining: 3.4s\n",
      "70:\tlearn: 0.4141772\ttotal: 259ms\tremaining: 3.38s\n",
      "71:\tlearn: 0.4116696\ttotal: 261ms\tremaining: 3.36s\n",
      "72:\tlearn: 0.4093085\ttotal: 263ms\tremaining: 3.34s\n",
      "73:\tlearn: 0.4076021\ttotal: 266ms\tremaining: 3.32s\n",
      "74:\tlearn: 0.4057313\ttotal: 268ms\tremaining: 3.31s\n",
      "75:\tlearn: 0.4038261\ttotal: 271ms\tremaining: 3.29s\n",
      "76:\tlearn: 0.4030723\ttotal: 273ms\tremaining: 3.27s\n",
      "77:\tlearn: 0.4013617\ttotal: 276ms\tremaining: 3.26s\n",
      "78:\tlearn: 0.3996891\ttotal: 278ms\tremaining: 3.24s\n",
      "79:\tlearn: 0.3966159\ttotal: 281ms\tremaining: 3.23s\n",
      "80:\tlearn: 0.3933044\ttotal: 283ms\tremaining: 3.21s\n",
      "81:\tlearn: 0.3902917\ttotal: 286ms\tremaining: 3.2s\n",
      "82:\tlearn: 0.3879229\ttotal: 288ms\tremaining: 3.18s\n",
      "83:\tlearn: 0.3858711\ttotal: 290ms\tremaining: 3.17s\n",
      "84:\tlearn: 0.3833408\ttotal: 293ms\tremaining: 3.15s\n",
      "85:\tlearn: 0.3798863\ttotal: 295ms\tremaining: 3.14s\n",
      "86:\tlearn: 0.3772786\ttotal: 298ms\tremaining: 3.12s\n",
      "87:\tlearn: 0.3742332\ttotal: 300ms\tremaining: 3.11s\n",
      "88:\tlearn: 0.3712897\ttotal: 303ms\tremaining: 3.1s\n",
      "89:\tlearn: 0.3695692\ttotal: 305ms\tremaining: 3.08s\n",
      "90:\tlearn: 0.3673834\ttotal: 307ms\tremaining: 3.07s\n",
      "91:\tlearn: 0.3640282\ttotal: 310ms\tremaining: 3.06s\n",
      "92:\tlearn: 0.3627931\ttotal: 312ms\tremaining: 3.04s\n",
      "93:\tlearn: 0.3613495\ttotal: 314ms\tremaining: 3.03s\n",
      "94:\tlearn: 0.3593784\ttotal: 317ms\tremaining: 3.02s\n",
      "95:\tlearn: 0.3560221\ttotal: 319ms\tremaining: 3.01s\n",
      "96:\tlearn: 0.3539111\ttotal: 323ms\tremaining: 3s\n",
      "97:\tlearn: 0.3514492\ttotal: 326ms\tremaining: 3s\n",
      "98:\tlearn: 0.3496514\ttotal: 329ms\tremaining: 2.99s\n",
      "99:\tlearn: 0.3471773\ttotal: 331ms\tremaining: 2.98s\n",
      "100:\tlearn: 0.3456132\ttotal: 334ms\tremaining: 2.97s\n",
      "101:\tlearn: 0.3440908\ttotal: 336ms\tremaining: 2.96s\n",
      "102:\tlearn: 0.3422663\ttotal: 339ms\tremaining: 2.95s\n",
      "103:\tlearn: 0.3389036\ttotal: 341ms\tremaining: 2.94s\n",
      "104:\tlearn: 0.3367904\ttotal: 343ms\tremaining: 2.93s\n",
      "105:\tlearn: 0.3344936\ttotal: 346ms\tremaining: 2.92s\n",
      "106:\tlearn: 0.3323317\ttotal: 348ms\tremaining: 2.9s\n",
      "107:\tlearn: 0.3304174\ttotal: 351ms\tremaining: 2.9s\n",
      "108:\tlearn: 0.3288038\ttotal: 353ms\tremaining: 2.88s\n",
      "109:\tlearn: 0.3272404\ttotal: 355ms\tremaining: 2.88s\n",
      "110:\tlearn: 0.3255044\ttotal: 358ms\tremaining: 2.87s\n",
      "111:\tlearn: 0.3239219\ttotal: 360ms\tremaining: 2.86s\n",
      "112:\tlearn: 0.3215536\ttotal: 363ms\tremaining: 2.85s\n",
      "113:\tlearn: 0.3191844\ttotal: 365ms\tremaining: 2.84s\n",
      "114:\tlearn: 0.3172561\ttotal: 368ms\tremaining: 2.83s\n",
      "115:\tlearn: 0.3149978\ttotal: 373ms\tremaining: 2.84s\n",
      "116:\tlearn: 0.3128464\ttotal: 377ms\tremaining: 2.84s\n",
      "117:\tlearn: 0.3105164\ttotal: 381ms\tremaining: 2.84s\n",
      "118:\tlearn: 0.3089498\ttotal: 384ms\tremaining: 2.84s\n",
      "119:\tlearn: 0.3075181\ttotal: 388ms\tremaining: 2.84s\n",
      "120:\tlearn: 0.3061536\ttotal: 392ms\tremaining: 2.84s\n",
      "121:\tlearn: 0.3044817\ttotal: 396ms\tremaining: 2.85s\n",
      "122:\tlearn: 0.3024167\ttotal: 405ms\tremaining: 2.89s\n",
      "123:\tlearn: 0.3007687\ttotal: 410ms\tremaining: 2.9s\n",
      "124:\tlearn: 0.2990787\ttotal: 414ms\tremaining: 2.9s\n",
      "125:\tlearn: 0.2969261\ttotal: 419ms\tremaining: 2.91s\n",
      "126:\tlearn: 0.2951779\ttotal: 426ms\tremaining: 2.93s\n",
      "127:\tlearn: 0.2935221\ttotal: 433ms\tremaining: 2.95s\n",
      "128:\tlearn: 0.2919387\ttotal: 435ms\tremaining: 2.94s\n",
      "129:\tlearn: 0.2903122\ttotal: 440ms\tremaining: 2.94s\n",
      "130:\tlearn: 0.2884542\ttotal: 445ms\tremaining: 2.95s\n",
      "131:\tlearn: 0.2871905\ttotal: 448ms\tremaining: 2.95s\n",
      "132:\tlearn: 0.2847745\ttotal: 452ms\tremaining: 2.94s\n",
      "133:\tlearn: 0.2835508\ttotal: 454ms\tremaining: 2.93s\n",
      "134:\tlearn: 0.2826898\ttotal: 456ms\tremaining: 2.92s\n",
      "135:\tlearn: 0.2810558\ttotal: 459ms\tremaining: 2.92s\n",
      "136:\tlearn: 0.2798724\ttotal: 462ms\tremaining: 2.91s\n",
      "137:\tlearn: 0.2789467\ttotal: 464ms\tremaining: 2.9s\n",
      "138:\tlearn: 0.2780390\ttotal: 467ms\tremaining: 2.89s\n",
      "139:\tlearn: 0.2766104\ttotal: 469ms\tremaining: 2.88s\n",
      "140:\tlearn: 0.2746456\ttotal: 473ms\tremaining: 2.88s\n",
      "141:\tlearn: 0.2734180\ttotal: 476ms\tremaining: 2.88s\n",
      "142:\tlearn: 0.2720565\ttotal: 479ms\tremaining: 2.87s\n",
      "143:\tlearn: 0.2709256\ttotal: 484ms\tremaining: 2.88s\n",
      "144:\tlearn: 0.2701823\ttotal: 488ms\tremaining: 2.88s\n",
      "145:\tlearn: 0.2689196\ttotal: 492ms\tremaining: 2.87s\n",
      "146:\tlearn: 0.2673192\ttotal: 495ms\tremaining: 2.87s\n",
      "147:\tlearn: 0.2652312\ttotal: 498ms\tremaining: 2.87s\n",
      "148:\tlearn: 0.2640890\ttotal: 501ms\tremaining: 2.86s\n",
      "149:\tlearn: 0.2626733\ttotal: 505ms\tremaining: 2.86s\n",
      "150:\tlearn: 0.2612645\ttotal: 508ms\tremaining: 2.85s\n",
      "151:\tlearn: 0.2595495\ttotal: 512ms\tremaining: 2.86s\n",
      "152:\tlearn: 0.2584636\ttotal: 516ms\tremaining: 2.85s\n",
      "153:\tlearn: 0.2572296\ttotal: 519ms\tremaining: 2.85s\n",
      "154:\tlearn: 0.2563643\ttotal: 522ms\tremaining: 2.85s\n",
      "155:\tlearn: 0.2546418\ttotal: 525ms\tremaining: 2.84s\n",
      "156:\tlearn: 0.2531042\ttotal: 528ms\tremaining: 2.84s\n",
      "157:\tlearn: 0.2517751\ttotal: 532ms\tremaining: 2.83s\n",
      "158:\tlearn: 0.2504472\ttotal: 535ms\tremaining: 2.83s\n",
      "159:\tlearn: 0.2484841\ttotal: 538ms\tremaining: 2.83s\n",
      "160:\tlearn: 0.2473900\ttotal: 541ms\tremaining: 2.82s\n",
      "161:\tlearn: 0.2453726\ttotal: 545ms\tremaining: 2.82s\n",
      "162:\tlearn: 0.2442536\ttotal: 547ms\tremaining: 2.81s\n",
      "163:\tlearn: 0.2427108\ttotal: 550ms\tremaining: 2.8s\n",
      "164:\tlearn: 0.2413478\ttotal: 553ms\tremaining: 2.8s\n"
     ]
    },
    {
     "name": "stdout",
     "output_type": "stream",
     "text": [
      "165:\tlearn: 0.2405582\ttotal: 556ms\tremaining: 2.79s\n",
      "166:\tlearn: 0.2391421\ttotal: 560ms\tremaining: 2.79s\n",
      "167:\tlearn: 0.2380513\ttotal: 564ms\tremaining: 2.79s\n",
      "168:\tlearn: 0.2369063\ttotal: 569ms\tremaining: 2.8s\n",
      "169:\tlearn: 0.2353581\ttotal: 575ms\tremaining: 2.81s\n",
      "170:\tlearn: 0.2347793\ttotal: 580ms\tremaining: 2.81s\n",
      "171:\tlearn: 0.2338161\ttotal: 586ms\tremaining: 2.82s\n",
      "172:\tlearn: 0.2326379\ttotal: 591ms\tremaining: 2.82s\n",
      "173:\tlearn: 0.2319416\ttotal: 594ms\tremaining: 2.82s\n",
      "174:\tlearn: 0.2310067\ttotal: 598ms\tremaining: 2.82s\n",
      "175:\tlearn: 0.2302406\ttotal: 602ms\tremaining: 2.82s\n",
      "176:\tlearn: 0.2286993\ttotal: 605ms\tremaining: 2.81s\n",
      "177:\tlearn: 0.2281492\ttotal: 608ms\tremaining: 2.81s\n",
      "178:\tlearn: 0.2271475\ttotal: 611ms\tremaining: 2.8s\n",
      "179:\tlearn: 0.2257479\ttotal: 614ms\tremaining: 2.8s\n",
      "180:\tlearn: 0.2247558\ttotal: 617ms\tremaining: 2.79s\n",
      "181:\tlearn: 0.2235221\ttotal: 620ms\tremaining: 2.79s\n",
      "182:\tlearn: 0.2219340\ttotal: 623ms\tremaining: 2.78s\n",
      "183:\tlearn: 0.2210579\ttotal: 626ms\tremaining: 2.77s\n",
      "184:\tlearn: 0.2204865\ttotal: 629ms\tremaining: 2.77s\n",
      "185:\tlearn: 0.2189456\ttotal: 632ms\tremaining: 2.77s\n",
      "186:\tlearn: 0.2177690\ttotal: 635ms\tremaining: 2.76s\n",
      "187:\tlearn: 0.2168404\ttotal: 638ms\tremaining: 2.76s\n",
      "188:\tlearn: 0.2162400\ttotal: 641ms\tremaining: 2.75s\n",
      "189:\tlearn: 0.2152654\ttotal: 644ms\tremaining: 2.75s\n",
      "190:\tlearn: 0.2143586\ttotal: 648ms\tremaining: 2.74s\n",
      "191:\tlearn: 0.2137135\ttotal: 652ms\tremaining: 2.74s\n",
      "192:\tlearn: 0.2122544\ttotal: 655ms\tremaining: 2.74s\n",
      "193:\tlearn: 0.2113706\ttotal: 659ms\tremaining: 2.74s\n",
      "194:\tlearn: 0.2108109\ttotal: 662ms\tremaining: 2.73s\n",
      "195:\tlearn: 0.2102530\ttotal: 666ms\tremaining: 2.73s\n",
      "196:\tlearn: 0.2095199\ttotal: 669ms\tremaining: 2.73s\n",
      "197:\tlearn: 0.2087387\ttotal: 672ms\tremaining: 2.72s\n",
      "198:\tlearn: 0.2075181\ttotal: 676ms\tremaining: 2.72s\n",
      "199:\tlearn: 0.2062056\ttotal: 679ms\tremaining: 2.72s\n",
      "200:\tlearn: 0.2055515\ttotal: 682ms\tremaining: 2.71s\n",
      "201:\tlearn: 0.2042110\ttotal: 686ms\tremaining: 2.71s\n",
      "202:\tlearn: 0.2035656\ttotal: 689ms\tremaining: 2.7s\n",
      "203:\tlearn: 0.2026590\ttotal: 693ms\tremaining: 2.7s\n",
      "204:\tlearn: 0.2018961\ttotal: 697ms\tremaining: 2.7s\n",
      "205:\tlearn: 0.2010811\ttotal: 700ms\tremaining: 2.7s\n",
      "206:\tlearn: 0.2002795\ttotal: 703ms\tremaining: 2.69s\n",
      "207:\tlearn: 0.1995396\ttotal: 708ms\tremaining: 2.69s\n",
      "208:\tlearn: 0.1987210\ttotal: 711ms\tremaining: 2.69s\n",
      "209:\tlearn: 0.1974195\ttotal: 715ms\tremaining: 2.69s\n",
      "210:\tlearn: 0.1969425\ttotal: 718ms\tremaining: 2.68s\n",
      "211:\tlearn: 0.1961315\ttotal: 722ms\tremaining: 2.68s\n",
      "212:\tlearn: 0.1955919\ttotal: 725ms\tremaining: 2.68s\n",
      "213:\tlearn: 0.1947417\ttotal: 729ms\tremaining: 2.68s\n",
      "214:\tlearn: 0.1933962\ttotal: 732ms\tremaining: 2.67s\n",
      "215:\tlearn: 0.1920263\ttotal: 735ms\tremaining: 2.67s\n",
      "216:\tlearn: 0.1909423\ttotal: 737ms\tremaining: 2.66s\n",
      "217:\tlearn: 0.1905695\ttotal: 740ms\tremaining: 2.65s\n",
      "218:\tlearn: 0.1900250\ttotal: 742ms\tremaining: 2.65s\n",
      "219:\tlearn: 0.1892327\ttotal: 746ms\tremaining: 2.65s\n",
      "220:\tlearn: 0.1887840\ttotal: 750ms\tremaining: 2.64s\n",
      "221:\tlearn: 0.1882756\ttotal: 754ms\tremaining: 2.64s\n",
      "222:\tlearn: 0.1874185\ttotal: 758ms\tremaining: 2.64s\n",
      "223:\tlearn: 0.1866525\ttotal: 762ms\tremaining: 2.64s\n",
      "224:\tlearn: 0.1855055\ttotal: 766ms\tremaining: 2.64s\n",
      "225:\tlearn: 0.1849669\ttotal: 769ms\tremaining: 2.63s\n",
      "226:\tlearn: 0.1842830\ttotal: 773ms\tremaining: 2.63s\n",
      "227:\tlearn: 0.1837316\ttotal: 777ms\tremaining: 2.63s\n",
      "228:\tlearn: 0.1834539\ttotal: 780ms\tremaining: 2.62s\n",
      "229:\tlearn: 0.1830675\ttotal: 783ms\tremaining: 2.62s\n",
      "230:\tlearn: 0.1824213\ttotal: 786ms\tremaining: 2.62s\n",
      "231:\tlearn: 0.1816277\ttotal: 790ms\tremaining: 2.61s\n",
      "232:\tlearn: 0.1810245\ttotal: 793ms\tremaining: 2.61s\n",
      "233:\tlearn: 0.1803064\ttotal: 796ms\tremaining: 2.6s\n",
      "234:\tlearn: 0.1794193\ttotal: 799ms\tremaining: 2.6s\n",
      "235:\tlearn: 0.1788118\ttotal: 803ms\tremaining: 2.6s\n",
      "236:\tlearn: 0.1781151\ttotal: 807ms\tremaining: 2.6s\n",
      "237:\tlearn: 0.1773609\ttotal: 811ms\tremaining: 2.6s\n",
      "238:\tlearn: 0.1769445\ttotal: 815ms\tremaining: 2.59s\n",
      "239:\tlearn: 0.1761695\ttotal: 819ms\tremaining: 2.59s\n",
      "240:\tlearn: 0.1753828\ttotal: 822ms\tremaining: 2.59s\n",
      "241:\tlearn: 0.1750810\ttotal: 825ms\tremaining: 2.58s\n",
      "242:\tlearn: 0.1745123\ttotal: 828ms\tremaining: 2.58s\n",
      "243:\tlearn: 0.1741229\ttotal: 832ms\tremaining: 2.58s\n",
      "244:\tlearn: 0.1734287\ttotal: 835ms\tremaining: 2.57s\n",
      "245:\tlearn: 0.1730576\ttotal: 838ms\tremaining: 2.57s\n",
      "246:\tlearn: 0.1728081\ttotal: 842ms\tremaining: 2.57s\n",
      "247:\tlearn: 0.1722474\ttotal: 846ms\tremaining: 2.56s\n",
      "248:\tlearn: 0.1716832\ttotal: 850ms\tremaining: 2.56s\n",
      "249:\tlearn: 0.1711905\ttotal: 853ms\tremaining: 2.56s\n",
      "250:\tlearn: 0.1708792\ttotal: 857ms\tremaining: 2.56s\n",
      "251:\tlearn: 0.1706286\ttotal: 861ms\tremaining: 2.55s\n",
      "252:\tlearn: 0.1702046\ttotal: 865ms\tremaining: 2.55s\n",
      "253:\tlearn: 0.1697900\ttotal: 868ms\tremaining: 2.55s\n",
      "254:\tlearn: 0.1691213\ttotal: 872ms\tremaining: 2.55s\n",
      "255:\tlearn: 0.1684226\ttotal: 875ms\tremaining: 2.54s\n",
      "256:\tlearn: 0.1677674\ttotal: 879ms\tremaining: 2.54s\n",
      "257:\tlearn: 0.1669523\ttotal: 882ms\tremaining: 2.54s\n",
      "258:\tlearn: 0.1664416\ttotal: 885ms\tremaining: 2.53s\n",
      "259:\tlearn: 0.1659166\ttotal: 889ms\tremaining: 2.53s\n",
      "260:\tlearn: 0.1650788\ttotal: 894ms\tremaining: 2.53s\n",
      "261:\tlearn: 0.1644688\ttotal: 901ms\tremaining: 2.54s\n",
      "262:\tlearn: 0.1639728\ttotal: 908ms\tremaining: 2.54s\n",
      "263:\tlearn: 0.1634011\ttotal: 911ms\tremaining: 2.54s\n",
      "264:\tlearn: 0.1627158\ttotal: 915ms\tremaining: 2.54s\n",
      "265:\tlearn: 0.1621909\ttotal: 923ms\tremaining: 2.55s\n",
      "266:\tlearn: 0.1616488\ttotal: 943ms\tremaining: 2.59s\n",
      "267:\tlearn: 0.1613504\ttotal: 951ms\tremaining: 2.6s\n",
      "268:\tlearn: 0.1608743\ttotal: 958ms\tremaining: 2.6s\n",
      "269:\tlearn: 0.1605124\ttotal: 969ms\tremaining: 2.62s\n",
      "270:\tlearn: 0.1597922\ttotal: 975ms\tremaining: 2.62s\n",
      "271:\tlearn: 0.1592905\ttotal: 982ms\tremaining: 2.63s\n",
      "272:\tlearn: 0.1587913\ttotal: 988ms\tremaining: 2.63s\n",
      "273:\tlearn: 0.1583515\ttotal: 995ms\tremaining: 2.63s\n",
      "274:\tlearn: 0.1578950\ttotal: 998ms\tremaining: 2.63s\n",
      "275:\tlearn: 0.1573755\ttotal: 1s\tremaining: 2.63s\n",
      "276:\tlearn: 0.1569629\ttotal: 1s\tremaining: 2.62s\n",
      "277:\tlearn: 0.1563382\ttotal: 1.01s\tremaining: 2.61s\n",
      "278:\tlearn: 0.1559233\ttotal: 1.01s\tremaining: 2.61s\n",
      "279:\tlearn: 0.1553712\ttotal: 1.01s\tremaining: 2.61s\n",
      "280:\tlearn: 0.1547731\ttotal: 1.02s\tremaining: 2.6s\n",
      "281:\tlearn: 0.1543312\ttotal: 1.02s\tremaining: 2.6s\n",
      "282:\tlearn: 0.1535280\ttotal: 1.02s\tremaining: 2.6s\n",
      "283:\tlearn: 0.1530896\ttotal: 1.03s\tremaining: 2.59s\n",
      "284:\tlearn: 0.1529171\ttotal: 1.03s\tremaining: 2.59s\n",
      "285:\tlearn: 0.1525671\ttotal: 1.03s\tremaining: 2.59s\n",
      "286:\tlearn: 0.1518564\ttotal: 1.04s\tremaining: 2.58s\n",
      "287:\tlearn: 0.1510743\ttotal: 1.04s\tremaining: 2.58s\n",
      "288:\tlearn: 0.1508873\ttotal: 1.04s\tremaining: 2.57s\n",
      "289:\tlearn: 0.1500985\ttotal: 1.05s\tremaining: 2.56s\n",
      "290:\tlearn: 0.1494733\ttotal: 1.05s\tremaining: 2.56s\n",
      "291:\tlearn: 0.1490450\ttotal: 1.05s\tremaining: 2.55s\n",
      "292:\tlearn: 0.1485204\ttotal: 1.05s\tremaining: 2.55s\n",
      "293:\tlearn: 0.1478776\ttotal: 1.06s\tremaining: 2.54s\n",
      "294:\tlearn: 0.1474450\ttotal: 1.06s\tremaining: 2.53s\n",
      "295:\tlearn: 0.1469619\ttotal: 1.06s\tremaining: 2.53s\n",
      "296:\tlearn: 0.1466080\ttotal: 1.07s\tremaining: 2.53s\n",
      "297:\tlearn: 0.1463244\ttotal: 1.07s\tremaining: 2.52s\n",
      "298:\tlearn: 0.1459825\ttotal: 1.07s\tremaining: 2.51s\n",
      "299:\tlearn: 0.1457832\ttotal: 1.07s\tremaining: 2.51s\n",
      "300:\tlearn: 0.1451882\ttotal: 1.08s\tremaining: 2.5s\n",
      "301:\tlearn: 0.1449144\ttotal: 1.08s\tremaining: 2.5s\n",
      "302:\tlearn: 0.1443858\ttotal: 1.08s\tremaining: 2.49s\n",
      "303:\tlearn: 0.1437038\ttotal: 1.08s\tremaining: 2.48s\n",
      "304:\tlearn: 0.1433101\ttotal: 1.09s\tremaining: 2.48s\n",
      "305:\tlearn: 0.1427768\ttotal: 1.09s\tremaining: 2.47s\n",
      "306:\tlearn: 0.1425433\ttotal: 1.09s\tremaining: 2.47s\n",
      "307:\tlearn: 0.1421914\ttotal: 1.1s\tremaining: 2.47s\n",
      "308:\tlearn: 0.1414738\ttotal: 1.1s\tremaining: 2.46s\n",
      "309:\tlearn: 0.1409840\ttotal: 1.1s\tremaining: 2.46s\n",
      "310:\tlearn: 0.1407135\ttotal: 1.11s\tremaining: 2.45s\n",
      "311:\tlearn: 0.1403265\ttotal: 1.11s\tremaining: 2.45s\n",
      "312:\tlearn: 0.1398566\ttotal: 1.11s\tremaining: 2.44s\n",
      "313:\tlearn: 0.1393748\ttotal: 1.11s\tremaining: 2.44s\n",
      "314:\tlearn: 0.1390936\ttotal: 1.12s\tremaining: 2.43s\n",
      "315:\tlearn: 0.1386066\ttotal: 1.12s\tremaining: 2.43s\n",
      "316:\tlearn: 0.1382066\ttotal: 1.12s\tremaining: 2.42s\n",
      "317:\tlearn: 0.1377015\ttotal: 1.13s\tremaining: 2.42s\n",
      "318:\tlearn: 0.1373007\ttotal: 1.13s\tremaining: 2.41s\n",
      "319:\tlearn: 0.1370007\ttotal: 1.13s\tremaining: 2.41s\n",
      "320:\tlearn: 0.1365807\ttotal: 1.14s\tremaining: 2.41s\n",
      "321:\tlearn: 0.1362060\ttotal: 1.14s\tremaining: 2.4s\n",
      "322:\tlearn: 0.1357038\ttotal: 1.15s\tremaining: 2.4s\n",
      "323:\tlearn: 0.1351240\ttotal: 1.15s\tremaining: 2.4s\n",
      "324:\tlearn: 0.1347117\ttotal: 1.15s\tremaining: 2.39s\n",
      "325:\tlearn: 0.1342676\ttotal: 1.16s\tremaining: 2.39s\n",
      "326:\tlearn: 0.1336927\ttotal: 1.16s\tremaining: 2.38s\n",
      "327:\tlearn: 0.1330044\ttotal: 1.16s\tremaining: 2.38s\n",
      "328:\tlearn: 0.1326704\ttotal: 1.16s\tremaining: 2.37s\n",
      "329:\tlearn: 0.1321841\ttotal: 1.17s\tremaining: 2.37s\n",
      "330:\tlearn: 0.1316069\ttotal: 1.17s\tremaining: 2.37s\n",
      "331:\tlearn: 0.1314072\ttotal: 1.17s\tremaining: 2.36s\n",
      "332:\tlearn: 0.1308321\ttotal: 1.18s\tremaining: 2.35s\n",
      "333:\tlearn: 0.1303556\ttotal: 1.18s\tremaining: 2.35s\n",
      "334:\tlearn: 0.1298801\ttotal: 1.18s\tremaining: 2.35s\n",
      "335:\tlearn: 0.1294025\ttotal: 1.19s\tremaining: 2.35s\n",
      "336:\tlearn: 0.1291802\ttotal: 1.19s\tremaining: 2.34s\n",
      "337:\tlearn: 0.1289480\ttotal: 1.19s\tremaining: 2.34s\n",
      "338:\tlearn: 0.1282670\ttotal: 1.2s\tremaining: 2.33s\n",
      "339:\tlearn: 0.1277086\ttotal: 1.2s\tremaining: 2.33s\n",
      "340:\tlearn: 0.1274023\ttotal: 1.2s\tremaining: 2.32s\n",
      "341:\tlearn: 0.1268924\ttotal: 1.2s\tremaining: 2.32s\n",
      "342:\tlearn: 0.1262201\ttotal: 1.21s\tremaining: 2.31s\n",
      "343:\tlearn: 0.1258928\ttotal: 1.21s\tremaining: 2.31s\n",
      "344:\tlearn: 0.1255354\ttotal: 1.22s\tremaining: 2.31s\n",
      "345:\tlearn: 0.1250999\ttotal: 1.22s\tremaining: 2.31s\n",
      "346:\tlearn: 0.1247671\ttotal: 1.22s\tremaining: 2.3s\n",
      "347:\tlearn: 0.1243510\ttotal: 1.23s\tremaining: 2.3s\n",
      "348:\tlearn: 0.1240344\ttotal: 1.23s\tremaining: 2.29s\n",
      "349:\tlearn: 0.1233555\ttotal: 1.23s\tremaining: 2.29s\n",
      "350:\tlearn: 0.1228266\ttotal: 1.24s\tremaining: 2.29s\n",
      "351:\tlearn: 0.1224933\ttotal: 1.24s\tremaining: 2.28s\n",
      "352:\tlearn: 0.1221534\ttotal: 1.24s\tremaining: 2.28s\n",
      "353:\tlearn: 0.1219573\ttotal: 1.24s\tremaining: 2.27s\n",
      "354:\tlearn: 0.1214043\ttotal: 1.25s\tremaining: 2.27s\n",
      "355:\tlearn: 0.1210406\ttotal: 1.25s\tremaining: 2.26s\n",
      "356:\tlearn: 0.1206889\ttotal: 1.25s\tremaining: 2.26s\n",
      "357:\tlearn: 0.1204528\ttotal: 1.26s\tremaining: 2.25s\n",
      "358:\tlearn: 0.1201934\ttotal: 1.26s\tremaining: 2.25s\n",
      "359:\tlearn: 0.1196686\ttotal: 1.26s\tremaining: 2.25s\n",
      "360:\tlearn: 0.1193441\ttotal: 1.27s\tremaining: 2.24s\n",
      "361:\tlearn: 0.1190384\ttotal: 1.27s\tremaining: 2.24s\n",
      "362:\tlearn: 0.1188219\ttotal: 1.27s\tremaining: 2.24s\n",
      "363:\tlearn: 0.1184576\ttotal: 1.28s\tremaining: 2.23s\n",
      "364:\tlearn: 0.1179943\ttotal: 1.28s\tremaining: 2.23s\n",
      "365:\tlearn: 0.1175180\ttotal: 1.28s\tremaining: 2.22s\n",
      "366:\tlearn: 0.1172847\ttotal: 1.29s\tremaining: 2.22s\n",
      "367:\tlearn: 0.1169432\ttotal: 1.29s\tremaining: 2.22s\n",
      "368:\tlearn: 0.1164995\ttotal: 1.29s\tremaining: 2.21s\n",
      "369:\tlearn: 0.1161209\ttotal: 1.3s\tremaining: 2.21s\n",
      "370:\tlearn: 0.1158258\ttotal: 1.3s\tremaining: 2.21s\n",
      "371:\tlearn: 0.1154924\ttotal: 1.31s\tremaining: 2.21s\n"
     ]
    },
    {
     "name": "stdout",
     "output_type": "stream",
     "text": [
      "372:\tlearn: 0.1152623\ttotal: 1.31s\tremaining: 2.21s\n",
      "373:\tlearn: 0.1149759\ttotal: 1.32s\tremaining: 2.2s\n",
      "374:\tlearn: 0.1147277\ttotal: 1.32s\tremaining: 2.21s\n",
      "375:\tlearn: 0.1144335\ttotal: 1.33s\tremaining: 2.21s\n",
      "376:\tlearn: 0.1141100\ttotal: 1.33s\tremaining: 2.21s\n",
      "377:\tlearn: 0.1137712\ttotal: 1.34s\tremaining: 2.21s\n",
      "378:\tlearn: 0.1133302\ttotal: 1.35s\tremaining: 2.21s\n",
      "379:\tlearn: 0.1129609\ttotal: 1.35s\tremaining: 2.2s\n",
      "380:\tlearn: 0.1126202\ttotal: 1.35s\tremaining: 2.2s\n",
      "381:\tlearn: 0.1122551\ttotal: 1.36s\tremaining: 2.19s\n",
      "382:\tlearn: 0.1120427\ttotal: 1.36s\tremaining: 2.19s\n",
      "383:\tlearn: 0.1118798\ttotal: 1.36s\tremaining: 2.19s\n",
      "384:\tlearn: 0.1115522\ttotal: 1.37s\tremaining: 2.18s\n",
      "385:\tlearn: 0.1112040\ttotal: 1.37s\tremaining: 2.18s\n",
      "386:\tlearn: 0.1109354\ttotal: 1.37s\tremaining: 2.18s\n",
      "387:\tlearn: 0.1105979\ttotal: 1.38s\tremaining: 2.17s\n",
      "388:\tlearn: 0.1101912\ttotal: 1.38s\tremaining: 2.17s\n",
      "389:\tlearn: 0.1098765\ttotal: 1.38s\tremaining: 2.16s\n",
      "390:\tlearn: 0.1095291\ttotal: 1.39s\tremaining: 2.16s\n",
      "391:\tlearn: 0.1093348\ttotal: 1.39s\tremaining: 2.15s\n",
      "392:\tlearn: 0.1089393\ttotal: 1.39s\tremaining: 2.15s\n",
      "393:\tlearn: 0.1086266\ttotal: 1.4s\tremaining: 2.15s\n",
      "394:\tlearn: 0.1083076\ttotal: 1.4s\tremaining: 2.14s\n",
      "395:\tlearn: 0.1080021\ttotal: 1.4s\tremaining: 2.14s\n",
      "396:\tlearn: 0.1078051\ttotal: 1.4s\tremaining: 2.13s\n",
      "397:\tlearn: 0.1075622\ttotal: 1.41s\tremaining: 2.13s\n",
      "398:\tlearn: 0.1073174\ttotal: 1.41s\tremaining: 2.12s\n",
      "399:\tlearn: 0.1069896\ttotal: 1.41s\tremaining: 2.12s\n",
      "400:\tlearn: 0.1067674\ttotal: 1.42s\tremaining: 2.12s\n",
      "401:\tlearn: 0.1064422\ttotal: 1.42s\tremaining: 2.11s\n",
      "402:\tlearn: 0.1060479\ttotal: 1.42s\tremaining: 2.11s\n",
      "403:\tlearn: 0.1058005\ttotal: 1.43s\tremaining: 2.11s\n",
      "404:\tlearn: 0.1053967\ttotal: 1.43s\tremaining: 2.1s\n",
      "405:\tlearn: 0.1052604\ttotal: 1.44s\tremaining: 2.1s\n",
      "406:\tlearn: 0.1050545\ttotal: 1.44s\tremaining: 2.1s\n",
      "407:\tlearn: 0.1048696\ttotal: 1.44s\tremaining: 2.1s\n",
      "408:\tlearn: 0.1045835\ttotal: 1.45s\tremaining: 2.1s\n",
      "409:\tlearn: 0.1043093\ttotal: 1.45s\tremaining: 2.09s\n",
      "410:\tlearn: 0.1040353\ttotal: 1.46s\tremaining: 2.09s\n",
      "411:\tlearn: 0.1036572\ttotal: 1.46s\tremaining: 2.08s\n",
      "412:\tlearn: 0.1033903\ttotal: 1.47s\tremaining: 2.08s\n",
      "413:\tlearn: 0.1031303\ttotal: 1.47s\tremaining: 2.08s\n",
      "414:\tlearn: 0.1026413\ttotal: 1.47s\tremaining: 2.08s\n",
      "415:\tlearn: 0.1024630\ttotal: 1.48s\tremaining: 2.07s\n",
      "416:\tlearn: 0.1023077\ttotal: 1.48s\tremaining: 2.07s\n",
      "417:\tlearn: 0.1020424\ttotal: 1.48s\tremaining: 2.06s\n",
      "418:\tlearn: 0.1016864\ttotal: 1.48s\tremaining: 2.06s\n",
      "419:\tlearn: 0.1015057\ttotal: 1.49s\tremaining: 2.05s\n",
      "420:\tlearn: 0.1013802\ttotal: 1.49s\tremaining: 2.05s\n",
      "421:\tlearn: 0.1008752\ttotal: 1.49s\tremaining: 2.04s\n",
      "422:\tlearn: 0.1003934\ttotal: 1.49s\tremaining: 2.04s\n",
      "423:\tlearn: 0.1001832\ttotal: 1.5s\tremaining: 2.04s\n",
      "424:\tlearn: 0.0998450\ttotal: 1.5s\tremaining: 2.03s\n",
      "425:\tlearn: 0.0994473\ttotal: 1.5s\tremaining: 2.03s\n",
      "426:\tlearn: 0.0992486\ttotal: 1.51s\tremaining: 2.02s\n",
      "427:\tlearn: 0.0990155\ttotal: 1.51s\tremaining: 2.02s\n",
      "428:\tlearn: 0.0986098\ttotal: 1.51s\tremaining: 2.02s\n",
      "429:\tlearn: 0.0982412\ttotal: 1.52s\tremaining: 2.01s\n",
      "430:\tlearn: 0.0979610\ttotal: 1.52s\tremaining: 2.01s\n",
      "431:\tlearn: 0.0974333\ttotal: 1.52s\tremaining: 2s\n",
      "432:\tlearn: 0.0971282\ttotal: 1.53s\tremaining: 2s\n",
      "433:\tlearn: 0.0969572\ttotal: 1.53s\tremaining: 2s\n",
      "434:\tlearn: 0.0967647\ttotal: 1.53s\tremaining: 1.99s\n",
      "435:\tlearn: 0.0965089\ttotal: 1.53s\tremaining: 1.99s\n",
      "436:\tlearn: 0.0962628\ttotal: 1.54s\tremaining: 1.98s\n",
      "437:\tlearn: 0.0958918\ttotal: 1.54s\tremaining: 1.98s\n",
      "438:\tlearn: 0.0957381\ttotal: 1.54s\tremaining: 1.97s\n",
      "439:\tlearn: 0.0955132\ttotal: 1.54s\tremaining: 1.97s\n",
      "440:\tlearn: 0.0952930\ttotal: 1.55s\tremaining: 1.96s\n",
      "441:\tlearn: 0.0950569\ttotal: 1.55s\tremaining: 1.96s\n",
      "442:\tlearn: 0.0948611\ttotal: 1.55s\tremaining: 1.95s\n",
      "443:\tlearn: 0.0947213\ttotal: 1.55s\tremaining: 1.95s\n",
      "444:\tlearn: 0.0943569\ttotal: 1.56s\tremaining: 1.94s\n",
      "445:\tlearn: 0.0941512\ttotal: 1.56s\tremaining: 1.94s\n",
      "446:\tlearn: 0.0939822\ttotal: 1.56s\tremaining: 1.93s\n",
      "447:\tlearn: 0.0937743\ttotal: 1.57s\tremaining: 1.93s\n",
      "448:\tlearn: 0.0935898\ttotal: 1.57s\tremaining: 1.93s\n",
      "449:\tlearn: 0.0934570\ttotal: 1.57s\tremaining: 1.92s\n",
      "450:\tlearn: 0.0931771\ttotal: 1.57s\tremaining: 1.92s\n",
      "451:\tlearn: 0.0929696\ttotal: 1.58s\tremaining: 1.91s\n",
      "452:\tlearn: 0.0927688\ttotal: 1.58s\tremaining: 1.91s\n",
      "453:\tlearn: 0.0923366\ttotal: 1.58s\tremaining: 1.9s\n",
      "454:\tlearn: 0.0921604\ttotal: 1.58s\tremaining: 1.9s\n",
      "455:\tlearn: 0.0920252\ttotal: 1.59s\tremaining: 1.89s\n",
      "456:\tlearn: 0.0917845\ttotal: 1.59s\tremaining: 1.89s\n",
      "457:\tlearn: 0.0915537\ttotal: 1.59s\tremaining: 1.88s\n",
      "458:\tlearn: 0.0913850\ttotal: 1.59s\tremaining: 1.88s\n",
      "459:\tlearn: 0.0912831\ttotal: 1.6s\tremaining: 1.87s\n",
      "460:\tlearn: 0.0911288\ttotal: 1.6s\tremaining: 1.87s\n",
      "461:\tlearn: 0.0909696\ttotal: 1.6s\tremaining: 1.86s\n",
      "462:\tlearn: 0.0907248\ttotal: 1.6s\tremaining: 1.86s\n",
      "463:\tlearn: 0.0905957\ttotal: 1.61s\tremaining: 1.86s\n",
      "464:\tlearn: 0.0901148\ttotal: 1.61s\tremaining: 1.85s\n",
      "465:\tlearn: 0.0899215\ttotal: 1.61s\tremaining: 1.85s\n",
      "466:\tlearn: 0.0895310\ttotal: 1.61s\tremaining: 1.84s\n",
      "467:\tlearn: 0.0893370\ttotal: 1.62s\tremaining: 1.84s\n",
      "468:\tlearn: 0.0891243\ttotal: 1.62s\tremaining: 1.83s\n",
      "469:\tlearn: 0.0890140\ttotal: 1.62s\tremaining: 1.83s\n",
      "470:\tlearn: 0.0888457\ttotal: 1.63s\tremaining: 1.82s\n",
      "471:\tlearn: 0.0887366\ttotal: 1.63s\tremaining: 1.82s\n",
      "472:\tlearn: 0.0883923\ttotal: 1.63s\tremaining: 1.82s\n",
      "473:\tlearn: 0.0882570\ttotal: 1.63s\tremaining: 1.81s\n",
      "474:\tlearn: 0.0879862\ttotal: 1.64s\tremaining: 1.81s\n",
      "475:\tlearn: 0.0876697\ttotal: 1.64s\tremaining: 1.8s\n",
      "476:\tlearn: 0.0874872\ttotal: 1.64s\tremaining: 1.8s\n",
      "477:\tlearn: 0.0872494\ttotal: 1.64s\tremaining: 1.79s\n",
      "478:\tlearn: 0.0870487\ttotal: 1.65s\tremaining: 1.79s\n",
      "479:\tlearn: 0.0867057\ttotal: 1.65s\tremaining: 1.79s\n",
      "480:\tlearn: 0.0865071\ttotal: 1.65s\tremaining: 1.78s\n",
      "481:\tlearn: 0.0863622\ttotal: 1.66s\tremaining: 1.78s\n",
      "482:\tlearn: 0.0862667\ttotal: 1.66s\tremaining: 1.78s\n",
      "483:\tlearn: 0.0861504\ttotal: 1.66s\tremaining: 1.77s\n",
      "484:\tlearn: 0.0858940\ttotal: 1.67s\tremaining: 1.77s\n",
      "485:\tlearn: 0.0856828\ttotal: 1.67s\tremaining: 1.76s\n",
      "486:\tlearn: 0.0854337\ttotal: 1.67s\tremaining: 1.76s\n",
      "487:\tlearn: 0.0852514\ttotal: 1.67s\tremaining: 1.76s\n",
      "488:\tlearn: 0.0851176\ttotal: 1.68s\tremaining: 1.75s\n",
      "489:\tlearn: 0.0849053\ttotal: 1.68s\tremaining: 1.75s\n",
      "490:\tlearn: 0.0846269\ttotal: 1.68s\tremaining: 1.75s\n",
      "491:\tlearn: 0.0844326\ttotal: 1.69s\tremaining: 1.74s\n",
      "492:\tlearn: 0.0842479\ttotal: 1.69s\tremaining: 1.74s\n",
      "493:\tlearn: 0.0839513\ttotal: 1.7s\tremaining: 1.74s\n",
      "494:\tlearn: 0.0838170\ttotal: 1.7s\tremaining: 1.73s\n",
      "495:\tlearn: 0.0836521\ttotal: 1.7s\tremaining: 1.73s\n",
      "496:\tlearn: 0.0835533\ttotal: 1.71s\tremaining: 1.73s\n",
      "497:\tlearn: 0.0834566\ttotal: 1.71s\tremaining: 1.72s\n",
      "498:\tlearn: 0.0831247\ttotal: 1.71s\tremaining: 1.72s\n",
      "499:\tlearn: 0.0829249\ttotal: 1.71s\tremaining: 1.71s\n",
      "500:\tlearn: 0.0827641\ttotal: 1.72s\tremaining: 1.71s\n",
      "501:\tlearn: 0.0826459\ttotal: 1.72s\tremaining: 1.71s\n",
      "502:\tlearn: 0.0825258\ttotal: 1.72s\tremaining: 1.7s\n",
      "503:\tlearn: 0.0823882\ttotal: 1.72s\tremaining: 1.7s\n",
      "504:\tlearn: 0.0822726\ttotal: 1.73s\tremaining: 1.69s\n",
      "505:\tlearn: 0.0820734\ttotal: 1.73s\tremaining: 1.69s\n",
      "506:\tlearn: 0.0818266\ttotal: 1.73s\tremaining: 1.69s\n",
      "507:\tlearn: 0.0816529\ttotal: 1.74s\tremaining: 1.68s\n",
      "508:\tlearn: 0.0814533\ttotal: 1.74s\tremaining: 1.68s\n",
      "509:\tlearn: 0.0812375\ttotal: 1.74s\tremaining: 1.67s\n",
      "510:\tlearn: 0.0809499\ttotal: 1.74s\tremaining: 1.67s\n",
      "511:\tlearn: 0.0806630\ttotal: 1.75s\tremaining: 1.66s\n",
      "512:\tlearn: 0.0804707\ttotal: 1.75s\tremaining: 1.66s\n",
      "513:\tlearn: 0.0802808\ttotal: 1.75s\tremaining: 1.66s\n",
      "514:\tlearn: 0.0801796\ttotal: 1.75s\tremaining: 1.65s\n",
      "515:\tlearn: 0.0800150\ttotal: 1.76s\tremaining: 1.65s\n",
      "516:\tlearn: 0.0798963\ttotal: 1.76s\tremaining: 1.64s\n",
      "517:\tlearn: 0.0796082\ttotal: 1.76s\tremaining: 1.64s\n",
      "518:\tlearn: 0.0794403\ttotal: 1.77s\tremaining: 1.64s\n",
      "519:\tlearn: 0.0792595\ttotal: 1.77s\tremaining: 1.64s\n",
      "520:\tlearn: 0.0789628\ttotal: 1.78s\tremaining: 1.63s\n",
      "521:\tlearn: 0.0787158\ttotal: 1.78s\tremaining: 1.63s\n",
      "522:\tlearn: 0.0785753\ttotal: 1.78s\tremaining: 1.63s\n",
      "523:\tlearn: 0.0783813\ttotal: 1.79s\tremaining: 1.62s\n",
      "524:\tlearn: 0.0781969\ttotal: 1.79s\tremaining: 1.62s\n",
      "525:\tlearn: 0.0779291\ttotal: 1.79s\tremaining: 1.61s\n",
      "526:\tlearn: 0.0775931\ttotal: 1.79s\tremaining: 1.61s\n",
      "527:\tlearn: 0.0774741\ttotal: 1.8s\tremaining: 1.61s\n",
      "528:\tlearn: 0.0773031\ttotal: 1.8s\tremaining: 1.6s\n",
      "529:\tlearn: 0.0771452\ttotal: 1.8s\tremaining: 1.6s\n",
      "530:\tlearn: 0.0769909\ttotal: 1.81s\tremaining: 1.59s\n",
      "531:\tlearn: 0.0768494\ttotal: 1.81s\tremaining: 1.59s\n",
      "532:\tlearn: 0.0767222\ttotal: 1.81s\tremaining: 1.59s\n",
      "533:\tlearn: 0.0766216\ttotal: 1.81s\tremaining: 1.58s\n",
      "534:\tlearn: 0.0764937\ttotal: 1.82s\tremaining: 1.58s\n",
      "535:\tlearn: 0.0763351\ttotal: 1.82s\tremaining: 1.57s\n",
      "536:\tlearn: 0.0761921\ttotal: 1.82s\tremaining: 1.57s\n",
      "537:\tlearn: 0.0759898\ttotal: 1.83s\tremaining: 1.57s\n",
      "538:\tlearn: 0.0757675\ttotal: 1.83s\tremaining: 1.56s\n",
      "539:\tlearn: 0.0756823\ttotal: 1.83s\tremaining: 1.56s\n",
      "540:\tlearn: 0.0754569\ttotal: 1.83s\tremaining: 1.56s\n",
      "541:\tlearn: 0.0753168\ttotal: 1.84s\tremaining: 1.55s\n",
      "542:\tlearn: 0.0751660\ttotal: 1.84s\tremaining: 1.55s\n",
      "543:\tlearn: 0.0750056\ttotal: 1.84s\tremaining: 1.54s\n",
      "544:\tlearn: 0.0749104\ttotal: 1.85s\tremaining: 1.54s\n",
      "545:\tlearn: 0.0748018\ttotal: 1.85s\tremaining: 1.54s\n",
      "546:\tlearn: 0.0746313\ttotal: 1.85s\tremaining: 1.53s\n",
      "547:\tlearn: 0.0744474\ttotal: 1.86s\tremaining: 1.53s\n",
      "548:\tlearn: 0.0742984\ttotal: 1.86s\tremaining: 1.53s\n"
     ]
    },
    {
     "name": "stdout",
     "output_type": "stream",
     "text": [
      "549:\tlearn: 0.0741758\ttotal: 1.86s\tremaining: 1.52s\n",
      "550:\tlearn: 0.0740245\ttotal: 1.87s\tremaining: 1.52s\n",
      "551:\tlearn: 0.0738873\ttotal: 1.87s\tremaining: 1.52s\n",
      "552:\tlearn: 0.0737858\ttotal: 1.87s\tremaining: 1.51s\n",
      "553:\tlearn: 0.0735524\ttotal: 1.88s\tremaining: 1.51s\n",
      "554:\tlearn: 0.0733182\ttotal: 1.88s\tremaining: 1.51s\n",
      "555:\tlearn: 0.0731530\ttotal: 1.89s\tremaining: 1.5s\n",
      "556:\tlearn: 0.0730635\ttotal: 1.89s\tremaining: 1.5s\n",
      "557:\tlearn: 0.0728379\ttotal: 1.9s\tremaining: 1.5s\n",
      "558:\tlearn: 0.0725635\ttotal: 1.9s\tremaining: 1.5s\n",
      "559:\tlearn: 0.0723750\ttotal: 1.9s\tremaining: 1.5s\n",
      "560:\tlearn: 0.0720787\ttotal: 1.91s\tremaining: 1.49s\n",
      "561:\tlearn: 0.0719397\ttotal: 1.91s\tremaining: 1.49s\n",
      "562:\tlearn: 0.0717538\ttotal: 1.91s\tremaining: 1.48s\n",
      "563:\tlearn: 0.0716427\ttotal: 1.92s\tremaining: 1.48s\n",
      "564:\tlearn: 0.0714925\ttotal: 1.92s\tremaining: 1.48s\n",
      "565:\tlearn: 0.0713768\ttotal: 1.92s\tremaining: 1.47s\n",
      "566:\tlearn: 0.0711983\ttotal: 1.92s\tremaining: 1.47s\n",
      "567:\tlearn: 0.0710267\ttotal: 1.93s\tremaining: 1.47s\n",
      "568:\tlearn: 0.0708628\ttotal: 1.93s\tremaining: 1.46s\n",
      "569:\tlearn: 0.0707046\ttotal: 1.93s\tremaining: 1.46s\n",
      "570:\tlearn: 0.0704997\ttotal: 1.94s\tremaining: 1.45s\n",
      "571:\tlearn: 0.0703816\ttotal: 1.94s\tremaining: 1.45s\n",
      "572:\tlearn: 0.0702902\ttotal: 1.94s\tremaining: 1.45s\n",
      "573:\tlearn: 0.0701322\ttotal: 1.95s\tremaining: 1.44s\n",
      "574:\tlearn: 0.0699853\ttotal: 1.95s\tremaining: 1.44s\n",
      "575:\tlearn: 0.0698805\ttotal: 1.95s\tremaining: 1.44s\n",
      "576:\tlearn: 0.0696809\ttotal: 1.96s\tremaining: 1.43s\n",
      "577:\tlearn: 0.0696103\ttotal: 1.96s\tremaining: 1.43s\n",
      "578:\tlearn: 0.0694001\ttotal: 1.96s\tremaining: 1.43s\n",
      "579:\tlearn: 0.0692404\ttotal: 1.96s\tremaining: 1.42s\n",
      "580:\tlearn: 0.0690965\ttotal: 1.97s\tremaining: 1.42s\n",
      "581:\tlearn: 0.0689730\ttotal: 1.97s\tremaining: 1.42s\n",
      "582:\tlearn: 0.0688824\ttotal: 1.97s\tremaining: 1.41s\n",
      "583:\tlearn: 0.0688018\ttotal: 1.98s\tremaining: 1.41s\n",
      "584:\tlearn: 0.0686696\ttotal: 1.98s\tremaining: 1.4s\n",
      "585:\tlearn: 0.0685731\ttotal: 1.98s\tremaining: 1.4s\n",
      "586:\tlearn: 0.0685129\ttotal: 1.99s\tremaining: 1.4s\n",
      "587:\tlearn: 0.0683488\ttotal: 1.99s\tremaining: 1.39s\n",
      "588:\tlearn: 0.0682093\ttotal: 1.99s\tremaining: 1.39s\n",
      "589:\tlearn: 0.0680979\ttotal: 2s\tremaining: 1.39s\n",
      "590:\tlearn: 0.0679586\ttotal: 2s\tremaining: 1.38s\n",
      "591:\tlearn: 0.0678869\ttotal: 2s\tremaining: 1.38s\n",
      "592:\tlearn: 0.0676397\ttotal: 2s\tremaining: 1.38s\n",
      "593:\tlearn: 0.0675393\ttotal: 2.01s\tremaining: 1.37s\n",
      "594:\tlearn: 0.0674419\ttotal: 2.01s\tremaining: 1.37s\n",
      "595:\tlearn: 0.0673439\ttotal: 2.01s\tremaining: 1.36s\n",
      "596:\tlearn: 0.0672509\ttotal: 2.02s\tremaining: 1.36s\n",
      "597:\tlearn: 0.0671303\ttotal: 2.02s\tremaining: 1.36s\n",
      "598:\tlearn: 0.0670670\ttotal: 2.02s\tremaining: 1.35s\n",
      "599:\tlearn: 0.0669371\ttotal: 2.02s\tremaining: 1.35s\n",
      "600:\tlearn: 0.0668619\ttotal: 2.03s\tremaining: 1.35s\n",
      "601:\tlearn: 0.0667147\ttotal: 2.03s\tremaining: 1.34s\n",
      "602:\tlearn: 0.0665148\ttotal: 2.03s\tremaining: 1.34s\n",
      "603:\tlearn: 0.0664398\ttotal: 2.04s\tremaining: 1.33s\n",
      "604:\tlearn: 0.0663596\ttotal: 2.04s\tremaining: 1.33s\n",
      "605:\tlearn: 0.0661439\ttotal: 2.04s\tremaining: 1.33s\n",
      "606:\tlearn: 0.0660720\ttotal: 2.04s\tremaining: 1.32s\n",
      "607:\tlearn: 0.0660138\ttotal: 2.04s\tremaining: 1.32s\n",
      "608:\tlearn: 0.0659331\ttotal: 2.05s\tremaining: 1.31s\n",
      "609:\tlearn: 0.0657471\ttotal: 2.05s\tremaining: 1.31s\n",
      "610:\tlearn: 0.0656555\ttotal: 2.06s\tremaining: 1.31s\n",
      "611:\tlearn: 0.0655497\ttotal: 2.06s\tremaining: 1.3s\n",
      "612:\tlearn: 0.0653724\ttotal: 2.06s\tremaining: 1.3s\n",
      "613:\tlearn: 0.0652988\ttotal: 2.06s\tremaining: 1.3s\n",
      "614:\tlearn: 0.0652129\ttotal: 2.07s\tremaining: 1.29s\n",
      "615:\tlearn: 0.0650714\ttotal: 2.07s\tremaining: 1.29s\n",
      "616:\tlearn: 0.0649282\ttotal: 2.08s\tremaining: 1.29s\n",
      "617:\tlearn: 0.0648122\ttotal: 2.08s\tremaining: 1.28s\n",
      "618:\tlearn: 0.0647367\ttotal: 2.08s\tremaining: 1.28s\n",
      "619:\tlearn: 0.0646173\ttotal: 2.08s\tremaining: 1.28s\n",
      "620:\tlearn: 0.0644810\ttotal: 2.09s\tremaining: 1.27s\n",
      "621:\tlearn: 0.0642814\ttotal: 2.09s\tremaining: 1.27s\n",
      "622:\tlearn: 0.0640923\ttotal: 2.09s\tremaining: 1.27s\n",
      "623:\tlearn: 0.0639711\ttotal: 2.1s\tremaining: 1.26s\n",
      "624:\tlearn: 0.0638618\ttotal: 2.1s\tremaining: 1.26s\n",
      "625:\tlearn: 0.0637583\ttotal: 2.1s\tremaining: 1.25s\n",
      "626:\tlearn: 0.0636387\ttotal: 2.1s\tremaining: 1.25s\n",
      "627:\tlearn: 0.0635774\ttotal: 2.1s\tremaining: 1.25s\n",
      "628:\tlearn: 0.0635134\ttotal: 2.11s\tremaining: 1.24s\n",
      "629:\tlearn: 0.0634140\ttotal: 2.11s\tremaining: 1.24s\n",
      "630:\tlearn: 0.0633153\ttotal: 2.11s\tremaining: 1.24s\n",
      "631:\tlearn: 0.0631914\ttotal: 2.12s\tremaining: 1.23s\n",
      "632:\tlearn: 0.0629898\ttotal: 2.12s\tremaining: 1.23s\n",
      "633:\tlearn: 0.0629118\ttotal: 2.12s\tremaining: 1.22s\n",
      "634:\tlearn: 0.0627332\ttotal: 2.12s\tremaining: 1.22s\n",
      "635:\tlearn: 0.0626456\ttotal: 2.13s\tremaining: 1.22s\n",
      "636:\tlearn: 0.0625518\ttotal: 2.13s\tremaining: 1.21s\n",
      "637:\tlearn: 0.0625036\ttotal: 2.13s\tremaining: 1.21s\n",
      "638:\tlearn: 0.0623934\ttotal: 2.13s\tremaining: 1.21s\n",
      "639:\tlearn: 0.0623095\ttotal: 2.14s\tremaining: 1.2s\n",
      "640:\tlearn: 0.0621328\ttotal: 2.14s\tremaining: 1.2s\n",
      "641:\tlearn: 0.0620283\ttotal: 2.14s\tremaining: 1.19s\n",
      "642:\tlearn: 0.0619512\ttotal: 2.14s\tremaining: 1.19s\n",
      "643:\tlearn: 0.0618651\ttotal: 2.15s\tremaining: 1.19s\n",
      "644:\tlearn: 0.0617475\ttotal: 2.15s\tremaining: 1.18s\n",
      "645:\tlearn: 0.0616271\ttotal: 2.15s\tremaining: 1.18s\n",
      "646:\tlearn: 0.0614875\ttotal: 2.15s\tremaining: 1.18s\n",
      "647:\tlearn: 0.0614269\ttotal: 2.16s\tremaining: 1.17s\n",
      "648:\tlearn: 0.0611678\ttotal: 2.16s\tremaining: 1.17s\n",
      "649:\tlearn: 0.0610716\ttotal: 2.16s\tremaining: 1.16s\n",
      "650:\tlearn: 0.0609982\ttotal: 2.16s\tremaining: 1.16s\n",
      "651:\tlearn: 0.0609240\ttotal: 2.17s\tremaining: 1.16s\n",
      "652:\tlearn: 0.0608573\ttotal: 2.17s\tremaining: 1.15s\n",
      "653:\tlearn: 0.0607213\ttotal: 2.17s\tremaining: 1.15s\n",
      "654:\tlearn: 0.0605802\ttotal: 2.17s\tremaining: 1.15s\n",
      "655:\tlearn: 0.0604775\ttotal: 2.18s\tremaining: 1.14s\n",
      "656:\tlearn: 0.0604216\ttotal: 2.18s\tremaining: 1.14s\n",
      "657:\tlearn: 0.0603569\ttotal: 2.18s\tremaining: 1.13s\n",
      "658:\tlearn: 0.0602290\ttotal: 2.18s\tremaining: 1.13s\n",
      "659:\tlearn: 0.0601364\ttotal: 2.19s\tremaining: 1.13s\n",
      "660:\tlearn: 0.0599678\ttotal: 2.19s\tremaining: 1.12s\n",
      "661:\tlearn: 0.0598523\ttotal: 2.19s\tremaining: 1.12s\n",
      "662:\tlearn: 0.0597081\ttotal: 2.19s\tremaining: 1.11s\n",
      "663:\tlearn: 0.0595414\ttotal: 2.2s\tremaining: 1.11s\n",
      "664:\tlearn: 0.0594413\ttotal: 2.2s\tremaining: 1.11s\n",
      "665:\tlearn: 0.0593766\ttotal: 2.2s\tremaining: 1.1s\n",
      "666:\tlearn: 0.0592994\ttotal: 2.2s\tremaining: 1.1s\n",
      "667:\tlearn: 0.0591749\ttotal: 2.21s\tremaining: 1.1s\n",
      "668:\tlearn: 0.0590664\ttotal: 2.21s\tremaining: 1.09s\n",
      "669:\tlearn: 0.0589158\ttotal: 2.21s\tremaining: 1.09s\n",
      "670:\tlearn: 0.0588164\ttotal: 2.21s\tremaining: 1.08s\n",
      "671:\tlearn: 0.0587193\ttotal: 2.22s\tremaining: 1.08s\n",
      "672:\tlearn: 0.0585591\ttotal: 2.22s\tremaining: 1.08s\n",
      "673:\tlearn: 0.0584389\ttotal: 2.22s\tremaining: 1.07s\n",
      "674:\tlearn: 0.0583380\ttotal: 2.22s\tremaining: 1.07s\n",
      "675:\tlearn: 0.0582213\ttotal: 2.23s\tremaining: 1.07s\n",
      "676:\tlearn: 0.0581102\ttotal: 2.23s\tremaining: 1.06s\n",
      "677:\tlearn: 0.0579871\ttotal: 2.23s\tremaining: 1.06s\n",
      "678:\tlearn: 0.0579092\ttotal: 2.23s\tremaining: 1.06s\n",
      "679:\tlearn: 0.0577736\ttotal: 2.24s\tremaining: 1.05s\n",
      "680:\tlearn: 0.0576562\ttotal: 2.24s\tremaining: 1.05s\n",
      "681:\tlearn: 0.0575438\ttotal: 2.25s\tremaining: 1.05s\n",
      "682:\tlearn: 0.0574405\ttotal: 2.25s\tremaining: 1.04s\n",
      "683:\tlearn: 0.0572646\ttotal: 2.25s\tremaining: 1.04s\n",
      "684:\tlearn: 0.0571426\ttotal: 2.26s\tremaining: 1.04s\n",
      "685:\tlearn: 0.0570703\ttotal: 2.26s\tremaining: 1.03s\n",
      "686:\tlearn: 0.0569686\ttotal: 2.26s\tremaining: 1.03s\n",
      "687:\tlearn: 0.0568672\ttotal: 2.26s\tremaining: 1.03s\n",
      "688:\tlearn: 0.0567731\ttotal: 2.27s\tremaining: 1.02s\n",
      "689:\tlearn: 0.0566894\ttotal: 2.27s\tremaining: 1.02s\n",
      "690:\tlearn: 0.0565361\ttotal: 2.28s\tremaining: 1.02s\n",
      "691:\tlearn: 0.0563832\ttotal: 2.28s\tremaining: 1.01s\n",
      "692:\tlearn: 0.0563083\ttotal: 2.28s\tremaining: 1.01s\n",
      "693:\tlearn: 0.0562292\ttotal: 2.29s\tremaining: 1.01s\n",
      "694:\tlearn: 0.0561054\ttotal: 2.29s\tremaining: 1s\n",
      "695:\tlearn: 0.0559572\ttotal: 2.29s\tremaining: 1s\n",
      "696:\tlearn: 0.0559025\ttotal: 2.3s\tremaining: 1000ms\n",
      "697:\tlearn: 0.0558449\ttotal: 2.3s\tremaining: 997ms\n",
      "698:\tlearn: 0.0557183\ttotal: 2.31s\tremaining: 995ms\n",
      "699:\tlearn: 0.0555047\ttotal: 2.31s\tremaining: 992ms\n",
      "700:\tlearn: 0.0554182\ttotal: 2.32s\tremaining: 988ms\n",
      "701:\tlearn: 0.0553299\ttotal: 2.32s\tremaining: 985ms\n",
      "702:\tlearn: 0.0551900\ttotal: 2.33s\tremaining: 983ms\n",
      "703:\tlearn: 0.0550363\ttotal: 2.33s\tremaining: 980ms\n",
      "704:\tlearn: 0.0549846\ttotal: 2.33s\tremaining: 977ms\n",
      "705:\tlearn: 0.0549616\ttotal: 2.34s\tremaining: 974ms\n",
      "706:\tlearn: 0.0548873\ttotal: 2.34s\tremaining: 971ms\n",
      "707:\tlearn: 0.0548476\ttotal: 2.35s\tremaining: 968ms\n",
      "708:\tlearn: 0.0547705\ttotal: 2.35s\tremaining: 964ms\n",
      "709:\tlearn: 0.0546634\ttotal: 2.35s\tremaining: 961ms\n",
      "710:\tlearn: 0.0545945\ttotal: 2.36s\tremaining: 958ms\n",
      "711:\tlearn: 0.0544935\ttotal: 2.36s\tremaining: 955ms\n",
      "712:\tlearn: 0.0543015\ttotal: 2.36s\tremaining: 951ms\n",
      "713:\tlearn: 0.0542425\ttotal: 2.37s\tremaining: 948ms\n",
      "714:\tlearn: 0.0541573\ttotal: 2.37s\tremaining: 944ms\n",
      "715:\tlearn: 0.0540677\ttotal: 2.37s\tremaining: 941ms\n",
      "716:\tlearn: 0.0538925\ttotal: 2.38s\tremaining: 938ms\n",
      "717:\tlearn: 0.0537683\ttotal: 2.38s\tremaining: 934ms\n",
      "718:\tlearn: 0.0536455\ttotal: 2.38s\tremaining: 931ms\n",
      "719:\tlearn: 0.0535345\ttotal: 2.38s\tremaining: 927ms\n",
      "720:\tlearn: 0.0534752\ttotal: 2.39s\tremaining: 924ms\n",
      "721:\tlearn: 0.0533688\ttotal: 2.39s\tremaining: 920ms\n",
      "722:\tlearn: 0.0533041\ttotal: 2.39s\tremaining: 917ms\n",
      "723:\tlearn: 0.0532343\ttotal: 2.4s\tremaining: 914ms\n",
      "724:\tlearn: 0.0531802\ttotal: 2.4s\tremaining: 911ms\n",
      "725:\tlearn: 0.0531001\ttotal: 2.4s\tremaining: 908ms\n",
      "726:\tlearn: 0.0529840\ttotal: 2.41s\tremaining: 905ms\n",
      "727:\tlearn: 0.0528968\ttotal: 2.41s\tremaining: 901ms\n",
      "728:\tlearn: 0.0527723\ttotal: 2.42s\tremaining: 898ms\n",
      "729:\tlearn: 0.0526269\ttotal: 2.42s\tremaining: 894ms\n"
     ]
    },
    {
     "name": "stdout",
     "output_type": "stream",
     "text": [
      "730:\tlearn: 0.0525324\ttotal: 2.42s\tremaining: 891ms\n",
      "731:\tlearn: 0.0524760\ttotal: 2.42s\tremaining: 888ms\n",
      "732:\tlearn: 0.0523681\ttotal: 2.43s\tremaining: 885ms\n",
      "733:\tlearn: 0.0522788\ttotal: 2.44s\tremaining: 883ms\n",
      "734:\tlearn: 0.0521657\ttotal: 2.44s\tremaining: 881ms\n",
      "735:\tlearn: 0.0520972\ttotal: 2.44s\tremaining: 877ms\n",
      "736:\tlearn: 0.0519569\ttotal: 2.45s\tremaining: 874ms\n",
      "737:\tlearn: 0.0518230\ttotal: 2.45s\tremaining: 870ms\n",
      "738:\tlearn: 0.0517473\ttotal: 2.46s\tremaining: 867ms\n",
      "739:\tlearn: 0.0516593\ttotal: 2.46s\tremaining: 864ms\n",
      "740:\tlearn: 0.0515572\ttotal: 2.46s\tremaining: 861ms\n",
      "741:\tlearn: 0.0514802\ttotal: 2.46s\tremaining: 857ms\n",
      "742:\tlearn: 0.0513990\ttotal: 2.47s\tremaining: 854ms\n",
      "743:\tlearn: 0.0513595\ttotal: 2.47s\tremaining: 850ms\n",
      "744:\tlearn: 0.0513059\ttotal: 2.47s\tremaining: 847ms\n",
      "745:\tlearn: 0.0512360\ttotal: 2.48s\tremaining: 843ms\n",
      "746:\tlearn: 0.0511464\ttotal: 2.48s\tremaining: 840ms\n",
      "747:\tlearn: 0.0510235\ttotal: 2.48s\tremaining: 836ms\n",
      "748:\tlearn: 0.0509666\ttotal: 2.48s\tremaining: 833ms\n",
      "749:\tlearn: 0.0508390\ttotal: 2.49s\tremaining: 829ms\n",
      "750:\tlearn: 0.0508077\ttotal: 2.49s\tremaining: 825ms\n",
      "751:\tlearn: 0.0507571\ttotal: 2.49s\tremaining: 822ms\n",
      "752:\tlearn: 0.0507185\ttotal: 2.49s\tremaining: 818ms\n",
      "753:\tlearn: 0.0506641\ttotal: 2.5s\tremaining: 815ms\n",
      "754:\tlearn: 0.0505687\ttotal: 2.5s\tremaining: 811ms\n",
      "755:\tlearn: 0.0504714\ttotal: 2.5s\tremaining: 808ms\n",
      "756:\tlearn: 0.0504165\ttotal: 2.5s\tremaining: 804ms\n",
      "757:\tlearn: 0.0502804\ttotal: 2.51s\tremaining: 801ms\n",
      "758:\tlearn: 0.0502404\ttotal: 2.51s\tremaining: 797ms\n",
      "759:\tlearn: 0.0501783\ttotal: 2.51s\tremaining: 793ms\n",
      "760:\tlearn: 0.0501244\ttotal: 2.51s\tremaining: 790ms\n",
      "761:\tlearn: 0.0499654\ttotal: 2.52s\tremaining: 786ms\n",
      "762:\tlearn: 0.0499135\ttotal: 2.52s\tremaining: 783ms\n",
      "763:\tlearn: 0.0498104\ttotal: 2.52s\tremaining: 779ms\n",
      "764:\tlearn: 0.0497174\ttotal: 2.52s\tremaining: 776ms\n",
      "765:\tlearn: 0.0496542\ttotal: 2.53s\tremaining: 772ms\n",
      "766:\tlearn: 0.0496088\ttotal: 2.53s\tremaining: 768ms\n",
      "767:\tlearn: 0.0495621\ttotal: 2.53s\tremaining: 765ms\n",
      "768:\tlearn: 0.0495118\ttotal: 2.53s\tremaining: 761ms\n",
      "769:\tlearn: 0.0494110\ttotal: 2.54s\tremaining: 758ms\n",
      "770:\tlearn: 0.0493022\ttotal: 2.54s\tremaining: 754ms\n",
      "771:\tlearn: 0.0492414\ttotal: 2.54s\tremaining: 751ms\n",
      "772:\tlearn: 0.0491117\ttotal: 2.54s\tremaining: 747ms\n",
      "773:\tlearn: 0.0489847\ttotal: 2.55s\tremaining: 744ms\n",
      "774:\tlearn: 0.0488540\ttotal: 2.55s\tremaining: 740ms\n",
      "775:\tlearn: 0.0487968\ttotal: 2.55s\tremaining: 737ms\n",
      "776:\tlearn: 0.0487367\ttotal: 2.55s\tremaining: 733ms\n",
      "777:\tlearn: 0.0486218\ttotal: 2.56s\tremaining: 730ms\n",
      "778:\tlearn: 0.0485242\ttotal: 2.56s\tremaining: 726ms\n",
      "779:\tlearn: 0.0484876\ttotal: 2.56s\tremaining: 723ms\n",
      "780:\tlearn: 0.0484095\ttotal: 2.56s\tremaining: 719ms\n",
      "781:\tlearn: 0.0483176\ttotal: 2.57s\tremaining: 716ms\n",
      "782:\tlearn: 0.0482299\ttotal: 2.57s\tremaining: 713ms\n",
      "783:\tlearn: 0.0481607\ttotal: 2.57s\tremaining: 709ms\n",
      "784:\tlearn: 0.0480572\ttotal: 2.58s\tremaining: 706ms\n",
      "785:\tlearn: 0.0479240\ttotal: 2.58s\tremaining: 702ms\n",
      "786:\tlearn: 0.0478395\ttotal: 2.58s\tremaining: 699ms\n",
      "787:\tlearn: 0.0476871\ttotal: 2.58s\tremaining: 695ms\n",
      "788:\tlearn: 0.0475855\ttotal: 2.59s\tremaining: 692ms\n",
      "789:\tlearn: 0.0475032\ttotal: 2.59s\tremaining: 688ms\n",
      "790:\tlearn: 0.0473852\ttotal: 2.59s\tremaining: 685ms\n",
      "791:\tlearn: 0.0472772\ttotal: 2.59s\tremaining: 681ms\n",
      "792:\tlearn: 0.0472048\ttotal: 2.6s\tremaining: 678ms\n",
      "793:\tlearn: 0.0471042\ttotal: 2.6s\tremaining: 674ms\n",
      "794:\tlearn: 0.0470158\ttotal: 2.6s\tremaining: 671ms\n",
      "795:\tlearn: 0.0469528\ttotal: 2.6s\tremaining: 667ms\n",
      "796:\tlearn: 0.0468887\ttotal: 2.61s\tremaining: 664ms\n",
      "797:\tlearn: 0.0468504\ttotal: 2.61s\tremaining: 661ms\n",
      "798:\tlearn: 0.0467904\ttotal: 2.62s\tremaining: 659ms\n",
      "799:\tlearn: 0.0467297\ttotal: 2.62s\tremaining: 656ms\n",
      "800:\tlearn: 0.0466684\ttotal: 2.63s\tremaining: 654ms\n",
      "801:\tlearn: 0.0465860\ttotal: 2.64s\tremaining: 651ms\n",
      "802:\tlearn: 0.0465065\ttotal: 2.64s\tremaining: 648ms\n",
      "803:\tlearn: 0.0464603\ttotal: 2.64s\tremaining: 644ms\n",
      "804:\tlearn: 0.0463419\ttotal: 2.65s\tremaining: 642ms\n",
      "805:\tlearn: 0.0462571\ttotal: 2.65s\tremaining: 639ms\n",
      "806:\tlearn: 0.0461883\ttotal: 2.66s\tremaining: 635ms\n",
      "807:\tlearn: 0.0461363\ttotal: 2.66s\tremaining: 632ms\n",
      "808:\tlearn: 0.0460635\ttotal: 2.67s\tremaining: 630ms\n",
      "809:\tlearn: 0.0460147\ttotal: 2.67s\tremaining: 627ms\n",
      "810:\tlearn: 0.0459194\ttotal: 2.67s\tremaining: 623ms\n",
      "811:\tlearn: 0.0458604\ttotal: 2.68s\tremaining: 622ms\n",
      "812:\tlearn: 0.0457875\ttotal: 2.69s\tremaining: 618ms\n",
      "813:\tlearn: 0.0457294\ttotal: 2.69s\tremaining: 615ms\n",
      "814:\tlearn: 0.0456232\ttotal: 2.7s\tremaining: 613ms\n",
      "815:\tlearn: 0.0455601\ttotal: 2.7s\tremaining: 609ms\n",
      "816:\tlearn: 0.0454618\ttotal: 2.71s\tremaining: 606ms\n",
      "817:\tlearn: 0.0454344\ttotal: 2.71s\tremaining: 603ms\n",
      "818:\tlearn: 0.0453593\ttotal: 2.72s\tremaining: 601ms\n",
      "819:\tlearn: 0.0453012\ttotal: 2.72s\tremaining: 597ms\n",
      "820:\tlearn: 0.0452409\ttotal: 2.72s\tremaining: 594ms\n",
      "821:\tlearn: 0.0451895\ttotal: 2.73s\tremaining: 591ms\n",
      "822:\tlearn: 0.0450506\ttotal: 2.73s\tremaining: 588ms\n",
      "823:\tlearn: 0.0450066\ttotal: 2.74s\tremaining: 585ms\n",
      "824:\tlearn: 0.0449413\ttotal: 2.75s\tremaining: 583ms\n",
      "825:\tlearn: 0.0448981\ttotal: 2.75s\tremaining: 579ms\n",
      "826:\tlearn: 0.0448464\ttotal: 2.75s\tremaining: 576ms\n",
      "827:\tlearn: 0.0447462\ttotal: 2.76s\tremaining: 573ms\n",
      "828:\tlearn: 0.0446521\ttotal: 2.76s\tremaining: 569ms\n",
      "829:\tlearn: 0.0446376\ttotal: 2.76s\tremaining: 566ms\n",
      "830:\tlearn: 0.0445869\ttotal: 2.77s\tremaining: 562ms\n",
      "831:\tlearn: 0.0444895\ttotal: 2.77s\tremaining: 560ms\n",
      "832:\tlearn: 0.0444273\ttotal: 2.78s\tremaining: 557ms\n",
      "833:\tlearn: 0.0443864\ttotal: 2.78s\tremaining: 553ms\n",
      "834:\tlearn: 0.0442712\ttotal: 2.78s\tremaining: 550ms\n",
      "835:\tlearn: 0.0442347\ttotal: 2.79s\tremaining: 547ms\n",
      "836:\tlearn: 0.0441628\ttotal: 2.79s\tremaining: 544ms\n",
      "837:\tlearn: 0.0441219\ttotal: 2.79s\tremaining: 540ms\n",
      "838:\tlearn: 0.0440537\ttotal: 2.81s\tremaining: 538ms\n",
      "839:\tlearn: 0.0440170\ttotal: 2.81s\tremaining: 535ms\n",
      "840:\tlearn: 0.0439743\ttotal: 2.82s\tremaining: 533ms\n",
      "841:\tlearn: 0.0438735\ttotal: 2.82s\tremaining: 529ms\n",
      "842:\tlearn: 0.0437951\ttotal: 2.82s\tremaining: 526ms\n",
      "843:\tlearn: 0.0437035\ttotal: 2.83s\tremaining: 522ms\n",
      "844:\tlearn: 0.0436154\ttotal: 2.83s\tremaining: 520ms\n",
      "845:\tlearn: 0.0435654\ttotal: 2.84s\tremaining: 517ms\n",
      "846:\tlearn: 0.0435075\ttotal: 2.84s\tremaining: 513ms\n",
      "847:\tlearn: 0.0434566\ttotal: 2.84s\tremaining: 510ms\n",
      "848:\tlearn: 0.0433703\ttotal: 2.85s\tremaining: 507ms\n",
      "849:\tlearn: 0.0433482\ttotal: 2.85s\tremaining: 503ms\n",
      "850:\tlearn: 0.0432936\ttotal: 2.85s\tremaining: 500ms\n",
      "851:\tlearn: 0.0432401\ttotal: 2.86s\tremaining: 497ms\n",
      "852:\tlearn: 0.0431749\ttotal: 2.87s\tremaining: 494ms\n",
      "853:\tlearn: 0.0430927\ttotal: 2.87s\tremaining: 490ms\n",
      "854:\tlearn: 0.0430193\ttotal: 2.87s\tremaining: 487ms\n",
      "855:\tlearn: 0.0429652\ttotal: 2.87s\tremaining: 484ms\n",
      "856:\tlearn: 0.0429258\ttotal: 2.88s\tremaining: 480ms\n",
      "857:\tlearn: 0.0428693\ttotal: 2.88s\tremaining: 477ms\n",
      "858:\tlearn: 0.0428433\ttotal: 2.88s\tremaining: 473ms\n",
      "859:\tlearn: 0.0427991\ttotal: 2.88s\tremaining: 470ms\n",
      "860:\tlearn: 0.0427167\ttotal: 2.89s\tremaining: 466ms\n",
      "861:\tlearn: 0.0426678\ttotal: 2.89s\tremaining: 463ms\n",
      "862:\tlearn: 0.0426170\ttotal: 2.89s\tremaining: 459ms\n",
      "863:\tlearn: 0.0425757\ttotal: 2.9s\tremaining: 456ms\n",
      "864:\tlearn: 0.0425340\ttotal: 2.9s\tremaining: 453ms\n",
      "865:\tlearn: 0.0424802\ttotal: 2.9s\tremaining: 449ms\n",
      "866:\tlearn: 0.0424216\ttotal: 2.91s\tremaining: 446ms\n",
      "867:\tlearn: 0.0423830\ttotal: 2.91s\tremaining: 443ms\n",
      "868:\tlearn: 0.0423098\ttotal: 2.91s\tremaining: 439ms\n",
      "869:\tlearn: 0.0422776\ttotal: 2.92s\tremaining: 436ms\n",
      "870:\tlearn: 0.0422046\ttotal: 2.92s\tremaining: 433ms\n",
      "871:\tlearn: 0.0421322\ttotal: 2.93s\tremaining: 430ms\n",
      "872:\tlearn: 0.0420567\ttotal: 2.93s\tremaining: 426ms\n",
      "873:\tlearn: 0.0419798\ttotal: 2.93s\tremaining: 423ms\n",
      "874:\tlearn: 0.0419096\ttotal: 2.94s\tremaining: 420ms\n",
      "875:\tlearn: 0.0418749\ttotal: 2.94s\tremaining: 417ms\n",
      "876:\tlearn: 0.0417992\ttotal: 2.95s\tremaining: 413ms\n",
      "877:\tlearn: 0.0417180\ttotal: 2.95s\tremaining: 410ms\n",
      "878:\tlearn: 0.0416316\ttotal: 2.96s\tremaining: 407ms\n",
      "879:\tlearn: 0.0415718\ttotal: 2.96s\tremaining: 403ms\n",
      "880:\tlearn: 0.0415349\ttotal: 2.96s\tremaining: 400ms\n",
      "881:\tlearn: 0.0415001\ttotal: 2.96s\tremaining: 397ms\n",
      "882:\tlearn: 0.0414488\ttotal: 2.97s\tremaining: 393ms\n",
      "883:\tlearn: 0.0414040\ttotal: 2.97s\tremaining: 390ms\n",
      "884:\tlearn: 0.0413366\ttotal: 2.97s\tremaining: 386ms\n",
      "885:\tlearn: 0.0412703\ttotal: 2.98s\tremaining: 383ms\n",
      "886:\tlearn: 0.0412046\ttotal: 2.98s\tremaining: 379ms\n",
      "887:\tlearn: 0.0411565\ttotal: 2.98s\tremaining: 376ms\n",
      "888:\tlearn: 0.0410920\ttotal: 2.99s\tremaining: 373ms\n",
      "889:\tlearn: 0.0410187\ttotal: 2.99s\tremaining: 370ms\n",
      "890:\tlearn: 0.0409623\ttotal: 3s\tremaining: 366ms\n",
      "891:\tlearn: 0.0408842\ttotal: 3s\tremaining: 364ms\n",
      "892:\tlearn: 0.0408368\ttotal: 3.01s\tremaining: 360ms\n",
      "893:\tlearn: 0.0407949\ttotal: 3.01s\tremaining: 357ms\n",
      "894:\tlearn: 0.0407306\ttotal: 3.02s\tremaining: 354ms\n",
      "895:\tlearn: 0.0406644\ttotal: 3.02s\tremaining: 350ms\n",
      "896:\tlearn: 0.0406129\ttotal: 3.02s\tremaining: 347ms\n",
      "897:\tlearn: 0.0405679\ttotal: 3.02s\tremaining: 344ms\n",
      "898:\tlearn: 0.0404845\ttotal: 3.03s\tremaining: 340ms\n",
      "899:\tlearn: 0.0404379\ttotal: 3.03s\tremaining: 337ms\n",
      "900:\tlearn: 0.0403882\ttotal: 3.04s\tremaining: 334ms\n",
      "901:\tlearn: 0.0403020\ttotal: 3.04s\tremaining: 330ms\n",
      "902:\tlearn: 0.0402647\ttotal: 3.04s\tremaining: 327ms\n",
      "903:\tlearn: 0.0402066\ttotal: 3.04s\tremaining: 323ms\n",
      "904:\tlearn: 0.0401430\ttotal: 3.04s\tremaining: 320ms\n",
      "905:\tlearn: 0.0400913\ttotal: 3.05s\tremaining: 316ms\n",
      "906:\tlearn: 0.0400167\ttotal: 3.05s\tremaining: 313ms\n",
      "907:\tlearn: 0.0399934\ttotal: 3.05s\tremaining: 309ms\n",
      "908:\tlearn: 0.0399622\ttotal: 3.06s\tremaining: 306ms\n",
      "909:\tlearn: 0.0399313\ttotal: 3.06s\tremaining: 303ms\n",
      "910:\tlearn: 0.0398772\ttotal: 3.07s\tremaining: 300ms\n",
      "911:\tlearn: 0.0398109\ttotal: 3.07s\tremaining: 296ms\n",
      "912:\tlearn: 0.0397675\ttotal: 3.08s\tremaining: 293ms\n",
      "913:\tlearn: 0.0397144\ttotal: 3.08s\tremaining: 290ms\n",
      "914:\tlearn: 0.0396787\ttotal: 3.08s\tremaining: 287ms\n",
      "915:\tlearn: 0.0396266\ttotal: 3.09s\tremaining: 283ms\n",
      "916:\tlearn: 0.0395634\ttotal: 3.09s\tremaining: 280ms\n",
      "917:\tlearn: 0.0394849\ttotal: 3.1s\tremaining: 277ms\n",
      "918:\tlearn: 0.0394408\ttotal: 3.1s\tremaining: 273ms\n",
      "919:\tlearn: 0.0393691\ttotal: 3.1s\tremaining: 270ms\n",
      "920:\tlearn: 0.0393132\ttotal: 3.11s\tremaining: 267ms\n",
      "921:\tlearn: 0.0392411\ttotal: 3.11s\tremaining: 263ms\n",
      "922:\tlearn: 0.0392059\ttotal: 3.12s\tremaining: 260ms\n",
      "923:\tlearn: 0.0391351\ttotal: 3.12s\tremaining: 257ms\n",
      "924:\tlearn: 0.0390754\ttotal: 3.13s\tremaining: 254ms\n",
      "925:\tlearn: 0.0389928\ttotal: 3.13s\tremaining: 250ms\n",
      "926:\tlearn: 0.0389367\ttotal: 3.13s\tremaining: 247ms\n",
      "927:\tlearn: 0.0388478\ttotal: 3.14s\tremaining: 244ms\n",
      "928:\tlearn: 0.0387806\ttotal: 3.14s\tremaining: 240ms\n",
      "929:\tlearn: 0.0386798\ttotal: 3.15s\tremaining: 237ms\n",
      "930:\tlearn: 0.0386338\ttotal: 3.15s\tremaining: 233ms\n",
      "931:\tlearn: 0.0385722\ttotal: 3.16s\tremaining: 230ms\n",
      "932:\tlearn: 0.0385480\ttotal: 3.16s\tremaining: 227ms\n",
      "933:\tlearn: 0.0384951\ttotal: 3.16s\tremaining: 223ms\n",
      "934:\tlearn: 0.0384255\ttotal: 3.17s\tremaining: 220ms\n"
     ]
    },
    {
     "name": "stdout",
     "output_type": "stream",
     "text": [
      "935:\tlearn: 0.0383883\ttotal: 3.17s\tremaining: 217ms\n",
      "936:\tlearn: 0.0383442\ttotal: 3.18s\tremaining: 214ms\n",
      "937:\tlearn: 0.0382189\ttotal: 3.18s\tremaining: 210ms\n",
      "938:\tlearn: 0.0381667\ttotal: 3.19s\tremaining: 207ms\n",
      "939:\tlearn: 0.0381280\ttotal: 3.19s\tremaining: 204ms\n",
      "940:\tlearn: 0.0381000\ttotal: 3.2s\tremaining: 200ms\n",
      "941:\tlearn: 0.0380293\ttotal: 3.2s\tremaining: 197ms\n",
      "942:\tlearn: 0.0379871\ttotal: 3.2s\tremaining: 194ms\n",
      "943:\tlearn: 0.0379482\ttotal: 3.21s\tremaining: 190ms\n",
      "944:\tlearn: 0.0378926\ttotal: 3.21s\tremaining: 187ms\n",
      "945:\tlearn: 0.0378581\ttotal: 3.22s\tremaining: 184ms\n",
      "946:\tlearn: 0.0377895\ttotal: 3.22s\tremaining: 180ms\n",
      "947:\tlearn: 0.0377664\ttotal: 3.22s\tremaining: 177ms\n",
      "948:\tlearn: 0.0377215\ttotal: 3.23s\tremaining: 174ms\n",
      "949:\tlearn: 0.0376853\ttotal: 3.23s\tremaining: 170ms\n",
      "950:\tlearn: 0.0376396\ttotal: 3.28s\tremaining: 169ms\n",
      "951:\tlearn: 0.0375841\ttotal: 3.28s\tremaining: 165ms\n",
      "952:\tlearn: 0.0375304\ttotal: 3.28s\tremaining: 162ms\n",
      "953:\tlearn: 0.0374861\ttotal: 3.29s\tremaining: 158ms\n",
      "954:\tlearn: 0.0374572\ttotal: 3.29s\tremaining: 155ms\n",
      "955:\tlearn: 0.0374171\ttotal: 3.29s\tremaining: 152ms\n",
      "956:\tlearn: 0.0373581\ttotal: 3.29s\tremaining: 148ms\n",
      "957:\tlearn: 0.0373168\ttotal: 3.3s\tremaining: 145ms\n",
      "958:\tlearn: 0.0372336\ttotal: 3.3s\tremaining: 141ms\n",
      "959:\tlearn: 0.0371819\ttotal: 3.3s\tremaining: 138ms\n",
      "960:\tlearn: 0.0371587\ttotal: 3.31s\tremaining: 134ms\n",
      "961:\tlearn: 0.0370917\ttotal: 3.31s\tremaining: 131ms\n",
      "962:\tlearn: 0.0370625\ttotal: 3.31s\tremaining: 127ms\n",
      "963:\tlearn: 0.0369938\ttotal: 3.31s\tremaining: 124ms\n",
      "964:\tlearn: 0.0369526\ttotal: 3.32s\tremaining: 120ms\n",
      "965:\tlearn: 0.0369222\ttotal: 3.32s\tremaining: 117ms\n",
      "966:\tlearn: 0.0368943\ttotal: 3.32s\tremaining: 113ms\n",
      "967:\tlearn: 0.0368469\ttotal: 3.32s\tremaining: 110ms\n",
      "968:\tlearn: 0.0367684\ttotal: 3.33s\tremaining: 106ms\n",
      "969:\tlearn: 0.0367016\ttotal: 3.33s\tremaining: 103ms\n",
      "970:\tlearn: 0.0366394\ttotal: 3.33s\tremaining: 99.5ms\n",
      "971:\tlearn: 0.0365963\ttotal: 3.33s\tremaining: 96.1ms\n",
      "972:\tlearn: 0.0365289\ttotal: 3.34s\tremaining: 92.6ms\n",
      "973:\tlearn: 0.0364688\ttotal: 3.34s\tremaining: 89.2ms\n",
      "974:\tlearn: 0.0364236\ttotal: 3.34s\tremaining: 85.7ms\n",
      "975:\tlearn: 0.0363949\ttotal: 3.35s\tremaining: 82.3ms\n",
      "976:\tlearn: 0.0363031\ttotal: 3.35s\tremaining: 78.8ms\n",
      "977:\tlearn: 0.0362467\ttotal: 3.35s\tremaining: 75.4ms\n",
      "978:\tlearn: 0.0362108\ttotal: 3.35s\tremaining: 71.9ms\n",
      "979:\tlearn: 0.0361760\ttotal: 3.36s\tremaining: 68.5ms\n",
      "980:\tlearn: 0.0361344\ttotal: 3.36s\tremaining: 65.1ms\n",
      "981:\tlearn: 0.0360740\ttotal: 3.36s\tremaining: 61.6ms\n",
      "982:\tlearn: 0.0360323\ttotal: 3.37s\tremaining: 58.2ms\n",
      "983:\tlearn: 0.0360065\ttotal: 3.37s\tremaining: 54.8ms\n",
      "984:\tlearn: 0.0359732\ttotal: 3.38s\tremaining: 51.4ms\n",
      "985:\tlearn: 0.0359440\ttotal: 3.38s\tremaining: 48ms\n",
      "986:\tlearn: 0.0358985\ttotal: 3.38s\tremaining: 44.6ms\n",
      "987:\tlearn: 0.0358830\ttotal: 3.38s\tremaining: 41.1ms\n",
      "988:\tlearn: 0.0358478\ttotal: 3.39s\tremaining: 37.7ms\n",
      "989:\tlearn: 0.0358227\ttotal: 3.39s\tremaining: 34.3ms\n",
      "990:\tlearn: 0.0357781\ttotal: 3.39s\tremaining: 30.8ms\n",
      "991:\tlearn: 0.0357336\ttotal: 3.4s\tremaining: 27.4ms\n",
      "992:\tlearn: 0.0356929\ttotal: 3.4s\tremaining: 24ms\n",
      "993:\tlearn: 0.0356312\ttotal: 3.4s\tremaining: 20.5ms\n",
      "994:\tlearn: 0.0355687\ttotal: 3.41s\tremaining: 17.1ms\n",
      "995:\tlearn: 0.0354893\ttotal: 3.41s\tremaining: 13.7ms\n",
      "996:\tlearn: 0.0354426\ttotal: 3.41s\tremaining: 10.3ms\n",
      "997:\tlearn: 0.0353826\ttotal: 3.41s\tremaining: 6.84ms\n",
      "998:\tlearn: 0.0353494\ttotal: 3.42s\tremaining: 3.42ms\n",
      "999:\tlearn: 0.0352947\ttotal: 3.42s\tremaining: 0us\n",
      "              precision    recall  f1-score   support\n",
      "\n",
      "           H       0.82      0.82      0.82        22\n",
      "           L       0.83      0.96      0.89        26\n",
      "           M       0.89      0.81      0.85        48\n",
      "\n",
      "    accuracy                           0.85        96\n",
      "   macro avg       0.85      0.86      0.85        96\n",
      "weighted avg       0.86      0.85      0.85        96\n",
      "\n",
      "0.853228519668737\n"
     ]
    }
   ],
   "source": [
    "catboost = CatBoostClassifier()\n",
    "catboost.fit(X_train, y_train)\n",
    "Y_pred = catboost.predict(X_test)\n",
    "acc_catboost = round(catboost.score(X_train, y_train) * 100, 2)\n",
    "print(classification_report(y_test,Y_pred))\n",
    "print(f1_score(y_test,Y_pred,average=\"weighted\"))"
   ]
  },
  {
   "cell_type": "code",
   "execution_count": 171,
   "id": "1724f6ce",
   "metadata": {},
   "outputs": [
    {
     "data": {
      "text/plain": [
       "100.0"
      ]
     },
     "execution_count": 171,
     "metadata": {},
     "output_type": "execute_result"
    }
   ],
   "source": [
    "acc_catboost"
   ]
  },
  {
   "cell_type": "code",
   "execution_count": 172,
   "id": "5b69a8dd",
   "metadata": {},
   "outputs": [
    {
     "name": "stdout",
     "output_type": "stream",
     "text": [
      "              precision    recall  f1-score   support\n",
      "\n",
      "           H       0.71      0.77      0.74        22\n",
      "           L       0.79      1.00      0.88        26\n",
      "           M       0.87      0.71      0.78        48\n",
      "\n",
      "    accuracy                           0.80        96\n",
      "   macro avg       0.79      0.83      0.80        96\n",
      "weighted avg       0.81      0.80      0.80        96\n",
      "\n",
      "0.7988892206439152\n"
     ]
    }
   ],
   "source": [
    "AdaBoos = AdaBoostClassifier(DecisionTreeClassifier(random_state=2),random_state=2,learning_rate=0.1)\n",
    "AdaBoos.fit(X_train, y_train)\n",
    "Y_pred = AdaBoos.predict(X_test)\n",
    "acc_AdaBoos = round(AdaBoos.score(X_train, y_train) * 100, 2)\n",
    "print(classification_report(y_test,Y_pred))\n",
    "print(f1_score(y_test,Y_pred,average=\"weighted\"))\n",
    "#acc_AdaBoos"
   ]
  },
  {
   "cell_type": "code",
   "execution_count": 173,
   "id": "e3c26f40",
   "metadata": {},
   "outputs": [
    {
     "name": "stdout",
     "output_type": "stream",
     "text": [
      "              precision    recall  f1-score   support\n",
      "\n",
      "           H       0.84      0.73      0.78        22\n",
      "           L       0.86      0.92      0.89        26\n",
      "           M       0.84      0.85      0.85        48\n",
      "\n",
      "    accuracy                           0.84        96\n",
      "   macro avg       0.85      0.83      0.84        96\n",
      "weighted avg       0.84      0.84      0.84        96\n",
      "\n",
      "0.8422829417297609\n"
     ]
    }
   ],
   "source": [
    "GradBoos = GradientBoostingClassifier()\n",
    "GradBoos.fit(X_train, y_train)\n",
    "Y_pred = GradBoos.predict(X_test)\n",
    "acc_GradBoos = round(GradBoos.score(X_train, y_train) * 100, 2)\n",
    "print(classification_report(y_test,Y_pred))\n",
    "print(f1_score(y_test,Y_pred,average=\"weighted\"))\n",
    "#acc_GradBoos"
   ]
  },
  {
   "cell_type": "code",
   "execution_count": 176,
   "id": "b947fe2d",
   "metadata": {},
   "outputs": [
    {
     "name": "stdout",
     "output_type": "stream",
     "text": [
      "              precision    recall  f1-score   support\n",
      "\n",
      "           H       0.75      0.82      0.78        22\n",
      "           L       0.89      0.92      0.91        26\n",
      "           M       0.87      0.81      0.84        48\n",
      "\n",
      "    accuracy                           0.84        96\n",
      "   macro avg       0.84      0.85      0.84        96\n",
      "weighted avg       0.85      0.84      0.84        96\n",
      "\n",
      "0.8439856836645584\n"
     ]
    }
   ],
   "source": [
    "ExTree = ExtraTreesClassifier()\n",
    "ExTree.fit(X_train, y_train)\n",
    "Y_pred = ExTree.predict(X_test)\n",
    "acc_ExTree = round(ExTree.score(X_train, y_train) * 100, 2)\n",
    "print(classification_report(y_test,Y_pred))\n",
    "print(f1_score(y_test,Y_pred,average=\"weighted\"))\n",
    "#acc_ExTree"
   ]
  }
 ],
 "metadata": {
  "kernelspec": {
   "display_name": "Python 3 (ipykernel)",
   "language": "python",
   "name": "python3"
  },
  "language_info": {
   "codemirror_mode": {
    "name": "ipython",
    "version": 3
   },
   "file_extension": ".py",
   "mimetype": "text/x-python",
   "name": "python",
   "nbconvert_exporter": "python",
   "pygments_lexer": "ipython3",
   "version": "3.8.13"
  },
  "varInspector": {
   "cols": {
    "lenName": 16,
    "lenType": 16,
    "lenVar": 40
   },
   "kernels_config": {
    "python": {
     "delete_cmd_postfix": "",
     "delete_cmd_prefix": "del ",
     "library": "var_list.py",
     "varRefreshCmd": "print(var_dic_list())"
    },
    "r": {
     "delete_cmd_postfix": ") ",
     "delete_cmd_prefix": "rm(",
     "library": "var_list.r",
     "varRefreshCmd": "cat(var_dic_list()) "
    }
   },
   "types_to_exclude": [
    "module",
    "function",
    "builtin_function_or_method",
    "instance",
    "_Feature"
   ],
   "window_display": false
  }
 },
 "nbformat": 4,
 "nbformat_minor": 5
}
