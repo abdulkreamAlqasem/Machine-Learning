{
 "cells": [
  {
   "cell_type": "markdown",
   "id": "0889ad51",
   "metadata": {},
   "source": [
    "#### this is the first project that I learn in my journey in data science, and this will be the baseline for me in any project in data science also in a classification problem,\n",
    "\n",
    " I see different resources to make this notebook like :\n",
    "1. https://github.com/chongjason914/kaggle-titanic/blob/main/titanic-tutorial.ipynb\n",
    "2. https://www.kaggle.com/code/startupsci/titanic-data-science-solutions/notebook\n",
    "3. https://www.kaggle.com/code/sinakhorami/titanic-best-working-classifier/notebook\n",
    "4. https://www.kaggle.com/code/yassineghouzam/titanic-top-4-with-ensemble-modeling/notebook\n",
    "5. https://www.kaggle.com/code/kenjee/titanic-project-example/notebook\n",
    "\n",
    "I am sorry for the length of the notebook because I want it to be a baseline for me in the future. \n",
    "\n",
    "I will come back to this notebook to improve it after I finish the Deep Learning Specialization course Coursera, also after I rejoin the new Machine Learning Specialization in python course of Andrew Ng that will start in June 2022 . \n",
    "\n",
    "now I will learn a House Price prediction project on the Regression problem to be the baseline for me.\n",
    "\n",
    "but if anyone can send me a piece of advice in my journey I will thank him, or if it can share a recommended classification problem to be the second project for me  I will thank him.\n",
    "\n",
    "thank you for all."
   ]
  },
  {
   "cell_type": "markdown",
   "id": "7f3d4883",
   "metadata": {},
   "source": [
    "# 1. Import libraries\n"
   ]
  },
  {
   "cell_type": "code",
   "execution_count": 1,
   "id": "095d592e",
   "metadata": {},
   "outputs": [],
   "source": [
    "# Data wrangling\n",
    "import pandas as pd\n",
    "import numpy as np\n",
    "from collections import Counter\n",
    "# A Counter is a dict subclass for counting hashable objects ---> https://docs.python.org/3/library/collections.html\n",
    "\n",
    "\n",
    "# Data visualisation\n",
    "import seaborn as sns\n",
    "import matplotlib.pyplot as plt\n",
    "\n",
    "# Machine learning models\n",
    "from sklearn.linear_model import LogisticRegression, Perceptron, SGDClassifier\n",
    "from sklearn.svm import SVC, LinearSVC\n",
    "from sklearn.ensemble import RandomForestClassifier , AdaBoostClassifier, GradientBoostingClassifier , ExtraTreesClassifier\n",
    "from sklearn.neighbors import KNeighborsClassifier\n",
    "from sklearn.naive_bayes import GaussianNB\n",
    "from sklearn.tree import DecisionTreeClassifier\n",
    "from catboost import CatBoostClassifier\n",
    "from sklearn.discriminant_analysis import LinearDiscriminantAnalysis, QuadraticDiscriminantAnalysis\n",
    "\n",
    "# Model evaluation\n",
    "from sklearn.model_selection import cross_val_score\n",
    "\n",
    "# Hyperparameter tuning\n",
    "from sklearn.model_selection import GridSearchCV\n",
    "\n",
    "# Remove warnings\n",
    "import warnings\n",
    "warnings.filterwarnings('ignore')"
   ]
  },
  {
   "cell_type": "markdown",
   "id": "109520f2",
   "metadata": {},
   "source": [
    "# 2. Import and read data"
   ]
  },
  {
   "cell_type": "code",
   "execution_count": 2,
   "id": "92a2dfe5",
   "metadata": {},
   "outputs": [],
   "source": [
    "train = pd.read_csv(\"train.csv\")\n",
    "test = pd.read_csv(\"test.csv\")\n",
    "submit_f = pd.read_csv(\"gender_submission.csv\")"
   ]
  },
  {
   "cell_type": "code",
   "execution_count": 3,
   "id": "ec96b1b5",
   "metadata": {
    "scrolled": true
   },
   "outputs": [
    {
     "data": {
      "text/html": [
       "<div>\n",
       "<style scoped>\n",
       "    .dataframe tbody tr th:only-of-type {\n",
       "        vertical-align: middle;\n",
       "    }\n",
       "\n",
       "    .dataframe tbody tr th {\n",
       "        vertical-align: top;\n",
       "    }\n",
       "\n",
       "    .dataframe thead th {\n",
       "        text-align: right;\n",
       "    }\n",
       "</style>\n",
       "<table border=\"1\" class=\"dataframe\">\n",
       "  <thead>\n",
       "    <tr style=\"text-align: right;\">\n",
       "      <th></th>\n",
       "      <th>PassengerId</th>\n",
       "      <th>Survived</th>\n",
       "      <th>Pclass</th>\n",
       "      <th>Name</th>\n",
       "      <th>Sex</th>\n",
       "      <th>Age</th>\n",
       "      <th>SibSp</th>\n",
       "      <th>Parch</th>\n",
       "      <th>Ticket</th>\n",
       "      <th>Fare</th>\n",
       "      <th>Cabin</th>\n",
       "      <th>Embarked</th>\n",
       "    </tr>\n",
       "  </thead>\n",
       "  <tbody>\n",
       "    <tr>\n",
       "      <th>0</th>\n",
       "      <td>1</td>\n",
       "      <td>0</td>\n",
       "      <td>3</td>\n",
       "      <td>Braund, Mr. Owen Harris</td>\n",
       "      <td>male</td>\n",
       "      <td>22.0</td>\n",
       "      <td>1</td>\n",
       "      <td>0</td>\n",
       "      <td>A/5 21171</td>\n",
       "      <td>7.2500</td>\n",
       "      <td>NaN</td>\n",
       "      <td>S</td>\n",
       "    </tr>\n",
       "    <tr>\n",
       "      <th>1</th>\n",
       "      <td>2</td>\n",
       "      <td>1</td>\n",
       "      <td>1</td>\n",
       "      <td>Cumings, Mrs. John Bradley (Florence Briggs Th...</td>\n",
       "      <td>female</td>\n",
       "      <td>38.0</td>\n",
       "      <td>1</td>\n",
       "      <td>0</td>\n",
       "      <td>PC 17599</td>\n",
       "      <td>71.2833</td>\n",
       "      <td>C85</td>\n",
       "      <td>C</td>\n",
       "    </tr>\n",
       "    <tr>\n",
       "      <th>2</th>\n",
       "      <td>3</td>\n",
       "      <td>1</td>\n",
       "      <td>3</td>\n",
       "      <td>Heikkinen, Miss. Laina</td>\n",
       "      <td>female</td>\n",
       "      <td>26.0</td>\n",
       "      <td>0</td>\n",
       "      <td>0</td>\n",
       "      <td>STON/O2. 3101282</td>\n",
       "      <td>7.9250</td>\n",
       "      <td>NaN</td>\n",
       "      <td>S</td>\n",
       "    </tr>\n",
       "    <tr>\n",
       "      <th>3</th>\n",
       "      <td>4</td>\n",
       "      <td>1</td>\n",
       "      <td>1</td>\n",
       "      <td>Futrelle, Mrs. Jacques Heath (Lily May Peel)</td>\n",
       "      <td>female</td>\n",
       "      <td>35.0</td>\n",
       "      <td>1</td>\n",
       "      <td>0</td>\n",
       "      <td>113803</td>\n",
       "      <td>53.1000</td>\n",
       "      <td>C123</td>\n",
       "      <td>S</td>\n",
       "    </tr>\n",
       "    <tr>\n",
       "      <th>4</th>\n",
       "      <td>5</td>\n",
       "      <td>0</td>\n",
       "      <td>3</td>\n",
       "      <td>Allen, Mr. William Henry</td>\n",
       "      <td>male</td>\n",
       "      <td>35.0</td>\n",
       "      <td>0</td>\n",
       "      <td>0</td>\n",
       "      <td>373450</td>\n",
       "      <td>8.0500</td>\n",
       "      <td>NaN</td>\n",
       "      <td>S</td>\n",
       "    </tr>\n",
       "  </tbody>\n",
       "</table>\n",
       "</div>"
      ],
      "text/plain": [
       "   PassengerId  Survived  Pclass  \\\n",
       "0            1         0       3   \n",
       "1            2         1       1   \n",
       "2            3         1       3   \n",
       "3            4         1       1   \n",
       "4            5         0       3   \n",
       "\n",
       "                                                Name     Sex   Age  SibSp  \\\n",
       "0                            Braund, Mr. Owen Harris    male  22.0      1   \n",
       "1  Cumings, Mrs. John Bradley (Florence Briggs Th...  female  38.0      1   \n",
       "2                             Heikkinen, Miss. Laina  female  26.0      0   \n",
       "3       Futrelle, Mrs. Jacques Heath (Lily May Peel)  female  35.0      1   \n",
       "4                           Allen, Mr. William Henry    male  35.0      0   \n",
       "\n",
       "   Parch            Ticket     Fare Cabin Embarked  \n",
       "0      0         A/5 21171   7.2500   NaN        S  \n",
       "1      0          PC 17599  71.2833   C85        C  \n",
       "2      0  STON/O2. 3101282   7.9250   NaN        S  \n",
       "3      0            113803  53.1000  C123        S  \n",
       "4      0            373450   8.0500   NaN        S  "
      ]
     },
     "execution_count": 3,
     "metadata": {},
     "output_type": "execute_result"
    }
   ],
   "source": [
    "train.head()"
   ]
  },
  {
   "cell_type": "code",
   "execution_count": 4,
   "id": "6f31bf95",
   "metadata": {
    "scrolled": false
   },
   "outputs": [
    {
     "data": {
      "text/html": [
       "<div>\n",
       "<style scoped>\n",
       "    .dataframe tbody tr th:only-of-type {\n",
       "        vertical-align: middle;\n",
       "    }\n",
       "\n",
       "    .dataframe tbody tr th {\n",
       "        vertical-align: top;\n",
       "    }\n",
       "\n",
       "    .dataframe thead th {\n",
       "        text-align: right;\n",
       "    }\n",
       "</style>\n",
       "<table border=\"1\" class=\"dataframe\">\n",
       "  <thead>\n",
       "    <tr style=\"text-align: right;\">\n",
       "      <th></th>\n",
       "      <th>PassengerId</th>\n",
       "      <th>Pclass</th>\n",
       "      <th>Name</th>\n",
       "      <th>Sex</th>\n",
       "      <th>Age</th>\n",
       "      <th>SibSp</th>\n",
       "      <th>Parch</th>\n",
       "      <th>Ticket</th>\n",
       "      <th>Fare</th>\n",
       "      <th>Cabin</th>\n",
       "      <th>Embarked</th>\n",
       "    </tr>\n",
       "  </thead>\n",
       "  <tbody>\n",
       "    <tr>\n",
       "      <th>0</th>\n",
       "      <td>892</td>\n",
       "      <td>3</td>\n",
       "      <td>Kelly, Mr. James</td>\n",
       "      <td>male</td>\n",
       "      <td>34.5</td>\n",
       "      <td>0</td>\n",
       "      <td>0</td>\n",
       "      <td>330911</td>\n",
       "      <td>7.8292</td>\n",
       "      <td>NaN</td>\n",
       "      <td>Q</td>\n",
       "    </tr>\n",
       "    <tr>\n",
       "      <th>1</th>\n",
       "      <td>893</td>\n",
       "      <td>3</td>\n",
       "      <td>Wilkes, Mrs. James (Ellen Needs)</td>\n",
       "      <td>female</td>\n",
       "      <td>47.0</td>\n",
       "      <td>1</td>\n",
       "      <td>0</td>\n",
       "      <td>363272</td>\n",
       "      <td>7.0000</td>\n",
       "      <td>NaN</td>\n",
       "      <td>S</td>\n",
       "    </tr>\n",
       "    <tr>\n",
       "      <th>2</th>\n",
       "      <td>894</td>\n",
       "      <td>2</td>\n",
       "      <td>Myles, Mr. Thomas Francis</td>\n",
       "      <td>male</td>\n",
       "      <td>62.0</td>\n",
       "      <td>0</td>\n",
       "      <td>0</td>\n",
       "      <td>240276</td>\n",
       "      <td>9.6875</td>\n",
       "      <td>NaN</td>\n",
       "      <td>Q</td>\n",
       "    </tr>\n",
       "    <tr>\n",
       "      <th>3</th>\n",
       "      <td>895</td>\n",
       "      <td>3</td>\n",
       "      <td>Wirz, Mr. Albert</td>\n",
       "      <td>male</td>\n",
       "      <td>27.0</td>\n",
       "      <td>0</td>\n",
       "      <td>0</td>\n",
       "      <td>315154</td>\n",
       "      <td>8.6625</td>\n",
       "      <td>NaN</td>\n",
       "      <td>S</td>\n",
       "    </tr>\n",
       "    <tr>\n",
       "      <th>4</th>\n",
       "      <td>896</td>\n",
       "      <td>3</td>\n",
       "      <td>Hirvonen, Mrs. Alexander (Helga E Lindqvist)</td>\n",
       "      <td>female</td>\n",
       "      <td>22.0</td>\n",
       "      <td>1</td>\n",
       "      <td>1</td>\n",
       "      <td>3101298</td>\n",
       "      <td>12.2875</td>\n",
       "      <td>NaN</td>\n",
       "      <td>S</td>\n",
       "    </tr>\n",
       "  </tbody>\n",
       "</table>\n",
       "</div>"
      ],
      "text/plain": [
       "   PassengerId  Pclass                                          Name     Sex  \\\n",
       "0          892       3                              Kelly, Mr. James    male   \n",
       "1          893       3              Wilkes, Mrs. James (Ellen Needs)  female   \n",
       "2          894       2                     Myles, Mr. Thomas Francis    male   \n",
       "3          895       3                              Wirz, Mr. Albert    male   \n",
       "4          896       3  Hirvonen, Mrs. Alexander (Helga E Lindqvist)  female   \n",
       "\n",
       "    Age  SibSp  Parch   Ticket     Fare Cabin Embarked  \n",
       "0  34.5      0      0   330911   7.8292   NaN        Q  \n",
       "1  47.0      1      0   363272   7.0000   NaN        S  \n",
       "2  62.0      0      0   240276   9.6875   NaN        Q  \n",
       "3  27.0      0      0   315154   8.6625   NaN        S  \n",
       "4  22.0      1      1  3101298  12.2875   NaN        S  "
      ]
     },
     "execution_count": 4,
     "metadata": {},
     "output_type": "execute_result"
    }
   ],
   "source": [
    "test.head()"
   ]
  },
  {
   "cell_type": "code",
   "execution_count": 5,
   "id": "1885ddea",
   "metadata": {},
   "outputs": [
    {
     "data": {
      "text/html": [
       "<div>\n",
       "<style scoped>\n",
       "    .dataframe tbody tr th:only-of-type {\n",
       "        vertical-align: middle;\n",
       "    }\n",
       "\n",
       "    .dataframe tbody tr th {\n",
       "        vertical-align: top;\n",
       "    }\n",
       "\n",
       "    .dataframe thead th {\n",
       "        text-align: right;\n",
       "    }\n",
       "</style>\n",
       "<table border=\"1\" class=\"dataframe\">\n",
       "  <thead>\n",
       "    <tr style=\"text-align: right;\">\n",
       "      <th></th>\n",
       "      <th>PassengerId</th>\n",
       "      <th>Survived</th>\n",
       "    </tr>\n",
       "  </thead>\n",
       "  <tbody>\n",
       "    <tr>\n",
       "      <th>0</th>\n",
       "      <td>892</td>\n",
       "      <td>0</td>\n",
       "    </tr>\n",
       "    <tr>\n",
       "      <th>1</th>\n",
       "      <td>893</td>\n",
       "      <td>1</td>\n",
       "    </tr>\n",
       "    <tr>\n",
       "      <th>2</th>\n",
       "      <td>894</td>\n",
       "      <td>0</td>\n",
       "    </tr>\n",
       "    <tr>\n",
       "      <th>3</th>\n",
       "      <td>895</td>\n",
       "      <td>0</td>\n",
       "    </tr>\n",
       "    <tr>\n",
       "      <th>4</th>\n",
       "      <td>896</td>\n",
       "      <td>1</td>\n",
       "    </tr>\n",
       "  </tbody>\n",
       "</table>\n",
       "</div>"
      ],
      "text/plain": [
       "   PassengerId  Survived\n",
       "0          892         0\n",
       "1          893         1\n",
       "2          894         0\n",
       "3          895         0\n",
       "4          896         1"
      ]
     },
     "execution_count": 5,
     "metadata": {},
     "output_type": "execute_result"
    }
   ],
   "source": [
    "submit_f.head()"
   ]
  },
  {
   "cell_type": "code",
   "execution_count": 6,
   "id": "f7f6bf84",
   "metadata": {},
   "outputs": [
    {
     "name": "stdout",
     "output_type": "stream",
     "text": [
      "shape of training data :  (891, 12)\n",
      "shape of test data :  (418, 11)\n",
      "shape of submission file data :  (418, 2)\n"
     ]
    }
   ],
   "source": [
    "print(\"shape of training data : \",train.shape)\n",
    "print(\"shape of test data : \",test.shape)\n",
    "print(\"shape of submission file data : \",submit_f.shape)"
   ]
  },
  {
   "cell_type": "code",
   "execution_count": 7,
   "id": "d7f0b6eb",
   "metadata": {
    "scrolled": true
   },
   "outputs": [
    {
     "data": {
      "text/plain": [
       "PassengerId    891\n",
       "Survived         2\n",
       "Pclass           3\n",
       "Name           891\n",
       "Sex              2\n",
       "Age             88\n",
       "SibSp            7\n",
       "Parch            7\n",
       "Ticket         681\n",
       "Fare           248\n",
       "Cabin          147\n",
       "Embarked         3\n",
       "dtype: int64"
      ]
     },
     "execution_count": 7,
     "metadata": {},
     "output_type": "execute_result"
    }
   ],
   "source": [
    "# we will delete if we have a column with one unique value its not get meaning to the model \n",
    "train.nunique()"
   ]
  },
  {
   "cell_type": "code",
   "execution_count": 8,
   "id": "545ce859",
   "metadata": {},
   "outputs": [
    {
     "data": {
      "text/plain": [
       "PassengerId    418\n",
       "Pclass           3\n",
       "Name           418\n",
       "Sex              2\n",
       "Age             79\n",
       "SibSp            7\n",
       "Parch            8\n",
       "Ticket         363\n",
       "Fare           169\n",
       "Cabin           76\n",
       "Embarked         3\n",
       "dtype: int64"
      ]
     },
     "execution_count": 8,
     "metadata": {},
     "output_type": "execute_result"
    }
   ],
   "source": [
    "test.nunique()"
   ]
  },
  {
   "cell_type": "markdown",
   "id": "3d0a8962",
   "metadata": {},
   "source": [
    "# 3. Exploratory Data Analysis (EDA)"
   ]
  },
  {
   "cell_type": "code",
   "execution_count": 9,
   "id": "3874a382",
   "metadata": {
    "scrolled": true
   },
   "outputs": [
    {
     "name": "stdout",
     "output_type": "stream",
     "text": [
      "<class 'pandas.core.frame.DataFrame'>\n",
      "RangeIndex: 891 entries, 0 to 890\n",
      "Data columns (total 12 columns):\n",
      " #   Column       Non-Null Count  Dtype  \n",
      "---  ------       --------------  -----  \n",
      " 0   PassengerId  891 non-null    int64  \n",
      " 1   Survived     891 non-null    int64  \n",
      " 2   Pclass       891 non-null    int64  \n",
      " 3   Name         891 non-null    object \n",
      " 4   Sex          891 non-null    object \n",
      " 5   Age          714 non-null    float64\n",
      " 6   SibSp        891 non-null    int64  \n",
      " 7   Parch        891 non-null    int64  \n",
      " 8   Ticket       891 non-null    object \n",
      " 9   Fare         891 non-null    float64\n",
      " 10  Cabin        204 non-null    object \n",
      " 11  Embarked     889 non-null    object \n",
      "dtypes: float64(2), int64(5), object(5)\n",
      "memory usage: 83.7+ KB\n"
     ]
    }
   ],
   "source": [
    "train.info()"
   ]
  },
  {
   "cell_type": "code",
   "execution_count": 10,
   "id": "07922d77",
   "metadata": {},
   "outputs": [
    {
     "name": "stdout",
     "output_type": "stream",
     "text": [
      "<class 'pandas.core.frame.DataFrame'>\n",
      "RangeIndex: 418 entries, 0 to 417\n",
      "Data columns (total 11 columns):\n",
      " #   Column       Non-Null Count  Dtype  \n",
      "---  ------       --------------  -----  \n",
      " 0   PassengerId  418 non-null    int64  \n",
      " 1   Pclass       418 non-null    int64  \n",
      " 2   Name         418 non-null    object \n",
      " 3   Sex          418 non-null    object \n",
      " 4   Age          332 non-null    float64\n",
      " 5   SibSp        418 non-null    int64  \n",
      " 6   Parch        418 non-null    int64  \n",
      " 7   Ticket       418 non-null    object \n",
      " 8   Fare         417 non-null    float64\n",
      " 9   Cabin        91 non-null     object \n",
      " 10  Embarked     418 non-null    object \n",
      "dtypes: float64(2), int64(4), object(5)\n",
      "memory usage: 36.0+ KB\n"
     ]
    }
   ],
   "source": [
    "test.info()"
   ]
  },
  {
   "cell_type": "code",
   "execution_count": 11,
   "id": "cbf556f5",
   "metadata": {
    "scrolled": true
   },
   "outputs": [
    {
     "name": "stdout",
     "output_type": "stream",
     "text": [
      "<class 'pandas.core.frame.DataFrame'>\n",
      "RangeIndex: 418 entries, 0 to 417\n",
      "Data columns (total 2 columns):\n",
      " #   Column       Non-Null Count  Dtype\n",
      "---  ------       --------------  -----\n",
      " 0   PassengerId  418 non-null    int64\n",
      " 1   Survived     418 non-null    int64\n",
      "dtypes: int64(2)\n",
      "memory usage: 6.7 KB\n"
     ]
    }
   ],
   "source": [
    "submit_f.info()"
   ]
  },
  {
   "cell_type": "code",
   "execution_count": 12,
   "id": "c5e5ae56",
   "metadata": {
    "scrolled": true
   },
   "outputs": [
    {
     "data": {
      "text/html": [
       "<div>\n",
       "<style scoped>\n",
       "    .dataframe tbody tr th:only-of-type {\n",
       "        vertical-align: middle;\n",
       "    }\n",
       "\n",
       "    .dataframe tbody tr th {\n",
       "        vertical-align: top;\n",
       "    }\n",
       "\n",
       "    .dataframe thead th {\n",
       "        text-align: right;\n",
       "    }\n",
       "</style>\n",
       "<table border=\"1\" class=\"dataframe\">\n",
       "  <thead>\n",
       "    <tr style=\"text-align: right;\">\n",
       "      <th></th>\n",
       "      <th>PassengerId</th>\n",
       "      <th>Survived</th>\n",
       "      <th>Pclass</th>\n",
       "      <th>Age</th>\n",
       "      <th>SibSp</th>\n",
       "      <th>Parch</th>\n",
       "      <th>Fare</th>\n",
       "    </tr>\n",
       "  </thead>\n",
       "  <tbody>\n",
       "    <tr>\n",
       "      <th>count</th>\n",
       "      <td>891.000000</td>\n",
       "      <td>891.000000</td>\n",
       "      <td>891.000000</td>\n",
       "      <td>714.000000</td>\n",
       "      <td>891.000000</td>\n",
       "      <td>891.000000</td>\n",
       "      <td>891.000000</td>\n",
       "    </tr>\n",
       "    <tr>\n",
       "      <th>mean</th>\n",
       "      <td>446.000000</td>\n",
       "      <td>0.383838</td>\n",
       "      <td>2.308642</td>\n",
       "      <td>29.699118</td>\n",
       "      <td>0.523008</td>\n",
       "      <td>0.381594</td>\n",
       "      <td>32.204208</td>\n",
       "    </tr>\n",
       "    <tr>\n",
       "      <th>std</th>\n",
       "      <td>257.353842</td>\n",
       "      <td>0.486592</td>\n",
       "      <td>0.836071</td>\n",
       "      <td>14.526497</td>\n",
       "      <td>1.102743</td>\n",
       "      <td>0.806057</td>\n",
       "      <td>49.693429</td>\n",
       "    </tr>\n",
       "    <tr>\n",
       "      <th>min</th>\n",
       "      <td>1.000000</td>\n",
       "      <td>0.000000</td>\n",
       "      <td>1.000000</td>\n",
       "      <td>0.420000</td>\n",
       "      <td>0.000000</td>\n",
       "      <td>0.000000</td>\n",
       "      <td>0.000000</td>\n",
       "    </tr>\n",
       "    <tr>\n",
       "      <th>25%</th>\n",
       "      <td>223.500000</td>\n",
       "      <td>0.000000</td>\n",
       "      <td>2.000000</td>\n",
       "      <td>20.125000</td>\n",
       "      <td>0.000000</td>\n",
       "      <td>0.000000</td>\n",
       "      <td>7.910400</td>\n",
       "    </tr>\n",
       "    <tr>\n",
       "      <th>50%</th>\n",
       "      <td>446.000000</td>\n",
       "      <td>0.000000</td>\n",
       "      <td>3.000000</td>\n",
       "      <td>28.000000</td>\n",
       "      <td>0.000000</td>\n",
       "      <td>0.000000</td>\n",
       "      <td>14.454200</td>\n",
       "    </tr>\n",
       "    <tr>\n",
       "      <th>75%</th>\n",
       "      <td>668.500000</td>\n",
       "      <td>1.000000</td>\n",
       "      <td>3.000000</td>\n",
       "      <td>38.000000</td>\n",
       "      <td>1.000000</td>\n",
       "      <td>0.000000</td>\n",
       "      <td>31.000000</td>\n",
       "    </tr>\n",
       "    <tr>\n",
       "      <th>max</th>\n",
       "      <td>891.000000</td>\n",
       "      <td>1.000000</td>\n",
       "      <td>3.000000</td>\n",
       "      <td>80.000000</td>\n",
       "      <td>8.000000</td>\n",
       "      <td>6.000000</td>\n",
       "      <td>512.329200</td>\n",
       "    </tr>\n",
       "  </tbody>\n",
       "</table>\n",
       "</div>"
      ],
      "text/plain": [
       "       PassengerId    Survived      Pclass         Age       SibSp  \\\n",
       "count   891.000000  891.000000  891.000000  714.000000  891.000000   \n",
       "mean    446.000000    0.383838    2.308642   29.699118    0.523008   \n",
       "std     257.353842    0.486592    0.836071   14.526497    1.102743   \n",
       "min       1.000000    0.000000    1.000000    0.420000    0.000000   \n",
       "25%     223.500000    0.000000    2.000000   20.125000    0.000000   \n",
       "50%     446.000000    0.000000    3.000000   28.000000    0.000000   \n",
       "75%     668.500000    1.000000    3.000000   38.000000    1.000000   \n",
       "max     891.000000    1.000000    3.000000   80.000000    8.000000   \n",
       "\n",
       "            Parch        Fare  \n",
       "count  891.000000  891.000000  \n",
       "mean     0.381594   32.204208  \n",
       "std      0.806057   49.693429  \n",
       "min      0.000000    0.000000  \n",
       "25%      0.000000    7.910400  \n",
       "50%      0.000000   14.454200  \n",
       "75%      0.000000   31.000000  \n",
       "max      6.000000  512.329200  "
      ]
     },
     "execution_count": 12,
     "metadata": {},
     "output_type": "execute_result"
    }
   ],
   "source": [
    "train.describe()"
   ]
  },
  {
   "cell_type": "code",
   "execution_count": 13,
   "id": "0d0f8e14",
   "metadata": {},
   "outputs": [
    {
     "data": {
      "text/html": [
       "<div>\n",
       "<style scoped>\n",
       "    .dataframe tbody tr th:only-of-type {\n",
       "        vertical-align: middle;\n",
       "    }\n",
       "\n",
       "    .dataframe tbody tr th {\n",
       "        vertical-align: top;\n",
       "    }\n",
       "\n",
       "    .dataframe thead th {\n",
       "        text-align: right;\n",
       "    }\n",
       "</style>\n",
       "<table border=\"1\" class=\"dataframe\">\n",
       "  <thead>\n",
       "    <tr style=\"text-align: right;\">\n",
       "      <th></th>\n",
       "      <th>Name</th>\n",
       "      <th>Sex</th>\n",
       "      <th>Ticket</th>\n",
       "      <th>Cabin</th>\n",
       "      <th>Embarked</th>\n",
       "    </tr>\n",
       "  </thead>\n",
       "  <tbody>\n",
       "    <tr>\n",
       "      <th>count</th>\n",
       "      <td>891</td>\n",
       "      <td>891</td>\n",
       "      <td>891</td>\n",
       "      <td>204</td>\n",
       "      <td>889</td>\n",
       "    </tr>\n",
       "    <tr>\n",
       "      <th>unique</th>\n",
       "      <td>891</td>\n",
       "      <td>2</td>\n",
       "      <td>681</td>\n",
       "      <td>147</td>\n",
       "      <td>3</td>\n",
       "    </tr>\n",
       "    <tr>\n",
       "      <th>top</th>\n",
       "      <td>Moss, Mr. Albert Johan</td>\n",
       "      <td>male</td>\n",
       "      <td>CA. 2343</td>\n",
       "      <td>B96 B98</td>\n",
       "      <td>S</td>\n",
       "    </tr>\n",
       "    <tr>\n",
       "      <th>freq</th>\n",
       "      <td>1</td>\n",
       "      <td>577</td>\n",
       "      <td>7</td>\n",
       "      <td>4</td>\n",
       "      <td>644</td>\n",
       "    </tr>\n",
       "  </tbody>\n",
       "</table>\n",
       "</div>"
      ],
      "text/plain": [
       "                          Name   Sex    Ticket    Cabin Embarked\n",
       "count                      891   891       891      204      889\n",
       "unique                     891     2       681      147        3\n",
       "top     Moss, Mr. Albert Johan  male  CA. 2343  B96 B98        S\n",
       "freq                         1   577         7        4      644"
      ]
     },
     "execution_count": 13,
     "metadata": {},
     "output_type": "execute_result"
    }
   ],
   "source": [
    "train.describe(include=['O'])"
   ]
  },
  {
   "cell_type": "code",
   "execution_count": 14,
   "id": "3209be98",
   "metadata": {
    "scrolled": true
   },
   "outputs": [
    {
     "data": {
      "text/html": [
       "<div>\n",
       "<style scoped>\n",
       "    .dataframe tbody tr th:only-of-type {\n",
       "        vertical-align: middle;\n",
       "    }\n",
       "\n",
       "    .dataframe tbody tr th {\n",
       "        vertical-align: top;\n",
       "    }\n",
       "\n",
       "    .dataframe thead th {\n",
       "        text-align: right;\n",
       "    }\n",
       "</style>\n",
       "<table border=\"1\" class=\"dataframe\">\n",
       "  <thead>\n",
       "    <tr style=\"text-align: right;\">\n",
       "      <th></th>\n",
       "      <th>PassengerId</th>\n",
       "      <th>Pclass</th>\n",
       "      <th>Age</th>\n",
       "      <th>SibSp</th>\n",
       "      <th>Parch</th>\n",
       "      <th>Fare</th>\n",
       "    </tr>\n",
       "  </thead>\n",
       "  <tbody>\n",
       "    <tr>\n",
       "      <th>count</th>\n",
       "      <td>418.000000</td>\n",
       "      <td>418.000000</td>\n",
       "      <td>332.000000</td>\n",
       "      <td>418.000000</td>\n",
       "      <td>418.000000</td>\n",
       "      <td>417.000000</td>\n",
       "    </tr>\n",
       "    <tr>\n",
       "      <th>mean</th>\n",
       "      <td>1100.500000</td>\n",
       "      <td>2.265550</td>\n",
       "      <td>30.272590</td>\n",
       "      <td>0.447368</td>\n",
       "      <td>0.392344</td>\n",
       "      <td>35.627188</td>\n",
       "    </tr>\n",
       "    <tr>\n",
       "      <th>std</th>\n",
       "      <td>120.810458</td>\n",
       "      <td>0.841838</td>\n",
       "      <td>14.181209</td>\n",
       "      <td>0.896760</td>\n",
       "      <td>0.981429</td>\n",
       "      <td>55.907576</td>\n",
       "    </tr>\n",
       "    <tr>\n",
       "      <th>min</th>\n",
       "      <td>892.000000</td>\n",
       "      <td>1.000000</td>\n",
       "      <td>0.170000</td>\n",
       "      <td>0.000000</td>\n",
       "      <td>0.000000</td>\n",
       "      <td>0.000000</td>\n",
       "    </tr>\n",
       "    <tr>\n",
       "      <th>25%</th>\n",
       "      <td>996.250000</td>\n",
       "      <td>1.000000</td>\n",
       "      <td>21.000000</td>\n",
       "      <td>0.000000</td>\n",
       "      <td>0.000000</td>\n",
       "      <td>7.895800</td>\n",
       "    </tr>\n",
       "    <tr>\n",
       "      <th>50%</th>\n",
       "      <td>1100.500000</td>\n",
       "      <td>3.000000</td>\n",
       "      <td>27.000000</td>\n",
       "      <td>0.000000</td>\n",
       "      <td>0.000000</td>\n",
       "      <td>14.454200</td>\n",
       "    </tr>\n",
       "    <tr>\n",
       "      <th>75%</th>\n",
       "      <td>1204.750000</td>\n",
       "      <td>3.000000</td>\n",
       "      <td>39.000000</td>\n",
       "      <td>1.000000</td>\n",
       "      <td>0.000000</td>\n",
       "      <td>31.500000</td>\n",
       "    </tr>\n",
       "    <tr>\n",
       "      <th>max</th>\n",
       "      <td>1309.000000</td>\n",
       "      <td>3.000000</td>\n",
       "      <td>76.000000</td>\n",
       "      <td>8.000000</td>\n",
       "      <td>9.000000</td>\n",
       "      <td>512.329200</td>\n",
       "    </tr>\n",
       "  </tbody>\n",
       "</table>\n",
       "</div>"
      ],
      "text/plain": [
       "       PassengerId      Pclass         Age       SibSp       Parch        Fare\n",
       "count   418.000000  418.000000  332.000000  418.000000  418.000000  417.000000\n",
       "mean   1100.500000    2.265550   30.272590    0.447368    0.392344   35.627188\n",
       "std     120.810458    0.841838   14.181209    0.896760    0.981429   55.907576\n",
       "min     892.000000    1.000000    0.170000    0.000000    0.000000    0.000000\n",
       "25%     996.250000    1.000000   21.000000    0.000000    0.000000    7.895800\n",
       "50%    1100.500000    3.000000   27.000000    0.000000    0.000000   14.454200\n",
       "75%    1204.750000    3.000000   39.000000    1.000000    0.000000   31.500000\n",
       "max    1309.000000    3.000000   76.000000    8.000000    9.000000  512.329200"
      ]
     },
     "execution_count": 14,
     "metadata": {},
     "output_type": "execute_result"
    }
   ],
   "source": [
    "test.describe()"
   ]
  },
  {
   "cell_type": "code",
   "execution_count": 15,
   "id": "636722c2",
   "metadata": {},
   "outputs": [
    {
     "data": {
      "text/html": [
       "<div>\n",
       "<style scoped>\n",
       "    .dataframe tbody tr th:only-of-type {\n",
       "        vertical-align: middle;\n",
       "    }\n",
       "\n",
       "    .dataframe tbody tr th {\n",
       "        vertical-align: top;\n",
       "    }\n",
       "\n",
       "    .dataframe thead th {\n",
       "        text-align: right;\n",
       "    }\n",
       "</style>\n",
       "<table border=\"1\" class=\"dataframe\">\n",
       "  <thead>\n",
       "    <tr style=\"text-align: right;\">\n",
       "      <th></th>\n",
       "      <th>Name</th>\n",
       "      <th>Sex</th>\n",
       "      <th>Ticket</th>\n",
       "      <th>Cabin</th>\n",
       "      <th>Embarked</th>\n",
       "    </tr>\n",
       "  </thead>\n",
       "  <tbody>\n",
       "    <tr>\n",
       "      <th>count</th>\n",
       "      <td>418</td>\n",
       "      <td>418</td>\n",
       "      <td>418</td>\n",
       "      <td>91</td>\n",
       "      <td>418</td>\n",
       "    </tr>\n",
       "    <tr>\n",
       "      <th>unique</th>\n",
       "      <td>418</td>\n",
       "      <td>2</td>\n",
       "      <td>363</td>\n",
       "      <td>76</td>\n",
       "      <td>3</td>\n",
       "    </tr>\n",
       "    <tr>\n",
       "      <th>top</th>\n",
       "      <td>Hellstrom, Miss. Hilda Maria</td>\n",
       "      <td>male</td>\n",
       "      <td>PC 17608</td>\n",
       "      <td>B57 B59 B63 B66</td>\n",
       "      <td>S</td>\n",
       "    </tr>\n",
       "    <tr>\n",
       "      <th>freq</th>\n",
       "      <td>1</td>\n",
       "      <td>266</td>\n",
       "      <td>5</td>\n",
       "      <td>3</td>\n",
       "      <td>270</td>\n",
       "    </tr>\n",
       "  </tbody>\n",
       "</table>\n",
       "</div>"
      ],
      "text/plain": [
       "                                Name   Sex    Ticket            Cabin Embarked\n",
       "count                            418   418       418               91      418\n",
       "unique                           418     2       363               76        3\n",
       "top     Hellstrom, Miss. Hilda Maria  male  PC 17608  B57 B59 B63 B66        S\n",
       "freq                               1   266         5                3      270"
      ]
     },
     "execution_count": 15,
     "metadata": {},
     "output_type": "execute_result"
    }
   ],
   "source": [
    "test.describe(include=['O'])"
   ]
  },
  {
   "cell_type": "code",
   "execution_count": 16,
   "id": "89ebab61",
   "metadata": {
    "scrolled": true
   },
   "outputs": [
    {
     "data": {
      "text/plain": [
       "male      577\n",
       "female    314\n",
       "Name: Sex, dtype: int64"
      ]
     },
     "execution_count": 16,
     "metadata": {},
     "output_type": "execute_result"
    }
   ],
   "source": [
    "train[\"Sex\"].value_counts()\n",
    "\n",
    "# the number of male in the titanic more than female  "
   ]
  },
  {
   "cell_type": "code",
   "execution_count": 17,
   "id": "fc67c643",
   "metadata": {
    "scrolled": true
   },
   "outputs": [
    {
     "data": {
      "text/html": [
       "<div>\n",
       "<style scoped>\n",
       "    .dataframe tbody tr th:only-of-type {\n",
       "        vertical-align: middle;\n",
       "    }\n",
       "\n",
       "    .dataframe tbody tr th {\n",
       "        vertical-align: top;\n",
       "    }\n",
       "\n",
       "    .dataframe thead th {\n",
       "        text-align: right;\n",
       "    }\n",
       "</style>\n",
       "<table border=\"1\" class=\"dataframe\">\n",
       "  <thead>\n",
       "    <tr style=\"text-align: right;\">\n",
       "      <th></th>\n",
       "      <th>Survived</th>\n",
       "    </tr>\n",
       "    <tr>\n",
       "      <th>Sex</th>\n",
       "      <th></th>\n",
       "    </tr>\n",
       "  </thead>\n",
       "  <tbody>\n",
       "    <tr>\n",
       "      <th>female</th>\n",
       "      <td>0.742038</td>\n",
       "    </tr>\n",
       "    <tr>\n",
       "      <th>male</th>\n",
       "      <td>0.188908</td>\n",
       "    </tr>\n",
       "  </tbody>\n",
       "</table>\n",
       "</div>"
      ],
      "text/plain": [
       "        Survived\n",
       "Sex             \n",
       "female  0.742038\n",
       "male    0.188908"
      ]
     },
     "execution_count": 17,
     "metadata": {},
     "output_type": "execute_result"
    }
   ],
   "source": [
    "train[[\"Sex\",\"Survived\"]].groupby(\"Sex\").mean()\n",
    "\n",
    "# the average of a survived female is higher than male "
   ]
  },
  {
   "cell_type": "code",
   "execution_count": 18,
   "id": "df8c702e",
   "metadata": {},
   "outputs": [
    {
     "data": {
      "text/plain": [
       "Text(0.5, 1.0, 'Survival Probability by Sex')"
      ]
     },
     "execution_count": 18,
     "metadata": {},
     "output_type": "execute_result"
    },
    {
     "data": {
      "image/png": "[encoded data removed]",
      "text/plain": [
       "<Figure size 432x288 with 1 Axes>"
      ]
     },
     "metadata": {},
     "output_type": "display_data"
    }
   ],
   "source": [
    "sns.set_style(\"whitegrid\")\n",
    "sns.barplot(x=\"Sex\",y=\"Survived\",data=train)\n",
    "plt.ylabel(\"Survival Probability\")\n",
    "plt.title(\"Survival Probability by Sex\")"
   ]
  },
  {
   "cell_type": "code",
   "execution_count": 19,
   "id": "5fdd87b9",
   "metadata": {
    "scrolled": true
   },
   "outputs": [
    {
     "data": {
      "text/plain": [
       "0    549\n",
       "1    342\n",
       "Name: Survived, dtype: int64"
      ]
     },
     "execution_count": 19,
     "metadata": {},
     "output_type": "execute_result"
    }
   ],
   "source": [
    "# 0 -->  not survival ,, 1 --> survival \n",
    "train[\"Survived\"].value_counts()\n"
   ]
  },
  {
   "cell_type": "code",
   "execution_count": 20,
   "id": "b34373dc",
   "metadata": {},
   "outputs": [
    {
     "data": {
      "text/plain": [
       "<AxesSubplot:xlabel='Survived', ylabel='count'>"
      ]
     },
     "execution_count": 20,
     "metadata": {},
     "output_type": "execute_result"
    },
    {
     "data": {
      "image/png": "[encoded data removed]",
      "text/plain": [
       "<Figure size 432x288 with 1 Axes>"
      ]
     },
     "metadata": {},
     "output_type": "display_data"
    }
   ],
   "source": [
    "sns.set_style(\"whitegrid\")\n",
    "sns.countplot(\"Survived\",data=train,)\n"
   ]
  },
  {
   "cell_type": "code",
   "execution_count": 21,
   "id": "2ba80ca4",
   "metadata": {},
   "outputs": [
    {
     "data": {
      "text/plain": [
       "Survived  Sex   \n",
       "0         male      468\n",
       "          female     81\n",
       "1         female    233\n",
       "          male      109\n",
       "Name: Sex, dtype: int64"
      ]
     },
     "execution_count": 21,
     "metadata": {},
     "output_type": "execute_result"
    }
   ],
   "source": [
    "train.groupby(\"Survived\")[\"Sex\"].value_counts()\n",
    "# we see that almost of males in the titanic die "
   ]
  },
  {
   "cell_type": "code",
   "execution_count": 22,
   "id": "0879191e",
   "metadata": {
    "scrolled": false
   },
   "outputs": [
    {
     "data": {
      "text/plain": [
       "<AxesSubplot:xlabel='Survived', ylabel='count'>"
      ]
     },
     "execution_count": 22,
     "metadata": {},
     "output_type": "execute_result"
    },
    {
     "data": {
      "image/png": "[encoded data removed]",
      "text/plain": [
       "<Figure size 432x288 with 1 Axes>"
      ]
     },
     "metadata": {},
     "output_type": "display_data"
    }
   ],
   "source": [
    "sns.set_style(\"whitegrid\")\n",
    "sns.countplot(\"Survived\",data=train,hue=\"Sex\")"
   ]
  },
  {
   "cell_type": "code",
   "execution_count": 23,
   "id": "f417330b",
   "metadata": {},
   "outputs": [
    {
     "data": {
      "text/html": [
       "<div>\n",
       "<style scoped>\n",
       "    .dataframe tbody tr th:only-of-type {\n",
       "        vertical-align: middle;\n",
       "    }\n",
       "\n",
       "    .dataframe tbody tr th {\n",
       "        vertical-align: top;\n",
       "    }\n",
       "\n",
       "    .dataframe thead th {\n",
       "        text-align: right;\n",
       "    }\n",
       "</style>\n",
       "<table border=\"1\" class=\"dataframe\">\n",
       "  <thead>\n",
       "    <tr style=\"text-align: right;\">\n",
       "      <th></th>\n",
       "      <th>Survived</th>\n",
       "    </tr>\n",
       "    <tr>\n",
       "      <th>Pclass</th>\n",
       "      <th></th>\n",
       "    </tr>\n",
       "  </thead>\n",
       "  <tbody>\n",
       "    <tr>\n",
       "      <th>1</th>\n",
       "      <td>0.629630</td>\n",
       "    </tr>\n",
       "    <tr>\n",
       "      <th>2</th>\n",
       "      <td>0.472826</td>\n",
       "    </tr>\n",
       "    <tr>\n",
       "      <th>3</th>\n",
       "      <td>0.242363</td>\n",
       "    </tr>\n",
       "  </tbody>\n",
       "</table>\n",
       "</div>"
      ],
      "text/plain": [
       "        Survived\n",
       "Pclass          \n",
       "1       0.629630\n",
       "2       0.472826\n",
       "3       0.242363"
      ]
     },
     "execution_count": 23,
     "metadata": {},
     "output_type": "execute_result"
    }
   ],
   "source": [
    "train[[\"Pclass\",\"Survived\"]].groupby(\"Pclass\").mean()\n",
    "# the people in class 1 has higher Probability to survival than other  "
   ]
  },
  {
   "cell_type": "code",
   "execution_count": 24,
   "id": "a9c002ba",
   "metadata": {
    "scrolled": false
   },
   "outputs": [
    {
     "data": {
      "text/plain": [
       "<AxesSubplot:xlabel='Pclass', ylabel='Survived'>"
      ]
     },
     "execution_count": 24,
     "metadata": {},
     "output_type": "execute_result"
    },
    {
     "data": {
      "image/png": "[encoded data removed]",
      "text/plain": [
       "<Figure size 432x288 with 1 Axes>"
      ]
     },
     "metadata": {},
     "output_type": "display_data"
    }
   ],
   "source": [
    "sns.set_style(\"whitegrid\")\n",
    "sns.barplot(x=\"Pclass\",y=\"Survived\",data=train)"
   ]
  },
  {
   "cell_type": "code",
   "execution_count": 25,
   "id": "13cf7d51",
   "metadata": {
    "scrolled": true
   },
   "outputs": [
    {
     "data": {
      "text/plain": [
       "Survived  Pclass  Sex   \n",
       "0         1       male       77\n",
       "                  female      3\n",
       "          2       male       91\n",
       "                  female      6\n",
       "          3       male      300\n",
       "                  female     72\n",
       "1         1       female     91\n",
       "                  male       45\n",
       "          2       female     70\n",
       "                  male       17\n",
       "          3       female     72\n",
       "                  male       47\n",
       "Name: Sex, dtype: int64"
      ]
     },
     "execution_count": 25,
     "metadata": {},
     "output_type": "execute_result"
    }
   ],
   "source": [
    "train.groupby([\"Survived\",\"Pclass\"])[\"Sex\"].value_counts()"
   ]
  },
  {
   "cell_type": "code",
   "execution_count": 26,
   "id": "000d40ae",
   "metadata": {
    "scrolled": true
   },
   "outputs": [
    {
     "data": {
      "text/plain": [
       "<AxesSubplot:xlabel='Pclass', ylabel='Survived'>"
      ]
     },
     "execution_count": 26,
     "metadata": {},
     "output_type": "execute_result"
    },
    {
     "data": {
      "image/png": "[encoded data removed]",
      "text/plain": [
       "<Figure size 432x288 with 1 Axes>"
      ]
     },
     "metadata": {},
     "output_type": "display_data"
    }
   ],
   "source": [
    "sns.set_style(\"whitegrid\")\n",
    "sns.barplot(x=\"Pclass\",y=\"Survived\",data=train,hue=\"Sex\")"
   ]
  },
  {
   "cell_type": "code",
   "execution_count": 27,
   "id": "e6acdeea",
   "metadata": {},
   "outputs": [
    {
     "data": {
      "text/plain": [
       "Survived  Pclass\n",
       "0         3         372\n",
       "          2          97\n",
       "          1          80\n",
       "1         1         136\n",
       "          3         119\n",
       "          2          87\n",
       "Name: Pclass, dtype: int64"
      ]
     },
     "execution_count": 27,
     "metadata": {},
     "output_type": "execute_result"
    }
   ],
   "source": [
    "train.groupby(\"Survived\")[\"Pclass\"].value_counts()"
   ]
  },
  {
   "cell_type": "code",
   "execution_count": 28,
   "id": "9c39c3b4",
   "metadata": {
    "scrolled": true
   },
   "outputs": [
    {
     "data": {
      "text/plain": [
       "<AxesSubplot:xlabel='Survived', ylabel='count'>"
      ]
     },
     "execution_count": 28,
     "metadata": {},
     "output_type": "execute_result"
    },
    {
     "data": {
      "image/png": "[encoded data removed]",
      "text/plain": [
       "<Figure size 432x288 with 1 Axes>"
      ]
     },
     "metadata": {},
     "output_type": "display_data"
    }
   ],
   "source": [
    "sns.countplot(\"Survived\",data=train,hue=\"Pclass\")"
   ]
  },
  {
   "cell_type": "code",
   "execution_count": 29,
   "id": "58fc6634",
   "metadata": {},
   "outputs": [
    {
     "data": {
      "image/png": "[encoded data removed]",
      "text/plain": [
       "<Figure size 514.88x475.2 with 6 Axes>"
      ]
     },
     "metadata": {},
     "output_type": "display_data"
    }
   ],
   "source": [
    "# grid = sns.FacetGrid(train_df, col='Pclass', hue='Survived')\n",
    "grid = sns.FacetGrid(train, col='Survived', row='Pclass', size=2.2, aspect=1.6)\n",
    "grid.map(plt.hist, 'Age', alpha=.5, bins=20)\n",
    "grid.add_legend();"
   ]
  },
  {
   "cell_type": "code",
   "execution_count": 30,
   "id": "73403e16",
   "metadata": {
    "scrolled": true
   },
   "outputs": [
    {
     "data": {
      "text/plain": [
       "S      644\n",
       "C      168\n",
       "Q       77\n",
       "NaN      2\n",
       "Name: Embarked, dtype: int64"
      ]
     },
     "execution_count": 30,
     "metadata": {},
     "output_type": "execute_result"
    }
   ],
   "source": [
    "train[\"Embarked\"].value_counts(dropna=False)"
   ]
  },
  {
   "cell_type": "code",
   "execution_count": 31,
   "id": "0ea80db7",
   "metadata": {},
   "outputs": [
    {
     "data": {
      "text/html": [
       "<div>\n",
       "<style scoped>\n",
       "    .dataframe tbody tr th:only-of-type {\n",
       "        vertical-align: middle;\n",
       "    }\n",
       "\n",
       "    .dataframe tbody tr th {\n",
       "        vertical-align: top;\n",
       "    }\n",
       "\n",
       "    .dataframe thead th {\n",
       "        text-align: right;\n",
       "    }\n",
       "</style>\n",
       "<table border=\"1\" class=\"dataframe\">\n",
       "  <thead>\n",
       "    <tr style=\"text-align: right;\">\n",
       "      <th></th>\n",
       "      <th>Survived</th>\n",
       "    </tr>\n",
       "    <tr>\n",
       "      <th>Embarked</th>\n",
       "      <th></th>\n",
       "    </tr>\n",
       "  </thead>\n",
       "  <tbody>\n",
       "    <tr>\n",
       "      <th>C</th>\n",
       "      <td>0.553571</td>\n",
       "    </tr>\n",
       "    <tr>\n",
       "      <th>Q</th>\n",
       "      <td>0.389610</td>\n",
       "    </tr>\n",
       "    <tr>\n",
       "      <th>S</th>\n",
       "      <td>0.336957</td>\n",
       "    </tr>\n",
       "  </tbody>\n",
       "</table>\n",
       "</div>"
      ],
      "text/plain": [
       "          Survived\n",
       "Embarked          \n",
       "C         0.553571\n",
       "Q         0.389610\n",
       "S         0.336957"
      ]
     },
     "execution_count": 31,
     "metadata": {},
     "output_type": "execute_result"
    }
   ],
   "source": [
    "train[[\"Embarked\",\"Survived\"]].groupby(\"Embarked\").mean()"
   ]
  },
  {
   "cell_type": "code",
   "execution_count": 32,
   "id": "4d584671",
   "metadata": {
    "scrolled": true
   },
   "outputs": [
    {
     "data": {
      "text/plain": [
       "<AxesSubplot:xlabel='Embarked', ylabel='Survived'>"
      ]
     },
     "execution_count": 32,
     "metadata": {},
     "output_type": "execute_result"
    },
    {
     "data": {
      "image/png": "[encoded data removed]",
      "text/plain": [
       "<Figure size 432x288 with 1 Axes>"
      ]
     },
     "metadata": {},
     "output_type": "display_data"
    }
   ],
   "source": [
    "sns.set_style(\"whitegrid\")\n",
    "sns.barplot(x=\"Embarked\",y=\"Survived\",data=train)"
   ]
  },
  {
   "cell_type": "code",
   "execution_count": 33,
   "id": "73def7fa",
   "metadata": {
    "scrolled": false
   },
   "outputs": [
    {
     "data": {
      "text/plain": [
       "<seaborn.axisgrid.FacetGrid at 0x7fb96a942280>"
      ]
     },
     "execution_count": 33,
     "metadata": {},
     "output_type": "execute_result"
    },
    {
     "data": {
      "image/png": "[encoded data removed]",
      "text/plain": [
       "<Figure size 1080x360 with 3 Axes>"
      ]
     },
     "metadata": {},
     "output_type": "display_data"
    }
   ],
   "source": [
    "sns.factorplot(\"Pclass\",col=\"Embarked\",data=train,kind=\"count\")"
   ]
  },
  {
   "cell_type": "code",
   "execution_count": 34,
   "id": "2ad5c11a",
   "metadata": {
    "scrolled": true
   },
   "outputs": [
    {
     "data": {
      "text/plain": [
       "Survived  Embarked\n",
       "0         S           427\n",
       "          C            75\n",
       "          Q            47\n",
       "1         S           217\n",
       "          C            93\n",
       "          Q            30\n",
       "Name: Embarked, dtype: int64"
      ]
     },
     "execution_count": 34,
     "metadata": {},
     "output_type": "execute_result"
    }
   ],
   "source": [
    "train.groupby(\"Survived\")[\"Embarked\"].value_counts()"
   ]
  },
  {
   "cell_type": "code",
   "execution_count": 35,
   "id": "f67cfa6a",
   "metadata": {
    "scrolled": true
   },
   "outputs": [
    {
     "data": {
      "text/plain": [
       "<AxesSubplot:xlabel='Survived', ylabel='count'>"
      ]
     },
     "execution_count": 35,
     "metadata": {},
     "output_type": "execute_result"
    },
    {
     "data": {
      "image/png": "[encoded data removed]",
      "text/plain": [
       "<Figure size 432x288 with 1 Axes>"
      ]
     },
     "metadata": {},
     "output_type": "display_data"
    }
   ],
   "source": [
    "sns.countplot(\"Survived\",data=train,hue=\"Embarked\")"
   ]
  },
  {
   "cell_type": "code",
   "execution_count": 36,
   "id": "cf99c43b",
   "metadata": {},
   "outputs": [
    {
     "data": {
      "text/plain": [
       "<seaborn.axisgrid.FacetGrid at 0x7fb96acb0ca0>"
      ]
     },
     "execution_count": 36,
     "metadata": {},
     "output_type": "execute_result"
    },
    {
     "data": {
      "image/png": "[encoded data removed]",
      "text/plain": [
       "<Figure size 514.88x475.2 with 6 Axes>"
      ]
     },
     "metadata": {},
     "output_type": "display_data"
    }
   ],
   "source": [
    "# grid = sns.FacetGrid(train_df, col='Embarked', hue='Survived', palette={0: 'k', 1: 'w'})\n",
    "grid = sns.FacetGrid(train, row='Embarked', col='Survived', size=2.2, aspect=1.6)\n",
    "grid.map(sns.barplot, 'Sex', 'Fare', alpha=.5, ci=None)\n",
    "grid.add_legend()"
   ]
  },
  {
   "cell_type": "markdown",
   "id": "b18a176a",
   "metadata": {},
   "source": [
    "## drop outliers"
   ]
  },
  {
   "cell_type": "code",
   "execution_count": 37,
   "id": "935e3498",
   "metadata": {
    "scrolled": true
   },
   "outputs": [
    {
     "name": "stdout",
     "output_type": "stream",
     "text": [
      "We will drop these 17 indices:  [27, 59, 71, 88, 159, 180, 201, 311, 324, 341, 386, 480, 683, 742, 792, 846, 863]\n"
     ]
    }
   ],
   "source": [
    "## remove outlier from numeric feature \n",
    "## by using interquartile range\n",
    "def detect_outliers(df, n, features):\n",
    "    \n",
    "    outlier_indices = [] \n",
    "    for col in features: \n",
    "        Q1 ,Q3 = np.percentile(df[col], [25,75])\n",
    "        IQR = Q3 - Q1\n",
    "        outlier_step = 1.5 * IQR\n",
    "        lower_bound = Q1 - outlier_step\n",
    "        upper_bound = Q1 + outlier_step\n",
    "        outlier_list_col = df[(df[col] < lower_bound ) | (df[col] > upper_bound)].index\n",
    "        outlier_indices.extend(outlier_list_col) \n",
    "    outlier_indices = Counter(outlier_indices)\n",
    "    multiple_outliers = list(key for key, value in outlier_indices.items() if value > n) \n",
    "    return multiple_outliers\n",
    "\n",
    "outliers_to_drop = detect_outliers(train, 2, ['Age', 'SibSp', 'Parch', 'Fare'])\n",
    "print(\"We will drop these {} indices: \".format(len(outliers_to_drop)), outliers_to_drop)\n",
    "\n",
    "\n",
    "\n"
   ]
  },
  {
   "cell_type": "code",
   "execution_count": 38,
   "id": "7c026c97",
   "metadata": {
    "scrolled": false
   },
   "outputs": [
    {
     "data": {
      "text/html": [
       "<div>\n",
       "<style scoped>\n",
       "    .dataframe tbody tr th:only-of-type {\n",
       "        vertical-align: middle;\n",
       "    }\n",
       "\n",
       "    .dataframe tbody tr th {\n",
       "        vertical-align: top;\n",
       "    }\n",
       "\n",
       "    .dataframe thead th {\n",
       "        text-align: right;\n",
       "    }\n",
       "</style>\n",
       "<table border=\"1\" class=\"dataframe\">\n",
       "  <thead>\n",
       "    <tr style=\"text-align: right;\">\n",
       "      <th></th>\n",
       "      <th>PassengerId</th>\n",
       "      <th>Survived</th>\n",
       "      <th>Pclass</th>\n",
       "      <th>Name</th>\n",
       "      <th>Sex</th>\n",
       "      <th>Age</th>\n",
       "      <th>SibSp</th>\n",
       "      <th>Parch</th>\n",
       "      <th>Ticket</th>\n",
       "      <th>Fare</th>\n",
       "      <th>Cabin</th>\n",
       "      <th>Embarked</th>\n",
       "    </tr>\n",
       "  </thead>\n",
       "  <tbody>\n",
       "    <tr>\n",
       "      <th>27</th>\n",
       "      <td>28</td>\n",
       "      <td>0</td>\n",
       "      <td>1</td>\n",
       "      <td>Fortune, Mr. Charles Alexander</td>\n",
       "      <td>male</td>\n",
       "      <td>19.0</td>\n",
       "      <td>3</td>\n",
       "      <td>2</td>\n",
       "      <td>19950</td>\n",
       "      <td>263.000</td>\n",
       "      <td>C23 C25 C27</td>\n",
       "      <td>S</td>\n",
       "    </tr>\n",
       "    <tr>\n",
       "      <th>59</th>\n",
       "      <td>60</td>\n",
       "      <td>0</td>\n",
       "      <td>3</td>\n",
       "      <td>Goodwin, Master. William Frederick</td>\n",
       "      <td>male</td>\n",
       "      <td>11.0</td>\n",
       "      <td>5</td>\n",
       "      <td>2</td>\n",
       "      <td>CA 2144</td>\n",
       "      <td>46.900</td>\n",
       "      <td>NaN</td>\n",
       "      <td>S</td>\n",
       "    </tr>\n",
       "    <tr>\n",
       "      <th>71</th>\n",
       "      <td>72</td>\n",
       "      <td>0</td>\n",
       "      <td>3</td>\n",
       "      <td>Goodwin, Miss. Lillian Amy</td>\n",
       "      <td>female</td>\n",
       "      <td>16.0</td>\n",
       "      <td>5</td>\n",
       "      <td>2</td>\n",
       "      <td>CA 2144</td>\n",
       "      <td>46.900</td>\n",
       "      <td>NaN</td>\n",
       "      <td>S</td>\n",
       "    </tr>\n",
       "    <tr>\n",
       "      <th>88</th>\n",
       "      <td>89</td>\n",
       "      <td>1</td>\n",
       "      <td>1</td>\n",
       "      <td>Fortune, Miss. Mabel Helen</td>\n",
       "      <td>female</td>\n",
       "      <td>23.0</td>\n",
       "      <td>3</td>\n",
       "      <td>2</td>\n",
       "      <td>19950</td>\n",
       "      <td>263.000</td>\n",
       "      <td>C23 C25 C27</td>\n",
       "      <td>S</td>\n",
       "    </tr>\n",
       "    <tr>\n",
       "      <th>159</th>\n",
       "      <td>160</td>\n",
       "      <td>0</td>\n",
       "      <td>3</td>\n",
       "      <td>Sage, Master. Thomas Henry</td>\n",
       "      <td>male</td>\n",
       "      <td>NaN</td>\n",
       "      <td>8</td>\n",
       "      <td>2</td>\n",
       "      <td>CA. 2343</td>\n",
       "      <td>69.550</td>\n",
       "      <td>NaN</td>\n",
       "      <td>S</td>\n",
       "    </tr>\n",
       "    <tr>\n",
       "      <th>180</th>\n",
       "      <td>181</td>\n",
       "      <td>0</td>\n",
       "      <td>3</td>\n",
       "      <td>Sage, Miss. Constance Gladys</td>\n",
       "      <td>female</td>\n",
       "      <td>NaN</td>\n",
       "      <td>8</td>\n",
       "      <td>2</td>\n",
       "      <td>CA. 2343</td>\n",
       "      <td>69.550</td>\n",
       "      <td>NaN</td>\n",
       "      <td>S</td>\n",
       "    </tr>\n",
       "    <tr>\n",
       "      <th>201</th>\n",
       "      <td>202</td>\n",
       "      <td>0</td>\n",
       "      <td>3</td>\n",
       "      <td>Sage, Mr. Frederick</td>\n",
       "      <td>male</td>\n",
       "      <td>NaN</td>\n",
       "      <td>8</td>\n",
       "      <td>2</td>\n",
       "      <td>CA. 2343</td>\n",
       "      <td>69.550</td>\n",
       "      <td>NaN</td>\n",
       "      <td>S</td>\n",
       "    </tr>\n",
       "    <tr>\n",
       "      <th>311</th>\n",
       "      <td>312</td>\n",
       "      <td>1</td>\n",
       "      <td>1</td>\n",
       "      <td>Ryerson, Miss. Emily Borie</td>\n",
       "      <td>female</td>\n",
       "      <td>18.0</td>\n",
       "      <td>2</td>\n",
       "      <td>2</td>\n",
       "      <td>PC 17608</td>\n",
       "      <td>262.375</td>\n",
       "      <td>B57 B59 B63 B66</td>\n",
       "      <td>C</td>\n",
       "    </tr>\n",
       "    <tr>\n",
       "      <th>324</th>\n",
       "      <td>325</td>\n",
       "      <td>0</td>\n",
       "      <td>3</td>\n",
       "      <td>Sage, Mr. George John Jr</td>\n",
       "      <td>male</td>\n",
       "      <td>NaN</td>\n",
       "      <td>8</td>\n",
       "      <td>2</td>\n",
       "      <td>CA. 2343</td>\n",
       "      <td>69.550</td>\n",
       "      <td>NaN</td>\n",
       "      <td>S</td>\n",
       "    </tr>\n",
       "    <tr>\n",
       "      <th>341</th>\n",
       "      <td>342</td>\n",
       "      <td>1</td>\n",
       "      <td>1</td>\n",
       "      <td>Fortune, Miss. Alice Elizabeth</td>\n",
       "      <td>female</td>\n",
       "      <td>24.0</td>\n",
       "      <td>3</td>\n",
       "      <td>2</td>\n",
       "      <td>19950</td>\n",
       "      <td>263.000</td>\n",
       "      <td>C23 C25 C27</td>\n",
       "      <td>S</td>\n",
       "    </tr>\n",
       "    <tr>\n",
       "      <th>386</th>\n",
       "      <td>387</td>\n",
       "      <td>0</td>\n",
       "      <td>3</td>\n",
       "      <td>Goodwin, Master. Sidney Leonard</td>\n",
       "      <td>male</td>\n",
       "      <td>1.0</td>\n",
       "      <td>5</td>\n",
       "      <td>2</td>\n",
       "      <td>CA 2144</td>\n",
       "      <td>46.900</td>\n",
       "      <td>NaN</td>\n",
       "      <td>S</td>\n",
       "    </tr>\n",
       "    <tr>\n",
       "      <th>480</th>\n",
       "      <td>481</td>\n",
       "      <td>0</td>\n",
       "      <td>3</td>\n",
       "      <td>Goodwin, Master. Harold Victor</td>\n",
       "      <td>male</td>\n",
       "      <td>9.0</td>\n",
       "      <td>5</td>\n",
       "      <td>2</td>\n",
       "      <td>CA 2144</td>\n",
       "      <td>46.900</td>\n",
       "      <td>NaN</td>\n",
       "      <td>S</td>\n",
       "    </tr>\n",
       "    <tr>\n",
       "      <th>683</th>\n",
       "      <td>684</td>\n",
       "      <td>0</td>\n",
       "      <td>3</td>\n",
       "      <td>Goodwin, Mr. Charles Edward</td>\n",
       "      <td>male</td>\n",
       "      <td>14.0</td>\n",
       "      <td>5</td>\n",
       "      <td>2</td>\n",
       "      <td>CA 2144</td>\n",
       "      <td>46.900</td>\n",
       "      <td>NaN</td>\n",
       "      <td>S</td>\n",
       "    </tr>\n",
       "    <tr>\n",
       "      <th>742</th>\n",
       "      <td>743</td>\n",
       "      <td>1</td>\n",
       "      <td>1</td>\n",
       "      <td>Ryerson, Miss. Susan Parker \"Suzette\"</td>\n",
       "      <td>female</td>\n",
       "      <td>21.0</td>\n",
       "      <td>2</td>\n",
       "      <td>2</td>\n",
       "      <td>PC 17608</td>\n",
       "      <td>262.375</td>\n",
       "      <td>B57 B59 B63 B66</td>\n",
       "      <td>C</td>\n",
       "    </tr>\n",
       "    <tr>\n",
       "      <th>792</th>\n",
       "      <td>793</td>\n",
       "      <td>0</td>\n",
       "      <td>3</td>\n",
       "      <td>Sage, Miss. Stella Anna</td>\n",
       "      <td>female</td>\n",
       "      <td>NaN</td>\n",
       "      <td>8</td>\n",
       "      <td>2</td>\n",
       "      <td>CA. 2343</td>\n",
       "      <td>69.550</td>\n",
       "      <td>NaN</td>\n",
       "      <td>S</td>\n",
       "    </tr>\n",
       "    <tr>\n",
       "      <th>846</th>\n",
       "      <td>847</td>\n",
       "      <td>0</td>\n",
       "      <td>3</td>\n",
       "      <td>Sage, Mr. Douglas Bullen</td>\n",
       "      <td>male</td>\n",
       "      <td>NaN</td>\n",
       "      <td>8</td>\n",
       "      <td>2</td>\n",
       "      <td>CA. 2343</td>\n",
       "      <td>69.550</td>\n",
       "      <td>NaN</td>\n",
       "      <td>S</td>\n",
       "    </tr>\n",
       "    <tr>\n",
       "      <th>863</th>\n",
       "      <td>864</td>\n",
       "      <td>0</td>\n",
       "      <td>3</td>\n",
       "      <td>Sage, Miss. Dorothy Edith \"Dolly\"</td>\n",
       "      <td>female</td>\n",
       "      <td>NaN</td>\n",
       "      <td>8</td>\n",
       "      <td>2</td>\n",
       "      <td>CA. 2343</td>\n",
       "      <td>69.550</td>\n",
       "      <td>NaN</td>\n",
       "      <td>S</td>\n",
       "    </tr>\n",
       "  </tbody>\n",
       "</table>\n",
       "</div>"
      ],
      "text/plain": [
       "     PassengerId  Survived  Pclass                                   Name  \\\n",
       "27            28         0       1         Fortune, Mr. Charles Alexander   \n",
       "59            60         0       3     Goodwin, Master. William Frederick   \n",
       "71            72         0       3             Goodwin, Miss. Lillian Amy   \n",
       "88            89         1       1             Fortune, Miss. Mabel Helen   \n",
       "159          160         0       3             Sage, Master. Thomas Henry   \n",
       "180          181         0       3           Sage, Miss. Constance Gladys   \n",
       "201          202         0       3                    Sage, Mr. Frederick   \n",
       "311          312         1       1             Ryerson, Miss. Emily Borie   \n",
       "324          325         0       3               Sage, Mr. George John Jr   \n",
       "341          342         1       1         Fortune, Miss. Alice Elizabeth   \n",
       "386          387         0       3        Goodwin, Master. Sidney Leonard   \n",
       "480          481         0       3         Goodwin, Master. Harold Victor   \n",
       "683          684         0       3            Goodwin, Mr. Charles Edward   \n",
       "742          743         1       1  Ryerson, Miss. Susan Parker \"Suzette\"   \n",
       "792          793         0       3                Sage, Miss. Stella Anna   \n",
       "846          847         0       3               Sage, Mr. Douglas Bullen   \n",
       "863          864         0       3      Sage, Miss. Dorothy Edith \"Dolly\"   \n",
       "\n",
       "        Sex   Age  SibSp  Parch    Ticket     Fare            Cabin Embarked  \n",
       "27     male  19.0      3      2     19950  263.000      C23 C25 C27        S  \n",
       "59     male  11.0      5      2   CA 2144   46.900              NaN        S  \n",
       "71   female  16.0      5      2   CA 2144   46.900              NaN        S  \n",
       "88   female  23.0      3      2     19950  263.000      C23 C25 C27        S  \n",
       "159    male   NaN      8      2  CA. 2343   69.550              NaN        S  \n",
       "180  female   NaN      8      2  CA. 2343   69.550              NaN        S  \n",
       "201    male   NaN      8      2  CA. 2343   69.550              NaN        S  \n",
       "311  female  18.0      2      2  PC 17608  262.375  B57 B59 B63 B66        C  \n",
       "324    male   NaN      8      2  CA. 2343   69.550              NaN        S  \n",
       "341  female  24.0      3      2     19950  263.000      C23 C25 C27        S  \n",
       "386    male   1.0      5      2   CA 2144   46.900              NaN        S  \n",
       "480    male   9.0      5      2   CA 2144   46.900              NaN        S  \n",
       "683    male  14.0      5      2   CA 2144   46.900              NaN        S  \n",
       "742  female  21.0      2      2  PC 17608  262.375  B57 B59 B63 B66        C  \n",
       "792  female   NaN      8      2  CA. 2343   69.550              NaN        S  \n",
       "846    male   NaN      8      2  CA. 2343   69.550              NaN        S  \n",
       "863  female   NaN      8      2  CA. 2343   69.550              NaN        S  "
      ]
     },
     "execution_count": 38,
     "metadata": {},
     "output_type": "execute_result"
    }
   ],
   "source": [
    "train.loc[outliers_to_drop, :]"
   ]
  },
  {
   "cell_type": "code",
   "execution_count": 39,
   "id": "431f0392",
   "metadata": {
    "scrolled": true
   },
   "outputs": [
    {
     "name": "stdout",
     "output_type": "stream",
     "text": [
      "Before: 891 rows\n",
      "After: 874 rows\n"
     ]
    }
   ],
   "source": [
    "# Drop outliers and reset index\n",
    "\n",
    "print(\"Before: {} rows\".format(len(train)))\n",
    "train = train.drop(outliers_to_drop, axis = 0).reset_index(drop = True)\n",
    "print(\"After: {} rows\".format(len(train)))"
   ]
  },
  {
   "cell_type": "code",
   "execution_count": 40,
   "id": "f7565f25",
   "metadata": {
    "scrolled": true
   },
   "outputs": [
    {
     "data": {
      "text/plain": [
       "<AxesSubplot:>"
      ]
     },
     "execution_count": 40,
     "metadata": {},
     "output_type": "execute_result"
    },
    {
     "data": {
      "image/png": "[encoded data removed]",
      "text/plain": [
       "<Figure size 432x288 with 2 Axes>"
      ]
     },
     "metadata": {},
     "output_type": "display_data"
    }
   ],
   "source": [
    "sns.heatmap(train[[\"Survived\",\"Age\",\"SibSp\",\"Parch\",\"Fare\"]].corr(),annot=True,fmt=\".2f\",cmap=\"coolwarm\")"
   ]
  },
  {
   "cell_type": "code",
   "execution_count": 41,
   "id": "975bea96",
   "metadata": {},
   "outputs": [
    {
     "data": {
      "text/plain": [
       "0    608\n",
       "1    209\n",
       "2     26\n",
       "4     18\n",
       "3     13\n",
       "Name: SibSp, dtype: int64"
      ]
     },
     "execution_count": 41,
     "metadata": {},
     "output_type": "execute_result"
    }
   ],
   "source": [
    "train[\"SibSp\"].value_counts(dropna=False)"
   ]
  },
  {
   "cell_type": "code",
   "execution_count": 42,
   "id": "23afaf97",
   "metadata": {},
   "outputs": [
    {
     "data": {
      "text/html": [
       "<div>\n",
       "<style scoped>\n",
       "    .dataframe tbody tr th:only-of-type {\n",
       "        vertical-align: middle;\n",
       "    }\n",
       "\n",
       "    .dataframe tbody tr th {\n",
       "        vertical-align: top;\n",
       "    }\n",
       "\n",
       "    .dataframe thead th {\n",
       "        text-align: right;\n",
       "    }\n",
       "</style>\n",
       "<table border=\"1\" class=\"dataframe\">\n",
       "  <thead>\n",
       "    <tr style=\"text-align: right;\">\n",
       "      <th></th>\n",
       "      <th>SibSp</th>\n",
       "      <th>Survived</th>\n",
       "    </tr>\n",
       "  </thead>\n",
       "  <tbody>\n",
       "    <tr>\n",
       "      <th>1</th>\n",
       "      <td>1</td>\n",
       "      <td>0.535885</td>\n",
       "    </tr>\n",
       "    <tr>\n",
       "      <th>2</th>\n",
       "      <td>2</td>\n",
       "      <td>0.423077</td>\n",
       "    </tr>\n",
       "    <tr>\n",
       "      <th>0</th>\n",
       "      <td>0</td>\n",
       "      <td>0.345395</td>\n",
       "    </tr>\n",
       "    <tr>\n",
       "      <th>4</th>\n",
       "      <td>4</td>\n",
       "      <td>0.166667</td>\n",
       "    </tr>\n",
       "    <tr>\n",
       "      <th>3</th>\n",
       "      <td>3</td>\n",
       "      <td>0.153846</td>\n",
       "    </tr>\n",
       "  </tbody>\n",
       "</table>\n",
       "</div>"
      ],
      "text/plain": [
       "   SibSp  Survived\n",
       "1      1  0.535885\n",
       "2      2  0.423077\n",
       "0      0  0.345395\n",
       "4      4  0.166667\n",
       "3      3  0.153846"
      ]
     },
     "execution_count": 42,
     "metadata": {},
     "output_type": "execute_result"
    }
   ],
   "source": [
    "train[[\"Survived\",\"SibSp\"]].groupby(\"SibSp\",as_index=False).mean().sort_values(by=\"Survived\",ascending = False)"
   ]
  },
  {
   "cell_type": "code",
   "execution_count": 43,
   "id": "1a548a73",
   "metadata": {},
   "outputs": [
    {
     "data": {
      "text/plain": [
       "Text(0, 0.5, 'Survived Probability')"
      ]
     },
     "execution_count": 43,
     "metadata": {},
     "output_type": "execute_result"
    },
    {
     "data": {
      "image/png": "[encoded data removed]",
      "text/plain": [
       "<Figure size 432x288 with 1 Axes>"
      ]
     },
     "metadata": {},
     "output_type": "display_data"
    }
   ],
   "source": [
    "sns.barplot(x=\"SibSp\",y=\"Survived\",data=train)\n",
    "plt.title(\"Survived Probability by SibSp\")\n",
    "plt.ylabel(\"Survived Probability\")"
   ]
  },
  {
   "cell_type": "code",
   "execution_count": 44,
   "id": "babc0b47",
   "metadata": {},
   "outputs": [
    {
     "data": {
      "text/plain": [
       "0    678\n",
       "1    118\n",
       "2     63\n",
       "3      5\n",
       "5      5\n",
       "4      4\n",
       "6      1\n",
       "Name: Parch, dtype: int64"
      ]
     },
     "execution_count": 44,
     "metadata": {},
     "output_type": "execute_result"
    }
   ],
   "source": [
    "train[\"Parch\"].value_counts(dropna=False)"
   ]
  },
  {
   "cell_type": "code",
   "execution_count": 45,
   "id": "250f62e4",
   "metadata": {},
   "outputs": [
    {
     "data": {
      "text/html": [
       "<div>\n",
       "<style scoped>\n",
       "    .dataframe tbody tr th:only-of-type {\n",
       "        vertical-align: middle;\n",
       "    }\n",
       "\n",
       "    .dataframe tbody tr th {\n",
       "        vertical-align: top;\n",
       "    }\n",
       "\n",
       "    .dataframe thead th {\n",
       "        text-align: right;\n",
       "    }\n",
       "</style>\n",
       "<table border=\"1\" class=\"dataframe\">\n",
       "  <thead>\n",
       "    <tr style=\"text-align: right;\">\n",
       "      <th></th>\n",
       "      <th>Parch</th>\n",
       "      <th>Survived</th>\n",
       "    </tr>\n",
       "  </thead>\n",
       "  <tbody>\n",
       "    <tr>\n",
       "      <th>3</th>\n",
       "      <td>3</td>\n",
       "      <td>0.600000</td>\n",
       "    </tr>\n",
       "    <tr>\n",
       "      <th>2</th>\n",
       "      <td>2</td>\n",
       "      <td>0.571429</td>\n",
       "    </tr>\n",
       "    <tr>\n",
       "      <th>1</th>\n",
       "      <td>1</td>\n",
       "      <td>0.550847</td>\n",
       "    </tr>\n",
       "    <tr>\n",
       "      <th>0</th>\n",
       "      <td>0</td>\n",
       "      <td>0.343658</td>\n",
       "    </tr>\n",
       "    <tr>\n",
       "      <th>5</th>\n",
       "      <td>5</td>\n",
       "      <td>0.200000</td>\n",
       "    </tr>\n",
       "    <tr>\n",
       "      <th>4</th>\n",
       "      <td>4</td>\n",
       "      <td>0.000000</td>\n",
       "    </tr>\n",
       "    <tr>\n",
       "      <th>6</th>\n",
       "      <td>6</td>\n",
       "      <td>0.000000</td>\n",
       "    </tr>\n",
       "  </tbody>\n",
       "</table>\n",
       "</div>"
      ],
      "text/plain": [
       "   Parch  Survived\n",
       "3      3  0.600000\n",
       "2      2  0.571429\n",
       "1      1  0.550847\n",
       "0      0  0.343658\n",
       "5      5  0.200000\n",
       "4      4  0.000000\n",
       "6      6  0.000000"
      ]
     },
     "execution_count": 45,
     "metadata": {},
     "output_type": "execute_result"
    }
   ],
   "source": [
    "train[[\"Survived\",\"Parch\"]].groupby(\"Parch\",as_index=False).mean().sort_values(by=\"Survived\",ascending = False)"
   ]
  },
  {
   "cell_type": "code",
   "execution_count": 46,
   "id": "b8ef9a16",
   "metadata": {},
   "outputs": [
    {
     "data": {
      "text/plain": [
       "Text(0, 0.5, 'Survived Probability')"
      ]
     },
     "execution_count": 46,
     "metadata": {},
     "output_type": "execute_result"
    },
    {
     "data": {
      "image/png": "[encoded data removed]",
      "text/plain": [
       "<Figure size 432x288 with 1 Axes>"
      ]
     },
     "metadata": {},
     "output_type": "display_data"
    }
   ],
   "source": [
    "sns.barplot(x=\"Parch\",y=\"Survived\",data=train)\n",
    "plt.title(\"Survived Probability by Parch\")\n",
    "plt.ylabel(\"Survived Probability\")"
   ]
  },
  {
   "cell_type": "code",
   "execution_count": 47,
   "id": "5e82c68b",
   "metadata": {
    "scrolled": true
   },
   "outputs": [
    {
     "data": {
      "text/plain": [
       "170"
      ]
     },
     "execution_count": 47,
     "metadata": {},
     "output_type": "execute_result"
    }
   ],
   "source": [
    "train[\"Age\"].isnull().sum()"
   ]
  },
  {
   "cell_type": "code",
   "execution_count": 48,
   "id": "3446a5ad",
   "metadata": {},
   "outputs": [
    {
     "data": {
      "text/plain": [
       "Text(0.5, 1.0, 'passenger Age Distribution')"
      ]
     },
     "execution_count": 48,
     "metadata": {},
     "output_type": "execute_result"
    },
    {
     "data": {
      "image/png": "[encoded data removed]",
      "text/plain": [
       "<Figure size 360x360 with 1 Axes>"
      ]
     },
     "metadata": {},
     "output_type": "display_data"
    }
   ],
   "source": [
    "sns.displot(train[\"Age\"],label = \"skewness: %.2f\"%(train[\"Age\"].skew()))\n",
    "plt.legend(loc= \"best\")\n",
    "plt.title(\"passenger Age Distribution\")"
   ]
  },
  {
   "cell_type": "code",
   "execution_count": 49,
   "id": "0edf59c0",
   "metadata": {
    "scrolled": true
   },
   "outputs": [
    {
     "data": {
      "text/plain": [
       "<seaborn.axisgrid.FacetGrid at 0x7fb969a3a820>"
      ]
     },
     "execution_count": 49,
     "metadata": {},
     "output_type": "execute_result"
    },
    {
     "data": {
      "image/png": "[encoded data removed]",
      "text/plain": [
       "<Figure size 432x216 with 2 Axes>"
      ]
     },
     "metadata": {},
     "output_type": "display_data"
    }
   ],
   "source": [
    "# Age distribution by survival\n",
    "\n",
    "g = sns.FacetGrid(train, col = 'Survived')\n",
    "g.map(sns.distplot, 'Age')"
   ]
  },
  {
   "cell_type": "code",
   "execution_count": 50,
   "id": "56674dd6",
   "metadata": {
    "scrolled": true
   },
   "outputs": [
    {
     "data": {
      "text/plain": [
       "Text(0.5, 1.0, 'Passenger Age Distribution by Survival')"
      ]
     },
     "execution_count": 50,
     "metadata": {},
     "output_type": "execute_result"
    },
    {
     "data": {
      "image/png": "[encoded data removed]",
      "text/plain": [
       "<Figure size 432x288 with 1 Axes>"
      ]
     },
     "metadata": {},
     "output_type": "display_data"
    }
   ],
   "source": [
    "sns.kdeplot(train['Age'][train['Survived'] == 0], label = 'Did not survive')\n",
    "sns.kdeplot(train['Age'][train['Survived'] == 1], label = 'Survived')\n",
    "plt.xlabel('Age')\n",
    "plt.title('Passenger Age Distribution by Survival')"
   ]
  },
  {
   "cell_type": "code",
   "execution_count": 51,
   "id": "d576910d",
   "metadata": {
    "scrolled": false
   },
   "outputs": [
    {
     "data": {
      "text/plain": [
       "0"
      ]
     },
     "execution_count": 51,
     "metadata": {},
     "output_type": "execute_result"
    }
   ],
   "source": [
    "train[\"Fare\"].isnull().sum()"
   ]
  },
  {
   "cell_type": "code",
   "execution_count": 52,
   "id": "d1228d9f",
   "metadata": {
    "scrolled": false
   },
   "outputs": [
    {
     "data": {
      "text/plain": [
       "Text(0, 0.5, 'Passenger Fare Distribution')"
      ]
     },
     "execution_count": 52,
     "metadata": {},
     "output_type": "execute_result"
    },
    {
     "data": {
      "image/png": "[encoded data removed]",
      "text/plain": [
       "<Figure size 432x288 with 1 Axes>"
      ]
     },
     "metadata": {},
     "output_type": "display_data"
    }
   ],
   "source": [
    "# Passenger fare distribution\n",
    "sns.set_style(\"white\")\n",
    "sns.distplot(train['Fare'], label = 'Skewness: %.2f'%(train['Fare'].skew()))\n",
    "plt.legend(loc = 'best')\n",
    "plt.ylabel('Passenger Fare Distribution')"
   ]
  },
  {
   "cell_type": "markdown",
   "id": "6fad50fb",
   "metadata": {},
   "source": [
    "# 4. Data preprocessing "
   ]
  },
  {
   "cell_type": "code",
   "execution_count": 53,
   "id": "76b35c5b",
   "metadata": {
    "scrolled": false
   },
   "outputs": [
    {
     "data": {
      "text/plain": [
       "PassengerId      0\n",
       "Survived         0\n",
       "Pclass           0\n",
       "Name             0\n",
       "Sex              0\n",
       "Age            170\n",
       "SibSp            0\n",
       "Parch            0\n",
       "Ticket           0\n",
       "Fare             0\n",
       "Cabin          675\n",
       "Embarked         2\n",
       "dtype: int64"
      ]
     },
     "execution_count": 53,
     "metadata": {},
     "output_type": "execute_result"
    }
   ],
   "source": [
    "train.isnull().sum()"
   ]
  },
  {
   "cell_type": "code",
   "execution_count": 54,
   "id": "eaf7f42e",
   "metadata": {},
   "outputs": [
    {
     "data": {
      "text/plain": [
       "<AxesSubplot:>"
      ]
     },
     "execution_count": 54,
     "metadata": {},
     "output_type": "execute_result"
    },
    {
     "data": {
      "image/png": "[encoded data removed]",
      "text/plain": [
       "<Figure size 432x288 with 1 Axes>"
      ]
     },
     "metadata": {},
     "output_type": "display_data"
    }
   ],
   "source": [
    "# we will see the mising data in which coulmn by the heatmap graph \n",
    "sns.heatmap(train.isnull(),yticklabels=False,cbar=False,cmap=\"viridis\") "
   ]
  },
  {
   "cell_type": "code",
   "execution_count": 55,
   "id": "027ec69f",
   "metadata": {},
   "outputs": [
    {
     "data": {
      "text/plain": [
       "PassengerId      0\n",
       "Pclass           0\n",
       "Name             0\n",
       "Sex              0\n",
       "Age             86\n",
       "SibSp            0\n",
       "Parch            0\n",
       "Ticket           0\n",
       "Fare             1\n",
       "Cabin          327\n",
       "Embarked         0\n",
       "dtype: int64"
      ]
     },
     "execution_count": 55,
     "metadata": {},
     "output_type": "execute_result"
    }
   ],
   "source": [
    "test.isnull().sum()"
   ]
  },
  {
   "cell_type": "code",
   "execution_count": 56,
   "id": "597f92a8",
   "metadata": {
    "scrolled": true
   },
   "outputs": [
    {
     "data": {
      "text/plain": [
       "<AxesSubplot:>"
      ]
     },
     "execution_count": 56,
     "metadata": {},
     "output_type": "execute_result"
    },
    {
     "data": {
      "image/png": "[encoded data removed]",
      "text/plain": [
       "<Figure size 432x288 with 1 Axes>"
      ]
     },
     "metadata": {},
     "output_type": "display_data"
    }
   ],
   "source": [
    "sns.heatmap(test.isnull(),yticklabels=False,cbar=False,cmap=\"viridis\") \n"
   ]
  },
  {
   "cell_type": "code",
   "execution_count": 57,
   "id": "97f79766",
   "metadata": {},
   "outputs": [
    {
     "data": {
      "text/html": [
       "<div>\n",
       "<style scoped>\n",
       "    .dataframe tbody tr th:only-of-type {\n",
       "        vertical-align: middle;\n",
       "    }\n",
       "\n",
       "    .dataframe tbody tr th {\n",
       "        vertical-align: top;\n",
       "    }\n",
       "\n",
       "    .dataframe thead th {\n",
       "        text-align: right;\n",
       "    }\n",
       "</style>\n",
       "<table border=\"1\" class=\"dataframe\">\n",
       "  <thead>\n",
       "    <tr style=\"text-align: right;\">\n",
       "      <th></th>\n",
       "      <th>PassengerId</th>\n",
       "      <th>Survived</th>\n",
       "      <th>Pclass</th>\n",
       "      <th>Name</th>\n",
       "      <th>Sex</th>\n",
       "      <th>Age</th>\n",
       "      <th>SibSp</th>\n",
       "      <th>Parch</th>\n",
       "      <th>Ticket</th>\n",
       "      <th>Fare</th>\n",
       "      <th>Cabin</th>\n",
       "      <th>Embarked</th>\n",
       "    </tr>\n",
       "  </thead>\n",
       "  <tbody>\n",
       "    <tr>\n",
       "      <th>0</th>\n",
       "      <td>1</td>\n",
       "      <td>0</td>\n",
       "      <td>3</td>\n",
       "      <td>Braund, Mr. Owen Harris</td>\n",
       "      <td>male</td>\n",
       "      <td>22.0</td>\n",
       "      <td>1</td>\n",
       "      <td>0</td>\n",
       "      <td>A/5 21171</td>\n",
       "      <td>7.2500</td>\n",
       "      <td>NaN</td>\n",
       "      <td>S</td>\n",
       "    </tr>\n",
       "    <tr>\n",
       "      <th>1</th>\n",
       "      <td>2</td>\n",
       "      <td>1</td>\n",
       "      <td>1</td>\n",
       "      <td>Cumings, Mrs. John Bradley (Florence Briggs Th...</td>\n",
       "      <td>female</td>\n",
       "      <td>38.0</td>\n",
       "      <td>1</td>\n",
       "      <td>0</td>\n",
       "      <td>PC 17599</td>\n",
       "      <td>71.2833</td>\n",
       "      <td>C85</td>\n",
       "      <td>C</td>\n",
       "    </tr>\n",
       "    <tr>\n",
       "      <th>2</th>\n",
       "      <td>3</td>\n",
       "      <td>1</td>\n",
       "      <td>3</td>\n",
       "      <td>Heikkinen, Miss. Laina</td>\n",
       "      <td>female</td>\n",
       "      <td>26.0</td>\n",
       "      <td>0</td>\n",
       "      <td>0</td>\n",
       "      <td>STON/O2. 3101282</td>\n",
       "      <td>7.9250</td>\n",
       "      <td>NaN</td>\n",
       "      <td>S</td>\n",
       "    </tr>\n",
       "    <tr>\n",
       "      <th>3</th>\n",
       "      <td>4</td>\n",
       "      <td>1</td>\n",
       "      <td>1</td>\n",
       "      <td>Futrelle, Mrs. Jacques Heath (Lily May Peel)</td>\n",
       "      <td>female</td>\n",
       "      <td>35.0</td>\n",
       "      <td>1</td>\n",
       "      <td>0</td>\n",
       "      <td>113803</td>\n",
       "      <td>53.1000</td>\n",
       "      <td>C123</td>\n",
       "      <td>S</td>\n",
       "    </tr>\n",
       "    <tr>\n",
       "      <th>4</th>\n",
       "      <td>5</td>\n",
       "      <td>0</td>\n",
       "      <td>3</td>\n",
       "      <td>Allen, Mr. William Henry</td>\n",
       "      <td>male</td>\n",
       "      <td>35.0</td>\n",
       "      <td>0</td>\n",
       "      <td>0</td>\n",
       "      <td>373450</td>\n",
       "      <td>8.0500</td>\n",
       "      <td>NaN</td>\n",
       "      <td>S</td>\n",
       "    </tr>\n",
       "  </tbody>\n",
       "</table>\n",
       "</div>"
      ],
      "text/plain": [
       "   PassengerId  Survived  Pclass  \\\n",
       "0            1         0       3   \n",
       "1            2         1       1   \n",
       "2            3         1       3   \n",
       "3            4         1       1   \n",
       "4            5         0       3   \n",
       "\n",
       "                                                Name     Sex   Age  SibSp  \\\n",
       "0                            Braund, Mr. Owen Harris    male  22.0      1   \n",
       "1  Cumings, Mrs. John Bradley (Florence Briggs Th...  female  38.0      1   \n",
       "2                             Heikkinen, Miss. Laina  female  26.0      0   \n",
       "3       Futrelle, Mrs. Jacques Heath (Lily May Peel)  female  35.0      1   \n",
       "4                           Allen, Mr. William Henry    male  35.0      0   \n",
       "\n",
       "   Parch            Ticket     Fare Cabin Embarked  \n",
       "0      0         A/5 21171   7.2500   NaN        S  \n",
       "1      0          PC 17599  71.2833   C85        C  \n",
       "2      0  STON/O2. 3101282   7.9250   NaN        S  \n",
       "3      0            113803  53.1000  C123        S  \n",
       "4      0            373450   8.0500   NaN        S  "
      ]
     },
     "execution_count": 57,
     "metadata": {},
     "output_type": "execute_result"
    }
   ],
   "source": [
    "train.head()"
   ]
  },
  {
   "cell_type": "code",
   "execution_count": 58,
   "id": "b821089f",
   "metadata": {},
   "outputs": [],
   "source": [
    "## drop Ticket and Cabin colums \n",
    "\n",
    "train.drop(['Ticket', 'Cabin'], axis = 1 , inplace=True)\n",
    "test.drop(['Ticket', 'Cabin'], axis = 1 , inplace=True)\n",
    "\n"
   ]
  },
  {
   "cell_type": "code",
   "execution_count": 59,
   "id": "ad494f94",
   "metadata": {},
   "outputs": [],
   "source": [
    "train = train\n",
    "test = test"
   ]
  },
  {
   "cell_type": "code",
   "execution_count": 60,
   "id": "b1ec3304",
   "metadata": {
    "scrolled": true
   },
   "outputs": [
    {
     "data": {
      "text/html": [
       "<div>\n",
       "<style scoped>\n",
       "    .dataframe tbody tr th:only-of-type {\n",
       "        vertical-align: middle;\n",
       "    }\n",
       "\n",
       "    .dataframe tbody tr th {\n",
       "        vertical-align: top;\n",
       "    }\n",
       "\n",
       "    .dataframe thead th {\n",
       "        text-align: right;\n",
       "    }\n",
       "</style>\n",
       "<table border=\"1\" class=\"dataframe\">\n",
       "  <thead>\n",
       "    <tr style=\"text-align: right;\">\n",
       "      <th></th>\n",
       "      <th>PassengerId</th>\n",
       "      <th>Survived</th>\n",
       "      <th>Pclass</th>\n",
       "      <th>Name</th>\n",
       "      <th>Sex</th>\n",
       "      <th>Age</th>\n",
       "      <th>SibSp</th>\n",
       "      <th>Parch</th>\n",
       "      <th>Fare</th>\n",
       "      <th>Embarked</th>\n",
       "    </tr>\n",
       "  </thead>\n",
       "  <tbody>\n",
       "    <tr>\n",
       "      <th>0</th>\n",
       "      <td>1</td>\n",
       "      <td>0</td>\n",
       "      <td>3</td>\n",
       "      <td>Braund, Mr. Owen Harris</td>\n",
       "      <td>male</td>\n",
       "      <td>22.0</td>\n",
       "      <td>1</td>\n",
       "      <td>0</td>\n",
       "      <td>7.2500</td>\n",
       "      <td>S</td>\n",
       "    </tr>\n",
       "    <tr>\n",
       "      <th>1</th>\n",
       "      <td>2</td>\n",
       "      <td>1</td>\n",
       "      <td>1</td>\n",
       "      <td>Cumings, Mrs. John Bradley (Florence Briggs Th...</td>\n",
       "      <td>female</td>\n",
       "      <td>38.0</td>\n",
       "      <td>1</td>\n",
       "      <td>0</td>\n",
       "      <td>71.2833</td>\n",
       "      <td>C</td>\n",
       "    </tr>\n",
       "    <tr>\n",
       "      <th>2</th>\n",
       "      <td>3</td>\n",
       "      <td>1</td>\n",
       "      <td>3</td>\n",
       "      <td>Heikkinen, Miss. Laina</td>\n",
       "      <td>female</td>\n",
       "      <td>26.0</td>\n",
       "      <td>0</td>\n",
       "      <td>0</td>\n",
       "      <td>7.9250</td>\n",
       "      <td>S</td>\n",
       "    </tr>\n",
       "    <tr>\n",
       "      <th>3</th>\n",
       "      <td>4</td>\n",
       "      <td>1</td>\n",
       "      <td>1</td>\n",
       "      <td>Futrelle, Mrs. Jacques Heath (Lily May Peel)</td>\n",
       "      <td>female</td>\n",
       "      <td>35.0</td>\n",
       "      <td>1</td>\n",
       "      <td>0</td>\n",
       "      <td>53.1000</td>\n",
       "      <td>S</td>\n",
       "    </tr>\n",
       "    <tr>\n",
       "      <th>4</th>\n",
       "      <td>5</td>\n",
       "      <td>0</td>\n",
       "      <td>3</td>\n",
       "      <td>Allen, Mr. William Henry</td>\n",
       "      <td>male</td>\n",
       "      <td>35.0</td>\n",
       "      <td>0</td>\n",
       "      <td>0</td>\n",
       "      <td>8.0500</td>\n",
       "      <td>S</td>\n",
       "    </tr>\n",
       "  </tbody>\n",
       "</table>\n",
       "</div>"
      ],
      "text/plain": [
       "   PassengerId  Survived  Pclass  \\\n",
       "0            1         0       3   \n",
       "1            2         1       1   \n",
       "2            3         1       3   \n",
       "3            4         1       1   \n",
       "4            5         0       3   \n",
       "\n",
       "                                                Name     Sex   Age  SibSp  \\\n",
       "0                            Braund, Mr. Owen Harris    male  22.0      1   \n",
       "1  Cumings, Mrs. John Bradley (Florence Briggs Th...  female  38.0      1   \n",
       "2                             Heikkinen, Miss. Laina  female  26.0      0   \n",
       "3       Futrelle, Mrs. Jacques Heath (Lily May Peel)  female  35.0      1   \n",
       "4                           Allen, Mr. William Henry    male  35.0      0   \n",
       "\n",
       "   Parch     Fare Embarked  \n",
       "0      0   7.2500        S  \n",
       "1      0  71.2833        C  \n",
       "2      0   7.9250        S  \n",
       "3      0  53.1000        S  \n",
       "4      0   8.0500        S  "
      ]
     },
     "execution_count": 60,
     "metadata": {},
     "output_type": "execute_result"
    }
   ],
   "source": [
    "train.head()"
   ]
  },
  {
   "cell_type": "code",
   "execution_count": 61,
   "id": "e9b7cd90",
   "metadata": {},
   "outputs": [
    {
     "data": {
      "text/html": [
       "<div>\n",
       "<style scoped>\n",
       "    .dataframe tbody tr th:only-of-type {\n",
       "        vertical-align: middle;\n",
       "    }\n",
       "\n",
       "    .dataframe tbody tr th {\n",
       "        vertical-align: top;\n",
       "    }\n",
       "\n",
       "    .dataframe thead th {\n",
       "        text-align: right;\n",
       "    }\n",
       "</style>\n",
       "<table border=\"1\" class=\"dataframe\">\n",
       "  <thead>\n",
       "    <tr style=\"text-align: right;\">\n",
       "      <th></th>\n",
       "      <th>PassengerId</th>\n",
       "      <th>Pclass</th>\n",
       "      <th>Name</th>\n",
       "      <th>Sex</th>\n",
       "      <th>Age</th>\n",
       "      <th>SibSp</th>\n",
       "      <th>Parch</th>\n",
       "      <th>Fare</th>\n",
       "      <th>Embarked</th>\n",
       "    </tr>\n",
       "  </thead>\n",
       "  <tbody>\n",
       "    <tr>\n",
       "      <th>0</th>\n",
       "      <td>892</td>\n",
       "      <td>3</td>\n",
       "      <td>Kelly, Mr. James</td>\n",
       "      <td>male</td>\n",
       "      <td>34.5</td>\n",
       "      <td>0</td>\n",
       "      <td>0</td>\n",
       "      <td>7.8292</td>\n",
       "      <td>Q</td>\n",
       "    </tr>\n",
       "    <tr>\n",
       "      <th>1</th>\n",
       "      <td>893</td>\n",
       "      <td>3</td>\n",
       "      <td>Wilkes, Mrs. James (Ellen Needs)</td>\n",
       "      <td>female</td>\n",
       "      <td>47.0</td>\n",
       "      <td>1</td>\n",
       "      <td>0</td>\n",
       "      <td>7.0000</td>\n",
       "      <td>S</td>\n",
       "    </tr>\n",
       "    <tr>\n",
       "      <th>2</th>\n",
       "      <td>894</td>\n",
       "      <td>2</td>\n",
       "      <td>Myles, Mr. Thomas Francis</td>\n",
       "      <td>male</td>\n",
       "      <td>62.0</td>\n",
       "      <td>0</td>\n",
       "      <td>0</td>\n",
       "      <td>9.6875</td>\n",
       "      <td>Q</td>\n",
       "    </tr>\n",
       "    <tr>\n",
       "      <th>3</th>\n",
       "      <td>895</td>\n",
       "      <td>3</td>\n",
       "      <td>Wirz, Mr. Albert</td>\n",
       "      <td>male</td>\n",
       "      <td>27.0</td>\n",
       "      <td>0</td>\n",
       "      <td>0</td>\n",
       "      <td>8.6625</td>\n",
       "      <td>S</td>\n",
       "    </tr>\n",
       "    <tr>\n",
       "      <th>4</th>\n",
       "      <td>896</td>\n",
       "      <td>3</td>\n",
       "      <td>Hirvonen, Mrs. Alexander (Helga E Lindqvist)</td>\n",
       "      <td>female</td>\n",
       "      <td>22.0</td>\n",
       "      <td>1</td>\n",
       "      <td>1</td>\n",
       "      <td>12.2875</td>\n",
       "      <td>S</td>\n",
       "    </tr>\n",
       "  </tbody>\n",
       "</table>\n",
       "</div>"
      ],
      "text/plain": [
       "   PassengerId  Pclass                                          Name     Sex  \\\n",
       "0          892       3                              Kelly, Mr. James    male   \n",
       "1          893       3              Wilkes, Mrs. James (Ellen Needs)  female   \n",
       "2          894       2                     Myles, Mr. Thomas Francis    male   \n",
       "3          895       3                              Wirz, Mr. Albert    male   \n",
       "4          896       3  Hirvonen, Mrs. Alexander (Helga E Lindqvist)  female   \n",
       "\n",
       "    Age  SibSp  Parch     Fare Embarked  \n",
       "0  34.5      0      0   7.8292        Q  \n",
       "1  47.0      1      0   7.0000        S  \n",
       "2  62.0      0      0   9.6875        Q  \n",
       "3  27.0      0      0   8.6625        S  \n",
       "4  22.0      1      1  12.2875        S  "
      ]
     },
     "execution_count": 61,
     "metadata": {},
     "output_type": "execute_result"
    }
   ],
   "source": [
    "test.head()"
   ]
  },
  {
   "cell_type": "code",
   "execution_count": 62,
   "id": "bc330672",
   "metadata": {
    "scrolled": true
   },
   "outputs": [
    {
     "data": {
      "text/plain": [
       "Age            170\n",
       "Embarked         2\n",
       "PassengerId      0\n",
       "Survived         0\n",
       "Pclass           0\n",
       "Name             0\n",
       "Sex              0\n",
       "SibSp            0\n",
       "Parch            0\n",
       "Fare             0\n",
       "dtype: int64"
      ]
     },
     "execution_count": 62,
     "metadata": {},
     "output_type": "execute_result"
    }
   ],
   "source": [
    "train.isnull().sum().sort_values(ascending = False)"
   ]
  },
  {
   "cell_type": "code",
   "execution_count": 63,
   "id": "3b0cdcb1",
   "metadata": {
    "scrolled": false
   },
   "outputs": [
    {
     "data": {
      "text/plain": [
       "<AxesSubplot:xlabel='Pclass', ylabel='Age'>"
      ]
     },
     "execution_count": 63,
     "metadata": {},
     "output_type": "execute_result"
    },
    {
     "data": {
      "image/png": "[encoded data removed]",
      "text/plain": [
       "<Figure size 432x432 with 1 Axes>"
      ]
     },
     "metadata": {},
     "output_type": "display_data"
    }
   ],
   "source": [
    "# this is for train dataset\n",
    "sns.set_style(\"whitegrid\")\n",
    "plt.figure(figsize=(6,6))\n",
    "sns.boxplot(y=train[\"Age\"],x=train[\"Pclass\"])"
   ]
  },
  {
   "cell_type": "code",
   "execution_count": 64,
   "id": "9d4344e7",
   "metadata": {},
   "outputs": [
    {
     "name": "stdout",
     "output_type": "stream",
     "text": [
      "the avrage age in class 1 :  38.70950276243094\n",
      "the avrage age in class 2 :  29.87763005780347\n",
      "the avrage age in class 3 :  25.354057142857144\n"
     ]
    }
   ],
   "source": [
    "print(\"the avrage age in class 1 : \",train[\"Age\"][train[\"Pclass\"] == 1].mean())\n",
    "print(\"the avrage age in class 2 : \",train[\"Age\"][train[\"Pclass\"] == 2].mean())\n",
    "print(\"the avrage age in class 3 : \",train[\"Age\"][train[\"Pclass\"] == 3].mean())"
   ]
  },
  {
   "cell_type": "code",
   "execution_count": 65,
   "id": "9e2cc3fe",
   "metadata": {},
   "outputs": [
    {
     "data": {
      "text/plain": [
       "<AxesSubplot:xlabel='Pclass', ylabel='Age'>"
      ]
     },
     "execution_count": 65,
     "metadata": {},
     "output_type": "execute_result"
    },
    {
     "data": {
      "image/png": "[encoded data removed]",
      "text/plain": [
       "<Figure size 432x432 with 1 Axes>"
      ]
     },
     "metadata": {},
     "output_type": "display_data"
    }
   ],
   "source": [
    "#this is for test dataset \n",
    "sns.set_style(\"whitegrid\")\n",
    "plt.figure(figsize=(6,6))\n",
    "sns.boxplot(y=test[\"Age\"],x=test[\"Pclass\"])"
   ]
  },
  {
   "cell_type": "code",
   "execution_count": 66,
   "id": "b54d2854",
   "metadata": {
    "scrolled": true
   },
   "outputs": [
    {
     "name": "stdout",
     "output_type": "stream",
     "text": [
      "the avrage age in class 1 :  40.91836734693877\n",
      "the avrage age in class 2 :  28.7775\n",
      "the avrage age in class 3 :  24.02794520547945\n"
     ]
    }
   ],
   "source": [
    "print(\"the avrage age in class 1 : \",test[\"Age\"][test[\"Pclass\"] == 1].mean())\n",
    "print(\"the avrage age in class 2 : \",test[\"Age\"][test[\"Pclass\"] == 2].mean())\n",
    "print(\"the avrage age in class 3 : \",test[\"Age\"][test[\"Pclass\"] == 3].mean())"
   ]
  },
  {
   "cell_type": "code",
   "execution_count": 67,
   "id": "33b461bf",
   "metadata": {},
   "outputs": [],
   "source": [
    "#\n",
    "#def impute_age_train(cols):\n",
    "#    Age = cols[0]\n",
    "#    Pclass = cols[1]\n",
    "#    \n",
    "#    if pd.isnull(Age):\n",
    "#\n",
    "#        if Pclass == 1:\n",
    "#            return 38\n",
    "#\n",
    "#        elif Pclass == 2:\n",
    "#            return 30\n",
    "#\n",
    "#        else:\n",
    "#            return 25\n",
    "#\n",
    "#    else:\n",
    "#        return Age\n",
    "\n",
    "    \n",
    "#def impute_age_test(cols):\n",
    "#    Age = cols[0]\n",
    "#    Pclass = cols[1]\n",
    "    \n",
    "#    if pd.isnull(Age):\n",
    "\n",
    "#        if Pclass == 1:\n",
    "#            return 41\n",
    "\n",
    "#        elif Pclass == 2:\n",
    "#            return 29\n",
    "\n",
    "#        else:\n",
    "#            return 24\n",
    "\n",
    "#    else:\n",
    "#        return Age\n",
    "\n",
    "\n",
    "    "
   ]
  },
  {
   "cell_type": "code",
   "execution_count": 68,
   "id": "f088401e",
   "metadata": {
    "scrolled": true
   },
   "outputs": [
    {
     "data": {
      "text/html": [
       "<div>\n",
       "<style scoped>\n",
       "    .dataframe tbody tr th:only-of-type {\n",
       "        vertical-align: middle;\n",
       "    }\n",
       "\n",
       "    .dataframe tbody tr th {\n",
       "        vertical-align: top;\n",
       "    }\n",
       "\n",
       "    .dataframe thead th {\n",
       "        text-align: right;\n",
       "    }\n",
       "</style>\n",
       "<table border=\"1\" class=\"dataframe\">\n",
       "  <thead>\n",
       "    <tr style=\"text-align: right;\">\n",
       "      <th></th>\n",
       "      <th>PassengerId</th>\n",
       "      <th>Survived</th>\n",
       "      <th>Pclass</th>\n",
       "      <th>Name</th>\n",
       "      <th>Sex</th>\n",
       "      <th>Age</th>\n",
       "      <th>SibSp</th>\n",
       "      <th>Parch</th>\n",
       "      <th>Fare</th>\n",
       "      <th>Embarked</th>\n",
       "    </tr>\n",
       "  </thead>\n",
       "  <tbody>\n",
       "    <tr>\n",
       "      <th>0</th>\n",
       "      <td>1</td>\n",
       "      <td>0</td>\n",
       "      <td>3</td>\n",
       "      <td>Braund, Mr. Owen Harris</td>\n",
       "      <td>male</td>\n",
       "      <td>22.0</td>\n",
       "      <td>1</td>\n",
       "      <td>0</td>\n",
       "      <td>7.2500</td>\n",
       "      <td>S</td>\n",
       "    </tr>\n",
       "    <tr>\n",
       "      <th>1</th>\n",
       "      <td>2</td>\n",
       "      <td>1</td>\n",
       "      <td>1</td>\n",
       "      <td>Cumings, Mrs. John Bradley (Florence Briggs Th...</td>\n",
       "      <td>female</td>\n",
       "      <td>38.0</td>\n",
       "      <td>1</td>\n",
       "      <td>0</td>\n",
       "      <td>71.2833</td>\n",
       "      <td>C</td>\n",
       "    </tr>\n",
       "    <tr>\n",
       "      <th>2</th>\n",
       "      <td>3</td>\n",
       "      <td>1</td>\n",
       "      <td>3</td>\n",
       "      <td>Heikkinen, Miss. Laina</td>\n",
       "      <td>female</td>\n",
       "      <td>26.0</td>\n",
       "      <td>0</td>\n",
       "      <td>0</td>\n",
       "      <td>7.9250</td>\n",
       "      <td>S</td>\n",
       "    </tr>\n",
       "    <tr>\n",
       "      <th>3</th>\n",
       "      <td>4</td>\n",
       "      <td>1</td>\n",
       "      <td>1</td>\n",
       "      <td>Futrelle, Mrs. Jacques Heath (Lily May Peel)</td>\n",
       "      <td>female</td>\n",
       "      <td>35.0</td>\n",
       "      <td>1</td>\n",
       "      <td>0</td>\n",
       "      <td>53.1000</td>\n",
       "      <td>S</td>\n",
       "    </tr>\n",
       "    <tr>\n",
       "      <th>4</th>\n",
       "      <td>5</td>\n",
       "      <td>0</td>\n",
       "      <td>3</td>\n",
       "      <td>Allen, Mr. William Henry</td>\n",
       "      <td>male</td>\n",
       "      <td>35.0</td>\n",
       "      <td>0</td>\n",
       "      <td>0</td>\n",
       "      <td>8.0500</td>\n",
       "      <td>S</td>\n",
       "    </tr>\n",
       "  </tbody>\n",
       "</table>\n",
       "</div>"
      ],
      "text/plain": [
       "   PassengerId  Survived  Pclass  \\\n",
       "0            1         0       3   \n",
       "1            2         1       1   \n",
       "2            3         1       3   \n",
       "3            4         1       1   \n",
       "4            5         0       3   \n",
       "\n",
       "                                                Name     Sex   Age  SibSp  \\\n",
       "0                            Braund, Mr. Owen Harris    male  22.0      1   \n",
       "1  Cumings, Mrs. John Bradley (Florence Briggs Th...  female  38.0      1   \n",
       "2                             Heikkinen, Miss. Laina  female  26.0      0   \n",
       "3       Futrelle, Mrs. Jacques Heath (Lily May Peel)  female  35.0      1   \n",
       "4                           Allen, Mr. William Henry    male  35.0      0   \n",
       "\n",
       "   Parch     Fare Embarked  \n",
       "0      0   7.2500        S  \n",
       "1      0  71.2833        C  \n",
       "2      0   7.9250        S  \n",
       "3      0  53.1000        S  \n",
       "4      0   8.0500        S  "
      ]
     },
     "execution_count": 68,
     "metadata": {},
     "output_type": "execute_result"
    }
   ],
   "source": [
    "train.head()"
   ]
  },
  {
   "cell_type": "code",
   "execution_count": 69,
   "id": "63ef3bf3",
   "metadata": {
    "scrolled": true
   },
   "outputs": [],
   "source": [
    "#train.loc[(train[\"Age\"].isna().any() == True) and (train[\"Pclass\"] == 1) ,\"Age\"] = 38\n",
    "#train.loc[(train[\"Age\"].isna().any() == True) and (train[\"Pclass\"] == 2) ,\"Age\"] = 30\n",
    "#train.loc[(train[\"Age\"].isna().any() == True) and (train[\"Pclass\"] == 3) ,\"Age\"] = 25\n",
    "\n",
    "#test.loc[(test[\"Age\"].isna().any() == True) and (test[\"Pclass\"] == 1) ,\"Age\"] = 41\n",
    "#test.loc[(test[\"Age\"].isna().any() == True) and (test[\"Pclass\"] == 2) ,\"Age\"] = 29\n",
    "#test.loc[(test[\"Age\"].isna().any() == True) and (test[\"Pclass\"] == 3) ,\"Age\"] = 24\n",
    "\n",
    "\n",
    "\n",
    "\n",
    "\n",
    "\n",
    "#train[\"Age\"] = train.apply(impute_age_train([\"Age\",\"Pclass\"]),axis=1)\n",
    "#test[\"Age\"] = test[[\"Age\",\"Pclass\"]].apply(impute_age_test(),axis=1)"
   ]
  },
  {
   "cell_type": "code",
   "execution_count": 70,
   "id": "23e62508",
   "metadata": {
    "scrolled": true
   },
   "outputs": [
    {
     "data": {
      "text/plain": [
       "PassengerId      0\n",
       "Survived         0\n",
       "Pclass           0\n",
       "Name             0\n",
       "Sex              0\n",
       "Age            170\n",
       "SibSp            0\n",
       "Parch            0\n",
       "Fare             0\n",
       "Embarked         2\n",
       "dtype: int64"
      ]
     },
     "execution_count": 70,
     "metadata": {},
     "output_type": "execute_result"
    }
   ],
   "source": [
    "train.isnull().sum()"
   ]
  },
  {
   "cell_type": "code",
   "execution_count": 71,
   "id": "d9dc41f9",
   "metadata": {},
   "outputs": [
    {
     "data": {
      "text/plain": [
       "PassengerId     0\n",
       "Pclass          0\n",
       "Name            0\n",
       "Sex             0\n",
       "Age            86\n",
       "SibSp           0\n",
       "Parch           0\n",
       "Fare            1\n",
       "Embarked        0\n",
       "dtype: int64"
      ]
     },
     "execution_count": 71,
     "metadata": {},
     "output_type": "execute_result"
    }
   ],
   "source": [
    "test.isnull().sum()"
   ]
  },
  {
   "cell_type": "code",
   "execution_count": 72,
   "id": "5630e7b6",
   "metadata": {
    "scrolled": true
   },
   "outputs": [
    {
     "data": {
      "text/html": [
       "<div>\n",
       "<style scoped>\n",
       "    .dataframe tbody tr th:only-of-type {\n",
       "        vertical-align: middle;\n",
       "    }\n",
       "\n",
       "    .dataframe tbody tr th {\n",
       "        vertical-align: top;\n",
       "    }\n",
       "\n",
       "    .dataframe thead th {\n",
       "        text-align: right;\n",
       "    }\n",
       "</style>\n",
       "<table border=\"1\" class=\"dataframe\">\n",
       "  <thead>\n",
       "    <tr style=\"text-align: right;\">\n",
       "      <th></th>\n",
       "      <th>PassengerId</th>\n",
       "      <th>Survived</th>\n",
       "      <th>Pclass</th>\n",
       "      <th>Name</th>\n",
       "      <th>Sex</th>\n",
       "      <th>Age</th>\n",
       "      <th>SibSp</th>\n",
       "      <th>Parch</th>\n",
       "      <th>Fare</th>\n",
       "      <th>Embarked</th>\n",
       "    </tr>\n",
       "  </thead>\n",
       "  <tbody>\n",
       "    <tr>\n",
       "      <th>0</th>\n",
       "      <td>1</td>\n",
       "      <td>0</td>\n",
       "      <td>3</td>\n",
       "      <td>Braund, Mr. Owen Harris</td>\n",
       "      <td>male</td>\n",
       "      <td>22.0</td>\n",
       "      <td>1</td>\n",
       "      <td>0</td>\n",
       "      <td>7.2500</td>\n",
       "      <td>S</td>\n",
       "    </tr>\n",
       "    <tr>\n",
       "      <th>1</th>\n",
       "      <td>2</td>\n",
       "      <td>1</td>\n",
       "      <td>1</td>\n",
       "      <td>Cumings, Mrs. John Bradley (Florence Briggs Th...</td>\n",
       "      <td>female</td>\n",
       "      <td>38.0</td>\n",
       "      <td>1</td>\n",
       "      <td>0</td>\n",
       "      <td>71.2833</td>\n",
       "      <td>C</td>\n",
       "    </tr>\n",
       "    <tr>\n",
       "      <th>2</th>\n",
       "      <td>3</td>\n",
       "      <td>1</td>\n",
       "      <td>3</td>\n",
       "      <td>Heikkinen, Miss. Laina</td>\n",
       "      <td>female</td>\n",
       "      <td>26.0</td>\n",
       "      <td>0</td>\n",
       "      <td>0</td>\n",
       "      <td>7.9250</td>\n",
       "      <td>S</td>\n",
       "    </tr>\n",
       "    <tr>\n",
       "      <th>3</th>\n",
       "      <td>4</td>\n",
       "      <td>1</td>\n",
       "      <td>1</td>\n",
       "      <td>Futrelle, Mrs. Jacques Heath (Lily May Peel)</td>\n",
       "      <td>female</td>\n",
       "      <td>35.0</td>\n",
       "      <td>1</td>\n",
       "      <td>0</td>\n",
       "      <td>53.1000</td>\n",
       "      <td>S</td>\n",
       "    </tr>\n",
       "    <tr>\n",
       "      <th>4</th>\n",
       "      <td>5</td>\n",
       "      <td>0</td>\n",
       "      <td>3</td>\n",
       "      <td>Allen, Mr. William Henry</td>\n",
       "      <td>male</td>\n",
       "      <td>35.0</td>\n",
       "      <td>0</td>\n",
       "      <td>0</td>\n",
       "      <td>8.0500</td>\n",
       "      <td>S</td>\n",
       "    </tr>\n",
       "  </tbody>\n",
       "</table>\n",
       "</div>"
      ],
      "text/plain": [
       "   PassengerId  Survived  Pclass  \\\n",
       "0            1         0       3   \n",
       "1            2         1       1   \n",
       "2            3         1       3   \n",
       "3            4         1       1   \n",
       "4            5         0       3   \n",
       "\n",
       "                                                Name     Sex   Age  SibSp  \\\n",
       "0                            Braund, Mr. Owen Harris    male  22.0      1   \n",
       "1  Cumings, Mrs. John Bradley (Florence Briggs Th...  female  38.0      1   \n",
       "2                             Heikkinen, Miss. Laina  female  26.0      0   \n",
       "3       Futrelle, Mrs. Jacques Heath (Lily May Peel)  female  35.0      1   \n",
       "4                           Allen, Mr. William Henry    male  35.0      0   \n",
       "\n",
       "   Parch     Fare Embarked  \n",
       "0      0   7.2500        S  \n",
       "1      0  71.2833        C  \n",
       "2      0   7.9250        S  \n",
       "3      0  53.1000        S  \n",
       "4      0   8.0500        S  "
      ]
     },
     "execution_count": 72,
     "metadata": {},
     "output_type": "execute_result"
    }
   ],
   "source": [
    "train.head()"
   ]
  },
  {
   "cell_type": "code",
   "execution_count": 73,
   "id": "13581211",
   "metadata": {
    "scrolled": false
   },
   "outputs": [
    {
     "data": {
      "text/html": [
       "<div>\n",
       "<style scoped>\n",
       "    .dataframe tbody tr th:only-of-type {\n",
       "        vertical-align: middle;\n",
       "    }\n",
       "\n",
       "    .dataframe tbody tr th {\n",
       "        vertical-align: top;\n",
       "    }\n",
       "\n",
       "    .dataframe thead th {\n",
       "        text-align: right;\n",
       "    }\n",
       "</style>\n",
       "<table border=\"1\" class=\"dataframe\">\n",
       "  <thead>\n",
       "    <tr style=\"text-align: right;\">\n",
       "      <th></th>\n",
       "      <th>PassengerId</th>\n",
       "      <th>Pclass</th>\n",
       "      <th>Name</th>\n",
       "      <th>Sex</th>\n",
       "      <th>Age</th>\n",
       "      <th>SibSp</th>\n",
       "      <th>Parch</th>\n",
       "      <th>Fare</th>\n",
       "      <th>Embarked</th>\n",
       "    </tr>\n",
       "  </thead>\n",
       "  <tbody>\n",
       "    <tr>\n",
       "      <th>0</th>\n",
       "      <td>892</td>\n",
       "      <td>3</td>\n",
       "      <td>Kelly, Mr. James</td>\n",
       "      <td>male</td>\n",
       "      <td>34.5</td>\n",
       "      <td>0</td>\n",
       "      <td>0</td>\n",
       "      <td>7.8292</td>\n",
       "      <td>Q</td>\n",
       "    </tr>\n",
       "    <tr>\n",
       "      <th>1</th>\n",
       "      <td>893</td>\n",
       "      <td>3</td>\n",
       "      <td>Wilkes, Mrs. James (Ellen Needs)</td>\n",
       "      <td>female</td>\n",
       "      <td>47.0</td>\n",
       "      <td>1</td>\n",
       "      <td>0</td>\n",
       "      <td>7.0000</td>\n",
       "      <td>S</td>\n",
       "    </tr>\n",
       "    <tr>\n",
       "      <th>2</th>\n",
       "      <td>894</td>\n",
       "      <td>2</td>\n",
       "      <td>Myles, Mr. Thomas Francis</td>\n",
       "      <td>male</td>\n",
       "      <td>62.0</td>\n",
       "      <td>0</td>\n",
       "      <td>0</td>\n",
       "      <td>9.6875</td>\n",
       "      <td>Q</td>\n",
       "    </tr>\n",
       "    <tr>\n",
       "      <th>3</th>\n",
       "      <td>895</td>\n",
       "      <td>3</td>\n",
       "      <td>Wirz, Mr. Albert</td>\n",
       "      <td>male</td>\n",
       "      <td>27.0</td>\n",
       "      <td>0</td>\n",
       "      <td>0</td>\n",
       "      <td>8.6625</td>\n",
       "      <td>S</td>\n",
       "    </tr>\n",
       "    <tr>\n",
       "      <th>4</th>\n",
       "      <td>896</td>\n",
       "      <td>3</td>\n",
       "      <td>Hirvonen, Mrs. Alexander (Helga E Lindqvist)</td>\n",
       "      <td>female</td>\n",
       "      <td>22.0</td>\n",
       "      <td>1</td>\n",
       "      <td>1</td>\n",
       "      <td>12.2875</td>\n",
       "      <td>S</td>\n",
       "    </tr>\n",
       "  </tbody>\n",
       "</table>\n",
       "</div>"
      ],
      "text/plain": [
       "   PassengerId  Pclass                                          Name     Sex  \\\n",
       "0          892       3                              Kelly, Mr. James    male   \n",
       "1          893       3              Wilkes, Mrs. James (Ellen Needs)  female   \n",
       "2          894       2                     Myles, Mr. Thomas Francis    male   \n",
       "3          895       3                              Wirz, Mr. Albert    male   \n",
       "4          896       3  Hirvonen, Mrs. Alexander (Helga E Lindqvist)  female   \n",
       "\n",
       "    Age  SibSp  Parch     Fare Embarked  \n",
       "0  34.5      0      0   7.8292        Q  \n",
       "1  47.0      1      0   7.0000        S  \n",
       "2  62.0      0      0   9.6875        Q  \n",
       "3  27.0      0      0   8.6625        S  \n",
       "4  22.0      1      1  12.2875        S  "
      ]
     },
     "execution_count": 73,
     "metadata": {},
     "output_type": "execute_result"
    }
   ],
   "source": [
    "test.head()"
   ]
  },
  {
   "cell_type": "code",
   "execution_count": 74,
   "id": "f8b553cd",
   "metadata": {},
   "outputs": [],
   "source": [
    "## compute the most frequent of Embarked in training set \n",
    "\n",
    "mode = train[\"Embarked\"].mode()[0]\n"
   ]
  },
  {
   "cell_type": "code",
   "execution_count": 75,
   "id": "31778b46",
   "metadata": {},
   "outputs": [],
   "source": [
    "train[\"Embarked\"].fillna(mode,inplace=True)"
   ]
  },
  {
   "cell_type": "code",
   "execution_count": 76,
   "id": "5894ab9f",
   "metadata": {
    "scrolled": true
   },
   "outputs": [
    {
     "data": {
      "text/plain": [
       "PassengerId      0\n",
       "Survived         0\n",
       "Pclass           0\n",
       "Name             0\n",
       "Sex              0\n",
       "Age            170\n",
       "SibSp            0\n",
       "Parch            0\n",
       "Fare             0\n",
       "Embarked         0\n",
       "dtype: int64"
      ]
     },
     "execution_count": 76,
     "metadata": {},
     "output_type": "execute_result"
    }
   ],
   "source": [
    "train.isnull().sum()"
   ]
  },
  {
   "cell_type": "code",
   "execution_count": 77,
   "id": "873e5500",
   "metadata": {},
   "outputs": [
    {
     "data": {
      "text/plain": [
       "PassengerId     0\n",
       "Pclass          0\n",
       "Name            0\n",
       "Sex             0\n",
       "Age            86\n",
       "SibSp           0\n",
       "Parch           0\n",
       "Fare            1\n",
       "Embarked        0\n",
       "dtype: int64"
      ]
     },
     "execution_count": 77,
     "metadata": {},
     "output_type": "execute_result"
    }
   ],
   "source": [
    "test.isnull().sum()"
   ]
  },
  {
   "cell_type": "code",
   "execution_count": 78,
   "id": "9691555c",
   "metadata": {},
   "outputs": [
    {
     "data": {
      "text/plain": [
       "14.4542"
      ]
     },
     "execution_count": 78,
     "metadata": {},
     "output_type": "execute_result"
    }
   ],
   "source": [
    "# fill the missing value of Fare column in tset dataset to median \n",
    "median = test[\"Fare\"].median()\n",
    "median"
   ]
  },
  {
   "cell_type": "code",
   "execution_count": 79,
   "id": "10de90e8",
   "metadata": {},
   "outputs": [],
   "source": [
    "test[\"Fare\"].fillna(median,inplace=True)"
   ]
  },
  {
   "cell_type": "code",
   "execution_count": 80,
   "id": "0db44dde",
   "metadata": {
    "scrolled": true
   },
   "outputs": [
    {
     "data": {
      "text/plain": [
       "PassengerId     0\n",
       "Pclass          0\n",
       "Name            0\n",
       "Sex             0\n",
       "Age            86\n",
       "SibSp           0\n",
       "Parch           0\n",
       "Fare            0\n",
       "Embarked        0\n",
       "dtype: int64"
      ]
     },
     "execution_count": 80,
     "metadata": {},
     "output_type": "execute_result"
    }
   ],
   "source": [
    "test.isnull().sum()"
   ]
  },
  {
   "cell_type": "code",
   "execution_count": 81,
   "id": "129c1f2f",
   "metadata": {},
   "outputs": [
    {
     "data": {
      "text/html": [
       "<div>\n",
       "<style scoped>\n",
       "    .dataframe tbody tr th:only-of-type {\n",
       "        vertical-align: middle;\n",
       "    }\n",
       "\n",
       "    .dataframe tbody tr th {\n",
       "        vertical-align: top;\n",
       "    }\n",
       "\n",
       "    .dataframe thead th {\n",
       "        text-align: right;\n",
       "    }\n",
       "</style>\n",
       "<table border=\"1\" class=\"dataframe\">\n",
       "  <thead>\n",
       "    <tr style=\"text-align: right;\">\n",
       "      <th></th>\n",
       "      <th>PassengerId</th>\n",
       "      <th>Survived</th>\n",
       "      <th>Pclass</th>\n",
       "      <th>Name</th>\n",
       "      <th>Sex</th>\n",
       "      <th>Age</th>\n",
       "      <th>SibSp</th>\n",
       "      <th>Parch</th>\n",
       "      <th>Fare</th>\n",
       "      <th>Embarked</th>\n",
       "    </tr>\n",
       "  </thead>\n",
       "  <tbody>\n",
       "    <tr>\n",
       "      <th>0</th>\n",
       "      <td>1</td>\n",
       "      <td>0.0</td>\n",
       "      <td>3</td>\n",
       "      <td>Braund, Mr. Owen Harris</td>\n",
       "      <td>male</td>\n",
       "      <td>22.0</td>\n",
       "      <td>1</td>\n",
       "      <td>0</td>\n",
       "      <td>7.2500</td>\n",
       "      <td>S</td>\n",
       "    </tr>\n",
       "    <tr>\n",
       "      <th>1</th>\n",
       "      <td>2</td>\n",
       "      <td>1.0</td>\n",
       "      <td>1</td>\n",
       "      <td>Cumings, Mrs. John Bradley (Florence Briggs Th...</td>\n",
       "      <td>female</td>\n",
       "      <td>38.0</td>\n",
       "      <td>1</td>\n",
       "      <td>0</td>\n",
       "      <td>71.2833</td>\n",
       "      <td>C</td>\n",
       "    </tr>\n",
       "    <tr>\n",
       "      <th>2</th>\n",
       "      <td>3</td>\n",
       "      <td>1.0</td>\n",
       "      <td>3</td>\n",
       "      <td>Heikkinen, Miss. Laina</td>\n",
       "      <td>female</td>\n",
       "      <td>26.0</td>\n",
       "      <td>0</td>\n",
       "      <td>0</td>\n",
       "      <td>7.9250</td>\n",
       "      <td>S</td>\n",
       "    </tr>\n",
       "    <tr>\n",
       "      <th>3</th>\n",
       "      <td>4</td>\n",
       "      <td>1.0</td>\n",
       "      <td>1</td>\n",
       "      <td>Futrelle, Mrs. Jacques Heath (Lily May Peel)</td>\n",
       "      <td>female</td>\n",
       "      <td>35.0</td>\n",
       "      <td>1</td>\n",
       "      <td>0</td>\n",
       "      <td>53.1000</td>\n",
       "      <td>S</td>\n",
       "    </tr>\n",
       "    <tr>\n",
       "      <th>4</th>\n",
       "      <td>5</td>\n",
       "      <td>0.0</td>\n",
       "      <td>3</td>\n",
       "      <td>Allen, Mr. William Henry</td>\n",
       "      <td>male</td>\n",
       "      <td>35.0</td>\n",
       "      <td>0</td>\n",
       "      <td>0</td>\n",
       "      <td>8.0500</td>\n",
       "      <td>S</td>\n",
       "    </tr>\n",
       "  </tbody>\n",
       "</table>\n",
       "</div>"
      ],
      "text/plain": [
       "   PassengerId  Survived  Pclass  \\\n",
       "0            1       0.0       3   \n",
       "1            2       1.0       1   \n",
       "2            3       1.0       3   \n",
       "3            4       1.0       1   \n",
       "4            5       0.0       3   \n",
       "\n",
       "                                                Name     Sex   Age  SibSp  \\\n",
       "0                            Braund, Mr. Owen Harris    male  22.0      1   \n",
       "1  Cumings, Mrs. John Bradley (Florence Briggs Th...  female  38.0      1   \n",
       "2                             Heikkinen, Miss. Laina  female  26.0      0   \n",
       "3       Futrelle, Mrs. Jacques Heath (Lily May Peel)  female  35.0      1   \n",
       "4                           Allen, Mr. William Henry    male  35.0      0   \n",
       "\n",
       "   Parch     Fare Embarked  \n",
       "0      0   7.2500        S  \n",
       "1      0  71.2833        C  \n",
       "2      0   7.9250        S  \n",
       "3      0  53.1000        S  \n",
       "4      0   8.0500        S  "
      ]
     },
     "execution_count": 81,
     "metadata": {},
     "output_type": "execute_result"
    }
   ],
   "source": [
    "# combine train dataset and test in one dataframe \n",
    "combine = pd.concat([train,test],axis=0).reset_index(drop=True) \n",
    "\n",
    "combine.head()"
   ]
  },
  {
   "cell_type": "code",
   "execution_count": 82,
   "id": "99dd2a28",
   "metadata": {},
   "outputs": [
    {
     "data": {
      "text/plain": [
       "PassengerId      0\n",
       "Survived       418\n",
       "Pclass           0\n",
       "Name             0\n",
       "Sex              0\n",
       "Age            256\n",
       "SibSp            0\n",
       "Parch            0\n",
       "Fare             0\n",
       "Embarked         0\n",
       "dtype: int64"
      ]
     },
     "execution_count": 82,
     "metadata": {},
     "output_type": "execute_result"
    }
   ],
   "source": [
    "combine.isnull().sum()"
   ]
  },
  {
   "cell_type": "code",
   "execution_count": 83,
   "id": "2a24782e",
   "metadata": {
    "scrolled": true
   },
   "outputs": [
    {
     "name": "stdout",
     "output_type": "stream",
     "text": [
      "the avrage age in class 1 :  39.48537634408602\n",
      "the avrage age in class 2 :  29.506704980842912\n",
      "the avrage age in class 3 :  24.963709677419356\n"
     ]
    }
   ],
   "source": [
    "print(\"the avrage age in class 1 : \",combine[\"Age\"][combine[\"Pclass\"] == 1].mean())\n",
    "print(\"the avrage age in class 2 : \",combine[\"Age\"][combine[\"Pclass\"] == 2].mean())\n",
    "print(\"the avrage age in class 3 : \",combine[\"Age\"][combine[\"Pclass\"] == 3].mean())"
   ]
  },
  {
   "cell_type": "code",
   "execution_count": 84,
   "id": "24a52b59",
   "metadata": {},
   "outputs": [
    {
     "data": {
      "text/plain": [
       "<AxesSubplot:xlabel='Pclass', ylabel='Age'>"
      ]
     },
     "execution_count": 84,
     "metadata": {},
     "output_type": "execute_result"
    },
    {
     "data": {
      "image/png": "[encoded data removed]",
      "text/plain": [
       "<Figure size 432x432 with 1 Axes>"
      ]
     },
     "metadata": {},
     "output_type": "display_data"
    }
   ],
   "source": [
    "#this is for test dataset \n",
    "sns.set_style(\"whitegrid\")\n",
    "plt.figure(figsize=(6,6))\n",
    "sns.boxplot(y=combine[\"Age\"],x=combine[\"Pclass\"])"
   ]
  },
  {
   "cell_type": "code",
   "execution_count": 85,
   "id": "c6cb7f6c",
   "metadata": {},
   "outputs": [],
   "source": [
    "#combine.loc[(combine[\"Age\"].isna().any() == True) and (combine[\"Pclass\"] == 1) ,\"Age\"] = 39\n",
    "#combine.loc[(combine[\"Age\"].isna().any() == True) and (combine[\"Pclass\"] == 2) ,\"Age\"] = 30\n",
    "#combine.loc[(combine[\"Age\"].isna().any() == True) and (combine[\"Pclass\"] == 3) ,\"Age\"] = 25"
   ]
  },
  {
   "cell_type": "code",
   "execution_count": 86,
   "id": "b530de83",
   "metadata": {},
   "outputs": [
    {
     "data": {
      "text/plain": [
       "256"
      ]
     },
     "execution_count": 86,
     "metadata": {},
     "output_type": "execute_result"
    }
   ],
   "source": [
    "age_nan_indices = list(combine[combine['Age'].isnull()].index)\n",
    "len(age_nan_indices)"
   ]
  },
  {
   "cell_type": "markdown",
   "id": "37b03429",
   "metadata": {},
   "source": [
    "##### Loop through each missing age in the list to locate the rows that have the same SibSp, Parch and PClass values and fill the missing age with the median of those rows. If rows are not found, simply fill the missing age with the median of the entire Age column."
   ]
  },
  {
   "cell_type": "code",
   "execution_count": 87,
   "id": "b0877229",
   "metadata": {},
   "outputs": [],
   "source": [
    "# Loop through list and impute missing ages\n",
    "\n",
    "for index in age_nan_indices:\n",
    "    median_age = combine['Age'].median()\n",
    "    predict_age = combine['Age'][(combine['SibSp'] == combine.iloc[index]['SibSp']) \n",
    "                                 & (combine['Parch'] == combine.iloc[index]['Parch'])\n",
    "                                 & (combine['Pclass'] == combine.iloc[index][\"Pclass\"])].median()\n",
    "    if np.isnan(predict_age):\n",
    "        combine['Age'].iloc[index] = median_age\n",
    "    else:\n",
    "        combine['Age'].iloc[index] = predict_age"
   ]
  },
  {
   "cell_type": "code",
   "execution_count": 88,
   "id": "dfbb1fb5",
   "metadata": {},
   "outputs": [
    {
     "data": {
      "text/plain": [
       "PassengerId      0\n",
       "Survived       418\n",
       "Pclass           0\n",
       "Name             0\n",
       "Sex              0\n",
       "Age              0\n",
       "SibSp            0\n",
       "Parch            0\n",
       "Fare             0\n",
       "Embarked         0\n",
       "dtype: int64"
      ]
     },
     "execution_count": 88,
     "metadata": {},
     "output_type": "execute_result"
    }
   ],
   "source": [
    "combine.isnull().sum()"
   ]
  },
  {
   "cell_type": "code",
   "execution_count": 89,
   "id": "256fd9a4",
   "metadata": {},
   "outputs": [],
   "source": [
    "# convert Sex column to numeric \n",
    "\n",
    "combine[\"Sex\"] = combine[\"Sex\"].map({\"male\":0,\"female\":1})"
   ]
  },
  {
   "cell_type": "code",
   "execution_count": 90,
   "id": "75fe45d3",
   "metadata": {
    "scrolled": true
   },
   "outputs": [
    {
     "data": {
      "text/html": [
       "<div>\n",
       "<style scoped>\n",
       "    .dataframe tbody tr th:only-of-type {\n",
       "        vertical-align: middle;\n",
       "    }\n",
       "\n",
       "    .dataframe tbody tr th {\n",
       "        vertical-align: top;\n",
       "    }\n",
       "\n",
       "    .dataframe thead th {\n",
       "        text-align: right;\n",
       "    }\n",
       "</style>\n",
       "<table border=\"1\" class=\"dataframe\">\n",
       "  <thead>\n",
       "    <tr style=\"text-align: right;\">\n",
       "      <th></th>\n",
       "      <th>PassengerId</th>\n",
       "      <th>Survived</th>\n",
       "      <th>Pclass</th>\n",
       "      <th>Name</th>\n",
       "      <th>Sex</th>\n",
       "      <th>Age</th>\n",
       "      <th>SibSp</th>\n",
       "      <th>Parch</th>\n",
       "      <th>Fare</th>\n",
       "      <th>Embarked</th>\n",
       "    </tr>\n",
       "  </thead>\n",
       "  <tbody>\n",
       "    <tr>\n",
       "      <th>0</th>\n",
       "      <td>1</td>\n",
       "      <td>0.0</td>\n",
       "      <td>3</td>\n",
       "      <td>Braund, Mr. Owen Harris</td>\n",
       "      <td>0</td>\n",
       "      <td>22.0</td>\n",
       "      <td>1</td>\n",
       "      <td>0</td>\n",
       "      <td>7.2500</td>\n",
       "      <td>S</td>\n",
       "    </tr>\n",
       "    <tr>\n",
       "      <th>1</th>\n",
       "      <td>2</td>\n",
       "      <td>1.0</td>\n",
       "      <td>1</td>\n",
       "      <td>Cumings, Mrs. John Bradley (Florence Briggs Th...</td>\n",
       "      <td>1</td>\n",
       "      <td>38.0</td>\n",
       "      <td>1</td>\n",
       "      <td>0</td>\n",
       "      <td>71.2833</td>\n",
       "      <td>C</td>\n",
       "    </tr>\n",
       "    <tr>\n",
       "      <th>2</th>\n",
       "      <td>3</td>\n",
       "      <td>1.0</td>\n",
       "      <td>3</td>\n",
       "      <td>Heikkinen, Miss. Laina</td>\n",
       "      <td>1</td>\n",
       "      <td>26.0</td>\n",
       "      <td>0</td>\n",
       "      <td>0</td>\n",
       "      <td>7.9250</td>\n",
       "      <td>S</td>\n",
       "    </tr>\n",
       "    <tr>\n",
       "      <th>3</th>\n",
       "      <td>4</td>\n",
       "      <td>1.0</td>\n",
       "      <td>1</td>\n",
       "      <td>Futrelle, Mrs. Jacques Heath (Lily May Peel)</td>\n",
       "      <td>1</td>\n",
       "      <td>35.0</td>\n",
       "      <td>1</td>\n",
       "      <td>0</td>\n",
       "      <td>53.1000</td>\n",
       "      <td>S</td>\n",
       "    </tr>\n",
       "    <tr>\n",
       "      <th>4</th>\n",
       "      <td>5</td>\n",
       "      <td>0.0</td>\n",
       "      <td>3</td>\n",
       "      <td>Allen, Mr. William Henry</td>\n",
       "      <td>0</td>\n",
       "      <td>35.0</td>\n",
       "      <td>0</td>\n",
       "      <td>0</td>\n",
       "      <td>8.0500</td>\n",
       "      <td>S</td>\n",
       "    </tr>\n",
       "  </tbody>\n",
       "</table>\n",
       "</div>"
      ],
      "text/plain": [
       "   PassengerId  Survived  Pclass  \\\n",
       "0            1       0.0       3   \n",
       "1            2       1.0       1   \n",
       "2            3       1.0       3   \n",
       "3            4       1.0       1   \n",
       "4            5       0.0       3   \n",
       "\n",
       "                                                Name  Sex   Age  SibSp  Parch  \\\n",
       "0                            Braund, Mr. Owen Harris    0  22.0      1      0   \n",
       "1  Cumings, Mrs. John Bradley (Florence Briggs Th...    1  38.0      1      0   \n",
       "2                             Heikkinen, Miss. Laina    1  26.0      0      0   \n",
       "3       Futrelle, Mrs. Jacques Heath (Lily May Peel)    1  35.0      1      0   \n",
       "4                           Allen, Mr. William Henry    0  35.0      0      0   \n",
       "\n",
       "      Fare Embarked  \n",
       "0   7.2500        S  \n",
       "1  71.2833        C  \n",
       "2   7.9250        S  \n",
       "3  53.1000        S  \n",
       "4   8.0500        S  "
      ]
     },
     "execution_count": 90,
     "metadata": {},
     "output_type": "execute_result"
    }
   ],
   "source": [
    "combine.head()"
   ]
  },
  {
   "cell_type": "markdown",
   "id": "9ca18a70",
   "metadata": {},
   "source": [
    "## Data transformation\n",
    "\n",
    "\n",
    "#### Recall that our passenger fare column has a very high positive skewness. Therefore, we will apply a log transformation to address this issue.\n"
   ]
  },
  {
   "cell_type": "code",
   "execution_count": 91,
   "id": "1d82da00",
   "metadata": {},
   "outputs": [
    {
     "data": {
      "text/plain": [
       "Text(0.5, 1.0, 'Passenger Fare Distribution')"
      ]
     },
     "execution_count": 91,
     "metadata": {},
     "output_type": "execute_result"
    },
    {
     "data": {
      "image/png": "[encoded data removed]",
      "text/plain": [
       "<Figure size 432x288 with 1 Axes>"
      ]
     },
     "metadata": {},
     "output_type": "display_data"
    }
   ],
   "source": [
    "# Passenger fare distribution\n",
    "\n",
    "sns.distplot(combine['Fare'], label = 'Skewness: %.2f'%(combine['Fare'].skew()))\n",
    "plt.legend(loc = 'best')\n",
    "plt.title('Passenger Fare Distribution')\n",
    "\n"
   ]
  },
  {
   "cell_type": "code",
   "execution_count": 92,
   "id": "e91cb7df",
   "metadata": {},
   "outputs": [],
   "source": [
    "combine[\"Fare\"] = combine[\"Fare\"].map(lambda x : np.log(x) if x > 0 else 0)"
   ]
  },
  {
   "cell_type": "code",
   "execution_count": 93,
   "id": "8b8b918c",
   "metadata": {},
   "outputs": [
    {
     "data": {
      "text/plain": [
       "Text(0.5, 1.0, 'Passenger Fare Distribution')"
      ]
     },
     "execution_count": 93,
     "metadata": {},
     "output_type": "execute_result"
    },
    {
     "data": {
      "image/png": "[encoded data removed]",
      "text/plain": [
       "<Figure size 432x288 with 1 Axes>"
      ]
     },
     "metadata": {},
     "output_type": "display_data"
    }
   ],
   "source": [
    "# Passenger fare distribution\n",
    "\n",
    "sns.distplot(combine['Fare'], label = 'Skewness: %.2f'%(combine['Fare'].skew()))\n",
    "plt.legend(loc = 'best')\n",
    "plt.title('Passenger Fare Distribution')\n"
   ]
  },
  {
   "cell_type": "markdown",
   "id": "827c7909",
   "metadata": {},
   "source": [
    "##  4. Feature engineering"
   ]
  },
  {
   "cell_type": "code",
   "execution_count": 94,
   "id": "70afcfa3",
   "metadata": {
    "scrolled": true
   },
   "outputs": [
    {
     "data": {
      "text/html": [
       "<div>\n",
       "<style scoped>\n",
       "    .dataframe tbody tr th:only-of-type {\n",
       "        vertical-align: middle;\n",
       "    }\n",
       "\n",
       "    .dataframe tbody tr th {\n",
       "        vertical-align: top;\n",
       "    }\n",
       "\n",
       "    .dataframe thead th {\n",
       "        text-align: right;\n",
       "    }\n",
       "</style>\n",
       "<table border=\"1\" class=\"dataframe\">\n",
       "  <thead>\n",
       "    <tr style=\"text-align: right;\">\n",
       "      <th></th>\n",
       "      <th>PassengerId</th>\n",
       "      <th>Survived</th>\n",
       "      <th>Pclass</th>\n",
       "      <th>Name</th>\n",
       "      <th>Sex</th>\n",
       "      <th>Age</th>\n",
       "      <th>SibSp</th>\n",
       "      <th>Parch</th>\n",
       "      <th>Fare</th>\n",
       "      <th>Embarked</th>\n",
       "    </tr>\n",
       "  </thead>\n",
       "  <tbody>\n",
       "    <tr>\n",
       "      <th>0</th>\n",
       "      <td>1</td>\n",
       "      <td>0.0</td>\n",
       "      <td>3</td>\n",
       "      <td>Braund, Mr. Owen Harris</td>\n",
       "      <td>0</td>\n",
       "      <td>22.0</td>\n",
       "      <td>1</td>\n",
       "      <td>0</td>\n",
       "      <td>1.981001</td>\n",
       "      <td>S</td>\n",
       "    </tr>\n",
       "    <tr>\n",
       "      <th>1</th>\n",
       "      <td>2</td>\n",
       "      <td>1.0</td>\n",
       "      <td>1</td>\n",
       "      <td>Cumings, Mrs. John Bradley (Florence Briggs Th...</td>\n",
       "      <td>1</td>\n",
       "      <td>38.0</td>\n",
       "      <td>1</td>\n",
       "      <td>0</td>\n",
       "      <td>4.266662</td>\n",
       "      <td>C</td>\n",
       "    </tr>\n",
       "    <tr>\n",
       "      <th>2</th>\n",
       "      <td>3</td>\n",
       "      <td>1.0</td>\n",
       "      <td>3</td>\n",
       "      <td>Heikkinen, Miss. Laina</td>\n",
       "      <td>1</td>\n",
       "      <td>26.0</td>\n",
       "      <td>0</td>\n",
       "      <td>0</td>\n",
       "      <td>2.070022</td>\n",
       "      <td>S</td>\n",
       "    </tr>\n",
       "    <tr>\n",
       "      <th>3</th>\n",
       "      <td>4</td>\n",
       "      <td>1.0</td>\n",
       "      <td>1</td>\n",
       "      <td>Futrelle, Mrs. Jacques Heath (Lily May Peel)</td>\n",
       "      <td>1</td>\n",
       "      <td>35.0</td>\n",
       "      <td>1</td>\n",
       "      <td>0</td>\n",
       "      <td>3.972177</td>\n",
       "      <td>S</td>\n",
       "    </tr>\n",
       "    <tr>\n",
       "      <th>4</th>\n",
       "      <td>5</td>\n",
       "      <td>0.0</td>\n",
       "      <td>3</td>\n",
       "      <td>Allen, Mr. William Henry</td>\n",
       "      <td>0</td>\n",
       "      <td>35.0</td>\n",
       "      <td>0</td>\n",
       "      <td>0</td>\n",
       "      <td>2.085672</td>\n",
       "      <td>S</td>\n",
       "    </tr>\n",
       "  </tbody>\n",
       "</table>\n",
       "</div>"
      ],
      "text/plain": [
       "   PassengerId  Survived  Pclass  \\\n",
       "0            1       0.0       3   \n",
       "1            2       1.0       1   \n",
       "2            3       1.0       3   \n",
       "3            4       1.0       1   \n",
       "4            5       0.0       3   \n",
       "\n",
       "                                                Name  Sex   Age  SibSp  Parch  \\\n",
       "0                            Braund, Mr. Owen Harris    0  22.0      1      0   \n",
       "1  Cumings, Mrs. John Bradley (Florence Briggs Th...    1  38.0      1      0   \n",
       "2                             Heikkinen, Miss. Laina    1  26.0      0      0   \n",
       "3       Futrelle, Mrs. Jacques Heath (Lily May Peel)    1  35.0      1      0   \n",
       "4                           Allen, Mr. William Henry    0  35.0      0      0   \n",
       "\n",
       "       Fare Embarked  \n",
       "0  1.981001        S  \n",
       "1  4.266662        C  \n",
       "2  2.070022        S  \n",
       "3  3.972177        S  \n",
       "4  2.085672        S  "
      ]
     },
     "execution_count": 94,
     "metadata": {},
     "output_type": "execute_result"
    }
   ],
   "source": [
    "combine.head()"
   ]
  },
  {
   "cell_type": "code",
   "execution_count": 95,
   "id": "9ddf1650",
   "metadata": {},
   "outputs": [
    {
     "data": {
      "text/html": [
       "<div>\n",
       "<style scoped>\n",
       "    .dataframe tbody tr th:only-of-type {\n",
       "        vertical-align: middle;\n",
       "    }\n",
       "\n",
       "    .dataframe tbody tr th {\n",
       "        vertical-align: top;\n",
       "    }\n",
       "\n",
       "    .dataframe thead th {\n",
       "        text-align: right;\n",
       "    }\n",
       "</style>\n",
       "<table border=\"1\" class=\"dataframe\">\n",
       "  <thead>\n",
       "    <tr style=\"text-align: right;\">\n",
       "      <th></th>\n",
       "      <th>Name</th>\n",
       "      <th>Title</th>\n",
       "    </tr>\n",
       "  </thead>\n",
       "  <tbody>\n",
       "    <tr>\n",
       "      <th>0</th>\n",
       "      <td>Braund, Mr. Owen Harris</td>\n",
       "      <td>Mr</td>\n",
       "    </tr>\n",
       "    <tr>\n",
       "      <th>1</th>\n",
       "      <td>Cumings, Mrs. John Bradley (Florence Briggs Th...</td>\n",
       "      <td>Mrs</td>\n",
       "    </tr>\n",
       "    <tr>\n",
       "      <th>2</th>\n",
       "      <td>Heikkinen, Miss. Laina</td>\n",
       "      <td>Miss</td>\n",
       "    </tr>\n",
       "    <tr>\n",
       "      <th>3</th>\n",
       "      <td>Futrelle, Mrs. Jacques Heath (Lily May Peel)</td>\n",
       "      <td>Mrs</td>\n",
       "    </tr>\n",
       "    <tr>\n",
       "      <th>4</th>\n",
       "      <td>Allen, Mr. William Henry</td>\n",
       "      <td>Mr</td>\n",
       "    </tr>\n",
       "    <tr>\n",
       "      <th>...</th>\n",
       "      <td>...</td>\n",
       "      <td>...</td>\n",
       "    </tr>\n",
       "    <tr>\n",
       "      <th>1287</th>\n",
       "      <td>Spector, Mr. Woolf</td>\n",
       "      <td>Mr</td>\n",
       "    </tr>\n",
       "    <tr>\n",
       "      <th>1288</th>\n",
       "      <td>Oliva y Ocana, Dona. Fermina</td>\n",
       "      <td>Dona</td>\n",
       "    </tr>\n",
       "    <tr>\n",
       "      <th>1289</th>\n",
       "      <td>Saether, Mr. Simon Sivertsen</td>\n",
       "      <td>Mr</td>\n",
       "    </tr>\n",
       "    <tr>\n",
       "      <th>1290</th>\n",
       "      <td>Ware, Mr. Frederick</td>\n",
       "      <td>Mr</td>\n",
       "    </tr>\n",
       "    <tr>\n",
       "      <th>1291</th>\n",
       "      <td>Peter, Master. Michael J</td>\n",
       "      <td>Master</td>\n",
       "    </tr>\n",
       "  </tbody>\n",
       "</table>\n",
       "<p>1292 rows × 2 columns</p>\n",
       "</div>"
      ],
      "text/plain": [
       "                                                   Name   Title\n",
       "0                               Braund, Mr. Owen Harris      Mr\n",
       "1     Cumings, Mrs. John Bradley (Florence Briggs Th...     Mrs\n",
       "2                                Heikkinen, Miss. Laina    Miss\n",
       "3          Futrelle, Mrs. Jacques Heath (Lily May Peel)     Mrs\n",
       "4                              Allen, Mr. William Henry      Mr\n",
       "...                                                 ...     ...\n",
       "1287                                 Spector, Mr. Woolf      Mr\n",
       "1288                       Oliva y Ocana, Dona. Fermina    Dona\n",
       "1289                       Saether, Mr. Simon Sivertsen      Mr\n",
       "1290                                Ware, Mr. Frederick      Mr\n",
       "1291                           Peter, Master. Michael J  Master\n",
       "\n",
       "[1292 rows x 2 columns]"
      ]
     },
     "execution_count": 95,
     "metadata": {},
     "output_type": "execute_result"
    }
   ],
   "source": [
    "# create new column called Title \n",
    "combine[\"Title\"] = [name.split(\",\")[1].split(\".\")[0].strip() for name in combine[\"Name\"] ]\n",
    "combine[[\"Name\",\"Title\"]]"
   ]
  },
  {
   "cell_type": "code",
   "execution_count": 96,
   "id": "31dbce94",
   "metadata": {},
   "outputs": [
    {
     "data": {
      "text/plain": [
       "Mr              752\n",
       "Miss            252\n",
       "Mrs             197\n",
       "Master           57\n",
       "Dr                8\n",
       "Rev               8\n",
       "Col               4\n",
       "Mlle              2\n",
       "Ms                2\n",
       "Major             2\n",
       "the Countess      1\n",
       "Lady              1\n",
       "Jonkheer          1\n",
       "Sir               1\n",
       "Don               1\n",
       "Dona              1\n",
       "Mme               1\n",
       "Capt              1\n",
       "Name: Title, dtype: int64"
      ]
     },
     "execution_count": 96,
     "metadata": {},
     "output_type": "execute_result"
    }
   ],
   "source": [
    "combine[\"Title\"].value_counts()"
   ]
  },
  {
   "cell_type": "code",
   "execution_count": 97,
   "id": "25b2a129",
   "metadata": {
    "scrolled": false
   },
   "outputs": [
    {
     "data": {
      "text/plain": [
       "18"
      ]
     },
     "execution_count": 97,
     "metadata": {},
     "output_type": "execute_result"
    }
   ],
   "source": [
    "combine[\"Title\"].nunique()"
   ]
  },
  {
   "cell_type": "code",
   "execution_count": 98,
   "id": "8b0d5784",
   "metadata": {},
   "outputs": [
    {
     "data": {
      "text/html": [
       "<div>\n",
       "<style scoped>\n",
       "    .dataframe tbody tr th:only-of-type {\n",
       "        vertical-align: middle;\n",
       "    }\n",
       "\n",
       "    .dataframe tbody tr th {\n",
       "        vertical-align: top;\n",
       "    }\n",
       "\n",
       "    .dataframe thead th {\n",
       "        text-align: right;\n",
       "    }\n",
       "</style>\n",
       "<table border=\"1\" class=\"dataframe\">\n",
       "  <thead>\n",
       "    <tr style=\"text-align: right;\">\n",
       "      <th>Sex</th>\n",
       "      <th>0</th>\n",
       "      <th>1</th>\n",
       "    </tr>\n",
       "    <tr>\n",
       "      <th>Title</th>\n",
       "      <th></th>\n",
       "      <th></th>\n",
       "    </tr>\n",
       "  </thead>\n",
       "  <tbody>\n",
       "    <tr>\n",
       "      <th>Capt</th>\n",
       "      <td>1</td>\n",
       "      <td>0</td>\n",
       "    </tr>\n",
       "    <tr>\n",
       "      <th>Col</th>\n",
       "      <td>4</td>\n",
       "      <td>0</td>\n",
       "    </tr>\n",
       "    <tr>\n",
       "      <th>Don</th>\n",
       "      <td>1</td>\n",
       "      <td>0</td>\n",
       "    </tr>\n",
       "    <tr>\n",
       "      <th>Dona</th>\n",
       "      <td>0</td>\n",
       "      <td>1</td>\n",
       "    </tr>\n",
       "    <tr>\n",
       "      <th>Dr</th>\n",
       "      <td>7</td>\n",
       "      <td>1</td>\n",
       "    </tr>\n",
       "    <tr>\n",
       "      <th>Jonkheer</th>\n",
       "      <td>1</td>\n",
       "      <td>0</td>\n",
       "    </tr>\n",
       "    <tr>\n",
       "      <th>Lady</th>\n",
       "      <td>0</td>\n",
       "      <td>1</td>\n",
       "    </tr>\n",
       "    <tr>\n",
       "      <th>Major</th>\n",
       "      <td>2</td>\n",
       "      <td>0</td>\n",
       "    </tr>\n",
       "    <tr>\n",
       "      <th>Master</th>\n",
       "      <td>57</td>\n",
       "      <td>0</td>\n",
       "    </tr>\n",
       "    <tr>\n",
       "      <th>Miss</th>\n",
       "      <td>0</td>\n",
       "      <td>252</td>\n",
       "    </tr>\n",
       "    <tr>\n",
       "      <th>Mlle</th>\n",
       "      <td>0</td>\n",
       "      <td>2</td>\n",
       "    </tr>\n",
       "    <tr>\n",
       "      <th>Mme</th>\n",
       "      <td>0</td>\n",
       "      <td>1</td>\n",
       "    </tr>\n",
       "    <tr>\n",
       "      <th>Mr</th>\n",
       "      <td>752</td>\n",
       "      <td>0</td>\n",
       "    </tr>\n",
       "    <tr>\n",
       "      <th>Mrs</th>\n",
       "      <td>0</td>\n",
       "      <td>197</td>\n",
       "    </tr>\n",
       "    <tr>\n",
       "      <th>Ms</th>\n",
       "      <td>0</td>\n",
       "      <td>2</td>\n",
       "    </tr>\n",
       "    <tr>\n",
       "      <th>Rev</th>\n",
       "      <td>8</td>\n",
       "      <td>0</td>\n",
       "    </tr>\n",
       "    <tr>\n",
       "      <th>Sir</th>\n",
       "      <td>1</td>\n",
       "      <td>0</td>\n",
       "    </tr>\n",
       "    <tr>\n",
       "      <th>the Countess</th>\n",
       "      <td>0</td>\n",
       "      <td>1</td>\n",
       "    </tr>\n",
       "  </tbody>\n",
       "</table>\n",
       "</div>"
      ],
      "text/plain": [
       "Sex             0    1\n",
       "Title                 \n",
       "Capt            1    0\n",
       "Col             4    0\n",
       "Don             1    0\n",
       "Dona            0    1\n",
       "Dr              7    1\n",
       "Jonkheer        1    0\n",
       "Lady            0    1\n",
       "Major           2    0\n",
       "Master         57    0\n",
       "Miss            0  252\n",
       "Mlle            0    2\n",
       "Mme             0    1\n",
       "Mr            752    0\n",
       "Mrs             0  197\n",
       "Ms              0    2\n",
       "Rev             8    0\n",
       "Sir             1    0\n",
       "the Countess    0    1"
      ]
     },
     "execution_count": 98,
     "metadata": {},
     "output_type": "execute_result"
    }
   ],
   "source": [
    "# \"male\":0,\"female\":1\n",
    "pd.crosstab(combine['Title'], combine['Sex'])\n"
   ]
  },
  {
   "cell_type": "code",
   "execution_count": 99,
   "id": "172d480d",
   "metadata": {},
   "outputs": [],
   "source": [
    "# Simplify title\n",
    "\n",
    "combine['Title'] = combine['Title'].replace(['Dr', 'Rev', 'Col', 'Major', 'Lady', 'Jonkheer', 'Don', 'Capt', 'the Countess',\n",
    "                                             'Sir', 'Dona'], 'Rare')\n",
    "combine['Title'] = combine['Title'].replace(['Mlle', 'Ms'], 'Miss')\n",
    "combine['Title'] = combine['Title'].replace('Mme', 'Mrs')\n",
    "\n"
   ]
  },
  {
   "cell_type": "code",
   "execution_count": 100,
   "id": "6f3f8a8a",
   "metadata": {},
   "outputs": [
    {
     "data": {
      "text/plain": [
       "<AxesSubplot:xlabel='Title', ylabel='count'>"
      ]
     },
     "execution_count": 100,
     "metadata": {},
     "output_type": "execute_result"
    },
    {
     "data": {
      "image/png": "[encoded data removed]",
      "text/plain": [
       "<Figure size 432x288 with 1 Axes>"
      ]
     },
     "metadata": {},
     "output_type": "display_data"
    }
   ],
   "source": [
    "sns.countplot(combine['Title'])\n"
   ]
  },
  {
   "cell_type": "code",
   "execution_count": 101,
   "id": "311242d8",
   "metadata": {
    "scrolled": true
   },
   "outputs": [
    {
     "data": {
      "text/html": [
       "<div>\n",
       "<style scoped>\n",
       "    .dataframe tbody tr th:only-of-type {\n",
       "        vertical-align: middle;\n",
       "    }\n",
       "\n",
       "    .dataframe tbody tr th {\n",
       "        vertical-align: top;\n",
       "    }\n",
       "\n",
       "    .dataframe thead th {\n",
       "        text-align: right;\n",
       "    }\n",
       "</style>\n",
       "<table border=\"1\" class=\"dataframe\">\n",
       "  <thead>\n",
       "    <tr style=\"text-align: right;\">\n",
       "      <th></th>\n",
       "      <th>Survived</th>\n",
       "    </tr>\n",
       "    <tr>\n",
       "      <th>Title</th>\n",
       "      <th></th>\n",
       "    </tr>\n",
       "  </thead>\n",
       "  <tbody>\n",
       "    <tr>\n",
       "      <th>Mrs</th>\n",
       "      <td>0.793651</td>\n",
       "    </tr>\n",
       "    <tr>\n",
       "      <th>Miss</th>\n",
       "      <td>0.711864</td>\n",
       "    </tr>\n",
       "    <tr>\n",
       "      <th>Master</th>\n",
       "      <td>0.638889</td>\n",
       "    </tr>\n",
       "    <tr>\n",
       "      <th>Rare</th>\n",
       "      <td>0.347826</td>\n",
       "    </tr>\n",
       "    <tr>\n",
       "      <th>Mr</th>\n",
       "      <td>0.158203</td>\n",
       "    </tr>\n",
       "  </tbody>\n",
       "</table>\n",
       "</div>"
      ],
      "text/plain": [
       "        Survived\n",
       "Title           \n",
       "Mrs     0.793651\n",
       "Miss    0.711864\n",
       "Master  0.638889\n",
       "Rare    0.347826\n",
       "Mr      0.158203"
      ]
     },
     "execution_count": 101,
     "metadata": {},
     "output_type": "execute_result"
    }
   ],
   "source": [
    "combine[[\"Survived\",\"Title\"]].groupby(\"Title\").mean().sort_values(by = \"Survived\",ascending = False)"
   ]
  },
  {
   "cell_type": "code",
   "execution_count": 102,
   "id": "d7f691c2",
   "metadata": {
    "scrolled": false
   },
   "outputs": [
    {
     "data": {
      "text/plain": [
       "Text(0.5, 1.0, 'Mean of survival by Title')"
      ]
     },
     "execution_count": 102,
     "metadata": {},
     "output_type": "execute_result"
    },
    {
     "data": {
      "image/png": "[encoded data removed]",
      "text/plain": [
       "<Figure size 360x360 with 1 Axes>"
      ]
     },
     "metadata": {},
     "output_type": "display_data"
    }
   ],
   "source": [
    "sns.factorplot(x = 'Title', y = 'Survived', data = combine, kind = 'bar')\n",
    "plt.ylabel('Survival Probability')\n",
    "plt.title('Mean of survival by Title')"
   ]
  },
  {
   "cell_type": "code",
   "execution_count": null,
   "id": "b0f0af1e",
   "metadata": {},
   "outputs": [],
   "source": []
  },
  {
   "cell_type": "code",
   "execution_count": 103,
   "id": "1d5b5830",
   "metadata": {},
   "outputs": [
    {
     "data": {
      "text/html": [
       "<div>\n",
       "<style scoped>\n",
       "    .dataframe tbody tr th:only-of-type {\n",
       "        vertical-align: middle;\n",
       "    }\n",
       "\n",
       "    .dataframe tbody tr th {\n",
       "        vertical-align: top;\n",
       "    }\n",
       "\n",
       "    .dataframe thead th {\n",
       "        text-align: right;\n",
       "    }\n",
       "</style>\n",
       "<table border=\"1\" class=\"dataframe\">\n",
       "  <thead>\n",
       "    <tr style=\"text-align: right;\">\n",
       "      <th></th>\n",
       "      <th>PassengerId</th>\n",
       "      <th>Survived</th>\n",
       "      <th>Pclass</th>\n",
       "      <th>Sex</th>\n",
       "      <th>Age</th>\n",
       "      <th>SibSp</th>\n",
       "      <th>Parch</th>\n",
       "      <th>Fare</th>\n",
       "      <th>Embarked</th>\n",
       "      <th>Title</th>\n",
       "    </tr>\n",
       "  </thead>\n",
       "  <tbody>\n",
       "    <tr>\n",
       "      <th>0</th>\n",
       "      <td>1</td>\n",
       "      <td>0.0</td>\n",
       "      <td>3</td>\n",
       "      <td>0</td>\n",
       "      <td>22.0</td>\n",
       "      <td>1</td>\n",
       "      <td>0</td>\n",
       "      <td>1.981001</td>\n",
       "      <td>S</td>\n",
       "      <td>Mr</td>\n",
       "    </tr>\n",
       "    <tr>\n",
       "      <th>1</th>\n",
       "      <td>2</td>\n",
       "      <td>1.0</td>\n",
       "      <td>1</td>\n",
       "      <td>1</td>\n",
       "      <td>38.0</td>\n",
       "      <td>1</td>\n",
       "      <td>0</td>\n",
       "      <td>4.266662</td>\n",
       "      <td>C</td>\n",
       "      <td>Mrs</td>\n",
       "    </tr>\n",
       "    <tr>\n",
       "      <th>2</th>\n",
       "      <td>3</td>\n",
       "      <td>1.0</td>\n",
       "      <td>3</td>\n",
       "      <td>1</td>\n",
       "      <td>26.0</td>\n",
       "      <td>0</td>\n",
       "      <td>0</td>\n",
       "      <td>2.070022</td>\n",
       "      <td>S</td>\n",
       "      <td>Miss</td>\n",
       "    </tr>\n",
       "    <tr>\n",
       "      <th>3</th>\n",
       "      <td>4</td>\n",
       "      <td>1.0</td>\n",
       "      <td>1</td>\n",
       "      <td>1</td>\n",
       "      <td>35.0</td>\n",
       "      <td>1</td>\n",
       "      <td>0</td>\n",
       "      <td>3.972177</td>\n",
       "      <td>S</td>\n",
       "      <td>Mrs</td>\n",
       "    </tr>\n",
       "    <tr>\n",
       "      <th>4</th>\n",
       "      <td>5</td>\n",
       "      <td>0.0</td>\n",
       "      <td>3</td>\n",
       "      <td>0</td>\n",
       "      <td>35.0</td>\n",
       "      <td>0</td>\n",
       "      <td>0</td>\n",
       "      <td>2.085672</td>\n",
       "      <td>S</td>\n",
       "      <td>Mr</td>\n",
       "    </tr>\n",
       "  </tbody>\n",
       "</table>\n",
       "</div>"
      ],
      "text/plain": [
       "   PassengerId  Survived  Pclass  Sex   Age  SibSp  Parch      Fare Embarked  \\\n",
       "0            1       0.0       3    0  22.0      1      0  1.981001        S   \n",
       "1            2       1.0       1    1  38.0      1      0  4.266662        C   \n",
       "2            3       1.0       3    1  26.0      0      0  2.070022        S   \n",
       "3            4       1.0       1    1  35.0      1      0  3.972177        S   \n",
       "4            5       0.0       3    0  35.0      0      0  2.085672        S   \n",
       "\n",
       "  Title  \n",
       "0    Mr  \n",
       "1   Mrs  \n",
       "2  Miss  \n",
       "3   Mrs  \n",
       "4    Mr  "
      ]
     },
     "execution_count": 103,
     "metadata": {},
     "output_type": "execute_result"
    }
   ],
   "source": [
    "# Drop name column\n",
    "\n",
    "combine = combine.drop('Name', axis = 1)\n",
    "combine.head()"
   ]
  },
  {
   "cell_type": "code",
   "execution_count": 104,
   "id": "35769f93",
   "metadata": {},
   "outputs": [
    {
     "data": {
      "text/html": [
       "<div>\n",
       "<style scoped>\n",
       "    .dataframe tbody tr th:only-of-type {\n",
       "        vertical-align: middle;\n",
       "    }\n",
       "\n",
       "    .dataframe tbody tr th {\n",
       "        vertical-align: top;\n",
       "    }\n",
       "\n",
       "    .dataframe thead th {\n",
       "        text-align: right;\n",
       "    }\n",
       "</style>\n",
       "<table border=\"1\" class=\"dataframe\">\n",
       "  <thead>\n",
       "    <tr style=\"text-align: right;\">\n",
       "      <th></th>\n",
       "      <th>SibSp</th>\n",
       "      <th>Parch</th>\n",
       "      <th>FamilySize</th>\n",
       "    </tr>\n",
       "  </thead>\n",
       "  <tbody>\n",
       "    <tr>\n",
       "      <th>0</th>\n",
       "      <td>1</td>\n",
       "      <td>0</td>\n",
       "      <td>2</td>\n",
       "    </tr>\n",
       "    <tr>\n",
       "      <th>1</th>\n",
       "      <td>1</td>\n",
       "      <td>0</td>\n",
       "      <td>2</td>\n",
       "    </tr>\n",
       "    <tr>\n",
       "      <th>2</th>\n",
       "      <td>0</td>\n",
       "      <td>0</td>\n",
       "      <td>1</td>\n",
       "    </tr>\n",
       "    <tr>\n",
       "      <th>3</th>\n",
       "      <td>1</td>\n",
       "      <td>0</td>\n",
       "      <td>2</td>\n",
       "    </tr>\n",
       "    <tr>\n",
       "      <th>4</th>\n",
       "      <td>0</td>\n",
       "      <td>0</td>\n",
       "      <td>1</td>\n",
       "    </tr>\n",
       "  </tbody>\n",
       "</table>\n",
       "</div>"
      ],
      "text/plain": [
       "   SibSp  Parch  FamilySize\n",
       "0      1      0           2\n",
       "1      1      0           2\n",
       "2      0      0           1\n",
       "3      1      0           2\n",
       "4      0      0           1"
      ]
     },
     "execution_count": 104,
     "metadata": {},
     "output_type": "execute_result"
    }
   ],
   "source": [
    "# create new column called FamilySize from SibSp and Parch columns \n",
    "\n",
    "combine[\"FamilySize\"] = combine[\"SibSp\"] + combine[\"Parch\"] +1 \n",
    "combine[[\"SibSp\",\"Parch\",\"FamilySize\"]].head()"
   ]
  },
  {
   "cell_type": "code",
   "execution_count": 105,
   "id": "8453b32d",
   "metadata": {},
   "outputs": [
    {
     "data": {
      "text/html": [
       "<div>\n",
       "<style scoped>\n",
       "    .dataframe tbody tr th:only-of-type {\n",
       "        vertical-align: middle;\n",
       "    }\n",
       "\n",
       "    .dataframe tbody tr th {\n",
       "        vertical-align: top;\n",
       "    }\n",
       "\n",
       "    .dataframe thead th {\n",
       "        text-align: right;\n",
       "    }\n",
       "</style>\n",
       "<table border=\"1\" class=\"dataframe\">\n",
       "  <thead>\n",
       "    <tr style=\"text-align: right;\">\n",
       "      <th></th>\n",
       "      <th>Survived</th>\n",
       "    </tr>\n",
       "    <tr>\n",
       "      <th>FamilySize</th>\n",
       "      <th></th>\n",
       "    </tr>\n",
       "  </thead>\n",
       "  <tbody>\n",
       "    <tr>\n",
       "      <th>4</th>\n",
       "      <td>0.724138</td>\n",
       "    </tr>\n",
       "    <tr>\n",
       "      <th>3</th>\n",
       "      <td>0.578431</td>\n",
       "    </tr>\n",
       "    <tr>\n",
       "      <th>2</th>\n",
       "      <td>0.552795</td>\n",
       "    </tr>\n",
       "    <tr>\n",
       "      <th>7</th>\n",
       "      <td>0.333333</td>\n",
       "    </tr>\n",
       "    <tr>\n",
       "      <th>1</th>\n",
       "      <td>0.303538</td>\n",
       "    </tr>\n",
       "    <tr>\n",
       "      <th>5</th>\n",
       "      <td>0.076923</td>\n",
       "    </tr>\n",
       "    <tr>\n",
       "      <th>6</th>\n",
       "      <td>0.052632</td>\n",
       "    </tr>\n",
       "    <tr>\n",
       "      <th>8</th>\n",
       "      <td>0.000000</td>\n",
       "    </tr>\n",
       "    <tr>\n",
       "      <th>11</th>\n",
       "      <td>NaN</td>\n",
       "    </tr>\n",
       "  </tbody>\n",
       "</table>\n",
       "</div>"
      ],
      "text/plain": [
       "            Survived\n",
       "FamilySize          \n",
       "4           0.724138\n",
       "3           0.578431\n",
       "2           0.552795\n",
       "7           0.333333\n",
       "1           0.303538\n",
       "5           0.076923\n",
       "6           0.052632\n",
       "8           0.000000\n",
       "11               NaN"
      ]
     },
     "execution_count": 105,
     "metadata": {},
     "output_type": "execute_result"
    }
   ],
   "source": [
    "combine[[\"FamilySize\",\"Survived\"]].groupby(\"FamilySize\").mean().sort_values(by = \"Survived\" , ascending = False)"
   ]
  },
  {
   "cell_type": "code",
   "execution_count": 106,
   "id": "2291534a",
   "metadata": {},
   "outputs": [],
   "source": [
    "# we create new column calles IsAlone \n",
    "\n",
    "combine[\"IsAlone\"] = 0 \n",
    "combine.loc[combine[\"FamilySize\"] == 1 , \"IsAlone\"] = 1"
   ]
  },
  {
   "cell_type": "code",
   "execution_count": 107,
   "id": "5165699b",
   "metadata": {},
   "outputs": [
    {
     "data": {
      "text/html": [
       "<div>\n",
       "<style scoped>\n",
       "    .dataframe tbody tr th:only-of-type {\n",
       "        vertical-align: middle;\n",
       "    }\n",
       "\n",
       "    .dataframe tbody tr th {\n",
       "        vertical-align: top;\n",
       "    }\n",
       "\n",
       "    .dataframe thead th {\n",
       "        text-align: right;\n",
       "    }\n",
       "</style>\n",
       "<table border=\"1\" class=\"dataframe\">\n",
       "  <thead>\n",
       "    <tr style=\"text-align: right;\">\n",
       "      <th></th>\n",
       "      <th>Survived</th>\n",
       "    </tr>\n",
       "    <tr>\n",
       "      <th>IsAlone</th>\n",
       "      <th></th>\n",
       "    </tr>\n",
       "  </thead>\n",
       "  <tbody>\n",
       "    <tr>\n",
       "      <th>0</th>\n",
       "      <td>0.519288</td>\n",
       "    </tr>\n",
       "    <tr>\n",
       "      <th>1</th>\n",
       "      <td>0.303538</td>\n",
       "    </tr>\n",
       "  </tbody>\n",
       "</table>\n",
       "</div>"
      ],
      "text/plain": [
       "         Survived\n",
       "IsAlone          \n",
       "0        0.519288\n",
       "1        0.303538"
      ]
     },
     "execution_count": 107,
     "metadata": {},
     "output_type": "execute_result"
    }
   ],
   "source": [
    "combine[[\"IsAlone\",\"Survived\"]].groupby(\"IsAlone\").mean().sort_values(by = \"Survived\" , ascending = False)"
   ]
  },
  {
   "cell_type": "code",
   "execution_count": 108,
   "id": "48a629d0",
   "metadata": {
    "scrolled": false
   },
   "outputs": [
    {
     "data": {
      "text/html": [
       "<div>\n",
       "<style scoped>\n",
       "    .dataframe tbody tr th:only-of-type {\n",
       "        vertical-align: middle;\n",
       "    }\n",
       "\n",
       "    .dataframe tbody tr th {\n",
       "        vertical-align: top;\n",
       "    }\n",
       "\n",
       "    .dataframe thead th {\n",
       "        text-align: right;\n",
       "    }\n",
       "</style>\n",
       "<table border=\"1\" class=\"dataframe\">\n",
       "  <thead>\n",
       "    <tr style=\"text-align: right;\">\n",
       "      <th></th>\n",
       "      <th>PassengerId</th>\n",
       "      <th>Survived</th>\n",
       "      <th>Pclass</th>\n",
       "      <th>Sex</th>\n",
       "      <th>Age</th>\n",
       "      <th>Fare</th>\n",
       "      <th>Embarked</th>\n",
       "      <th>Title</th>\n",
       "      <th>IsAlone</th>\n",
       "    </tr>\n",
       "  </thead>\n",
       "  <tbody>\n",
       "    <tr>\n",
       "      <th>0</th>\n",
       "      <td>1</td>\n",
       "      <td>0.0</td>\n",
       "      <td>3</td>\n",
       "      <td>0</td>\n",
       "      <td>22.0</td>\n",
       "      <td>1.981001</td>\n",
       "      <td>S</td>\n",
       "      <td>Mr</td>\n",
       "      <td>0</td>\n",
       "    </tr>\n",
       "    <tr>\n",
       "      <th>1</th>\n",
       "      <td>2</td>\n",
       "      <td>1.0</td>\n",
       "      <td>1</td>\n",
       "      <td>1</td>\n",
       "      <td>38.0</td>\n",
       "      <td>4.266662</td>\n",
       "      <td>C</td>\n",
       "      <td>Mrs</td>\n",
       "      <td>0</td>\n",
       "    </tr>\n",
       "    <tr>\n",
       "      <th>2</th>\n",
       "      <td>3</td>\n",
       "      <td>1.0</td>\n",
       "      <td>3</td>\n",
       "      <td>1</td>\n",
       "      <td>26.0</td>\n",
       "      <td>2.070022</td>\n",
       "      <td>S</td>\n",
       "      <td>Miss</td>\n",
       "      <td>1</td>\n",
       "    </tr>\n",
       "    <tr>\n",
       "      <th>3</th>\n",
       "      <td>4</td>\n",
       "      <td>1.0</td>\n",
       "      <td>1</td>\n",
       "      <td>1</td>\n",
       "      <td>35.0</td>\n",
       "      <td>3.972177</td>\n",
       "      <td>S</td>\n",
       "      <td>Mrs</td>\n",
       "      <td>0</td>\n",
       "    </tr>\n",
       "    <tr>\n",
       "      <th>4</th>\n",
       "      <td>5</td>\n",
       "      <td>0.0</td>\n",
       "      <td>3</td>\n",
       "      <td>0</td>\n",
       "      <td>35.0</td>\n",
       "      <td>2.085672</td>\n",
       "      <td>S</td>\n",
       "      <td>Mr</td>\n",
       "      <td>1</td>\n",
       "    </tr>\n",
       "  </tbody>\n",
       "</table>\n",
       "</div>"
      ],
      "text/plain": [
       "   PassengerId  Survived  Pclass  Sex   Age      Fare Embarked Title  IsAlone\n",
       "0            1       0.0       3    0  22.0  1.981001        S    Mr        0\n",
       "1            2       1.0       1    1  38.0  4.266662        C   Mrs        0\n",
       "2            3       1.0       3    1  26.0  2.070022        S  Miss        1\n",
       "3            4       1.0       1    1  35.0  3.972177        S   Mrs        0\n",
       "4            5       0.0       3    0  35.0  2.085672        S    Mr        1"
      ]
     },
     "execution_count": 108,
     "metadata": {},
     "output_type": "execute_result"
    }
   ],
   "source": [
    "combine = combine.drop([\"FamilySize\",\"SibSp\",\"Parch\"], axis = 1)\n",
    "combine.head()"
   ]
  },
  {
   "cell_type": "code",
   "execution_count": 109,
   "id": "65de2e7c",
   "metadata": {
    "scrolled": true
   },
   "outputs": [
    {
     "data": {
      "text/plain": [
       "PassengerId      0\n",
       "Survived       418\n",
       "Pclass           0\n",
       "Sex              0\n",
       "Age              0\n",
       "Fare             0\n",
       "Embarked         0\n",
       "Title            0\n",
       "IsAlone          0\n",
       "dtype: int64"
      ]
     },
     "execution_count": 109,
     "metadata": {},
     "output_type": "execute_result"
    }
   ],
   "source": [
    "combine.isnull().sum()"
   ]
  },
  {
   "cell_type": "code",
   "execution_count": 110,
   "id": "15e400c1",
   "metadata": {},
   "outputs": [
    {
     "data": {
      "text/html": [
       "<div>\n",
       "<style scoped>\n",
       "    .dataframe tbody tr th:only-of-type {\n",
       "        vertical-align: middle;\n",
       "    }\n",
       "\n",
       "    .dataframe tbody tr th {\n",
       "        vertical-align: top;\n",
       "    }\n",
       "\n",
       "    .dataframe thead th {\n",
       "        text-align: right;\n",
       "    }\n",
       "</style>\n",
       "<table border=\"1\" class=\"dataframe\">\n",
       "  <thead>\n",
       "    <tr style=\"text-align: right;\">\n",
       "      <th></th>\n",
       "      <th>Survived</th>\n",
       "    </tr>\n",
       "    <tr>\n",
       "      <th>AgeBands</th>\n",
       "      <th></th>\n",
       "    </tr>\n",
       "  </thead>\n",
       "  <tbody>\n",
       "    <tr>\n",
       "      <th>(0.0902, 16.136]</th>\n",
       "      <td>0.557692</td>\n",
       "    </tr>\n",
       "    <tr>\n",
       "      <th>(16.136, 32.102]</th>\n",
       "      <td>0.336864</td>\n",
       "    </tr>\n",
       "    <tr>\n",
       "      <th>(32.102, 48.068]</th>\n",
       "      <td>0.412844</td>\n",
       "    </tr>\n",
       "    <tr>\n",
       "      <th>(48.068, 64.034]</th>\n",
       "      <td>0.434783</td>\n",
       "    </tr>\n",
       "    <tr>\n",
       "      <th>(64.034, 80.0]</th>\n",
       "      <td>0.090909</td>\n",
       "    </tr>\n",
       "  </tbody>\n",
       "</table>\n",
       "</div>"
      ],
      "text/plain": [
       "                  Survived\n",
       "AgeBands                  \n",
       "(0.0902, 16.136]  0.557692\n",
       "(16.136, 32.102]  0.336864\n",
       "(32.102, 48.068]  0.412844\n",
       "(48.068, 64.034]  0.434783\n",
       "(64.034, 80.0]    0.090909"
      ]
     },
     "execution_count": 110,
     "metadata": {},
     "output_type": "execute_result"
    }
   ],
   "source": [
    " # Create age bands and compute mean of survival by age bands\n",
    "\n",
    "\n",
    "combine[\"AgeBands\"] = pd.cut(combine[\"Age\"],5)\n",
    "combine[[\"AgeBands\",\"Survived\"]].groupby(\"AgeBands\").mean().sort_values(by = \"AgeBands\" )"
   ]
  },
  {
   "cell_type": "code",
   "execution_count": 111,
   "id": "8757eaf7",
   "metadata": {},
   "outputs": [],
   "source": [
    "# Assign ordinals to each age band \n",
    "\n",
    "combine.loc[combine['Age'] <= 16.136, 'Age'] = 0\n",
    "combine.loc[(combine['Age'] > 16.136) & (combine['Age'] <= 32.102), 'Age'] = 1\n",
    "combine.loc[(combine['Age'] > 32.102) & (combine['Age'] <= 48.068), 'Age'] = 2\n",
    "combine.loc[(combine['Age'] > 48.068) & (combine['Age'] <= 64.034), 'Age'] = 3\n",
    "combine.loc[combine['Age'] > 64.034 , 'Age'] = 4"
   ]
  },
  {
   "cell_type": "code",
   "execution_count": 112,
   "id": "18b2e684",
   "metadata": {},
   "outputs": [],
   "source": [
    "# Drop age band feature\n",
    "\n",
    "combine = combine.drop('AgeBands', axis = 1)"
   ]
  },
  {
   "cell_type": "code",
   "execution_count": 113,
   "id": "fe112a26",
   "metadata": {},
   "outputs": [
    {
     "data": {
      "text/plain": [
       "Age       float64\n",
       "Pclass      int64\n",
       "dtype: object"
      ]
     },
     "execution_count": 113,
     "metadata": {},
     "output_type": "execute_result"
    }
   ],
   "source": [
    "# Age and Pclass data types \n",
    "\n",
    "combine[['Age', 'Pclass']].dtypes"
   ]
  },
  {
   "cell_type": "code",
   "execution_count": 114,
   "id": "ce4c2d35",
   "metadata": {},
   "outputs": [
    {
     "data": {
      "text/plain": [
       "dtype('int64')"
      ]
     },
     "execution_count": 114,
     "metadata": {},
     "output_type": "execute_result"
    }
   ],
   "source": [
    "# Convert ordinal Age into integer\n",
    "\n",
    "combine['Age'] = combine['Age'].astype('int')\n",
    "combine['Age'].dtype"
   ]
  },
  {
   "cell_type": "code",
   "execution_count": 115,
   "id": "9b8ded02",
   "metadata": {},
   "outputs": [
    {
     "data": {
      "text/html": [
       "<div>\n",
       "<style scoped>\n",
       "    .dataframe tbody tr th:only-of-type {\n",
       "        vertical-align: middle;\n",
       "    }\n",
       "\n",
       "    .dataframe tbody tr th {\n",
       "        vertical-align: top;\n",
       "    }\n",
       "\n",
       "    .dataframe thead th {\n",
       "        text-align: right;\n",
       "    }\n",
       "</style>\n",
       "<table border=\"1\" class=\"dataframe\">\n",
       "  <thead>\n",
       "    <tr style=\"text-align: right;\">\n",
       "      <th></th>\n",
       "      <th>Age</th>\n",
       "      <th>Pclass</th>\n",
       "      <th>Age*Class</th>\n",
       "    </tr>\n",
       "  </thead>\n",
       "  <tbody>\n",
       "    <tr>\n",
       "      <th>0</th>\n",
       "      <td>1</td>\n",
       "      <td>3</td>\n",
       "      <td>3</td>\n",
       "    </tr>\n",
       "    <tr>\n",
       "      <th>1</th>\n",
       "      <td>2</td>\n",
       "      <td>1</td>\n",
       "      <td>2</td>\n",
       "    </tr>\n",
       "    <tr>\n",
       "      <th>2</th>\n",
       "      <td>1</td>\n",
       "      <td>3</td>\n",
       "      <td>3</td>\n",
       "    </tr>\n",
       "    <tr>\n",
       "      <th>3</th>\n",
       "      <td>2</td>\n",
       "      <td>1</td>\n",
       "      <td>2</td>\n",
       "    </tr>\n",
       "    <tr>\n",
       "      <th>4</th>\n",
       "      <td>2</td>\n",
       "      <td>3</td>\n",
       "      <td>6</td>\n",
       "    </tr>\n",
       "  </tbody>\n",
       "</table>\n",
       "</div>"
      ],
      "text/plain": [
       "   Age  Pclass  Age*Class\n",
       "0    1       3          3\n",
       "1    2       1          2\n",
       "2    1       3          3\n",
       "3    2       1          2\n",
       "4    2       3          6"
      ]
     },
     "execution_count": 115,
     "metadata": {},
     "output_type": "execute_result"
    }
   ],
   "source": [
    "# Create Age*Class feature\n",
    "\n",
    "combine['Age*Class'] = combine['Age'] * combine['Pclass']\n",
    "combine[['Age', 'Pclass', 'Age*Class']].head()"
   ]
  },
  {
   "cell_type": "markdown",
   "id": "182f39ef",
   "metadata": {},
   "source": [
    "## Feature encoding"
   ]
  },
  {
   "cell_type": "code",
   "execution_count": 116,
   "id": "b4621d81",
   "metadata": {},
   "outputs": [
    {
     "data": {
      "text/html": [
       "<div>\n",
       "<style scoped>\n",
       "    .dataframe tbody tr th:only-of-type {\n",
       "        vertical-align: middle;\n",
       "    }\n",
       "\n",
       "    .dataframe tbody tr th {\n",
       "        vertical-align: top;\n",
       "    }\n",
       "\n",
       "    .dataframe thead th {\n",
       "        text-align: right;\n",
       "    }\n",
       "</style>\n",
       "<table border=\"1\" class=\"dataframe\">\n",
       "  <thead>\n",
       "    <tr style=\"text-align: right;\">\n",
       "      <th></th>\n",
       "      <th>PassengerId</th>\n",
       "      <th>Survived</th>\n",
       "      <th>Pclass</th>\n",
       "      <th>Sex</th>\n",
       "      <th>Age</th>\n",
       "      <th>Fare</th>\n",
       "      <th>Embarked</th>\n",
       "      <th>Title</th>\n",
       "      <th>IsAlone</th>\n",
       "      <th>Age*Class</th>\n",
       "    </tr>\n",
       "  </thead>\n",
       "  <tbody>\n",
       "    <tr>\n",
       "      <th>0</th>\n",
       "      <td>1</td>\n",
       "      <td>0.0</td>\n",
       "      <td>3</td>\n",
       "      <td>0</td>\n",
       "      <td>1</td>\n",
       "      <td>1.981001</td>\n",
       "      <td>S</td>\n",
       "      <td>Mr</td>\n",
       "      <td>0</td>\n",
       "      <td>3</td>\n",
       "    </tr>\n",
       "    <tr>\n",
       "      <th>1</th>\n",
       "      <td>2</td>\n",
       "      <td>1.0</td>\n",
       "      <td>1</td>\n",
       "      <td>1</td>\n",
       "      <td>2</td>\n",
       "      <td>4.266662</td>\n",
       "      <td>C</td>\n",
       "      <td>Mrs</td>\n",
       "      <td>0</td>\n",
       "      <td>2</td>\n",
       "    </tr>\n",
       "    <tr>\n",
       "      <th>2</th>\n",
       "      <td>3</td>\n",
       "      <td>1.0</td>\n",
       "      <td>3</td>\n",
       "      <td>1</td>\n",
       "      <td>1</td>\n",
       "      <td>2.070022</td>\n",
       "      <td>S</td>\n",
       "      <td>Miss</td>\n",
       "      <td>1</td>\n",
       "      <td>3</td>\n",
       "    </tr>\n",
       "    <tr>\n",
       "      <th>3</th>\n",
       "      <td>4</td>\n",
       "      <td>1.0</td>\n",
       "      <td>1</td>\n",
       "      <td>1</td>\n",
       "      <td>2</td>\n",
       "      <td>3.972177</td>\n",
       "      <td>S</td>\n",
       "      <td>Mrs</td>\n",
       "      <td>0</td>\n",
       "      <td>2</td>\n",
       "    </tr>\n",
       "    <tr>\n",
       "      <th>4</th>\n",
       "      <td>5</td>\n",
       "      <td>0.0</td>\n",
       "      <td>3</td>\n",
       "      <td>0</td>\n",
       "      <td>2</td>\n",
       "      <td>2.085672</td>\n",
       "      <td>S</td>\n",
       "      <td>Mr</td>\n",
       "      <td>1</td>\n",
       "      <td>6</td>\n",
       "    </tr>\n",
       "  </tbody>\n",
       "</table>\n",
       "</div>"
      ],
      "text/plain": [
       "   PassengerId  Survived  Pclass  Sex  Age      Fare Embarked Title  IsAlone  \\\n",
       "0            1       0.0       3    0    1  1.981001        S    Mr        0   \n",
       "1            2       1.0       1    1    2  4.266662        C   Mrs        0   \n",
       "2            3       1.0       3    1    1  2.070022        S  Miss        1   \n",
       "3            4       1.0       1    1    2  3.972177        S   Mrs        0   \n",
       "4            5       0.0       3    0    2  2.085672        S    Mr        1   \n",
       "\n",
       "   Age*Class  \n",
       "0          3  \n",
       "1          2  \n",
       "2          3  \n",
       "3          2  \n",
       "4          6  "
      ]
     },
     "execution_count": 116,
     "metadata": {},
     "output_type": "execute_result"
    }
   ],
   "source": [
    "combine.head()\n"
   ]
  },
  {
   "cell_type": "code",
   "execution_count": 117,
   "id": "ebe5f343",
   "metadata": {
    "scrolled": true
   },
   "outputs": [
    {
     "data": {
      "text/html": [
       "<div>\n",
       "<style scoped>\n",
       "    .dataframe tbody tr th:only-of-type {\n",
       "        vertical-align: middle;\n",
       "    }\n",
       "\n",
       "    .dataframe tbody tr th {\n",
       "        vertical-align: top;\n",
       "    }\n",
       "\n",
       "    .dataframe thead th {\n",
       "        text-align: right;\n",
       "    }\n",
       "</style>\n",
       "<table border=\"1\" class=\"dataframe\">\n",
       "  <thead>\n",
       "    <tr style=\"text-align: right;\">\n",
       "      <th></th>\n",
       "      <th>PassengerId</th>\n",
       "      <th>Survived</th>\n",
       "      <th>Pclass</th>\n",
       "      <th>Sex</th>\n",
       "      <th>Age</th>\n",
       "      <th>Fare</th>\n",
       "      <th>IsAlone</th>\n",
       "      <th>Age*Class</th>\n",
       "      <th>Title_Miss</th>\n",
       "      <th>Title_Mr</th>\n",
       "      <th>Title_Mrs</th>\n",
       "      <th>Title_Rare</th>\n",
       "      <th>Em_Q</th>\n",
       "      <th>Em_S</th>\n",
       "    </tr>\n",
       "  </thead>\n",
       "  <tbody>\n",
       "    <tr>\n",
       "      <th>0</th>\n",
       "      <td>1</td>\n",
       "      <td>0.0</td>\n",
       "      <td>3</td>\n",
       "      <td>0</td>\n",
       "      <td>1</td>\n",
       "      <td>1.981001</td>\n",
       "      <td>0</td>\n",
       "      <td>3</td>\n",
       "      <td>0</td>\n",
       "      <td>1</td>\n",
       "      <td>0</td>\n",
       "      <td>0</td>\n",
       "      <td>0</td>\n",
       "      <td>1</td>\n",
       "    </tr>\n",
       "    <tr>\n",
       "      <th>1</th>\n",
       "      <td>2</td>\n",
       "      <td>1.0</td>\n",
       "      <td>1</td>\n",
       "      <td>1</td>\n",
       "      <td>2</td>\n",
       "      <td>4.266662</td>\n",
       "      <td>0</td>\n",
       "      <td>2</td>\n",
       "      <td>0</td>\n",
       "      <td>0</td>\n",
       "      <td>1</td>\n",
       "      <td>0</td>\n",
       "      <td>0</td>\n",
       "      <td>0</td>\n",
       "    </tr>\n",
       "    <tr>\n",
       "      <th>2</th>\n",
       "      <td>3</td>\n",
       "      <td>1.0</td>\n",
       "      <td>3</td>\n",
       "      <td>1</td>\n",
       "      <td>1</td>\n",
       "      <td>2.070022</td>\n",
       "      <td>1</td>\n",
       "      <td>3</td>\n",
       "      <td>1</td>\n",
       "      <td>0</td>\n",
       "      <td>0</td>\n",
       "      <td>0</td>\n",
       "      <td>0</td>\n",
       "      <td>1</td>\n",
       "    </tr>\n",
       "    <tr>\n",
       "      <th>3</th>\n",
       "      <td>4</td>\n",
       "      <td>1.0</td>\n",
       "      <td>1</td>\n",
       "      <td>1</td>\n",
       "      <td>2</td>\n",
       "      <td>3.972177</td>\n",
       "      <td>0</td>\n",
       "      <td>2</td>\n",
       "      <td>0</td>\n",
       "      <td>0</td>\n",
       "      <td>1</td>\n",
       "      <td>0</td>\n",
       "      <td>0</td>\n",
       "      <td>1</td>\n",
       "    </tr>\n",
       "    <tr>\n",
       "      <th>4</th>\n",
       "      <td>5</td>\n",
       "      <td>0.0</td>\n",
       "      <td>3</td>\n",
       "      <td>0</td>\n",
       "      <td>2</td>\n",
       "      <td>2.085672</td>\n",
       "      <td>1</td>\n",
       "      <td>6</td>\n",
       "      <td>0</td>\n",
       "      <td>1</td>\n",
       "      <td>0</td>\n",
       "      <td>0</td>\n",
       "      <td>0</td>\n",
       "      <td>1</td>\n",
       "    </tr>\n",
       "  </tbody>\n",
       "</table>\n",
       "</div>"
      ],
      "text/plain": [
       "   PassengerId  Survived  Pclass  Sex  Age      Fare  IsAlone  Age*Class  \\\n",
       "0            1       0.0       3    0    1  1.981001        0          3   \n",
       "1            2       1.0       1    1    2  4.266662        0          2   \n",
       "2            3       1.0       3    1    1  2.070022        1          3   \n",
       "3            4       1.0       1    1    2  3.972177        0          2   \n",
       "4            5       0.0       3    0    2  2.085672        1          6   \n",
       "\n",
       "   Title_Miss  Title_Mr  Title_Mrs  Title_Rare  Em_Q  Em_S  \n",
       "0           0         1          0           0     0     1  \n",
       "1           0         0          1           0     0     0  \n",
       "2           1         0          0           0     0     1  \n",
       "3           0         0          1           0     0     1  \n",
       "4           0         1          0           0     0     1  "
      ]
     },
     "execution_count": 117,
     "metadata": {},
     "output_type": "execute_result"
    }
   ],
   "source": [
    "# Encode Title and Embarked feature\n",
    "\n",
    "combine = pd.get_dummies(combine, columns = ['Title'],drop_first=True)\n",
    "combine = pd.get_dummies(combine, columns = ['Embarked'], prefix = 'Em',drop_first=True)\n",
    "combine.head()"
   ]
  },
  {
   "cell_type": "code",
   "execution_count": 118,
   "id": "5b872c52",
   "metadata": {},
   "outputs": [
    {
     "data": {
      "text/html": [
       "<div>\n",
       "<style scoped>\n",
       "    .dataframe tbody tr th:only-of-type {\n",
       "        vertical-align: middle;\n",
       "    }\n",
       "\n",
       "    .dataframe tbody tr th {\n",
       "        vertical-align: top;\n",
       "    }\n",
       "\n",
       "    .dataframe thead th {\n",
       "        text-align: right;\n",
       "    }\n",
       "</style>\n",
       "<table border=\"1\" class=\"dataframe\">\n",
       "  <thead>\n",
       "    <tr style=\"text-align: right;\">\n",
       "      <th></th>\n",
       "      <th>FareBand</th>\n",
       "      <th>Survived</th>\n",
       "    </tr>\n",
       "  </thead>\n",
       "  <tbody>\n",
       "    <tr>\n",
       "      <th>0</th>\n",
       "      <td>(-0.00624, 1.56]</td>\n",
       "      <td>0.062500</td>\n",
       "    </tr>\n",
       "    <tr>\n",
       "      <th>1</th>\n",
       "      <td>(1.56, 3.119]</td>\n",
       "      <td>0.288719</td>\n",
       "    </tr>\n",
       "    <tr>\n",
       "      <th>2</th>\n",
       "      <td>(3.119, 4.679]</td>\n",
       "      <td>0.525952</td>\n",
       "    </tr>\n",
       "    <tr>\n",
       "      <th>3</th>\n",
       "      <td>(4.679, 6.239]</td>\n",
       "      <td>0.739130</td>\n",
       "    </tr>\n",
       "  </tbody>\n",
       "</table>\n",
       "</div>"
      ],
      "text/plain": [
       "           FareBand  Survived\n",
       "0  (-0.00624, 1.56]  0.062500\n",
       "1     (1.56, 3.119]  0.288719\n",
       "2    (3.119, 4.679]  0.525952\n",
       "3    (4.679, 6.239]  0.739130"
      ]
     },
     "execution_count": 118,
     "metadata": {},
     "output_type": "execute_result"
    }
   ],
   "source": [
    "# Divide Fare into four bands\n",
    "\n",
    "combine['FareBand'] = pd.cut(combine['Fare'], 4)\n",
    "combine[['FareBand', 'Survived']].groupby(['FareBand'], as_index=False).mean().sort_values(by = 'FareBand')"
   ]
  },
  {
   "cell_type": "code",
   "execution_count": 119,
   "id": "19ceb59f",
   "metadata": {},
   "outputs": [],
   "source": [
    "# Assign ordinal to each fare band\n",
    "\n",
    "combine.loc[combine['Fare'] <= 1.56, 'Fare'] = 0\n",
    "combine.loc[(combine['Fare'] > 1.56) & (combine['Fare'] <= 3.119), 'Fare'] = 1\n",
    "combine.loc[(combine['Fare'] > 3.119) & (combine['Fare'] <= 4.679), 'Fare'] = 2\n",
    "combine.loc[combine['Fare'] > 4.679, 'Fare'] = 3"
   ]
  },
  {
   "cell_type": "code",
   "execution_count": 120,
   "id": "d00198ba",
   "metadata": {},
   "outputs": [],
   "source": [
    "# Convert Fare into integer\n",
    "\n",
    "combine['Fare'] = combine['Fare'].astype('int')"
   ]
  },
  {
   "cell_type": "code",
   "execution_count": 121,
   "id": "391e47d5",
   "metadata": {},
   "outputs": [],
   "source": [
    "# Drop FareBand feature\n",
    "\n",
    "combine = combine.drop('FareBand', axis = 1)"
   ]
  },
  {
   "cell_type": "code",
   "execution_count": 122,
   "id": "cdff9c56",
   "metadata": {},
   "outputs": [
    {
     "data": {
      "text/html": [
       "<div>\n",
       "<style scoped>\n",
       "    .dataframe tbody tr th:only-of-type {\n",
       "        vertical-align: middle;\n",
       "    }\n",
       "\n",
       "    .dataframe tbody tr th {\n",
       "        vertical-align: top;\n",
       "    }\n",
       "\n",
       "    .dataframe thead th {\n",
       "        text-align: right;\n",
       "    }\n",
       "</style>\n",
       "<table border=\"1\" class=\"dataframe\">\n",
       "  <thead>\n",
       "    <tr style=\"text-align: right;\">\n",
       "      <th></th>\n",
       "      <th>PassengerId</th>\n",
       "      <th>Survived</th>\n",
       "      <th>Pclass</th>\n",
       "      <th>Sex</th>\n",
       "      <th>Age</th>\n",
       "      <th>Fare</th>\n",
       "      <th>IsAlone</th>\n",
       "      <th>Age*Class</th>\n",
       "      <th>Title_Miss</th>\n",
       "      <th>Title_Mr</th>\n",
       "      <th>Title_Mrs</th>\n",
       "      <th>Title_Rare</th>\n",
       "      <th>Em_Q</th>\n",
       "      <th>Em_S</th>\n",
       "    </tr>\n",
       "  </thead>\n",
       "  <tbody>\n",
       "    <tr>\n",
       "      <th>0</th>\n",
       "      <td>1</td>\n",
       "      <td>0.0</td>\n",
       "      <td>3</td>\n",
       "      <td>0</td>\n",
       "      <td>1</td>\n",
       "      <td>1</td>\n",
       "      <td>0</td>\n",
       "      <td>3</td>\n",
       "      <td>0</td>\n",
       "      <td>1</td>\n",
       "      <td>0</td>\n",
       "      <td>0</td>\n",
       "      <td>0</td>\n",
       "      <td>1</td>\n",
       "    </tr>\n",
       "    <tr>\n",
       "      <th>1</th>\n",
       "      <td>2</td>\n",
       "      <td>1.0</td>\n",
       "      <td>1</td>\n",
       "      <td>1</td>\n",
       "      <td>2</td>\n",
       "      <td>2</td>\n",
       "      <td>0</td>\n",
       "      <td>2</td>\n",
       "      <td>0</td>\n",
       "      <td>0</td>\n",
       "      <td>1</td>\n",
       "      <td>0</td>\n",
       "      <td>0</td>\n",
       "      <td>0</td>\n",
       "    </tr>\n",
       "    <tr>\n",
       "      <th>2</th>\n",
       "      <td>3</td>\n",
       "      <td>1.0</td>\n",
       "      <td>3</td>\n",
       "      <td>1</td>\n",
       "      <td>1</td>\n",
       "      <td>1</td>\n",
       "      <td>1</td>\n",
       "      <td>3</td>\n",
       "      <td>1</td>\n",
       "      <td>0</td>\n",
       "      <td>0</td>\n",
       "      <td>0</td>\n",
       "      <td>0</td>\n",
       "      <td>1</td>\n",
       "    </tr>\n",
       "    <tr>\n",
       "      <th>3</th>\n",
       "      <td>4</td>\n",
       "      <td>1.0</td>\n",
       "      <td>1</td>\n",
       "      <td>1</td>\n",
       "      <td>2</td>\n",
       "      <td>2</td>\n",
       "      <td>0</td>\n",
       "      <td>2</td>\n",
       "      <td>0</td>\n",
       "      <td>0</td>\n",
       "      <td>1</td>\n",
       "      <td>0</td>\n",
       "      <td>0</td>\n",
       "      <td>1</td>\n",
       "    </tr>\n",
       "    <tr>\n",
       "      <th>4</th>\n",
       "      <td>5</td>\n",
       "      <td>0.0</td>\n",
       "      <td>3</td>\n",
       "      <td>0</td>\n",
       "      <td>2</td>\n",
       "      <td>1</td>\n",
       "      <td>1</td>\n",
       "      <td>6</td>\n",
       "      <td>0</td>\n",
       "      <td>1</td>\n",
       "      <td>0</td>\n",
       "      <td>0</td>\n",
       "      <td>0</td>\n",
       "      <td>1</td>\n",
       "    </tr>\n",
       "  </tbody>\n",
       "</table>\n",
       "</div>"
      ],
      "text/plain": [
       "   PassengerId  Survived  Pclass  Sex  Age  Fare  IsAlone  Age*Class  \\\n",
       "0            1       0.0       3    0    1     1        0          3   \n",
       "1            2       1.0       1    1    2     2        0          2   \n",
       "2            3       1.0       3    1    1     1        1          3   \n",
       "3            4       1.0       1    1    2     2        0          2   \n",
       "4            5       0.0       3    0    2     1        1          6   \n",
       "\n",
       "   Title_Miss  Title_Mr  Title_Mrs  Title_Rare  Em_Q  Em_S  \n",
       "0           0         1          0           0     0     1  \n",
       "1           0         0          1           0     0     0  \n",
       "2           1         0          0           0     0     1  \n",
       "3           0         0          1           0     0     1  \n",
       "4           0         1          0           0     0     1  "
      ]
     },
     "execution_count": 122,
     "metadata": {},
     "output_type": "execute_result"
    }
   ],
   "source": [
    "combine.head()\n"
   ]
  },
  {
   "cell_type": "code",
   "execution_count": 123,
   "id": "e56c076a",
   "metadata": {},
   "outputs": [],
   "source": [
    "# Separate training and test set from the combined dataframe\n",
    "\n",
    "train = combine[:len(train)]\n",
    "test = combine[len(train):]"
   ]
  },
  {
   "cell_type": "code",
   "execution_count": 124,
   "id": "eba542c8",
   "metadata": {
    "scrolled": true
   },
   "outputs": [
    {
     "data": {
      "text/plain": [
       "(874, 14)"
      ]
     },
     "execution_count": 124,
     "metadata": {},
     "output_type": "execute_result"
    }
   ],
   "source": [
    "train.shape"
   ]
  },
  {
   "cell_type": "code",
   "execution_count": 125,
   "id": "cc787160",
   "metadata": {},
   "outputs": [
    {
     "data": {
      "text/plain": [
       "(418, 14)"
      ]
     },
     "execution_count": 125,
     "metadata": {},
     "output_type": "execute_result"
    }
   ],
   "source": [
    "test.shape"
   ]
  },
  {
   "cell_type": "code",
   "execution_count": 126,
   "id": "edde8024",
   "metadata": {},
   "outputs": [
    {
     "data": {
      "text/html": [
       "<div>\n",
       "<style scoped>\n",
       "    .dataframe tbody tr th:only-of-type {\n",
       "        vertical-align: middle;\n",
       "    }\n",
       "\n",
       "    .dataframe tbody tr th {\n",
       "        vertical-align: top;\n",
       "    }\n",
       "\n",
       "    .dataframe thead th {\n",
       "        text-align: right;\n",
       "    }\n",
       "</style>\n",
       "<table border=\"1\" class=\"dataframe\">\n",
       "  <thead>\n",
       "    <tr style=\"text-align: right;\">\n",
       "      <th></th>\n",
       "      <th>PassengerId</th>\n",
       "      <th>Survived</th>\n",
       "      <th>Pclass</th>\n",
       "      <th>Sex</th>\n",
       "      <th>Age</th>\n",
       "      <th>Fare</th>\n",
       "      <th>IsAlone</th>\n",
       "      <th>Age*Class</th>\n",
       "      <th>Title_Miss</th>\n",
       "      <th>Title_Mr</th>\n",
       "      <th>Title_Mrs</th>\n",
       "      <th>Title_Rare</th>\n",
       "      <th>Em_Q</th>\n",
       "      <th>Em_S</th>\n",
       "    </tr>\n",
       "  </thead>\n",
       "  <tbody>\n",
       "    <tr>\n",
       "      <th>0</th>\n",
       "      <td>1</td>\n",
       "      <td>0.0</td>\n",
       "      <td>3</td>\n",
       "      <td>0</td>\n",
       "      <td>1</td>\n",
       "      <td>1</td>\n",
       "      <td>0</td>\n",
       "      <td>3</td>\n",
       "      <td>0</td>\n",
       "      <td>1</td>\n",
       "      <td>0</td>\n",
       "      <td>0</td>\n",
       "      <td>0</td>\n",
       "      <td>1</td>\n",
       "    </tr>\n",
       "    <tr>\n",
       "      <th>1</th>\n",
       "      <td>2</td>\n",
       "      <td>1.0</td>\n",
       "      <td>1</td>\n",
       "      <td>1</td>\n",
       "      <td>2</td>\n",
       "      <td>2</td>\n",
       "      <td>0</td>\n",
       "      <td>2</td>\n",
       "      <td>0</td>\n",
       "      <td>0</td>\n",
       "      <td>1</td>\n",
       "      <td>0</td>\n",
       "      <td>0</td>\n",
       "      <td>0</td>\n",
       "    </tr>\n",
       "    <tr>\n",
       "      <th>2</th>\n",
       "      <td>3</td>\n",
       "      <td>1.0</td>\n",
       "      <td>3</td>\n",
       "      <td>1</td>\n",
       "      <td>1</td>\n",
       "      <td>1</td>\n",
       "      <td>1</td>\n",
       "      <td>3</td>\n",
       "      <td>1</td>\n",
       "      <td>0</td>\n",
       "      <td>0</td>\n",
       "      <td>0</td>\n",
       "      <td>0</td>\n",
       "      <td>1</td>\n",
       "    </tr>\n",
       "    <tr>\n",
       "      <th>3</th>\n",
       "      <td>4</td>\n",
       "      <td>1.0</td>\n",
       "      <td>1</td>\n",
       "      <td>1</td>\n",
       "      <td>2</td>\n",
       "      <td>2</td>\n",
       "      <td>0</td>\n",
       "      <td>2</td>\n",
       "      <td>0</td>\n",
       "      <td>0</td>\n",
       "      <td>1</td>\n",
       "      <td>0</td>\n",
       "      <td>0</td>\n",
       "      <td>1</td>\n",
       "    </tr>\n",
       "    <tr>\n",
       "      <th>4</th>\n",
       "      <td>5</td>\n",
       "      <td>0.0</td>\n",
       "      <td>3</td>\n",
       "      <td>0</td>\n",
       "      <td>2</td>\n",
       "      <td>1</td>\n",
       "      <td>1</td>\n",
       "      <td>6</td>\n",
       "      <td>0</td>\n",
       "      <td>1</td>\n",
       "      <td>0</td>\n",
       "      <td>0</td>\n",
       "      <td>0</td>\n",
       "      <td>1</td>\n",
       "    </tr>\n",
       "  </tbody>\n",
       "</table>\n",
       "</div>"
      ],
      "text/plain": [
       "   PassengerId  Survived  Pclass  Sex  Age  Fare  IsAlone  Age*Class  \\\n",
       "0            1       0.0       3    0    1     1        0          3   \n",
       "1            2       1.0       1    1    2     2        0          2   \n",
       "2            3       1.0       3    1    1     1        1          3   \n",
       "3            4       1.0       1    1    2     2        0          2   \n",
       "4            5       0.0       3    0    2     1        1          6   \n",
       "\n",
       "   Title_Miss  Title_Mr  Title_Mrs  Title_Rare  Em_Q  Em_S  \n",
       "0           0         1          0           0     0     1  \n",
       "1           0         0          1           0     0     0  \n",
       "2           1         0          0           0     0     1  \n",
       "3           0         0          1           0     0     1  \n",
       "4           0         1          0           0     0     1  "
      ]
     },
     "execution_count": 126,
     "metadata": {},
     "output_type": "execute_result"
    }
   ],
   "source": [
    "train.head()"
   ]
  },
  {
   "cell_type": "code",
   "execution_count": 127,
   "id": "d34406a4",
   "metadata": {},
   "outputs": [
    {
     "data": {
      "text/html": [
       "<div>\n",
       "<style scoped>\n",
       "    .dataframe tbody tr th:only-of-type {\n",
       "        vertical-align: middle;\n",
       "    }\n",
       "\n",
       "    .dataframe tbody tr th {\n",
       "        vertical-align: top;\n",
       "    }\n",
       "\n",
       "    .dataframe thead th {\n",
       "        text-align: right;\n",
       "    }\n",
       "</style>\n",
       "<table border=\"1\" class=\"dataframe\">\n",
       "  <thead>\n",
       "    <tr style=\"text-align: right;\">\n",
       "      <th></th>\n",
       "      <th>Survived</th>\n",
       "      <th>Pclass</th>\n",
       "      <th>Sex</th>\n",
       "      <th>Age</th>\n",
       "      <th>Fare</th>\n",
       "      <th>IsAlone</th>\n",
       "      <th>Age*Class</th>\n",
       "      <th>Title_Miss</th>\n",
       "      <th>Title_Mr</th>\n",
       "      <th>Title_Mrs</th>\n",
       "      <th>Title_Rare</th>\n",
       "      <th>Em_Q</th>\n",
       "      <th>Em_S</th>\n",
       "    </tr>\n",
       "  </thead>\n",
       "  <tbody>\n",
       "    <tr>\n",
       "      <th>0</th>\n",
       "      <td>0.0</td>\n",
       "      <td>3</td>\n",
       "      <td>0</td>\n",
       "      <td>1</td>\n",
       "      <td>1</td>\n",
       "      <td>0</td>\n",
       "      <td>3</td>\n",
       "      <td>0</td>\n",
       "      <td>1</td>\n",
       "      <td>0</td>\n",
       "      <td>0</td>\n",
       "      <td>0</td>\n",
       "      <td>1</td>\n",
       "    </tr>\n",
       "    <tr>\n",
       "      <th>1</th>\n",
       "      <td>1.0</td>\n",
       "      <td>1</td>\n",
       "      <td>1</td>\n",
       "      <td>2</td>\n",
       "      <td>2</td>\n",
       "      <td>0</td>\n",
       "      <td>2</td>\n",
       "      <td>0</td>\n",
       "      <td>0</td>\n",
       "      <td>1</td>\n",
       "      <td>0</td>\n",
       "      <td>0</td>\n",
       "      <td>0</td>\n",
       "    </tr>\n",
       "    <tr>\n",
       "      <th>2</th>\n",
       "      <td>1.0</td>\n",
       "      <td>3</td>\n",
       "      <td>1</td>\n",
       "      <td>1</td>\n",
       "      <td>1</td>\n",
       "      <td>1</td>\n",
       "      <td>3</td>\n",
       "      <td>1</td>\n",
       "      <td>0</td>\n",
       "      <td>0</td>\n",
       "      <td>0</td>\n",
       "      <td>0</td>\n",
       "      <td>1</td>\n",
       "    </tr>\n",
       "    <tr>\n",
       "      <th>3</th>\n",
       "      <td>1.0</td>\n",
       "      <td>1</td>\n",
       "      <td>1</td>\n",
       "      <td>2</td>\n",
       "      <td>2</td>\n",
       "      <td>0</td>\n",
       "      <td>2</td>\n",
       "      <td>0</td>\n",
       "      <td>0</td>\n",
       "      <td>1</td>\n",
       "      <td>0</td>\n",
       "      <td>0</td>\n",
       "      <td>1</td>\n",
       "    </tr>\n",
       "    <tr>\n",
       "      <th>4</th>\n",
       "      <td>0.0</td>\n",
       "      <td>3</td>\n",
       "      <td>0</td>\n",
       "      <td>2</td>\n",
       "      <td>1</td>\n",
       "      <td>1</td>\n",
       "      <td>6</td>\n",
       "      <td>0</td>\n",
       "      <td>1</td>\n",
       "      <td>0</td>\n",
       "      <td>0</td>\n",
       "      <td>0</td>\n",
       "      <td>1</td>\n",
       "    </tr>\n",
       "  </tbody>\n",
       "</table>\n",
       "</div>"
      ],
      "text/plain": [
       "   Survived  Pclass  Sex  Age  Fare  IsAlone  Age*Class  Title_Miss  Title_Mr  \\\n",
       "0       0.0       3    0    1     1        0          3           0         1   \n",
       "1       1.0       1    1    2     2        0          2           0         0   \n",
       "2       1.0       3    1    1     1        1          3           1         0   \n",
       "3       1.0       1    1    2     2        0          2           0         0   \n",
       "4       0.0       3    0    2     1        1          6           0         1   \n",
       "\n",
       "   Title_Mrs  Title_Rare  Em_Q  Em_S  \n",
       "0          0           0     0     1  \n",
       "1          1           0     0     0  \n",
       "2          0           0     0     1  \n",
       "3          1           0     0     1  \n",
       "4          0           0     0     1  "
      ]
     },
     "execution_count": 127,
     "metadata": {},
     "output_type": "execute_result"
    }
   ],
   "source": [
    "# we will drop PassengerId from train dataset\n",
    "\n",
    "train = train.drop(\"PassengerId\",axis=1)\n",
    "train.head()"
   ]
  },
  {
   "cell_type": "code",
   "execution_count": 128,
   "id": "5ce9d02d",
   "metadata": {
    "scrolled": true
   },
   "outputs": [
    {
     "data": {
      "text/html": [
       "<div>\n",
       "<style scoped>\n",
       "    .dataframe tbody tr th:only-of-type {\n",
       "        vertical-align: middle;\n",
       "    }\n",
       "\n",
       "    .dataframe tbody tr th {\n",
       "        vertical-align: top;\n",
       "    }\n",
       "\n",
       "    .dataframe thead th {\n",
       "        text-align: right;\n",
       "    }\n",
       "</style>\n",
       "<table border=\"1\" class=\"dataframe\">\n",
       "  <thead>\n",
       "    <tr style=\"text-align: right;\">\n",
       "      <th></th>\n",
       "      <th>Survived</th>\n",
       "      <th>Pclass</th>\n",
       "      <th>Sex</th>\n",
       "      <th>Age</th>\n",
       "      <th>Fare</th>\n",
       "      <th>IsAlone</th>\n",
       "      <th>Age*Class</th>\n",
       "      <th>Title_Miss</th>\n",
       "      <th>Title_Mr</th>\n",
       "      <th>Title_Mrs</th>\n",
       "      <th>Title_Rare</th>\n",
       "      <th>Em_Q</th>\n",
       "      <th>Em_S</th>\n",
       "    </tr>\n",
       "  </thead>\n",
       "  <tbody>\n",
       "    <tr>\n",
       "      <th>0</th>\n",
       "      <td>0</td>\n",
       "      <td>3</td>\n",
       "      <td>0</td>\n",
       "      <td>1</td>\n",
       "      <td>1</td>\n",
       "      <td>0</td>\n",
       "      <td>3</td>\n",
       "      <td>0</td>\n",
       "      <td>1</td>\n",
       "      <td>0</td>\n",
       "      <td>0</td>\n",
       "      <td>0</td>\n",
       "      <td>1</td>\n",
       "    </tr>\n",
       "    <tr>\n",
       "      <th>1</th>\n",
       "      <td>1</td>\n",
       "      <td>1</td>\n",
       "      <td>1</td>\n",
       "      <td>2</td>\n",
       "      <td>2</td>\n",
       "      <td>0</td>\n",
       "      <td>2</td>\n",
       "      <td>0</td>\n",
       "      <td>0</td>\n",
       "      <td>1</td>\n",
       "      <td>0</td>\n",
       "      <td>0</td>\n",
       "      <td>0</td>\n",
       "    </tr>\n",
       "    <tr>\n",
       "      <th>2</th>\n",
       "      <td>1</td>\n",
       "      <td>3</td>\n",
       "      <td>1</td>\n",
       "      <td>1</td>\n",
       "      <td>1</td>\n",
       "      <td>1</td>\n",
       "      <td>3</td>\n",
       "      <td>1</td>\n",
       "      <td>0</td>\n",
       "      <td>0</td>\n",
       "      <td>0</td>\n",
       "      <td>0</td>\n",
       "      <td>1</td>\n",
       "    </tr>\n",
       "    <tr>\n",
       "      <th>3</th>\n",
       "      <td>1</td>\n",
       "      <td>1</td>\n",
       "      <td>1</td>\n",
       "      <td>2</td>\n",
       "      <td>2</td>\n",
       "      <td>0</td>\n",
       "      <td>2</td>\n",
       "      <td>0</td>\n",
       "      <td>0</td>\n",
       "      <td>1</td>\n",
       "      <td>0</td>\n",
       "      <td>0</td>\n",
       "      <td>1</td>\n",
       "    </tr>\n",
       "    <tr>\n",
       "      <th>4</th>\n",
       "      <td>0</td>\n",
       "      <td>3</td>\n",
       "      <td>0</td>\n",
       "      <td>2</td>\n",
       "      <td>1</td>\n",
       "      <td>1</td>\n",
       "      <td>6</td>\n",
       "      <td>0</td>\n",
       "      <td>1</td>\n",
       "      <td>0</td>\n",
       "      <td>0</td>\n",
       "      <td>0</td>\n",
       "      <td>1</td>\n",
       "    </tr>\n",
       "  </tbody>\n",
       "</table>\n",
       "</div>"
      ],
      "text/plain": [
       "   Survived  Pclass  Sex  Age  Fare  IsAlone  Age*Class  Title_Miss  Title_Mr  \\\n",
       "0         0       3    0    1     1        0          3           0         1   \n",
       "1         1       1    1    2     2        0          2           0         0   \n",
       "2         1       3    1    1     1        1          3           1         0   \n",
       "3         1       1    1    2     2        0          2           0         0   \n",
       "4         0       3    0    2     1        1          6           0         1   \n",
       "\n",
       "   Title_Mrs  Title_Rare  Em_Q  Em_S  \n",
       "0          0           0     0     1  \n",
       "1          1           0     0     0  \n",
       "2          0           0     0     1  \n",
       "3          1           0     0     1  \n",
       "4          0           0     0     1  "
      ]
     },
     "execution_count": 128,
     "metadata": {},
     "output_type": "execute_result"
    }
   ],
   "source": [
    "train[\"Survived\"] = train[\"Survived\"].astype(\"int\")\n",
    "train.head()"
   ]
  },
  {
   "cell_type": "code",
   "execution_count": 129,
   "id": "0cb306b3",
   "metadata": {},
   "outputs": [
    {
     "data": {
      "text/html": [
       "<div>\n",
       "<style scoped>\n",
       "    .dataframe tbody tr th:only-of-type {\n",
       "        vertical-align: middle;\n",
       "    }\n",
       "\n",
       "    .dataframe tbody tr th {\n",
       "        vertical-align: top;\n",
       "    }\n",
       "\n",
       "    .dataframe thead th {\n",
       "        text-align: right;\n",
       "    }\n",
       "</style>\n",
       "<table border=\"1\" class=\"dataframe\">\n",
       "  <thead>\n",
       "    <tr style=\"text-align: right;\">\n",
       "      <th></th>\n",
       "      <th>PassengerId</th>\n",
       "      <th>Survived</th>\n",
       "      <th>Pclass</th>\n",
       "      <th>Sex</th>\n",
       "      <th>Age</th>\n",
       "      <th>Fare</th>\n",
       "      <th>IsAlone</th>\n",
       "      <th>Age*Class</th>\n",
       "      <th>Title_Miss</th>\n",
       "      <th>Title_Mr</th>\n",
       "      <th>Title_Mrs</th>\n",
       "      <th>Title_Rare</th>\n",
       "      <th>Em_Q</th>\n",
       "      <th>Em_S</th>\n",
       "    </tr>\n",
       "  </thead>\n",
       "  <tbody>\n",
       "    <tr>\n",
       "      <th>874</th>\n",
       "      <td>892</td>\n",
       "      <td>NaN</td>\n",
       "      <td>3</td>\n",
       "      <td>0</td>\n",
       "      <td>2</td>\n",
       "      <td>1</td>\n",
       "      <td>1</td>\n",
       "      <td>6</td>\n",
       "      <td>0</td>\n",
       "      <td>1</td>\n",
       "      <td>0</td>\n",
       "      <td>0</td>\n",
       "      <td>1</td>\n",
       "      <td>0</td>\n",
       "    </tr>\n",
       "    <tr>\n",
       "      <th>875</th>\n",
       "      <td>893</td>\n",
       "      <td>NaN</td>\n",
       "      <td>3</td>\n",
       "      <td>1</td>\n",
       "      <td>2</td>\n",
       "      <td>1</td>\n",
       "      <td>0</td>\n",
       "      <td>6</td>\n",
       "      <td>0</td>\n",
       "      <td>0</td>\n",
       "      <td>1</td>\n",
       "      <td>0</td>\n",
       "      <td>0</td>\n",
       "      <td>1</td>\n",
       "    </tr>\n",
       "    <tr>\n",
       "      <th>876</th>\n",
       "      <td>894</td>\n",
       "      <td>NaN</td>\n",
       "      <td>2</td>\n",
       "      <td>0</td>\n",
       "      <td>3</td>\n",
       "      <td>1</td>\n",
       "      <td>1</td>\n",
       "      <td>6</td>\n",
       "      <td>0</td>\n",
       "      <td>1</td>\n",
       "      <td>0</td>\n",
       "      <td>0</td>\n",
       "      <td>1</td>\n",
       "      <td>0</td>\n",
       "    </tr>\n",
       "    <tr>\n",
       "      <th>877</th>\n",
       "      <td>895</td>\n",
       "      <td>NaN</td>\n",
       "      <td>3</td>\n",
       "      <td>0</td>\n",
       "      <td>1</td>\n",
       "      <td>1</td>\n",
       "      <td>1</td>\n",
       "      <td>3</td>\n",
       "      <td>0</td>\n",
       "      <td>1</td>\n",
       "      <td>0</td>\n",
       "      <td>0</td>\n",
       "      <td>0</td>\n",
       "      <td>1</td>\n",
       "    </tr>\n",
       "    <tr>\n",
       "      <th>878</th>\n",
       "      <td>896</td>\n",
       "      <td>NaN</td>\n",
       "      <td>3</td>\n",
       "      <td>1</td>\n",
       "      <td>1</td>\n",
       "      <td>1</td>\n",
       "      <td>0</td>\n",
       "      <td>3</td>\n",
       "      <td>0</td>\n",
       "      <td>0</td>\n",
       "      <td>1</td>\n",
       "      <td>0</td>\n",
       "      <td>0</td>\n",
       "      <td>1</td>\n",
       "    </tr>\n",
       "  </tbody>\n",
       "</table>\n",
       "</div>"
      ],
      "text/plain": [
       "     PassengerId  Survived  Pclass  Sex  Age  Fare  IsAlone  Age*Class  \\\n",
       "874          892       NaN       3    0    2     1        1          6   \n",
       "875          893       NaN       3    1    2     1        0          6   \n",
       "876          894       NaN       2    0    3     1        1          6   \n",
       "877          895       NaN       3    0    1     1        1          3   \n",
       "878          896       NaN       3    1    1     1        0          3   \n",
       "\n",
       "     Title_Miss  Title_Mr  Title_Mrs  Title_Rare  Em_Q  Em_S  \n",
       "874           0         1          0           0     1     0  \n",
       "875           0         0          1           0     0     1  \n",
       "876           0         1          0           0     1     0  \n",
       "877           0         1          0           0     0     1  \n",
       "878           0         0          1           0     0     1  "
      ]
     },
     "execution_count": 129,
     "metadata": {},
     "output_type": "execute_result"
    }
   ],
   "source": [
    "# --------- \n",
    "\n",
    "test.head()"
   ]
  },
  {
   "cell_type": "code",
   "execution_count": 130,
   "id": "8ac4dee9",
   "metadata": {},
   "outputs": [
    {
     "data": {
      "text/html": [
       "<div>\n",
       "<style scoped>\n",
       "    .dataframe tbody tr th:only-of-type {\n",
       "        vertical-align: middle;\n",
       "    }\n",
       "\n",
       "    .dataframe tbody tr th {\n",
       "        vertical-align: top;\n",
       "    }\n",
       "\n",
       "    .dataframe thead th {\n",
       "        text-align: right;\n",
       "    }\n",
       "</style>\n",
       "<table border=\"1\" class=\"dataframe\">\n",
       "  <thead>\n",
       "    <tr style=\"text-align: right;\">\n",
       "      <th></th>\n",
       "      <th>PassengerId</th>\n",
       "      <th>Pclass</th>\n",
       "      <th>Sex</th>\n",
       "      <th>Age</th>\n",
       "      <th>Fare</th>\n",
       "      <th>IsAlone</th>\n",
       "      <th>Age*Class</th>\n",
       "      <th>Title_Miss</th>\n",
       "      <th>Title_Mr</th>\n",
       "      <th>Title_Mrs</th>\n",
       "      <th>Title_Rare</th>\n",
       "      <th>Em_Q</th>\n",
       "      <th>Em_S</th>\n",
       "    </tr>\n",
       "  </thead>\n",
       "  <tbody>\n",
       "    <tr>\n",
       "      <th>874</th>\n",
       "      <td>892</td>\n",
       "      <td>3</td>\n",
       "      <td>0</td>\n",
       "      <td>2</td>\n",
       "      <td>1</td>\n",
       "      <td>1</td>\n",
       "      <td>6</td>\n",
       "      <td>0</td>\n",
       "      <td>1</td>\n",
       "      <td>0</td>\n",
       "      <td>0</td>\n",
       "      <td>1</td>\n",
       "      <td>0</td>\n",
       "    </tr>\n",
       "    <tr>\n",
       "      <th>875</th>\n",
       "      <td>893</td>\n",
       "      <td>3</td>\n",
       "      <td>1</td>\n",
       "      <td>2</td>\n",
       "      <td>1</td>\n",
       "      <td>0</td>\n",
       "      <td>6</td>\n",
       "      <td>0</td>\n",
       "      <td>0</td>\n",
       "      <td>1</td>\n",
       "      <td>0</td>\n",
       "      <td>0</td>\n",
       "      <td>1</td>\n",
       "    </tr>\n",
       "    <tr>\n",
       "      <th>876</th>\n",
       "      <td>894</td>\n",
       "      <td>2</td>\n",
       "      <td>0</td>\n",
       "      <td>3</td>\n",
       "      <td>1</td>\n",
       "      <td>1</td>\n",
       "      <td>6</td>\n",
       "      <td>0</td>\n",
       "      <td>1</td>\n",
       "      <td>0</td>\n",
       "      <td>0</td>\n",
       "      <td>1</td>\n",
       "      <td>0</td>\n",
       "    </tr>\n",
       "    <tr>\n",
       "      <th>877</th>\n",
       "      <td>895</td>\n",
       "      <td>3</td>\n",
       "      <td>0</td>\n",
       "      <td>1</td>\n",
       "      <td>1</td>\n",
       "      <td>1</td>\n",
       "      <td>3</td>\n",
       "      <td>0</td>\n",
       "      <td>1</td>\n",
       "      <td>0</td>\n",
       "      <td>0</td>\n",
       "      <td>0</td>\n",
       "      <td>1</td>\n",
       "    </tr>\n",
       "    <tr>\n",
       "      <th>878</th>\n",
       "      <td>896</td>\n",
       "      <td>3</td>\n",
       "      <td>1</td>\n",
       "      <td>1</td>\n",
       "      <td>1</td>\n",
       "      <td>0</td>\n",
       "      <td>3</td>\n",
       "      <td>0</td>\n",
       "      <td>0</td>\n",
       "      <td>1</td>\n",
       "      <td>0</td>\n",
       "      <td>0</td>\n",
       "      <td>1</td>\n",
       "    </tr>\n",
       "  </tbody>\n",
       "</table>\n",
       "</div>"
      ],
      "text/plain": [
       "     PassengerId  Pclass  Sex  Age  Fare  IsAlone  Age*Class  Title_Miss  \\\n",
       "874          892       3    0    2     1        1          6           0   \n",
       "875          893       3    1    2     1        0          6           0   \n",
       "876          894       2    0    3     1        1          6           0   \n",
       "877          895       3    0    1     1        1          3           0   \n",
       "878          896       3    1    1     1        0          3           0   \n",
       "\n",
       "     Title_Mr  Title_Mrs  Title_Rare  Em_Q  Em_S  \n",
       "874         1          0           0     1     0  \n",
       "875         0          1           0     0     1  \n",
       "876         1          0           0     1     0  \n",
       "877         1          0           0     0     1  \n",
       "878         0          1           0     0     1  "
      ]
     },
     "execution_count": 130,
     "metadata": {},
     "output_type": "execute_result"
    }
   ],
   "source": [
    "# we will drop Survived from test dataset\n",
    "\n",
    "test = test.drop(\"Survived\",axis=1)\n",
    "test.head()"
   ]
  },
  {
   "cell_type": "markdown",
   "id": "f5d020f7",
   "metadata": {},
   "source": [
    "# 5. Modelling"
   ]
  },
  {
   "cell_type": "code",
   "execution_count": 131,
   "id": "afa75a9a",
   "metadata": {},
   "outputs": [],
   "source": [
    "X_train = train.drop(\"Survived\",axis=1)\n",
    "Y_train = train[\"Survived\"]\n",
    "X_test = test.drop(\"PassengerId\",axis=1).copy()"
   ]
  },
  {
   "cell_type": "code",
   "execution_count": 132,
   "id": "39c8e975",
   "metadata": {},
   "outputs": [
    {
     "data": {
      "text/plain": [
       "(874, 12)"
      ]
     },
     "execution_count": 132,
     "metadata": {},
     "output_type": "execute_result"
    }
   ],
   "source": [
    "X_train.shape"
   ]
  },
  {
   "cell_type": "code",
   "execution_count": 133,
   "id": "29e4eeb9",
   "metadata": {},
   "outputs": [
    {
     "data": {
      "text/plain": [
       "(874,)"
      ]
     },
     "execution_count": 133,
     "metadata": {},
     "output_type": "execute_result"
    }
   ],
   "source": [
    "Y_train.shape"
   ]
  },
  {
   "cell_type": "code",
   "execution_count": 134,
   "id": "41115143",
   "metadata": {
    "scrolled": true
   },
   "outputs": [
    {
     "data": {
      "text/plain": [
       "(418, 12)"
      ]
     },
     "execution_count": 134,
     "metadata": {},
     "output_type": "execute_result"
    }
   ],
   "source": [
    "X_test.shape"
   ]
  },
  {
   "cell_type": "markdown",
   "id": "cfdc5263",
   "metadata": {},
   "source": [
    "Logistic Regression is a useful model to run early in the workflow. Logistic regression measures the relationship between the categorical dependent variable (feature) and one or more independent variables (features) by estimating probabilities using a logistic function, which is the cumulative logistic distribution. Reference https://en.wikipedia.org/wiki/Logistic_regression.\n",
    "\n",
    "Note the confidence score generated by the model based on our training dataset."
   ]
  },
  {
   "cell_type": "code",
   "execution_count": 135,
   "id": "4348e60e",
   "metadata": {
    "scrolled": true
   },
   "outputs": [
    {
     "data": {
      "text/plain": [
       "81.24"
      ]
     },
     "execution_count": 135,
     "metadata": {},
     "output_type": "execute_result"
    }
   ],
   "source": [
    "# LogisticRegression\n",
    "from sklearn.linear_model import LogisticRegression\n",
    "\n",
    "LogReg = LogisticRegression()\n",
    "LogReg.fit(X_train,Y_train)\n",
    "Y_pred = LogReg.predict(X_test)\n",
    "acc_LogReg = round(LogReg.score(X_train,Y_train)*100,2)\n",
    "acc_LogReg"
   ]
  },
  {
   "cell_type": "code",
   "execution_count": 136,
   "id": "8de8f144",
   "metadata": {
    "scrolled": false
   },
   "outputs": [
    {
     "data": {
      "text/html": [
       "<div>\n",
       "<style scoped>\n",
       "    .dataframe tbody tr th:only-of-type {\n",
       "        vertical-align: middle;\n",
       "    }\n",
       "\n",
       "    .dataframe tbody tr th {\n",
       "        vertical-align: top;\n",
       "    }\n",
       "\n",
       "    .dataframe thead th {\n",
       "        text-align: right;\n",
       "    }\n",
       "</style>\n",
       "<table border=\"1\" class=\"dataframe\">\n",
       "  <thead>\n",
       "    <tr style=\"text-align: right;\">\n",
       "      <th></th>\n",
       "      <th>Feature</th>\n",
       "      <th>Correlation</th>\n",
       "    </tr>\n",
       "  </thead>\n",
       "  <tbody>\n",
       "    <tr>\n",
       "      <th>1</th>\n",
       "      <td>Sex</td>\n",
       "      <td>0.981043</td>\n",
       "    </tr>\n",
       "    <tr>\n",
       "      <th>4</th>\n",
       "      <td>IsAlone</td>\n",
       "      <td>0.417676</td>\n",
       "    </tr>\n",
       "    <tr>\n",
       "      <th>8</th>\n",
       "      <td>Title_Mrs</td>\n",
       "      <td>0.393290</td>\n",
       "    </tr>\n",
       "    <tr>\n",
       "      <th>5</th>\n",
       "      <td>Age*Class</td>\n",
       "      <td>-0.053016</td>\n",
       "    </tr>\n",
       "    <tr>\n",
       "      <th>3</th>\n",
       "      <td>Fare</td>\n",
       "      <td>-0.063863</td>\n",
       "    </tr>\n",
       "    <tr>\n",
       "      <th>10</th>\n",
       "      <td>Em_Q</td>\n",
       "      <td>-0.111295</td>\n",
       "    </tr>\n",
       "    <tr>\n",
       "      <th>6</th>\n",
       "      <td>Title_Miss</td>\n",
       "      <td>-0.310951</td>\n",
       "    </tr>\n",
       "    <tr>\n",
       "      <th>2</th>\n",
       "      <td>Age</td>\n",
       "      <td>-0.367596</td>\n",
       "    </tr>\n",
       "    <tr>\n",
       "      <th>11</th>\n",
       "      <td>Em_S</td>\n",
       "      <td>-0.503493</td>\n",
       "    </tr>\n",
       "    <tr>\n",
       "      <th>0</th>\n",
       "      <td>Pclass</td>\n",
       "      <td>-1.168224</td>\n",
       "    </tr>\n",
       "    <tr>\n",
       "      <th>9</th>\n",
       "      <td>Title_Rare</td>\n",
       "      <td>-1.520949</td>\n",
       "    </tr>\n",
       "    <tr>\n",
       "      <th>7</th>\n",
       "      <td>Title_Mr</td>\n",
       "      <td>-1.990213</td>\n",
       "    </tr>\n",
       "  </tbody>\n",
       "</table>\n",
       "</div>"
      ],
      "text/plain": [
       "       Feature  Correlation\n",
       "1          Sex     0.981043\n",
       "4      IsAlone     0.417676\n",
       "8    Title_Mrs     0.393290\n",
       "5    Age*Class    -0.053016\n",
       "3         Fare    -0.063863\n",
       "10        Em_Q    -0.111295\n",
       "6   Title_Miss    -0.310951\n",
       "2          Age    -0.367596\n",
       "11        Em_S    -0.503493\n",
       "0       Pclass    -1.168224\n",
       "9   Title_Rare    -1.520949\n",
       "7     Title_Mr    -1.990213"
      ]
     },
     "execution_count": 136,
     "metadata": {},
     "output_type": "execute_result"
    }
   ],
   "source": [
    "coeff_df = pd.DataFrame(train.columns.delete(0))\n",
    "coeff_df.columns = ['Feature']\n",
    "coeff_df[\"Correlation\"] = pd.Series(LogReg.coef_[0])\n",
    "\n",
    "coeff_df.sort_values(by='Correlation', ascending=False)"
   ]
  },
  {
   "cell_type": "markdown",
   "id": "46384741",
   "metadata": {},
   "source": [
    "We can use Logistic Regression to validate our assumptions and decisions for feature creating and completing goals. This can be done by calculating the coefficient of the features in the decision function.\n",
    "\n",
    "Positive coefficients increase the log-odds of the response (and thus increase the probability), and negative coefficients decrease the log-odds of the response (and thus decrease the probability).\n",
    "\n",
    "1. Sex is highest positivie coefficient, implying as the Sex value increases (male: 0 to female: 1), the probability of Survived=1 increases the most.\n",
    "\n",
    "2. Inversely as Pclass increases, probability of Survived=1 decreases the most.\n",
    "\n"
   ]
  },
  {
   "cell_type": "markdown",
   "id": "83a0a6ca",
   "metadata": {},
   "source": [
    "Next we model using Support Vector Machines which are supervised learning models with associated learning algorithms that analyze data used for classification and regression analysis. Given a set of training samples, each marked as belonging to one or the other of two categories, an SVM training algorithm builds a model that assigns new test samples to one category or the other, making it a non-probabilistic binary linear classifier. Reference  https://en.wikipedia.org/wiki/Support-vector_machine"
   ]
  },
  {
   "cell_type": "code",
   "execution_count": 137,
   "id": "f028fea8",
   "metadata": {
    "scrolled": true
   },
   "outputs": [
    {
     "data": {
      "text/plain": [
       "83.07"
      ]
     },
     "execution_count": 137,
     "metadata": {},
     "output_type": "execute_result"
    }
   ],
   "source": [
    "\n",
    "svc = SVC()\n",
    "svc.fit(X_train, Y_train)\n",
    "Y_pred = svc.predict(X_test)\n",
    "acc_svc = round(svc.score(X_train, Y_train) * 100, 2)\n",
    "acc_svc"
   ]
  },
  {
   "cell_type": "markdown",
   "id": "d353e841",
   "metadata": {},
   "source": [
    "In pattern recognition, the k-Nearest Neighbors algorithm (or k-NN for short) is a non-parametric method used for classification and regression. A sample is classified by a majority vote of its neighbors, with the sample being assigned to the class most common among its k nearest neighbors (k is a positive integer, typically small). If k = 1, then the object is simply assigned to the class of that single nearest neighbor. Reference https://en.wikipedia.org/wiki/K-nearest_neighbors_algorithm"
   ]
  },
  {
   "cell_type": "code",
   "execution_count": 138,
   "id": "e7bd31e0",
   "metadata": {
    "scrolled": true
   },
   "outputs": [
    {
     "data": {
      "text/plain": [
       "84.32"
      ]
     },
     "execution_count": 138,
     "metadata": {},
     "output_type": "execute_result"
    }
   ],
   "source": [
    "\n",
    "knn = KNeighborsClassifier(n_neighbors = 5)\n",
    "knn.fit(X_train, Y_train)\n",
    "Y_pred = knn.predict(X_test)\n",
    "acc_knn = round(knn.score(X_train, Y_train) * 100, 2)\n",
    "acc_knn"
   ]
  },
  {
   "cell_type": "markdown",
   "id": "bfa0b8f4",
   "metadata": {},
   "source": [
    "In machine learning, naive Bayes classifiers are a family of simple probabilistic classifiers based on applying Bayes' theorem with strong (naive) independence assumptions between the features. Naive Bayes classifiers are highly scalable, requiring a number of parameters linear in the number of variables (features) in a learning problem. Reference https://en.wikipedia.org/wiki/Naive_Bayes_classifier"
   ]
  },
  {
   "cell_type": "code",
   "execution_count": 139,
   "id": "9ac6b8a7",
   "metadata": {
    "scrolled": true
   },
   "outputs": [
    {
     "data": {
      "text/plain": [
       "78.83"
      ]
     },
     "execution_count": 139,
     "metadata": {},
     "output_type": "execute_result"
    }
   ],
   "source": [
    "\n",
    "gaussian = GaussianNB()\n",
    "gaussian.fit(X_train, Y_train)\n",
    "Y_pred = gaussian.predict(X_test)\n",
    "acc_gaussian = round(gaussian.score(X_train, Y_train) * 100, 2)\n",
    "acc_gaussian"
   ]
  },
  {
   "cell_type": "markdown",
   "id": "090b65ba",
   "metadata": {},
   "source": [
    "The perceptron is an algorithm for supervised learning of binary classifiers (functions that can decide whether an input, represented by a vector of numbers, belongs to some specific class or not). It is a type of linear classifier, i.e. a classification algorithm that makes its predictions based on a linear predictor function combining a set of weights with the feature vector. The algorithm allows for online learning, in that it processes elements in the training set one at a time. Reference https://en.wikipedia.org/wiki/Perceptron"
   ]
  },
  {
   "cell_type": "code",
   "execution_count": 140,
   "id": "4f0f21d8",
   "metadata": {},
   "outputs": [
    {
     "data": {
      "text/plain": [
       "78.38"
      ]
     },
     "execution_count": 140,
     "metadata": {},
     "output_type": "execute_result"
    }
   ],
   "source": [
    "perceptron = Perceptron()\n",
    "perceptron.fit(X_train, Y_train)\n",
    "Y_pred = perceptron.predict(X_test)\n",
    "acc_perceptron = round(perceptron.score(X_train, Y_train) * 100, 2)\n",
    "acc_perceptron"
   ]
  },
  {
   "cell_type": "code",
   "execution_count": 141,
   "id": "c1da4557",
   "metadata": {
    "scrolled": true
   },
   "outputs": [
    {
     "data": {
      "text/plain": [
       "80.78"
      ]
     },
     "execution_count": 141,
     "metadata": {},
     "output_type": "execute_result"
    }
   ],
   "source": [
    "\n",
    "linear_svc = LinearSVC()\n",
    "linear_svc.fit(X_train, Y_train)\n",
    "Y_pred = linear_svc.predict(X_test)\n",
    "acc_linear_svc = round(linear_svc.score(X_train, Y_train) * 100, 2)\n",
    "acc_linear_svc"
   ]
  },
  {
   "cell_type": "code",
   "execution_count": 142,
   "id": "9f065bdf",
   "metadata": {
    "scrolled": true
   },
   "outputs": [
    {
     "data": {
      "text/plain": [
       "78.6"
      ]
     },
     "execution_count": 142,
     "metadata": {},
     "output_type": "execute_result"
    }
   ],
   "source": [
    "\n",
    "sgd = SGDClassifier()\n",
    "sgd.fit(X_train, Y_train)\n",
    "Y_pred = sgd.predict(X_test)\n",
    "acc_sgd = round(sgd.score(X_train, Y_train) * 100, 2)\n",
    "acc_sgd"
   ]
  },
  {
   "cell_type": "markdown",
   "id": "a7da1247",
   "metadata": {},
   "source": [
    "This model uses a decision tree as a predictive model which maps features (tree branches) to conclusions about the target value (tree leaves). Tree models where the target variable can take a finite set of values are called classification trees; in these tree structures, leaves represent class labels and branches represent conjunctions of features that lead to those class labels. Decision trees where the target variable can take continuous values (typically real numbers) are called regression trees. Reference https://en.wikipedia.org/wiki/Decision_tree_learning"
   ]
  },
  {
   "cell_type": "code",
   "execution_count": 143,
   "id": "925c1649",
   "metadata": {
    "scrolled": true
   },
   "outputs": [
    {
     "data": {
      "text/plain": [
       "85.58"
      ]
     },
     "execution_count": 143,
     "metadata": {},
     "output_type": "execute_result"
    }
   ],
   "source": [
    "\n",
    "decision_tree = DecisionTreeClassifier()\n",
    "decision_tree.fit(X_train, Y_train)\n",
    "Y_pred = decision_tree.predict(X_test)\n",
    "acc_decision_tree = round(decision_tree.score(X_train, Y_train) * 100, 2)\n",
    "acc_decision_tree"
   ]
  },
  {
   "cell_type": "markdown",
   "id": "271cc316",
   "metadata": {},
   "source": [
    "The next model Random Forests is one of the most popular. Random forests or random decision forests are an ensemble learning method for classification, regression and other tasks, that operate by constructing a multitude of decision trees (n_estimators=100) at training time and outputting the class that is the mode of the classes (classification) or mean prediction (regression) of the individual trees. Reference https://en.wikipedia.org/wiki/Random_forest"
   ]
  },
  {
   "cell_type": "code",
   "execution_count": 144,
   "id": "54d731b7",
   "metadata": {
    "scrolled": true
   },
   "outputs": [
    {
     "data": {
      "text/plain": [
       "85.58"
      ]
     },
     "execution_count": 144,
     "metadata": {},
     "output_type": "execute_result"
    }
   ],
   "source": [
    "\n",
    "random_forest = RandomForestClassifier(n_estimators = 100)\n",
    "random_forest.fit(X_train, Y_train)\n",
    "Y_pred = random_forest.predict(X_test)\n",
    "acc_random_forest = round(random_forest.score(X_train, Y_train) * 100, 2)\n",
    "acc_random_forest"
   ]
  },
  {
   "cell_type": "code",
   "execution_count": 145,
   "id": "f080be4c",
   "metadata": {
    "scrolled": true
   },
   "outputs": [
    {
     "name": "stdout",
     "output_type": "stream",
     "text": [
      "Learning rate set to 0.009727\n",
      "0:\tlearn: 0.6861369\ttotal: 53.8ms\tremaining: 53.7s\n",
      "1:\tlearn: 0.6801110\ttotal: 54.5ms\tremaining: 27.2s\n",
      "2:\tlearn: 0.6733731\ttotal: 55.4ms\tremaining: 18.4s\n",
      "3:\tlearn: 0.6680236\ttotal: 56.2ms\tremaining: 14s\n",
      "4:\tlearn: 0.6616802\ttotal: 57.3ms\tremaining: 11.4s\n",
      "5:\tlearn: 0.6559280\ttotal: 58.6ms\tremaining: 9.7s\n",
      "6:\tlearn: 0.6496576\ttotal: 60.7ms\tremaining: 8.6s\n",
      "7:\tlearn: 0.6453415\ttotal: 61.4ms\tremaining: 7.61s\n",
      "8:\tlearn: 0.6398026\ttotal: 62.3ms\tremaining: 6.86s\n",
      "9:\tlearn: 0.6355084\ttotal: 63.1ms\tremaining: 6.24s\n",
      "10:\tlearn: 0.6296857\ttotal: 63.9ms\tremaining: 5.75s\n",
      "11:\tlearn: 0.6247601\ttotal: 65ms\tremaining: 5.35s\n",
      "12:\tlearn: 0.6196596\ttotal: 66.2ms\tremaining: 5.02s\n",
      "13:\tlearn: 0.6167468\ttotal: 67.1ms\tremaining: 4.73s\n",
      "14:\tlearn: 0.6119451\ttotal: 67.9ms\tremaining: 4.46s\n",
      "15:\tlearn: 0.6077051\ttotal: 68.6ms\tremaining: 4.22s\n",
      "16:\tlearn: 0.6028569\ttotal: 69.3ms\tremaining: 4.01s\n",
      "17:\tlearn: 0.5992051\ttotal: 70.2ms\tremaining: 3.83s\n",
      "18:\tlearn: 0.5944317\ttotal: 71.2ms\tremaining: 3.67s\n",
      "19:\tlearn: 0.5902262\ttotal: 72.3ms\tremaining: 3.54s\n",
      "20:\tlearn: 0.5864292\ttotal: 73.2ms\tremaining: 3.41s\n",
      "21:\tlearn: 0.5830912\ttotal: 73.7ms\tremaining: 3.28s\n",
      "22:\tlearn: 0.5786673\ttotal: 74.9ms\tremaining: 3.18s\n",
      "23:\tlearn: 0.5750069\ttotal: 75.8ms\tremaining: 3.08s\n",
      "24:\tlearn: 0.5704551\ttotal: 76.7ms\tremaining: 2.99s\n",
      "25:\tlearn: 0.5662122\ttotal: 77.5ms\tremaining: 2.9s\n",
      "26:\tlearn: 0.5627442\ttotal: 78.3ms\tremaining: 2.82s\n",
      "27:\tlearn: 0.5592012\ttotal: 79.1ms\tremaining: 2.75s\n",
      "28:\tlearn: 0.5558311\ttotal: 80ms\tremaining: 2.68s\n",
      "29:\tlearn: 0.5532100\ttotal: 80.7ms\tremaining: 2.61s\n",
      "30:\tlearn: 0.5502587\ttotal: 81.5ms\tremaining: 2.55s\n",
      "31:\tlearn: 0.5483777\ttotal: 82ms\tremaining: 2.48s\n",
      "32:\tlearn: 0.5454428\ttotal: 82.8ms\tremaining: 2.43s\n",
      "33:\tlearn: 0.5417629\ttotal: 83.6ms\tremaining: 2.38s\n",
      "34:\tlearn: 0.5390613\ttotal: 84.5ms\tremaining: 2.33s\n",
      "35:\tlearn: 0.5355260\ttotal: 85.4ms\tremaining: 2.29s\n",
      "36:\tlearn: 0.5330538\ttotal: 86.3ms\tremaining: 2.25s\n",
      "37:\tlearn: 0.5305598\ttotal: 87.1ms\tremaining: 2.21s\n",
      "38:\tlearn: 0.5279833\ttotal: 87.9ms\tremaining: 2.17s\n",
      "39:\tlearn: 0.5248904\ttotal: 88.7ms\tremaining: 2.13s\n",
      "40:\tlearn: 0.5225619\ttotal: 89.5ms\tremaining: 2.09s\n",
      "41:\tlearn: 0.5201667\ttotal: 90.3ms\tremaining: 2.06s\n",
      "42:\tlearn: 0.5175524\ttotal: 91.3ms\tremaining: 2.03s\n",
      "43:\tlearn: 0.5159433\ttotal: 92.1ms\tremaining: 2s\n",
      "44:\tlearn: 0.5131988\ttotal: 93.8ms\tremaining: 1.99s\n",
      "45:\tlearn: 0.5118221\ttotal: 94.4ms\tremaining: 1.96s\n",
      "46:\tlearn: 0.5091816\ttotal: 95.1ms\tremaining: 1.93s\n",
      "47:\tlearn: 0.5068020\ttotal: 96.1ms\tremaining: 1.91s\n",
      "48:\tlearn: 0.5039042\ttotal: 96.8ms\tremaining: 1.88s\n",
      "49:\tlearn: 0.5011843\ttotal: 98.1ms\tremaining: 1.86s\n",
      "50:\tlearn: 0.4989572\ttotal: 99.1ms\tremaining: 1.84s\n",
      "51:\tlearn: 0.4965782\ttotal: 100ms\tremaining: 1.82s\n",
      "52:\tlearn: 0.4949585\ttotal: 101ms\tremaining: 1.8s\n",
      "53:\tlearn: 0.4931860\ttotal: 101ms\tremaining: 1.77s\n",
      "54:\tlearn: 0.4908921\ttotal: 102ms\tremaining: 1.75s\n",
      "55:\tlearn: 0.4889593\ttotal: 103ms\tremaining: 1.74s\n",
      "56:\tlearn: 0.4869385\ttotal: 104ms\tremaining: 1.72s\n",
      "57:\tlearn: 0.4850807\ttotal: 105ms\tremaining: 1.7s\n",
      "58:\tlearn: 0.4836461\ttotal: 106ms\tremaining: 1.69s\n",
      "59:\tlearn: 0.4818850\ttotal: 107ms\tremaining: 1.67s\n",
      "60:\tlearn: 0.4798958\ttotal: 108ms\tremaining: 1.66s\n",
      "61:\tlearn: 0.4781188\ttotal: 109ms\tremaining: 1.64s\n",
      "62:\tlearn: 0.4758810\ttotal: 110ms\tremaining: 1.63s\n",
      "63:\tlearn: 0.4742633\ttotal: 110ms\tremaining: 1.61s\n",
      "64:\tlearn: 0.4724724\ttotal: 111ms\tremaining: 1.6s\n",
      "65:\tlearn: 0.4705913\ttotal: 112ms\tremaining: 1.59s\n",
      "66:\tlearn: 0.4689741\ttotal: 114ms\tremaining: 1.59s\n",
      "67:\tlearn: 0.4675517\ttotal: 115ms\tremaining: 1.57s\n",
      "68:\tlearn: 0.4659761\ttotal: 116ms\tremaining: 1.57s\n",
      "69:\tlearn: 0.4640915\ttotal: 117ms\tremaining: 1.55s\n",
      "70:\tlearn: 0.4628011\ttotal: 117ms\tremaining: 1.54s\n",
      "71:\tlearn: 0.4617389\ttotal: 118ms\tremaining: 1.52s\n",
      "72:\tlearn: 0.4602824\ttotal: 119ms\tremaining: 1.51s\n",
      "73:\tlearn: 0.4586104\ttotal: 120ms\tremaining: 1.5s\n",
      "74:\tlearn: 0.4570874\ttotal: 121ms\tremaining: 1.49s\n",
      "75:\tlearn: 0.4557583\ttotal: 122ms\tremaining: 1.48s\n",
      "76:\tlearn: 0.4545705\ttotal: 123ms\tremaining: 1.47s\n",
      "77:\tlearn: 0.4535789\ttotal: 123ms\tremaining: 1.46s\n",
      "78:\tlearn: 0.4520333\ttotal: 125ms\tremaining: 1.45s\n",
      "79:\tlearn: 0.4509763\ttotal: 126ms\tremaining: 1.44s\n",
      "80:\tlearn: 0.4499472\ttotal: 127ms\tremaining: 1.44s\n",
      "81:\tlearn: 0.4486346\ttotal: 127ms\tremaining: 1.42s\n",
      "82:\tlearn: 0.4471781\ttotal: 128ms\tremaining: 1.42s\n",
      "83:\tlearn: 0.4461097\ttotal: 129ms\tremaining: 1.41s\n",
      "84:\tlearn: 0.4455762\ttotal: 130ms\tremaining: 1.4s\n",
      "85:\tlearn: 0.4443069\ttotal: 131ms\tremaining: 1.39s\n",
      "86:\tlearn: 0.4434249\ttotal: 132ms\tremaining: 1.38s\n",
      "87:\tlearn: 0.4422795\ttotal: 133ms\tremaining: 1.37s\n",
      "88:\tlearn: 0.4414808\ttotal: 133ms\tremaining: 1.36s\n",
      "89:\tlearn: 0.4401213\ttotal: 134ms\tremaining: 1.36s\n",
      "90:\tlearn: 0.4395361\ttotal: 135ms\tremaining: 1.35s\n",
      "91:\tlearn: 0.4388487\ttotal: 135ms\tremaining: 1.33s\n",
      "92:\tlearn: 0.4375940\ttotal: 137ms\tremaining: 1.33s\n",
      "93:\tlearn: 0.4367880\ttotal: 138ms\tremaining: 1.33s\n",
      "94:\tlearn: 0.4355695\ttotal: 139ms\tremaining: 1.33s\n",
      "95:\tlearn: 0.4342915\ttotal: 142ms\tremaining: 1.33s\n",
      "96:\tlearn: 0.4334120\ttotal: 143ms\tremaining: 1.33s\n",
      "97:\tlearn: 0.4321652\ttotal: 143ms\tremaining: 1.32s\n",
      "98:\tlearn: 0.4312237\ttotal: 144ms\tremaining: 1.31s\n",
      "99:\tlearn: 0.4301808\ttotal: 145ms\tremaining: 1.3s\n",
      "100:\tlearn: 0.4296295\ttotal: 145ms\tremaining: 1.29s\n",
      "101:\tlearn: 0.4289440\ttotal: 146ms\tremaining: 1.28s\n",
      "102:\tlearn: 0.4281814\ttotal: 150ms\tremaining: 1.3s\n",
      "103:\tlearn: 0.4276275\ttotal: 150ms\tremaining: 1.29s\n",
      "104:\tlearn: 0.4265007\ttotal: 152ms\tremaining: 1.29s\n",
      "105:\tlearn: 0.4256521\ttotal: 168ms\tremaining: 1.42s\n",
      "106:\tlearn: 0.4246724\ttotal: 169ms\tremaining: 1.41s\n",
      "107:\tlearn: 0.4240453\ttotal: 170ms\tremaining: 1.4s\n",
      "108:\tlearn: 0.4230053\ttotal: 170ms\tremaining: 1.39s\n",
      "109:\tlearn: 0.4221828\ttotal: 173ms\tremaining: 1.4s\n",
      "110:\tlearn: 0.4215428\ttotal: 177ms\tremaining: 1.42s\n",
      "111:\tlearn: 0.4212773\ttotal: 179ms\tremaining: 1.42s\n",
      "112:\tlearn: 0.4209374\ttotal: 180ms\tremaining: 1.41s\n",
      "113:\tlearn: 0.4202882\ttotal: 182ms\tremaining: 1.42s\n",
      "114:\tlearn: 0.4193915\ttotal: 183ms\tremaining: 1.41s\n",
      "115:\tlearn: 0.4185606\ttotal: 186ms\tremaining: 1.42s\n",
      "116:\tlearn: 0.4178356\ttotal: 188ms\tremaining: 1.42s\n",
      "117:\tlearn: 0.4171097\ttotal: 188ms\tremaining: 1.41s\n",
      "118:\tlearn: 0.4166963\ttotal: 189ms\tremaining: 1.4s\n",
      "119:\tlearn: 0.4161001\ttotal: 190ms\tremaining: 1.39s\n",
      "120:\tlearn: 0.4155590\ttotal: 191ms\tremaining: 1.39s\n",
      "121:\tlearn: 0.4147427\ttotal: 193ms\tremaining: 1.39s\n",
      "122:\tlearn: 0.4141295\ttotal: 196ms\tremaining: 1.39s\n",
      "123:\tlearn: 0.4133438\ttotal: 197ms\tremaining: 1.39s\n",
      "124:\tlearn: 0.4125818\ttotal: 197ms\tremaining: 1.38s\n",
      "125:\tlearn: 0.4119498\ttotal: 198ms\tremaining: 1.37s\n",
      "126:\tlearn: 0.4115023\ttotal: 199ms\tremaining: 1.37s\n",
      "127:\tlearn: 0.4110549\ttotal: 200ms\tremaining: 1.36s\n",
      "128:\tlearn: 0.4105152\ttotal: 200ms\tremaining: 1.35s\n",
      "129:\tlearn: 0.4100575\ttotal: 201ms\tremaining: 1.35s\n",
      "130:\tlearn: 0.4093811\ttotal: 202ms\tremaining: 1.34s\n",
      "131:\tlearn: 0.4089316\ttotal: 203ms\tremaining: 1.33s\n",
      "132:\tlearn: 0.4083661\ttotal: 203ms\tremaining: 1.32s\n",
      "133:\tlearn: 0.4079753\ttotal: 205ms\tremaining: 1.32s\n",
      "134:\tlearn: 0.4073166\ttotal: 206ms\tremaining: 1.32s\n",
      "135:\tlearn: 0.4066390\ttotal: 207ms\tremaining: 1.31s\n",
      "136:\tlearn: 0.4061618\ttotal: 208ms\tremaining: 1.31s\n",
      "137:\tlearn: 0.4058794\ttotal: 208ms\tremaining: 1.3s\n",
      "138:\tlearn: 0.4055526\ttotal: 209ms\tremaining: 1.29s\n",
      "139:\tlearn: 0.4050766\ttotal: 210ms\tremaining: 1.29s\n",
      "140:\tlearn: 0.4044449\ttotal: 211ms\tremaining: 1.28s\n",
      "141:\tlearn: 0.4038954\ttotal: 212ms\tremaining: 1.28s\n",
      "142:\tlearn: 0.4035317\ttotal: 213ms\tremaining: 1.28s\n",
      "143:\tlearn: 0.4029531\ttotal: 215ms\tremaining: 1.28s\n",
      "144:\tlearn: 0.4028237\ttotal: 216ms\tremaining: 1.27s\n",
      "145:\tlearn: 0.4023743\ttotal: 217ms\tremaining: 1.27s\n",
      "146:\tlearn: 0.4018674\ttotal: 218ms\tremaining: 1.27s\n",
      "147:\tlearn: 0.4016856\ttotal: 220ms\tremaining: 1.27s\n",
      "148:\tlearn: 0.4012605\ttotal: 221ms\tremaining: 1.26s\n",
      "149:\tlearn: 0.4008943\ttotal: 224ms\tremaining: 1.27s\n",
      "150:\tlearn: 0.4007226\ttotal: 225ms\tremaining: 1.27s\n",
      "151:\tlearn: 0.4004258\ttotal: 227ms\tremaining: 1.26s\n",
      "152:\tlearn: 0.4000403\ttotal: 228ms\tremaining: 1.26s\n",
      "153:\tlearn: 0.3997982\ttotal: 230ms\tremaining: 1.26s\n",
      "154:\tlearn: 0.3992546\ttotal: 231ms\tremaining: 1.26s\n",
      "155:\tlearn: 0.3987473\ttotal: 235ms\tremaining: 1.27s\n",
      "156:\tlearn: 0.3983842\ttotal: 237ms\tremaining: 1.27s\n",
      "157:\tlearn: 0.3981409\ttotal: 242ms\tremaining: 1.29s\n",
      "158:\tlearn: 0.3980345\ttotal: 242ms\tremaining: 1.28s\n",
      "159:\tlearn: 0.3978908\ttotal: 243ms\tremaining: 1.28s\n",
      "160:\tlearn: 0.3978450\ttotal: 244ms\tremaining: 1.27s\n",
      "161:\tlearn: 0.3974738\ttotal: 246ms\tremaining: 1.27s\n",
      "162:\tlearn: 0.3970864\ttotal: 246ms\tremaining: 1.26s\n",
      "163:\tlearn: 0.3967498\ttotal: 247ms\tremaining: 1.26s\n"
     ]
    },
    {
     "name": "stdout",
     "output_type": "stream",
     "text": [
      "164:\tlearn: 0.3963460\ttotal: 248ms\tremaining: 1.25s\n",
      "165:\tlearn: 0.3961794\ttotal: 249ms\tremaining: 1.25s\n",
      "166:\tlearn: 0.3956336\ttotal: 250ms\tremaining: 1.25s\n",
      "167:\tlearn: 0.3955190\ttotal: 251ms\tremaining: 1.24s\n",
      "168:\tlearn: 0.3950446\ttotal: 251ms\tremaining: 1.24s\n",
      "169:\tlearn: 0.3947964\ttotal: 255ms\tremaining: 1.24s\n",
      "170:\tlearn: 0.3945146\ttotal: 255ms\tremaining: 1.24s\n",
      "171:\tlearn: 0.3942780\ttotal: 256ms\tremaining: 1.23s\n",
      "172:\tlearn: 0.3938582\ttotal: 257ms\tremaining: 1.23s\n",
      "173:\tlearn: 0.3935779\ttotal: 258ms\tremaining: 1.22s\n",
      "174:\tlearn: 0.3934535\ttotal: 258ms\tremaining: 1.22s\n",
      "175:\tlearn: 0.3929905\ttotal: 259ms\tremaining: 1.21s\n",
      "176:\tlearn: 0.3925731\ttotal: 261ms\tremaining: 1.22s\n",
      "177:\tlearn: 0.3923197\ttotal: 262ms\tremaining: 1.21s\n",
      "178:\tlearn: 0.3920267\ttotal: 263ms\tremaining: 1.21s\n",
      "179:\tlearn: 0.3915913\ttotal: 264ms\tremaining: 1.2s\n",
      "180:\tlearn: 0.3914267\ttotal: 267ms\tremaining: 1.21s\n",
      "181:\tlearn: 0.3911659\ttotal: 269ms\tremaining: 1.21s\n",
      "182:\tlearn: 0.3909005\ttotal: 272ms\tremaining: 1.21s\n",
      "183:\tlearn: 0.3908166\ttotal: 273ms\tremaining: 1.21s\n",
      "184:\tlearn: 0.3905306\ttotal: 274ms\tremaining: 1.21s\n",
      "185:\tlearn: 0.3902522\ttotal: 275ms\tremaining: 1.2s\n",
      "186:\tlearn: 0.3899163\ttotal: 275ms\tremaining: 1.2s\n",
      "187:\tlearn: 0.3895473\ttotal: 276ms\tremaining: 1.19s\n",
      "188:\tlearn: 0.3891486\ttotal: 277ms\tremaining: 1.19s\n",
      "189:\tlearn: 0.3890714\ttotal: 278ms\tremaining: 1.19s\n",
      "190:\tlearn: 0.3890078\ttotal: 279ms\tremaining: 1.18s\n",
      "191:\tlearn: 0.3887460\ttotal: 280ms\tremaining: 1.18s\n",
      "192:\tlearn: 0.3885267\ttotal: 280ms\tremaining: 1.17s\n",
      "193:\tlearn: 0.3883026\ttotal: 283ms\tremaining: 1.18s\n",
      "194:\tlearn: 0.3879336\ttotal: 284ms\tremaining: 1.17s\n",
      "195:\tlearn: 0.3876933\ttotal: 285ms\tremaining: 1.17s\n",
      "196:\tlearn: 0.3875543\ttotal: 287ms\tremaining: 1.17s\n",
      "197:\tlearn: 0.3873055\ttotal: 288ms\tremaining: 1.17s\n",
      "198:\tlearn: 0.3870282\ttotal: 289ms\tremaining: 1.16s\n",
      "199:\tlearn: 0.3868123\ttotal: 290ms\tremaining: 1.16s\n",
      "200:\tlearn: 0.3864783\ttotal: 291ms\tremaining: 1.16s\n",
      "201:\tlearn: 0.3863543\ttotal: 292ms\tremaining: 1.15s\n",
      "202:\tlearn: 0.3861385\ttotal: 293ms\tremaining: 1.15s\n",
      "203:\tlearn: 0.3859106\ttotal: 294ms\tremaining: 1.15s\n",
      "204:\tlearn: 0.3857257\ttotal: 295ms\tremaining: 1.14s\n",
      "205:\tlearn: 0.3855036\ttotal: 296ms\tremaining: 1.14s\n",
      "206:\tlearn: 0.3852517\ttotal: 297ms\tremaining: 1.14s\n",
      "207:\tlearn: 0.3849885\ttotal: 298ms\tremaining: 1.13s\n",
      "208:\tlearn: 0.3847280\ttotal: 299ms\tremaining: 1.13s\n",
      "209:\tlearn: 0.3845236\ttotal: 300ms\tremaining: 1.13s\n",
      "210:\tlearn: 0.3843116\ttotal: 301ms\tremaining: 1.12s\n",
      "211:\tlearn: 0.3840968\ttotal: 302ms\tremaining: 1.12s\n",
      "212:\tlearn: 0.3839239\ttotal: 303ms\tremaining: 1.12s\n",
      "213:\tlearn: 0.3836875\ttotal: 303ms\tremaining: 1.11s\n",
      "214:\tlearn: 0.3834086\ttotal: 304ms\tremaining: 1.11s\n",
      "215:\tlearn: 0.3833276\ttotal: 304ms\tremaining: 1.1s\n",
      "216:\tlearn: 0.3830560\ttotal: 305ms\tremaining: 1.1s\n",
      "217:\tlearn: 0.3828860\ttotal: 305ms\tremaining: 1.09s\n",
      "218:\tlearn: 0.3827056\ttotal: 306ms\tremaining: 1.09s\n",
      "219:\tlearn: 0.3826089\ttotal: 307ms\tremaining: 1.09s\n",
      "220:\tlearn: 0.3823691\ttotal: 307ms\tremaining: 1.08s\n",
      "221:\tlearn: 0.3820962\ttotal: 308ms\tremaining: 1.08s\n",
      "222:\tlearn: 0.3818021\ttotal: 308ms\tremaining: 1.07s\n",
      "223:\tlearn: 0.3815512\ttotal: 309ms\tremaining: 1.07s\n",
      "224:\tlearn: 0.3814002\ttotal: 310ms\tremaining: 1.07s\n",
      "225:\tlearn: 0.3812885\ttotal: 310ms\tremaining: 1.06s\n",
      "226:\tlearn: 0.3810101\ttotal: 311ms\tremaining: 1.06s\n",
      "227:\tlearn: 0.3807649\ttotal: 311ms\tremaining: 1.05s\n",
      "228:\tlearn: 0.3805738\ttotal: 312ms\tremaining: 1.05s\n",
      "229:\tlearn: 0.3804298\ttotal: 313ms\tremaining: 1.05s\n",
      "230:\tlearn: 0.3802297\ttotal: 313ms\tremaining: 1.04s\n",
      "231:\tlearn: 0.3800287\ttotal: 314ms\tremaining: 1.04s\n",
      "232:\tlearn: 0.3798117\ttotal: 314ms\tremaining: 1.03s\n",
      "233:\tlearn: 0.3796453\ttotal: 315ms\tremaining: 1.03s\n",
      "234:\tlearn: 0.3796027\ttotal: 315ms\tremaining: 1.03s\n",
      "235:\tlearn: 0.3795971\ttotal: 316ms\tremaining: 1.02s\n",
      "236:\tlearn: 0.3795745\ttotal: 316ms\tremaining: 1.02s\n",
      "237:\tlearn: 0.3792982\ttotal: 317ms\tremaining: 1.01s\n",
      "238:\tlearn: 0.3791454\ttotal: 318ms\tremaining: 1.01s\n",
      "239:\tlearn: 0.3789879\ttotal: 319ms\tremaining: 1.01s\n",
      "240:\tlearn: 0.3789499\ttotal: 319ms\tremaining: 1s\n",
      "241:\tlearn: 0.3788447\ttotal: 320ms\tremaining: 1s\n",
      "242:\tlearn: 0.3787670\ttotal: 321ms\tremaining: 999ms\n",
      "243:\tlearn: 0.3786701\ttotal: 321ms\tremaining: 996ms\n",
      "244:\tlearn: 0.3786222\ttotal: 322ms\tremaining: 994ms\n",
      "245:\tlearn: 0.3784742\ttotal: 323ms\tremaining: 991ms\n",
      "246:\tlearn: 0.3782933\ttotal: 324ms\tremaining: 988ms\n",
      "247:\tlearn: 0.3781303\ttotal: 325ms\tremaining: 985ms\n",
      "248:\tlearn: 0.3779913\ttotal: 326ms\tremaining: 983ms\n",
      "249:\tlearn: 0.3778841\ttotal: 327ms\tremaining: 980ms\n",
      "250:\tlearn: 0.3777448\ttotal: 327ms\tremaining: 977ms\n",
      "251:\tlearn: 0.3776300\ttotal: 328ms\tremaining: 974ms\n",
      "252:\tlearn: 0.3775870\ttotal: 329ms\tremaining: 971ms\n",
      "253:\tlearn: 0.3774512\ttotal: 330ms\tremaining: 969ms\n",
      "254:\tlearn: 0.3773381\ttotal: 331ms\tremaining: 966ms\n",
      "255:\tlearn: 0.3772335\ttotal: 331ms\tremaining: 962ms\n",
      "256:\tlearn: 0.3771280\ttotal: 332ms\tremaining: 960ms\n",
      "257:\tlearn: 0.3769633\ttotal: 333ms\tremaining: 956ms\n",
      "258:\tlearn: 0.3769054\ttotal: 333ms\tremaining: 954ms\n",
      "259:\tlearn: 0.3767738\ttotal: 334ms\tremaining: 951ms\n",
      "260:\tlearn: 0.3766649\ttotal: 335ms\tremaining: 948ms\n",
      "261:\tlearn: 0.3765618\ttotal: 336ms\tremaining: 946ms\n",
      "262:\tlearn: 0.3764653\ttotal: 336ms\tremaining: 943ms\n",
      "263:\tlearn: 0.3763545\ttotal: 337ms\tremaining: 939ms\n",
      "264:\tlearn: 0.3761072\ttotal: 337ms\tremaining: 935ms\n",
      "265:\tlearn: 0.3759600\ttotal: 338ms\tremaining: 932ms\n",
      "266:\tlearn: 0.3758671\ttotal: 339ms\tremaining: 929ms\n",
      "267:\tlearn: 0.3756525\ttotal: 339ms\tremaining: 927ms\n",
      "268:\tlearn: 0.3755269\ttotal: 340ms\tremaining: 924ms\n",
      "269:\tlearn: 0.3753133\ttotal: 341ms\tremaining: 921ms\n",
      "270:\tlearn: 0.3751279\ttotal: 341ms\tremaining: 918ms\n",
      "271:\tlearn: 0.3749513\ttotal: 342ms\tremaining: 915ms\n",
      "272:\tlearn: 0.3749465\ttotal: 342ms\tremaining: 911ms\n",
      "273:\tlearn: 0.3747789\ttotal: 343ms\tremaining: 909ms\n",
      "274:\tlearn: 0.3746860\ttotal: 344ms\tremaining: 906ms\n",
      "275:\tlearn: 0.3745185\ttotal: 344ms\tremaining: 903ms\n",
      "276:\tlearn: 0.3745138\ttotal: 345ms\tremaining: 900ms\n",
      "277:\tlearn: 0.3743983\ttotal: 345ms\tremaining: 897ms\n",
      "278:\tlearn: 0.3742095\ttotal: 346ms\tremaining: 894ms\n",
      "279:\tlearn: 0.3741303\ttotal: 347ms\tremaining: 891ms\n",
      "280:\tlearn: 0.3740082\ttotal: 347ms\tremaining: 888ms\n",
      "281:\tlearn: 0.3738226\ttotal: 348ms\tremaining: 885ms\n",
      "282:\tlearn: 0.3737216\ttotal: 348ms\tremaining: 882ms\n",
      "283:\tlearn: 0.3736082\ttotal: 349ms\tremaining: 879ms\n",
      "284:\tlearn: 0.3734456\ttotal: 349ms\tremaining: 877ms\n",
      "285:\tlearn: 0.3732823\ttotal: 350ms\tremaining: 874ms\n",
      "286:\tlearn: 0.3731447\ttotal: 351ms\tremaining: 871ms\n",
      "287:\tlearn: 0.3729934\ttotal: 351ms\tremaining: 869ms\n",
      "288:\tlearn: 0.3728502\ttotal: 352ms\tremaining: 866ms\n",
      "289:\tlearn: 0.3727616\ttotal: 353ms\tremaining: 863ms\n",
      "290:\tlearn: 0.3726447\ttotal: 353ms\tremaining: 861ms\n",
      "291:\tlearn: 0.3724677\ttotal: 354ms\tremaining: 858ms\n",
      "292:\tlearn: 0.3723609\ttotal: 355ms\tremaining: 856ms\n",
      "293:\tlearn: 0.3721859\ttotal: 355ms\tremaining: 853ms\n",
      "294:\tlearn: 0.3720400\ttotal: 356ms\tremaining: 851ms\n",
      "295:\tlearn: 0.3719042\ttotal: 357ms\tremaining: 848ms\n",
      "296:\tlearn: 0.3717681\ttotal: 357ms\tremaining: 846ms\n",
      "297:\tlearn: 0.3715669\ttotal: 358ms\tremaining: 843ms\n",
      "298:\tlearn: 0.3714431\ttotal: 358ms\tremaining: 840ms\n",
      "299:\tlearn: 0.3713256\ttotal: 359ms\tremaining: 839ms\n",
      "300:\tlearn: 0.3712094\ttotal: 360ms\tremaining: 837ms\n",
      "301:\tlearn: 0.3711662\ttotal: 361ms\tremaining: 835ms\n",
      "302:\tlearn: 0.3711238\ttotal: 362ms\tremaining: 833ms\n",
      "303:\tlearn: 0.3711128\ttotal: 363ms\tremaining: 830ms\n",
      "304:\tlearn: 0.3709208\ttotal: 364ms\tremaining: 829ms\n",
      "305:\tlearn: 0.3707743\ttotal: 365ms\tremaining: 827ms\n",
      "306:\tlearn: 0.3706924\ttotal: 366ms\tremaining: 826ms\n",
      "307:\tlearn: 0.3705257\ttotal: 367ms\tremaining: 824ms\n",
      "308:\tlearn: 0.3703764\ttotal: 368ms\tremaining: 822ms\n",
      "309:\tlearn: 0.3703448\ttotal: 369ms\tremaining: 821ms\n",
      "310:\tlearn: 0.3701221\ttotal: 370ms\tremaining: 819ms\n",
      "311:\tlearn: 0.3699889\ttotal: 371ms\tremaining: 817ms\n",
      "312:\tlearn: 0.3698549\ttotal: 371ms\tremaining: 815ms\n",
      "313:\tlearn: 0.3697550\ttotal: 372ms\tremaining: 812ms\n",
      "314:\tlearn: 0.3696958\ttotal: 372ms\tremaining: 810ms\n",
      "315:\tlearn: 0.3696363\ttotal: 373ms\tremaining: 807ms\n",
      "316:\tlearn: 0.3694994\ttotal: 374ms\tremaining: 805ms\n",
      "317:\tlearn: 0.3693557\ttotal: 374ms\tremaining: 802ms\n",
      "318:\tlearn: 0.3691849\ttotal: 375ms\tremaining: 800ms\n",
      "319:\tlearn: 0.3691405\ttotal: 375ms\tremaining: 797ms\n",
      "320:\tlearn: 0.3690344\ttotal: 376ms\tremaining: 795ms\n",
      "321:\tlearn: 0.3689616\ttotal: 376ms\tremaining: 793ms\n",
      "322:\tlearn: 0.3688260\ttotal: 377ms\tremaining: 790ms\n",
      "323:\tlearn: 0.3687588\ttotal: 378ms\tremaining: 788ms\n",
      "324:\tlearn: 0.3686360\ttotal: 378ms\tremaining: 786ms\n",
      "325:\tlearn: 0.3684941\ttotal: 379ms\tremaining: 783ms\n",
      "326:\tlearn: 0.3684099\ttotal: 379ms\tremaining: 781ms\n",
      "327:\tlearn: 0.3683604\ttotal: 380ms\tremaining: 779ms\n",
      "328:\tlearn: 0.3682905\ttotal: 381ms\tremaining: 776ms\n",
      "329:\tlearn: 0.3681780\ttotal: 381ms\tremaining: 774ms\n",
      "330:\tlearn: 0.3680834\ttotal: 382ms\tremaining: 772ms\n",
      "331:\tlearn: 0.3679801\ttotal: 383ms\tremaining: 770ms\n",
      "332:\tlearn: 0.3679663\ttotal: 383ms\tremaining: 767ms\n",
      "333:\tlearn: 0.3678724\ttotal: 384ms\tremaining: 765ms\n",
      "334:\tlearn: 0.3677641\ttotal: 384ms\tremaining: 763ms\n",
      "335:\tlearn: 0.3676459\ttotal: 385ms\tremaining: 761ms\n",
      "336:\tlearn: 0.3674746\ttotal: 385ms\tremaining: 758ms\n",
      "337:\tlearn: 0.3673140\ttotal: 386ms\tremaining: 756ms\n",
      "338:\tlearn: 0.3672618\ttotal: 387ms\tremaining: 754ms\n",
      "339:\tlearn: 0.3672443\ttotal: 387ms\tremaining: 752ms\n",
      "340:\tlearn: 0.3672256\ttotal: 388ms\tremaining: 749ms\n",
      "341:\tlearn: 0.3671316\ttotal: 388ms\tremaining: 747ms\n",
      "342:\tlearn: 0.3669262\ttotal: 389ms\tremaining: 745ms\n",
      "343:\tlearn: 0.3668985\ttotal: 389ms\tremaining: 743ms\n",
      "344:\tlearn: 0.3668562\ttotal: 390ms\tremaining: 740ms\n",
      "345:\tlearn: 0.3667592\ttotal: 391ms\tremaining: 738ms\n",
      "346:\tlearn: 0.3666752\ttotal: 391ms\tremaining: 736ms\n",
      "347:\tlearn: 0.3666656\ttotal: 392ms\tremaining: 734ms\n",
      "348:\tlearn: 0.3665893\ttotal: 392ms\tremaining: 732ms\n",
      "349:\tlearn: 0.3664955\ttotal: 393ms\tremaining: 730ms\n",
      "350:\tlearn: 0.3663426\ttotal: 394ms\tremaining: 728ms\n",
      "351:\tlearn: 0.3662663\ttotal: 394ms\tremaining: 726ms\n",
      "352:\tlearn: 0.3661357\ttotal: 395ms\tremaining: 724ms\n",
      "353:\tlearn: 0.3659891\ttotal: 395ms\tremaining: 721ms\n",
      "354:\tlearn: 0.3659570\ttotal: 396ms\tremaining: 719ms\n",
      "355:\tlearn: 0.3659136\ttotal: 397ms\tremaining: 717ms\n",
      "356:\tlearn: 0.3658005\ttotal: 397ms\tremaining: 715ms\n",
      "357:\tlearn: 0.3656750\ttotal: 398ms\tremaining: 714ms\n",
      "358:\tlearn: 0.3656094\ttotal: 399ms\tremaining: 712ms\n"
     ]
    },
    {
     "name": "stdout",
     "output_type": "stream",
     "text": [
      "359:\tlearn: 0.3655915\ttotal: 399ms\tremaining: 710ms\n",
      "360:\tlearn: 0.3655550\ttotal: 404ms\tremaining: 715ms\n",
      "361:\tlearn: 0.3654342\ttotal: 405ms\tremaining: 714ms\n",
      "362:\tlearn: 0.3653458\ttotal: 406ms\tremaining: 712ms\n",
      "363:\tlearn: 0.3652124\ttotal: 407ms\tremaining: 711ms\n",
      "364:\tlearn: 0.3651659\ttotal: 408ms\tremaining: 710ms\n",
      "365:\tlearn: 0.3650519\ttotal: 409ms\tremaining: 708ms\n",
      "366:\tlearn: 0.3649274\ttotal: 410ms\tremaining: 707ms\n",
      "367:\tlearn: 0.3648187\ttotal: 411ms\tremaining: 705ms\n",
      "368:\tlearn: 0.3647262\ttotal: 412ms\tremaining: 705ms\n",
      "369:\tlearn: 0.3646637\ttotal: 413ms\tremaining: 703ms\n",
      "370:\tlearn: 0.3645863\ttotal: 414ms\tremaining: 701ms\n",
      "371:\tlearn: 0.3644182\ttotal: 414ms\tremaining: 699ms\n",
      "372:\tlearn: 0.3643814\ttotal: 415ms\tremaining: 698ms\n",
      "373:\tlearn: 0.3643629\ttotal: 416ms\tremaining: 696ms\n",
      "374:\tlearn: 0.3642455\ttotal: 416ms\tremaining: 694ms\n",
      "375:\tlearn: 0.3642386\ttotal: 417ms\tremaining: 691ms\n",
      "376:\tlearn: 0.3642164\ttotal: 417ms\tremaining: 689ms\n",
      "377:\tlearn: 0.3641432\ttotal: 417ms\tremaining: 686ms\n",
      "378:\tlearn: 0.3641203\ttotal: 418ms\tremaining: 685ms\n",
      "379:\tlearn: 0.3641174\ttotal: 418ms\tremaining: 682ms\n",
      "380:\tlearn: 0.3640923\ttotal: 419ms\tremaining: 680ms\n",
      "381:\tlearn: 0.3640228\ttotal: 420ms\tremaining: 680ms\n",
      "382:\tlearn: 0.3639436\ttotal: 421ms\tremaining: 678ms\n",
      "383:\tlearn: 0.3638601\ttotal: 423ms\tremaining: 678ms\n",
      "384:\tlearn: 0.3637826\ttotal: 423ms\tremaining: 676ms\n",
      "385:\tlearn: 0.3637217\ttotal: 424ms\tremaining: 674ms\n",
      "386:\tlearn: 0.3637103\ttotal: 424ms\tremaining: 672ms\n",
      "387:\tlearn: 0.3636266\ttotal: 425ms\tremaining: 671ms\n",
      "388:\tlearn: 0.3635411\ttotal: 426ms\tremaining: 669ms\n",
      "389:\tlearn: 0.3635016\ttotal: 427ms\tremaining: 667ms\n",
      "390:\tlearn: 0.3634941\ttotal: 427ms\tremaining: 665ms\n",
      "391:\tlearn: 0.3633950\ttotal: 428ms\tremaining: 663ms\n",
      "392:\tlearn: 0.3633117\ttotal: 428ms\tremaining: 661ms\n",
      "393:\tlearn: 0.3632187\ttotal: 429ms\tremaining: 660ms\n",
      "394:\tlearn: 0.3631526\ttotal: 429ms\tremaining: 658ms\n",
      "395:\tlearn: 0.3630579\ttotal: 430ms\tremaining: 656ms\n",
      "396:\tlearn: 0.3630079\ttotal: 431ms\tremaining: 654ms\n",
      "397:\tlearn: 0.3629454\ttotal: 432ms\tremaining: 653ms\n",
      "398:\tlearn: 0.3629230\ttotal: 432ms\tremaining: 651ms\n",
      "399:\tlearn: 0.3628410\ttotal: 434ms\tremaining: 650ms\n",
      "400:\tlearn: 0.3627161\ttotal: 434ms\tremaining: 649ms\n",
      "401:\tlearn: 0.3626314\ttotal: 435ms\tremaining: 647ms\n",
      "402:\tlearn: 0.3625637\ttotal: 436ms\tremaining: 646ms\n",
      "403:\tlearn: 0.3625434\ttotal: 438ms\tremaining: 646ms\n",
      "404:\tlearn: 0.3624336\ttotal: 439ms\tremaining: 644ms\n",
      "405:\tlearn: 0.3623072\ttotal: 439ms\tremaining: 643ms\n",
      "406:\tlearn: 0.3622916\ttotal: 441ms\tremaining: 643ms\n",
      "407:\tlearn: 0.3622610\ttotal: 443ms\tremaining: 643ms\n",
      "408:\tlearn: 0.3621421\ttotal: 445ms\tremaining: 643ms\n",
      "409:\tlearn: 0.3620631\ttotal: 446ms\tremaining: 642ms\n",
      "410:\tlearn: 0.3620461\ttotal: 447ms\tremaining: 641ms\n",
      "411:\tlearn: 0.3619769\ttotal: 449ms\tremaining: 641ms\n",
      "412:\tlearn: 0.3619491\ttotal: 450ms\tremaining: 640ms\n",
      "413:\tlearn: 0.3618366\ttotal: 452ms\tremaining: 639ms\n",
      "414:\tlearn: 0.3617697\ttotal: 452ms\tremaining: 638ms\n",
      "415:\tlearn: 0.3616859\ttotal: 453ms\tremaining: 636ms\n",
      "416:\tlearn: 0.3616603\ttotal: 453ms\tremaining: 634ms\n",
      "417:\tlearn: 0.3615786\ttotal: 454ms\tremaining: 632ms\n",
      "418:\tlearn: 0.3615023\ttotal: 454ms\tremaining: 630ms\n",
      "419:\tlearn: 0.3614600\ttotal: 455ms\tremaining: 628ms\n",
      "420:\tlearn: 0.3614297\ttotal: 455ms\tremaining: 626ms\n",
      "421:\tlearn: 0.3613876\ttotal: 456ms\tremaining: 625ms\n",
      "422:\tlearn: 0.3613548\ttotal: 457ms\tremaining: 623ms\n",
      "423:\tlearn: 0.3612974\ttotal: 457ms\tremaining: 621ms\n",
      "424:\tlearn: 0.3612935\ttotal: 458ms\tremaining: 619ms\n",
      "425:\tlearn: 0.3612230\ttotal: 458ms\tremaining: 617ms\n",
      "426:\tlearn: 0.3611244\ttotal: 459ms\tremaining: 615ms\n",
      "427:\tlearn: 0.3610859\ttotal: 459ms\tremaining: 614ms\n",
      "428:\tlearn: 0.3610043\ttotal: 460ms\tremaining: 612ms\n",
      "429:\tlearn: 0.3609787\ttotal: 460ms\tremaining: 610ms\n",
      "430:\tlearn: 0.3609164\ttotal: 461ms\tremaining: 608ms\n",
      "431:\tlearn: 0.3608470\ttotal: 461ms\tremaining: 606ms\n",
      "432:\tlearn: 0.3607583\ttotal: 462ms\tremaining: 604ms\n",
      "433:\tlearn: 0.3606730\ttotal: 462ms\tremaining: 602ms\n",
      "434:\tlearn: 0.3606275\ttotal: 463ms\tremaining: 601ms\n",
      "435:\tlearn: 0.3605575\ttotal: 463ms\tremaining: 599ms\n",
      "436:\tlearn: 0.3605042\ttotal: 464ms\tremaining: 597ms\n",
      "437:\tlearn: 0.3604420\ttotal: 464ms\tremaining: 595ms\n",
      "438:\tlearn: 0.3604351\ttotal: 464ms\tremaining: 593ms\n",
      "439:\tlearn: 0.3604062\ttotal: 465ms\tremaining: 592ms\n",
      "440:\tlearn: 0.3604041\ttotal: 465ms\tremaining: 590ms\n",
      "441:\tlearn: 0.3603423\ttotal: 466ms\tremaining: 588ms\n",
      "442:\tlearn: 0.3602509\ttotal: 467ms\tremaining: 587ms\n",
      "443:\tlearn: 0.3601409\ttotal: 467ms\tremaining: 585ms\n",
      "444:\tlearn: 0.3600472\ttotal: 468ms\tremaining: 583ms\n",
      "445:\tlearn: 0.3600410\ttotal: 468ms\tremaining: 581ms\n",
      "446:\tlearn: 0.3599682\ttotal: 469ms\tremaining: 580ms\n",
      "447:\tlearn: 0.3599104\ttotal: 470ms\tremaining: 578ms\n",
      "448:\tlearn: 0.3598130\ttotal: 470ms\tremaining: 577ms\n",
      "449:\tlearn: 0.3598030\ttotal: 470ms\tremaining: 575ms\n",
      "450:\tlearn: 0.3597688\ttotal: 471ms\tremaining: 573ms\n",
      "451:\tlearn: 0.3596941\ttotal: 471ms\tremaining: 571ms\n",
      "452:\tlearn: 0.3596054\ttotal: 472ms\tremaining: 570ms\n",
      "453:\tlearn: 0.3595861\ttotal: 474ms\tremaining: 570ms\n",
      "454:\tlearn: 0.3595141\ttotal: 476ms\tremaining: 571ms\n",
      "455:\tlearn: 0.3594463\ttotal: 478ms\tremaining: 570ms\n",
      "456:\tlearn: 0.3593885\ttotal: 480ms\tremaining: 570ms\n",
      "457:\tlearn: 0.3593082\ttotal: 482ms\tremaining: 570ms\n",
      "458:\tlearn: 0.3592384\ttotal: 483ms\tremaining: 569ms\n",
      "459:\tlearn: 0.3592278\ttotal: 483ms\tremaining: 567ms\n",
      "460:\tlearn: 0.3591495\ttotal: 485ms\tremaining: 567ms\n",
      "461:\tlearn: 0.3590602\ttotal: 486ms\tremaining: 566ms\n",
      "462:\tlearn: 0.3590317\ttotal: 486ms\tremaining: 564ms\n",
      "463:\tlearn: 0.3589737\ttotal: 488ms\tremaining: 564ms\n",
      "464:\tlearn: 0.3588953\ttotal: 489ms\tremaining: 563ms\n",
      "465:\tlearn: 0.3588394\ttotal: 490ms\tremaining: 561ms\n",
      "466:\tlearn: 0.3587992\ttotal: 490ms\tremaining: 559ms\n",
      "467:\tlearn: 0.3586916\ttotal: 491ms\tremaining: 558ms\n",
      "468:\tlearn: 0.3586563\ttotal: 491ms\tremaining: 556ms\n",
      "469:\tlearn: 0.3586033\ttotal: 492ms\tremaining: 555ms\n",
      "470:\tlearn: 0.3585940\ttotal: 492ms\tremaining: 553ms\n",
      "471:\tlearn: 0.3585310\ttotal: 493ms\tremaining: 552ms\n",
      "472:\tlearn: 0.3584469\ttotal: 494ms\tremaining: 550ms\n",
      "473:\tlearn: 0.3583416\ttotal: 494ms\tremaining: 549ms\n",
      "474:\tlearn: 0.3583044\ttotal: 495ms\tremaining: 547ms\n",
      "475:\tlearn: 0.3582529\ttotal: 496ms\tremaining: 546ms\n",
      "476:\tlearn: 0.3582289\ttotal: 496ms\tremaining: 544ms\n",
      "477:\tlearn: 0.3582086\ttotal: 497ms\tremaining: 543ms\n",
      "478:\tlearn: 0.3581713\ttotal: 497ms\tremaining: 541ms\n",
      "479:\tlearn: 0.3581701\ttotal: 498ms\tremaining: 539ms\n",
      "480:\tlearn: 0.3581513\ttotal: 498ms\tremaining: 538ms\n",
      "481:\tlearn: 0.3580810\ttotal: 499ms\tremaining: 536ms\n",
      "482:\tlearn: 0.3580155\ttotal: 500ms\tremaining: 535ms\n",
      "483:\tlearn: 0.3579618\ttotal: 500ms\tremaining: 534ms\n",
      "484:\tlearn: 0.3578674\ttotal: 502ms\tremaining: 533ms\n",
      "485:\tlearn: 0.3578347\ttotal: 503ms\tremaining: 531ms\n",
      "486:\tlearn: 0.3578244\ttotal: 503ms\tremaining: 530ms\n",
      "487:\tlearn: 0.3577621\ttotal: 504ms\tremaining: 529ms\n",
      "488:\tlearn: 0.3577224\ttotal: 505ms\tremaining: 527ms\n",
      "489:\tlearn: 0.3577171\ttotal: 505ms\tremaining: 526ms\n",
      "490:\tlearn: 0.3576475\ttotal: 506ms\tremaining: 525ms\n",
      "491:\tlearn: 0.3575608\ttotal: 507ms\tremaining: 523ms\n",
      "492:\tlearn: 0.3574909\ttotal: 508ms\tremaining: 522ms\n",
      "493:\tlearn: 0.3573502\ttotal: 508ms\tremaining: 521ms\n",
      "494:\tlearn: 0.3572878\ttotal: 509ms\tremaining: 519ms\n",
      "495:\tlearn: 0.3572292\ttotal: 510ms\tremaining: 518ms\n",
      "496:\tlearn: 0.3572052\ttotal: 512ms\tremaining: 518ms\n",
      "497:\tlearn: 0.3571354\ttotal: 513ms\tremaining: 517ms\n",
      "498:\tlearn: 0.3570821\ttotal: 514ms\tremaining: 516ms\n",
      "499:\tlearn: 0.3569928\ttotal: 515ms\tremaining: 515ms\n",
      "500:\tlearn: 0.3569314\ttotal: 516ms\tremaining: 514ms\n",
      "501:\tlearn: 0.3569192\ttotal: 517ms\tremaining: 513ms\n",
      "502:\tlearn: 0.3569120\ttotal: 518ms\tremaining: 511ms\n",
      "503:\tlearn: 0.3568449\ttotal: 519ms\tremaining: 510ms\n",
      "504:\tlearn: 0.3568113\ttotal: 519ms\tremaining: 509ms\n",
      "505:\tlearn: 0.3567625\ttotal: 520ms\tremaining: 508ms\n",
      "506:\tlearn: 0.3566616\ttotal: 521ms\tremaining: 506ms\n",
      "507:\tlearn: 0.3565845\ttotal: 522ms\tremaining: 505ms\n",
      "508:\tlearn: 0.3564741\ttotal: 522ms\tremaining: 504ms\n",
      "509:\tlearn: 0.3564702\ttotal: 523ms\tremaining: 502ms\n",
      "510:\tlearn: 0.3564575\ttotal: 523ms\tremaining: 500ms\n",
      "511:\tlearn: 0.3564213\ttotal: 524ms\tremaining: 499ms\n",
      "512:\tlearn: 0.3563960\ttotal: 524ms\tremaining: 498ms\n",
      "513:\tlearn: 0.3563390\ttotal: 525ms\tremaining: 496ms\n",
      "514:\tlearn: 0.3562896\ttotal: 525ms\tremaining: 495ms\n",
      "515:\tlearn: 0.3562434\ttotal: 526ms\tremaining: 493ms\n",
      "516:\tlearn: 0.3561905\ttotal: 527ms\tremaining: 492ms\n",
      "517:\tlearn: 0.3561769\ttotal: 527ms\tremaining: 491ms\n",
      "518:\tlearn: 0.3560801\ttotal: 528ms\tremaining: 489ms\n",
      "519:\tlearn: 0.3560082\ttotal: 528ms\tremaining: 488ms\n",
      "520:\tlearn: 0.3560027\ttotal: 529ms\tremaining: 486ms\n",
      "521:\tlearn: 0.3559057\ttotal: 530ms\tremaining: 485ms\n",
      "522:\tlearn: 0.3558450\ttotal: 530ms\tremaining: 484ms\n",
      "523:\tlearn: 0.3557948\ttotal: 531ms\tremaining: 482ms\n",
      "524:\tlearn: 0.3557002\ttotal: 531ms\tremaining: 481ms\n",
      "525:\tlearn: 0.3556421\ttotal: 532ms\tremaining: 479ms\n",
      "526:\tlearn: 0.3556140\ttotal: 533ms\tremaining: 478ms\n",
      "527:\tlearn: 0.3555064\ttotal: 533ms\tremaining: 477ms\n",
      "528:\tlearn: 0.3554984\ttotal: 534ms\tremaining: 475ms\n",
      "529:\tlearn: 0.3554458\ttotal: 534ms\tremaining: 474ms\n",
      "530:\tlearn: 0.3554087\ttotal: 535ms\tremaining: 472ms\n",
      "531:\tlearn: 0.3553429\ttotal: 535ms\tremaining: 471ms\n",
      "532:\tlearn: 0.3552930\ttotal: 536ms\tremaining: 470ms\n",
      "533:\tlearn: 0.3552245\ttotal: 537ms\tremaining: 468ms\n",
      "534:\tlearn: 0.3551358\ttotal: 537ms\tremaining: 467ms\n",
      "535:\tlearn: 0.3550942\ttotal: 538ms\tremaining: 466ms\n",
      "536:\tlearn: 0.3550298\ttotal: 539ms\tremaining: 464ms\n",
      "537:\tlearn: 0.3549472\ttotal: 539ms\tremaining: 463ms\n",
      "538:\tlearn: 0.3548903\ttotal: 540ms\tremaining: 462ms\n",
      "539:\tlearn: 0.3548271\ttotal: 540ms\tremaining: 460ms\n",
      "540:\tlearn: 0.3547216\ttotal: 541ms\tremaining: 459ms\n",
      "541:\tlearn: 0.3546709\ttotal: 542ms\tremaining: 458ms\n",
      "542:\tlearn: 0.3546305\ttotal: 542ms\tremaining: 456ms\n",
      "543:\tlearn: 0.3545666\ttotal: 543ms\tremaining: 455ms\n",
      "544:\tlearn: 0.3545198\ttotal: 543ms\tremaining: 454ms\n",
      "545:\tlearn: 0.3544554\ttotal: 544ms\tremaining: 452ms\n",
      "546:\tlearn: 0.3544163\ttotal: 545ms\tremaining: 451ms\n",
      "547:\tlearn: 0.3543521\ttotal: 545ms\tremaining: 450ms\n",
      "548:\tlearn: 0.3542866\ttotal: 546ms\tremaining: 448ms\n",
      "549:\tlearn: 0.3542828\ttotal: 546ms\tremaining: 447ms\n",
      "550:\tlearn: 0.3542818\ttotal: 547ms\tremaining: 446ms\n",
      "551:\tlearn: 0.3542586\ttotal: 547ms\tremaining: 444ms\n",
      "552:\tlearn: 0.3541740\ttotal: 548ms\tremaining: 443ms\n",
      "553:\tlearn: 0.3541514\ttotal: 548ms\tremaining: 441ms\n",
      "554:\tlearn: 0.3540917\ttotal: 549ms\tremaining: 440ms\n",
      "555:\tlearn: 0.3540873\ttotal: 549ms\tremaining: 439ms\n"
     ]
    },
    {
     "name": "stdout",
     "output_type": "stream",
     "text": [
      "556:\tlearn: 0.3540055\ttotal: 551ms\tremaining: 438ms\n",
      "557:\tlearn: 0.3539683\ttotal: 553ms\tremaining: 438ms\n",
      "558:\tlearn: 0.3538961\ttotal: 554ms\tremaining: 437ms\n",
      "559:\tlearn: 0.3538469\ttotal: 555ms\tremaining: 436ms\n",
      "560:\tlearn: 0.3537810\ttotal: 556ms\tremaining: 435ms\n",
      "561:\tlearn: 0.3537249\ttotal: 557ms\tremaining: 434ms\n",
      "562:\tlearn: 0.3536534\ttotal: 557ms\tremaining: 433ms\n",
      "563:\tlearn: 0.3536378\ttotal: 558ms\tremaining: 432ms\n",
      "564:\tlearn: 0.3536273\ttotal: 559ms\tremaining: 430ms\n",
      "565:\tlearn: 0.3536172\ttotal: 559ms\tremaining: 429ms\n",
      "566:\tlearn: 0.3535925\ttotal: 560ms\tremaining: 427ms\n",
      "567:\tlearn: 0.3535172\ttotal: 560ms\tremaining: 426ms\n",
      "568:\tlearn: 0.3535065\ttotal: 561ms\tremaining: 425ms\n",
      "569:\tlearn: 0.3534542\ttotal: 562ms\tremaining: 424ms\n",
      "570:\tlearn: 0.3534088\ttotal: 562ms\tremaining: 422ms\n",
      "571:\tlearn: 0.3533255\ttotal: 563ms\tremaining: 421ms\n",
      "572:\tlearn: 0.3532494\ttotal: 564ms\tremaining: 420ms\n",
      "573:\tlearn: 0.3532031\ttotal: 564ms\tremaining: 419ms\n",
      "574:\tlearn: 0.3531219\ttotal: 564ms\tremaining: 417ms\n",
      "575:\tlearn: 0.3530587\ttotal: 565ms\tremaining: 416ms\n",
      "576:\tlearn: 0.3530425\ttotal: 565ms\tremaining: 415ms\n",
      "577:\tlearn: 0.3530385\ttotal: 566ms\tremaining: 413ms\n",
      "578:\tlearn: 0.3530185\ttotal: 566ms\tremaining: 412ms\n",
      "579:\tlearn: 0.3529685\ttotal: 567ms\tremaining: 411ms\n",
      "580:\tlearn: 0.3529557\ttotal: 567ms\tremaining: 409ms\n",
      "581:\tlearn: 0.3529166\ttotal: 568ms\tremaining: 408ms\n",
      "582:\tlearn: 0.3528880\ttotal: 568ms\tremaining: 406ms\n",
      "583:\tlearn: 0.3528443\ttotal: 570ms\tremaining: 406ms\n",
      "584:\tlearn: 0.3527784\ttotal: 571ms\tremaining: 405ms\n",
      "585:\tlearn: 0.3527475\ttotal: 571ms\tremaining: 404ms\n",
      "586:\tlearn: 0.3527107\ttotal: 572ms\tremaining: 402ms\n",
      "587:\tlearn: 0.3526644\ttotal: 573ms\tremaining: 401ms\n",
      "588:\tlearn: 0.3526203\ttotal: 573ms\tremaining: 400ms\n",
      "589:\tlearn: 0.3526045\ttotal: 574ms\tremaining: 399ms\n",
      "590:\tlearn: 0.3525281\ttotal: 575ms\tremaining: 398ms\n",
      "591:\tlearn: 0.3525239\ttotal: 575ms\tremaining: 396ms\n",
      "592:\tlearn: 0.3524564\ttotal: 576ms\tremaining: 395ms\n",
      "593:\tlearn: 0.3523959\ttotal: 576ms\tremaining: 394ms\n",
      "594:\tlearn: 0.3523376\ttotal: 577ms\tremaining: 393ms\n",
      "595:\tlearn: 0.3522444\ttotal: 578ms\tremaining: 391ms\n",
      "596:\tlearn: 0.3522125\ttotal: 578ms\tremaining: 390ms\n",
      "597:\tlearn: 0.3521733\ttotal: 579ms\tremaining: 389ms\n",
      "598:\tlearn: 0.3520662\ttotal: 579ms\tremaining: 388ms\n",
      "599:\tlearn: 0.3520225\ttotal: 580ms\tremaining: 387ms\n",
      "600:\tlearn: 0.3519403\ttotal: 581ms\tremaining: 385ms\n",
      "601:\tlearn: 0.3518816\ttotal: 581ms\tremaining: 384ms\n",
      "602:\tlearn: 0.3518050\ttotal: 582ms\tremaining: 383ms\n",
      "603:\tlearn: 0.3517639\ttotal: 582ms\tremaining: 382ms\n",
      "604:\tlearn: 0.3517452\ttotal: 583ms\tremaining: 381ms\n",
      "605:\tlearn: 0.3516900\ttotal: 584ms\tremaining: 380ms\n",
      "606:\tlearn: 0.3516492\ttotal: 585ms\tremaining: 379ms\n",
      "607:\tlearn: 0.3516373\ttotal: 586ms\tremaining: 378ms\n",
      "608:\tlearn: 0.3515682\ttotal: 587ms\tremaining: 377ms\n",
      "609:\tlearn: 0.3515331\ttotal: 588ms\tremaining: 376ms\n",
      "610:\tlearn: 0.3514971\ttotal: 589ms\tremaining: 375ms\n",
      "611:\tlearn: 0.3514278\ttotal: 590ms\tremaining: 374ms\n",
      "612:\tlearn: 0.3513898\ttotal: 590ms\tremaining: 373ms\n",
      "613:\tlearn: 0.3513679\ttotal: 591ms\tremaining: 372ms\n",
      "614:\tlearn: 0.3513597\ttotal: 592ms\tremaining: 371ms\n",
      "615:\tlearn: 0.3513238\ttotal: 593ms\tremaining: 370ms\n",
      "616:\tlearn: 0.3512894\ttotal: 594ms\tremaining: 368ms\n",
      "617:\tlearn: 0.3512390\ttotal: 595ms\tremaining: 367ms\n",
      "618:\tlearn: 0.3512032\ttotal: 595ms\tremaining: 366ms\n",
      "619:\tlearn: 0.3511667\ttotal: 596ms\tremaining: 365ms\n",
      "620:\tlearn: 0.3511654\ttotal: 597ms\tremaining: 364ms\n",
      "621:\tlearn: 0.3511393\ttotal: 598ms\tremaining: 363ms\n",
      "622:\tlearn: 0.3510911\ttotal: 599ms\tremaining: 362ms\n",
      "623:\tlearn: 0.3510198\ttotal: 600ms\tremaining: 361ms\n",
      "624:\tlearn: 0.3509681\ttotal: 600ms\tremaining: 360ms\n",
      "625:\tlearn: 0.3509670\ttotal: 601ms\tremaining: 359ms\n",
      "626:\tlearn: 0.3509320\ttotal: 602ms\tremaining: 358ms\n",
      "627:\tlearn: 0.3508691\ttotal: 602ms\tremaining: 357ms\n",
      "628:\tlearn: 0.3508337\ttotal: 603ms\tremaining: 356ms\n",
      "629:\tlearn: 0.3508081\ttotal: 604ms\tremaining: 355ms\n",
      "630:\tlearn: 0.3507486\ttotal: 604ms\tremaining: 353ms\n",
      "631:\tlearn: 0.3507079\ttotal: 605ms\tremaining: 352ms\n",
      "632:\tlearn: 0.3506553\ttotal: 605ms\tremaining: 351ms\n",
      "633:\tlearn: 0.3505922\ttotal: 606ms\tremaining: 350ms\n",
      "634:\tlearn: 0.3505044\ttotal: 607ms\tremaining: 349ms\n",
      "635:\tlearn: 0.3504378\ttotal: 607ms\tremaining: 348ms\n",
      "636:\tlearn: 0.3503778\ttotal: 608ms\tremaining: 347ms\n",
      "637:\tlearn: 0.3503175\ttotal: 609ms\tremaining: 345ms\n",
      "638:\tlearn: 0.3503047\ttotal: 609ms\tremaining: 344ms\n",
      "639:\tlearn: 0.3502679\ttotal: 610ms\tremaining: 343ms\n",
      "640:\tlearn: 0.3502440\ttotal: 611ms\tremaining: 342ms\n",
      "641:\tlearn: 0.3502191\ttotal: 611ms\tremaining: 341ms\n",
      "642:\tlearn: 0.3501923\ttotal: 612ms\tremaining: 340ms\n",
      "643:\tlearn: 0.3501316\ttotal: 612ms\tremaining: 339ms\n",
      "644:\tlearn: 0.3501090\ttotal: 613ms\tremaining: 337ms\n",
      "645:\tlearn: 0.3500620\ttotal: 614ms\tremaining: 336ms\n",
      "646:\tlearn: 0.3499812\ttotal: 614ms\tremaining: 335ms\n",
      "647:\tlearn: 0.3499474\ttotal: 615ms\tremaining: 334ms\n",
      "648:\tlearn: 0.3499479\ttotal: 615ms\tremaining: 333ms\n",
      "649:\tlearn: 0.3498692\ttotal: 616ms\tremaining: 332ms\n",
      "650:\tlearn: 0.3498301\ttotal: 616ms\tremaining: 330ms\n",
      "651:\tlearn: 0.3497038\ttotal: 617ms\tremaining: 329ms\n",
      "652:\tlearn: 0.3496662\ttotal: 617ms\tremaining: 328ms\n",
      "653:\tlearn: 0.3495610\ttotal: 618ms\tremaining: 327ms\n",
      "654:\tlearn: 0.3495160\ttotal: 619ms\tremaining: 326ms\n",
      "655:\tlearn: 0.3494913\ttotal: 619ms\tremaining: 325ms\n",
      "656:\tlearn: 0.3494908\ttotal: 620ms\tremaining: 323ms\n",
      "657:\tlearn: 0.3494504\ttotal: 620ms\tremaining: 322ms\n",
      "658:\tlearn: 0.3493915\ttotal: 621ms\tremaining: 321ms\n",
      "659:\tlearn: 0.3493729\ttotal: 621ms\tremaining: 320ms\n",
      "660:\tlearn: 0.3492907\ttotal: 622ms\tremaining: 319ms\n",
      "661:\tlearn: 0.3492192\ttotal: 623ms\tremaining: 318ms\n",
      "662:\tlearn: 0.3491905\ttotal: 623ms\tremaining: 317ms\n",
      "663:\tlearn: 0.3491649\ttotal: 624ms\tremaining: 316ms\n",
      "664:\tlearn: 0.3491565\ttotal: 625ms\tremaining: 315ms\n",
      "665:\tlearn: 0.3491005\ttotal: 626ms\tremaining: 314ms\n",
      "666:\tlearn: 0.3490684\ttotal: 627ms\tremaining: 313ms\n",
      "667:\tlearn: 0.3490278\ttotal: 628ms\tremaining: 312ms\n",
      "668:\tlearn: 0.3490277\ttotal: 629ms\tremaining: 311ms\n",
      "669:\tlearn: 0.3489838\ttotal: 630ms\tremaining: 310ms\n",
      "670:\tlearn: 0.3489690\ttotal: 630ms\tremaining: 309ms\n",
      "671:\tlearn: 0.3489262\ttotal: 631ms\tremaining: 308ms\n",
      "672:\tlearn: 0.3488822\ttotal: 632ms\tremaining: 307ms\n",
      "673:\tlearn: 0.3488806\ttotal: 633ms\tremaining: 306ms\n",
      "674:\tlearn: 0.3488171\ttotal: 634ms\tremaining: 305ms\n",
      "675:\tlearn: 0.3488025\ttotal: 634ms\tremaining: 304ms\n",
      "676:\tlearn: 0.3487093\ttotal: 635ms\tremaining: 303ms\n",
      "677:\tlearn: 0.3487080\ttotal: 636ms\tremaining: 302ms\n",
      "678:\tlearn: 0.3486842\ttotal: 637ms\tremaining: 301ms\n",
      "679:\tlearn: 0.3486775\ttotal: 637ms\tremaining: 300ms\n",
      "680:\tlearn: 0.3486647\ttotal: 638ms\tremaining: 299ms\n",
      "681:\tlearn: 0.3486020\ttotal: 639ms\tremaining: 298ms\n",
      "682:\tlearn: 0.3485633\ttotal: 640ms\tremaining: 297ms\n",
      "683:\tlearn: 0.3485512\ttotal: 641ms\tremaining: 296ms\n",
      "684:\tlearn: 0.3485231\ttotal: 641ms\tremaining: 295ms\n",
      "685:\tlearn: 0.3484527\ttotal: 642ms\tremaining: 294ms\n",
      "686:\tlearn: 0.3484232\ttotal: 643ms\tremaining: 293ms\n",
      "687:\tlearn: 0.3483791\ttotal: 643ms\tremaining: 292ms\n",
      "688:\tlearn: 0.3483397\ttotal: 644ms\tremaining: 291ms\n",
      "689:\tlearn: 0.3482941\ttotal: 645ms\tremaining: 290ms\n",
      "690:\tlearn: 0.3482315\ttotal: 645ms\tremaining: 289ms\n",
      "691:\tlearn: 0.3482011\ttotal: 646ms\tremaining: 288ms\n",
      "692:\tlearn: 0.3481501\ttotal: 647ms\tremaining: 286ms\n",
      "693:\tlearn: 0.3480853\ttotal: 647ms\tremaining: 285ms\n",
      "694:\tlearn: 0.3480279\ttotal: 648ms\tremaining: 284ms\n",
      "695:\tlearn: 0.3479573\ttotal: 649ms\tremaining: 283ms\n",
      "696:\tlearn: 0.3479187\ttotal: 649ms\tremaining: 282ms\n",
      "697:\tlearn: 0.3478291\ttotal: 650ms\tremaining: 281ms\n",
      "698:\tlearn: 0.3477436\ttotal: 650ms\tremaining: 280ms\n",
      "699:\tlearn: 0.3477153\ttotal: 651ms\tremaining: 279ms\n",
      "700:\tlearn: 0.3476739\ttotal: 652ms\tremaining: 278ms\n",
      "701:\tlearn: 0.3476291\ttotal: 652ms\tremaining: 277ms\n",
      "702:\tlearn: 0.3475648\ttotal: 653ms\tremaining: 276ms\n",
      "703:\tlearn: 0.3475211\ttotal: 653ms\tremaining: 275ms\n",
      "704:\tlearn: 0.3475190\ttotal: 654ms\tremaining: 274ms\n",
      "705:\tlearn: 0.3474962\ttotal: 654ms\tremaining: 273ms\n",
      "706:\tlearn: 0.3474517\ttotal: 655ms\tremaining: 271ms\n",
      "707:\tlearn: 0.3474376\ttotal: 656ms\tremaining: 270ms\n",
      "708:\tlearn: 0.3473940\ttotal: 656ms\tremaining: 269ms\n",
      "709:\tlearn: 0.3473403\ttotal: 657ms\tremaining: 268ms\n",
      "710:\tlearn: 0.3473073\ttotal: 657ms\tremaining: 267ms\n",
      "711:\tlearn: 0.3473010\ttotal: 658ms\tremaining: 266ms\n",
      "712:\tlearn: 0.3472700\ttotal: 658ms\tremaining: 265ms\n",
      "713:\tlearn: 0.3472381\ttotal: 659ms\tremaining: 264ms\n",
      "714:\tlearn: 0.3472273\ttotal: 659ms\tremaining: 263ms\n",
      "715:\tlearn: 0.3471805\ttotal: 660ms\tremaining: 262ms\n",
      "716:\tlearn: 0.3471560\ttotal: 661ms\tremaining: 261ms\n",
      "717:\tlearn: 0.3471274\ttotal: 661ms\tremaining: 260ms\n",
      "718:\tlearn: 0.3470827\ttotal: 662ms\tremaining: 259ms\n",
      "719:\tlearn: 0.3470406\ttotal: 663ms\tremaining: 258ms\n",
      "720:\tlearn: 0.3469899\ttotal: 664ms\tremaining: 257ms\n",
      "721:\tlearn: 0.3469885\ttotal: 664ms\tremaining: 256ms\n",
      "722:\tlearn: 0.3469345\ttotal: 665ms\tremaining: 255ms\n",
      "723:\tlearn: 0.3469056\ttotal: 666ms\tremaining: 254ms\n",
      "724:\tlearn: 0.3468705\ttotal: 667ms\tremaining: 253ms\n",
      "725:\tlearn: 0.3468147\ttotal: 668ms\tremaining: 252ms\n",
      "726:\tlearn: 0.3467878\ttotal: 669ms\tremaining: 251ms\n",
      "727:\tlearn: 0.3467534\ttotal: 670ms\tremaining: 250ms\n",
      "728:\tlearn: 0.3467223\ttotal: 670ms\tremaining: 249ms\n",
      "729:\tlearn: 0.3466848\ttotal: 671ms\tremaining: 248ms\n",
      "730:\tlearn: 0.3466536\ttotal: 672ms\tremaining: 247ms\n",
      "731:\tlearn: 0.3466025\ttotal: 673ms\tremaining: 246ms\n",
      "732:\tlearn: 0.3465530\ttotal: 674ms\tremaining: 246ms\n",
      "733:\tlearn: 0.3464979\ttotal: 675ms\tremaining: 245ms\n",
      "734:\tlearn: 0.3464656\ttotal: 676ms\tremaining: 244ms\n",
      "735:\tlearn: 0.3463952\ttotal: 677ms\tremaining: 243ms\n",
      "736:\tlearn: 0.3463579\ttotal: 677ms\tremaining: 242ms\n",
      "737:\tlearn: 0.3462731\ttotal: 678ms\tremaining: 241ms\n",
      "738:\tlearn: 0.3462297\ttotal: 679ms\tremaining: 240ms\n",
      "739:\tlearn: 0.3461870\ttotal: 680ms\tremaining: 239ms\n",
      "740:\tlearn: 0.3461177\ttotal: 681ms\tremaining: 238ms\n",
      "741:\tlearn: 0.3460707\ttotal: 682ms\tremaining: 237ms\n",
      "742:\tlearn: 0.3460409\ttotal: 682ms\tremaining: 236ms\n",
      "743:\tlearn: 0.3459928\ttotal: 683ms\tremaining: 235ms\n",
      "744:\tlearn: 0.3459533\ttotal: 683ms\tremaining: 234ms\n",
      "745:\tlearn: 0.3458665\ttotal: 684ms\tremaining: 233ms\n",
      "746:\tlearn: 0.3458174\ttotal: 685ms\tremaining: 232ms\n",
      "747:\tlearn: 0.3457598\ttotal: 685ms\tremaining: 231ms\n",
      "748:\tlearn: 0.3456733\ttotal: 686ms\tremaining: 230ms\n",
      "749:\tlearn: 0.3456461\ttotal: 686ms\tremaining: 229ms\n",
      "750:\tlearn: 0.3456428\ttotal: 687ms\tremaining: 228ms\n",
      "751:\tlearn: 0.3456013\ttotal: 688ms\tremaining: 227ms\n",
      "752:\tlearn: 0.3455844\ttotal: 688ms\tremaining: 226ms\n",
      "753:\tlearn: 0.3455439\ttotal: 689ms\tremaining: 225ms\n",
      "754:\tlearn: 0.3454958\ttotal: 689ms\tremaining: 224ms\n",
      "755:\tlearn: 0.3454524\ttotal: 690ms\tremaining: 223ms\n",
      "756:\tlearn: 0.3453875\ttotal: 691ms\tremaining: 222ms\n",
      "757:\tlearn: 0.3453382\ttotal: 691ms\tremaining: 221ms\n",
      "758:\tlearn: 0.3453257\ttotal: 692ms\tremaining: 220ms\n",
      "759:\tlearn: 0.3452691\ttotal: 692ms\tremaining: 219ms\n",
      "760:\tlearn: 0.3452287\ttotal: 693ms\tremaining: 218ms\n",
      "761:\tlearn: 0.3452231\ttotal: 694ms\tremaining: 217ms\n",
      "762:\tlearn: 0.3451585\ttotal: 694ms\tremaining: 216ms\n",
      "763:\tlearn: 0.3451277\ttotal: 695ms\tremaining: 215ms\n",
      "764:\tlearn: 0.3451228\ttotal: 695ms\tremaining: 214ms\n",
      "765:\tlearn: 0.3450927\ttotal: 696ms\tremaining: 213ms\n",
      "766:\tlearn: 0.3450496\ttotal: 696ms\tremaining: 212ms\n",
      "767:\tlearn: 0.3450040\ttotal: 697ms\tremaining: 211ms\n",
      "768:\tlearn: 0.3449676\ttotal: 697ms\tremaining: 210ms\n",
      "769:\tlearn: 0.3449128\ttotal: 698ms\tremaining: 209ms\n",
      "770:\tlearn: 0.3448434\ttotal: 699ms\tremaining: 208ms\n",
      "771:\tlearn: 0.3447983\ttotal: 699ms\tremaining: 207ms\n",
      "772:\tlearn: 0.3447574\ttotal: 700ms\tremaining: 206ms\n",
      "773:\tlearn: 0.3447158\ttotal: 701ms\tremaining: 205ms\n",
      "774:\tlearn: 0.3446943\ttotal: 701ms\tremaining: 204ms\n",
      "775:\tlearn: 0.3446676\ttotal: 702ms\tremaining: 203ms\n",
      "776:\tlearn: 0.3446089\ttotal: 703ms\tremaining: 202ms\n",
      "777:\tlearn: 0.3445646\ttotal: 705ms\tremaining: 201ms\n",
      "778:\tlearn: 0.3444886\ttotal: 706ms\tremaining: 200ms\n"
     ]
    },
    {
     "name": "stdout",
     "output_type": "stream",
     "text": [
      "779:\tlearn: 0.3444784\ttotal: 708ms\tremaining: 200ms\n",
      "780:\tlearn: 0.3444113\ttotal: 710ms\tremaining: 199ms\n",
      "781:\tlearn: 0.3443561\ttotal: 712ms\tremaining: 198ms\n",
      "782:\tlearn: 0.3443211\ttotal: 712ms\tremaining: 197ms\n",
      "783:\tlearn: 0.3442768\ttotal: 714ms\tremaining: 197ms\n",
      "784:\tlearn: 0.3442180\ttotal: 715ms\tremaining: 196ms\n",
      "785:\tlearn: 0.3442159\ttotal: 715ms\tremaining: 195ms\n",
      "786:\tlearn: 0.3441665\ttotal: 716ms\tremaining: 194ms\n",
      "787:\tlearn: 0.3441200\ttotal: 718ms\tremaining: 193ms\n",
      "788:\tlearn: 0.3440527\ttotal: 719ms\tremaining: 192ms\n",
      "789:\tlearn: 0.3440104\ttotal: 720ms\tremaining: 191ms\n",
      "790:\tlearn: 0.3440045\ttotal: 720ms\tremaining: 190ms\n",
      "791:\tlearn: 0.3439595\ttotal: 720ms\tremaining: 189ms\n",
      "792:\tlearn: 0.3439138\ttotal: 721ms\tremaining: 188ms\n",
      "793:\tlearn: 0.3438636\ttotal: 722ms\tremaining: 187ms\n",
      "794:\tlearn: 0.3438052\ttotal: 723ms\tremaining: 186ms\n",
      "795:\tlearn: 0.3438037\ttotal: 723ms\tremaining: 185ms\n",
      "796:\tlearn: 0.3437703\ttotal: 724ms\tremaining: 184ms\n",
      "797:\tlearn: 0.3437391\ttotal: 724ms\tremaining: 183ms\n",
      "798:\tlearn: 0.3437331\ttotal: 724ms\tremaining: 182ms\n",
      "799:\tlearn: 0.3436769\ttotal: 725ms\tremaining: 181ms\n",
      "800:\tlearn: 0.3436199\ttotal: 726ms\tremaining: 180ms\n",
      "801:\tlearn: 0.3435719\ttotal: 726ms\tremaining: 179ms\n",
      "802:\tlearn: 0.3435444\ttotal: 727ms\tremaining: 178ms\n",
      "803:\tlearn: 0.3435199\ttotal: 728ms\tremaining: 178ms\n",
      "804:\tlearn: 0.3435062\ttotal: 730ms\tremaining: 177ms\n",
      "805:\tlearn: 0.3434310\ttotal: 731ms\tremaining: 176ms\n",
      "806:\tlearn: 0.3433846\ttotal: 731ms\tremaining: 175ms\n",
      "807:\tlearn: 0.3433564\ttotal: 732ms\tremaining: 174ms\n",
      "808:\tlearn: 0.3432756\ttotal: 732ms\tremaining: 173ms\n",
      "809:\tlearn: 0.3432132\ttotal: 733ms\tremaining: 172ms\n",
      "810:\tlearn: 0.3431554\ttotal: 734ms\tremaining: 171ms\n",
      "811:\tlearn: 0.3431168\ttotal: 734ms\tremaining: 170ms\n",
      "812:\tlearn: 0.3430809\ttotal: 735ms\tremaining: 169ms\n",
      "813:\tlearn: 0.3430495\ttotal: 736ms\tremaining: 168ms\n",
      "814:\tlearn: 0.3430092\ttotal: 736ms\tremaining: 167ms\n",
      "815:\tlearn: 0.3429872\ttotal: 737ms\tremaining: 166ms\n",
      "816:\tlearn: 0.3429276\ttotal: 738ms\tremaining: 165ms\n",
      "817:\tlearn: 0.3428775\ttotal: 739ms\tremaining: 164ms\n",
      "818:\tlearn: 0.3428275\ttotal: 739ms\tremaining: 163ms\n",
      "819:\tlearn: 0.3427862\ttotal: 740ms\tremaining: 162ms\n",
      "820:\tlearn: 0.3427545\ttotal: 740ms\tremaining: 161ms\n",
      "821:\tlearn: 0.3427190\ttotal: 741ms\tremaining: 160ms\n",
      "822:\tlearn: 0.3426813\ttotal: 742ms\tremaining: 160ms\n",
      "823:\tlearn: 0.3426443\ttotal: 743ms\tremaining: 159ms\n",
      "824:\tlearn: 0.3426072\ttotal: 743ms\tremaining: 158ms\n",
      "825:\tlearn: 0.3425675\ttotal: 744ms\tremaining: 157ms\n",
      "826:\tlearn: 0.3425299\ttotal: 745ms\tremaining: 156ms\n",
      "827:\tlearn: 0.3424748\ttotal: 746ms\tremaining: 155ms\n",
      "828:\tlearn: 0.3424217\ttotal: 747ms\tremaining: 154ms\n",
      "829:\tlearn: 0.3423663\ttotal: 748ms\tremaining: 153ms\n",
      "830:\tlearn: 0.3423228\ttotal: 749ms\tremaining: 152ms\n",
      "831:\tlearn: 0.3422866\ttotal: 749ms\tremaining: 151ms\n",
      "832:\tlearn: 0.3422297\ttotal: 750ms\tremaining: 150ms\n",
      "833:\tlearn: 0.3421828\ttotal: 750ms\tremaining: 149ms\n",
      "834:\tlearn: 0.3421350\ttotal: 750ms\tremaining: 148ms\n",
      "835:\tlearn: 0.3421096\ttotal: 751ms\tremaining: 147ms\n",
      "836:\tlearn: 0.3420628\ttotal: 751ms\tremaining: 146ms\n",
      "837:\tlearn: 0.3420065\ttotal: 752ms\tremaining: 145ms\n",
      "838:\tlearn: 0.3420015\ttotal: 753ms\tremaining: 145ms\n",
      "839:\tlearn: 0.3419528\ttotal: 754ms\tremaining: 144ms\n",
      "840:\tlearn: 0.3419245\ttotal: 754ms\tremaining: 143ms\n",
      "841:\tlearn: 0.3418727\ttotal: 755ms\tremaining: 142ms\n",
      "842:\tlearn: 0.3418136\ttotal: 756ms\tremaining: 141ms\n",
      "843:\tlearn: 0.3417806\ttotal: 756ms\tremaining: 140ms\n",
      "844:\tlearn: 0.3417080\ttotal: 757ms\tremaining: 139ms\n",
      "845:\tlearn: 0.3417024\ttotal: 757ms\tremaining: 138ms\n",
      "846:\tlearn: 0.3416571\ttotal: 758ms\tremaining: 137ms\n",
      "847:\tlearn: 0.3416090\ttotal: 759ms\tremaining: 136ms\n",
      "848:\tlearn: 0.3415464\ttotal: 759ms\tremaining: 135ms\n",
      "849:\tlearn: 0.3414974\ttotal: 760ms\tremaining: 134ms\n",
      "850:\tlearn: 0.3414767\ttotal: 761ms\tremaining: 133ms\n",
      "851:\tlearn: 0.3414399\ttotal: 762ms\tremaining: 132ms\n",
      "852:\tlearn: 0.3413828\ttotal: 762ms\tremaining: 131ms\n",
      "853:\tlearn: 0.3413623\ttotal: 763ms\tremaining: 130ms\n",
      "854:\tlearn: 0.3413233\ttotal: 764ms\tremaining: 129ms\n",
      "855:\tlearn: 0.3412865\ttotal: 764ms\tremaining: 129ms\n",
      "856:\tlearn: 0.3412273\ttotal: 765ms\tremaining: 128ms\n",
      "857:\tlearn: 0.3412055\ttotal: 765ms\tremaining: 127ms\n",
      "858:\tlearn: 0.3411441\ttotal: 766ms\tremaining: 126ms\n",
      "859:\tlearn: 0.3411078\ttotal: 767ms\tremaining: 125ms\n",
      "860:\tlearn: 0.3410842\ttotal: 767ms\tremaining: 124ms\n",
      "861:\tlearn: 0.3410578\ttotal: 768ms\tremaining: 123ms\n",
      "862:\tlearn: 0.3410302\ttotal: 768ms\tremaining: 122ms\n",
      "863:\tlearn: 0.3409670\ttotal: 769ms\tremaining: 121ms\n",
      "864:\tlearn: 0.3409361\ttotal: 770ms\tremaining: 120ms\n",
      "865:\tlearn: 0.3408977\ttotal: 770ms\tremaining: 119ms\n",
      "866:\tlearn: 0.3408928\ttotal: 771ms\tremaining: 118ms\n",
      "867:\tlearn: 0.3408459\ttotal: 771ms\tremaining: 117ms\n",
      "868:\tlearn: 0.3407889\ttotal: 772ms\tremaining: 116ms\n",
      "869:\tlearn: 0.3407244\ttotal: 773ms\tremaining: 115ms\n",
      "870:\tlearn: 0.3407046\ttotal: 773ms\tremaining: 115ms\n",
      "871:\tlearn: 0.3406915\ttotal: 774ms\tremaining: 114ms\n",
      "872:\tlearn: 0.3406740\ttotal: 774ms\tremaining: 113ms\n",
      "873:\tlearn: 0.3406290\ttotal: 775ms\tremaining: 112ms\n",
      "874:\tlearn: 0.3405675\ttotal: 775ms\tremaining: 111ms\n",
      "875:\tlearn: 0.3405271\ttotal: 776ms\tremaining: 110ms\n",
      "876:\tlearn: 0.3405081\ttotal: 777ms\tremaining: 109ms\n",
      "877:\tlearn: 0.3404421\ttotal: 778ms\tremaining: 108ms\n",
      "878:\tlearn: 0.3403966\ttotal: 778ms\tremaining: 107ms\n",
      "879:\tlearn: 0.3403788\ttotal: 779ms\tremaining: 106ms\n",
      "880:\tlearn: 0.3403523\ttotal: 780ms\tremaining: 105ms\n",
      "881:\tlearn: 0.3402891\ttotal: 781ms\tremaining: 104ms\n",
      "882:\tlearn: 0.3402640\ttotal: 782ms\tremaining: 104ms\n",
      "883:\tlearn: 0.3402199\ttotal: 783ms\tremaining: 103ms\n",
      "884:\tlearn: 0.3401740\ttotal: 783ms\tremaining: 102ms\n",
      "885:\tlearn: 0.3401674\ttotal: 784ms\tremaining: 101ms\n",
      "886:\tlearn: 0.3401645\ttotal: 785ms\tremaining: 100ms\n",
      "887:\tlearn: 0.3401222\ttotal: 785ms\tremaining: 99ms\n",
      "888:\tlearn: 0.3400922\ttotal: 786ms\tremaining: 98.1ms\n",
      "889:\tlearn: 0.3400653\ttotal: 787ms\tremaining: 97.2ms\n",
      "890:\tlearn: 0.3400260\ttotal: 787ms\tremaining: 96.3ms\n",
      "891:\tlearn: 0.3400099\ttotal: 787ms\tremaining: 95.3ms\n",
      "892:\tlearn: 0.3399796\ttotal: 788ms\tremaining: 94.4ms\n",
      "893:\tlearn: 0.3399575\ttotal: 790ms\tremaining: 93.6ms\n",
      "894:\tlearn: 0.3399277\ttotal: 790ms\tremaining: 92.7ms\n",
      "895:\tlearn: 0.3398957\ttotal: 791ms\tremaining: 91.8ms\n",
      "896:\tlearn: 0.3398745\ttotal: 792ms\tremaining: 90.9ms\n",
      "897:\tlearn: 0.3398445\ttotal: 792ms\tremaining: 90ms\n",
      "898:\tlearn: 0.3398052\ttotal: 793ms\tremaining: 89.1ms\n",
      "899:\tlearn: 0.3397718\ttotal: 793ms\tremaining: 88.1ms\n",
      "900:\tlearn: 0.3397128\ttotal: 794ms\tremaining: 87.2ms\n",
      "901:\tlearn: 0.3396833\ttotal: 794ms\tremaining: 86.3ms\n",
      "902:\tlearn: 0.3396226\ttotal: 795ms\tremaining: 85.4ms\n",
      "903:\tlearn: 0.3395823\ttotal: 796ms\tremaining: 84.5ms\n",
      "904:\tlearn: 0.3395159\ttotal: 796ms\tremaining: 83.6ms\n",
      "905:\tlearn: 0.3394728\ttotal: 797ms\tremaining: 82.7ms\n",
      "906:\tlearn: 0.3394103\ttotal: 798ms\tremaining: 81.8ms\n",
      "907:\tlearn: 0.3393874\ttotal: 798ms\tremaining: 80.9ms\n",
      "908:\tlearn: 0.3393750\ttotal: 799ms\tremaining: 80ms\n",
      "909:\tlearn: 0.3393487\ttotal: 799ms\tremaining: 79.1ms\n",
      "910:\tlearn: 0.3392784\ttotal: 800ms\tremaining: 78.2ms\n",
      "911:\tlearn: 0.3392269\ttotal: 801ms\tremaining: 77.3ms\n",
      "912:\tlearn: 0.3392196\ttotal: 801ms\tremaining: 76.4ms\n",
      "913:\tlearn: 0.3391888\ttotal: 802ms\tremaining: 75.5ms\n",
      "914:\tlearn: 0.3391638\ttotal: 803ms\tremaining: 74.6ms\n",
      "915:\tlearn: 0.3391249\ttotal: 803ms\tremaining: 73.7ms\n",
      "916:\tlearn: 0.3390899\ttotal: 804ms\tremaining: 72.7ms\n",
      "917:\tlearn: 0.3390612\ttotal: 804ms\tremaining: 71.8ms\n",
      "918:\tlearn: 0.3390072\ttotal: 805ms\tremaining: 70.9ms\n",
      "919:\tlearn: 0.3390007\ttotal: 805ms\tremaining: 70ms\n",
      "920:\tlearn: 0.3389713\ttotal: 806ms\tremaining: 69.1ms\n",
      "921:\tlearn: 0.3389543\ttotal: 807ms\tremaining: 68.2ms\n",
      "922:\tlearn: 0.3389110\ttotal: 807ms\tremaining: 67.3ms\n",
      "923:\tlearn: 0.3388683\ttotal: 808ms\tremaining: 66.4ms\n",
      "924:\tlearn: 0.3388448\ttotal: 808ms\tremaining: 65.5ms\n",
      "925:\tlearn: 0.3388178\ttotal: 809ms\tremaining: 64.6ms\n",
      "926:\tlearn: 0.3388143\ttotal: 810ms\tremaining: 63.7ms\n",
      "927:\tlearn: 0.3387683\ttotal: 810ms\tremaining: 62.9ms\n",
      "928:\tlearn: 0.3387419\ttotal: 811ms\tremaining: 62ms\n",
      "929:\tlearn: 0.3387357\ttotal: 812ms\tremaining: 61.1ms\n",
      "930:\tlearn: 0.3386907\ttotal: 812ms\tremaining: 60.2ms\n",
      "931:\tlearn: 0.3386625\ttotal: 813ms\tremaining: 59.3ms\n",
      "932:\tlearn: 0.3386404\ttotal: 813ms\tremaining: 58.4ms\n",
      "933:\tlearn: 0.3385949\ttotal: 814ms\tremaining: 57.5ms\n",
      "934:\tlearn: 0.3385594\ttotal: 815ms\tremaining: 56.6ms\n",
      "935:\tlearn: 0.3385265\ttotal: 815ms\tremaining: 55.8ms\n",
      "936:\tlearn: 0.3385106\ttotal: 817ms\tremaining: 54.9ms\n",
      "937:\tlearn: 0.3384842\ttotal: 817ms\tremaining: 54ms\n",
      "938:\tlearn: 0.3384489\ttotal: 818ms\tremaining: 53.1ms\n",
      "939:\tlearn: 0.3384160\ttotal: 818ms\tremaining: 52.2ms\n",
      "940:\tlearn: 0.3383750\ttotal: 819ms\tremaining: 51.4ms\n",
      "941:\tlearn: 0.3383296\ttotal: 820ms\tremaining: 50.5ms\n",
      "942:\tlearn: 0.3382815\ttotal: 822ms\tremaining: 49.7ms\n",
      "943:\tlearn: 0.3382491\ttotal: 823ms\tremaining: 48.8ms\n",
      "944:\tlearn: 0.3382032\ttotal: 824ms\tremaining: 47.9ms\n",
      "945:\tlearn: 0.3381503\ttotal: 824ms\tremaining: 47.1ms\n",
      "946:\tlearn: 0.3381323\ttotal: 825ms\tremaining: 46.2ms\n",
      "947:\tlearn: 0.3381178\ttotal: 826ms\tremaining: 45.3ms\n",
      "948:\tlearn: 0.3381016\ttotal: 827ms\tremaining: 44.4ms\n",
      "949:\tlearn: 0.3380535\ttotal: 828ms\tremaining: 43.6ms\n",
      "950:\tlearn: 0.3380117\ttotal: 828ms\tremaining: 42.7ms\n",
      "951:\tlearn: 0.3379963\ttotal: 829ms\tremaining: 41.8ms\n",
      "952:\tlearn: 0.3379652\ttotal: 829ms\tremaining: 40.9ms\n",
      "953:\tlearn: 0.3379174\ttotal: 830ms\tremaining: 40ms\n",
      "954:\tlearn: 0.3378883\ttotal: 830ms\tremaining: 39.1ms\n",
      "955:\tlearn: 0.3378704\ttotal: 831ms\tremaining: 38.2ms\n",
      "956:\tlearn: 0.3378464\ttotal: 832ms\tremaining: 37.4ms\n",
      "957:\tlearn: 0.3377806\ttotal: 832ms\tremaining: 36.5ms\n",
      "958:\tlearn: 0.3377576\ttotal: 833ms\tremaining: 35.6ms\n",
      "959:\tlearn: 0.3377314\ttotal: 833ms\tremaining: 34.7ms\n",
      "960:\tlearn: 0.3377291\ttotal: 834ms\tremaining: 33.8ms\n",
      "961:\tlearn: 0.3376948\ttotal: 835ms\tremaining: 33ms\n",
      "962:\tlearn: 0.3376711\ttotal: 835ms\tremaining: 32.1ms\n",
      "963:\tlearn: 0.3376214\ttotal: 836ms\tremaining: 31.2ms\n",
      "964:\tlearn: 0.3376004\ttotal: 836ms\tremaining: 30.3ms\n",
      "965:\tlearn: 0.3375706\ttotal: 837ms\tremaining: 29.5ms\n",
      "966:\tlearn: 0.3375518\ttotal: 838ms\tremaining: 28.6ms\n",
      "967:\tlearn: 0.3375320\ttotal: 838ms\tremaining: 27.7ms\n",
      "968:\tlearn: 0.3374943\ttotal: 839ms\tremaining: 26.8ms\n",
      "969:\tlearn: 0.3374697\ttotal: 839ms\tremaining: 26ms\n",
      "970:\tlearn: 0.3374399\ttotal: 840ms\tremaining: 25.1ms\n",
      "971:\tlearn: 0.3373959\ttotal: 841ms\tremaining: 24.2ms\n",
      "972:\tlearn: 0.3373624\ttotal: 841ms\tremaining: 23.3ms\n",
      "973:\tlearn: 0.3372988\ttotal: 842ms\tremaining: 22.5ms\n",
      "974:\tlearn: 0.3372535\ttotal: 842ms\tremaining: 21.6ms\n",
      "975:\tlearn: 0.3372106\ttotal: 843ms\tremaining: 20.7ms\n",
      "976:\tlearn: 0.3371866\ttotal: 844ms\tremaining: 19.9ms\n",
      "977:\tlearn: 0.3371491\ttotal: 844ms\tremaining: 19ms\n",
      "978:\tlearn: 0.3371230\ttotal: 845ms\tremaining: 18.1ms\n",
      "979:\tlearn: 0.3370985\ttotal: 845ms\tremaining: 17.3ms\n",
      "980:\tlearn: 0.3370540\ttotal: 846ms\tremaining: 16.4ms\n",
      "981:\tlearn: 0.3370123\ttotal: 847ms\tremaining: 15.5ms\n",
      "982:\tlearn: 0.3369721\ttotal: 847ms\tremaining: 14.7ms\n",
      "983:\tlearn: 0.3369467\ttotal: 848ms\tremaining: 13.8ms\n",
      "984:\tlearn: 0.3369303\ttotal: 848ms\tremaining: 12.9ms\n",
      "985:\tlearn: 0.3368994\ttotal: 849ms\tremaining: 12.1ms\n",
      "986:\tlearn: 0.3368688\ttotal: 849ms\tremaining: 11.2ms\n",
      "987:\tlearn: 0.3368327\ttotal: 850ms\tremaining: 10.3ms\n",
      "988:\tlearn: 0.3368194\ttotal: 851ms\tremaining: 9.46ms\n",
      "989:\tlearn: 0.3367717\ttotal: 851ms\tremaining: 8.6ms\n",
      "990:\tlearn: 0.3367534\ttotal: 851ms\tremaining: 7.73ms\n",
      "991:\tlearn: 0.3367166\ttotal: 852ms\tremaining: 6.87ms\n",
      "992:\tlearn: 0.3366943\ttotal: 852ms\tremaining: 6.01ms\n",
      "993:\tlearn: 0.3366551\ttotal: 853ms\tremaining: 5.15ms\n",
      "994:\tlearn: 0.3366192\ttotal: 854ms\tremaining: 4.29ms\n",
      "995:\tlearn: 0.3366019\ttotal: 855ms\tremaining: 3.43ms\n",
      "996:\tlearn: 0.3365709\ttotal: 856ms\tremaining: 2.57ms\n"
     ]
    },
    {
     "name": "stdout",
     "output_type": "stream",
     "text": [
      "997:\tlearn: 0.3365285\ttotal: 857ms\tremaining: 1.72ms\n",
      "998:\tlearn: 0.3364996\ttotal: 858ms\tremaining: 858us\n",
      "999:\tlearn: 0.3364813\ttotal: 859ms\tremaining: 0us\n"
     ]
    }
   ],
   "source": [
    "\n",
    "catboost = CatBoostClassifier()\n",
    "catboost.fit(X_train, Y_train)\n",
    "Y_pred = catboost.predict(X_test)\n",
    "acc_catboost = round(catboost.score(X_train, Y_train) * 100, 2)"
   ]
  },
  {
   "cell_type": "code",
   "execution_count": 146,
   "id": "20593d81",
   "metadata": {
    "scrolled": true
   },
   "outputs": [
    {
     "data": {
      "text/plain": [
       "85.47"
      ]
     },
     "execution_count": 146,
     "metadata": {},
     "output_type": "execute_result"
    }
   ],
   "source": [
    "acc_catboost\n"
   ]
  },
  {
   "cell_type": "code",
   "execution_count": 147,
   "id": "699cb58d",
   "metadata": {},
   "outputs": [
    {
     "data": {
      "text/plain": [
       "85.58"
      ]
     },
     "execution_count": 147,
     "metadata": {},
     "output_type": "execute_result"
    }
   ],
   "source": [
    "AdaBoos = AdaBoostClassifier(DecisionTreeClassifier(random_state=2),random_state=2,learning_rate=0.1)\n",
    "AdaBoos.fit(X_train, Y_train)\n",
    "Y_pred = AdaBoos.predict(X_test)\n",
    "acc_AdaBoos = round(AdaBoos.score(X_train, Y_train) * 100, 2)\n",
    "acc_AdaBoos"
   ]
  },
  {
   "cell_type": "code",
   "execution_count": 148,
   "id": "060f289f",
   "metadata": {},
   "outputs": [
    {
     "data": {
      "text/plain": [
       "84.55"
      ]
     },
     "execution_count": 148,
     "metadata": {},
     "output_type": "execute_result"
    }
   ],
   "source": [
    "GradBoos = GradientBoostingClassifier()\n",
    "GradBoos.fit(X_train, Y_train)\n",
    "Y_pred = GradBoos.predict(X_test)\n",
    "acc_GradBoos = round(GradBoos.score(X_train, Y_train) * 100, 2)\n",
    "acc_GradBoos"
   ]
  },
  {
   "cell_type": "code",
   "execution_count": 149,
   "id": "136861f5",
   "metadata": {},
   "outputs": [
    {
     "data": {
      "text/plain": [
       "79.86"
      ]
     },
     "execution_count": 149,
     "metadata": {},
     "output_type": "execute_result"
    }
   ],
   "source": [
    "LinDis = LinearDiscriminantAnalysis()\n",
    "LinDis.fit(X_train, Y_train)\n",
    "Y_pred = LinDis.predict(X_test)\n",
    "acc_LinDis = round(LinDis.score(X_train, Y_train) * 100, 2)\n",
    "acc_LinDis"
   ]
  },
  {
   "cell_type": "code",
   "execution_count": 150,
   "id": "a27c6469",
   "metadata": {},
   "outputs": [
    {
     "data": {
      "text/plain": [
       "61.78"
      ]
     },
     "execution_count": 150,
     "metadata": {},
     "output_type": "execute_result"
    }
   ],
   "source": [
    "QuaDis = QuadraticDiscriminantAnalysis()\n",
    "QuaDis.fit(X_train, Y_train)\n",
    "Y_pred = QuaDis.predict(X_test)\n",
    "acc_QuaDis = round(QuaDis.score(X_train, Y_train) * 100, 2)\n",
    "acc_QuaDis"
   ]
  },
  {
   "cell_type": "code",
   "execution_count": 151,
   "id": "d2b76c61",
   "metadata": {},
   "outputs": [
    {
     "data": {
      "text/plain": [
       "85.58"
      ]
     },
     "execution_count": 151,
     "metadata": {},
     "output_type": "execute_result"
    }
   ],
   "source": [
    "ExTree = ExtraTreesClassifier()\n",
    "ExTree.fit(X_train, Y_train)\n",
    "Y_pred = ExTree.predict(X_test)\n",
    "acc_ExTree = round(ExTree.score(X_train, Y_train) * 100, 2)\n",
    "acc_ExTree"
   ]
  },
  {
   "cell_type": "code",
   "execution_count": 152,
   "id": "42b66dc2",
   "metadata": {},
   "outputs": [
    {
     "data": {
      "text/plain": [
       "83.87"
      ]
     },
     "execution_count": 152,
     "metadata": {},
     "output_type": "execute_result"
    }
   ],
   "source": [
    "from sklearn.neural_network import MLPClassifier\n",
    "\n",
    "MLPC = MLPClassifier()\n",
    "MLPC.fit(X_train, Y_train)\n",
    "Y_pred = MLPC.predict(X_test)\n",
    "acc_MLPC = round(MLPC.score(X_train, Y_train) * 100, 2)\n",
    "acc_MLPC"
   ]
  },
  {
   "cell_type": "markdown",
   "id": "709e1b58",
   "metadata": {},
   "source": [
    "##  Model evaluation and hyperparameter tuning\n"
   ]
  },
  {
   "cell_type": "code",
   "execution_count": 153,
   "id": "14d246b6",
   "metadata": {},
   "outputs": [
    {
     "data": {
      "text/html": [
       "<div>\n",
       "<style scoped>\n",
       "    .dataframe tbody tr th:only-of-type {\n",
       "        vertical-align: middle;\n",
       "    }\n",
       "\n",
       "    .dataframe tbody tr th {\n",
       "        vertical-align: top;\n",
       "    }\n",
       "\n",
       "    .dataframe thead th {\n",
       "        text-align: right;\n",
       "    }\n",
       "</style>\n",
       "<table border=\"1\" class=\"dataframe\">\n",
       "  <thead>\n",
       "    <tr style=\"text-align: right;\">\n",
       "      <th></th>\n",
       "      <th>Model</th>\n",
       "      <th>Score</th>\n",
       "    </tr>\n",
       "  </thead>\n",
       "  <tbody>\n",
       "    <tr>\n",
       "      <th>0</th>\n",
       "      <td>Random Forest</td>\n",
       "      <td>85.58</td>\n",
       "    </tr>\n",
       "    <tr>\n",
       "      <th>1</th>\n",
       "      <td>Decision Tree</td>\n",
       "      <td>85.58</td>\n",
       "    </tr>\n",
       "    <tr>\n",
       "      <th>2</th>\n",
       "      <td>CatBoost</td>\n",
       "      <td>85.47</td>\n",
       "    </tr>\n",
       "    <tr>\n",
       "      <th>3</th>\n",
       "      <td>KNN</td>\n",
       "      <td>84.32</td>\n",
       "    </tr>\n",
       "    <tr>\n",
       "      <th>4</th>\n",
       "      <td>Support Vector Machines</td>\n",
       "      <td>83.07</td>\n",
       "    </tr>\n",
       "    <tr>\n",
       "      <th>5</th>\n",
       "      <td>Logistic Regression</td>\n",
       "      <td>81.24</td>\n",
       "    </tr>\n",
       "    <tr>\n",
       "      <th>6</th>\n",
       "      <td>Linear SVC</td>\n",
       "      <td>80.78</td>\n",
       "    </tr>\n",
       "    <tr>\n",
       "      <th>7</th>\n",
       "      <td>Naive Bayes</td>\n",
       "      <td>78.83</td>\n",
       "    </tr>\n",
       "    <tr>\n",
       "      <th>8</th>\n",
       "      <td>Stochastic Gradient Decent</td>\n",
       "      <td>78.60</td>\n",
       "    </tr>\n",
       "    <tr>\n",
       "      <th>9</th>\n",
       "      <td>Perceptron</td>\n",
       "      <td>78.38</td>\n",
       "    </tr>\n",
       "  </tbody>\n",
       "</table>\n",
       "</div>"
      ],
      "text/plain": [
       "                        Model  Score\n",
       "0               Random Forest  85.58\n",
       "1               Decision Tree  85.58\n",
       "2                    CatBoost  85.47\n",
       "3                         KNN  84.32\n",
       "4     Support Vector Machines  83.07\n",
       "5         Logistic Regression  81.24\n",
       "6                  Linear SVC  80.78\n",
       "7                 Naive Bayes  78.83\n",
       "8  Stochastic Gradient Decent  78.60\n",
       "9                  Perceptron  78.38"
      ]
     },
     "execution_count": 153,
     "metadata": {},
     "output_type": "execute_result"
    }
   ],
   "source": [
    "models = pd.DataFrame({'Model': ['Support Vector Machines', 'KNN', 'Logistic Regression', \n",
    "                                 'Random Forest', 'Naive Bayes', 'Perceptron', 'Stochastic Gradient Decent', \n",
    "                                 'Linear SVC', 'Decision Tree', 'CatBoost'   ],\n",
    "                       'Score': [acc_svc, acc_knn, acc_LogReg, acc_random_forest, acc_gaussian, acc_perceptron,\n",
    "                                 acc_sgd, acc_linear_svc, acc_decision_tree, acc_catboost  ]})\n",
    "models.sort_values(by = 'Score', ascending = False, ignore_index = True)"
   ]
  },
  {
   "cell_type": "markdown",
   "id": "72c41b83",
   "metadata": {},
   "source": [
    "###  K-fold cross validation\n"
   ]
  },
  {
   "cell_type": "code",
   "execution_count": 154,
   "id": "84470b7e",
   "metadata": {
    "scrolled": true
   },
   "outputs": [
    {
     "data": {
      "text/plain": [
       "10"
      ]
     },
     "execution_count": 154,
     "metadata": {},
     "output_type": "execute_result"
    }
   ],
   "source": [
    "# Create a list which contains classifiers \n",
    "\n",
    "classifiers = []\n",
    "classifiers.append(LogisticRegression())\n",
    "classifiers.append(SVC())\n",
    "classifiers.append(KNeighborsClassifier())\n",
    "classifiers.append(GaussianNB())\n",
    "classifiers.append(Perceptron())\n",
    "classifiers.append(LinearSVC())\n",
    "classifiers.append(SGDClassifier())\n",
    "classifiers.append(DecisionTreeClassifier())\n",
    "classifiers.append(RandomForestClassifier())\n",
    "classifiers.append(CatBoostClassifier())\n",
    "\n",
    "\n",
    "\n",
    "len(classifiers)"
   ]
  },
  {
   "cell_type": "code",
   "execution_count": 155,
   "id": "3649291a",
   "metadata": {},
   "outputs": [],
   "source": [
    "from sklearn.model_selection import StratifiedKFold\n",
    "kfold = StratifiedKFold(n_splits=10)\n"
   ]
  },
  {
   "cell_type": "code",
   "execution_count": 156,
   "id": "7864d404",
   "metadata": {},
   "outputs": [],
   "source": [
    "# Create a list which contains cross validation results for each classifier\n",
    "\n",
    "cv_results = []\n",
    "for classifier in classifiers:\n",
    "    cv_results.append(cross_val_score(classifier, X_train, Y_train, scoring = 'accuracy' , n_jobs= 4 , cv=  kfold ))"
   ]
  },
  {
   "cell_type": "code",
   "execution_count": 157,
   "id": "6ad3f922",
   "metadata": {},
   "outputs": [],
   "source": [
    "# Mean and standard deviation of cross validation results for each classifier  \n",
    "\n",
    "cv_mean = []\n",
    "cv_std = []\n",
    "for cv_result in cv_results:\n",
    "    cv_mean.append(cv_result.mean())\n",
    "    cv_std.append(cv_result.std())"
   ]
  },
  {
   "cell_type": "code",
   "execution_count": 158,
   "id": "4423ea74",
   "metadata": {},
   "outputs": [
    {
     "data": {
      "text/html": [
       "<div>\n",
       "<style scoped>\n",
       "    .dataframe tbody tr th:only-of-type {\n",
       "        vertical-align: middle;\n",
       "    }\n",
       "\n",
       "    .dataframe tbody tr th {\n",
       "        vertical-align: top;\n",
       "    }\n",
       "\n",
       "    .dataframe thead th {\n",
       "        text-align: right;\n",
       "    }\n",
       "</style>\n",
       "<table border=\"1\" class=\"dataframe\">\n",
       "  <thead>\n",
       "    <tr style=\"text-align: right;\">\n",
       "      <th></th>\n",
       "      <th>Cross Validation Mean</th>\n",
       "      <th>Cross Validation Std</th>\n",
       "      <th>Algorithm</th>\n",
       "    </tr>\n",
       "  </thead>\n",
       "  <tbody>\n",
       "    <tr>\n",
       "      <th>0</th>\n",
       "      <td>0.819175</td>\n",
       "      <td>0.043071</td>\n",
       "      <td>Support Vector Machines</td>\n",
       "    </tr>\n",
       "    <tr>\n",
       "      <th>1</th>\n",
       "      <td>0.814707</td>\n",
       "      <td>0.034268</td>\n",
       "      <td>CatBoost</td>\n",
       "    </tr>\n",
       "    <tr>\n",
       "      <th>2</th>\n",
       "      <td>0.803318</td>\n",
       "      <td>0.027536</td>\n",
       "      <td>Random Forest</td>\n",
       "    </tr>\n",
       "    <tr>\n",
       "      <th>3</th>\n",
       "      <td>0.799752</td>\n",
       "      <td>0.032873</td>\n",
       "      <td>Logistic Regression</td>\n",
       "    </tr>\n",
       "    <tr>\n",
       "      <th>4</th>\n",
       "      <td>0.797466</td>\n",
       "      <td>0.036594</td>\n",
       "      <td>Linear SVC</td>\n",
       "    </tr>\n",
       "    <tr>\n",
       "      <th>5</th>\n",
       "      <td>0.796552</td>\n",
       "      <td>0.050453</td>\n",
       "      <td>KNN</td>\n",
       "    </tr>\n",
       "    <tr>\n",
       "      <th>6</th>\n",
       "      <td>0.787265</td>\n",
       "      <td>0.025008</td>\n",
       "      <td>Decision Tree</td>\n",
       "    </tr>\n",
       "    <tr>\n",
       "      <th>7</th>\n",
       "      <td>0.783882</td>\n",
       "      <td>0.055870</td>\n",
       "      <td>Stochastic Gradient Descent</td>\n",
       "    </tr>\n",
       "    <tr>\n",
       "      <th>8</th>\n",
       "      <td>0.781361</td>\n",
       "      <td>0.035727</td>\n",
       "      <td>Gausian Naive Bayes</td>\n",
       "    </tr>\n",
       "    <tr>\n",
       "      <th>9</th>\n",
       "      <td>0.700496</td>\n",
       "      <td>0.105839</td>\n",
       "      <td>Perceptron</td>\n",
       "    </tr>\n",
       "  </tbody>\n",
       "</table>\n",
       "</div>"
      ],
      "text/plain": [
       "   Cross Validation Mean  Cross Validation Std                    Algorithm\n",
       "0               0.819175              0.043071      Support Vector Machines\n",
       "1               0.814707              0.034268                     CatBoost\n",
       "2               0.803318              0.027536                Random Forest\n",
       "3               0.799752              0.032873          Logistic Regression\n",
       "4               0.797466              0.036594                   Linear SVC\n",
       "5               0.796552              0.050453                          KNN\n",
       "6               0.787265              0.025008                Decision Tree\n",
       "7               0.783882              0.055870  Stochastic Gradient Descent\n",
       "8               0.781361              0.035727          Gausian Naive Bayes\n",
       "9               0.700496              0.105839                   Perceptron"
      ]
     },
     "execution_count": 158,
     "metadata": {},
     "output_type": "execute_result"
    }
   ],
   "source": [
    "cv_res = pd.DataFrame({'Cross Validation Mean': cv_mean, 'Cross Validation Std': cv_std, 'Algorithm': ['Logistic Regression', 'Support Vector Machines', 'KNN', 'Gausian Naive Bayes', 'Perceptron', 'Linear SVC', 'Stochastic Gradient Descent', 'Decision Tree', 'Random Forest', 'CatBoost']})\n",
    "cv_res.sort_values(by = 'Cross Validation Mean', ascending = False, ignore_index = True)"
   ]
  },
  {
   "cell_type": "code",
   "execution_count": 159,
   "id": "025c6abe",
   "metadata": {
    "scrolled": true
   },
   "outputs": [
    {
     "data": {
      "text/plain": [
       "Text(0.5, 1.0, 'Cross Validation Scores')"
      ]
     },
     "execution_count": 159,
     "metadata": {},
     "output_type": "execute_result"
    },
    {
     "data": {
      "image/png": "[encoded data removed]",
      "text/plain": [
       "<Figure size 432x288 with 1 Axes>"
      ]
     },
     "metadata": {},
     "output_type": "display_data"
    }
   ],
   "source": [
    "sns.barplot('Cross Validation Mean', 'Algorithm', data = cv_res, order = cv_res.sort_values(by = 'Cross Validation Mean', ascending = False)['Algorithm'], palette = 'Set3', **{'xerr': cv_std})\n",
    "plt.ylabel('Algorithm')\n",
    "plt.title('Cross Validation Scores')"
   ]
  },
  {
   "cell_type": "code",
   "execution_count": 160,
   "id": "79fc0eec",
   "metadata": {},
   "outputs": [
    {
     "name": "stdout",
     "output_type": "stream",
     "text": [
      "Fitting 5 folds for each of 25 candidates, totalling 125 fits\n",
      "[CV 1/5] END .....................C=0.1, gamma=1, kernel=rbf; total time=   0.0s\n",
      "[CV 2/5] END .....................C=0.1, gamma=1, kernel=rbf; total time=   0.1s\n",
      "[CV 3/5] END .....................C=0.1, gamma=1, kernel=rbf; total time=   0.0s\n",
      "[CV 4/5] END .....................C=0.1, gamma=1, kernel=rbf; total time=   0.0s\n",
      "[CV 5/5] END .....................C=0.1, gamma=1, kernel=rbf; total time=   0.0s\n",
      "[CV 1/5] END ...................C=0.1, gamma=0.1, kernel=rbf; total time=   0.0s\n",
      "[CV 2/5] END ...................C=0.1, gamma=0.1, kernel=rbf; total time=   0.0s\n",
      "[CV 3/5] END ...................C=0.1, gamma=0.1, kernel=rbf; total time=   0.0s\n",
      "[CV 4/5] END ...................C=0.1, gamma=0.1, kernel=rbf; total time=   0.0s\n",
      "[CV 5/5] END ...................C=0.1, gamma=0.1, kernel=rbf; total time=   0.0s\n",
      "[CV 1/5] END ..................C=0.1, gamma=0.01, kernel=rbf; total time=   0.0s\n",
      "[CV 2/5] END ..................C=0.1, gamma=0.01, kernel=rbf; total time=   0.0s\n",
      "[CV 3/5] END ..................C=0.1, gamma=0.01, kernel=rbf; total time=   0.0s\n",
      "[CV 4/5] END ..................C=0.1, gamma=0.01, kernel=rbf; total time=   0.0s\n",
      "[CV 5/5] END ..................C=0.1, gamma=0.01, kernel=rbf; total time=   0.0s\n",
      "[CV 1/5] END .................C=0.1, gamma=0.001, kernel=rbf; total time=   0.0s\n",
      "[CV 2/5] END .................C=0.1, gamma=0.001, kernel=rbf; total time=   0.0s\n",
      "[CV 3/5] END .................C=0.1, gamma=0.001, kernel=rbf; total time=   0.0s\n",
      "[CV 4/5] END .................C=0.1, gamma=0.001, kernel=rbf; total time=   0.0s\n",
      "[CV 5/5] END .................C=0.1, gamma=0.001, kernel=rbf; total time=   0.0s\n",
      "[CV 1/5] END ................C=0.1, gamma=0.0001, kernel=rbf; total time=   0.0s\n",
      "[CV 2/5] END ................C=0.1, gamma=0.0001, kernel=rbf; total time=   0.0s\n",
      "[CV 3/5] END ................C=0.1, gamma=0.0001, kernel=rbf; total time=   0.0s\n",
      "[CV 4/5] END ................C=0.1, gamma=0.0001, kernel=rbf; total time=   0.0s\n",
      "[CV 5/5] END ................C=0.1, gamma=0.0001, kernel=rbf; total time=   0.0s\n",
      "[CV 1/5] END .......................C=1, gamma=1, kernel=rbf; total time=   0.0s\n",
      "[CV 2/5] END .......................C=1, gamma=1, kernel=rbf; total time=   0.0s\n",
      "[CV 3/5] END .......................C=1, gamma=1, kernel=rbf; total time=   0.0s\n",
      "[CV 4/5] END .......................C=1, gamma=1, kernel=rbf; total time=   0.0s\n",
      "[CV 5/5] END .......................C=1, gamma=1, kernel=rbf; total time=   0.0s\n",
      "[CV 1/5] END .....................C=1, gamma=0.1, kernel=rbf; total time=   0.0s\n",
      "[CV 2/5] END .....................C=1, gamma=0.1, kernel=rbf; total time=   0.0s\n",
      "[CV 3/5] END .....................C=1, gamma=0.1, kernel=rbf; total time=   0.0s\n",
      "[CV 4/5] END .....................C=1, gamma=0.1, kernel=rbf; total time=   0.0s\n",
      "[CV 5/5] END .....................C=1, gamma=0.1, kernel=rbf; total time=   0.0s\n",
      "[CV 1/5] END ....................C=1, gamma=0.01, kernel=rbf; total time=   0.0s\n",
      "[CV 2/5] END ....................C=1, gamma=0.01, kernel=rbf; total time=   0.0s\n",
      "[CV 3/5] END ....................C=1, gamma=0.01, kernel=rbf; total time=   0.0s\n",
      "[CV 4/5] END ....................C=1, gamma=0.01, kernel=rbf; total time=   0.0s\n",
      "[CV 5/5] END ....................C=1, gamma=0.01, kernel=rbf; total time=   0.0s\n",
      "[CV 1/5] END ...................C=1, gamma=0.001, kernel=rbf; total time=   0.0s\n",
      "[CV 2/5] END ...................C=1, gamma=0.001, kernel=rbf; total time=   0.0s\n",
      "[CV 3/5] END ...................C=1, gamma=0.001, kernel=rbf; total time=   0.0s\n",
      "[CV 4/5] END ...................C=1, gamma=0.001, kernel=rbf; total time=   0.0s\n",
      "[CV 5/5] END ...................C=1, gamma=0.001, kernel=rbf; total time=   0.0s\n",
      "[CV 1/5] END ..................C=1, gamma=0.0001, kernel=rbf; total time=   0.0s\n",
      "[CV 2/5] END ..................C=1, gamma=0.0001, kernel=rbf; total time=   0.0s\n",
      "[CV 3/5] END ..................C=1, gamma=0.0001, kernel=rbf; total time=   0.0s\n",
      "[CV 4/5] END ..................C=1, gamma=0.0001, kernel=rbf; total time=   0.0s\n",
      "[CV 5/5] END ..................C=1, gamma=0.0001, kernel=rbf; total time=   0.0s\n",
      "[CV 1/5] END ......................C=10, gamma=1, kernel=rbf; total time=   0.0s\n",
      "[CV 2/5] END ......................C=10, gamma=1, kernel=rbf; total time=   0.0s\n",
      "[CV 3/5] END ......................C=10, gamma=1, kernel=rbf; total time=   0.0s\n",
      "[CV 4/5] END ......................C=10, gamma=1, kernel=rbf; total time=   0.0s\n",
      "[CV 5/5] END ......................C=10, gamma=1, kernel=rbf; total time=   0.0s\n",
      "[CV 1/5] END ....................C=10, gamma=0.1, kernel=rbf; total time=   0.0s\n",
      "[CV 2/5] END ....................C=10, gamma=0.1, kernel=rbf; total time=   0.0s\n",
      "[CV 3/5] END ....................C=10, gamma=0.1, kernel=rbf; total time=   0.0s\n",
      "[CV 4/5] END ....................C=10, gamma=0.1, kernel=rbf; total time=   0.0s\n",
      "[CV 5/5] END ....................C=10, gamma=0.1, kernel=rbf; total time=   0.0s\n",
      "[CV 1/5] END ...................C=10, gamma=0.01, kernel=rbf; total time=   0.0s\n",
      "[CV 2/5] END ...................C=10, gamma=0.01, kernel=rbf; total time=   0.0s\n",
      "[CV 3/5] END ...................C=10, gamma=0.01, kernel=rbf; total time=   0.0s\n",
      "[CV 4/5] END ...................C=10, gamma=0.01, kernel=rbf; total time=   0.0s\n",
      "[CV 5/5] END ...................C=10, gamma=0.01, kernel=rbf; total time=   0.0s\n",
      "[CV 1/5] END ..................C=10, gamma=0.001, kernel=rbf; total time=   0.0s\n",
      "[CV 2/5] END ..................C=10, gamma=0.001, kernel=rbf; total time=   0.0s\n",
      "[CV 3/5] END ..................C=10, gamma=0.001, kernel=rbf; total time=   0.0s\n",
      "[CV 4/5] END ..................C=10, gamma=0.001, kernel=rbf; total time=   0.0s\n",
      "[CV 5/5] END ..................C=10, gamma=0.001, kernel=rbf; total time=   0.0s\n",
      "[CV 1/5] END .................C=10, gamma=0.0001, kernel=rbf; total time=   0.0s\n",
      "[CV 2/5] END .................C=10, gamma=0.0001, kernel=rbf; total time=   0.0s\n",
      "[CV 3/5] END .................C=10, gamma=0.0001, kernel=rbf; total time=   0.0s\n",
      "[CV 4/5] END .................C=10, gamma=0.0001, kernel=rbf; total time=   0.0s\n",
      "[CV 5/5] END .................C=10, gamma=0.0001, kernel=rbf; total time=   0.0s\n",
      "[CV 1/5] END .....................C=100, gamma=1, kernel=rbf; total time=   0.0s\n",
      "[CV 2/5] END .....................C=100, gamma=1, kernel=rbf; total time=   0.0s\n",
      "[CV 3/5] END .....................C=100, gamma=1, kernel=rbf; total time=   0.0s\n",
      "[CV 4/5] END .....................C=100, gamma=1, kernel=rbf; total time=   0.0s\n",
      "[CV 5/5] END .....................C=100, gamma=1, kernel=rbf; total time=   0.0s\n",
      "[CV 1/5] END ...................C=100, gamma=0.1, kernel=rbf; total time=   0.0s\n",
      "[CV 2/5] END ...................C=100, gamma=0.1, kernel=rbf; total time=   0.0s\n",
      "[CV 3/5] END ...................C=100, gamma=0.1, kernel=rbf; total time=   0.0s\n",
      "[CV 4/5] END ...................C=100, gamma=0.1, kernel=rbf; total time=   0.0s\n",
      "[CV 5/5] END ...................C=100, gamma=0.1, kernel=rbf; total time=   0.0s\n",
      "[CV 1/5] END ..................C=100, gamma=0.01, kernel=rbf; total time=   0.0s\n",
      "[CV 2/5] END ..................C=100, gamma=0.01, kernel=rbf; total time=   0.0s\n",
      "[CV 3/5] END ..................C=100, gamma=0.01, kernel=rbf; total time=   0.0s\n",
      "[CV 4/5] END ..................C=100, gamma=0.01, kernel=rbf; total time=   0.0s\n",
      "[CV 5/5] END ..................C=100, gamma=0.01, kernel=rbf; total time=   0.0s\n",
      "[CV 1/5] END .................C=100, gamma=0.001, kernel=rbf; total time=   0.0s\n",
      "[CV 2/5] END .................C=100, gamma=0.001, kernel=rbf; total time=   0.0s\n",
      "[CV 3/5] END .................C=100, gamma=0.001, kernel=rbf; total time=   0.0s\n",
      "[CV 4/5] END .................C=100, gamma=0.001, kernel=rbf; total time=   0.0s\n",
      "[CV 5/5] END .................C=100, gamma=0.001, kernel=rbf; total time=   0.1s\n",
      "[CV 1/5] END ................C=100, gamma=0.0001, kernel=rbf; total time=   0.0s\n",
      "[CV 2/5] END ................C=100, gamma=0.0001, kernel=rbf; total time=   0.0s\n",
      "[CV 3/5] END ................C=100, gamma=0.0001, kernel=rbf; total time=   0.0s\n",
      "[CV 4/5] END ................C=100, gamma=0.0001, kernel=rbf; total time=   0.0s\n",
      "[CV 5/5] END ................C=100, gamma=0.0001, kernel=rbf; total time=   0.0s\n",
      "[CV 1/5] END ....................C=1000, gamma=1, kernel=rbf; total time=   0.0s\n"
     ]
    },
    {
     "name": "stdout",
     "output_type": "stream",
     "text": [
      "[CV 2/5] END ....................C=1000, gamma=1, kernel=rbf; total time=   0.0s\n",
      "[CV 3/5] END ....................C=1000, gamma=1, kernel=rbf; total time=   0.0s\n",
      "[CV 4/5] END ....................C=1000, gamma=1, kernel=rbf; total time=   0.0s\n",
      "[CV 5/5] END ....................C=1000, gamma=1, kernel=rbf; total time=   0.0s\n",
      "[CV 1/5] END ..................C=1000, gamma=0.1, kernel=rbf; total time=   0.1s\n",
      "[CV 2/5] END ..................C=1000, gamma=0.1, kernel=rbf; total time=   0.0s\n",
      "[CV 3/5] END ..................C=1000, gamma=0.1, kernel=rbf; total time=   0.1s\n",
      "[CV 4/5] END ..................C=1000, gamma=0.1, kernel=rbf; total time=   0.1s\n",
      "[CV 5/5] END ..................C=1000, gamma=0.1, kernel=rbf; total time=   0.1s\n",
      "[CV 1/5] END .................C=1000, gamma=0.01, kernel=rbf; total time=   0.2s\n",
      "[CV 2/5] END .................C=1000, gamma=0.01, kernel=rbf; total time=   0.1s\n",
      "[CV 3/5] END .................C=1000, gamma=0.01, kernel=rbf; total time=   0.1s\n",
      "[CV 4/5] END .................C=1000, gamma=0.01, kernel=rbf; total time=   0.1s\n",
      "[CV 5/5] END .................C=1000, gamma=0.01, kernel=rbf; total time=   0.1s\n",
      "[CV 1/5] END ................C=1000, gamma=0.001, kernel=rbf; total time=   0.1s\n",
      "[CV 2/5] END ................C=1000, gamma=0.001, kernel=rbf; total time=   0.1s\n",
      "[CV 3/5] END ................C=1000, gamma=0.001, kernel=rbf; total time=   0.1s\n",
      "[CV 4/5] END ................C=1000, gamma=0.001, kernel=rbf; total time=   0.1s\n",
      "[CV 5/5] END ................C=1000, gamma=0.001, kernel=rbf; total time=   0.1s\n",
      "[CV 1/5] END ...............C=1000, gamma=0.0001, kernel=rbf; total time=   0.1s\n",
      "[CV 2/5] END ...............C=1000, gamma=0.0001, kernel=rbf; total time=   0.1s\n",
      "[CV 3/5] END ...............C=1000, gamma=0.0001, kernel=rbf; total time=   0.1s\n",
      "[CV 4/5] END ...............C=1000, gamma=0.0001, kernel=rbf; total time=   0.1s\n",
      "[CV 5/5] END ...............C=1000, gamma=0.0001, kernel=rbf; total time=   0.1s\n"
     ]
    },
    {
     "data": {
      "text/plain": [
       "GridSearchCV(estimator=SVC(),\n",
       "             param_grid={'C': [0.1, 1, 10, 100, 1000],\n",
       "                         'gamma': [1, 0.1, 0.01, 0.001, 0.0001],\n",
       "                         'kernel': ['rbf']},\n",
       "             verbose=3)"
      ]
     },
     "execution_count": 160,
     "metadata": {},
     "output_type": "execute_result"
    }
   ],
   "source": [
    "from sklearn.model_selection import GridSearchCV\n",
    "param_grid = {'C': [0.1, 1, 10, 100, 1000],  \n",
    "              'gamma': [1, 0.1, 0.01, 0.001, 0.0001], \n",
    "              'kernel': ['rbf']}  \n",
    "  \n",
    "grid = GridSearchCV(SVC(), param_grid, refit = True, verbose = 3) \n",
    "\n",
    "grid.fit(X_train, Y_train) "
   ]
  },
  {
   "cell_type": "code",
   "execution_count": 161,
   "id": "e3c88e88",
   "metadata": {},
   "outputs": [
    {
     "name": "stdout",
     "output_type": "stream",
     "text": [
      "Best parameters:  {'C': 100, 'gamma': 0.01, 'kernel': 'rbf'}\n",
      "Best estimator:  SVC(C=100, gamma=0.01)\n"
     ]
    }
   ],
   "source": [
    "print(\"Best parameters: \", grid.best_params_) \n",
    "print(\"Best estimator: \", grid.best_estimator_)"
   ]
  },
  {
   "cell_type": "code",
   "execution_count": 162,
   "id": "03823e0b",
   "metadata": {
    "scrolled": true
   },
   "outputs": [
    {
     "data": {
      "text/plain": [
       "83.41"
      ]
     },
     "execution_count": 162,
     "metadata": {},
     "output_type": "execute_result"
    }
   ],
   "source": [
    "# Training accuracy\n",
    "\n",
    "svc = SVC(C = 100, gamma = 0.01, kernel = 'rbf')\n",
    "svc.fit(X_train, Y_train)\n",
    "Y_pred = svc.predict(X_test)\n",
    "acc_svc = round(svc.score(X_train, Y_train) * 100, 2)\n",
    "acc_svc"
   ]
  },
  {
   "cell_type": "markdown",
   "id": "d142c65a",
   "metadata": {},
   "source": [
    "# Ensamble Technique"
   ]
  },
  {
   "cell_type": "code",
   "execution_count": 163,
   "id": "7f802694",
   "metadata": {},
   "outputs": [
    {
     "name": "stdout",
     "output_type": "stream",
     "text": [
      "Fitting 10 folds for each of 54 candidates, totalling 540 fits\n"
     ]
    },
    {
     "data": {
      "text/plain": [
       "0.827324973876698"
      ]
     },
     "execution_count": 163,
     "metadata": {},
     "output_type": "execute_result"
    }
   ],
   "source": [
    "RFC = RandomForestClassifier()\n",
    "\n",
    "\n",
    "## Search grid for optimal parameters\n",
    "rf_param_grid = {\"max_depth\": [None],\n",
    "              \"max_features\": [1, 3, 10],\n",
    "              \"min_samples_split\": [2, 3, 10],\n",
    "              \"min_samples_leaf\": [1, 3, 10],\n",
    "              \"bootstrap\": [False],\n",
    "              \"n_estimators\" :[100,300],\n",
    "              \"criterion\": [\"gini\"]}\n",
    "\n",
    "\n",
    "gsRFC = GridSearchCV(RFC,param_grid = rf_param_grid, cv=kfold, scoring=\"accuracy\", n_jobs= 4, verbose = 1)\n",
    "\n",
    "gsRFC.fit(X_train,Y_train)\n",
    "\n",
    "RFC_best = gsRFC.best_estimator_\n",
    "\n",
    "# Best score\n",
    "gsRFC.best_score_"
   ]
  },
  {
   "cell_type": "code",
   "execution_count": 164,
   "id": "762c3cc0",
   "metadata": {},
   "outputs": [
    {
     "name": "stdout",
     "output_type": "stream",
     "text": [
      "Fitting 10 folds for each of 112 candidates, totalling 1120 fits\n"
     ]
    }
   ],
   "source": [
    "### META MODELING  WITH ADABOOST, RF, EXTRATREES and GRADIENTBOOSTING\n",
    "\n",
    "# Adaboost\n",
    "DTC = DecisionTreeClassifier()\n",
    "\n",
    "adaDTC = AdaBoostClassifier(DTC, random_state=7)\n",
    "\n",
    "ada_param_grid = {\"base_estimator__criterion\" : [\"gini\", \"entropy\"],\n",
    "              \"base_estimator__splitter\" :   [\"best\", \"random\"],\n",
    "              \"algorithm\" : [\"SAMME\",\"SAMME.R\"],\n",
    "              \"n_estimators\" :[1,2],\n",
    "              \"learning_rate\":  [0.0001, 0.001, 0.01, 0.1, 0.2, 0.3,1.5]}\n",
    "\n",
    "gsadaDTC = GridSearchCV(adaDTC,param_grid = ada_param_grid, cv=kfold, scoring=\"accuracy\", n_jobs= 4, verbose = 1)\n",
    "\n",
    "gsadaDTC.fit(X_train,Y_train)\n",
    "\n",
    "ada_best = gsadaDTC.best_estimator_\n"
   ]
  },
  {
   "cell_type": "code",
   "execution_count": 165,
   "id": "6e20c56e",
   "metadata": {},
   "outputs": [
    {
     "data": {
      "text/plain": [
       "0.7907001044932079"
      ]
     },
     "execution_count": 165,
     "metadata": {},
     "output_type": "execute_result"
    }
   ],
   "source": [
    "gsadaDTC.best_score_\n"
   ]
  },
  {
   "cell_type": "code",
   "execution_count": 166,
   "id": "d53a29b2",
   "metadata": {},
   "outputs": [
    {
     "name": "stdout",
     "output_type": "stream",
     "text": [
      "Fitting 10 folds for each of 54 candidates, totalling 540 fits\n"
     ]
    },
    {
     "data": {
      "text/plain": [
       "0.8261624869383489"
      ]
     },
     "execution_count": 166,
     "metadata": {},
     "output_type": "execute_result"
    }
   ],
   "source": [
    "#ExtraTrees \n",
    "ExtC = ExtraTreesClassifier()\n",
    "\n",
    "\n",
    "## Search grid for optimal parameters\n",
    "ex_param_grid = {\"max_depth\": [None],\n",
    "              \"max_features\": [1, 3, 10],\n",
    "              \"min_samples_split\": [2, 3, 10],\n",
    "              \"min_samples_leaf\": [1, 3, 10],\n",
    "              \"bootstrap\": [False],\n",
    "              \"n_estimators\" :[100,300],\n",
    "              \"criterion\": [\"gini\"]}\n",
    "\n",
    "\n",
    "gsExtC = GridSearchCV(ExtC,param_grid = ex_param_grid, cv=kfold, scoring=\"accuracy\", n_jobs= 4, verbose = 1)\n",
    "\n",
    "gsExtC.fit(X_train,Y_train)\n",
    "\n",
    "ExtC_best = gsExtC.best_estimator_\n",
    "\n",
    "# Best score\n",
    "gsExtC.best_score_"
   ]
  },
  {
   "cell_type": "code",
   "execution_count": 167,
   "id": "08981db3",
   "metadata": {},
   "outputs": [
    {
     "name": "stdout",
     "output_type": "stream",
     "text": [
      "Fitting 10 folds for each of 72 candidates, totalling 720 fits\n"
     ]
    },
    {
     "data": {
      "text/plain": [
       "0.816940961337513"
      ]
     },
     "execution_count": 167,
     "metadata": {},
     "output_type": "execute_result"
    }
   ],
   "source": [
    "# Gradient boosting tunning\n",
    "\n",
    "GBC = GradientBoostingClassifier()\n",
    "gb_param_grid = {'loss' : [\"deviance\"],\n",
    "              'n_estimators' : [100,200,300],\n",
    "              'learning_rate': [0.1, 0.05, 0.01],\n",
    "              'max_depth': [4, 8],\n",
    "              'min_samples_leaf': [100,150],\n",
    "              'max_features': [0.3, 0.1] \n",
    "              }\n",
    "\n",
    "gsGBC = GridSearchCV(GBC,param_grid = gb_param_grid, cv=kfold, scoring=\"accuracy\", n_jobs= 4, verbose = 1)\n",
    "\n",
    "gsGBC.fit(X_train,Y_train)\n",
    "\n",
    "GBC_best = gsGBC.best_estimator_\n",
    "\n",
    "# Best score\n",
    "gsGBC.best_score_"
   ]
  },
  {
   "cell_type": "code",
   "execution_count": 168,
   "id": "2640272e",
   "metadata": {},
   "outputs": [
    {
     "name": "stdout",
     "output_type": "stream",
     "text": [
      "Fitting 10 folds for each of 28 candidates, totalling 280 fits\n"
     ]
    },
    {
     "data": {
      "text/plain": [
       "0.8306687565308255"
      ]
     },
     "execution_count": 168,
     "metadata": {},
     "output_type": "execute_result"
    }
   ],
   "source": [
    "### SVC classifier\n",
    "SVMC = SVC(probability=True)\n",
    "svc_param_grid = {'kernel': ['rbf'], \n",
    "                  'gamma': [ 0.001, 0.01, 0.1, 1],\n",
    "                  'C': [1, 10, 50, 100,200,300, 1000]}\n",
    "\n",
    "gsSVMC = GridSearchCV(SVMC,param_grid = svc_param_grid, cv=kfold, scoring=\"accuracy\", n_jobs= 4, verbose = 1)\n",
    "\n",
    "gsSVMC.fit(X_train,Y_train)\n",
    "\n",
    "SVMC_best = gsSVMC.best_estimator_\n",
    "\n",
    "# Best score\n",
    "gsSVMC.best_score_"
   ]
  },
  {
   "cell_type": "code",
   "execution_count": 169,
   "id": "d7306abb",
   "metadata": {},
   "outputs": [],
   "source": [
    "from sklearn.ensemble import VotingClassifier\n",
    "votingC = VotingClassifier(estimators=[('rfc', RFC_best), ('extc', ExtC_best),\n",
    "('svc', SVMC_best), ('adac',ada_best),('gbc',GBC_best)], voting='soft', n_jobs=4)\n",
    "\n",
    "votingC = votingC.fit(X_train, Y_train)\n",
    "\n"
   ]
  },
  {
   "cell_type": "code",
   "execution_count": 170,
   "id": "7b9b45ab",
   "metadata": {},
   "outputs": [],
   "source": [
    "voting_pred = votingC.predict(X_test)"
   ]
  },
  {
   "cell_type": "code",
   "execution_count": 171,
   "id": "b6a66fbf",
   "metadata": {
    "scrolled": false
   },
   "outputs": [
    {
     "data": {
      "text/plain": [
       "0.8501144164759725"
      ]
     },
     "execution_count": 171,
     "metadata": {},
     "output_type": "execute_result"
    }
   ],
   "source": [
    "votingC.score(X_train,Y_train) # 0.8466819221967964 for soft voiting \n"
   ]
  },
  {
   "cell_type": "code",
   "execution_count": 172,
   "id": "4f614e3c",
   "metadata": {},
   "outputs": [
    {
     "data": {
      "text/plain": [
       "0.824960815047022"
      ]
     },
     "execution_count": 172,
     "metadata": {},
     "output_type": "execute_result"
    }
   ],
   "source": [
    "# Mean cross validation score\n",
    "\n",
    "cross_val_score(votingC, X_train, Y_train, scoring = 'accuracy', cv = 10).mean()"
   ]
  },
  {
   "cell_type": "markdown",
   "id": "a2dc0a30",
   "metadata": {},
   "source": [
    "# 6. Preparing data for submission\n"
   ]
  },
  {
   "cell_type": "code",
   "execution_count": 173,
   "id": "8a0ad2f5",
   "metadata": {},
   "outputs": [
    {
     "data": {
      "text/html": [
       "<div>\n",
       "<style scoped>\n",
       "    .dataframe tbody tr th:only-of-type {\n",
       "        vertical-align: middle;\n",
       "    }\n",
       "\n",
       "    .dataframe tbody tr th {\n",
       "        vertical-align: top;\n",
       "    }\n",
       "\n",
       "    .dataframe thead th {\n",
       "        text-align: right;\n",
       "    }\n",
       "</style>\n",
       "<table border=\"1\" class=\"dataframe\">\n",
       "  <thead>\n",
       "    <tr style=\"text-align: right;\">\n",
       "      <th></th>\n",
       "      <th>PassengerId</th>\n",
       "      <th>Survived</th>\n",
       "    </tr>\n",
       "  </thead>\n",
       "  <tbody>\n",
       "    <tr>\n",
       "      <th>0</th>\n",
       "      <td>892</td>\n",
       "      <td>0</td>\n",
       "    </tr>\n",
       "    <tr>\n",
       "      <th>1</th>\n",
       "      <td>893</td>\n",
       "      <td>1</td>\n",
       "    </tr>\n",
       "    <tr>\n",
       "      <th>2</th>\n",
       "      <td>894</td>\n",
       "      <td>0</td>\n",
       "    </tr>\n",
       "    <tr>\n",
       "      <th>3</th>\n",
       "      <td>895</td>\n",
       "      <td>0</td>\n",
       "    </tr>\n",
       "    <tr>\n",
       "      <th>4</th>\n",
       "      <td>896</td>\n",
       "      <td>1</td>\n",
       "    </tr>\n",
       "  </tbody>\n",
       "</table>\n",
       "</div>"
      ],
      "text/plain": [
       "   PassengerId  Survived\n",
       "0          892         0\n",
       "1          893         1\n",
       "2          894         0\n",
       "3          895         0\n",
       "4          896         1"
      ]
     },
     "execution_count": 173,
     "metadata": {},
     "output_type": "execute_result"
    }
   ],
   "source": [
    "submit_f.head()\n"
   ]
  },
  {
   "cell_type": "code",
   "execution_count": 174,
   "id": "6f487e74",
   "metadata": {},
   "outputs": [
    {
     "data": {
      "text/plain": [
       "(418, 2)"
      ]
     },
     "execution_count": 174,
     "metadata": {},
     "output_type": "execute_result"
    }
   ],
   "source": [
    "submit_f.shape\n"
   ]
  },
  {
   "cell_type": "code",
   "execution_count": 175,
   "id": "60bbcce0",
   "metadata": {
    "scrolled": false
   },
   "outputs": [
    {
     "data": {
      "text/html": [
       "<div>\n",
       "<style scoped>\n",
       "    .dataframe tbody tr th:only-of-type {\n",
       "        vertical-align: middle;\n",
       "    }\n",
       "\n",
       "    .dataframe tbody tr th {\n",
       "        vertical-align: top;\n",
       "    }\n",
       "\n",
       "    .dataframe thead th {\n",
       "        text-align: right;\n",
       "    }\n",
       "</style>\n",
       "<table border=\"1\" class=\"dataframe\">\n",
       "  <thead>\n",
       "    <tr style=\"text-align: right;\">\n",
       "      <th></th>\n",
       "      <th>PassengerId</th>\n",
       "      <th>Survived</th>\n",
       "    </tr>\n",
       "  </thead>\n",
       "  <tbody>\n",
       "    <tr>\n",
       "      <th>874</th>\n",
       "      <td>892</td>\n",
       "      <td>0</td>\n",
       "    </tr>\n",
       "    <tr>\n",
       "      <th>875</th>\n",
       "      <td>893</td>\n",
       "      <td>0</td>\n",
       "    </tr>\n",
       "    <tr>\n",
       "      <th>876</th>\n",
       "      <td>894</td>\n",
       "      <td>0</td>\n",
       "    </tr>\n",
       "    <tr>\n",
       "      <th>877</th>\n",
       "      <td>895</td>\n",
       "      <td>0</td>\n",
       "    </tr>\n",
       "    <tr>\n",
       "      <th>878</th>\n",
       "      <td>896</td>\n",
       "      <td>1</td>\n",
       "    </tr>\n",
       "  </tbody>\n",
       "</table>\n",
       "</div>"
      ],
      "text/plain": [
       "     PassengerId  Survived\n",
       "874          892         0\n",
       "875          893         0\n",
       "876          894         0\n",
       "877          895         0\n",
       "878          896         1"
      ]
     },
     "execution_count": 175,
     "metadata": {},
     "output_type": "execute_result"
    }
   ],
   "source": [
    "# Create submission dataframe\n",
    "\n",
    "submit = pd.DataFrame({'PassengerId': test['PassengerId'], 'Survived': voting_pred})\n",
    "submit.head()"
   ]
  },
  {
   "cell_type": "code",
   "execution_count": 176,
   "id": "6193515a",
   "metadata": {},
   "outputs": [],
   "source": [
    "# to know the current folder you are in \n",
    "import os\n",
    "cwd = os.getcwd()\n"
   ]
  },
  {
   "cell_type": "code",
   "execution_count": 177,
   "id": "85300955",
   "metadata": {},
   "outputs": [
    {
     "data": {
      "text/plain": [
       "'/Users/macintoshhd/Desktop/CV/Machine & Deep Learning/Titanic'"
      ]
     },
     "execution_count": 177,
     "metadata": {},
     "output_type": "execute_result"
    }
   ],
   "source": [
    "cwd"
   ]
  },
  {
   "cell_type": "code",
   "execution_count": 178,
   "id": "6d7f1795",
   "metadata": {},
   "outputs": [],
   "source": [
    "# Create and save csv file \n",
    "\n",
    "submit.to_csv(\"/Users/macintoshhd/Desktop/CV/Machine & Deep Learning/Titanic/voting_titanic.csv\", index = False)"
   ]
  }
 ],
 "metadata": {
  "kernelspec": {
   "display_name": "Python 3",
   "language": "python",
   "name": "python3"
  },
  "language_info": {
   "codemirror_mode": {
    "name": "ipython",
    "version": 3
   },
   "file_extension": ".py",
   "mimetype": "text/x-python",
   "name": "python",
   "nbconvert_exporter": "python",
   "pygments_lexer": "ipython3",
   "version": "3.8.8"
  },
  "varInspector": {
   "cols": {
    "lenName": 16,
    "lenType": 16,
    "lenVar": 40
   },
   "kernels_config": {
    "python": {
     "delete_cmd_postfix": "",
     "delete_cmd_prefix": "del ",
     "library": "var_list.py",
     "varRefreshCmd": "print(var_dic_list())"
    },
    "r": {
     "delete_cmd_postfix": ") ",
     "delete_cmd_prefix": "rm(",
     "library": "var_list.r",
     "varRefreshCmd": "cat(var_dic_list()) "
    }
   },
   "types_to_exclude": [
    "module",
    "function",
    "builtin_function_or_method",
    "instance",
    "_Feature"
   ],
   "window_display": false
  }
 },
 "nbformat": 4,
 "nbformat_minor": 5
}
