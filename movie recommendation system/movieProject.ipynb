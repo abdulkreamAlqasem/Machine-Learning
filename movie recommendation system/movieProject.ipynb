{
 "cells": [
  {
   "cell_type": "code",
   "execution_count": 6,
   "id": "e8be5906",
   "metadata": {},
   "outputs": [],
   "source": [
    "import pandas as pd\n",
    "from surprise import Dataset\n",
    "from surprise import Reader\n",
    "from surprise import SVD\n",
    "from surprise.model_selection import cross_validate\n",
    "from collections import defaultdict\n",
    "\n",
    "\n",
    "# we load the first part of the dataset whice contain four column [\"userId\",\"movieId\",\"rating\",\"timestamp\"]\n",
    "# row : 100836, col : 4 \n",
    "rating_data_set=pd.read_csv(\"ratings.csv\")\n"
   ]
  },
  {
   "cell_type": "code",
   "execution_count": 7,
   "id": "97db2ba4",
   "metadata": {},
   "outputs": [],
   "source": [
    "# we load the second part of the dataset whice contain four column [\"movieId\",\"title\",\"genres\"]\n",
    "# row : 9742, col : 3\n",
    "movie_data_set=pd.read_csv(\"movies.csv\")\n"
   ]
  },
  {
   "cell_type": "code",
   "execution_count": 8,
   "id": "ece91c20",
   "metadata": {
    "scrolled": true
   },
   "outputs": [],
   "source": [
    "#then we merge betwwen them in movieId column to get final dataset\n",
    "# row : 100836, col : 6\n",
    "final_dataset_org=pd.merge(rating_data_set,movie_data_set,on=\"movieId\")"
   ]
  },
  {
   "cell_type": "code",
   "execution_count": 9,
   "id": "c6d711ed",
   "metadata": {},
   "outputs": [
    {
     "name": "stdout",
     "output_type": "stream",
     "text": [
      "<class 'pandas.core.frame.DataFrame'>\n",
      "Int64Index: 100836 entries, 0 to 100835\n",
      "Data columns (total 6 columns):\n",
      " #   Column     Non-Null Count   Dtype  \n",
      "---  ------     --------------   -----  \n",
      " 0   userId     100836 non-null  int64  \n",
      " 1   movieId    100836 non-null  int64  \n",
      " 2   rating     100836 non-null  float64\n",
      " 3   timestamp  100836 non-null  int64  \n",
      " 4   title      100836 non-null  object \n",
      " 5   genres     100836 non-null  object \n",
      "dtypes: float64(1), int64(3), object(2)\n",
      "memory usage: 5.4+ MB\n"
     ]
    }
   ],
   "source": [
    "# we see here thre are no missing data in dataset \n",
    "final_dataset_org.info()"
   ]
  },
  {
   "cell_type": "code",
   "execution_count": 10,
   "id": "39486249",
   "metadata": {
    "scrolled": true
   },
   "outputs": [
    {
     "data": {
      "text/plain": [
       "100831    610\n",
       "100832    610\n",
       "100833    610\n",
       "100834    610\n",
       "100835    610\n",
       "Name: userId, dtype: int64"
      ]
     },
     "execution_count": 10,
     "metadata": {},
     "output_type": "execute_result"
    }
   ],
   "source": [
    "# here i will no how many user id in my data so when do recommendation we ask \n",
    "#the costumer to enter the number of id of user to get recommendation of that user \n",
    "final_dataset_org[\"userId\"].tail()"
   ]
  },
  {
   "cell_type": "code",
   "execution_count": 11,
   "id": "89939fbd",
   "metadata": {},
   "outputs": [
    {
     "data": {
      "text/plain": [
       "(100836, 4)"
      ]
     },
     "execution_count": 11,
     "metadata": {},
     "output_type": "execute_result"
    }
   ],
   "source": [
    "rating_data_set.shape"
   ]
  },
  {
   "cell_type": "code",
   "execution_count": 12,
   "id": "e7505700",
   "metadata": {},
   "outputs": [],
   "source": [
    "#we will use Surprise lib for recommender systems he provide \n",
    "# so the dataset must procese to get inside this lib\n",
    "reader = Reader(rating_scale=(1, 5))\n",
    "\n",
    "#we drop [\"timestamp\",\"title\",\"genres\"] becouse the lib only git It must have three columns,\n",
    "#corresponding to the (raw) user ids, the item ids, and the ratings, in this order.\n",
    "final_dataset_norg=final_dataset_org.drop([\"timestamp\",\"title\",\"genres\"],axis=1)\n",
    "\n",
    "data_set = Dataset.load_from_df(final_dataset_norg, reader)\n"
   ]
  },
  {
   "cell_type": "code",
   "execution_count": 13,
   "id": "db8b20f0",
   "metadata": {
    "scrolled": false
   },
   "outputs": [],
   "source": [
    "# we choose SVD in surprise it give small rmse \n",
    "svd = SVD(n_epochs=14,lr_all=0.002,reg_all=0.1,n_factors=5)\n",
    "\n"
   ]
  },
  {
   "cell_type": "code",
   "execution_count": 14,
   "id": "6bedda12",
   "metadata": {},
   "outputs": [
    {
     "data": {
      "text/plain": [
       "{'test_rmse': array([0.88560129, 0.88833111, 0.8861241 , 0.89565596, 0.88616882]),\n",
       " 'test_mae': array([0.68384459, 0.68934474, 0.68304561, 0.69086042, 0.68491081]),\n",
       " 'fit_time': (1.4789798259735107,\n",
       "  1.4854631423950195,\n",
       "  1.3521897792816162,\n",
       "  1.2402839660644531,\n",
       "  1.507220983505249),\n",
       " 'test_time': (0.16042208671569824,\n",
       "  0.2620048522949219,\n",
       "  0.19508886337280273,\n",
       "  0.14255213737487793,\n",
       "  0.31708693504333496)}"
      ]
     },
     "execution_count": 14,
     "metadata": {},
     "output_type": "execute_result"
    }
   ],
   "source": [
    "train_set = data_set.build_full_trainset()\n",
    "svd_fit=svd.fit(train_set)\n",
    "\n",
    "testset = train_set.build_testset()\n",
    "predictions = svd.test(testset)\n",
    "\n",
    "cross_validate(svd, data_set, measures=['RMSE', 'MAE'],cv=5)\n"
   ]
  },
  {
   "cell_type": "code",
   "execution_count": 15,
   "id": "450069b8",
   "metadata": {
    "scrolled": false
   },
   "outputs": [],
   "source": [
    "links_data_set=pd.read_csv(\"links.csv\")\n",
    "\n",
    "final_dataset_for_link=pd.merge(final_dataset_org,links_data_set,on=\"movieId\")\n",
    "final_dataset_for_link=final_dataset_for_link.drop([\"userId\",\"rating\",\"timestamp\",\"imdbId\"],axis=1)\n",
    "\n",
    "final_dataset_org=final_dataset_org.drop(\"timestamp\",axis=1)\n",
    "\n",
    "\n"
   ]
  },
  {
   "cell_type": "code",
   "execution_count": 16,
   "id": "8a6728af",
   "metadata": {},
   "outputs": [],
   "source": [
    "import pickle \n",
    "data= {\"model\":svd,\"final_data_org\":final_dataset_org,\n",
    "       \"final_data_norg\":final_dataset_norg,\"predictions\":predictions,\n",
    "       \"final_dataset_for_link\":final_dataset_for_link}\n",
    "with open(\"saved_steps.pkl\",\"wb\") as file:\n",
    "    pickle.dump(data,file)\n"
   ]
  }
 ],
 "metadata": {
  "kernelspec": {
   "display_name": "finelProjectMovie",
   "language": "python",
   "name": "finelprojectmovie"
  },
  "language_info": {
   "codemirror_mode": {
    "name": "ipython",
    "version": 3
   },
   "file_extension": ".py",
   "mimetype": "text/x-python",
   "name": "python",
   "nbconvert_exporter": "python",
   "pygments_lexer": "ipython3",
   "version": "3.9.7"
  },
  "varInspector": {
   "cols": {
    "lenName": 16,
    "lenType": 16,
    "lenVar": 40
   },
   "kernels_config": {
    "python": {
     "delete_cmd_postfix": "",
     "delete_cmd_prefix": "del ",
     "library": "var_list.py",
     "varRefreshCmd": "print(var_dic_list())"
    },
    "r": {
     "delete_cmd_postfix": ") ",
     "delete_cmd_prefix": "rm(",
     "library": "var_list.r",
     "varRefreshCmd": "cat(var_dic_list()) "
    }
   },
   "types_to_exclude": [
    "module",
    "function",
    "builtin_function_or_method",
    "instance",
    "_Feature"
   ],
   "window_display": false
  }
 },
 "nbformat": 4,
 "nbformat_minor": 5
}
