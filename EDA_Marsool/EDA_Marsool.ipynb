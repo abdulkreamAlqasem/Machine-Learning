{
 "cells": [
  {
   "cell_type": "markdown",
   "id": "1e027734",
   "metadata": {},
   "source": [
    "# 1. Import lib"
   ]
  },
  {
   "cell_type": "code",
   "execution_count": 1,
   "id": "5be8d254",
   "metadata": {},
   "outputs": [],
   "source": [
    "import pandas as pd \n",
    "import seaborn as sns \n",
    "import matplotlib.pyplot as plt \n",
    "import numpy as np \n",
    "\n",
    "# to desplay arabic char in gragh without any problem \n",
    "import arabic_reshaper\n",
    "from bidi.algorithm import get_display\n",
    "\n",
    "# Remove warnings\n",
    "import warnings\n",
    "warnings.filterwarnings('ignore')"
   ]
  },
  {
   "cell_type": "markdown",
   "id": "462aa1ba",
   "metadata": {},
   "source": [
    "# 2. Read data"
   ]
  },
  {
   "cell_type": "code",
   "execution_count": 2,
   "id": "36375e9c",
   "metadata": {},
   "outputs": [],
   "source": [
    "data = pd.read_csv(\"train.csv\")"
   ]
  },
  {
   "cell_type": "code",
   "execution_count": 3,
   "id": "c93d23aa",
   "metadata": {
    "scrolled": false
   },
   "outputs": [
    {
     "name": "stdout",
     "output_type": "stream",
     "text": [
      "<class 'pandas.core.frame.DataFrame'>\n",
      "RangeIndex: 79975 entries, 0 to 79974\n",
      "Data columns (total 33 columns):\n",
      " #   Column                     Non-Null Count  Dtype  \n",
      "---  ------                     --------------  -----  \n",
      " 0   creation_datetime          79975 non-null  object \n",
      " 1   updated_at                 79975 non-null  object \n",
      " 2   age_less_than              79975 non-null  int64  \n",
      " 3   num_apartments             79975 non-null  int64  \n",
      " 4   num_bedrooms               79975 non-null  int64  \n",
      " 5   floor_num                  79975 non-null  int64  \n",
      " 6   num_kitchens               79975 non-null  int64  \n",
      " 7   closed                     79975 non-null  object \n",
      " 8   commercial_or_residential  79975 non-null  object \n",
      " 9   property_type              79975 non-null  object \n",
      " 10  driver_room                79975 non-null  object \n",
      " 11  duplex                     79975 non-null  object \n",
      " 12  family_or_single           79975 non-null  object \n",
      " 13  furnished                  79975 non-null  object \n",
      " 14  num_living_rooms           79975 non-null  int64  \n",
      " 15  maid_room                  79975 non-null  object \n",
      " 16  price_per_meter            79975 non-null  int64  \n",
      " 17  advertiser_type            79975 non-null  object \n",
      " 18  pool                       79975 non-null  object \n",
      " 19  paid                       79975 non-null  object \n",
      " 20  price                      79975 non-null  int64  \n",
      " 21  rent_period                79975 non-null  object \n",
      " 22  num_rooms                  79975 non-null  int64  \n",
      " 23  area                       79975 non-null  int64  \n",
      " 24  street_direction           79975 non-null  object \n",
      " 25  street_width               79975 non-null  int64  \n",
      " 26  for_rent_or_sale           79975 non-null  object \n",
      " 27  num_water_cycles           79975 non-null  int64  \n",
      " 28  Latitude                   79975 non-null  float64\n",
      " 29  Longitude                  79975 non-null  float64\n",
      " 30  region_name_en             79975 non-null  object \n",
      " 31  nearest_city_name_en       79968 non-null  object \n",
      " 32  district_name_en           77614 non-null  object \n",
      "dtypes: float64(2), int64(12), object(19)\n",
      "memory usage: 20.1+ MB\n"
     ]
    }
   ],
   "source": [
    "data.info()"
   ]
  },
  {
   "cell_type": "markdown",
   "id": "2d31b188",
   "metadata": {},
   "source": [
    "# 3. Question to make EDA"
   ]
  },
  {
   "cell_type": "markdown",
   "id": "0e001b02",
   "metadata": {},
   "source": [
    "## 3.1  Most of the real estate directed to whom?"
   ]
  },
  {
   "cell_type": "code",
   "execution_count": 4,
   "id": "073ccaec",
   "metadata": {
    "scrolled": true
   },
   "outputs": [
    {
     "data": {
      "text/plain": [
       "عزاب      63394\n",
       "عوائل     16578\n",
       "#NAME?        3\n",
       "Name: family_or_single, dtype: int64"
      ]
     },
     "execution_count": 4,
     "metadata": {},
     "output_type": "execute_result"
    }
   ],
   "source": [
    "data[\"family_or_single\"].value_counts()"
   ]
  },
  {
   "cell_type": "markdown",
   "id": "55f114eb",
   "metadata": {},
   "source": [
    "as we see above are problem so we will ignore it right now to make graph without confused value "
   ]
  },
  {
   "cell_type": "code",
   "execution_count": 5,
   "id": "c7c3500d",
   "metadata": {},
   "outputs": [],
   "source": [
    "family_or_single = data[data[\"family_or_single\"] != \"#NAME?\" ]"
   ]
  },
  {
   "cell_type": "code",
   "execution_count": 6,
   "id": "c4009734",
   "metadata": {},
   "outputs": [
    {
     "data": {
      "text/plain": [
       "عزاب     63394\n",
       "عوائل    16578\n",
       "Name: family_or_single, dtype: int64"
      ]
     },
     "execution_count": 6,
     "metadata": {},
     "output_type": "execute_result"
    }
   ],
   "source": [
    "family_or_single[\"family_or_single\"].value_counts()"
   ]
  },
  {
   "cell_type": "code",
   "execution_count": 7,
   "id": "1dc37eed",
   "metadata": {},
   "outputs": [],
   "source": [
    "family_or_single[\"family_or_single\"] = family_or_single[\"family_or_single\"].replace(\"عزاب\", get_display(arabic_reshaper.reshape(\"عزاب\")))\n",
    "family_or_single[\"family_or_single\"] = family_or_single[\"family_or_single\"].replace(\"عوائل\", get_display(arabic_reshaper.reshape(\"عوائل\")))\n"
   ]
  },
  {
   "cell_type": "code",
   "execution_count": 8,
   "id": "109c27c6",
   "metadata": {
    "scrolled": true
   },
   "outputs": [
    {
     "data": {
      "image/png": "[encoded data removed]",
      "text/plain": [
       "<Figure size 432x288 with 1 Axes>"
      ]
     },
     "metadata": {
      "needs_background": "light"
     },
     "output_type": "display_data"
    }
   ],
   "source": [
    "family_or_single[\"family_or_single\"].value_counts().plot(kind=\"barh\")\n",
    "plt.savefig('family_or_single.png', dpi=300, bbox_inches='tight')"
   ]
  },
  {
   "cell_type": "markdown",
   "id": "e3f47484",
   "metadata": {},
   "source": [
    "## 3.2 Does most of the real estate have maid rooms?"
   ]
  },
  {
   "cell_type": "code",
   "execution_count": 9,
   "id": "bd20173a",
   "metadata": {},
   "outputs": [
    {
     "data": {
      "text/plain": [
       "لا يوجد غرفة خادمة    43998\n",
       "غرفة خادمة            19104\n",
       "Name: maid_room, dtype: int64"
      ]
     },
     "execution_count": 9,
     "metadata": {},
     "output_type": "execute_result"
    }
   ],
   "source": [
    "data[data[\"property_type\"] != \"أرض\"][\"maid_room\"].value_counts()"
   ]
  },
  {
   "cell_type": "markdown",
   "id": "47fb5744",
   "metadata": {},
   "source": [
    "i ignore (أرض) becuase i know you can not determine that land has maid room or not before you build the real estate "
   ]
  },
  {
   "cell_type": "code",
   "execution_count": 10,
   "id": "9bcf9764",
   "metadata": {},
   "outputs": [],
   "source": [
    "data[\"maid_room\"] = data[\"maid_room\"].replace(\"لا يوجد غرفة خادمة\", get_display(arabic_reshaper.reshape(\"لا يوجد غرفة خادمة\")))\n",
    "data[\"maid_room\"] = data[\"maid_room\"].replace(\"غرفة خادمة\", get_display(arabic_reshaper.reshape(\"غرفة خادمة\")))"
   ]
  },
  {
   "cell_type": "code",
   "execution_count": 11,
   "id": "589b8f7a",
   "metadata": {},
   "outputs": [
    {
     "data": {
      "text/plain": [
       "<AxesSubplot:>"
      ]
     },
     "execution_count": 11,
     "metadata": {},
     "output_type": "execute_result"
    },
    {
     "data": {
      "image/png": "[encoded data removed]",
      "text/plain": [
       "<Figure size 432x288 with 1 Axes>"
      ]
     },
     "metadata": {
      "needs_background": "light"
     },
     "output_type": "display_data"
    }
   ],
   "source": [
    "data[data[\"property_type\"] != \"أرض\"][\"maid_room\"].value_counts().plot(kind=\"barh\")\n",
    "#plt.savefig('maid_room.png', dpi=300,bbox_inches='tight')"
   ]
  },
  {
   "cell_type": "markdown",
   "id": "b40695ea",
   "metadata": {},
   "source": [
    "## 3.3 Do most of the real estate have swimming pools?"
   ]
  },
  {
   "cell_type": "code",
   "execution_count": 12,
   "id": "183091c3",
   "metadata": {},
   "outputs": [],
   "source": [
    "data[\"pool\"] = data[\"pool\"].replace(\"لا يوجد مسبح\", get_display(arabic_reshaper.reshape(\"لا يوجد مسبح\")))\n",
    "data[\"pool\"] = data[\"pool\"].replace(\"مسبح\", get_display(arabic_reshaper.reshape(\"مسبح\")))\n"
   ]
  },
  {
   "cell_type": "code",
   "execution_count": 13,
   "id": "164d7431",
   "metadata": {
    "scrolled": true
   },
   "outputs": [
    {
     "data": {
      "text/plain": [
       "<AxesSubplot:>"
      ]
     },
     "execution_count": 13,
     "metadata": {},
     "output_type": "execute_result"
    },
    {
     "data": {
      "image/png": "[encoded data removed]",
      "text/plain": [
       "<Figure size 432x288 with 1 Axes>"
      ]
     },
     "metadata": {
      "needs_background": "light"
     },
     "output_type": "display_data"
    }
   ],
   "source": [
    "property_type_list = [\"مكتب تجاري\",\"غرفة\",\"مستودع\",\"محل\",\"مخيم\"]\n",
    "data[~data[\"property_type\"].isin(property_type_list)][\"pool\"].value_counts().plot(kind=\"barh\")\n",
    "#plt.savefig('pool.png', dpi=300,bbox_inches='tight')"
   ]
  },
  {
   "cell_type": "markdown",
   "id": "5073ca58",
   "metadata": {},
   "source": [
    "## 3.4 Most of the real estate is offered by whom?"
   ]
  },
  {
   "cell_type": "code",
   "execution_count": 14,
   "id": "9261f9f1",
   "metadata": {},
   "outputs": [
    {
     "data": {
      "text/plain": [
       "مسوق    62787\n",
       "مالك    17188\n",
       "Name: advertiser_type, dtype: int64"
      ]
     },
     "execution_count": 14,
     "metadata": {},
     "output_type": "execute_result"
    }
   ],
   "source": [
    "data[\"advertiser_type\"].value_counts()"
   ]
  },
  {
   "cell_type": "code",
   "execution_count": 15,
   "id": "cafa242d",
   "metadata": {},
   "outputs": [],
   "source": [
    "data[\"advertiser_type\"] = data[\"advertiser_type\"].replace(\"مسوق\", get_display(arabic_reshaper.reshape(\"مسوق\")))\n",
    "data[\"advertiser_type\"] = data[\"advertiser_type\"].replace(\"مالك\", get_display(arabic_reshaper.reshape(\"مالك\")))"
   ]
  },
  {
   "cell_type": "code",
   "execution_count": 16,
   "id": "5f73475f",
   "metadata": {
    "scrolled": false
   },
   "outputs": [
    {
     "data": {
      "text/plain": [
       "<AxesSubplot:>"
      ]
     },
     "execution_count": 16,
     "metadata": {},
     "output_type": "execute_result"
    },
    {
     "data": {
      "image/png": "[encoded data removed]",
      "text/plain": [
       "<Figure size 432x288 with 1 Axes>"
      ]
     },
     "metadata": {
      "needs_background": "light"
     },
     "output_type": "display_data"
    }
   ],
   "source": [
    "data[\"advertiser_type\"].value_counts().plot(kind=\"barh\")\n",
    "#plt.savefig('advertiser_type.png', dpi=300,bbox_inches='tight')"
   ]
  },
  {
   "cell_type": "markdown",
   "id": "eca0f1be",
   "metadata": {},
   "source": [
    "## 3.5 How much is real estate offered per rental period?"
   ]
  },
  {
   "cell_type": "code",
   "execution_count": 17,
   "id": "16e71f83",
   "metadata": {
    "scrolled": false
   },
   "outputs": [
    {
     "data": {
      "text/plain": [
       "غير محدد    56226\n",
       "سنوي        19505\n",
       "يومي         3113\n",
       "شهري         1098\n",
       "5              16\n",
       "4              14\n",
       "6               3\n",
       "Name: rent_period, dtype: int64"
      ]
     },
     "execution_count": 17,
     "metadata": {},
     "output_type": "execute_result"
    }
   ],
   "source": [
    "data[\"rent_period\"].value_counts()"
   ]
  },
  {
   "cell_type": "markdown",
   "id": "57dc56fe",
   "metadata": {},
   "source": [
    "we see problem above so we ignore it in the graph "
   ]
  },
  {
   "cell_type": "code",
   "execution_count": 18,
   "id": "c31f41d1",
   "metadata": {},
   "outputs": [],
   "source": [
    "rent_period_list = [\"شهري\",\"يومي\",\"سنوي\",\"غير محدد\"]\n",
    "rent_period_data= data[data[\"rent_period\"].isin(rent_period_list) ]"
   ]
  },
  {
   "cell_type": "code",
   "execution_count": 19,
   "id": "821d74a2",
   "metadata": {},
   "outputs": [
    {
     "data": {
      "text/plain": [
       "غير محدد    56226\n",
       "سنوي        19505\n",
       "يومي         3113\n",
       "شهري         1098\n",
       "Name: rent_period, dtype: int64"
      ]
     },
     "execution_count": 19,
     "metadata": {},
     "output_type": "execute_result"
    }
   ],
   "source": [
    "rent_period_data[\"rent_period\"].value_counts()"
   ]
  },
  {
   "cell_type": "code",
   "execution_count": 20,
   "id": "90eab751",
   "metadata": {},
   "outputs": [],
   "source": [
    "rent_period_data[\"rent_period\"] = rent_period_data[\"rent_period\"].replace(\"غير محدد\", get_display(arabic_reshaper.reshape(\"غير محدد\")))\n",
    "rent_period_data[\"rent_period\"] = rent_period_data[\"rent_period\"].replace(\"سنوي\", get_display(arabic_reshaper.reshape(\"سنوي\")))\n",
    "rent_period_data[\"rent_period\"] = rent_period_data[\"rent_period\"].replace(\"يومي\", get_display(arabic_reshaper.reshape(\"يومي\")))\n",
    "rent_period_data[\"rent_period\"] = rent_period_data[\"rent_period\"].replace(\"شهري\", get_display(arabic_reshaper.reshape(\"شهري\")))\n",
    "\n"
   ]
  },
  {
   "cell_type": "code",
   "execution_count": 21,
   "id": "27bb58ac",
   "metadata": {},
   "outputs": [
    {
     "data": {
      "text/plain": [
       "<AxesSubplot:>"
      ]
     },
     "execution_count": 21,
     "metadata": {},
     "output_type": "execute_result"
    },
    {
     "data": {
      "image/png": "[encoded data removed]",
      "text/plain": [
       "<Figure size 432x288 with 1 Axes>"
      ]
     },
     "metadata": {
      "needs_background": "light"
     },
     "output_type": "display_data"
    }
   ],
   "source": [
    "rent_period_data[\"rent_period\"].value_counts().plot(kind=\"barh\")\n",
    "#plt.savefig('rent_period.png', dpi=300,bbox_inches='tight')"
   ]
  },
  {
   "cell_type": "markdown",
   "id": "045c7dbd",
   "metadata": {},
   "source": [
    "## 3.6 How many real estate have been closed for each rental period ?"
   ]
  },
  {
   "cell_type": "code",
   "execution_count": 22,
   "id": "6d2367ed",
   "metadata": {},
   "outputs": [],
   "source": [
    "data_Close = data[data[\"closed\"] == \"مغلق\"]"
   ]
  },
  {
   "cell_type": "code",
   "execution_count": 23,
   "id": "c910c52e",
   "metadata": {},
   "outputs": [
    {
     "data": {
      "text/plain": [
       "غير محدد    39144\n",
       "سنوي        16673\n",
       "يومي         2677\n",
       "شهري          872\n",
       "5              16\n",
       "4              14\n",
       "6               3\n",
       "Name: rent_period, dtype: int64"
      ]
     },
     "execution_count": 23,
     "metadata": {},
     "output_type": "execute_result"
    }
   ],
   "source": [
    "data_Close[\"rent_period\"].value_counts()"
   ]
  },
  {
   "cell_type": "code",
   "execution_count": 24,
   "id": "6c22faed",
   "metadata": {},
   "outputs": [],
   "source": [
    "rent_period_list = [\"شهري\",\"يومي\",\"سنوي\",\"غير محدد\"]\n",
    "rent_period_data= data_Close[data_Close[\"rent_period\"].isin(rent_period_list) ]"
   ]
  },
  {
   "cell_type": "code",
   "execution_count": 25,
   "id": "7d28dba9",
   "metadata": {},
   "outputs": [],
   "source": [
    "rent_period_data[\"rent_period\"] = rent_period_data[\"rent_period\"].replace(\"غير محدد\", get_display(arabic_reshaper.reshape(\"غير محدد\")))\n",
    "rent_period_data[\"rent_period\"] = rent_period_data[\"rent_period\"].replace(\"سنوي\", get_display(arabic_reshaper.reshape(\"سنوي\")))\n",
    "rent_period_data[\"rent_period\"] = rent_period_data[\"rent_period\"].replace(\"يومي\", get_display(arabic_reshaper.reshape(\"يومي\")))\n",
    "rent_period_data[\"rent_period\"] = rent_period_data[\"rent_period\"].replace(\"شهري\", get_display(arabic_reshaper.reshape(\"شهري\")))\n",
    "\n"
   ]
  },
  {
   "cell_type": "code",
   "execution_count": 26,
   "id": "d6d4c72e",
   "metadata": {},
   "outputs": [
    {
     "data": {
      "text/plain": [
       "<AxesSubplot:>"
      ]
     },
     "execution_count": 26,
     "metadata": {},
     "output_type": "execute_result"
    },
    {
     "data": {
      "image/png": "[encoded data removed]",
      "text/plain": [
       "<Figure size 432x288 with 1 Axes>"
      ]
     },
     "metadata": {
      "needs_background": "light"
     },
     "output_type": "display_data"
    }
   ],
   "source": [
    "rent_period_data[\"rent_period\"].value_counts().plot(kind=\"barh\")\n",
    "#plt.savefig('rent_period_close.png', dpi=300,bbox_inches='tight')"
   ]
  },
  {
   "cell_type": "code",
   "execution_count": 27,
   "id": "66be7b20",
   "metadata": {},
   "outputs": [],
   "source": [
    "data =pd.read_csv(\"train.csv\")\n",
    "data_Close = data[data[\"closed\"] == \"مغلق\"]\n",
    "rent_period_list = [\"شهري\",\"يومي\",\"سنوي\",\"غير محدد\"]\n",
    "rent_period_data= data_Close[data_Close[\"rent_period\"].isin(rent_period_list) ]"
   ]
  },
  {
   "cell_type": "code",
   "execution_count": 28,
   "id": "e5a4654c",
   "metadata": {},
   "outputs": [
    {
     "data": {
      "text/plain": [
       "غير محدد    65.9%\n",
       "سنوي        28.1%\n",
       "يومي         4.5%\n",
       "شهري         1.5%\n",
       "Name: rent_period, dtype: object"
      ]
     },
     "execution_count": 28,
     "metadata": {},
     "output_type": "execute_result"
    }
   ],
   "source": [
    "rent_period_close_value_count = rent_period_data[\"rent_period\"].value_counts()\n",
    "values = rent_period_data[\"rent_period\"].value_counts().keys().tolist()\n",
    "counts = rent_period_data[\"rent_period\"].value_counts().tolist()\n",
    "rent_period_close_value_count = rent_period_data[\"rent_period\"].value_counts(normalize=True).mul(100).round(1).astype(str) + '%'\n",
    "rent_period_close_value_count\n"
   ]
  },
  {
   "cell_type": "markdown",
   "id": "0a4e5d47",
   "metadata": {},
   "source": [
    "## 3.7  Is most of the real estate for sale?"
   ]
  },
  {
   "cell_type": "code",
   "execution_count": 29,
   "id": "d07ad24e",
   "metadata": {},
   "outputs": [],
   "source": [
    "data =pd.read_csv(\"train.csv\")\n",
    "data_Close = data[data[\"closed\"] == \"مغلق\"]\n"
   ]
  },
  {
   "cell_type": "code",
   "execution_count": 30,
   "id": "958093ec",
   "metadata": {},
   "outputs": [],
   "source": [
    "data[\"for_rent_or_sale\"] = data[\"for_rent_or_sale\"].replace(\"للبيع\", get_display(arabic_reshaper.reshape(\"للبيع\")))\n",
    "data[\"for_rent_or_sale\"] = data[\"for_rent_or_sale\"].replace(\"للإيجار\", get_display(arabic_reshaper.reshape(\"للإيجار\")))\n"
   ]
  },
  {
   "cell_type": "code",
   "execution_count": 31,
   "id": "f2cfa64a",
   "metadata": {
    "scrolled": true
   },
   "outputs": [
    {
     "data": {
      "image/png": "[encoded data removed]",
      "text/plain": [
       "<Figure size 432x288 with 1 Axes>"
      ]
     },
     "metadata": {
      "needs_background": "light"
     },
     "output_type": "display_data"
    }
   ],
   "source": [
    "data[\"for_rent_or_sale\"].value_counts().plot(kind=\"barh\")\n",
    "plt.savefig('for_rent_or_sale.png', dpi=300,bbox_inches='tight')"
   ]
  },
  {
   "cell_type": "markdown",
   "id": "d63d4c0f",
   "metadata": {},
   "source": [
    "## 3.8 The number of the real estate that was close and to whom it was directed ? "
   ]
  },
  {
   "cell_type": "code",
   "execution_count": 32,
   "id": "615d8d7f",
   "metadata": {},
   "outputs": [],
   "source": [
    "data =pd.read_csv(\"train.csv\")\n",
    "data_Close = data[data[\"closed\"] == \"مغلق\"]\n",
    "family_or_single = data_Close[data_Close[\"family_or_single\"] != \"#NAME?\" ]\n"
   ]
  },
  {
   "cell_type": "code",
   "execution_count": 33,
   "id": "b808f033",
   "metadata": {},
   "outputs": [
    {
     "data": {
      "text/plain": [
       "عزاب      45566\n",
       "عوائل     13830\n",
       "#NAME?        3\n",
       "Name: family_or_single, dtype: int64"
      ]
     },
     "execution_count": 33,
     "metadata": {},
     "output_type": "execute_result"
    }
   ],
   "source": [
    "data_Close[\"family_or_single\"].value_counts()"
   ]
  },
  {
   "cell_type": "code",
   "execution_count": 34,
   "id": "40a517b2",
   "metadata": {},
   "outputs": [
    {
     "data": {
      "text/plain": [
       "عزاب     45566\n",
       "عوائل    13830\n",
       "Name: family_or_single, dtype: int64"
      ]
     },
     "execution_count": 34,
     "metadata": {},
     "output_type": "execute_result"
    }
   ],
   "source": [
    "family_or_single[\"family_or_single\"].value_counts()"
   ]
  },
  {
   "cell_type": "code",
   "execution_count": 35,
   "id": "f51952d1",
   "metadata": {},
   "outputs": [],
   "source": [
    "family_or_single[\"family_or_single\"] = family_or_single[\"family_or_single\"].replace(\"عزاب\", get_display(arabic_reshaper.reshape(\"عزاب\")))\n",
    "family_or_single[\"family_or_single\"] = family_or_single[\"family_or_single\"].replace(\"عوائل\", get_display(arabic_reshaper.reshape(\"عوائل\")))\n",
    "\n"
   ]
  },
  {
   "cell_type": "code",
   "execution_count": 36,
   "id": "74e0832c",
   "metadata": {},
   "outputs": [
    {
     "data": {
      "text/plain": [
       "<AxesSubplot:>"
      ]
     },
     "execution_count": 36,
     "metadata": {},
     "output_type": "execute_result"
    },
    {
     "data": {
      "image/png": "[encoded data removed]",
      "text/plain": [
       "<Figure size 432x288 with 1 Axes>"
      ]
     },
     "metadata": {
      "needs_background": "light"
     },
     "output_type": "display_data"
    }
   ],
   "source": [
    "family_or_single[\"family_or_single\"].value_counts().plot(kind=\"barh\")\n",
    "#plt.savefig('family_or_single_close.png', dpi=300, bbox_inches='tight')"
   ]
  },
  {
   "cell_type": "markdown",
   "id": "40f2b51f",
   "metadata": {},
   "source": [
    "## 3.9 The number of real estate in each year"
   ]
  },
  {
   "cell_type": "code",
   "execution_count": 37,
   "id": "1f33f2d2",
   "metadata": {},
   "outputs": [],
   "source": [
    "data[\"creation_datetime\"] = pd.to_datetime(data[\"creation_datetime\"])\n",
    "data[\"year_of_creation\"] = data[\"creation_datetime\"].dt.year\n"
   ]
  },
  {
   "cell_type": "code",
   "execution_count": 38,
   "id": "7f45ec5b",
   "metadata": {
    "scrolled": true
   },
   "outputs": [
    {
     "data": {
      "image/png": "[encoded data removed]",
      "text/plain": [
       "<Figure size 504x504 with 1 Axes>"
      ]
     },
     "metadata": {
      "needs_background": "light"
     },
     "output_type": "display_data"
    }
   ],
   "source": [
    "plt.figure(figsize=(7,7))\n",
    "s = sns.countplot(x=data[\"year_of_creation\"], data=data,dodge=True)\n",
    "sizes=[]\n",
    "for p in s.patches:\n",
    "    height = p.get_height()\n",
    "    sizes.append(height)\n",
    "    s.text(p.get_x()+p.get_width()/2.,\n",
    "            height + 3,\n",
    "            '{:1.2f}%'.format(height/len(data)*100),\n",
    "            ha=\"center\", fontsize=13)\n",
    "plt.savefig('year_of_creation.png', dpi=300, bbox_inches='tight')"
   ]
  },
  {
   "cell_type": "markdown",
   "id": "3d667dc2",
   "metadata": {},
   "source": [
    "## 3.10 Percentage of real estate types in each year "
   ]
  },
  {
   "cell_type": "markdown",
   "id": "1c73624b",
   "metadata": {},
   "source": [
    "### 3.10.1 2014 "
   ]
  },
  {
   "cell_type": "code",
   "execution_count": 39,
   "id": "787975b5",
   "metadata": {},
   "outputs": [],
   "source": [
    "data_2014 = data[data[\"year_of_creation\"] == 2014]\n"
   ]
  },
  {
   "cell_type": "code",
   "execution_count": 40,
   "id": "da7769bd",
   "metadata": {},
   "outputs": [
    {
     "data": {
      "text/plain": [
       "فيلا          596\n",
       "أرض           496\n",
       "شقة           258\n",
       "عمارة         127\n",
       "استراحة        57\n",
       "دور            54\n",
       "محل            34\n",
       "بيت            20\n",
       "مكتب تجاري     12\n",
       "مزرعة           7\n",
       "Name: property_type, dtype: int64"
      ]
     },
     "execution_count": 40,
     "metadata": {},
     "output_type": "execute_result"
    }
   ],
   "source": [
    "data_2014[\"property_type\"].value_counts()"
   ]
  },
  {
   "cell_type": "code",
   "execution_count": 41,
   "id": "ec99c202",
   "metadata": {},
   "outputs": [],
   "source": [
    "data_2014[\"property_type\"] = data_2014[\"property_type\"].replace(\"فيلا\", get_display(arabic_reshaper.reshape(\"فيلا\")))\n",
    "data_2014[\"property_type\"] = data_2014[\"property_type\"].replace(\"أرض\", get_display(arabic_reshaper.reshape(\"أرض\")))\n",
    "data_2014[\"property_type\"] = data_2014[\"property_type\"].replace(\"شقة\", get_display(arabic_reshaper.reshape(\"شقة\")))\n",
    "data_2014[\"property_type\"] = data_2014[\"property_type\"].replace(\"عمارة\", get_display(arabic_reshaper.reshape(\"عمارة\")))\n",
    "data_2014[\"property_type\"] = data_2014[\"property_type\"].replace(\"استراحة\", get_display(arabic_reshaper.reshape(\"استراحة\")))\n",
    "data_2014[\"property_type\"] = data_2014[\"property_type\"].replace(\"دور\", get_display(arabic_reshaper.reshape(\"دور\")))\n",
    "data_2014[\"property_type\"] = data_2014[\"property_type\"].replace(\"محل\", get_display(arabic_reshaper.reshape(\"محل\")))\n",
    "data_2014[\"property_type\"] = data_2014[\"property_type\"].replace(\"بيت\", get_display(arabic_reshaper.reshape(\"بيت\")))\n",
    "data_2014[\"property_type\"] = data_2014[\"property_type\"].replace(\"مكتب تجاري\", get_display(arabic_reshaper.reshape(\"مكتب تجاري\")))\n",
    "data_2014[\"property_type\"] = data_2014[\"property_type\"].replace(\"مزرعة\", get_display(arabic_reshaper.reshape(\"مزرعة\")))\n",
    "\n"
   ]
  },
  {
   "cell_type": "code",
   "execution_count": 42,
   "id": "36fc0bd4",
   "metadata": {
    "scrolled": false
   },
   "outputs": [
    {
     "data": {
      "image/png": "[encoded data removed]",
      "text/plain": [
       "<Figure size 1224x504 with 1 Axes>"
      ]
     },
     "metadata": {
      "needs_background": "light"
     },
     "output_type": "display_data"
    }
   ],
   "source": [
    "plt.figure(figsize=(17,7))\n",
    "s = sns.countplot(x=data_2014[\"property_type\"], data=data_2014,dodge=True)\n",
    "sizes=[]\n",
    "for p in s.patches:\n",
    "    plt.title(\"\")\n",
    "    height = p.get_height()\n",
    "    sizes.append(height)\n",
    "    s.text(p.get_x()+p.get_width()/2.,\n",
    "            height + 3,\n",
    "            '{:1.2f}%'.format(height/len(data_2014)*100),\n",
    "            ha=\"center\", fontsize=13)\n",
    "#plt.savefig('property_type_14.png', dpi=300, bbox_inches='tight')"
   ]
  },
  {
   "cell_type": "markdown",
   "id": "5dc46cb0",
   "metadata": {},
   "source": [
    "### 3.10.2 2015"
   ]
  },
  {
   "cell_type": "code",
   "execution_count": 43,
   "id": "8a903fa5",
   "metadata": {},
   "outputs": [],
   "source": [
    "data_2015 = data[data[\"year_of_creation\"] == 2015]"
   ]
  },
  {
   "cell_type": "code",
   "execution_count": 44,
   "id": "1f7aa39d",
   "metadata": {},
   "outputs": [
    {
     "data": {
      "text/plain": [
       "فيلا          9685\n",
       "أرض           6599\n",
       "شقة           5685\n",
       "عمارة         1881\n",
       "دور           1280\n",
       "استراحة        962\n",
       "محل            745\n",
       "بيت            286\n",
       "مكتب تجاري     210\n",
       "مزرعة           84\n",
       "مستودع          70\n",
       "مخيم            23\n",
       "قصر              2\n",
       "Name: property_type, dtype: int64"
      ]
     },
     "execution_count": 44,
     "metadata": {},
     "output_type": "execute_result"
    }
   ],
   "source": [
    "data_2015[\"property_type\"].value_counts()"
   ]
  },
  {
   "cell_type": "code",
   "execution_count": 45,
   "id": "0305a21d",
   "metadata": {},
   "outputs": [],
   "source": [
    "data_2015[\"property_type\"] = data_2015[\"property_type\"].replace(\"فيلا\", get_display(arabic_reshaper.reshape(\"فيلا\")))\n",
    "data_2015[\"property_type\"] = data_2015[\"property_type\"].replace(\"أرض\", get_display(arabic_reshaper.reshape(\"أرض\")))\n",
    "data_2015[\"property_type\"] = data_2015[\"property_type\"].replace(\"شقة\", get_display(arabic_reshaper.reshape(\"شقة\")))\n",
    "data_2015[\"property_type\"] = data_2015[\"property_type\"].replace(\"عمارة\", get_display(arabic_reshaper.reshape(\"عمارة\")))\n",
    "data_2015[\"property_type\"] = data_2015[\"property_type\"].replace(\"استراحة\", get_display(arabic_reshaper.reshape(\"استراحة\")))\n",
    "data_2015[\"property_type\"] = data_2015[\"property_type\"].replace(\"دور\", get_display(arabic_reshaper.reshape(\"دور\")))\n",
    "data_2015[\"property_type\"] = data_2015[\"property_type\"].replace(\"محل\", get_display(arabic_reshaper.reshape(\"محل\")))\n",
    "data_2015[\"property_type\"] = data_2015[\"property_type\"].replace(\"بيت\", get_display(arabic_reshaper.reshape(\"بيت\")))\n",
    "data_2015[\"property_type\"] = data_2015[\"property_type\"].replace(\"مكتب تجاري\", get_display(arabic_reshaper.reshape(\"مكتب تجاري\")))\n",
    "data_2015[\"property_type\"] = data_2015[\"property_type\"].replace(\"مزرعة\", get_display(arabic_reshaper.reshape(\"مزرعة\")))\n",
    "data_2015[\"property_type\"] = data_2015[\"property_type\"].replace(\"مستودع\", get_display(arabic_reshaper.reshape(\"مستودع\")))\n",
    "data_2015[\"property_type\"] = data_2015[\"property_type\"].replace(\"مخيم\", get_display(arabic_reshaper.reshape(\"مخيم\")))\n",
    "data_2015[\"property_type\"] = data_2015[\"property_type\"].replace(\"قصر\", get_display(arabic_reshaper.reshape(\"قصر\")))\n",
    "\n"
   ]
  },
  {
   "cell_type": "code",
   "execution_count": 46,
   "id": "e7ac1081",
   "metadata": {
    "scrolled": true
   },
   "outputs": [
    {
     "data": {
      "image/png": "[encoded data removed]",
      "text/plain": [
       "<Figure size 1224x504 with 1 Axes>"
      ]
     },
     "metadata": {
      "needs_background": "light"
     },
     "output_type": "display_data"
    }
   ],
   "source": [
    "plt.figure(figsize=(17,7))\n",
    "s = sns.countplot(x=data_2015[\"property_type\"], data=data_2015,dodge=True)\n",
    "sizes=[]\n",
    "for p in s.patches:\n",
    "    height = p.get_height()\n",
    "    sizes.append(height)\n",
    "    s.text(p.get_x()+p.get_width()/2.,\n",
    "            height + 3,\n",
    "            '{:1.2f}%'.format(height/len(data_2015)*100),\n",
    "            ha=\"center\", fontsize=13)\n",
    "plt.savefig('property_type_15.png', dpi=300, bbox_inches='tight')"
   ]
  },
  {
   "cell_type": "markdown",
   "id": "6b5ab6e3",
   "metadata": {},
   "source": [
    "### 3.10.3 2016"
   ]
  },
  {
   "cell_type": "code",
   "execution_count": 47,
   "id": "74d97020",
   "metadata": {},
   "outputs": [],
   "source": [
    "data_2016 = data[data[\"year_of_creation\"] == 2016]"
   ]
  },
  {
   "cell_type": "code",
   "execution_count": 48,
   "id": "d9748728",
   "metadata": {},
   "outputs": [
    {
     "data": {
      "text/plain": [
       "فيلا          17064\n",
       "شقة           13786\n",
       "أرض            9778\n",
       "عمارة          3014\n",
       "دور            2869\n",
       "استراحة        1749\n",
       "محل            1278\n",
       "مكتب تجاري      433\n",
       "بيت             418\n",
       "مستودع          231\n",
       "مزرعة           148\n",
       "مخيم             32\n",
       "غرفة              2\n",
       "Name: property_type, dtype: int64"
      ]
     },
     "execution_count": 48,
     "metadata": {},
     "output_type": "execute_result"
    }
   ],
   "source": [
    "data_2016[\"property_type\"].value_counts()"
   ]
  },
  {
   "cell_type": "code",
   "execution_count": 49,
   "id": "978a9ca8",
   "metadata": {},
   "outputs": [],
   "source": [
    "data_2016[\"property_type\"] = data_2016[\"property_type\"].replace(\"فيلا\", get_display(arabic_reshaper.reshape(\"فيلا\")))\n",
    "data_2016[\"property_type\"] = data_2016[\"property_type\"].replace(\"أرض\", get_display(arabic_reshaper.reshape(\"أرض\")))\n",
    "data_2016[\"property_type\"] = data_2016[\"property_type\"].replace(\"شقة\", get_display(arabic_reshaper.reshape(\"شقة\")))\n",
    "data_2016[\"property_type\"] = data_2016[\"property_type\"].replace(\"عمارة\", get_display(arabic_reshaper.reshape(\"عمارة\")))\n",
    "data_2016[\"property_type\"] = data_2016[\"property_type\"].replace(\"استراحة\", get_display(arabic_reshaper.reshape(\"استراحة\")))\n",
    "data_2016[\"property_type\"] = data_2016[\"property_type\"].replace(\"دور\", get_display(arabic_reshaper.reshape(\"دور\")))\n",
    "data_2016[\"property_type\"] = data_2016[\"property_type\"].replace(\"محل\", get_display(arabic_reshaper.reshape(\"محل\")))\n",
    "data_2016[\"property_type\"] = data_2016[\"property_type\"].replace(\"بيت\", get_display(arabic_reshaper.reshape(\"بيت\")))\n",
    "data_2016[\"property_type\"] = data_2016[\"property_type\"].replace(\"مكتب تجاري\", get_display(arabic_reshaper.reshape(\"مكتب تجاري\")))\n",
    "data_2016[\"property_type\"] = data_2016[\"property_type\"].replace(\"مزرعة\", get_display(arabic_reshaper.reshape(\"مزرعة\")))\n",
    "data_2016[\"property_type\"] = data_2016[\"property_type\"].replace(\"مستودع\", get_display(arabic_reshaper.reshape(\"مستودع\")))\n",
    "data_2016[\"property_type\"] = data_2016[\"property_type\"].replace(\"مخيم\", get_display(arabic_reshaper.reshape(\"مخيم\")))\n",
    "data_2016[\"property_type\"] = data_2016[\"property_type\"].replace(\"غرفة\", get_display(arabic_reshaper.reshape(\"غرفة\")))\n",
    "\n"
   ]
  },
  {
   "cell_type": "code",
   "execution_count": 50,
   "id": "343c6186",
   "metadata": {},
   "outputs": [
    {
     "data": {
      "image/png": "[encoded data removed]",
      "text/plain": [
       "<Figure size 1224x504 with 1 Axes>"
      ]
     },
     "metadata": {
      "needs_background": "light"
     },
     "output_type": "display_data"
    }
   ],
   "source": [
    "plt.figure(figsize=(17,7))\n",
    "s = sns.countplot(x=data_2016[\"property_type\"], data=data_2016,dodge=True)\n",
    "sizes=[]\n",
    "for p in s.patches:\n",
    "    height = p.get_height()\n",
    "    sizes.append(height)\n",
    "    s.text(p.get_x()+p.get_width()/2.,\n",
    "            height + 3,\n",
    "            '{:1.2f}%'.format(height/len(data_2016)*100),\n",
    "            ha=\"center\", fontsize=13)\n",
    "#plt.savefig('property_type_16.png', dpi=300, bbox_inches='tight')"
   ]
  },
  {
   "cell_type": "markdown",
   "id": "029a5633",
   "metadata": {},
   "source": [
    "## 3.11 Percentage of types of real estate sold in each year "
   ]
  },
  {
   "cell_type": "markdown",
   "id": "c3bc0759",
   "metadata": {},
   "source": [
    "### 3.11.1 2014"
   ]
  },
  {
   "cell_type": "code",
   "execution_count": 51,
   "id": "4aa4c3e1",
   "metadata": {},
   "outputs": [],
   "source": [
    "data_Close = data[data[\"closed\"] == \"مغلق\"]\n"
   ]
  },
  {
   "cell_type": "code",
   "execution_count": 52,
   "id": "2471af77",
   "metadata": {},
   "outputs": [],
   "source": [
    "data_2014 = data_Close[data_Close[\"year_of_creation\"] == 2014]\n"
   ]
  },
  {
   "cell_type": "code",
   "execution_count": 53,
   "id": "aa09f482",
   "metadata": {},
   "outputs": [
    {
     "data": {
      "text/plain": [
       "فيلا          589\n",
       "أرض           459\n",
       "شقة           253\n",
       "عمارة         119\n",
       "استراحة        54\n",
       "دور            54\n",
       "محل            34\n",
       "بيت            18\n",
       "مكتب تجاري     12\n",
       "مزرعة           6\n",
       "Name: property_type, dtype: int64"
      ]
     },
     "execution_count": 53,
     "metadata": {},
     "output_type": "execute_result"
    }
   ],
   "source": [
    "data_2014[\"property_type\"].value_counts()\n"
   ]
  },
  {
   "cell_type": "code",
   "execution_count": 54,
   "id": "c0afe1c5",
   "metadata": {
    "scrolled": false
   },
   "outputs": [
    {
     "data": {
      "image/png": "[encoded data removed]",
      "text/plain": [
       "<Figure size 1224x504 with 1 Axes>"
      ]
     },
     "metadata": {
      "needs_background": "light"
     },
     "output_type": "display_data"
    }
   ],
   "source": [
    "\n",
    "\n",
    "data_2014[\"property_type\"] = data_2014[\"property_type\"].replace(\"فيلا\", get_display(arabic_reshaper.reshape(\"فيلا\")))\n",
    "data_2014[\"property_type\"] = data_2014[\"property_type\"].replace(\"أرض\", get_display(arabic_reshaper.reshape(\"أرض\")))\n",
    "data_2014[\"property_type\"] = data_2014[\"property_type\"].replace(\"شقة\", get_display(arabic_reshaper.reshape(\"شقة\")))\n",
    "data_2014[\"property_type\"] = data_2014[\"property_type\"].replace(\"عمارة\", get_display(arabic_reshaper.reshape(\"عمارة\")))\n",
    "data_2014[\"property_type\"] = data_2014[\"property_type\"].replace(\"استراحة\", get_display(arabic_reshaper.reshape(\"استراحة\")))\n",
    "data_2014[\"property_type\"] = data_2014[\"property_type\"].replace(\"دور\", get_display(arabic_reshaper.reshape(\"دور\")))\n",
    "data_2014[\"property_type\"] = data_2014[\"property_type\"].replace(\"محل\", get_display(arabic_reshaper.reshape(\"محل\")))\n",
    "data_2014[\"property_type\"] = data_2014[\"property_type\"].replace(\"بيت\", get_display(arabic_reshaper.reshape(\"بيت\")))\n",
    "data_2014[\"property_type\"] = data_2014[\"property_type\"].replace(\"مكتب تجاري\", get_display(arabic_reshaper.reshape(\"مكتب تجاري\")))\n",
    "data_2014[\"property_type\"] = data_2014[\"property_type\"].replace(\"مزرعة\", get_display(arabic_reshaper.reshape(\"مزرعة\")))\n",
    "\n",
    "plt.figure(figsize=(17,7))\n",
    "s = sns.countplot(x=data_2014[\"property_type\"], data=data_2014,dodge=True)\n",
    "sizes=[]\n",
    "for p in s.patches:\n",
    "    plt.title(\"\")\n",
    "    height = p.get_height()\n",
    "    sizes.append(height)\n",
    "    s.text(p.get_x()+p.get_width()/2.,\n",
    "            height + 3,\n",
    "            '{:1.2f}%'.format(height/len(data_2014)*100),\n",
    "            ha=\"center\", fontsize=13)\n",
    "plt.savefig('property_type_14_sold.png', dpi=300, bbox_inches='tight')"
   ]
  },
  {
   "cell_type": "markdown",
   "id": "797db5c2",
   "metadata": {},
   "source": [
    "### 3.11.2 2015"
   ]
  },
  {
   "cell_type": "code",
   "execution_count": 55,
   "id": "3e0a983a",
   "metadata": {},
   "outputs": [],
   "source": [
    "data_2015 = data_Close[data_Close[\"year_of_creation\"] == 2015]\n"
   ]
  },
  {
   "cell_type": "code",
   "execution_count": 56,
   "id": "e031485d",
   "metadata": {
    "scrolled": true
   },
   "outputs": [
    {
     "data": {
      "image/png": "[encoded data removed]",
      "text/plain": [
       "<Figure size 1224x504 with 1 Axes>"
      ]
     },
     "metadata": {
      "needs_background": "light"
     },
     "output_type": "display_data"
    }
   ],
   "source": [
    "\n",
    "data_2015[\"property_type\"] = data_2015[\"property_type\"].replace(\"فيلا\", get_display(arabic_reshaper.reshape(\"فيلا\")))\n",
    "data_2015[\"property_type\"] = data_2015[\"property_type\"].replace(\"أرض\", get_display(arabic_reshaper.reshape(\"أرض\")))\n",
    "data_2015[\"property_type\"] = data_2015[\"property_type\"].replace(\"شقة\", get_display(arabic_reshaper.reshape(\"شقة\")))\n",
    "data_2015[\"property_type\"] = data_2015[\"property_type\"].replace(\"عمارة\", get_display(arabic_reshaper.reshape(\"عمارة\")))\n",
    "data_2015[\"property_type\"] = data_2015[\"property_type\"].replace(\"استراحة\", get_display(arabic_reshaper.reshape(\"استراحة\")))\n",
    "data_2015[\"property_type\"] = data_2015[\"property_type\"].replace(\"دور\", get_display(arabic_reshaper.reshape(\"دور\")))\n",
    "data_2015[\"property_type\"] = data_2015[\"property_type\"].replace(\"محل\", get_display(arabic_reshaper.reshape(\"محل\")))\n",
    "data_2015[\"property_type\"] = data_2015[\"property_type\"].replace(\"بيت\", get_display(arabic_reshaper.reshape(\"بيت\")))\n",
    "data_2015[\"property_type\"] = data_2015[\"property_type\"].replace(\"مكتب تجاري\", get_display(arabic_reshaper.reshape(\"مكتب تجاري\")))\n",
    "data_2015[\"property_type\"] = data_2015[\"property_type\"].replace(\"مزرعة\", get_display(arabic_reshaper.reshape(\"مزرعة\")))\n",
    "data_2015[\"property_type\"] = data_2015[\"property_type\"].replace(\"مستودع\", get_display(arabic_reshaper.reshape(\"مستودع\")))\n",
    "data_2015[\"property_type\"] = data_2015[\"property_type\"].replace(\"مخيم\", get_display(arabic_reshaper.reshape(\"مخيم\")))\n",
    "data_2015[\"property_type\"] = data_2015[\"property_type\"].replace(\"قصر\", get_display(arabic_reshaper.reshape(\"قصر\")))\n",
    "\n",
    "\n",
    "plt.figure(figsize=(17,7))\n",
    "s = sns.countplot(x=data_2015[\"property_type\"], data=data_2015,dodge=True)\n",
    "sizes=[]\n",
    "for p in s.patches:\n",
    "    height = p.get_height()\n",
    "    sizes.append(height)\n",
    "    s.text(p.get_x()+p.get_width()/2.,\n",
    "            height + 3,\n",
    "            '{:1.2f}%'.format(height/len(data_2015)*100),\n",
    "            ha=\"center\", fontsize=13)\n",
    "#plt.savefig('property_type_15_sold.png', dpi=300, bbox_inches='tight')\n"
   ]
  },
  {
   "cell_type": "markdown",
   "id": "344bf9d2",
   "metadata": {},
   "source": [
    "### 3.11.3 2016"
   ]
  },
  {
   "cell_type": "code",
   "execution_count": 57,
   "id": "d54d2269",
   "metadata": {},
   "outputs": [],
   "source": [
    "data_2016 = data_Close[data_Close[\"year_of_creation\"] == 2016]\n"
   ]
  },
  {
   "cell_type": "code",
   "execution_count": 58,
   "id": "528110aa",
   "metadata": {},
   "outputs": [
    {
     "data": {
      "text/plain": [
       "شقة           10781\n",
       "فيلا           9301\n",
       "أرض            5126\n",
       "دور            2325\n",
       "عمارة          1566\n",
       "استراحة        1140\n",
       "محل             830\n",
       "بيت             285\n",
       "مكتب تجاري      235\n",
       "مستودع          118\n",
       "مزرعة           116\n",
       "مخيم             20\n",
       "غرفة              1\n",
       "Name: property_type, dtype: int64"
      ]
     },
     "execution_count": 58,
     "metadata": {},
     "output_type": "execute_result"
    }
   ],
   "source": [
    "data_2016[\"property_type\"].value_counts()\n"
   ]
  },
  {
   "cell_type": "code",
   "execution_count": 59,
   "id": "8faa8ad3",
   "metadata": {},
   "outputs": [
    {
     "data": {
      "image/png": "[encoded data removed]",
      "text/plain": [
       "<Figure size 1224x504 with 1 Axes>"
      ]
     },
     "metadata": {
      "needs_background": "light"
     },
     "output_type": "display_data"
    }
   ],
   "source": [
    "\n",
    "data_2016[\"property_type\"] = data_2016[\"property_type\"].replace(\"فيلا\", get_display(arabic_reshaper.reshape(\"فيلا\")))\n",
    "data_2016[\"property_type\"] = data_2016[\"property_type\"].replace(\"أرض\", get_display(arabic_reshaper.reshape(\"أرض\")))\n",
    "data_2016[\"property_type\"] = data_2016[\"property_type\"].replace(\"شقة\", get_display(arabic_reshaper.reshape(\"شقة\")))\n",
    "data_2016[\"property_type\"] = data_2016[\"property_type\"].replace(\"عمارة\", get_display(arabic_reshaper.reshape(\"عمارة\")))\n",
    "data_2016[\"property_type\"] = data_2016[\"property_type\"].replace(\"استراحة\", get_display(arabic_reshaper.reshape(\"استراحة\")))\n",
    "data_2016[\"property_type\"] = data_2016[\"property_type\"].replace(\"دور\", get_display(arabic_reshaper.reshape(\"دور\")))\n",
    "data_2016[\"property_type\"] = data_2016[\"property_type\"].replace(\"محل\", get_display(arabic_reshaper.reshape(\"محل\")))\n",
    "data_2016[\"property_type\"] = data_2016[\"property_type\"].replace(\"بيت\", get_display(arabic_reshaper.reshape(\"بيت\")))\n",
    "data_2016[\"property_type\"] = data_2016[\"property_type\"].replace(\"مكتب تجاري\", get_display(arabic_reshaper.reshape(\"مكتب تجاري\")))\n",
    "data_2016[\"property_type\"] = data_2016[\"property_type\"].replace(\"مزرعة\", get_display(arabic_reshaper.reshape(\"مزرعة\")))\n",
    "data_2016[\"property_type\"] = data_2016[\"property_type\"].replace(\"مستودع\", get_display(arabic_reshaper.reshape(\"مستودع\")))\n",
    "data_2016[\"property_type\"] = data_2016[\"property_type\"].replace(\"مخيم\", get_display(arabic_reshaper.reshape(\"مخيم\")))\n",
    "data_2016[\"property_type\"] = data_2016[\"property_type\"].replace(\"غرفة\", get_display(arabic_reshaper.reshape(\"غرفة\")))\n",
    "\n",
    "\n",
    "plt.figure(figsize=(17,7))\n",
    "s = sns.countplot(x=data_2016[\"property_type\"], data=data_2016,dodge=True)\n",
    "sizes=[]\n",
    "for p in s.patches:\n",
    "    height = p.get_height()\n",
    "    sizes.append(height)\n",
    "    s.text(p.get_x()+p.get_width()/2.,\n",
    "            height + 3,\n",
    "            '{:1.2f}%'.format(height/len(data_2016)*100),\n",
    "            ha=\"center\", fontsize=13)\n",
    "#plt.savefig('property_type_16_sold.png', dpi=300, bbox_inches='tight')"
   ]
  },
  {
   "cell_type": "markdown",
   "id": "8d32d943",
   "metadata": {},
   "source": [
    "## 3.12 Top 10 neighborhoods where the deal was closed"
   ]
  },
  {
   "cell_type": "code",
   "execution_count": 60,
   "id": "4ceae6eb",
   "metadata": {
    "scrolled": false
   },
   "outputs": [
    {
     "data": {
      "text/plain": [
       "<AxesSubplot:>"
      ]
     },
     "execution_count": 60,
     "metadata": {},
     "output_type": "execute_result"
    },
    {
     "data": {
      "image/png": "[encoded data removed]",
      "text/plain": [
       "<Figure size 432x288 with 1 Axes>"
      ]
     },
     "metadata": {
      "needs_background": "light"
     },
     "output_type": "display_data"
    }
   ],
   "source": [
    "data_Close[\"district_name_en\"].value_counts()[:10].plot(kind='barh')\n",
    "#plt.savefig('top_district.png', dpi=300, bbox_inches='tight')"
   ]
  },
  {
   "cell_type": "code",
   "execution_count": 61,
   "id": "de2be815",
   "metadata": {
    "scrolled": true
   },
   "outputs": [
    {
     "data": {
      "text/plain": [
       "Dhahrat Laban         3491\n",
       "Ar Rimal              2929\n",
       "Al Yasmin             2895\n",
       "Al Malqa              2735\n",
       "Tuwaiq                2621\n",
       "Al Munsiyah           2192\n",
       "Al Arid               2182\n",
       "An Narjis             2111\n",
       "An Nasim Al Gharbi    2020\n",
       "Al Yarmuk             1932\n",
       "Name: district_name_en, dtype: int64"
      ]
     },
     "execution_count": 61,
     "metadata": {},
     "output_type": "execute_result"
    }
   ],
   "source": [
    "data_Close[\"district_name_en\"].value_counts()[:10]"
   ]
  },
  {
   "cell_type": "markdown",
   "id": "a3eb9869",
   "metadata": {},
   "source": [
    "## 3.13 The most of the real estate sold is it furnished or not?"
   ]
  },
  {
   "cell_type": "code",
   "execution_count": 62,
   "id": "866dcb60",
   "metadata": {},
   "outputs": [],
   "source": [
    "data[\"furnished\"] = data[\"furnished\"].replace(\"مؤثثة\", get_display(arabic_reshaper.reshape(\"مؤثثة\")))\n",
    "data[\"furnished\"] = data[\"furnished\"].replace(\"لا يوجد اثاث\", get_display(arabic_reshaper.reshape(\"لا يوجد اثاث\")))\n"
   ]
  },
  {
   "cell_type": "code",
   "execution_count": 63,
   "id": "1f8a9a2c",
   "metadata": {
    "scrolled": true
   },
   "outputs": [
    {
     "data": {
      "text/plain": [
       "<AxesSubplot:>"
      ]
     },
     "execution_count": 63,
     "metadata": {},
     "output_type": "execute_result"
    },
    {
     "data": {
      "image/png": "[encoded data removed]",
      "text/plain": [
       "<Figure size 432x288 with 1 Axes>"
      ]
     },
     "metadata": {
      "needs_background": "light"
     },
     "output_type": "display_data"
    }
   ],
   "source": [
    "# the value (ارض) i think it must not be furnished but in the dataset its furnished (3 are furnished)\n",
    "\n",
    "data[\"furnished\"].value_counts().plot(kind=\"barh\")\n",
    "#plt.savefig('furnished.png', dpi=300, bbox_inches='tight')"
   ]
  },
  {
   "cell_type": "markdown",
   "id": "179d7f21",
   "metadata": {},
   "source": [
    "## 3.14 The age of the real estate "
   ]
  },
  {
   "cell_type": "code",
   "execution_count": 64,
   "id": "97357f69",
   "metadata": {
    "scrolled": true
   },
   "outputs": [
    {
     "data": {
      "text/html": [
       "<div>\n",
       "<style scoped>\n",
       "    .dataframe tbody tr th:only-of-type {\n",
       "        vertical-align: middle;\n",
       "    }\n",
       "\n",
       "    .dataframe tbody tr th {\n",
       "        vertical-align: top;\n",
       "    }\n",
       "\n",
       "    .dataframe thead th {\n",
       "        text-align: right;\n",
       "    }\n",
       "</style>\n",
       "<table border=\"1\" class=\"dataframe\">\n",
       "  <thead>\n",
       "    <tr style=\"text-align: right;\">\n",
       "      <th></th>\n",
       "      <th>age_less_than</th>\n",
       "      <th>num_apartments</th>\n",
       "      <th>num_bedrooms</th>\n",
       "      <th>floor_num</th>\n",
       "      <th>num_kitchens</th>\n",
       "      <th>num_living_rooms</th>\n",
       "      <th>price_per_meter</th>\n",
       "      <th>price</th>\n",
       "      <th>num_rooms</th>\n",
       "      <th>area</th>\n",
       "      <th>street_width</th>\n",
       "      <th>num_water_cycles</th>\n",
       "      <th>Latitude</th>\n",
       "      <th>Longitude</th>\n",
       "      <th>year_of_creation</th>\n",
       "    </tr>\n",
       "  </thead>\n",
       "  <tbody>\n",
       "    <tr>\n",
       "      <th>count</th>\n",
       "      <td>79975.000000</td>\n",
       "      <td>79975.000000</td>\n",
       "      <td>79975.000000</td>\n",
       "      <td>79975.000000</td>\n",
       "      <td>79975.000000</td>\n",
       "      <td>79975.00000</td>\n",
       "      <td>7.997500e+04</td>\n",
       "      <td>7.997500e+04</td>\n",
       "      <td>79975.000000</td>\n",
       "      <td>7.997500e+04</td>\n",
       "      <td>79975.000000</td>\n",
       "      <td>79975.000000</td>\n",
       "      <td>79975.000000</td>\n",
       "      <td>79975.000000</td>\n",
       "      <td>79975.000000</td>\n",
       "    </tr>\n",
       "    <tr>\n",
       "      <th>mean</th>\n",
       "      <td>2.577243</td>\n",
       "      <td>1.059944</td>\n",
       "      <td>2.563926</td>\n",
       "      <td>0.447915</td>\n",
       "      <td>0.553398</td>\n",
       "      <td>1.07141</td>\n",
       "      <td>4.164485e+05</td>\n",
       "      <td>9.254068e+08</td>\n",
       "      <td>0.356324</td>\n",
       "      <td>4.439294e+05</td>\n",
       "      <td>16.476261</td>\n",
       "      <td>2.251929</td>\n",
       "      <td>24.746980</td>\n",
       "      <td>46.690735</td>\n",
       "      <td>2015.614455</td>\n",
       "    </tr>\n",
       "    <tr>\n",
       "      <th>std</th>\n",
       "      <td>5.696260</td>\n",
       "      <td>3.829860</td>\n",
       "      <td>2.022601</td>\n",
       "      <td>0.958806</td>\n",
       "      <td>0.596332</td>\n",
       "      <td>1.10410</td>\n",
       "      <td>2.937905e+07</td>\n",
       "      <td>7.348788e+10</td>\n",
       "      <td>5.843536</td>\n",
       "      <td>2.681608e+07</td>\n",
       "      <td>17.137501</td>\n",
       "      <td>1.904128</td>\n",
       "      <td>0.113882</td>\n",
       "      <td>0.107782</td>\n",
       "      <td>0.527676</td>\n",
       "    </tr>\n",
       "    <tr>\n",
       "      <th>min</th>\n",
       "      <td>-1.000000</td>\n",
       "      <td>0.000000</td>\n",
       "      <td>0.000000</td>\n",
       "      <td>-1.000000</td>\n",
       "      <td>0.000000</td>\n",
       "      <td>0.00000</td>\n",
       "      <td>0.000000e+00</td>\n",
       "      <td>0.000000e+00</td>\n",
       "      <td>0.000000</td>\n",
       "      <td>0.000000e+00</td>\n",
       "      <td>0.000000</td>\n",
       "      <td>0.000000</td>\n",
       "      <td>24.299600</td>\n",
       "      <td>46.298200</td>\n",
       "      <td>2014.000000</td>\n",
       "    </tr>\n",
       "    <tr>\n",
       "      <th>25%</th>\n",
       "      <td>0.000000</td>\n",
       "      <td>0.000000</td>\n",
       "      <td>0.000000</td>\n",
       "      <td>0.000000</td>\n",
       "      <td>0.000000</td>\n",
       "      <td>0.00000</td>\n",
       "      <td>0.000000e+00</td>\n",
       "      <td>3.500000e+04</td>\n",
       "      <td>0.000000</td>\n",
       "      <td>1.100000e+02</td>\n",
       "      <td>0.000000</td>\n",
       "      <td>0.000000</td>\n",
       "      <td>24.661650</td>\n",
       "      <td>46.615600</td>\n",
       "      <td>2015.000000</td>\n",
       "    </tr>\n",
       "    <tr>\n",
       "      <th>50%</th>\n",
       "      <td>0.000000</td>\n",
       "      <td>0.000000</td>\n",
       "      <td>3.000000</td>\n",
       "      <td>0.000000</td>\n",
       "      <td>1.000000</td>\n",
       "      <td>1.00000</td>\n",
       "      <td>0.000000e+00</td>\n",
       "      <td>7.000000e+05</td>\n",
       "      <td>0.000000</td>\n",
       "      <td>3.750000e+02</td>\n",
       "      <td>15.000000</td>\n",
       "      <td>2.000000</td>\n",
       "      <td>24.781000</td>\n",
       "      <td>46.680600</td>\n",
       "      <td>2016.000000</td>\n",
       "    </tr>\n",
       "    <tr>\n",
       "      <th>75%</th>\n",
       "      <td>2.000000</td>\n",
       "      <td>0.000000</td>\n",
       "      <td>5.000000</td>\n",
       "      <td>1.000000</td>\n",
       "      <td>1.000000</td>\n",
       "      <td>2.00000</td>\n",
       "      <td>0.000000e+00</td>\n",
       "      <td>1.717950e+06</td>\n",
       "      <td>0.000000</td>\n",
       "      <td>6.600000e+02</td>\n",
       "      <td>20.000000</td>\n",
       "      <td>4.000000</td>\n",
       "      <td>24.822000</td>\n",
       "      <td>46.779900</td>\n",
       "      <td>2016.000000</td>\n",
       "    </tr>\n",
       "    <tr>\n",
       "      <th>max</th>\n",
       "      <td>36.000000</td>\n",
       "      <td>90.000000</td>\n",
       "      <td>5.000000</td>\n",
       "      <td>20.000000</td>\n",
       "      <td>5.000000</td>\n",
       "      <td>5.00000</td>\n",
       "      <td>2.147480e+09</td>\n",
       "      <td>1.000000e+13</td>\n",
       "      <td>800.000000</td>\n",
       "      <td>2.147484e+09</td>\n",
       "      <td>100.000000</td>\n",
       "      <td>5.000000</td>\n",
       "      <td>25.156200</td>\n",
       "      <td>47.319400</td>\n",
       "      <td>2016.000000</td>\n",
       "    </tr>\n",
       "  </tbody>\n",
       "</table>\n",
       "</div>"
      ],
      "text/plain": [
       "       age_less_than  num_apartments  num_bedrooms     floor_num  \\\n",
       "count   79975.000000    79975.000000  79975.000000  79975.000000   \n",
       "mean        2.577243        1.059944      2.563926      0.447915   \n",
       "std         5.696260        3.829860      2.022601      0.958806   \n",
       "min        -1.000000        0.000000      0.000000     -1.000000   \n",
       "25%         0.000000        0.000000      0.000000      0.000000   \n",
       "50%         0.000000        0.000000      3.000000      0.000000   \n",
       "75%         2.000000        0.000000      5.000000      1.000000   \n",
       "max        36.000000       90.000000      5.000000     20.000000   \n",
       "\n",
       "       num_kitchens  num_living_rooms  price_per_meter         price  \\\n",
       "count  79975.000000       79975.00000     7.997500e+04  7.997500e+04   \n",
       "mean       0.553398           1.07141     4.164485e+05  9.254068e+08   \n",
       "std        0.596332           1.10410     2.937905e+07  7.348788e+10   \n",
       "min        0.000000           0.00000     0.000000e+00  0.000000e+00   \n",
       "25%        0.000000           0.00000     0.000000e+00  3.500000e+04   \n",
       "50%        1.000000           1.00000     0.000000e+00  7.000000e+05   \n",
       "75%        1.000000           2.00000     0.000000e+00  1.717950e+06   \n",
       "max        5.000000           5.00000     2.147480e+09  1.000000e+13   \n",
       "\n",
       "          num_rooms          area  street_width  num_water_cycles  \\\n",
       "count  79975.000000  7.997500e+04  79975.000000      79975.000000   \n",
       "mean       0.356324  4.439294e+05     16.476261          2.251929   \n",
       "std        5.843536  2.681608e+07     17.137501          1.904128   \n",
       "min        0.000000  0.000000e+00      0.000000          0.000000   \n",
       "25%        0.000000  1.100000e+02      0.000000          0.000000   \n",
       "50%        0.000000  3.750000e+02     15.000000          2.000000   \n",
       "75%        0.000000  6.600000e+02     20.000000          4.000000   \n",
       "max      800.000000  2.147484e+09    100.000000          5.000000   \n",
       "\n",
       "           Latitude     Longitude  year_of_creation  \n",
       "count  79975.000000  79975.000000      79975.000000  \n",
       "mean      24.746980     46.690735       2015.614455  \n",
       "std        0.113882      0.107782          0.527676  \n",
       "min       24.299600     46.298200       2014.000000  \n",
       "25%       24.661650     46.615600       2015.000000  \n",
       "50%       24.781000     46.680600       2016.000000  \n",
       "75%       24.822000     46.779900       2016.000000  \n",
       "max       25.156200     47.319400       2016.000000  "
      ]
     },
     "execution_count": 64,
     "metadata": {},
     "output_type": "execute_result"
    }
   ],
   "source": [
    "data.describe()"
   ]
  },
  {
   "cell_type": "code",
   "execution_count": 65,
   "id": "5348adbc",
   "metadata": {},
   "outputs": [],
   "source": [
    "# i see the describe above and i decide that is no -1 must in the data set \n",
    "data = pd.read_csv(\"train.csv\")\n",
    "data =  data[data.floor_num != -1] \n",
    "data =  data[data.age_less_than != -1]\n",
    "#data =  data[data.price_per_meter != 0]\n",
    "#data =  data[data.price != 0]\n",
    "#data =  data[data.area != 0]\n",
    "#data =  data[data.street_width != 0]\n",
    "# if i cleaning the data it will be only 17261 was good  ,, i put those condition becuase i think its logical"
   ]
  },
  {
   "cell_type": "code",
   "execution_count": 66,
   "id": "fa02dada",
   "metadata": {},
   "outputs": [],
   "source": [
    "bin_age_less_than = pd.cut(data[\"age_less_than\"],bins=[-1,10,20,40],labels=[\"less_<=10\",\"between_10_and_20\", \"More_than_20\"])\n",
    "data[\"age_less_than_bin\"] = bin_age_less_than\n",
    "data[\"age_less_than_bin\"] = data[\"age_less_than_bin\"].astype(str)\n"
   ]
  },
  {
   "cell_type": "code",
   "execution_count": 67,
   "id": "d389d8aa",
   "metadata": {},
   "outputs": [
    {
     "data": {
      "image/png": "[encoded data removed]",
      "text/plain": [
       "<Figure size 1224x504 with 1 Axes>"
      ]
     },
     "metadata": {
      "needs_background": "light"
     },
     "output_type": "display_data"
    }
   ],
   "source": [
    "plt.figure(figsize=(17,7))\n",
    "s = sns.countplot(x=data[\"age_less_than_bin\"], data=data,dodge=True)\n",
    "sizes=[]\n",
    "for p in s.patches:\n",
    "    height = p.get_height()\n",
    "    sizes.append(height)\n",
    "    s.text(p.get_x()+p.get_width()/2.,\n",
    "            height + 3,\n",
    "            '{:1.2f}%'.format(height/len(data)*100),\n",
    "            ha=\"center\", fontsize=13)\n",
    "#plt.savefig('age_less_than_bin.png', dpi=300, bbox_inches='tight')"
   ]
  },
  {
   "cell_type": "code",
   "execution_count": 68,
   "id": "f2692689",
   "metadata": {},
   "outputs": [
    {
     "data": {
      "text/plain": [
       "less_<=10            72902\n",
       "between_10_and_20     5306\n",
       "More_than_20          1764\n",
       "Name: age_less_than_bin, dtype: int64"
      ]
     },
     "execution_count": 68,
     "metadata": {},
     "output_type": "execute_result"
    }
   ],
   "source": [
    "data[\"age_less_than_bin\"].value_counts(dropna=False)"
   ]
  },
  {
   "cell_type": "markdown",
   "id": "6d288549",
   "metadata": {},
   "source": [
    "## 3.15 the age of the real estate that are sold  "
   ]
  },
  {
   "cell_type": "code",
   "execution_count": 69,
   "id": "e1416bb6",
   "metadata": {},
   "outputs": [],
   "source": [
    "data_close = data[data[\"closed\"] == \"مغلق\"]"
   ]
  },
  {
   "cell_type": "code",
   "execution_count": 70,
   "id": "817b4091",
   "metadata": {},
   "outputs": [],
   "source": [
    "bin_age_less_than_sold = pd.cut(data_close[\"age_less_than\"],bins=[-1,10,20,40],labels=[\"less_<=10\",\"between_10_and_20\", \"More_than_20\"])\n",
    "data_close[\"age_less_than_bin_sold\"] = bin_age_less_than_sold\n",
    "data_close[\"age_less_than_bin_sold\"] = data_close[\"age_less_than_bin_sold\"].astype(str)\n"
   ]
  },
  {
   "cell_type": "code",
   "execution_count": 71,
   "id": "dc5d5fa2",
   "metadata": {
    "scrolled": true
   },
   "outputs": [
    {
     "data": {
      "image/png": "[encoded data removed]",
      "text/plain": [
       "<Figure size 1224x504 with 1 Axes>"
      ]
     },
     "metadata": {
      "needs_background": "light"
     },
     "output_type": "display_data"
    }
   ],
   "source": [
    "plt.figure(figsize=(17,7))\n",
    "s = sns.countplot(x=data_close[\"age_less_than_bin_sold\"], data=data_close,dodge=True)\n",
    "sizes=[]\n",
    "for p in s.patches:\n",
    "    height = p.get_height()\n",
    "    sizes.append(height)\n",
    "    s.text(p.get_x()+p.get_width()/2.,\n",
    "            height + 3,\n",
    "            '{:1.2f}%'.format(height/len(data_close)*100),\n",
    "            ha=\"center\", fontsize=13)\n",
    "plt.savefig('age_less_than_bin_sold.png', dpi=300, bbox_inches='tight')"
   ]
  },
  {
   "cell_type": "markdown",
   "id": "4ae9ecd4",
   "metadata": {},
   "source": [
    "## 3.17  The percentage of buying a real estate with an age of more than 10 and  the price per meter is above the average"
   ]
  },
  {
   "cell_type": "code",
   "execution_count": 72,
   "id": "a7c38561",
   "metadata": {},
   "outputs": [],
   "source": [
    "# mean of the price per meter "
   ]
  },
  {
   "cell_type": "code",
   "execution_count": 73,
   "id": "14d4f92f",
   "metadata": {
    "scrolled": true
   },
   "outputs": [
    {
     "data": {
      "text/plain": [
       "560516.4596269109"
      ]
     },
     "execution_count": 73,
     "metadata": {},
     "output_type": "execute_result"
    }
   ],
   "source": [
    "data_close[\"price_per_meter\"].mean()"
   ]
  },
  {
   "cell_type": "code",
   "execution_count": 74,
   "id": "5ab5a465",
   "metadata": {},
   "outputs": [
    {
     "data": {
      "text/plain": [
       "less_<=10            54104\n",
       "between_10_and_20     4266\n",
       "More_than_20          1026\n",
       "Name: age_less_than_bin_sold, dtype: int64"
      ]
     },
     "execution_count": 74,
     "metadata": {},
     "output_type": "execute_result"
    }
   ],
   "source": [
    "data_close[\"age_less_than_bin_sold\"].value_counts()"
   ]
  },
  {
   "cell_type": "code",
   "execution_count": 75,
   "id": "d147e6a1",
   "metadata": {},
   "outputs": [
    {
     "data": {
      "text/html": [
       "<div>\n",
       "<style scoped>\n",
       "    .dataframe tbody tr th:only-of-type {\n",
       "        vertical-align: middle;\n",
       "    }\n",
       "\n",
       "    .dataframe tbody tr th {\n",
       "        vertical-align: top;\n",
       "    }\n",
       "\n",
       "    .dataframe thead th {\n",
       "        text-align: right;\n",
       "    }\n",
       "</style>\n",
       "<table border=\"1\" class=\"dataframe\">\n",
       "  <thead>\n",
       "    <tr style=\"text-align: right;\">\n",
       "      <th></th>\n",
       "      <th>creation_datetime</th>\n",
       "      <th>updated_at</th>\n",
       "      <th>age_less_than</th>\n",
       "      <th>num_apartments</th>\n",
       "      <th>num_bedrooms</th>\n",
       "      <th>floor_num</th>\n",
       "      <th>num_kitchens</th>\n",
       "      <th>closed</th>\n",
       "      <th>commercial_or_residential</th>\n",
       "      <th>property_type</th>\n",
       "      <th>...</th>\n",
       "      <th>street_width</th>\n",
       "      <th>for_rent_or_sale</th>\n",
       "      <th>num_water_cycles</th>\n",
       "      <th>Latitude</th>\n",
       "      <th>Longitude</th>\n",
       "      <th>region_name_en</th>\n",
       "      <th>nearest_city_name_en</th>\n",
       "      <th>district_name_en</th>\n",
       "      <th>age_less_than_bin</th>\n",
       "      <th>age_less_than_bin_sold</th>\n",
       "    </tr>\n",
       "  </thead>\n",
       "  <tbody>\n",
       "    <tr>\n",
       "      <th>57711</th>\n",
       "      <td>2016-06-10 02:58:36</td>\n",
       "      <td>2016-06-10 03:24:50</td>\n",
       "      <td>15</td>\n",
       "      <td>0</td>\n",
       "      <td>0</td>\n",
       "      <td>0</td>\n",
       "      <td>0</td>\n",
       "      <td>مغلق</td>\n",
       "      <td>غير محدد</td>\n",
       "      <td>محل</td>\n",
       "      <td>...</td>\n",
       "      <td>25</td>\n",
       "      <td>للبيع</td>\n",
       "      <td>0</td>\n",
       "      <td>24.6395</td>\n",
       "      <td>46.7179</td>\n",
       "      <td>Riyadh</td>\n",
       "      <td>LABAN</td>\n",
       "      <td>Al Futah</td>\n",
       "      <td>between_10_and_20</td>\n",
       "      <td>between_10_and_20</td>\n",
       "    </tr>\n",
       "  </tbody>\n",
       "</table>\n",
       "<p>1 rows × 35 columns</p>\n",
       "</div>"
      ],
      "text/plain": [
       "         creation_datetime           updated_at  age_less_than  \\\n",
       "57711  2016-06-10 02:58:36  2016-06-10 03:24:50             15   \n",
       "\n",
       "       num_apartments  num_bedrooms  floor_num  num_kitchens closed  \\\n",
       "57711               0             0          0             0   مغلق   \n",
       "\n",
       "      commercial_or_residential property_type  ... street_width  \\\n",
       "57711                  غير محدد           محل  ...           25   \n",
       "\n",
       "      for_rent_or_sale num_water_cycles Latitude  Longitude region_name_en  \\\n",
       "57711            للبيع                0  24.6395    46.7179         Riyadh   \n",
       "\n",
       "       nearest_city_name_en district_name_en  age_less_than_bin  \\\n",
       "57711                 LABAN         Al Futah  between_10_and_20   \n",
       "\n",
       "      age_less_than_bin_sold  \n",
       "57711      between_10_and_20  \n",
       "\n",
       "[1 rows x 35 columns]"
      ]
     },
     "execution_count": 75,
     "metadata": {},
     "output_type": "execute_result"
    }
   ],
   "source": [
    "data_close[(data_close[\"age_less_than_bin_sold\"].isin([\"between_10_and_20\",\"More_than_20\"])) & (data_close[\"price_per_meter\"] > 560516.4596269109) ]\n"
   ]
  },
  {
   "cell_type": "code",
   "execution_count": 76,
   "id": "fc500b48",
   "metadata": {
    "scrolled": false
   },
   "outputs": [
    {
     "data": {
      "text/plain": [
       "creation_datetime            2016-08-11 15:11:57\n",
       "updated_at                   2016-08-22 14:47:29\n",
       "age_less_than                                  0\n",
       "num_apartments                                 0\n",
       "num_bedrooms                                   4\n",
       "floor_num                                      0\n",
       "num_kitchens                                   1\n",
       "closed                                      مغلق\n",
       "commercial_or_residential               غير محدد\n",
       "property_type                               فيلا\n",
       "driver_room                    لا يوجد غرفة سائق\n",
       "duplex                                    دوبلكس\n",
       "family_or_single                            عزاب\n",
       "furnished                           لا يوجد اثاث\n",
       "num_living_rooms                               3\n",
       "maid_room                             غرفة خادمة\n",
       "price_per_meter                                0\n",
       "advertiser_type                             مسوق\n",
       "pool                                لا يوجد مسبح\n",
       "paid                                       مجاني\n",
       "price                                     620000\n",
       "rent_period                             غير محدد\n",
       "num_rooms                                      0\n",
       "area                                         200\n",
       "street_direction                             شرق\n",
       "street_width                                  20\n",
       "for_rent_or_sale                           للبيع\n",
       "num_water_cycles                               5\n",
       "Latitude                                 24.6142\n",
       "Longitude                                46.4955\n",
       "region_name_en                            Riyadh\n",
       "nearest_city_name_en                       UBAYR\n",
       "district_name_en                   Dhahrat Laban\n",
       "age_less_than_bin                      less_<=10\n",
       "age_less_than_bin_sold                 less_<=10\n",
       "Name: 77697, dtype: object"
      ]
     },
     "execution_count": 76,
     "metadata": {},
     "output_type": "execute_result"
    }
   ],
   "source": [
    "data_close.iloc[57711]"
   ]
  },
  {
   "cell_type": "markdown",
   "id": "7e29d6e3",
   "metadata": {},
   "source": [
    "## 3.18 What is the most expensive real estate closed successfully ?"
   ]
  },
  {
   "cell_type": "code",
   "execution_count": 77,
   "id": "8c31375e",
   "metadata": {
    "scrolled": true
   },
   "outputs": [
    {
     "data": {
      "text/plain": [
       "creation_datetime            2016-10-10 14:39:09\n",
       "updated_at                   2016-10-10 14:40:24\n",
       "age_less_than                                 36\n",
       "num_apartments                                90\n",
       "num_bedrooms                                   5\n",
       "floor_num                                     20\n",
       "num_kitchens                                   5\n",
       "closed                                      مغلق\n",
       "commercial_or_residential                 كلاهما\n",
       "property_type                         مكتب تجاري\n",
       "driver_room                    لا يوجد غرفة سائق\n",
       "duplex                               ليست دوبلكس\n",
       "family_or_single                           عوائل\n",
       "furnished                                  مؤثثة\n",
       "num_living_rooms                               5\n",
       "maid_room                     لا يوجد غرفة خادمة\n",
       "price_per_meter                       2147480000\n",
       "advertiser_type                             مسوق\n",
       "pool                                        مسبح\n",
       "paid                                       مدفوع\n",
       "price                             10000000000000\n",
       "rent_period                                 يومي\n",
       "num_rooms                                    800\n",
       "area                                  2147483647\n",
       "street_direction                        غير محدد\n",
       "street_width                                 100\n",
       "for_rent_or_sale                           للبيع\n",
       "num_water_cycles                               5\n",
       "Latitude                                 25.1562\n",
       "Longitude                                47.3194\n",
       "region_name_en                            Riyadh\n",
       "age_less_than_bin                      less_<=10\n",
       "dtype: object"
      ]
     },
     "execution_count": 77,
     "metadata": {},
     "output_type": "execute_result"
    }
   ],
   "source": [
    "maxValues = data.max()\n",
    " \n",
    "maxValues"
   ]
  },
  {
   "cell_type": "markdown",
   "id": "8278a947",
   "metadata": {},
   "source": [
    "## 3.19 Real estate sold to singles, what is the percentage, is it for villas, land or what ?"
   ]
  },
  {
   "cell_type": "code",
   "execution_count": 78,
   "id": "265897d5",
   "metadata": {},
   "outputs": [],
   "source": [
    "single_close = data_close[data_close[\"family_or_single\"] == \"عزاب\"]"
   ]
  },
  {
   "cell_type": "code",
   "execution_count": 79,
   "id": "bb33e464",
   "metadata": {
    "scrolled": true
   },
   "outputs": [
    {
     "data": {
      "text/plain": [
       "فيلا          19056\n",
       "أرض           11494\n",
       "دور            3597\n",
       "عمارة          3411\n",
       "شقة            2894\n",
       "استراحة        2097\n",
       "محل            1582\n",
       "بيت             569\n",
       "مكتب تجاري      440\n",
       "مزرعة           197\n",
       "مستودع          184\n",
       "مخيم             42\n",
       "قصر               2\n",
       "غرفة              1\n",
       "Name: property_type, dtype: int64"
      ]
     },
     "execution_count": 79,
     "metadata": {},
     "output_type": "execute_result"
    }
   ],
   "source": [
    "single_close[\"property_type\"].value_counts()"
   ]
  },
  {
   "cell_type": "code",
   "execution_count": 80,
   "id": "557aad0f",
   "metadata": {},
   "outputs": [
    {
     "data": {
      "text/plain": [
       "فيلا          41.8%\n",
       "أرض           25.2%\n",
       "دور            7.9%\n",
       "عمارة          7.5%\n",
       "شقة            6.4%\n",
       "استراحة        4.6%\n",
       "محل            3.5%\n",
       "بيت            1.2%\n",
       "مكتب تجاري     1.0%\n",
       "مزرعة          0.4%\n",
       "مستودع         0.4%\n",
       "مخيم           0.1%\n",
       "قصر            0.0%\n",
       "غرفة           0.0%\n",
       "Name: property_type, dtype: object"
      ]
     },
     "execution_count": 80,
     "metadata": {},
     "output_type": "execute_result"
    }
   ],
   "source": [
    "property_type_value_count = single_close[\"property_type\"].value_counts()\n",
    "values = single_close[\"property_type\"].value_counts().keys().tolist()\n",
    "counts = single_close[\"property_type\"].value_counts().tolist()\n",
    "property_type_value_count = single_close[\"property_type\"].value_counts(normalize=True).mul(100).round(1).astype(str) + '%'\n",
    "property_type_value_count"
   ]
  },
  {
   "cell_type": "code",
   "execution_count": 81,
   "id": "f18e0655",
   "metadata": {},
   "outputs": [],
   "source": [
    "single_close[\"property_type\"] = single_close[\"property_type\"].replace(\"فيلا\", get_display(arabic_reshaper.reshape(\"فيلا\")))\n",
    "single_close[\"property_type\"] = single_close[\"property_type\"].replace(\"أرض\", get_display(arabic_reshaper.reshape(\"أرض\")))\n",
    "single_close[\"property_type\"] = single_close[\"property_type\"].replace(\"شقة\", get_display(arabic_reshaper.reshape(\"شقة\")))\n",
    "single_close[\"property_type\"] = single_close[\"property_type\"].replace(\"عمارة\", get_display(arabic_reshaper.reshape(\"عمارة\")))\n",
    "single_close[\"property_type\"] = single_close[\"property_type\"].replace(\"استراحة\", get_display(arabic_reshaper.reshape(\"استراحة\")))\n",
    "single_close[\"property_type\"] = single_close[\"property_type\"].replace(\"دور\", get_display(arabic_reshaper.reshape(\"دور\")))\n",
    "single_close[\"property_type\"] = single_close[\"property_type\"].replace(\"محل\", get_display(arabic_reshaper.reshape(\"محل\")))\n",
    "single_close[\"property_type\"] = single_close[\"property_type\"].replace(\"بيت\", get_display(arabic_reshaper.reshape(\"بيت\")))\n",
    "single_close[\"property_type\"] = single_close[\"property_type\"].replace(\"مكتب تجاري\", get_display(arabic_reshaper.reshape(\"مكتب تجاري\")))\n",
    "single_close[\"property_type\"] = single_close[\"property_type\"].replace(\"مزرعة\", get_display(arabic_reshaper.reshape(\"مزرعة\")))\n",
    "single_close[\"property_type\"] = single_close[\"property_type\"].replace(\"مستودع\", get_display(arabic_reshaper.reshape(\"مستودع\")))\n",
    "single_close[\"property_type\"] = single_close[\"property_type\"].replace(\"مخيم\", get_display(arabic_reshaper.reshape(\"مخيم\")))\n",
    "single_close[\"property_type\"] = single_close[\"property_type\"].replace(\"قصر\", get_display(arabic_reshaper.reshape(\"قصر\")))\n",
    "single_close[\"property_type\"] = single_close[\"property_type\"].replace(\"غرفة\", get_display(arabic_reshaper.reshape(\"غرفة\")))\n"
   ]
  },
  {
   "cell_type": "code",
   "execution_count": 82,
   "id": "f6e0753f",
   "metadata": {},
   "outputs": [
    {
     "data": {
      "image/png": "[encoded data removed]",
      "text/plain": [
       "<Figure size 1224x504 with 1 Axes>"
      ]
     },
     "metadata": {
      "needs_background": "light"
     },
     "output_type": "display_data"
    }
   ],
   "source": [
    "plt.figure(figsize=(17,7))\n",
    "s = sns.countplot(x=single_close[\"property_type\"], data=single_close,dodge=True)\n",
    "sizes=[]\n",
    "for p in s.patches:\n",
    "    height = p.get_height()\n",
    "    sizes.append(height)\n",
    "    s.text(p.get_x()+p.get_width()/2.,\n",
    "            height + 3,\n",
    "            '{:1.2f}%'.format(height/len(single_close)*100),\n",
    "            ha=\"center\", fontsize=13)\n",
    "#plt.savefig('single_close.png', dpi=300, bbox_inches='tight')"
   ]
  },
  {
   "cell_type": "markdown",
   "id": "9b21d1ea",
   "metadata": {},
   "source": [
    "## 3.20 Real estate sold to famliys, what is the percentage, is it for villas, land or what ?"
   ]
  },
  {
   "cell_type": "code",
   "execution_count": 83,
   "id": "d1cb923e",
   "metadata": {},
   "outputs": [],
   "source": [
    "data = pd.read_csv(\"train.csv\")\n",
    "data =  data[data.floor_num != -1] \n",
    "data =  data[data.age_less_than != -1]\n",
    "data_close = data[data[\"closed\"] == \"مغلق\"]"
   ]
  },
  {
   "cell_type": "code",
   "execution_count": 84,
   "id": "3b21526d",
   "metadata": {},
   "outputs": [],
   "source": [
    "family_close = data_close[data_close[\"family_or_single\"] == \"عوائل\"]"
   ]
  },
  {
   "cell_type": "code",
   "execution_count": 85,
   "id": "156f9e54",
   "metadata": {},
   "outputs": [
    {
     "data": {
      "text/plain": [
       "شقة           13740\n",
       "دور              56\n",
       "عمارة            14\n",
       "فيلا             13\n",
       "بيت               3\n",
       "أرض               2\n",
       "استراحة           1\n",
       "مكتب تجاري        1\n",
       "Name: property_type, dtype: int64"
      ]
     },
     "execution_count": 85,
     "metadata": {},
     "output_type": "execute_result"
    }
   ],
   "source": [
    "family_close[\"property_type\"].value_counts()"
   ]
  },
  {
   "cell_type": "code",
   "execution_count": 86,
   "id": "b64a4937",
   "metadata": {},
   "outputs": [
    {
     "data": {
      "text/plain": [
       "شقة           99.349%\n",
       "دور            0.405%\n",
       "عمارة          0.101%\n",
       "فيلا           0.094%\n",
       "بيت            0.022%\n",
       "أرض            0.014%\n",
       "استراحة        0.007%\n",
       "مكتب تجاري     0.007%\n",
       "Name: property_type, dtype: object"
      ]
     },
     "execution_count": 86,
     "metadata": {},
     "output_type": "execute_result"
    }
   ],
   "source": [
    "property_type_value_count = family_close[\"property_type\"].value_counts()\n",
    "values = family_close[\"property_type\"].value_counts().keys().tolist()\n",
    "counts = family_close[\"property_type\"].value_counts().tolist()\n",
    "property_type_value_count = family_close[\"property_type\"].value_counts(normalize=True).mul(100).round(3).astype(str) + '%'\n",
    "property_type_value_count"
   ]
  },
  {
   "cell_type": "code",
   "execution_count": 87,
   "id": "8c9d3701",
   "metadata": {},
   "outputs": [],
   "source": [
    "family_close[\"property_type\"] = family_close[\"property_type\"].replace(\"فيلا\", get_display(arabic_reshaper.reshape(\"فيلا\")))\n",
    "family_close[\"property_type\"] = family_close[\"property_type\"].replace(\"أرض\", get_display(arabic_reshaper.reshape(\"أرض\")))\n",
    "family_close[\"property_type\"] = family_close[\"property_type\"].replace(\"شقة\", get_display(arabic_reshaper.reshape(\"شقة\")))\n",
    "family_close[\"property_type\"] = family_close[\"property_type\"].replace(\"عمارة\", get_display(arabic_reshaper.reshape(\"عمارة\")))\n",
    "family_close[\"property_type\"] = family_close[\"property_type\"].replace(\"استراحة\", get_display(arabic_reshaper.reshape(\"استراحة\")))\n",
    "family_close[\"property_type\"] = family_close[\"property_type\"].replace(\"دور\", get_display(arabic_reshaper.reshape(\"دور\")))\n",
    "family_close[\"property_type\"] = family_close[\"property_type\"].replace(\"بيت\", get_display(arabic_reshaper.reshape(\"بيت\")))\n",
    "family_close[\"property_type\"] = family_close[\"property_type\"].replace(\"مكتب تجاري\", get_display(arabic_reshaper.reshape(\"مكتب تجاري\")))\n"
   ]
  },
  {
   "cell_type": "code",
   "execution_count": 88,
   "id": "87de71b8",
   "metadata": {
    "scrolled": true
   },
   "outputs": [
    {
     "data": {
      "image/png": "[encoded data removed]",
      "text/plain": [
       "<Figure size 504x504 with 1 Axes>"
      ]
     },
     "metadata": {
      "needs_background": "light"
     },
     "output_type": "display_data"
    }
   ],
   "source": [
    "plt.figure(figsize=(7,7))\n",
    "s = sns.countplot(x=family_close[\"property_type\"], data=family_close,dodge=True)\n",
    "sizes=[]\n",
    "for p in s.patches:\n",
    "    height = p.get_height()\n",
    "    sizes.append(height)\n",
    "    s.text(p.get_x()+p.get_width()/2.,\n",
    "            height + 3,\n",
    "            '{:1.2f}%'.format(height/len(family_close)*100),\n",
    "            ha=\"center\", fontsize=13)\n",
    "#plt.savefig('family_close.png', dpi=300, bbox_inches='tight')"
   ]
  }
 ],
 "metadata": {
  "kernelspec": {
   "display_name": "Python 3 (ipykernel)",
   "language": "python",
   "name": "python3"
  },
  "language_info": {
   "codemirror_mode": {
    "name": "ipython",
    "version": 3
   },
   "file_extension": ".py",
   "mimetype": "text/x-python",
   "name": "python",
   "nbconvert_exporter": "python",
   "pygments_lexer": "ipython3",
   "version": "3.8.13"
  },
  "varInspector": {
   "cols": {
    "lenName": 16,
    "lenType": 16,
    "lenVar": 40
   },
   "kernels_config": {
    "python": {
     "delete_cmd_postfix": "",
     "delete_cmd_prefix": "del ",
     "library": "var_list.py",
     "varRefreshCmd": "print(var_dic_list())"
    },
    "r": {
     "delete_cmd_postfix": ") ",
     "delete_cmd_prefix": "rm(",
     "library": "var_list.r",
     "varRefreshCmd": "cat(var_dic_list()) "
    }
   },
   "types_to_exclude": [
    "module",
    "function",
    "builtin_function_or_method",
    "instance",
    "_Feature"
   ],
   "window_display": false
  }
 },
 "nbformat": 4,
 "nbformat_minor": 5
}
