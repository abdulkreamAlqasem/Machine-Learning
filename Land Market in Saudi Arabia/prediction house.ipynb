{
 "cells": [
  {
   "cell_type": "code",
   "execution_count": 1,
   "id": "05f1693c",
   "metadata": {},
   "outputs": [],
   "source": [
    "import pandas as pd \n",
    "from sklearn.model_selection import cross_val_score\n",
    "from sklearn.metrics import mean_absolute_error,mean_squared_error,r2_score\n",
    "from sklearn.model_selection import GridSearchCV\n",
    "from numpy import mean\n",
    "from numpy import absolute\n",
    "from numpy import sqrt\n",
    "import numpy as np\n",
    "import matplotlib \n",
    "import matplotlib.pyplot as plt\n",
    "import matplotlib.pylab as pylab\n",
    "import seaborn as sns\n",
    "\n",
    "\n"
   ]
  },
  {
   "cell_type": "code",
   "execution_count": 2,
   "id": "b29a420a",
   "metadata": {
    "scrolled": false
   },
   "outputs": [],
   "source": [
    "my_data = pd.read_csv(\"aqardata_2.csv\")\n"
   ]
  },
  {
   "cell_type": "code",
   "execution_count": 3,
   "id": "e531adaa",
   "metadata": {},
   "outputs": [],
   "source": [
    "my_data.loc[my_data[\"mainlocation\"]==\"الدرعية\",\"sublocation\"]=\"شمال الرياض\"\n",
    "my_data.loc[my_data[\"mainlocation\"]==\"الخبر\",\"sublocation\"]=\"جنوب الشرقية\"\n",
    "my_data.loc[my_data[\"mainlocation\"]==\"الدمام\",\"sublocation\"]=\"شمال الشرقية\"\n",
    "my_data.loc[my_data[\"mainlocation\"]==\"المدينة المنورة\",\"sublocation\"]=\"المدينة المنورة\"\n",
    "my_data.loc[my_data[\"mainlocation\"]==\"بريدة\",\"sublocation\"]=\"شرق القصيم\"\n",
    "my_data.loc[my_data[\"mainlocation\"]==\"الرس\",\"sublocation\"]=\"غرب القصيم\"\n",
    "my_data.loc[my_data[\"mainlocation\"]==\"مكة المكرمة\",\"sublocation\"]=\"مكة المكرمة\"\n",
    "my_data.loc[my_data[\"mainlocation\"]==\"رابغ\",\"sublocation\"]=\"شمال مكة المكرمة\"\n",
    "my_data.loc[my_data[\"mainlocation\"]==\"المزاحمية\",\"sublocation\"]=\"غرب الرياض\"  \n",
    "my_data.loc[my_data[\"mainlocation\"]==\"الزلفي\",\"sublocation\"]=\"شمال الرياض\"\n",
    "my_data.loc[my_data[\"mainlocation\"]==\"ابها\",\"sublocation\"]=\"ابها\"\n",
    "my_data.loc[my_data[\"mainlocation\"]==\"الخرج\",\"sublocation\"]=\"جنوب شرق الرياض\"\n",
    "my_data.loc[my_data[\"mainlocation\"]==\"الهفوف\",\"sublocation\"]=\"غرب الشرقية\"\n",
    "my_data.loc[my_data[\"mainlocation\"]==\"ثادق\",\"sublocation\"]=\"شمال غرب الرياض\"\n",
    "my_data.loc[my_data[\"mainlocation\"]==\"ثول\",\"sublocation\"]=\"شمال جدة\"\n",
    "my_data.loc[my_data[\"mainlocation\"]==\"عنيزة\",\"sublocation\"]=\"جنوب القصيم\"\n",
    "\n",
    "\n",
    "\n",
    "#change missing value with mean for numric missing value \n",
    "my_data.fillna(my_data.mean(), inplace=True)\n",
    "\n",
    "\n",
    "my_data[\"purpose\"].fillna(\"غير محدد\", inplace = True)\n",
    "\n",
    "\n",
    "my_data[\"sublocation\"].fillna(my_data.mainlocation,inplace=True)"
   ]
  },
  {
   "cell_type": "code",
   "execution_count": 4,
   "id": "43cc4c21",
   "metadata": {},
   "outputs": [],
   "source": [
    "#outlier\n",
    "u = np.mean(my_data[\"Pricepm\"])\n",
    "s = np.std(my_data[\"Pricepm\"])\n",
    "data_filtered = my_data[(my_data[\"Pricepm\"]>(u-2*s)) & (my_data[\"Pricepm\"]<(u+2*s))]\n",
    "\n"
   ]
  },
  {
   "cell_type": "code",
   "execution_count": 5,
   "id": "26bed278",
   "metadata": {},
   "outputs": [],
   "source": [
    "#data_filtered['Pricepm'] = np.log(data_filtered['Pricepm'])\n",
    "#data_filtered['size'] = np.log(data_filtered['size'])\n",
    "#data_filtered['streetwidth'] = np.log(data_filtered['streetwidth'])\n",
    "\n"
   ]
  },
  {
   "cell_type": "code",
   "execution_count": 6,
   "id": "36645638",
   "metadata": {},
   "outputs": [],
   "source": [
    "data_filtered=pd.get_dummies(data_filtered,drop_first=True)\n"
   ]
  },
  {
   "cell_type": "code",
   "execution_count": 7,
   "id": "ef193bfd",
   "metadata": {},
   "outputs": [],
   "source": [
    "y= data_filtered[\"Pricepm\"]\n",
    "X = data_filtered.drop(\"Pricepm\",axis=1)\n",
    "\n"
   ]
  },
  {
   "cell_type": "code",
   "execution_count": 8,
   "id": "2fb63e93",
   "metadata": {},
   "outputs": [
    {
     "name": "stdout",
     "output_type": "stream",
     "text": [
      "{'alpha': 1, 'fit_intercept': True, 'normalize': False}\n",
      "440.79063847295794\n",
      "696.7660973013071\n",
      "0.7759234464652265\n"
     ]
    }
   ],
   "source": [
    "from sklearn.model_selection import cross_val_score\n",
    "from sklearn.metrics import r2_score\n",
    "from sklearn.model_selection import GridSearchCV\n",
    "from numpy import mean\n",
    "from numpy import absolute\n",
    "from numpy import sqrt\n",
    "from sklearn.metrics import r2_score\n",
    "from sklearn.linear_model import Ridge\n",
    "import numpy as np\n",
    "\n",
    "\n",
    "param_ridge={\"alpha\":np.arange(1,50),\"fit_intercept\":[True,False],\"normalize\":[True,False]}\n",
    "\n",
    "\n",
    "ridge=Ridge(alpha=1,fit_intercept=True,normalize=False)\n",
    "\n",
    "ridge_with_grid=GridSearchCV(ridge,param_ridge,cv=5)\n",
    "\n",
    "cv_results = cross_val_score(ridge,X,y,cv=5,scoring='neg_mean_absolute_error')\n",
    "\n",
    "cv_results_rmse = cross_val_score(ridge,X,y,cv=5,scoring='neg_mean_squared_error')\n",
    "\n",
    "R2 = cross_val_score(ridge,X,y,cv=5, scoring='r2')\n",
    "\n",
    "\n",
    "\n",
    "\n",
    "ridge_with_grid.fit(X,y)\n",
    "\n",
    "print(ridge_with_grid.best_params_)\n",
    "\n",
    "print(mean(absolute(cv_results)))\n",
    "\n",
    "print(sqrt(mean(absolute(cv_results_rmse))))\n",
    "\n",
    "\n",
    "print(mean(R2))\n"
   ]
  }
 ],
 "metadata": {
  "kernelspec": {
   "display_name": "Python 3",
   "language": "python",
   "name": "python3"
  },
  "language_info": {
   "codemirror_mode": {
    "name": "ipython",
    "version": 3
   },
   "file_extension": ".py",
   "mimetype": "text/x-python",
   "name": "python",
   "nbconvert_exporter": "python",
   "pygments_lexer": "ipython3",
   "version": "3.8.8"
  },
  "varInspector": {
   "cols": {
    "lenName": 16,
    "lenType": 16,
    "lenVar": 40
   },
   "kernels_config": {
    "python": {
     "delete_cmd_postfix": "",
     "delete_cmd_prefix": "del ",
     "library": "var_list.py",
     "varRefreshCmd": "print(var_dic_list())"
    },
    "r": {
     "delete_cmd_postfix": ") ",
     "delete_cmd_prefix": "rm(",
     "library": "var_list.r",
     "varRefreshCmd": "cat(var_dic_list()) "
    }
   },
   "types_to_exclude": [
    "module",
    "function",
    "builtin_function_or_method",
    "instance",
    "_Feature"
   ],
   "window_display": false
  }
 },
 "nbformat": 4,
 "nbformat_minor": 5
}
