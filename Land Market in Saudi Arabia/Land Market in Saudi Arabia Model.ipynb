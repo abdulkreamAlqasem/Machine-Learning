{
 "cells": [
  {
   "cell_type": "markdown",
   "id": "352d64b2",
   "metadata": {},
   "source": [
    "## 1. Import libraries"
   ]
  },
  {
   "cell_type": "code",
   "execution_count": 1,
   "id": "fa636fee",
   "metadata": {},
   "outputs": [],
   "source": [
    "import pandas as pd \n",
    "import numpy as np \n",
    "import matplotlib.pyplot\n",
    "import seaborn as sns \n",
    "import scipy.stats\n",
    "from sklearn.model_selection import train_test_split\n",
    "from sklearn import linear_model\n",
    "import sklearn.metrics as sm\n",
    "from math import sqrt\n",
    "\n",
    "# Remove warnings\n",
    "import warnings\n",
    "warnings.filterwarnings('ignore')"
   ]
  },
  {
   "cell_type": "markdown",
   "id": "8718e932",
   "metadata": {},
   "source": [
    "## 2. Import and read data"
   ]
  },
  {
   "cell_type": "code",
   "execution_count": 2,
   "id": "1fd79104",
   "metadata": {},
   "outputs": [],
   "source": [
    "data = pd.read_csv(\"aqardata_2.csv\")"
   ]
  },
  {
   "cell_type": "code",
   "execution_count": 3,
   "id": "ac3efd13",
   "metadata": {},
   "outputs": [
    {
     "data": {
      "text/html": [
       "<div>\n",
       "<style scoped>\n",
       "    .dataframe tbody tr th:only-of-type {\n",
       "        vertical-align: middle;\n",
       "    }\n",
       "\n",
       "    .dataframe tbody tr th {\n",
       "        vertical-align: top;\n",
       "    }\n",
       "\n",
       "    .dataframe thead th {\n",
       "        text-align: right;\n",
       "    }\n",
       "</style>\n",
       "<table border=\"1\" class=\"dataframe\">\n",
       "  <thead>\n",
       "    <tr style=\"text-align: right;\">\n",
       "      <th></th>\n",
       "      <th>mainlocation</th>\n",
       "      <th>sublocation</th>\n",
       "      <th>neighborhood</th>\n",
       "      <th>frontage</th>\n",
       "      <th>purpose</th>\n",
       "      <th>streetwidth</th>\n",
       "      <th>size</th>\n",
       "      <th>Pricepm</th>\n",
       "    </tr>\n",
       "  </thead>\n",
       "  <tbody>\n",
       "    <tr>\n",
       "      <th>0</th>\n",
       "      <td>الرياض</td>\n",
       "      <td>غرب الرياض</td>\n",
       "      <td>حي ظهرة لبن</td>\n",
       "      <td>شمال</td>\n",
       "      <td>سكني</td>\n",
       "      <td>20.0</td>\n",
       "      <td>727</td>\n",
       "      <td>1800</td>\n",
       "    </tr>\n",
       "    <tr>\n",
       "      <th>1</th>\n",
       "      <td>بريدة</td>\n",
       "      <td>NaN</td>\n",
       "      <td>حي مشعل</td>\n",
       "      <td>غرب</td>\n",
       "      <td>NaN</td>\n",
       "      <td>15.0</td>\n",
       "      <td>450</td>\n",
       "      <td>950</td>\n",
       "    </tr>\n",
       "    <tr>\n",
       "      <th>2</th>\n",
       "      <td>الخبر</td>\n",
       "      <td>NaN</td>\n",
       "      <td>حي الحمرا</td>\n",
       "      <td>غرب</td>\n",
       "      <td>تجاري</td>\n",
       "      <td>100.0</td>\n",
       "      <td>1450</td>\n",
       "      <td>3500</td>\n",
       "    </tr>\n",
       "    <tr>\n",
       "      <th>3</th>\n",
       "      <td>الخبر</td>\n",
       "      <td>NaN</td>\n",
       "      <td>حي الحزام الاخضر</td>\n",
       "      <td>شرق</td>\n",
       "      <td>NaN</td>\n",
       "      <td>15.0</td>\n",
       "      <td>440</td>\n",
       "      <td>2700</td>\n",
       "    </tr>\n",
       "    <tr>\n",
       "      <th>4</th>\n",
       "      <td>بريدة</td>\n",
       "      <td>NaN</td>\n",
       "      <td>حي الرحاب</td>\n",
       "      <td>جنوب غربي</td>\n",
       "      <td>NaN</td>\n",
       "      <td>40.0</td>\n",
       "      <td>784</td>\n",
       "      <td>950</td>\n",
       "    </tr>\n",
       "    <tr>\n",
       "      <th>5</th>\n",
       "      <td>الرياض</td>\n",
       "      <td>شمال الرياض</td>\n",
       "      <td>حي العارض</td>\n",
       "      <td>جنوب</td>\n",
       "      <td>تجاري</td>\n",
       "      <td>60.0</td>\n",
       "      <td>5973</td>\n",
       "      <td>2000</td>\n",
       "    </tr>\n",
       "    <tr>\n",
       "      <th>6</th>\n",
       "      <td>جدة</td>\n",
       "      <td>شمال جدة</td>\n",
       "      <td>حي الريان</td>\n",
       "      <td>شرق</td>\n",
       "      <td>سكني</td>\n",
       "      <td>20.0</td>\n",
       "      <td>660</td>\n",
       "      <td>2300</td>\n",
       "    </tr>\n",
       "    <tr>\n",
       "      <th>7</th>\n",
       "      <td>سكاكا</td>\n",
       "      <td>NaN</td>\n",
       "      <td>حي مخطط كريم الدرزي</td>\n",
       "      <td>شمال</td>\n",
       "      <td>سكني</td>\n",
       "      <td>15.0</td>\n",
       "      <td>735</td>\n",
       "      <td>219</td>\n",
       "    </tr>\n",
       "    <tr>\n",
       "      <th>8</th>\n",
       "      <td>الجموم</td>\n",
       "      <td>NaN</td>\n",
       "      <td>حي النسيم</td>\n",
       "      <td>غرب</td>\n",
       "      <td>NaN</td>\n",
       "      <td>60.0</td>\n",
       "      <td>153500</td>\n",
       "      <td>195</td>\n",
       "    </tr>\n",
       "    <tr>\n",
       "      <th>9</th>\n",
       "      <td>المدينة المنورة</td>\n",
       "      <td>NaN</td>\n",
       "      <td>حي الخالدية</td>\n",
       "      <td>شمال غربي</td>\n",
       "      <td>تجاري</td>\n",
       "      <td>40.0</td>\n",
       "      <td>591</td>\n",
       "      <td>5076</td>\n",
       "    </tr>\n",
       "  </tbody>\n",
       "</table>\n",
       "</div>"
      ],
      "text/plain": [
       "      mainlocation  sublocation         neighborhood   frontage purpose  \\\n",
       "0           الرياض   غرب الرياض          حي ظهرة لبن       شمال    سكني   \n",
       "1            بريدة          NaN              حي مشعل        غرب     NaN   \n",
       "2            الخبر          NaN            حي الحمرا        غرب   تجاري   \n",
       "3            الخبر          NaN     حي الحزام الاخضر        شرق     NaN   \n",
       "4            بريدة          NaN            حي الرحاب  جنوب غربي     NaN   \n",
       "5           الرياض  شمال الرياض            حي العارض       جنوب   تجاري   \n",
       "6              جدة     شمال جدة            حي الريان        شرق    سكني   \n",
       "7            سكاكا          NaN  حي مخطط كريم الدرزي       شمال    سكني   \n",
       "8           الجموم          NaN            حي النسيم        غرب     NaN   \n",
       "9  المدينة المنورة          NaN          حي الخالدية  شمال غربي   تجاري   \n",
       "\n",
       "   streetwidth    size  Pricepm  \n",
       "0         20.0     727     1800  \n",
       "1         15.0     450      950  \n",
       "2        100.0    1450     3500  \n",
       "3         15.0     440     2700  \n",
       "4         40.0     784      950  \n",
       "5         60.0    5973     2000  \n",
       "6         20.0     660     2300  \n",
       "7         15.0     735      219  \n",
       "8         60.0  153500      195  \n",
       "9         40.0     591     5076  "
      ]
     },
     "execution_count": 3,
     "metadata": {},
     "output_type": "execute_result"
    }
   ],
   "source": [
    "data.head(10)"
   ]
  },
  {
   "cell_type": "code",
   "execution_count": 4,
   "id": "c6730eda",
   "metadata": {
    "scrolled": true
   },
   "outputs": [
    {
     "name": "stdout",
     "output_type": "stream",
     "text": [
      "<class 'pandas.core.frame.DataFrame'>\n",
      "RangeIndex: 2951 entries, 0 to 2950\n",
      "Data columns (total 8 columns):\n",
      " #   Column        Non-Null Count  Dtype  \n",
      "---  ------        --------------  -----  \n",
      " 0   mainlocation  2951 non-null   object \n",
      " 1   sublocation   2276 non-null   object \n",
      " 2   neighborhood  2951 non-null   object \n",
      " 3   frontage      2951 non-null   object \n",
      " 4   purpose       2604 non-null   object \n",
      " 5   streetwidth   2948 non-null   float64\n",
      " 6   size          2951 non-null   int64  \n",
      " 7   Pricepm       2951 non-null   int64  \n",
      "dtypes: float64(1), int64(2), object(5)\n",
      "memory usage: 184.6+ KB\n"
     ]
    }
   ],
   "source": [
    "data.info()"
   ]
  },
  {
   "cell_type": "markdown",
   "id": "9b852e6c",
   "metadata": {},
   "source": [
    "## 3. Exploratory Data Analysis (EDA)"
   ]
  },
  {
   "cell_type": "markdown",
   "id": "98fdf624",
   "metadata": {},
   "source": [
    "### 3.1 Categorical Features"
   ]
  },
  {
   "cell_type": "code",
   "execution_count": 5,
   "id": "945dc02c",
   "metadata": {
    "scrolled": true
   },
   "outputs": [
    {
     "data": {
      "text/html": [
       "<div>\n",
       "<style scoped>\n",
       "    .dataframe tbody tr th:only-of-type {\n",
       "        vertical-align: middle;\n",
       "    }\n",
       "\n",
       "    .dataframe tbody tr th {\n",
       "        vertical-align: top;\n",
       "    }\n",
       "\n",
       "    .dataframe thead th {\n",
       "        text-align: right;\n",
       "    }\n",
       "</style>\n",
       "<table border=\"1\" class=\"dataframe\">\n",
       "  <thead>\n",
       "    <tr style=\"text-align: right;\">\n",
       "      <th></th>\n",
       "      <th>mainlocation</th>\n",
       "      <th>sublocation</th>\n",
       "      <th>neighborhood</th>\n",
       "      <th>frontage</th>\n",
       "      <th>purpose</th>\n",
       "    </tr>\n",
       "  </thead>\n",
       "  <tbody>\n",
       "    <tr>\n",
       "      <th>count</th>\n",
       "      <td>2951</td>\n",
       "      <td>2276</td>\n",
       "      <td>2951</td>\n",
       "      <td>2951</td>\n",
       "      <td>2604</td>\n",
       "    </tr>\n",
       "    <tr>\n",
       "      <th>unique</th>\n",
       "      <td>45</td>\n",
       "      <td>7</td>\n",
       "      <td>288</td>\n",
       "      <td>10</td>\n",
       "      <td>4</td>\n",
       "    </tr>\n",
       "    <tr>\n",
       "      <th>top</th>\n",
       "      <td>الرياض</td>\n",
       "      <td>شمال الرياض</td>\n",
       "      <td>حي الملقا</td>\n",
       "      <td>جنوب</td>\n",
       "      <td>سكني</td>\n",
       "    </tr>\n",
       "    <tr>\n",
       "      <th>freq</th>\n",
       "      <td>2100</td>\n",
       "      <td>1188</td>\n",
       "      <td>313</td>\n",
       "      <td>488</td>\n",
       "      <td>2005</td>\n",
       "    </tr>\n",
       "  </tbody>\n",
       "</table>\n",
       "</div>"
      ],
      "text/plain": [
       "       mainlocation  sublocation neighborhood frontage purpose\n",
       "count          2951         2276         2951     2951    2604\n",
       "unique           45            7          288       10       4\n",
       "top          الرياض  شمال الرياض    حي الملقا     جنوب    سكني\n",
       "freq           2100         1188          313      488    2005"
      ]
     },
     "execution_count": 5,
     "metadata": {},
     "output_type": "execute_result"
    }
   ],
   "source": [
    "data[[\"mainlocation\" , \"sublocation\",\"neighborhood\",\"frontage\",\"purpose\"]].describe()"
   ]
  },
  {
   "cell_type": "code",
   "execution_count": 6,
   "id": "72c09bea",
   "metadata": {},
   "outputs": [
    {
     "data": {
      "text/plain": [
       "mainlocation      0\n",
       "sublocation     675\n",
       "neighborhood      0\n",
       "frontage          0\n",
       "purpose         347\n",
       "dtype: int64"
      ]
     },
     "execution_count": 6,
     "metadata": {},
     "output_type": "execute_result"
    }
   ],
   "source": [
    "data[[\"mainlocation\" , \"sublocation\",\"neighborhood\",\"frontage\",\"purpose\"]].isnull().sum()"
   ]
  },
  {
   "cell_type": "code",
   "execution_count": 7,
   "id": "2d0422d3",
   "metadata": {
    "scrolled": true
   },
   "outputs": [
    {
     "data": {
      "text/plain": [
       "الرياض                            2100\n",
       "الخبر                              242\n",
       "جدة                                176\n",
       "الدرعية                             64\n",
       "المدينة المنورة                     56\n",
       "بريدة                               55\n",
       "الدمام                              40\n",
       "الهفوف                              26\n",
       "الزلفي                              25\n",
       "مكة المكرمة                         20\n",
       "جازان                               17\n",
       "ثادق                                14\n",
       "الرس                                13\n",
       "ابها                                11\n",
       "الخرج                               10\n",
       "رابغ                                10\n",
       "المزاحمية                            7\n",
       "بيش                                  6\n",
       "احد رفيده                            6\n",
       "ثول                                  6\n",
       "عنيزة                                5\n",
       "ابو عريش                             4\n",
       "المجمعة                              3\n",
       "الظهران                              3\n",
       "الطائف                               3\n",
       "سكاكا                                3\n",
       "خميس مشيط                            2\n",
       "الدلم                                2\n",
       "رياض الخبراء                         2\n",
       "حائل                                 2\n",
       "تبوك                                 2\n",
       "عرعر                                 2\n",
       "مدينة الملك عبدالله الاقتصادية       2\n",
       "صبيا                                 1\n",
       "رماح                                 1\n",
       "القطيف                               1\n",
       "نجران                                1\n",
       "الهياثم                              1\n",
       "الشنان                               1\n",
       "الجموم                               1\n",
       "صامطة                                1\n",
       "النبهانية                            1\n",
       "صفوى                                 1\n",
       "تاروت                                1\n",
       "المذنب                               1\n",
       "Name: mainlocation, dtype: int64"
      ]
     },
     "execution_count": 7,
     "metadata": {},
     "output_type": "execute_result"
    }
   ],
   "source": [
    "data[\"mainlocation\"].value_counts()"
   ]
  },
  {
   "cell_type": "code",
   "execution_count": 8,
   "id": "4638bdf3",
   "metadata": {},
   "outputs": [
    {
     "data": {
      "text/plain": [
       "شمال الرياض    1188\n",
       "NaN             675\n",
       "شرق الرياض      482\n",
       "غرب الرياض      337\n",
       "شمال جدة        171\n",
       "جنوب الرياض      81\n",
       "وسط الرياض       12\n",
       "جنوب جدة          5\n",
       "Name: sublocation, dtype: int64"
      ]
     },
     "execution_count": 8,
     "metadata": {},
     "output_type": "execute_result"
    }
   ],
   "source": [
    "data[\"sublocation\"].value_counts(dropna=False)\n",
    "\n",
    "# we have here a mising value  "
   ]
  },
  {
   "cell_type": "code",
   "execution_count": 9,
   "id": "946a88c1",
   "metadata": {},
   "outputs": [
    {
     "data": {
      "text/plain": [
       "حي الملقا     313\n",
       "حي النرجس     197\n",
       "حي بنبان      104\n",
       "حي حطين        93\n",
       "حي عرقة        85\n",
       "             ... \n",
       "حي الضباط       1\n",
       "حي شويهة        1\n",
       "حي المهدج       1\n",
       "حي الرونة       1\n",
       "حي الزرقاء      1\n",
       "Name: neighborhood, Length: 288, dtype: int64"
      ]
     },
     "execution_count": 9,
     "metadata": {},
     "output_type": "execute_result"
    }
   ],
   "source": [
    "data[\"neighborhood\"].value_counts()"
   ]
  },
  {
   "cell_type": "code",
   "execution_count": 10,
   "id": "6da59be5",
   "metadata": {},
   "outputs": [
    {
     "data": {
      "text/plain": [
       "حي الملقا     313\n",
       "حي النرجس     197\n",
       "حي بنبان      104\n",
       "حي حطين        93\n",
       "حي عرقة        85\n",
       "             ... \n",
       "حي الضباط       1\n",
       "حي شويهة        1\n",
       "حي المهدج       1\n",
       "حي الرونة       1\n",
       "حي الزرقاء      1\n",
       "Name: neighborhood, Length: 288, dtype: int64"
      ]
     },
     "execution_count": 10,
     "metadata": {},
     "output_type": "execute_result"
    }
   ],
   "source": [
    "data[\"neighborhood\"].value_counts()"
   ]
  },
  {
   "cell_type": "code",
   "execution_count": 11,
   "id": "c38d4fda",
   "metadata": {},
   "outputs": [
    {
     "data": {
      "text/plain": [
       "سكني             2005\n",
       "NaN               347\n",
       "تجاري             329\n",
       "سكني أو تجاري     268\n",
       "غير محدد            2\n",
       "Name: purpose, dtype: int64"
      ]
     },
     "execution_count": 11,
     "metadata": {},
     "output_type": "execute_result"
    }
   ],
   "source": [
    "data[\"purpose\"].value_counts(dropna=False)"
   ]
  },
  {
   "cell_type": "markdown",
   "id": "9eb7b009",
   "metadata": {},
   "source": [
    "### 3.2 Numeric Features"
   ]
  },
  {
   "cell_type": "code",
   "execution_count": 12,
   "id": "68ba78f5",
   "metadata": {},
   "outputs": [
    {
     "data": {
      "text/html": [
       "<div>\n",
       "<style scoped>\n",
       "    .dataframe tbody tr th:only-of-type {\n",
       "        vertical-align: middle;\n",
       "    }\n",
       "\n",
       "    .dataframe tbody tr th {\n",
       "        vertical-align: top;\n",
       "    }\n",
       "\n",
       "    .dataframe thead th {\n",
       "        text-align: right;\n",
       "    }\n",
       "</style>\n",
       "<table border=\"1\" class=\"dataframe\">\n",
       "  <thead>\n",
       "    <tr style=\"text-align: right;\">\n",
       "      <th></th>\n",
       "      <th>streetwidth</th>\n",
       "      <th>size</th>\n",
       "      <th>Pricepm</th>\n",
       "    </tr>\n",
       "  </thead>\n",
       "  <tbody>\n",
       "    <tr>\n",
       "      <th>count</th>\n",
       "      <td>2948.000000</td>\n",
       "      <td>2.951000e+03</td>\n",
       "      <td>2951.000000</td>\n",
       "    </tr>\n",
       "    <tr>\n",
       "      <th>mean</th>\n",
       "      <td>24.691995</td>\n",
       "      <td>1.040184e+04</td>\n",
       "      <td>2624.025754</td>\n",
       "    </tr>\n",
       "    <tr>\n",
       "      <th>std</th>\n",
       "      <td>15.208720</td>\n",
       "      <td>2.033230e+05</td>\n",
       "      <td>2970.544618</td>\n",
       "    </tr>\n",
       "    <tr>\n",
       "      <th>min</th>\n",
       "      <td>1.000000</td>\n",
       "      <td>8.100000e+01</td>\n",
       "      <td>1.000000</td>\n",
       "    </tr>\n",
       "    <tr>\n",
       "      <th>25%</th>\n",
       "      <td>15.000000</td>\n",
       "      <td>5.750000e+02</td>\n",
       "      <td>1200.000000</td>\n",
       "    </tr>\n",
       "    <tr>\n",
       "      <th>50%</th>\n",
       "      <td>20.000000</td>\n",
       "      <td>8.250000e+02</td>\n",
       "      <td>2600.000000</td>\n",
       "    </tr>\n",
       "    <tr>\n",
       "      <th>75%</th>\n",
       "      <td>30.000000</td>\n",
       "      <td>1.350000e+03</td>\n",
       "      <td>3500.000000</td>\n",
       "    </tr>\n",
       "    <tr>\n",
       "      <th>max</th>\n",
       "      <td>100.000000</td>\n",
       "      <td>1.000000e+07</td>\n",
       "      <td>83333.000000</td>\n",
       "    </tr>\n",
       "  </tbody>\n",
       "</table>\n",
       "</div>"
      ],
      "text/plain": [
       "       streetwidth          size       Pricepm\n",
       "count  2948.000000  2.951000e+03   2951.000000\n",
       "mean     24.691995  1.040184e+04   2624.025754\n",
       "std      15.208720  2.033230e+05   2970.544618\n",
       "min       1.000000  8.100000e+01      1.000000\n",
       "25%      15.000000  5.750000e+02   1200.000000\n",
       "50%      20.000000  8.250000e+02   2600.000000\n",
       "75%      30.000000  1.350000e+03   3500.000000\n",
       "max     100.000000  1.000000e+07  83333.000000"
      ]
     },
     "execution_count": 12,
     "metadata": {},
     "output_type": "execute_result"
    }
   ],
   "source": [
    "data[[\"streetwidth\" , \"size\",\"Pricepm\"]].describe()"
   ]
  },
  {
   "cell_type": "code",
   "execution_count": 13,
   "id": "5e735c4c",
   "metadata": {
    "scrolled": true
   },
   "outputs": [
    {
     "data": {
      "text/html": [
       "<div>\n",
       "<style scoped>\n",
       "    .dataframe tbody tr th:only-of-type {\n",
       "        vertical-align: middle;\n",
       "    }\n",
       "\n",
       "    .dataframe tbody tr th {\n",
       "        vertical-align: top;\n",
       "    }\n",
       "\n",
       "    .dataframe thead th {\n",
       "        text-align: right;\n",
       "    }\n",
       "</style>\n",
       "<table border=\"1\" class=\"dataframe\">\n",
       "  <thead>\n",
       "    <tr style=\"text-align: right;\">\n",
       "      <th></th>\n",
       "      <th>streetwidth</th>\n",
       "      <th>size</th>\n",
       "      <th>Pricepm</th>\n",
       "    </tr>\n",
       "  </thead>\n",
       "  <tbody>\n",
       "    <tr>\n",
       "      <th>0</th>\n",
       "      <td>20.0</td>\n",
       "      <td>727</td>\n",
       "      <td>1800</td>\n",
       "    </tr>\n",
       "    <tr>\n",
       "      <th>1</th>\n",
       "      <td>15.0</td>\n",
       "      <td>450</td>\n",
       "      <td>950</td>\n",
       "    </tr>\n",
       "    <tr>\n",
       "      <th>2</th>\n",
       "      <td>100.0</td>\n",
       "      <td>1450</td>\n",
       "      <td>3500</td>\n",
       "    </tr>\n",
       "    <tr>\n",
       "      <th>3</th>\n",
       "      <td>15.0</td>\n",
       "      <td>440</td>\n",
       "      <td>2700</td>\n",
       "    </tr>\n",
       "    <tr>\n",
       "      <th>4</th>\n",
       "      <td>40.0</td>\n",
       "      <td>784</td>\n",
       "      <td>950</td>\n",
       "    </tr>\n",
       "  </tbody>\n",
       "</table>\n",
       "</div>"
      ],
      "text/plain": [
       "   streetwidth  size  Pricepm\n",
       "0         20.0   727     1800\n",
       "1         15.0   450      950\n",
       "2        100.0  1450     3500\n",
       "3         15.0   440     2700\n",
       "4         40.0   784      950"
      ]
     },
     "execution_count": 13,
     "metadata": {},
     "output_type": "execute_result"
    }
   ],
   "source": [
    "data[[\"streetwidth\" , \"size\",\"Pricepm\"]].head()"
   ]
  },
  {
   "cell_type": "code",
   "execution_count": 14,
   "id": "95faa63e",
   "metadata": {},
   "outputs": [
    {
     "data": {
      "application/javascript": [
       "\n",
       "        if (window._pyforest_update_imports_cell) { window._pyforest_update_imports_cell('import matplotlib.pyplot as plt'); }\n",
       "    "
      ],
      "text/plain": [
       "<IPython.core.display.Javascript object>"
      ]
     },
     "metadata": {},
     "output_type": "display_data"
    },
    {
     "data": {
      "text/plain": [
       "<matplotlib.collections.PathCollection at 0x7fbcfcbcfaf0>"
      ]
     },
     "execution_count": 14,
     "metadata": {},
     "output_type": "execute_result"
    },
    {
     "data": {
      "image/png": "[encoded data removed]",
      "text/plain": [
       "<Figure size 432x288 with 1 Axes>"
      ]
     },
     "metadata": {
      "needs_background": "light"
     },
     "output_type": "display_data"
    }
   ],
   "source": [
    "plt.scatter(data[\"streetwidth\"],data['Pricepm'])"
   ]
  },
  {
   "cell_type": "code",
   "execution_count": 15,
   "id": "d3610174",
   "metadata": {},
   "outputs": [
    {
     "data": {
      "text/plain": [
       "<AxesSubplot:xlabel='streetwidth', ylabel='Density'>"
      ]
     },
     "execution_count": 15,
     "metadata": {},
     "output_type": "execute_result"
    },
    {
     "data": {
      "image/png": "[encoded data removed]",
      "text/plain": [
       "<Figure size 432x288 with 1 Axes>"
      ]
     },
     "metadata": {
      "needs_background": "light"
     },
     "output_type": "display_data"
    }
   ],
   "source": [
    "sns.distplot(data[\"streetwidth\"])"
   ]
  },
  {
   "cell_type": "code",
   "execution_count": 16,
   "id": "5a80bc58",
   "metadata": {},
   "outputs": [
    {
     "data": {
      "application/javascript": [
       "\n",
       "        if (window._pyforest_update_imports_cell) { window._pyforest_update_imports_cell('import matplotlib.pyplot as plt'); }\n",
       "    "
      ],
      "text/plain": [
       "<IPython.core.display.Javascript object>"
      ]
     },
     "metadata": {},
     "output_type": "display_data"
    },
    {
     "data": {
      "text/plain": [
       "<matplotlib.collections.PathCollection at 0x7fbd02306bb0>"
      ]
     },
     "execution_count": 16,
     "metadata": {},
     "output_type": "execute_result"
    },
    {
     "data": {
      "image/png": "[encoded data removed]",
      "text/plain": [
       "<Figure size 432x288 with 1 Axes>"
      ]
     },
     "metadata": {
      "needs_background": "light"
     },
     "output_type": "display_data"
    }
   ],
   "source": [
    "plt.scatter(data[\"size\"],data['Pricepm'])"
   ]
  },
  {
   "cell_type": "code",
   "execution_count": 17,
   "id": "bd2498b2",
   "metadata": {},
   "outputs": [
    {
     "data": {
      "text/plain": [
       "<AxesSubplot:xlabel='size', ylabel='Density'>"
      ]
     },
     "execution_count": 17,
     "metadata": {},
     "output_type": "execute_result"
    },
    {
     "data": {
      "image/png": "[encoded data removed]",
      "text/plain": [
       "<Figure size 432x288 with 1 Axes>"
      ]
     },
     "metadata": {
      "needs_background": "light"
     },
     "output_type": "display_data"
    }
   ],
   "source": [
    "sns.distplot(data[\"size\"])"
   ]
  },
  {
   "cell_type": "code",
   "execution_count": 18,
   "id": "5145a816",
   "metadata": {
    "scrolled": true
   },
   "outputs": [
    {
     "data": {
      "text/plain": [
       "<AxesSubplot:xlabel='Pricepm', ylabel='Density'>"
      ]
     },
     "execution_count": 18,
     "metadata": {},
     "output_type": "execute_result"
    },
    {
     "data": {
      "image/png": "[encoded data removed]",
      "text/plain": [
       "<Figure size 432x288 with 1 Axes>"
      ]
     },
     "metadata": {
      "needs_background": "light"
     },
     "output_type": "display_data"
    }
   ],
   "source": [
    "sns.distplot(data[\"Pricepm\"])"
   ]
  },
  {
   "cell_type": "markdown",
   "id": "0c75893a",
   "metadata": {},
   "source": [
    "## 4. Feature transformation"
   ]
  },
  {
   "cell_type": "markdown",
   "id": "eb0a1061",
   "metadata": {},
   "source": [
    "### 4.1 Log Transformation for Target feature"
   ]
  },
  {
   "cell_type": "code",
   "execution_count": 19,
   "id": "6fdb7e75",
   "metadata": {},
   "outputs": [],
   "source": [
    "numeric_feature = data.select_dtypes(np.number)"
   ]
  },
  {
   "cell_type": "code",
   "execution_count": 20,
   "id": "a5707cbd",
   "metadata": {},
   "outputs": [],
   "source": [
    "for column in numeric_feature:\n",
    "    if column == \"Pricepm\":\n",
    "        continue\n",
    "    data[column] = np.log(data[column])"
   ]
  },
  {
   "cell_type": "code",
   "execution_count": 21,
   "id": "60035196",
   "metadata": {
    "scrolled": false
   },
   "outputs": [
    {
     "data": {
      "application/javascript": [
       "\n",
       "        if (window._pyforest_update_imports_cell) { window._pyforest_update_imports_cell('import matplotlib.pyplot as plt'); }\n",
       "    "
      ],
      "text/plain": [
       "<IPython.core.display.Javascript object>"
      ]
     },
     "metadata": {},
     "output_type": "display_data"
    },
    {
     "data": {
      "application/javascript": [
       "\n",
       "        if (window._pyforest_update_imports_cell) { window._pyforest_update_imports_cell('import matplotlib.pyplot as plt'); }\n",
       "    "
      ],
      "text/plain": [
       "<IPython.core.display.Javascript object>"
      ]
     },
     "metadata": {},
     "output_type": "display_data"
    },
    {
     "data": {
      "application/javascript": [
       "\n",
       "        if (window._pyforest_update_imports_cell) { window._pyforest_update_imports_cell('import matplotlib.pyplot as plt'); }\n",
       "    "
      ],
      "text/plain": [
       "<IPython.core.display.Javascript object>"
      ]
     },
     "metadata": {},
     "output_type": "display_data"
    },
    {
     "data": {
      "image/png": "[encoded data removed]",
      "text/plain": [
       "<Figure size 864x432 with 1 Axes>"
      ]
     },
     "metadata": {
      "needs_background": "light"
     },
     "output_type": "display_data"
    },
    {
     "data": {
      "application/javascript": [
       "\n",
       "        if (window._pyforest_update_imports_cell) { window._pyforest_update_imports_cell('import matplotlib.pyplot as plt'); }\n",
       "    "
      ],
      "text/plain": [
       "<IPython.core.display.Javascript object>"
      ]
     },
     "metadata": {},
     "output_type": "display_data"
    },
    {
     "data": {
      "application/javascript": [
       "\n",
       "        if (window._pyforest_update_imports_cell) { window._pyforest_update_imports_cell('import matplotlib.pyplot as plt'); }\n",
       "    "
      ],
      "text/plain": [
       "<IPython.core.display.Javascript object>"
      ]
     },
     "metadata": {},
     "output_type": "display_data"
    },
    {
     "data": {
      "application/javascript": [
       "\n",
       "        if (window._pyforest_update_imports_cell) { window._pyforest_update_imports_cell('import matplotlib.pyplot as plt'); }\n",
       "    "
      ],
      "text/plain": [
       "<IPython.core.display.Javascript object>"
      ]
     },
     "metadata": {},
     "output_type": "display_data"
    },
    {
     "data": {
      "image/png": "[encoded data removed]",
      "text/plain": [
       "<Figure size 864x432 with 1 Axes>"
      ]
     },
     "metadata": {
      "needs_background": "light"
     },
     "output_type": "display_data"
    },
    {
     "data": {
      "application/javascript": [
       "\n",
       "        if (window._pyforest_update_imports_cell) { window._pyforest_update_imports_cell('import matplotlib.pyplot as plt'); }\n",
       "    "
      ],
      "text/plain": [
       "<IPython.core.display.Javascript object>"
      ]
     },
     "metadata": {},
     "output_type": "display_data"
    },
    {
     "data": {
      "application/javascript": [
       "\n",
       "        if (window._pyforest_update_imports_cell) { window._pyforest_update_imports_cell('import matplotlib.pyplot as plt'); }\n",
       "    "
      ],
      "text/plain": [
       "<IPython.core.display.Javascript object>"
      ]
     },
     "metadata": {},
     "output_type": "display_data"
    },
    {
     "data": {
      "application/javascript": [
       "\n",
       "        if (window._pyforest_update_imports_cell) { window._pyforest_update_imports_cell('import matplotlib.pyplot as plt'); }\n",
       "    "
      ],
      "text/plain": [
       "<IPython.core.display.Javascript object>"
      ]
     },
     "metadata": {},
     "output_type": "display_data"
    },
    {
     "data": {
      "image/png": "[encoded data removed]",
      "text/plain": [
       "<Figure size 864x432 with 1 Axes>"
      ]
     },
     "metadata": {
      "needs_background": "light"
     },
     "output_type": "display_data"
    }
   ],
   "source": [
    "for i in numeric_feature:\n",
    "    plt.figure(figsize=(12,6))\n",
    "\n",
    "    plt.subplot(1,2,1)\n",
    "\n",
    "    sns.distplot(data[i])\n",
    "    \n",
    "    plt.show()"
   ]
  },
  {
   "cell_type": "markdown",
   "id": "c2f86711",
   "metadata": {},
   "source": [
    "### 4.2 Log Transformation for Skewed Features"
   ]
  },
  {
   "cell_type": "code",
   "execution_count": 22,
   "id": "84dfb558",
   "metadata": {},
   "outputs": [],
   "source": [
    "data[\"Pricepm\"] = np.log1p(data[\"Pricepm\"])"
   ]
  },
  {
   "cell_type": "code",
   "execution_count": 23,
   "id": "4f585eb9",
   "metadata": {},
   "outputs": [
    {
     "data": {
      "text/plain": [
       "<AxesSubplot:xlabel='Pricepm', ylabel='Density'>"
      ]
     },
     "execution_count": 23,
     "metadata": {},
     "output_type": "execute_result"
    },
    {
     "data": {
      "image/png": "[encoded data removed]",
      "text/plain": [
       "<Figure size 432x288 with 1 Axes>"
      ]
     },
     "metadata": {
      "needs_background": "light"
     },
     "output_type": "display_data"
    }
   ],
   "source": [
    "sns.distplot(data[\"Pricepm\"])"
   ]
  },
  {
   "cell_type": "markdown",
   "id": "a13ed574",
   "metadata": {},
   "source": [
    "## 5. Cleaning the data"
   ]
  },
  {
   "cell_type": "code",
   "execution_count": 24,
   "id": "d6c0c46a",
   "metadata": {},
   "outputs": [
    {
     "data": {
      "text/plain": [
       "mainlocation      0\n",
       "sublocation     675\n",
       "neighborhood      0\n",
       "frontage          0\n",
       "purpose         347\n",
       "streetwidth       3\n",
       "size              0\n",
       "Pricepm           0\n",
       "dtype: int64"
      ]
     },
     "execution_count": 24,
     "metadata": {},
     "output_type": "execute_result"
    }
   ],
   "source": [
    "data.isnull().sum()"
   ]
  },
  {
   "cell_type": "markdown",
   "id": "78c2eebc",
   "metadata": {},
   "source": [
    "### 5.1 fill categorical missing values"
   ]
  },
  {
   "cell_type": "markdown",
   "id": "849b4bf7",
   "metadata": {},
   "source": [
    "#### 5.1.1 sublocation feature"
   ]
  },
  {
   "cell_type": "code",
   "execution_count": 25,
   "id": "13f937e5",
   "metadata": {},
   "outputs": [],
   "source": [
    "# as i am from sudi arabea i know the sublocation of these \n",
    "data.loc[data[\"mainlocation\"]==\"الدرعية\",\"sublocation\"]=\"شمال الرياض\"\n",
    "data.loc[data[\"mainlocation\"]==\"الخبر\",\"sublocation\"]=\"جنوب الشرقية\"\n",
    "data.loc[data[\"mainlocation\"]==\"الدمام\",\"sublocation\"]=\"شمال الشرقية\"\n",
    "data.loc[data[\"mainlocation\"]==\"بريدة\",\"sublocation\"]=\"شرق القصيم\"\n",
    "data.loc[data[\"mainlocation\"]==\"الرس\",\"sublocation\"]=\"غرب القصيم\"\n",
    "data.loc[data[\"mainlocation\"]==\"رابغ\",\"sublocation\"]=\"شمال مكة المكرمة\"\n",
    "data.loc[data[\"mainlocation\"]==\"المزاحمية\",\"sublocation\"]=\"غرب الرياض\"  \n",
    "data.loc[data[\"mainlocation\"]==\"الزلفي\",\"sublocation\"]=\"شمال الرياض\"\n",
    "data.loc[data[\"mainlocation\"]==\"الخرج\",\"sublocation\"]=\"جنوب شرق الرياض\"\n",
    "data.loc[data[\"mainlocation\"]==\"الهفوف\",\"sublocation\"]=\"غرب الشرقية\"\n",
    "data.loc[data[\"mainlocation\"]==\"ثادق\",\"sublocation\"]=\"شمال غرب الرياض\"\n",
    "data.loc[data[\"mainlocation\"]==\"ثول\",\"sublocation\"]=\"شمال جدة\"\n",
    "data.loc[data[\"mainlocation\"]==\"عنيزة\",\"sublocation\"]=\"جنوب القصيم\"\n"
   ]
  },
  {
   "cell_type": "code",
   "execution_count": 26,
   "id": "54df2f02",
   "metadata": {},
   "outputs": [],
   "source": [
    "##data[\"mainlocation\"][1]+\"-\"+data[\"neighborhood\"][1] \n",
    "# i will try this one "
   ]
  },
  {
   "cell_type": "code",
   "execution_count": 27,
   "id": "2cf8bf5a",
   "metadata": {},
   "outputs": [
    {
     "data": {
      "text/plain": [
       "mainlocation      0\n",
       "sublocation     158\n",
       "neighborhood      0\n",
       "frontage          0\n",
       "purpose         347\n",
       "streetwidth       3\n",
       "size              0\n",
       "Pricepm           0\n",
       "dtype: int64"
      ]
     },
     "execution_count": 27,
     "metadata": {},
     "output_type": "execute_result"
    }
   ],
   "source": [
    "data.isnull().sum()"
   ]
  },
  {
   "cell_type": "code",
   "execution_count": 28,
   "id": "63355a49",
   "metadata": {},
   "outputs": [],
   "source": [
    "# the remaning sublocation mising value i change it with the mainlocation beacuse if i change it manualy i will take time \n",
    "# i do manually only that have more than one mising value "
   ]
  },
  {
   "cell_type": "code",
   "execution_count": 29,
   "id": "ccd4f7d2",
   "metadata": {},
   "outputs": [],
   "source": [
    "data[\"sublocation\"].fillna(data.mainlocation,inplace=True)"
   ]
  },
  {
   "cell_type": "code",
   "execution_count": 30,
   "id": "16b8d721",
   "metadata": {},
   "outputs": [
    {
     "data": {
      "text/plain": [
       "mainlocation      0\n",
       "sublocation       0\n",
       "neighborhood      0\n",
       "frontage          0\n",
       "purpose         347\n",
       "streetwidth       3\n",
       "size              0\n",
       "Pricepm           0\n",
       "dtype: int64"
      ]
     },
     "execution_count": 30,
     "metadata": {},
     "output_type": "execute_result"
    }
   ],
   "source": [
    "data.isnull().sum()"
   ]
  },
  {
   "cell_type": "markdown",
   "id": "05de466d",
   "metadata": {},
   "source": [
    "#### 5.1.2 purpose feature"
   ]
  },
  {
   "cell_type": "code",
   "execution_count": 31,
   "id": "87fc389c",
   "metadata": {},
   "outputs": [
    {
     "data": {
      "text/plain": [
       "سكني             2005\n",
       "NaN               347\n",
       "تجاري             329\n",
       "سكني أو تجاري     268\n",
       "غير محدد            2\n",
       "Name: purpose, dtype: int64"
      ]
     },
     "execution_count": 31,
     "metadata": {},
     "output_type": "execute_result"
    }
   ],
   "source": [
    "data[\"purpose\"].value_counts(dropna=False)"
   ]
  },
  {
   "cell_type": "markdown",
   "id": "11bb4bad",
   "metadata": {},
   "source": [
    "as we see here are the value called \"غير محدد\" which is undefined so we will make all mising value to \"غير محدد\" (undefined)"
   ]
  },
  {
   "cell_type": "code",
   "execution_count": 32,
   "id": "c1c5df1c",
   "metadata": {},
   "outputs": [],
   "source": [
    "data[\"purpose\"].fillna(\"غير محدد\", inplace = True)"
   ]
  },
  {
   "cell_type": "code",
   "execution_count": 33,
   "id": "11e8e38e",
   "metadata": {},
   "outputs": [
    {
     "data": {
      "text/plain": [
       "mainlocation    0\n",
       "sublocation     0\n",
       "neighborhood    0\n",
       "frontage        0\n",
       "purpose         0\n",
       "streetwidth     3\n",
       "size            0\n",
       "Pricepm         0\n",
       "dtype: int64"
      ]
     },
     "execution_count": 33,
     "metadata": {},
     "output_type": "execute_result"
    }
   ],
   "source": [
    "data.isnull().sum()"
   ]
  },
  {
   "cell_type": "markdown",
   "id": "5ed85f1a",
   "metadata": {},
   "source": [
    "### 5.2 fill numeric missing values"
   ]
  },
  {
   "cell_type": "markdown",
   "id": "05e5a9ce",
   "metadata": {},
   "source": [
    "#### 5.2.1 streetwidth feature"
   ]
  },
  {
   "cell_type": "code",
   "execution_count": 34,
   "id": "9a025463",
   "metadata": {},
   "outputs": [],
   "source": [
    "data[\"streetwidth\"].fillna(data[\"streetwidth\"].median(), inplace = True)"
   ]
  },
  {
   "cell_type": "code",
   "execution_count": 35,
   "id": "659982d6",
   "metadata": {
    "scrolled": true
   },
   "outputs": [
    {
     "data": {
      "text/plain": [
       "mainlocation    0\n",
       "sublocation     0\n",
       "neighborhood    0\n",
       "frontage        0\n",
       "purpose         0\n",
       "streetwidth     0\n",
       "size            0\n",
       "Pricepm         0\n",
       "dtype: int64"
      ]
     },
     "execution_count": 35,
     "metadata": {},
     "output_type": "execute_result"
    }
   ],
   "source": [
    "data.isnull().sum()"
   ]
  },
  {
   "cell_type": "markdown",
   "id": "355a90fb",
   "metadata": {},
   "source": [
    "## 6. Feature Scaling"
   ]
  },
  {
   "cell_type": "code",
   "execution_count": 36,
   "id": "ee6f8c33",
   "metadata": {
    "scrolled": true
   },
   "outputs": [],
   "source": [
    "cat_data =[feature for feature in data.columns if data[feature].dtypes == 'O']\n",
    "numeric_feature =[feature for feature in data.columns if data[feature].dtypes != 'O']"
   ]
  },
  {
   "cell_type": "code",
   "execution_count": 37,
   "id": "2d9c8f36",
   "metadata": {},
   "outputs": [
    {
     "data": {
      "text/plain": [
       "['mainlocation', 'sublocation', 'neighborhood', 'frontage', 'purpose']"
      ]
     },
     "execution_count": 37,
     "metadata": {},
     "output_type": "execute_result"
    }
   ],
   "source": [
    "cat_data"
   ]
  },
  {
   "cell_type": "code",
   "execution_count": 38,
   "id": "b016a96a",
   "metadata": {},
   "outputs": [
    {
     "data": {
      "text/plain": [
       "['streetwidth', 'size', 'Pricepm']"
      ]
     },
     "execution_count": 38,
     "metadata": {},
     "output_type": "execute_result"
    }
   ],
   "source": [
    "numeric_feature"
   ]
  },
  {
   "cell_type": "code",
   "execution_count": 39,
   "id": "19f0cf0e",
   "metadata": {
    "scrolled": true
   },
   "outputs": [
    {
     "data": {
      "text/html": [
       "<div>\n",
       "<style scoped>\n",
       "    .dataframe tbody tr th:only-of-type {\n",
       "        vertical-align: middle;\n",
       "    }\n",
       "\n",
       "    .dataframe tbody tr th {\n",
       "        vertical-align: top;\n",
       "    }\n",
       "\n",
       "    .dataframe thead th {\n",
       "        text-align: right;\n",
       "    }\n",
       "</style>\n",
       "<table border=\"1\" class=\"dataframe\">\n",
       "  <thead>\n",
       "    <tr style=\"text-align: right;\">\n",
       "      <th></th>\n",
       "      <th>mainlocation</th>\n",
       "      <th>sublocation</th>\n",
       "      <th>neighborhood</th>\n",
       "      <th>frontage</th>\n",
       "      <th>purpose</th>\n",
       "    </tr>\n",
       "  </thead>\n",
       "  <tbody>\n",
       "    <tr>\n",
       "      <th>0</th>\n",
       "      <td>الرياض</td>\n",
       "      <td>غرب الرياض</td>\n",
       "      <td>حي ظهرة لبن</td>\n",
       "      <td>شمال</td>\n",
       "      <td>سكني</td>\n",
       "    </tr>\n",
       "    <tr>\n",
       "      <th>1</th>\n",
       "      <td>بريدة</td>\n",
       "      <td>شرق القصيم</td>\n",
       "      <td>حي مشعل</td>\n",
       "      <td>غرب</td>\n",
       "      <td>غير محدد</td>\n",
       "    </tr>\n",
       "    <tr>\n",
       "      <th>2</th>\n",
       "      <td>الخبر</td>\n",
       "      <td>جنوب الشرقية</td>\n",
       "      <td>حي الحمرا</td>\n",
       "      <td>غرب</td>\n",
       "      <td>تجاري</td>\n",
       "    </tr>\n",
       "    <tr>\n",
       "      <th>3</th>\n",
       "      <td>الخبر</td>\n",
       "      <td>جنوب الشرقية</td>\n",
       "      <td>حي الحزام الاخضر</td>\n",
       "      <td>شرق</td>\n",
       "      <td>غير محدد</td>\n",
       "    </tr>\n",
       "    <tr>\n",
       "      <th>4</th>\n",
       "      <td>بريدة</td>\n",
       "      <td>شرق القصيم</td>\n",
       "      <td>حي الرحاب</td>\n",
       "      <td>جنوب غربي</td>\n",
       "      <td>غير محدد</td>\n",
       "    </tr>\n",
       "    <tr>\n",
       "      <th>...</th>\n",
       "      <td>...</td>\n",
       "      <td>...</td>\n",
       "      <td>...</td>\n",
       "      <td>...</td>\n",
       "      <td>...</td>\n",
       "    </tr>\n",
       "    <tr>\n",
       "      <th>2946</th>\n",
       "      <td>الرياض</td>\n",
       "      <td>جنوب الرياض</td>\n",
       "      <td>حي طيبة</td>\n",
       "      <td>شمال غربي</td>\n",
       "      <td>سكني</td>\n",
       "    </tr>\n",
       "    <tr>\n",
       "      <th>2947</th>\n",
       "      <td>رياض الخبراء</td>\n",
       "      <td>رياض الخبراء</td>\n",
       "      <td>حي النزهة</td>\n",
       "      <td>شمال غربي</td>\n",
       "      <td>سكني أو تجاري</td>\n",
       "    </tr>\n",
       "    <tr>\n",
       "      <th>2948</th>\n",
       "      <td>بريدة</td>\n",
       "      <td>شرق القصيم</td>\n",
       "      <td>حي الحمر</td>\n",
       "      <td>شرق</td>\n",
       "      <td>سكني</td>\n",
       "    </tr>\n",
       "    <tr>\n",
       "      <th>2949</th>\n",
       "      <td>الرياض</td>\n",
       "      <td>شمال الرياض</td>\n",
       "      <td>حي الملقا</td>\n",
       "      <td>جنوب</td>\n",
       "      <td>سكني</td>\n",
       "    </tr>\n",
       "    <tr>\n",
       "      <th>2950</th>\n",
       "      <td>الزلفي</td>\n",
       "      <td>شمال الرياض</td>\n",
       "      <td>حي الصناعية</td>\n",
       "      <td>شمال</td>\n",
       "      <td>سكني</td>\n",
       "    </tr>\n",
       "  </tbody>\n",
       "</table>\n",
       "<p>2951 rows × 5 columns</p>\n",
       "</div>"
      ],
      "text/plain": [
       "      mainlocation   sublocation      neighborhood   frontage        purpose\n",
       "0           الرياض    غرب الرياض       حي ظهرة لبن       شمال           سكني\n",
       "1            بريدة    شرق القصيم           حي مشعل        غرب       غير محدد\n",
       "2            الخبر  جنوب الشرقية         حي الحمرا        غرب          تجاري\n",
       "3            الخبر  جنوب الشرقية  حي الحزام الاخضر        شرق       غير محدد\n",
       "4            بريدة    شرق القصيم         حي الرحاب  جنوب غربي       غير محدد\n",
       "...            ...           ...               ...        ...            ...\n",
       "2946        الرياض   جنوب الرياض           حي طيبة  شمال غربي           سكني\n",
       "2947  رياض الخبراء  رياض الخبراء         حي النزهة  شمال غربي  سكني أو تجاري\n",
       "2948         بريدة    شرق القصيم          حي الحمر        شرق           سكني\n",
       "2949        الرياض   شمال الرياض         حي الملقا       جنوب           سكني\n",
       "2950        الزلفي   شمال الرياض       حي الصناعية       شمال           سكني\n",
       "\n",
       "[2951 rows x 5 columns]"
      ]
     },
     "execution_count": 39,
     "metadata": {},
     "output_type": "execute_result"
    }
   ],
   "source": [
    "data[cat_data]"
   ]
  },
  {
   "cell_type": "markdown",
   "id": "0b25ff02",
   "metadata": {},
   "source": [
    "## 7. Feature Encoding"
   ]
  },
  {
   "cell_type": "code",
   "execution_count": 40,
   "id": "11d79954",
   "metadata": {},
   "outputs": [],
   "source": [
    "data = pd.get_dummies(data,drop_first=True)\n"
   ]
  },
  {
   "cell_type": "code",
   "execution_count": 41,
   "id": "0beafba2",
   "metadata": {},
   "outputs": [
    {
     "data": {
      "text/html": [
       "<div>\n",
       "<style scoped>\n",
       "    .dataframe tbody tr th:only-of-type {\n",
       "        vertical-align: middle;\n",
       "    }\n",
       "\n",
       "    .dataframe tbody tr th {\n",
       "        vertical-align: top;\n",
       "    }\n",
       "\n",
       "    .dataframe thead th {\n",
       "        text-align: right;\n",
       "    }\n",
       "</style>\n",
       "<table border=\"1\" class=\"dataframe\">\n",
       "  <thead>\n",
       "    <tr style=\"text-align: right;\">\n",
       "      <th></th>\n",
       "      <th>streetwidth</th>\n",
       "      <th>size</th>\n",
       "      <th>Pricepm</th>\n",
       "      <th>mainlocation_ابو عريش</th>\n",
       "      <th>mainlocation_احد رفيده</th>\n",
       "      <th>mainlocation_الجموم</th>\n",
       "      <th>mainlocation_الخبر</th>\n",
       "      <th>mainlocation_الخرج</th>\n",
       "      <th>mainlocation_الدرعية</th>\n",
       "      <th>mainlocation_الدلم</th>\n",
       "      <th>...</th>\n",
       "      <th>frontage_جنوب شرقي</th>\n",
       "      <th>frontage_جنوب غربي</th>\n",
       "      <th>frontage_شرق</th>\n",
       "      <th>frontage_شمال</th>\n",
       "      <th>frontage_شمال شرقي</th>\n",
       "      <th>frontage_شمال غربي</th>\n",
       "      <th>frontage_غرب</th>\n",
       "      <th>purpose_سكني</th>\n",
       "      <th>purpose_سكني أو تجاري</th>\n",
       "      <th>purpose_غير محدد</th>\n",
       "    </tr>\n",
       "  </thead>\n",
       "  <tbody>\n",
       "    <tr>\n",
       "      <th>0</th>\n",
       "      <td>2.995732</td>\n",
       "      <td>6.588926</td>\n",
       "      <td>7.496097</td>\n",
       "      <td>0</td>\n",
       "      <td>0</td>\n",
       "      <td>0</td>\n",
       "      <td>0</td>\n",
       "      <td>0</td>\n",
       "      <td>0</td>\n",
       "      <td>0</td>\n",
       "      <td>...</td>\n",
       "      <td>0</td>\n",
       "      <td>0</td>\n",
       "      <td>0</td>\n",
       "      <td>1</td>\n",
       "      <td>0</td>\n",
       "      <td>0</td>\n",
       "      <td>0</td>\n",
       "      <td>1</td>\n",
       "      <td>0</td>\n",
       "      <td>0</td>\n",
       "    </tr>\n",
       "    <tr>\n",
       "      <th>1</th>\n",
       "      <td>2.708050</td>\n",
       "      <td>6.109248</td>\n",
       "      <td>6.857514</td>\n",
       "      <td>0</td>\n",
       "      <td>0</td>\n",
       "      <td>0</td>\n",
       "      <td>0</td>\n",
       "      <td>0</td>\n",
       "      <td>0</td>\n",
       "      <td>0</td>\n",
       "      <td>...</td>\n",
       "      <td>0</td>\n",
       "      <td>0</td>\n",
       "      <td>0</td>\n",
       "      <td>0</td>\n",
       "      <td>0</td>\n",
       "      <td>0</td>\n",
       "      <td>1</td>\n",
       "      <td>0</td>\n",
       "      <td>0</td>\n",
       "      <td>1</td>\n",
       "    </tr>\n",
       "    <tr>\n",
       "      <th>2</th>\n",
       "      <td>4.605170</td>\n",
       "      <td>7.279319</td>\n",
       "      <td>8.160804</td>\n",
       "      <td>0</td>\n",
       "      <td>0</td>\n",
       "      <td>0</td>\n",
       "      <td>1</td>\n",
       "      <td>0</td>\n",
       "      <td>0</td>\n",
       "      <td>0</td>\n",
       "      <td>...</td>\n",
       "      <td>0</td>\n",
       "      <td>0</td>\n",
       "      <td>0</td>\n",
       "      <td>0</td>\n",
       "      <td>0</td>\n",
       "      <td>0</td>\n",
       "      <td>1</td>\n",
       "      <td>0</td>\n",
       "      <td>0</td>\n",
       "      <td>0</td>\n",
       "    </tr>\n",
       "    <tr>\n",
       "      <th>3</th>\n",
       "      <td>2.708050</td>\n",
       "      <td>6.086775</td>\n",
       "      <td>7.901377</td>\n",
       "      <td>0</td>\n",
       "      <td>0</td>\n",
       "      <td>0</td>\n",
       "      <td>1</td>\n",
       "      <td>0</td>\n",
       "      <td>0</td>\n",
       "      <td>0</td>\n",
       "      <td>...</td>\n",
       "      <td>0</td>\n",
       "      <td>0</td>\n",
       "      <td>1</td>\n",
       "      <td>0</td>\n",
       "      <td>0</td>\n",
       "      <td>0</td>\n",
       "      <td>0</td>\n",
       "      <td>0</td>\n",
       "      <td>0</td>\n",
       "      <td>1</td>\n",
       "    </tr>\n",
       "    <tr>\n",
       "      <th>4</th>\n",
       "      <td>3.688879</td>\n",
       "      <td>6.664409</td>\n",
       "      <td>6.857514</td>\n",
       "      <td>0</td>\n",
       "      <td>0</td>\n",
       "      <td>0</td>\n",
       "      <td>0</td>\n",
       "      <td>0</td>\n",
       "      <td>0</td>\n",
       "      <td>0</td>\n",
       "      <td>...</td>\n",
       "      <td>0</td>\n",
       "      <td>1</td>\n",
       "      <td>0</td>\n",
       "      <td>0</td>\n",
       "      <td>0</td>\n",
       "      <td>0</td>\n",
       "      <td>0</td>\n",
       "      <td>0</td>\n",
       "      <td>0</td>\n",
       "      <td>1</td>\n",
       "    </tr>\n",
       "    <tr>\n",
       "      <th>5</th>\n",
       "      <td>4.094345</td>\n",
       "      <td>8.695005</td>\n",
       "      <td>7.601402</td>\n",
       "      <td>0</td>\n",
       "      <td>0</td>\n",
       "      <td>0</td>\n",
       "      <td>0</td>\n",
       "      <td>0</td>\n",
       "      <td>0</td>\n",
       "      <td>0</td>\n",
       "      <td>...</td>\n",
       "      <td>0</td>\n",
       "      <td>0</td>\n",
       "      <td>0</td>\n",
       "      <td>0</td>\n",
       "      <td>0</td>\n",
       "      <td>0</td>\n",
       "      <td>0</td>\n",
       "      <td>0</td>\n",
       "      <td>0</td>\n",
       "      <td>0</td>\n",
       "    </tr>\n",
       "    <tr>\n",
       "      <th>6</th>\n",
       "      <td>2.995732</td>\n",
       "      <td>6.492240</td>\n",
       "      <td>7.741099</td>\n",
       "      <td>0</td>\n",
       "      <td>0</td>\n",
       "      <td>0</td>\n",
       "      <td>0</td>\n",
       "      <td>0</td>\n",
       "      <td>0</td>\n",
       "      <td>0</td>\n",
       "      <td>...</td>\n",
       "      <td>0</td>\n",
       "      <td>0</td>\n",
       "      <td>1</td>\n",
       "      <td>0</td>\n",
       "      <td>0</td>\n",
       "      <td>0</td>\n",
       "      <td>0</td>\n",
       "      <td>1</td>\n",
       "      <td>0</td>\n",
       "      <td>0</td>\n",
       "    </tr>\n",
       "    <tr>\n",
       "      <th>7</th>\n",
       "      <td>2.708050</td>\n",
       "      <td>6.599870</td>\n",
       "      <td>5.393628</td>\n",
       "      <td>0</td>\n",
       "      <td>0</td>\n",
       "      <td>0</td>\n",
       "      <td>0</td>\n",
       "      <td>0</td>\n",
       "      <td>0</td>\n",
       "      <td>0</td>\n",
       "      <td>...</td>\n",
       "      <td>0</td>\n",
       "      <td>0</td>\n",
       "      <td>0</td>\n",
       "      <td>1</td>\n",
       "      <td>0</td>\n",
       "      <td>0</td>\n",
       "      <td>0</td>\n",
       "      <td>1</td>\n",
       "      <td>0</td>\n",
       "      <td>0</td>\n",
       "    </tr>\n",
       "    <tr>\n",
       "      <th>8</th>\n",
       "      <td>4.094345</td>\n",
       "      <td>11.941456</td>\n",
       "      <td>5.278115</td>\n",
       "      <td>0</td>\n",
       "      <td>0</td>\n",
       "      <td>1</td>\n",
       "      <td>0</td>\n",
       "      <td>0</td>\n",
       "      <td>0</td>\n",
       "      <td>0</td>\n",
       "      <td>...</td>\n",
       "      <td>0</td>\n",
       "      <td>0</td>\n",
       "      <td>0</td>\n",
       "      <td>0</td>\n",
       "      <td>0</td>\n",
       "      <td>0</td>\n",
       "      <td>1</td>\n",
       "      <td>0</td>\n",
       "      <td>0</td>\n",
       "      <td>1</td>\n",
       "    </tr>\n",
       "    <tr>\n",
       "      <th>9</th>\n",
       "      <td>3.688879</td>\n",
       "      <td>6.381816</td>\n",
       "      <td>8.532476</td>\n",
       "      <td>0</td>\n",
       "      <td>0</td>\n",
       "      <td>0</td>\n",
       "      <td>0</td>\n",
       "      <td>0</td>\n",
       "      <td>0</td>\n",
       "      <td>0</td>\n",
       "      <td>...</td>\n",
       "      <td>0</td>\n",
       "      <td>0</td>\n",
       "      <td>0</td>\n",
       "      <td>0</td>\n",
       "      <td>0</td>\n",
       "      <td>1</td>\n",
       "      <td>0</td>\n",
       "      <td>0</td>\n",
       "      <td>0</td>\n",
       "      <td>0</td>\n",
       "    </tr>\n",
       "  </tbody>\n",
       "</table>\n",
       "<p>10 rows × 391 columns</p>\n",
       "</div>"
      ],
      "text/plain": [
       "   streetwidth       size   Pricepm  mainlocation_ابو عريش  \\\n",
       "0     2.995732   6.588926  7.496097                      0   \n",
       "1     2.708050   6.109248  6.857514                      0   \n",
       "2     4.605170   7.279319  8.160804                      0   \n",
       "3     2.708050   6.086775  7.901377                      0   \n",
       "4     3.688879   6.664409  6.857514                      0   \n",
       "5     4.094345   8.695005  7.601402                      0   \n",
       "6     2.995732   6.492240  7.741099                      0   \n",
       "7     2.708050   6.599870  5.393628                      0   \n",
       "8     4.094345  11.941456  5.278115                      0   \n",
       "9     3.688879   6.381816  8.532476                      0   \n",
       "\n",
       "   mainlocation_احد رفيده  mainlocation_الجموم  mainlocation_الخبر  \\\n",
       "0                       0                    0                   0   \n",
       "1                       0                    0                   0   \n",
       "2                       0                    0                   1   \n",
       "3                       0                    0                   1   \n",
       "4                       0                    0                   0   \n",
       "5                       0                    0                   0   \n",
       "6                       0                    0                   0   \n",
       "7                       0                    0                   0   \n",
       "8                       0                    1                   0   \n",
       "9                       0                    0                   0   \n",
       "\n",
       "   mainlocation_الخرج  mainlocation_الدرعية  mainlocation_الدلم  ...  \\\n",
       "0                   0                     0                   0  ...   \n",
       "1                   0                     0                   0  ...   \n",
       "2                   0                     0                   0  ...   \n",
       "3                   0                     0                   0  ...   \n",
       "4                   0                     0                   0  ...   \n",
       "5                   0                     0                   0  ...   \n",
       "6                   0                     0                   0  ...   \n",
       "7                   0                     0                   0  ...   \n",
       "8                   0                     0                   0  ...   \n",
       "9                   0                     0                   0  ...   \n",
       "\n",
       "   frontage_جنوب شرقي  frontage_جنوب غربي  frontage_شرق  frontage_شمال  \\\n",
       "0                   0                   0             0              1   \n",
       "1                   0                   0             0              0   \n",
       "2                   0                   0             0              0   \n",
       "3                   0                   0             1              0   \n",
       "4                   0                   1             0              0   \n",
       "5                   0                   0             0              0   \n",
       "6                   0                   0             1              0   \n",
       "7                   0                   0             0              1   \n",
       "8                   0                   0             0              0   \n",
       "9                   0                   0             0              0   \n",
       "\n",
       "   frontage_شمال شرقي  frontage_شمال غربي  frontage_غرب  purpose_سكني  \\\n",
       "0                   0                   0             0             1   \n",
       "1                   0                   0             1             0   \n",
       "2                   0                   0             1             0   \n",
       "3                   0                   0             0             0   \n",
       "4                   0                   0             0             0   \n",
       "5                   0                   0             0             0   \n",
       "6                   0                   0             0             1   \n",
       "7                   0                   0             0             1   \n",
       "8                   0                   0             1             0   \n",
       "9                   0                   1             0             0   \n",
       "\n",
       "   purpose_سكني أو تجاري  purpose_غير محدد  \n",
       "0                      0                 0  \n",
       "1                      0                 1  \n",
       "2                      0                 0  \n",
       "3                      0                 1  \n",
       "4                      0                 1  \n",
       "5                      0                 0  \n",
       "6                      0                 0  \n",
       "7                      0                 0  \n",
       "8                      0                 1  \n",
       "9                      0                 0  \n",
       "\n",
       "[10 rows x 391 columns]"
      ]
     },
     "execution_count": 41,
     "metadata": {},
     "output_type": "execute_result"
    }
   ],
   "source": [
    "data.head(10)"
   ]
  },
  {
   "cell_type": "markdown",
   "id": "0d846c49",
   "metadata": {},
   "source": [
    "## 7. split the data"
   ]
  },
  {
   "cell_type": "code",
   "execution_count": 42,
   "id": "05e3e654",
   "metadata": {},
   "outputs": [],
   "source": [
    "X_train, X_test, y_train, y_test = train_test_split(data.drop('Pricepm',axis=1), \n",
    "                                                    data['Pricepm'], test_size=0.25, \n",
    "                                                    random_state=42)"
   ]
  },
  {
   "cell_type": "markdown",
   "id": "b919317f",
   "metadata": {},
   "source": [
    "## 8. Model Selection and predict score "
   ]
  },
  {
   "cell_type": "code",
   "execution_count": 43,
   "id": "6f3faaed",
   "metadata": {},
   "outputs": [
    {
     "name": "stdout",
     "output_type": "stream",
     "text": [
      "RidgeCV performance:\n",
      "Mean absolute error(MAE) = 0.26\n",
      "Mean squared error(MSE) = 0.28\n",
      "Root Mean Absolute Error (RMSE) = 0.529974477931231\n",
      "R2 score = 0.72\n"
     ]
    }
   ],
   "source": [
    "RidgeCV=linear_model.RidgeCV()\n",
    "\n",
    "RidgeCV.fit(X_train, y_train)\n",
    "\n",
    "RidgeCV_pred = RidgeCV.predict(X_test)\n",
    "\n",
    "print(\"RidgeCV performance:\")\n",
    "print(\"Mean absolute error(MAE) =\", round(sm.mean_absolute_error(y_test, RidgeCV_pred), 2))\n",
    "print(\"Mean squared error(MSE) =\", round(sm.mean_squared_error(y_test, RidgeCV_pred), 2))\n",
    "print(\"Root Mean Absolute Error (RMSE) =\", sqrt(sm.mean_squared_error(y_test, RidgeCV_pred)))\n",
    "print(\"R2 score =\", round(sm.r2_score(y_test, RidgeCV_pred), 2))"
   ]
  }
 ],
 "metadata": {
  "kernelspec": {
   "display_name": "Python 3 (ipykernel)",
   "language": "python",
   "name": "python3"
  },
  "language_info": {
   "codemirror_mode": {
    "name": "ipython",
    "version": 3
   },
   "file_extension": ".py",
   "mimetype": "text/x-python",
   "name": "python",
   "nbconvert_exporter": "python",
   "pygments_lexer": "ipython3",
   "version": "3.8.13"
  },
  "varInspector": {
   "cols": {
    "lenName": 16,
    "lenType": 16,
    "lenVar": 40
   },
   "kernels_config": {
    "python": {
     "delete_cmd_postfix": "",
     "delete_cmd_prefix": "del ",
     "library": "var_list.py",
     "varRefreshCmd": "print(var_dic_list())"
    },
    "r": {
     "delete_cmd_postfix": ") ",
     "delete_cmd_prefix": "rm(",
     "library": "var_list.r",
     "varRefreshCmd": "cat(var_dic_list()) "
    }
   },
   "types_to_exclude": [
    "module",
    "function",
    "builtin_function_or_method",
    "instance",
    "_Feature"
   ],
   "window_display": false
  }
 },
 "nbformat": 4,
 "nbformat_minor": 5
}
